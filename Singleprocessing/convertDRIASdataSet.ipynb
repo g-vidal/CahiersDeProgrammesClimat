{
 "cells": [
  {
   "cell_type": "markdown",
   "metadata": {
    "extensions": {
     "jupyter_dashboards": {
      "version": 1,
      "views": {
       "grid_default": {},
       "report_default": {
        "hidden": false
       }
      }
     }
    }
   },
   "source": [
    "\n",
    "|  |\n",
    "| ------------------------------------------------------- | \n",
    "| ![Tremplin des sciences](../images/tremplinColorSmall.png) | \n",
    "\n",
    "Cahier d'exercices pour l'enseignement du changement climat climatique ou l'apprentissage de programmation issu de la collection \"Climat et météo tremplin pour l'enseignement des sciences\" (PIA IFÉ ENS de Lyon - Météofrance ENM Toulouse). Le dispositif clef en main repose sur l'utilisation d'une RaspberryPi chargée avec le système d'exploitation Debian enrichi, produit par le projet. Les sources et les exécutables sont accessibles dans [l'espace collaboratif du pojet à l'IFÉ ENS de Lyon](https://contrib-tremplin.ens-lyon.fr/) et une copie se trouve dans [l'espace collaboratif de la forge github](https://github.com/g-vidal/CahierDeProgrammes); plus d'information sur les [blogs d'accompagnement](http://blog.climatetmeteo.fr/GerardVidal/) systèmes d'exploitation sur [la page des OS  de Raspberries Pi](http://mediaserv.climatetmeteo.fr/images/RaspBerry/DebianStretchPi3/).  Toutes les ressources issues du projet sont fournies sous licence [Creative Commons](https://creativecommons.org/licenses/by-nc/4.0/) ou sous les licences libres d'origine des outils utilisés. \n",
    "\n",
    "Les ressources  du projet **peuvent être utilisées dans tout autre environnement compatible**, notamment tous les cahiers d'exercices peuvent être exécutés sur toute machine disposant d'un python3  et des bibliothèques jupyter, jupyterlab, numpy, netcdf4. \n",
    "\n",
    "Les données _pré-traitées_ utilisées ci-dessous sont **accessibles  en ligne** sur le [serveur de données géolocalisées](http://geoloc-tremplin.ens-lyon.fr/climato-data/) `opendap` du projet tremplin.\n",
    "\n",
    "![licence : Creative Commons](../images/Licence.jpg) \n",
    "\n",
    "Auteur : G. Vidal\n",
    "\n",
    "------------------------------------------------------------"
   ]
  },
  {
   "cell_type": "markdown",
   "metadata": {},
   "source": [
    "# Une approche des enseignements autour du changement climatique : mitigation et adaptation au changement\n",
    "\n",
    "# _Phase 1 : Conversion d'un jeu de données extrait de DRIAS pour des traitements locaux et la production de graphiques ou cartes_\n",
    "\n",
    "Ce cahier d'exercices `ipython` propose une méthode de conversion d'un jeu de données issues des simulations climatiques de Météofrance. Le travail réalisé ici concerne l'explitation de trois séries de modélisations du CNRM  (RCP 2.6 - 4.5 - 8.5).  Les fichiers commandés et téléchargés sur le site  [DRIAS](http://www.drias-climat.fr/), ne peuvent être (encore) directement servis par le serveur du projet (limitation du logiciel OpenDap). Ce cahier permet de convertir ce qui a été reçu de  [DRIAS](http://www.drias-climat.fr/) et de le convertir pour permettre leur stockage en ligne puis l'utilisation directe depuis le cloud à l'aide des autres cahiers de programmes proposés par le projet sur ce site. \n",
    "\n",
    "Les programmes ci-dessous **ne peuvent pas être complètement génériques** et une interface graphique permettant de fournir interactivement les paramètres Ad-Hoc n'a pas encore été développée. Les extractions de [DRIAS](http://www.drias-climat.fr/) sont parfaitement cohérentes  et il suffit pour réutiliser ce cahier d'exercices :\n",
    "\n",
    "    1. De repérer les **noms des répertoires** où se trouvent les fichiers originaux de Drias, et le répertoire où seront sauvegardés les fichiers transformés et de les remplacer.\n",
    "    2.  De repérer les **noms des fichiers à traiter** et de les remplacer\n",
    "    3. De repérer le **nom de la variable principale** et de le remplacer si besoin (À cette fin un bloc de programmes permettant d'imprimer  les paramètres de chaque fichier est proposé il suffit de décommenter les lignes  réalisant une impression).\n",
    "\n",
    "Ce cahier manipule des données multidimensionnelles et doit être réservé à des étudiants avancés si on souhaite l'utiliser en classe. Les données concernent un carré 10 x 10 noeuds de la grille ALADIN centré sur la ville de Lyon. Le format d'entrée et de sortie est celui utilisé par les labos de climatologie, d'océanographie : `netCDF`.  Cet outil requiert l'installation des bibliothèques `netCDF4` et `numpy`."
   ]
  },
  {
   "cell_type": "markdown",
   "metadata": {},
   "source": [
    "## Préparation de l'environnement et ouverture du fichier de données\n",
    "\n",
    "Importer d'abord le module `netcdf4` et `numpy`, attention les majuscules sont impératives pour le nom `netCDF4`. Ces deux modules permettent de traiter  les fichiers multidimensionnels au format netCDF utilisés dans le monde de la météorologie et de l'océanographie principalement."
   ]
  },
  {
   "cell_type": "code",
   "execution_count": 1,
   "metadata": {},
   "outputs": [],
   "source": [
    "mport netCDF4 as nc\n",
    "import numpy as np\n",
    "from datetime import datetime\n",
    "from array import array\n",
    "import sys\n",
    "import os\n",
    "import multiprocessing as mp"
   ]
  },
  {
   "cell_type": "markdown",
   "metadata": {},
   "source": [
    "## Traitement des données par variables\n",
    "\n",
    "Importation des données depuis le fichier obtenu auprès du site [DRIAS](https://drias-prod.meteo.fr/okapi/accueil/okapiWebDrias/index.jsp) pour la région lyonnaise, construction d'un jeu de données en convertissant la totalité des variables codées en 64 bits vers un codage sur 32 bits pour que le serveur opendap les gère convenablement.\n",
    "\n",
    "Le bloc ci dessous contient la fonction qui modifie le type dela variable et récupère les autres paramètres. Ce code est conçu pour exploiter les extractions standard du site [DRIAS](https://drias-prod.meteo.fr/okapi/accueil/okapiWebDrias/index.jsp). "
   ]
  },
  {
   "cell_type": "code",
   "execution_count": 4,
   "metadata": {},
   "outputs": [],
   "source": [
    "def convert_file(localpathin, localpathout, driasfilename):\n",
    "\n",
    "    namein = localpathin + driasfilename\n",
    "    nameout = localpathout + driasfilename\n",
    "    # print (namein, '\\n',  nameout, '\\n\\n')\n",
    "    # open input file\n",
    "    orig_drias = nc.Dataset(namein, mode='r', format=\"NETCDF4\")\n",
    "    # open output file\n",
    "    # for security reasons remove the file bearing this filename\n",
    "    # ! take care not to loose important data\n",
    "    try:\n",
    "        os.remove(nameout)\n",
    "    except OSError:\n",
    "        pass\n",
    "    converted_set = nc.Dataset(nameout, mode='w', format='NETCDF4')\n",
    "\n",
    "    for thisAttr in orig_drias.ncattrs():\n",
    "        converted_set.setncattr(thisAttr, orig_drias.getncattr(thisAttr))\n",
    "    # create dimensions\n",
    "    for dimens in orig_drias.dimensions.keys():\n",
    "        this_dim = orig_drias.dimensions[dimens]\n",
    "        converted_set.createDimension(this_dim.name, this_dim.size)\n",
    "    # create variables\n",
    "    for var in orig_drias.variables.keys():\n",
    "        this_name = orig_drias.variables[var].name\n",
    "        this_type = orig_drias.variables[var].dtype\n",
    "        if this_type == 'float64':\n",
    "            this_type = 'float32'\n",
    "        this_dim = orig_drias.variables[var].dimensions\n",
    "        try:\n",
    "            orig_drias.variables[var]._FillValue\n",
    "        except AttributeError:\n",
    "            converted_set.createVariable(this_name, this_type, this_dim)\n",
    "        else:\n",
    "            converted_set.createVariable(this_name, this_type, this_dim, orig_drias.variables[var]._FillValue)\n",
    "        for thisAttr in orig_drias.variables[var].ncattrs():\n",
    "            converted_set.variables[var].setncattr(thisAttr, orig_drias.variables[var].getncattr(thisAttr))\n",
    "        converted_set.variables[var][:] = orig_drias.variables[var][:]\n",
    "\n",
    "    converted_set.close()\n",
    "    print(driasfilename, '\\t\\t', datetime.now())\n",
    "\n",
    "    return driasfilename"
   ]
  },
  {
   "cell_type": "markdown",
   "metadata": {},
   "source": [
    "## Programme principal \n",
    "\n",
    "Dans l'attente de mise en place d'interactivité avec `ipywidgets` ou `flexx` le programme principal reçoit le variables permettant d'effectuer le calcul :\n",
    "    * Le chemin du répertoire contenant les fichiers issus de [DRIAS](https://drias-prod.meteo.fr/okapi/accueil/okapiWebDrias/index.jsp)\n",
    "    * Le chemin du répertoire d'accueil des fichiers convertis (ils portent le même nom que les fichiers d'origine ils doivent donc être stockés dans un autre répertoire\n",
    "    * Un tableau contenant le nom du fichier et le nom de la variable, par défaut on conserve le nom original mais ce tableau permet éventuellement d'utiliser des noms Ad-Hoc.\n",
    "    \n",
    "Sous le bloc de code sont imprimés les noms des fichiers traités et leur horodatation."
   ]
  },
  {
   "cell_type": "code",
   "execution_count": 5,
   "metadata": {},
   "outputs": [
    {
     "name": "stdout",
     "output_type": "stream",
     "text": [
      "huss_metro_CNRM_Aladin_histo_QT_REF_19500101-20051231.nc \t\t 2019-07-14 19:28:39.430987\n",
      "huss_metro_CNRM_Aladin_rcp2.6_QT_RCP2.6_20060101-21001231.nc \t\t 2019-07-14 19:28:40.060840\n",
      "huss_metro_CNRM_Aladin_rcp4.5_QT_RCP4.5_20060101-21001231.nc \t\t 2019-07-14 19:28:40.672312\n",
      "huss_metro_CNRM_Aladin_rcp8.5_QT_RCP8.5_20060101-21001231.nc \t\t 2019-07-14 19:28:41.261681\n",
      "prsnls_metro_CNRM_Aladin_histo_QT_REF_19500101-20051231.nc \t\t 2019-07-14 19:28:41.622691\n",
      "prsnls_metro_CNRM_Aladin_rcp2.6_QT_RCP2.6_20060101-21001231.nc \t\t 2019-07-14 19:28:42.211350\n",
      "prsnls_metro_CNRM_Aladin_rcp4.5_QT_RCP4.5_20060101-21001231.nc \t\t 2019-07-14 19:28:42.799668\n",
      "prsnls_metro_CNRM_Aladin_rcp8.5_QT_RCP8.5_20060101-21001231.nc \t\t 2019-07-14 19:28:43.381917\n",
      "rstr_metro_CNRM_Aladin_histo_QT_REF_19500101-20051231.nc \t\t 2019-07-14 19:28:43.756822\n",
      "rstr_metro_CNRM_Aladin_rcp2.6_QT_RCP2.6_20060101-21001231.nc \t\t 2019-07-14 19:28:44.352587\n",
      "rstr_metro_CNRM_Aladin_rcp4.5_QT_RCP4.5_20060101-21001231.nc \t\t 2019-07-14 19:28:44.932431\n",
      "rstr_metro_CNRM_Aladin_rcp8.5_QT_RCP8.5_20060101-21001231.nc \t\t 2019-07-14 19:28:45.515412\n",
      "tasmax_metro_CNRM_Aladin_histo_QT_REF_19500101-20051231.nc \t\t 2019-07-14 19:28:45.874634\n",
      "tasmax_metro_CNRM_Aladin_rcp2.6_QT_RCP2.6_20060101-21001231.nc \t\t 2019-07-14 19:28:46.448001\n",
      "tasmax_metro_CNRM_Aladin_rcp4.5_QT_RCP4.5_20060101-21001231.nc \t\t 2019-07-14 19:28:47.029739\n",
      "tasmax_metro_CNRM_Aladin_rcp8.5_QT_RCP8.5_20060101-21001231.nc \t\t 2019-07-14 19:28:47.604148\n",
      "tasmin_metro_CNRM_Aladin_histo_QT_REF_19500101-20051231.nc \t\t 2019-07-14 19:28:47.962012\n",
      "tasmin_metro_CNRM_Aladin_rcp2.6_QT_RCP2.6_20060101-21001231.nc \t\t 2019-07-14 19:28:48.545881\n",
      "tasmin_metro_CNRM_Aladin_rcp4.5_QT_RCP4.5_20060101-21001231.nc \t\t 2019-07-14 19:28:49.118168\n",
      "tasmin_metro_CNRM_Aladin_rcp8.5_QT_RCP8.5_20060101-21001231.nc \t\t 2019-07-14 19:28:49.709554\n"
     ]
    }
   ],
   "source": [
    "# ================================= /parallel execution ========================\n",
    "\n",
    "i = 0\n",
    "\n",
    "# pathIn = '/home/vidal/TremplinDesSciences/2019/ClimatLyon/DataDrias/'\n",
    "# pathOut = '/home/vidal/TremplinDesSciences/2019/ClimatLyon/ConvertedDrias/'\n",
    "path_in = '/home/vidal/TremplinDesSciences/2019/ClimatLyon/DataDrias/Toulouse-1/'\n",
    "path_out = '/home/vidal/TremplinDesSciences/2019/ClimatLyon/ConvertedDrias/Toulouse-1/'\n",
    "\n",
    "Names = ['tasmin_metro_CNRM_Aladin_histo_QT_REF_19500101-20051231.nc',\n",
    "         'tasmin_metro_CNRM_Aladin_rcp2.6_QT_RCP2.6_20060101-21001231.nc',\n",
    "         'tasmin_metro_CNRM_Aladin_rcp4.5_QT_RCP4.5_20060101-21001231.nc',\n",
    "         'tasmin_metro_CNRM_Aladin_rcp8.5_QT_RCP8.5_20060101-21001231.nc',\n",
    "         'huss_metro_CNRM_Aladin_histo_QT_REF_19500101-20051231.nc',\n",
    "         'huss_metro_CNRM_Aladin_rcp2.6_QT_RCP2.6_20060101-21001231.nc', \n",
    "         'huss_metro_CNRM_Aladin_rcp4.5_QT_RCP4.5_20060101-21001231.nc',\n",
    "         'huss_metro_CNRM_Aladin_rcp8.5_QT_RCP8.5_20060101-21001231.nc',\n",
    "         'prsnls_metro_CNRM_Aladin_histo_QT_REF_19500101-20051231.nc',\n",
    "         'prsnls_metro_CNRM_Aladin_rcp2.6_QT_RCP2.6_20060101-21001231.nc',\n",
    "         'prsnls_metro_CNRM_Aladin_rcp4.5_QT_RCP4.5_20060101-21001231.nc',\n",
    "         'prsnls_metro_CNRM_Aladin_rcp8.5_QT_RCP8.5_20060101-21001231.nc',\n",
    "         'rstr_metro_CNRM_Aladin_histo_QT_REF_19500101-20051231.nc',\n",
    "         'rstr_metro_CNRM_Aladin_rcp2.6_QT_RCP2.6_20060101-21001231.nc',\n",
    "         'rstr_metro_CNRM_Aladin_rcp4.5_QT_RCP4.5_20060101-21001231.nc',\n",
    "         'rstr_metro_CNRM_Aladin_rcp8.5_QT_RCP8.5_20060101-21001231.nc',\n",
    "         'tasmax_metro_CNRM_Aladin_histo_QT_REF_19500101-20051231.nc',\n",
    "         'tasmax_metro_CNRM_Aladin_rcp2.6_QT_RCP2.6_20060101-21001231.nc',\n",
    "         'tasmax_metro_CNRM_Aladin_rcp4.5_QT_RCP4.5_20060101-21001231.nc',\n",
    "         'tasmax_metro_CNRM_Aladin_rcp8.5_QT_RCP8.5_20060101-21001231.nc']\n",
    "\n",
    "# ============================== linear execution ==========================\n",
    "for i, this_name in enumerate(Names):\n",
    "    convert_file(path_in, path_out, this_name)\n",
    "    i += 1\n",
    "# ============================== /linear execution =========================="
   ]
  }
 ],
 "metadata": {
  "kernelspec": {
   "display_name": "Python 3",
   "language": "python",
   "name": "python3"
  },
  "language_info": {
   "codemirror_mode": {
    "name": "ipython",
    "version": 3
   },
   "file_extension": ".py",
   "mimetype": "text/x-python",
   "name": "python",
   "nbconvert_exporter": "python",
   "pygments_lexer": "ipython3",
   "version": "3.7.3"
  }
 },
 "nbformat": 4,
 "nbformat_minor": 4
}
