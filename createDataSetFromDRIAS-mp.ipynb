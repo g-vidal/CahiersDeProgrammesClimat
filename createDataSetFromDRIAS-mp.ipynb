{
 "cells": [
  {
   "cell_type": "markdown",
   "metadata": {
    "extensions": {
     "jupyter_dashboards": {
      "version": 1,
      "views": {
       "grid_default": {},
       "report_default": {
        "hidden": false
       }
      }
     }
    }
   },
   "source": [
    "\n",
    "|  |\n",
    "| ------------------------------------------------------- | \n",
    "| ![Tremplin des sciences](images/tremplinColorSmall.png) | \n",
    "\n",
    "Cahier d'exercices pour l'enseignement du changement climat climatique ou l'apprentissage de programmation issu de la collection \"Climat et météo tremplin pour l'enseignement des sciences\" (PIA IFÉ ENS de Lyon - Météofrance ENM Toulouse). Le dispositif clef en main repose sur l'utilisation d'une RaspberryPi chargée avec le système d'exploitation Debian enrichi, produit par le projet. Les sources et les exécutables sont accessibles dans [l'espace collaboratif du pojet à l'IFÉ ENS de Lyon](https://contrib-tremplin.ens-lyon.fr/) et une copie se trouve dans [l'espace collaboratif de la forge github](https://github.com/g-vidal/CahierDeProgrammes); plus d'information sur les [blogs d'accompagnement](http://blog.climatetmeteo.fr/GerardVidal/) systèmes d'exploitation sur [la page des OS  de Raspberries Pi](http://mediaserv.climatetmeteo.fr/images/RaspBerry/DebianStretchPi3/).  Toutes les ressources issues du projet sont fournies sous licence [Creative Commons](https://creativecommons.org/licenses/by-nc/4.0/) ou sous les licences libres d'origine des outils utilisés. \n",
    "\n",
    "Les ressources  du projet **peuvent être utilisées dans tout autre environnement compatible**, notamment tous les cahiers d'exercices peuvent être exécutés sur toute machine disposant d'un python3  et des bibliothèques jupyter, jupyterlab, numpy, netcdf4. \n",
    "\n",
    "Les données _pré-traitées_ utilisées ci-dessous sont **accessibles  en ligne** sur le [serveur de données géolocalisées](http://geoloc-tremplin.ens-lyon.fr/climato-data/) `opendap` du projet tremplin.\n",
    "\n",
    "![licence : Creative Commons](images/Licence.jpg) \n",
    "\n",
    "Auteur : G. Vidal\n",
    "\n",
    "------------------------------------------------------------"
   ]
  },
  {
   "cell_type": "markdown",
   "metadata": {},
   "source": [
    "# Une approche des enseignements autour du changement climatique : mitigation et adaptation au changement\n",
    "# _Phase 2 : Création d'un jeu de données_\n",
    "\n",
    "Ce cahier d'exercices `ipython` propose une méthode d'exploration d'un jeu de données issues des simulations climatiques de Météofrance à partir d'une série de fichiers issus de [DRIAS](http://www.drias-climat.fr/), concertis par le cahier d'exercice _\"Phase 1 de cette série\"_. Le lot utilisé  est issu de trois séries de modélisations  RCP 2.6 - 4.5 - 8.5 CNRM sur une grille 10 x 10 centrée sur la ville de Lyon. Le travail a été effectué avec la température maximale, la température minimale  et la pluviométrie (soit neuf fichiers source). Les données extraites de  [DRIAS](http://www.drias-climat.fr/) peuvent contenir d'autres variables non abordées ici mais les programmes ci-dessous peuvent aisément être transposés aux varables souhaitées.  \n",
    "\n",
    "Cette seconde partie propose une méhode pour qu'un enseignant puisse extraire les données dont il a besoin d'une série de fichiers commandés sur le site [DRIAS](http://www.drias-climat.fr/), convertis et mis en ligne sur le [site du plojet](http://geoloc-tremplin.ens-lyon.fr/climato-data/). Ce site regroupe tous les échantillons produits par le projet et toutes les contributions fournies librement en suivant la procédure de la Phase1. \n",
    "\n",
    "Tous les cahiers de programmes sont libres et sous licence `creative commons` Ils sont accessibles sur la [forge du projet](https://contrib-tremplin.ens-lyon.fr/forge/). Ce cahier permet de produire un jeu de données Température/Pluviométrie autour de Lyon qui sera utilisé pour visualiser des courbes et des cartes en Phase3. Il peut être aisément modifié pour exploiter d'autres jeux de données du [site](http://geoloc-tremplin.ens-lyon.fr/climato-data/). Les cahiers d'exercices `ipython` créés peuvent être déposés et partagés sur la [forge du projet](https://contrib-tremplin.ens-lyon.fr/forge/)\n",
    "\n",
    "Ce cahier manipule des données multidimensionnelles il est directement opérationnel et peut être simplement exécuté dans jupyter toutefois il doit être réservé à des étudiants avancés si on souhaite en analyser le code. Ce cahier utilise les données d'un carré 10 x 10 noeuds de la grille ALADIN centré sur la ville de Lyon. Le format d'entrée et de sortie est celui utilisé par les labos de climatologie, d'océanographie : `netCDF`.  Cet outil requiert l'installation des outils `netCDF4` et `numpy`"
   ]
  },
  {
   "cell_type": "markdown",
   "metadata": {},
   "source": [
    "## Préparation de l'environnement et aperçu du fichier de données\n",
    "\n",
    "Importer d'abord le module `netcdf4` et `numpy`, attention les majuscules sont impératives pour le nom `netCDF4`. Ces deux modules permettent de traiter  les fichiers multidimensionnels au format netCDF utilisés dans le monde de la météorologie et de l'océanographie principalement."
   ]
  },
  {
   "cell_type": "code",
   "execution_count": 1,
   "metadata": {},
   "outputs": [],
   "source": [
    "import netCDF4 as nc\n",
    "import numpy as np\n",
    "from datetime import datetime\n",
    "from array import array\n",
    "import sys, os\n",
    "import multiprocessing as mp"
   ]
  },
  {
   "cell_type": "markdown",
   "metadata": {},
   "source": [
    "Importation des données de températures maximales depuis le fichier obtenu auprès du site [DRIAS](https://drias-prod.meteo.fr/okapi/accueil/okapiWebDrias/index.jsp) pour la région lyonnaise et intégration dans un fichier pour le traitement, puis affichage de la description du contenu, de la liste des variables.\n",
    "\n",
    "L'exemple choisi ici a été réalisé avec une grille de 10 x 10 noeuds centrés sur la ville de Lyon, pour obtenir un jeu de données depuis le site [DRIAS](https://drias-prod.meteo.fr/okapi/accueil/okapiWebDrias/index.jsp) se reporter au manuel numérique réalisé par E. Le Jan et C. Larose dans le cadre du projet \"Climat et Météo Tremplin pour l'enseignement des sciences\". \n",
    "\n",
    "Le bloc de code ci-dessous est fourni à des fins de _\"nettoyage et information\"_ il n'est pas nécessaire de l'exécuter pour atteindre le résultat il permet d'obtenir les informations sur le fichier manipulé et enlève d'éventuelles scories d'exécutionq précédentes."
   ]
  },
  {
   "cell_type": "code",
   "execution_count": 2,
   "metadata": {},
   "outputs": [
    {
     "name": "stdout",
     "output_type": "stream",
     "text": [
      "Variables disponibles : odict_keys(['i', 'j', 'time', 'tasmax', 'lat', 'lon', 'x', 'y'])\n",
      "Variables disponibles : odict_keys(['i', 'j', 'time', 'tasmin', 'lat', 'lon', 'x', 'y'])\n",
      "Variables disponibles : odict_keys(['i', 'j', 'time', 'rstr', 'lat', 'lon', 'x', 'y'])\n"
     ]
    }
   ],
   "source": [
    "# Attention Avant de recharger les fichiers locaux depuis  les sources en ligne, \n",
    "# si des fichiers locaux sont OUVERTS\n",
    "# il est nécessaire de les  fermer pour éviter des erreurs de données\n",
    "# Dans tous les autres  situations\n",
    "# L'exécution de ce bloc est inutile.\n",
    "# Close Datasets if necessary\n",
    "test1 = nc.Dataset('http://geoloc-tremplin.ens-lyon.fr/climato-data/Lyon-1/tasmax_metro_CNRM_Aladin_rcp2.6_QT_RCP2.6_20060101-21001231.nc',casting='safe')\n",
    "test2 = nc.Dataset('http://geoloc-tremplin.ens-lyon.fr/climato-data/Lyon-1/tasmin_metro_CNRM_Aladin_rcp2.6_QT_RCP2.6_20060101-21001231.nc',casting='safe')\n",
    "test3 = nc.Dataset('http://geoloc-tremplin.ens-lyon.fr/climato-data/Lyon-1/rstr_metro_CNRM_Aladin_rcp2.6_QT_RCP2.6_20060101-21001231.nc',casting='safe')\n",
    "print('Variables disponibles :',test1.variables.keys()) # get all variable names\n",
    "print('Variables disponibles :',test2.variables.keys()) # get all variable names\n",
    "print('Variables disponibles :',test3.variables.keys()) # get all variable names\n",
    "try: os.remove('tMax_26_Lyon')  # par sécurité efface le fichier portant ce nom ! attention aux pertes possibles\n",
    "except OSError : pass\n",
    "try: os.remove('tMax_45_Lyon')  # par sécurité efface le fichier portant ce nom ! attention aux pertes possibles\n",
    "except OSError : pass\n",
    "try: os.remove('tMax_85_Lyon')  # par sécurité efface le fichier portant ce nom ! attention aux pertes possibles\n",
    "except OSError : pass\n",
    "try: os.remove('tMin_26_Lyon')  # par sécurité efface le fichier portant ce nom ! attention aux pertes possibles\n",
    "except OSError : pass\n",
    "try: os.remove('tMin_45_Lyon')  # par sécurité efface le fichier portant ce nom ! attention aux pertes possibles\n",
    "except OSError : pass\n",
    "try: os.remove('tMin_85_Lyon')  # par sécurité efface le fichier portant ce nom ! attention aux pertes possibles\n",
    "except OSError : pass\n",
    "test1.close()\n",
    "test2.close()\n",
    "test3.close()"
   ]
  },
  {
   "cell_type": "markdown",
   "metadata": {},
   "source": [
    "## Récupération des données \n",
    "\n",
    "Les 3 blocs de code suivants permettent de récupérer les données  de la variable choisie de puis le serveur en ligne du projet. Les impressions sont facultatives, elles permettent de vérifier le bon déroulement de l'pération."
   ]
  },
  {
   "cell_type": "markdown",
   "metadata": {},
   "source": [
    "### Températures maximales"
   ]
  },
  {
   "cell_type": "code",
   "execution_count": 3,
   "metadata": {},
   "outputs": [],
   "source": [
    "tMax_26_Lyon = nc.Dataset('http://geoloc-tremplin.ens-lyon.fr/climato-data/Lyon-1/tasmax_metro_CNRM_Aladin_rcp2.6_QT_RCP2.6_20060101-21001231.nc',mode='r', format=\"NETCDF4\",diskless=False)\n",
    "lyon_tmax_26 = tMax_26_Lyon.variables['tasmax']\n",
    "#print('Structure et taille du tableau exporté :\\n\\t',tMax_26_Lyon.variables['tasmax'].dimensions, lyon_tmax_26.shape)"
   ]
  },
  {
   "cell_type": "code",
   "execution_count": 4,
   "metadata": {},
   "outputs": [],
   "source": [
    "tMax_45_Lyon = nc.Dataset('http://geoloc-tremplin.ens-lyon.fr/climato-data/Lyon-1/tasmax_metro_CNRM_Aladin_rcp4.5_QT_RCP4.5_20060101-21001231.nc',mode='r', format=\"NETCDF4\",diskless=False)\n",
    "lyon_tmax_45 = tMax_45_Lyon.variables['tasmax']\n",
    "#print('Structure et taille du tableau exporté :\\n\\t',tMax_45_Lyon.variables['tasmax'].dimensions, lyon_tmax_45.shape)\n",
    "#print('\\nPremière ligne de données :\\n',lyon_temp_45[0,0,:])\n",
    "#print('Dernière ligne de données :\\n',lyon_temp_45[-1,-1,:])"
   ]
  },
  {
   "cell_type": "code",
   "execution_count": 5,
   "metadata": {},
   "outputs": [],
   "source": [
    "tMax_85_Lyon = nc.Dataset('http://geoloc-tremplin.ens-lyon.fr/climato-data/Lyon-1/tasmax_metro_CNRM_Aladin_rcp8.5_QT_RCP8.5_20060101-21001231.nc',mode='r', format=\"NETCDF4\",diskless=False)\n",
    "lyon_tmax_85 = tMax_85_Lyon.variables['tasmax']\n",
    "#print('Structure et taille du tableau exporté :\\n\\t',tMax_85_Lyon.variables['tasmax'].dimensions, lyon_tmax_85.shape)\n",
    "#print('\\nPremière ligne de données :\\n',lyon_temp_85[0,0,:])\n",
    "#print('Dernière ligne de données :\\n',lyon_temp_85[-1,-1,:])"
   ]
  },
  {
   "cell_type": "markdown",
   "metadata": {},
   "source": [
    "### Températures minimales"
   ]
  },
  {
   "cell_type": "code",
   "execution_count": 6,
   "metadata": {},
   "outputs": [],
   "source": [
    "tMin_26_Lyon = nc.Dataset('http://geoloc-tremplin.ens-lyon.fr/climato-data/Lyon-1/tasmin_metro_CNRM_Aladin_rcp2.6_QT_RCP2.6_20060101-21001231.nc',mode='r', format=\"NETCDF4\",diskless=False)\n",
    "lyon_tmin_26 = tMin_26_Lyon.variables['tasmin']\n",
    "#print('Structure et taille du tableau exporté :\\n\\t',tMin_26_Lyon.variables['tasmin'].dimensions, lyon_tmin_26.shape)\n",
    "#print('\\nPremière ligne de données :\\n',lyon_temp_26[0,0,:])\n",
    "#print('Dernière ligne de données :\\n',lyon_temp_26[-1,-1,:])"
   ]
  },
  {
   "cell_type": "code",
   "execution_count": 7,
   "metadata": {},
   "outputs": [],
   "source": [
    "tMin_45_Lyon = nc.Dataset('http://geoloc-tremplin.ens-lyon.fr/climato-data/Lyon-1/tasmin_metro_CNRM_Aladin_rcp4.5_QT_RCP4.5_20060101-21001231.nc',mode='r', format=\"NETCDF4\",diskless=False)\n",
    "lyon_tmin_45 = tMin_45_Lyon.variables['tasmin']\n",
    "#print('Structure et taille du tableau exporté :\\n\\t',tMin_45_Lyon.variables['tasmin'].dimensions, lyon_tmin_45.shape)\n",
    "#print('\\nPremière ligne de données :\\n',lyon_temp_45[0,0,:])\n",
    "#print('Dernière ligne de données :\\n',lyon_temp_45[-1,-1,:])"
   ]
  },
  {
   "cell_type": "code",
   "execution_count": 8,
   "metadata": {},
   "outputs": [],
   "source": [
    "tMin_85_Lyon = nc.Dataset('http://geoloc-tremplin.ens-lyon.fr/climato-data/Lyon-1/tasmin_metro_CNRM_Aladin_rcp8.5_QT_RCP8.5_20060101-21001231.nc',mode='r', format=\"NETCDF4\",diskless=False)\n",
    "lyon_tmin_85 = tMin_85_Lyon.variables['tasmin']\n",
    "#print('Structure et taille du tableau exporté :\\n\\t',tMin_85_Lyon.variables['tasmin'].dimensions, lyon_tmin_85.shape)\n",
    "#print('\\nPremière ligne de données :\\n',lyon_temp_85[0,0,:])\n",
    "#print('Dernière ligne de données :\\n',lyon_temp_85[-1,-1,:])"
   ]
  },
  {
   "cell_type": "markdown",
   "metadata": {},
   "source": [
    "### Pluviométrie"
   ]
  },
  {
   "cell_type": "code",
   "execution_count": 9,
   "metadata": {},
   "outputs": [],
   "source": [
    "rstr_26_Lyon = nc.Dataset('http://geoloc-tremplin.ens-lyon.fr/climato-data/Lyon-1/rstr_metro_CNRM_Aladin_rcp2.6_QT_RCP2.6_20060101-21001231.nc',mode='r', format=\"NETCDF4\",diskless=False)\n",
    "lyon_rstr_26 = rstr_26_Lyon.variables['rstr'][:]\n",
    "#print('Structure et taille du tableau exporté :\\n\\t',rstr_26_Lyon.variables['rstr'].dimensions, lyon_rstr_26.shape)\n",
    "#print('\\nPremière ligne de données :\\n',lyon_rstr_26[0,0,:])\n",
    "#print('Dernière ligne de données :\\n',lyon_rstr_26[-1,-1,:])"
   ]
  },
  {
   "cell_type": "code",
   "execution_count": 10,
   "metadata": {},
   "outputs": [],
   "source": [
    "rstr_45_Lyon = nc.Dataset('http://geoloc-tremplin.ens-lyon.fr/climato-data/Lyon-1/rstr_metro_CNRM_Aladin_rcp4.5_QT_RCP4.5_20060101-21001231.nc',mode='r', format=\"NETCDF4\",diskless=False)\n",
    "lyon_rstr_45 = rstr_45_Lyon.variables['rstr'][:]\n",
    "#print('Structure et taille du tableau exporté :\\n\\t',rstr_45_Lyon.variables['rstr'].dimensions, lyon_rstr_45.shape)\n",
    "#print('\\nPremière ligne de données :\\n',lyon_rstr_45[0,0,:])\n",
    "#print('Dernière ligne de données :\\n',lyon_rstr_45[-1,-1,:])"
   ]
  },
  {
   "cell_type": "code",
   "execution_count": 11,
   "metadata": {},
   "outputs": [],
   "source": [
    "rstr_85_Lyon = nc.Dataset('http://geoloc-tremplin.ens-lyon.fr/climato-data/Lyon-1/rstr_metro_CNRM_Aladin_rcp8.5_QT_RCP8.5_20060101-21001231.nc',mode='r', format=\"NETCDF4\",diskless=False)\n",
    "lyon_rstr_85 = rstr_85_Lyon.variables['rstr'][:]\n",
    "#print('Structure et taille du tableau exporté :\\n\\t',rstr_85_Lyon.variables['rstr'].dimensions, lyon_rstr_85.shape)\n",
    "#print('\\nPremière ligne de données :\\n',lyon_temp_26[0,0,:])\n",
    "#print('Dernière ligne de données :\\n',lyon_temp_26[-1,-1,:])"
   ]
  },
  {
   "cell_type": "markdown",
   "metadata": {},
   "source": [
    "## Récupération des paramètres de l'extraction (dates, i-j Aladin, lat-lon, x-y) \n",
    "\n",
    "À partir de la liste des variables obtenue ci-dessus on renomme les jeux de données de chacune des variables qui seront exploitées apour effectuer les calculs et contrôle de la taille des échantillons. Les affichages proposés permettent de contrôler que les paramètres présents sont effectivement ceux qui sont attendus."
   ]
  },
  {
   "cell_type": "code",
   "execution_count": 12,
   "metadata": {},
   "outputs": [
    {
     "name": "stdout",
     "output_type": "stream",
     "text": [
      "Taille du tableau de dates -  (34698,)\n",
      "Date de début de la simulation :  Sun Jan  1 00:00:00 2006\n",
      "Date de fin de la simulation :  Fri Dec 31 00:00:00 2100\n",
      "Emprise du projet en latititude-Longitude ;\n",
      " 45.423668 # 4.3302917  ::  46.050774 # 5.2839203\n",
      "Emprise du projet en x-y mètres ;\n",
      " 756000 # 2049000  ::  828000 # 2121000\n",
      "Emprise du projet en noeuds ALADIN ;\n",
      " 88.0 # 55.0  ::  97.0 # 64.0\n"
     ]
    }
   ],
   "source": [
    "lyon_date = tMax_26_Lyon.variables['time']\n",
    "print('Taille du tableau de dates - ',lyon_date.shape)\n",
    "print('Date de début de la simulation : ',nc.num2date(lyon_date[0],lyon_date.units).strftime(\"%c\"))\n",
    "print('Date de fin de la simulation : ',nc.num2date(lyon_date[-1],lyon_date.units).strftime(\"%c\"))\n",
    "lyon_lat,lyon_lon = tMax_26_Lyon.variables['lat'], tMax_26_Lyon.variables['lon'] # latitude longitude\n",
    "print('Emprise du projet en latititude-Longitude ;\\n', lyon_lat[0][0],'#',lyon_lon[0][0],' :: ',lyon_lat[-1][-1],'#',lyon_lon[-1][-1])\n",
    "lyon_x,lyon_y = tMax_26_Lyon.variables['x'], tMax_26_Lyon.variables['y']  # coordonnées métriques\n",
    "print('Emprise du projet en x-y mètres ;\\n', lyon_x[0],'#',lyon_y[0],' :: ',lyon_x[-1],'#',lyon_y[-1])\n",
    "lyon_gridi,lyon_gridj = tMax_26_Lyon.variables['i'], tMax_26_Lyon.variables['j'] # coordonnées grille Aladin\n",
    "print('Emprise du projet en noeuds ALADIN ;\\n', lyon_gridi[0],'#',lyon_gridj[0],' :: ',lyon_gridi[-1],'#',lyon_gridj[-1])"
   ]
  },
  {
   "cell_type": "markdown",
   "metadata": {},
   "source": [
    "## Création d'un fichier de sauvegarde des moyennes mensuelles\n",
    "\n",
    "Il a été pris le parti d'aborder les données sous la forme de moyennes mensuelles entre 2006 et 2100, ces données pourront ensuite être exploitées pour afficher l'évolution des tendances climatiques sur des intervalles de temps choisis par l'utilisateur. Ce chapitre inclut les deux étapes de création du container puis de calcul des valeurs des moyennes.\n",
    "\n",
    "Le format choisi est le même que celui utilisé par météofrance pour fournir les données [NETCDF](https://www.unidata.ucar.edu/software/netcdf/), ce format est complexe mais permet aisément de stocker des données multidimensionnelles et il est accompagné d'outils numériques permettant d'explorer efficacement cet espace multidimensionnel.\n",
    "\n",
    "Le premier bloc **effece un fichier qui porterait le même nom** et crée un nouveau fichier vide pour accueillir les valeurs moyennes calculées pour chaque noeud de la grille  traitée.\n"
   ]
  },
  {
   "cell_type": "code",
   "execution_count": 13,
   "metadata": {},
   "outputs": [],
   "source": [
    "try: os.remove('tmin-tmax-rstr_Lyon_26-45-85.nc')  # par sécurité efface le fichier portadatain = numpy.array(['foo','bar'],dtype='S3')nt ce nom ! attention aux pertes possibles\n",
    "except OSError : pass\n",
    "extractParamsYearMonth = nc.Dataset('tmin-tmax-rstr_Lyon_26-45-85.nc',mode='w',format='NETCDF4')"
   ]
  },
  {
   "cell_type": "markdown",
   "metadata": {},
   "source": [
    "## Construction du jeu de paramètres : année mois latitude longitude x y\n",
    "\n",
    "Définition et affectation des variables où sont copiées les paramètres de la grille et où seront stockés les résultats des calculs. Les affichages permettent de vérifier la validité des données utilisées.\n"
   ]
  },
  {
   "cell_type": "markdown",
   "metadata": {},
   "source": [
    "Paramétrage du calcul on peut agir ici sur l'intervalle de temps que l'on souhaite traiter. mes autres paramètres sont fixés."
   ]
  },
  {
   "cell_type": "code",
   "execution_count": 14,
   "metadata": {},
   "outputs": [
    {
     "name": "stdout",
     "output_type": "stream",
     "text": [
      "DateTime de départ  de l'étude :  2006 \n",
      "DateTime de fin  de l'étude :  2100 \n",
      "Durée de l'étude :  95 ans \n",
      "Nb de mois dans l'année :  12\n"
     ]
    }
   ],
   "source": [
    "# tableau du nom des mois\n",
    "listmonth = np.array(['Jan', 'Feb', 'Mar', 'Apr', 'May', 'Jun', 'Jul',\n",
    "            'Aug', 'Sep', 'Oct', 'Nov', 'Dec', 'All'])\n",
    "# Tableau du nombre de jours par mois année ordinaire\n",
    "lenMonthA =[31,28,31,30,31,30,31,31,30,31,30,31]\n",
    "# Tableau du nombre de jours par mois année bissextile\n",
    "lenMonthB =[31,29,31,30,31,30,31,31,30,31,30,31]\n",
    "# Conversion en nombre entier des années extrêmes\n",
    "#==============================================================\n",
    "#==  Choix de la première et de la dernière année de l'étude ==\n",
    "#==============================================================\n",
    "firstYear = 2006\n",
    "lastYear = 2100\n",
    "#==============================================================\n",
    "# Détermination de la taille des tableaux de calcul\n",
    "sizeMonths = len(listmonth)\n",
    "twelvMonths = sizeMonths - 1\n",
    "sizeyears = lastYear - firstYear + 1\n",
    "sizegridi = lyon_gridi.shape[0]\n",
    "sizegridj = lyon_gridj.shape[0]\n",
    "print (\"DateTime de départ  de l'étude : \", firstYear,\n",
    "      \"\\nDateTime de fin  de l'étude : \", lastYear,\n",
    "      \"\\nDurée de l'étude : \", sizeyears, 'ans',\n",
    "      \"\\nNb de mois dans l'année : \", twelvMonths)"
   ]
  },
  {
   "cell_type": "markdown",
   "metadata": {},
   "source": [
    "## Dimensions de la grille de sortie"
   ]
  },
  {
   "cell_type": "code",
   "execution_count": 15,
   "metadata": {},
   "outputs": [
    {
     "data": {
      "text/plain": [
       "<class 'netCDF4._netCDF4.Dimension'>: name = 'year', size = 95"
      ]
     },
     "execution_count": 15,
     "metadata": {},
     "output_type": "execute_result"
    }
   ],
   "source": [
    "#\n",
    "# Création des dimensions du tableau mois et année sont séparés pour disjoindre les traitements sur ces variables\n",
    "#\n",
    "extractParamsYearMonth.createDimension('i', sizegridi)     # latitude axis\n",
    "extractParamsYearMonth.createDimension('j', sizegridj)    # longitude axis\n",
    "extractParamsYearMonth.createDimension('month', sizeMonths)    # month axis\n",
    "extractParamsYearMonth.createDimension('year', sizeyears) # year axis"
   ]
  },
  {
   "cell_type": "markdown",
   "metadata": {},
   "source": [
    "## Variables de stockage des résultats"
   ]
  },
  {
   "cell_type": "code",
   "execution_count": 16,
   "metadata": {},
   "outputs": [],
   "source": [
    "tmax_26 = extractParamsYearMonth.createVariable('tmax_26','f4',('year','month','j','i'),fill_value=1.e+20)\n",
    "tmax_26.units = 'degree C' # degrees Celsius\n",
    "tmax_26.standard_name = tMax_26_Lyon.variables['tasmax'].standard_name # this is a CF standard name\n",
    "tmax_26.long_name = tMax_26_Lyon.variables['tasmax'].long_name\n",
    "tmax_26.cell_methods = tMax_26_Lyon.variables['tasmax'].cell_methods\n",
    "tmax_26.coordinates = tMax_26_Lyon.variables['tasmax'].coordinates\n",
    "tmax_26.missing_value = tMax_26_Lyon.variables['tasmax'].missing_value\n",
    "tmax_45 = extractParamsYearMonth.createVariable('tmax_45','f4',('year','month','j','i'),fill_value=1.e+20)\n",
    "tmax_45.units = 'degree C' # degrees Celsius\n",
    "tmax_45.standard_name = tMax_45_Lyon.variables['tasmax'].standard_name # this is a CF standard name\n",
    "tmax_45.long_name = tMax_45_Lyon.variables['tasmax'].long_name\n",
    "tmax_45.cell_methods = tMax_45_Lyon.variables['tasmax'].cell_methods\n",
    "tmax_45.coordinates = tMax_45_Lyon.variables['tasmax'].coordinates\n",
    "tmax_45.missing_value = tMax_45_Lyon.variables['tasmax'].missing_value\n",
    "tmax_85 = extractParamsYearMonth.createVariable('tmax_85','f4',('year','month','j','i'),fill_value=1.e+20)\n",
    "tmax_85.units = 'degree C' # degrees Celsius\n",
    "tmax_85.standard_name = tMax_85_Lyon.variables['tasmax'].standard_name # this is a CF standard name\n",
    "tmax_85.long_name = tMax_85_Lyon.variables['tasmax'].long_name\n",
    "tmax_85.cell_methods = tMax_85_Lyon.variables['tasmax'].cell_methods\n",
    "tmax_85.coordinates = tMax_85_Lyon.variables['tasmax'].coordinates\n",
    "tmax_85.missing_value = tMax_85_Lyon.variables['tasmax'].missing_value\n",
    "tmin_26 = extractParamsYearMonth.createVariable('tmin_26','f4',('year','month','j','i'),fill_value=1.e+20)\n",
    "tmin_26.units = 'degree C' # degrees Celsius\n",
    "tmin_26.standard_name = tMin_26_Lyon.variables['tasmin'].standard_name # this is a CF standard name\n",
    "tmin_26.long_name = tMin_26_Lyon.variables['tasmin'].long_name\n",
    "tmin_26.cell_methods = tMin_26_Lyon.variables['tasmin'].cell_methods\n",
    "tmin_26.coordinates = tMin_26_Lyon.variables['tasmin'].coordinates\n",
    "tmin_26.missing_value = tMin_26_Lyon.variables['tasmin'].missing_value\n",
    "tmin_45 = extractParamsYearMonth.createVariable('tmin_45','f4',('year','month','j','i'),fill_value=1.e+20)\n",
    "tmin_45.units = 'degree C' # degrees Celsius\n",
    "tmin_45.standard_name = tMin_45_Lyon.variables['tasmin'].standard_name # this is a CF standard name\n",
    "tmin_45.long_name = tMin_45_Lyon.variables['tasmin'].long_name\n",
    "tmin_45.cell_methods = tMin_45_Lyon.variables['tasmin'].cell_methods\n",
    "tmin_45.coordinates = tMin_45_Lyon.variables['tasmin'].coordinates\n",
    "tmin_45.missing_value = tMin_45_Lyon.variables['tasmin'].missing_value\n",
    "tmin_85 = extractParamsYearMonth.createVariable('tmin_85','f4',('year','month','j','i'),fill_value=1.e+20)\n",
    "tmin_85.units = 'degree C' # degrees Celsius\n",
    "tmin_85.standard_name = tMin_85_Lyon.variables['tasmin'].standard_name # this is a CF standard name\n",
    "tmin_85.long_name = tMin_85_Lyon.variables['tasmin'].long_name\n",
    "tmin_85.cell_methods = tMin_85_Lyon.variables['tasmin'].cell_methods\n",
    "tmin_85.coordinates = tMin_85_Lyon.variables['tasmin'].coordinates\n",
    "tmin_85.missing_value = tMin_85_Lyon.variables['tasmin'].missing_value\n",
    "rstr_26 = extractParamsYearMonth.createVariable('rstr_26','f4',('year','month','j','i'),fill_value=1.e+20)\n",
    "rstr_26.units = rstr_26_Lyon.variables['rstr'].units # mm par jour\n",
    "rstr_26.standard_name = rstr_26_Lyon.variables['rstr'].standard_name # this is a CF standard name\n",
    "rstr_26.long_name = rstr_26_Lyon.variables['rstr'].long_name\n",
    "rstr_26.cell_methods = rstr_26_Lyon.variables['rstr'].cell_methods\n",
    "rstr_26.coordinates = rstr_26_Lyon.variables['rstr'].coordinates\n",
    "rstr_26.missing_value = rstr_26_Lyon.variables['rstr'].missing_value\n",
    "rstr_45 = extractParamsYearMonth.createVariable('rstr_45','f4',('year','month','j','i'),fill_value=1.e+20)\n",
    "rstr_45.units = rstr_45_Lyon.variables['rstr'].units # mm par jour\n",
    "rstr_45.standard_name = rstr_45_Lyon.variables['rstr'].standard_name # this is a CF standard name\n",
    "rstr_45.long_name = rstr_45_Lyon.variables['rstr'].long_name\n",
    "rstr_45.cell_methods = rstr_45_Lyon.variables['rstr'].cell_methods\n",
    "rstr_45.coordinates = rstr_45_Lyon.variables['rstr'].coordinates\n",
    "rstr_45.missing_value = rstr_45_Lyon.variables['rstr'].missing_value\n",
    "rstr_85 = extractParamsYearMonth.createVariable('rstr_85','f4',('year','month','j','i'),fill_value=1.e+20)\n",
    "rstr_85.units = rstr_85_Lyon.variables['rstr'].units # mm par jour\n",
    "rstr_85.standard_name = rstr_85_Lyon.variables['rstr'].standard_name # this is a CF standard name\n",
    "rstr_85.long_name = rstr_85_Lyon.variables['rstr'].long_name\n",
    "rstr_85.cell_methods = rstr_85_Lyon.variables['rstr'].cell_methods\n",
    "rstr_85.coordinates = rstr_85_Lyon.variables['rstr'].coordinates\n",
    "rstr_85.missing_value = rstr_85_Lyon.variables['rstr'].missing_value\n",
    "rstrc_26 = extractParamsYearMonth.createVariable('rstrc_26','f4',('year','month','j','i'),fill_value=1.e+20)\n",
    "rstrc_26.units = rstr_26_Lyon.variables['rstr'].units # mm par jour\n",
    "rstrc_26.standard_name = 'largescale_cumRainfall_flux26' # this is a CF standard name\n",
    "rstrc_26.long_name = rstr_26_Lyon.variables['rstr'].long_name\n",
    "rstrc_26.cell_methods = rstr_26_Lyon.variables['rstr'].cell_methods\n",
    "rstrc_26.coordinates = rstr_26_Lyon.variables['rstr'].coordinates\n",
    "rstrc_26.missing_value = rstr_26_Lyon.variables['rstr'].missing_value\n",
    "rstrc_45 = extractParamsYearMonth.createVariable('rstrc_45','f4',('year','month','j','i'),fill_value=1.e+20)\n",
    "rstrc_45.units = rstr_45_Lyon.variables['rstr'].units # mm par jour\n",
    "rstrc_45.long_name = rstr_45_Lyon.variables['rstr'].long_name\n",
    "rstrc_45.cell_methods = rstr_45_Lyon.variables['rstr'].cell_methods\n",
    "rstrc_45.coordinates = rstr_45_Lyon.variables['rstr'].coordinates\n",
    "rstrc_45.missing_value = rstr_45_Lyon.variables['rstr'].missing_value\n",
    "rstrc_45.standard_name = 'largescale_cumRainfall_flux_45' # this is a CF standard name\n",
    "rstrc_85 = extractParamsYearMonth.createVariable('rstrc_85','f4',('year','month','j','i'),fill_value=1.e+20)\n",
    "rstrc_85.units = rstr_85_Lyon.variables['rstr'].units # mm par jour\n",
    "rstrc_85.standard_name = 'largescale_cumRainfall_flux_85' # this is a CF standard name\n",
    "rstrc_85.long_name = rstr_85_Lyon.variables['rstr'].long_name\n",
    "rstrc_85.cell_methods = rstr_85_Lyon.variables['rstr'].cell_methods\n",
    "rstrc_85.coordinates = rstr_85_Lyon.variables['rstr'].coordinates\n",
    "rstrc_85.missing_value = rstr_85_Lyon.variables['rstr'].missing_value\n",
    "extractParamsYearMonth.title = 'Extrait TSMax par moyenne mensuelle de 2006 a 2100 Lyon et sa region'\n",
    "extractParamsYearMonth.institution = 'ENS de Lyon'\n",
    "extractParamsYearMonth.institute_id = 'IFE Institut Francais de l Education'\n",
    "extractParamsYearMonth.project_id = 'Climat et meteo tremplin pour l enseignement des sciences'\n",
    "extractParamsYearMonth.model_id = 'CNRM-ALADIN52'\n",
    "extractParamsYearMonth.product = 'output derived from Meteofrance DRIAS data'\n",
    "extractParamsYearMonth.contact = 'gerard.vidal@ens-lyon.fr'\n",
    "extractParamsYearMonth.creation_date = str(datetime.now())\n",
    "extractParamsYearMonth.driving_experiment_name = 'DRIAS2014'\n",
    "extractParamsYearMonth.experiment = 'RCP2.6 RCP4.5 RCP8.5 '\n",
    "extractParamsYearMonth.model = 'ALADIN-Climat'\n",
    "extractParamsYearMonth.author = 'Gerard Vidal'\n",
    "extractParamsYearMonth.comment = \"Extraction des moyennes de la region Lyonnaise de 2006 a 2100 et changegement des variables\"\n",
    "\n",
    "# Define two variables with the same names as dimensions,\n",
    "# a conventional way to define \"coordinate variables\".\n",
    "i = extractParamsYearMonth.createVariable('i', 'i4', ('i',))\n",
    "i.long_name =  tMax_26_Lyon.variables['i'].long_name\n",
    "j = extractParamsYearMonth.createVariable('j', 'i4', ('j',))\n",
    "j.long_name = tMax_26_Lyon.variables['j'].long_name\n",
    "lat = extractParamsYearMonth.createVariable('lat', 'f4', ('j','i'))\n",
    "lat.units = tMax_26_Lyon.variables['lat'].units\n",
    "lat.long_name =  tMax_26_Lyon.variables['lat'].long_name\n",
    "lat.standard_name =  tMax_26_Lyon.variables['lat'].standard_name\n",
    "lat._CoordinateAxisType =  tMax_26_Lyon.variables['lat']._CoordinateAxisType\n",
    "lon = extractParamsYearMonth.createVariable('lon', 'f4', ('j','i',))\n",
    "lon.units =  tMax_26_Lyon.variables['lon'].units\n",
    "lon.long_name = tMax_26_Lyon.variables['lon'].long_name\n",
    "lon.standard_name = tMax_26_Lyon.variables['lon'].standard_name\n",
    "lon._CoordinateAxisType = tMax_26_Lyon.variables['lat']._CoordinateAxisType\n",
    "x = extractParamsYearMonth.createVariable('x', 'i4', ('i',))\n",
    "x.units = tMax_26_Lyon.variables['x'].units\n",
    "x.long_name = tMax_26_Lyon.variables['x'].long_name\n",
    "x.standard_name = tMax_26_Lyon.variables['x'].standard_name\n",
    "y = extractParamsYearMonth.createVariable('y', 'i4', ('j',))\n",
    "y.units = tMax_26_Lyon.variables['y'].units\n",
    "y.long_name = tMax_26_Lyon.variables['y'].long_name\n",
    "y.standard_name = tMax_26_Lyon.variables['y'].standard_name\n",
    "month = extractParamsYearMonth.createVariable('month','S3', ('month',))\n",
    "month.units = 'month'\n",
    "month.long_name = 'month_name'\n",
    "month.standard_name = 'month_name'\n",
    "year = extractParamsYearMonth.createVariable('year', 'u4', ('year',))\n",
    "year.units = 'date'\n",
    "year.long_name = 'year'\n",
    "year.standard_name = 'year'\n",
    "# Filling variables with  source data\n",
    "i[:] = lyon_gridi[:]\n",
    "j[:] = lyon_gridj[:]\n",
    "lat[:] = lyon_lat[:,:]\n",
    "lon[:] = lyon_lon[:,:]\n",
    "x[:] = lyon_x[:]\n",
    "y[:] = lyon_y[:]\n",
    "# Filling new variables\n",
    "month[:] = listmonth[:]\n",
    "dd = 0\n",
    "for date in range (firstYear,lastYear+1) :\n",
    "    year[dd] = date\n",
    "    dd +=1"
   ]
  },
  {
   "cell_type": "markdown",
   "metadata": {},
   "source": [
    "## Fermeture  des fichiers utilisés pour dimensions et variables"
   ]
  },
  {
   "cell_type": "code",
   "execution_count": 17,
   "metadata": {},
   "outputs": [],
   "source": [
    "tMax_26_Lyon.close()\n",
    "tMax_45_Lyon.close()\n",
    "tMax_85_Lyon.close()\n",
    "tMin_26_Lyon.close()\n",
    "tMin_45_Lyon.close()\n",
    "tMin_85_Lyon.close()\n",
    "rstr_26_Lyon.close()\n",
    "rstr_45_Lyon.close()\n",
    "rstr_85_Lyon.close()"
   ]
  },
  {
   "cell_type": "markdown",
   "metadata": {},
   "source": [
    "## Fonction de calcul des températures"
   ]
  },
  {
   "cell_type": "code",
   "execution_count": 18,
   "metadata": {},
   "outputs": [],
   "source": [
    "#========== Function addFileMeanTKToSet ====================================\n",
    "def addFileMeanTKToSet (ii, localPath, names) :\n",
    "\n",
    "    global extractParamsYearMonth, twelvMonths, lenMonthA,lenMonthB\n",
    "    global firstYear, sizeyears, sizeMonths, sizegridj, sizegridi\n",
    "    driasFileName = names[0]\n",
    "    tempoName = names[1]\n",
    "    varOutName = names[2]\n",
    "    var = names[3]\n",
    "    minmax = names[4]\n",
    "    nameIn = localPath + driasFileName\n",
    "    lyonDataSet = nc.Dataset(nameIn,mode='r', format=\"NETCDF4\")\n",
    "    selectVar = lyonDataSet.variables[var]\n",
    "    tempoName = np.zeros((sizeyears,sizeMonths,sizegridj,sizegridi), dtype=np.float32)\n",
    "    thisSetDates = lyonDataSet.variables['time']\n",
    "    initialYearDate = nc.date2num(datetime(2006,1,1),thisSetDates.units)\n",
    "    firstYearDate = nc.date2num(datetime(firstYear,1,1),thisSetDates.units)\n",
    "#    print('shape',thisSetDates.shape)\n",
    "#    print ('initialYearDate firstYearDate',initialYearDate,firstYearDate)\n",
    "    startYear = 0\n",
    "    stopYear = sizeyears\n",
    "    iteri = 0\n",
    "    yeardate = initialYearDate\n",
    "    while yeardate < firstYearDate :\n",
    "        iteri +=  1\n",
    "        yeardate += 24 # 24 hours a day ! we are counting in hours\n",
    "    iteriFirst = iteri\n",
    "#    thisDate = nc.num2date(thisSetDates[iteri],thisSetDates.units).strftime(\"%c\")\n",
    "#    print('iteri thisDate',iteri,thisDate)\n",
    "#    print('début -> fin, iterifirst : ', startYear,stopYear,iteriFirst)\n",
    "#    print ('theseDates[iteri] :', theseDates[iteri], theseDates[100],theseDates[1000])\n",
    "\n",
    "    for iterj in  range(startYear,stopYear) :\n",
    "\n",
    "        thisDate = nc.num2date(thisSetDates[iteri],thisSetDates.units).strftime(\"%c\")\n",
    "        thisYear = int(nc.num2date(thisSetDates[iteri],thisSetDates.units).strftime(\"%Y\"))\n",
    "        #\n",
    "        # Compteur permettant de suivre l'avancement du calcul et le fait que chaque année\n",
    "        # commence bien le 1er janvier à 00h00 (suivi correct des mois et années bissextiles)\n",
    "        #\n",
    "        print('\\r',varOutName, iterj,str(thisDate), end = \"\")\n",
    "        if (thisYear % 4 == 0) :\n",
    "            for p in range(len(lenMonthB)) :\n",
    "                iteriLast = iteri + lenMonthB[p]\n",
    "                # moyenne du mois année bissextile\n",
    "                tempoName[iterj,p,:,:] = np.mean(selectVar[iteri:iteriLast,:,:] - 273, axis=0,dtype=np.float32)\n",
    "                iteri = iteriLast\n",
    "        else :\n",
    "            for p in range(len(lenMonthA)) :\n",
    "                iteriLast = iteri + lenMonthA[p]\n",
    "                # moyenne du mois année ordinaire\n",
    "                tempoName[iterj,p,:,:] = np.mean(selectVar[iteri:iteriLast,:,:] - 273, axis=0,dtype=np.float32)\n",
    "                iteri = iteriLast\n",
    "        # max ou min de l'année\n",
    "        if minmax == 'max' :\n",
    "            tempoName[iterj,len(lenMonthA),:,:] = np.amax(tempoName[iterj,0:twelvMonths,:,:], axis=0)\n",
    "        elif minmax == 'min' :\n",
    "            tempoName[iterj,len(lenMonthA),:,:] = np.amin(tempoName[iterj,0:twelvMonths,:,:], axis=0)\n",
    "        else :\n",
    "            print('\\nError on function min or max\\n')\n",
    "        #print('\\n',tempoName[iterj,len(lenMonthA),5,5])\n",
    "\n",
    "    lyonDataSet.close()\n",
    "    #print ('\\nend', tempoName[:])\n",
    "    #print ('\\nend', tempoName)\n",
    "    return(ii, tempoName)\n"
   ]
  },
  {
   "cell_type": "markdown",
   "metadata": {},
   "source": [
    "## Fonction de calcul de la pluviométrie"
   ]
  },
  {
   "cell_type": "code",
   "execution_count": 19,
   "metadata": {},
   "outputs": [],
   "source": [
    "#==========Function addFileMeanTCToSet ====================================\n",
    "def addFileMeanTCToSet (jj, localPath, names) :\n",
    "\n",
    "    global extractParamsYearMonth, twelvMonths, lenMonthA,lenMonthB\n",
    "    global firstYear, sizeyears, sizeMonths, sizegridj, sizegridi\n",
    "    driasFileName = names[0]\n",
    "    tempoName = names[1]\n",
    "    varOutName = names[2]\n",
    "    var = names[3]\n",
    "    nameIn = localPath + driasFileName\n",
    "    lyonDataSet = nc.Dataset(nameIn,mode='r', format=\"NETCDF4\")\n",
    "    selectVar = lyonDataSet.variables[var]\n",
    "    tempoName = np.zeros((sizeyears,sizeMonths,sizegridj,sizegridi), dtype=np.float32)\n",
    "    thisSetDates = lyonDataSet.variables['time']\n",
    "    initialYearDate = nc.date2num(datetime(2006,1,1),thisSetDates.units)\n",
    "    firstYearDate = nc.date2num(datetime(firstYear,1,1),thisSetDates.units)\n",
    "#    print('shape',thisSetDates.shape)\n",
    "#    print ('initialYearDate firstYearDate',initialYearDate,firstYearDate)\n",
    "    startYear = 0\n",
    "    stopYear = sizeyears\n",
    "    iteri = 0\n",
    "    yeardate = initialYearDate\n",
    "    while yeardate < firstYearDate :\n",
    "        iteri +=  1\n",
    "        yeardate += 24 # 24 hours a day ! we are counting in hours\n",
    "    iteriFirst = iteri\n",
    "#    thisDate = nc.num2date(thisSetDates[iteri],thisSetDates.units).strftime(\"%c\")\n",
    "#    print('iteri thisDate',iteri,thisDate)\n",
    "#    print('début -> fin, iterifirst : ', startYear,stopYear,iteriFirst)\n",
    "#    print ('theseDates[iteri] :', theseDates[iteri], theseDates[100],theseDates[1000])\n",
    "\n",
    "    for iterj in  range(startYear,stopYear) :\n",
    "\n",
    "        thisDate = nc.num2date(thisSetDates[iteri],thisSetDates.units).strftime(\"%c\")\n",
    "        thisYear = int(nc.num2date(thisSetDates[iteri],thisSetDates.units).strftime(\"%Y\"))\n",
    "        #\n",
    "        # Compteur permettant de suivre l'avancement du calcul et le fait que chaque année\n",
    "        # commence bien le 1er janvier à 00h00 (suivi correct des mois et années bissextiles)\n",
    "        #\n",
    "        print('\\r',varOutName, iterj,str(thisDate), end = \"\")\n",
    "        if (thisYear % 4 == 0) :\n",
    "            for p in range(len(lenMonthB)) :\n",
    "                iteriLast = iteri + lenMonthB[p]\n",
    "                # moyenne du mois année bissextile\n",
    "                tempoName[iterj,p,:,:] = np.mean(selectVar[iteri:iteriLast,:,:], axis=0,dtype=np.float32)\n",
    "                iteri = iteriLast\n",
    "        else :\n",
    "            for p in range(len(lenMonthA)) :\n",
    "                iteriLast = iteri + lenMonthA[p]\n",
    "                # moyenne du mois année ordinaire\n",
    "                tempoName[iterj,p,:,:] = np.mean(selectVar[iteri:iteriLast,:,:], axis=0,dtype=np.float32)\n",
    "                iteri = iteriLast\n",
    "        # moyenne de l'année\n",
    "        tempoName[iterj,len(lenMonthA),:,:] = np.mean(tempoName[iterj,0:twelvMonths,:,:], axis=0)\n",
    "        #print('\\n',tempoName[iterj,len(lenMonthA),5,5])\n",
    "\n",
    "    lyonDataSet.close()\n",
    "    #print ('\\nend', tempoName[:])\n",
    "    #print ('\\nend', tempoName)\n",
    "    return(jj, tempoName[:])\n"
   ]
  },
  {
   "cell_type": "markdown",
   "metadata": {},
   "source": [
    "## Fonction de calcul de la pluviométrie cumulée"
   ]
  },
  {
   "cell_type": "code",
   "execution_count": 20,
   "metadata": {},
   "outputs": [],
   "source": [
    "#==========Function addFileSumToSet ====================================\n",
    "def addFileSumToSet (kk, localPath, names) :\n",
    "\n",
    "    global extractParamsYearMonth, twelvMonths, lenMonthA,lenMonthB\n",
    "    global firstYear, sizeyears, sizeMonths, sizegridj, sizegridi\n",
    "    driasFileName = names[0]\n",
    "    tempoName = names[1]\n",
    "    varOutName = names[2]\n",
    "    var = names[3]\n",
    "    nameIn = localPath + driasFileName\n",
    "    lyonDataSet = nc.Dataset(nameIn,mode='r')\n",
    "    selectVar = lyonDataSet.variables[var]\n",
    "    tempoName = np.zeros((sizeyears,sizeMonths,sizegridj,sizegridi), dtype=np.float32)\n",
    "    thisSetDates = lyonDataSet.variables['time']\n",
    "    initialYearDate = nc.date2num(datetime(2006,1,1),thisSetDates.units)\n",
    "    firstYearDate = nc.date2num(datetime(firstYear,1,1),thisSetDates.units)\n",
    "#    print('shape',thisSetDates.shape)\n",
    "#    print ('initialYearDate firstYearDate',initialYearDate,firstYearDate)\n",
    "    startYear = 0\n",
    "    stopYear = sizeyears\n",
    "    iteri = 0\n",
    "    yeardate = initialYearDate\n",
    "    while yeardate < firstYearDate :\n",
    "        iteri +=  1\n",
    "        yeardate += 24 # 24 hours a day ! we are counting in hours\n",
    "    iteriFirst = iteri\n",
    "#    thisDate = nc.num2date(thisSetDates[iteri],thisSetDates.units).strftime(\"%c\")\n",
    "#    print('iteri thisDate',iteri,thisDate)\n",
    "#    print('début -> fin, iterifirst : ', startYear,stopYear,iteriFirst)\n",
    "#    print ('theseDates[iteri] :', theseDates[iteri], theseDates[100],theseDates[1000])\n",
    "\n",
    "    for iterj in  range(startYear,stopYear) :\n",
    "\n",
    "        thisDate = nc.num2date(thisSetDates[iteri],thisSetDates.units).strftime(\"%c\")\n",
    "        thisYear = int(nc.num2date(thisSetDates[iteri],thisSetDates.units).strftime(\"%Y\"))\n",
    "        #\n",
    "        # Compteur permettant de suivre l'avancement du calcul et le fait que chaque année\n",
    "        # commence bien le 1er janvier à 00h00 (suivi correct des mois et années bissextiles)\n",
    "        #\n",
    "        print('\\r',varOutName, iterj,str(thisDate), end = \"\")\n",
    "        if (thisYear % 4 == 0) :\n",
    "            for p in range(len(lenMonthB)) :\n",
    "                iteriLast = iteri + lenMonthB[p]\n",
    "                # moyenne du mois année bissextile\n",
    "                tempoName[iterj,p,:,:] = np.sum(selectVar[iteri:iteriLast,:,:], axis=0,dtype=np.float32)\n",
    "                iteri = iteriLast\n",
    "        else :\n",
    "            for p in range(len(lenMonthA)) :\n",
    "                iteriLast = iteri + lenMonthA[p]\n",
    "                # moyenne du mois année ordinaire\n",
    "                tempoName[iterj,p,:,:] = np.sum(selectVar[iteri:iteriLast,:,:], axis=0,dtype=np.float32)\n",
    "                iteri = iteriLast\n",
    "        # somme de l'année\n",
    "        tempoName[iterj,len(lenMonthA),:,:] = np.sum(tempoName[iterj,0:twelvMonths,:,:], axis=0)\n",
    "        #print('\\n',tempoName[iterj,len(lenMonthA),5,5])\n",
    "\n",
    "    lyonDataSet.close()\n",
    "    #print ('\\nend', tempoName[:])\n",
    "    #print ('\\nend', tempoName)\n",
    "    return(kk, tempoName[:])\n"
   ]
  },
  {
   "cell_type": "markdown",
   "metadata": {},
   "source": [
    "## Fonction de collecte des résultats des fonctions de calcul"
   ]
  },
  {
   "cell_type": "code",
   "execution_count": 21,
   "metadata": {},
   "outputs": [],
   "source": [
    "#=================================== collect_resultii ========\n",
    "def collect_resultii(result) :\n",
    "    #global resultii\n",
    "    resultii.append(result)\n",
    "\n",
    "#=================================== collect_resultjj ========\n",
    "def collect_resultjj(result) :\n",
    "    #global resultjj\n",
    "    resultjj.append(result)\n",
    "\n",
    "#=================================== collect_resultkk ========\n",
    "def collect_resultkk(result) :\n",
    "    #global resultkk\n",
    "    resultkk.append(result)"
   ]
  },
  {
   "cell_type": "markdown",
   "metadata": {},
   "source": [
    "## Liste des fichiers à traiter "
   ]
  },
  {
   "cell_type": "code",
   "execution_count": 22,
   "metadata": {},
   "outputs": [],
   "source": [
    "#============================== Listes des fichiers à traiter ==================================\n",
    "path = 'http://geoloc-tremplin.ens-lyon.fr/climato-data/Lyon-1/'\n",
    "\n",
    "namesT = [['tasmax_metro_CNRM_Aladin_rcp2.6_QT_RCP2.6_20060101-21001231.nc','tempMax26','tmax_26','tasmax','max'],\n",
    "          ['tasmax_metro_CNRM_Aladin_rcp4.5_QT_RCP4.5_20060101-21001231.nc','tempMax45','tmax_45','tasmax','max'],\n",
    "          ['tasmax_metro_CNRM_Aladin_rcp8.5_QT_RCP8.5_20060101-21001231.nc','tempMax85','tmax_85','tasmax','max'],\n",
    "          ['tasmin_metro_CNRM_Aladin_rcp2.6_QT_RCP2.6_20060101-21001231.nc','tempMin26','tmin_26','tasmin','min'],\n",
    "          ['tasmin_metro_CNRM_Aladin_rcp4.5_QT_RCP4.5_20060101-21001231.nc','tempMin45','tmin_45','tasmin','min'],\n",
    "          ['tasmin_metro_CNRM_Aladin_rcp8.5_QT_RCP8.5_20060101-21001231.nc','tempMin85','tmin_85','tasmin','min']]\n",
    "\n",
    "namesP = [['rstr_metro_CNRM_Aladin_rcp2.6_QT_RCP2.6_20060101-21001231.nc','Rstr26','rstr_26','rstr'],\n",
    "          ['rstr_metro_CNRM_Aladin_rcp4.5_QT_RCP4.5_20060101-21001231.nc','Rstr45','rstr_45','rstr'],\n",
    "          ['rstr_metro_CNRM_Aladin_rcp8.5_QT_RCP8.5_20060101-21001231.nc','Rstr85','rstr_85','rstr']]\n",
    "\n",
    "namesPC = [['rstr_metro_CNRM_Aladin_rcp2.6_QT_RCP2.6_20060101-21001231.nc','Rstrc26','rstrc_26','rstr'],\n",
    "          ['rstr_metro_CNRM_Aladin_rcp4.5_QT_RCP4.5_20060101-21001231.nc','Rstrc45','rstrc_45','rstr'],\n",
    "          ['rstr_metro_CNRM_Aladin_rcp8.5_QT_RCP8.5_20060101-21001231.nc','Rstrc85','rstrc_85','rstr']]\n"
   ]
  },
  {
   "cell_type": "markdown",
   "metadata": {},
   "source": [
    "## Calcul principal des moyennes par mois pour chaque noeud et toutes les années\n"
   ]
  },
  {
   "cell_type": "code",
   "execution_count": 23,
   "metadata": {},
   "outputs": [
    {
     "name": "stdout",
     "output_type": "stream",
     "text": [
      " rstr_85 94 Fri Jan  1 00:00:00 2100"
     ]
    }
   ],
   "source": [
    "#======================================= boucle parallèle =========================================\n",
    "resultii = []\n",
    "resultjj = []\n",
    "resultkk = []\n",
    "# températures\n",
    "pool = mp.Pool(mp.cpu_count())\n",
    "for ii, names in enumerate(namesT) :\n",
    "    pool.apply_async(addFileMeanTKToSet, args=(ii, path, names) , callback = collect_resultii)\n",
    "rangeii = ii + 1\n",
    "#Precipitations\n",
    "for jj, names in enumerate(namesP) :\n",
    "    pool.apply_async(addFileMeanTCToSet, args=(jj, path, names) , callback = collect_resultjj)\n",
    "rangejj = jj + 1\n",
    "#Précipitations cumulées\n",
    "for kk, names in enumerate(namesPC) :\n",
    "    pool.apply_async(addFileSumToSet, args=(kk, path, names) , callback = collect_resultkk)\n",
    "rangekk = kk + 1\n",
    "#================================================================\n",
    "pool.close()\n",
    "pool.join()"
   ]
  },
  {
   "cell_type": "code",
   "execution_count": 24,
   "metadata": {},
   "outputs": [
    {
     "name": "stdout",
     "output_type": "stream",
     "text": [
      "\n",
      "\n",
      "\n",
      "\n",
      "\n",
      "\n"
     ]
    }
   ],
   "source": [
    "# Ajout des résultats au fichier `netCDF4` de sortie}`\n",
    "for resi in range(rangeii) :\n",
    "    #print('\\n', resultii[resi][0],namesT[resultii[resi][0]][2])\n",
    "    #print(extractParamsYearMonth.variables[namesT[resultii[resi][0]][2]][1,:,5,5])\n",
    "    extractParamsYearMonth.variables[namesT[resultii[resi][0]][2]][:] = resultii[resi][1][:]\n",
    "    #print(extractParamsYearMonth.variables[namesT[resultii[resi][0]][2]][1,:,5,5])\n",
    "print('\\n')\n",
    "#======================================= précipitations moyennes =========================================\n",
    "for resj in range(rangejj) :\n",
    "    #print('\\n', resultii[result][0], namesT[resultjj[result][0]][2], extractParamsYearMonth.variables[namesP[resultjj[result][0]][2]])\n",
    "    extractParamsYearMonth.variables[namesP[resultjj[resj][0]][2]][:] = resultjj[resj][1][:]\n",
    "    #print(extractParamsYearMonth.variables[namesT[resultjj[result][0]][2]][1,:,5,5])\n",
    "print('\\n')\n",
    "#======================================= précipitations cumulées =========================================\n",
    "for resk in range(rangekk) :\n",
    "    #print('\\n', resultkk[result][0], namesT[resultkk[result][0]][2], extractParamsYearMonth.variables[namesPC[resultkk[result][0]][2]])\n",
    "    extractParamsYearMonth.variables[namesPC[resultkk[resk][0]][2]][:] = resultkk[resk][1][:]\n",
    "    #print(extractParamsYearMonth.variables[namesT[resultkk[result][0]][2]][1,:,5,5])\n",
    "print('\\n')\n",
    "\n",
    "#print ('\\n\\nextractParamsYearMonth contents :', extractParamsYearMonth.variables['tmax_26'][:])"
   ]
  },
  {
   "cell_type": "code",
   "execution_count": 25,
   "metadata": {},
   "outputs": [],
   "source": [
    "extractParamsYearMonth.close()"
   ]
  },
  {
   "cell_type": "code",
   "execution_count": null,
   "metadata": {},
   "outputs": [],
   "source": []
  }
 ],
 "metadata": {
  "kernelspec": {
   "display_name": "Python 3",
   "language": "python",
   "name": "python3"
  },
  "language_info": {
   "codemirror_mode": {
    "name": "ipython",
    "version": 3
   },
   "file_extension": ".py",
   "mimetype": "text/x-python",
   "name": "python",
   "nbconvert_exporter": "python",
   "pygments_lexer": "ipython3",
   "version": "3.7.3"
  }
 },
 "nbformat": 4,
 "nbformat_minor": 2
}
