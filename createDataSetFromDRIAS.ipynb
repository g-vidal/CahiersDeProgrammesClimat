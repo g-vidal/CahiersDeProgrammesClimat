{
 "cells": [
  {
   "cell_type": "markdown",
   "metadata": {
    "extensions": {
     "jupyter_dashboards": {
      "version": 1,
      "views": {
       "grid_default": {},
       "report_default": {
        "hidden": false
       }
      }
     }
    }
   },
   "source": [
    "\n",
    "|  |\n",
    "| ------------------------------------------------------- | \n",
    "| ![Tremplin des sciences](images/tremplinColorSmall.png) | \n",
    "\n",
    "Cahier d'exercices pour l'enseignement du changement climat climatique ou l'apprentissage de programmation issu de la collection \"Climat et météo tremplin pour l'enseignement des sciences\" (PIA IFÉ ENS de Lyon - Météofrance ENM Toulouse). Le dispositif clef en main repose sur l'utilisation d'une RaspberryPi chargée avec le système d'exploitation Debian enrichi, produit par le projet. Les sources et les exécutables sont accessibles dans [l'espace collaboratif du pojet à l'IFÉ ENS de Lyon](https://contrib-tremplin.ens-lyon.fr/) et une copie se trouve dans [l'espace collaboratif de la forge github](https://github.com/g-vidal/CahierDeProgrammes); plus d'information sur les [blogs d'accompagnement](http://blog.climatetmeteo.fr/GerardVidal/) systèmes d'exploitation sur [la page des OS  de Raspberries Pi](http://mediaserv.climatetmeteo.fr/images/RaspBerry/DebianStretchPi3/).  Toutes les ressources issues du projet sont fournies sous licence [Creative Commons](https://creativecommons.org/licenses/by-nc/4.0/) ou sous les licences libres d'origine des outils utilisés. Les ressources  du projet peuvent être utilisées dans tout autre environnement compatible. Les données en ligne sont accessibles sur le [serveur de données géolocalisées](http://geoloc-tremplin.ens-lyon.fr/climato-data/) `opendap` du projet tremplin.\n",
    "\n",
    "![licence : Creative Commons](images/Licence.jpg) \n",
    "\n",
    "Auteur : G. Vidal\n",
    "\n",
    "------------------------------------------------------------"
   ]
  },
  {
   "cell_type": "markdown",
   "metadata": {},
   "source": [
    "# Une approche du changement climatique à Lyon : Création d'un jeu de données\n",
    "\n",
    "Ce cahier d'exercices `ipython` propose une méthode d'exploration d'un jeu de données issues des simulations climatiques de Météofrance. Le lot utilisé  est issu de trois séries de modélisations  RCP 2.6 - 4.5 - 8.5. Le travail a été effectué avec la température maximale, et les données proposées contiennent la température minimale, la pluviométrie et l'humidité.  Le code pour la température maximale est directement transposable  aux autres variables du modèle. Cette première partie traite de la méhode pour qu'un enseignant puisse extraire les données dont il a besoin d'un fichier commandé sur le site [DRIAS](http://www.drias-climat.fr/), construire le fichier avec les données traitées puis le déposer sur le serveur pour le partager avvec les élèves. Ce cahier manipule des données multidimensionnelles et doit être réservé à des étudiants avancés si on souhaite l'utiliser en classe. Ce cahier utilise les données d'un carré 10 x 10 noeuds de la grille ALADIN centré sur la ville de Lyon. Le format d'entrée et de sortie est celui utilisé par les labos de climatologie, d'océanographie : `netCDF`.  Cet outil requiert l'installation des outils `netCDF4` et `numpy`"
   ]
  },
  {
   "cell_type": "markdown",
   "metadata": {},
   "source": [
    "## Préparation de l'environnement et aperçu du fichier de données\n",
    "\n",
    "Importer d'abord le module `netcdf4` et `numpy`, attention les majuscules sont impératives pour le nom `netCDF4`. Ces deux modules permettent de traiter  les fichiers multidimensionnels au format netCDF utilisés dans le monde de la météorologie et de l'océanographie principalement."
   ]
  },
  {
   "cell_type": "code",
   "execution_count": 1,
   "metadata": {},
   "outputs": [],
   "source": [
    "import netCDF4 as nc\n",
    "import numpy as np\n",
    "from datetime import datetime\n",
    "from array import array\n",
    "import sys, datetime, os"
   ]
  },
  {
   "cell_type": "markdown",
   "metadata": {},
   "source": [
    "Importation des données de températures maximales depuis le fichier obtenu auprès du site [DRIAS](https://drias-prod.meteo.fr/okapi/accueil/okapiWebDrias/index.jsp) pour la région lyonnaise et intégration dans un fichier pour le traitement, puis affichage de la description du contenu, de la liste des variables.\n",
    "\n",
    "L'exemple choisi ici a été réalisé avec une grille de 10 x 10 noeuds centrés sur la ville de Lyon, pour obtenir un jeu de données depuis le site [DRIAS](https://drias-prod.meteo.fr/okapi/accueil/okapiWebDrias/index.jsp) se reporter au manuel numérique réalisé par E. Le Jan et C. Larose dans le cadre du projet \"Climat et Météo Tremplin pour l'enseignement des sciences\". \n",
    "\n",
    "Le bloc de code ci-dessous est fourni à des fins de _\"nettoyage et information\"_ il n'est pas nécessaire de l'exécuter pour atteindre le résultat il permet d'obtenir les informations sur le fichier manipulé et enlève d'éventuelles scories d'exécutionq précédentes."
   ]
  },
  {
   "cell_type": "code",
   "execution_count": 2,
   "metadata": {},
   "outputs": [],
   "source": [
    "# Attention Avant de recharger les fichiers locaux depuis  les sources en ligne, \n",
    "# si des fichiers locaux sont OUVERTS\n",
    "# il est nécessaire de les  fermer pour éviter des erreurs de données\n",
    "# Dans tous les autres  situations\n",
    "# L'exécution de ce bloc est inutile.\n",
    "# Close Datasets if necessary\n",
    "tMax_26_Lyon = nc.Dataset('http://geoloc-tremplin.ens-lyon.fr/climato-data/Lyon-1/tasmax_metro_CNRM_Aladin_rcp2.6_QT_RCP2.6_20060101-21001231.nc',casting='safe')\n",
    "print('Descripteur des données : \\n\\n',tMax_26_Lyon)\n",
    "try: os.remove('tMax_26_Lyon')  # par sécurité efface le fichier portant ce nom ! attention aux pertes possibles\n",
    "except OSError : pass\n",
    "try: os.remove('tMax_45_Lyon')  # par sécurité efface le fichier portant ce nom ! attention aux pertes possibles\n",
    "except OSError : pass\n",
    "try: os.remove('tMax_85_Lyon')  # par sécurité efface le fichier portant ce nom ! attention aux pertes possibles\n",
    "except OSError : pass\n"
   ]
  },
  {
   "cell_type": "markdown",
   "metadata": {},
   "source": [
    "## Récupération des données \n",
    "\n",
    "Les 3 blocs de code suivants permettent de récupérer les données  de la variable choisie de puis le serveur en ligne du projet. Les impressions sont facultatives, elles permettent de vérifier le bon déroulement de l'pération."
   ]
  },
  {
   "cell_type": "code",
   "execution_count": 3,
   "metadata": {},
   "outputs": [
    {
     "name": "stdout",
     "output_type": "stream",
     "text": [
      "Structure et taille du tableau exporté :\n",
      "\t ('time', 'j', 'i') (34698, 10, 10)\n",
      "\n",
      "Première ligne de données :\n",
      " [279.86902 279.28592 278.47507 278.4666  283.58368 283.09763 282.4597\n",
      " 281.01205 280.87045 280.77097]\n",
      "Dernière ligne de données :\n",
      " [280.27753 280.44775 279.89688 280.8853  280.8976  280.38654 280.29166\n",
      " 280.75772 281.7561  281.78995]\n"
     ]
    }
   ],
   "source": [
    "tMax_26_Lyon = nc.Dataset('http://geoloc-tremplin.ens-lyon.fr/climato-data/Lyon-1/tasmax_metro_CNRM_Aladin_rcp2.6_QT_RCP2.6_20060101-21001231.nc',casting='safe')\n",
    "lyon_temp_26 = tMax_26_Lyon.variables['tasmax']\n",
    "print('Structure et taille du tableau exporté :\\n\\t',tMax_26_Lyon.variables['tasmax'].dimensions, lyon_temp_26.shape)\n",
    "print('\\nPremière ligne de données :\\n',lyon_temp_26[0,0,:])\n",
    "print('Dernière ligne de données :\\n',lyon_temp_26[-1,-1,:])"
   ]
  },
  {
   "cell_type": "code",
   "execution_count": 4,
   "metadata": {},
   "outputs": [
    {
     "name": "stdout",
     "output_type": "stream",
     "text": [
      "Structure et taille du tableau exporté :\n",
      "\t ('time', 'j', 'i') (34698, 10, 10)\n",
      "\n",
      "Première ligne de données :\n",
      " [279.8828  279.30203 278.5122  278.50308 283.59985 283.10727 282.46997\n",
      " 281.0012  280.8424  280.73636]\n",
      "Dernière ligne de données :\n",
      " [281.43195 281.6765  282.77155 283.65445 283.545   281.96106 281.90695\n",
      " 282.3796  281.89853 281.91562]\n"
     ]
    }
   ],
   "source": [
    "tMax_45_Lyon = nc.Dataset('http://geoloc-tremplin.ens-lyon.fr/climato-data/Lyon-1/tasmax_metro_CNRM_Aladin_rcp4.5_QT_RCP4.5_20060101-21001231.nc',casting='safe')\n",
    "lyon_temp_45 = tMax_45_Lyon.variables['tasmax']\n",
    "print('Structure et taille du tableau exporté :\\n\\t',tMax_45_Lyon.variables['tasmax'].dimensions, lyon_temp_45.shape)\n",
    "print('\\nPremière ligne de données :\\n',lyon_temp_45[0,0,:])\n",
    "print('Dernière ligne de données :\\n',lyon_temp_45[-1,-1,:])"
   ]
  },
  {
   "cell_type": "code",
   "execution_count": 5,
   "metadata": {},
   "outputs": [
    {
     "name": "stdout",
     "output_type": "stream",
     "text": [
      "Structure et taille du tableau exporté :\n",
      "\t ('time', 'j', 'i') (34698, 10, 10)\n",
      "\n",
      "Première ligne de données :\n",
      " [279.8736  279.29126 278.55438 278.5493  283.59955 283.07462 282.4395\n",
      " 281.00513 280.87564 280.77737]\n",
      "Dernière ligne de données :\n",
      " [281.74222 281.9948  280.26053 281.42868 281.78946 282.9065  282.8423\n",
      " 283.06964 282.7308  282.75534]\n"
     ]
    }
   ],
   "source": [
    "tMax_85_Lyon = nc.Dataset('http://geoloc-tremplin.ens-lyon.fr/climato-data/Lyon-1/tasmax_metro_CNRM_Aladin_rcp8.5_QT_RCP8.5_20060101-21001231.nc',casting='safe')\n",
    "lyon_temp_85 = tMax_85_Lyon.variables['tasmax']          \n",
    "print('Structure et taille du tableau exporté :\\n\\t',tMax_85_Lyon.variables['tasmax'].dimensions, lyon_temp_85.shape)\n",
    "print('\\nPremière ligne de données :\\n',lyon_temp_85[0,0,:])\n",
    "print('Dernière ligne de données :\\n',lyon_temp_85[-1,-1,:])"
   ]
  },
  {
   "cell_type": "markdown",
   "metadata": {},
   "source": [
    "## Récupération des paramètres de l'extraction (dates, i-j Aladin, lat-lon, x-y) \n",
    "\n",
    "À partir de la liste des variables obtenue ci-dessus on renomme les jeux de données de chacune des variables qui seront exploitées apour effectuer les calculs et contrôle de la taille des échantillons. Les affichages proposés permettent de contrôler que les paramètres présents sont effectivement ceux qui sont attendus."
   ]
  },
  {
   "cell_type": "code",
   "execution_count": 6,
   "metadata": {},
   "outputs": [
    {
     "name": "stdout",
     "output_type": "stream",
     "text": [
      "Taille du tableau de dates -  (34698,)\n",
      "Date de début de la simulation :  Sun Jan  1 00:00:00 2006\n",
      "Date de fin de la simulation :  Fri Dec 31 00:00:00 2100\n"
     ]
    }
   ],
   "source": [
    "# On utilise ici le calcul 2.6 mais les dates sont identiques sur les 3 jeux de données\n",
    "# une seule extraction est nécessaire\n",
    "lyon_date = tMax_26_Lyon.variables['time']  \n",
    "print('Taille du tableau de dates - ',lyon_date.shape)\n",
    "print('Date de début de la simulation : ',nc.num2date(lyon_date[0],lyon_date.units).strftime(\"%c\"))\n",
    "print('Date de fin de la simulation : ',nc.num2date(lyon_date[-1],lyon_date.units).strftime(\"%c\"))"
   ]
  },
  {
   "cell_type": "code",
   "execution_count": 7,
   "metadata": {},
   "outputs": [
    {
     "name": "stdout",
     "output_type": "stream",
     "text": [
      "Emprise du projet en latititude-Longitude ;\n",
      " 45.423668 # 4.3302917  ::  46.050774 # 5.2839203\n",
      "Emprise du projet en x-y mètres ;\n",
      " 756000 # 2049000  ::  828000 # 2121000\n",
      "Emprise du projet en noeuds ALADIN ;\n",
      " 88.0 # 55.0  ::  97.0 # 64.0\n"
     ]
    }
   ],
   "source": [
    "lyon_lat,lyon_lon = tMax_26_Lyon.variables['lat'], tMax_26_Lyon.variables['lon'] # latitude longitude\n",
    "print('Emprise du projet en latititude-Longitude ;\\n', lyon_lat[0][0],'#',lyon_lon[0][0],' :: ',lyon_lat[-1][-1],'#',lyon_lon[-1][-1])\n",
    "lyon_x,lyon_y = tMax_26_Lyon.variables['x'], tMax_26_Lyon.variables['y']  # coordonnées métriques\n",
    "print('Emprise du projet en x-y mètres ;\\n', lyon_x[0],'#',lyon_y[0],' :: ',lyon_x[-1],'#',lyon_y[-1])\n",
    "lyon_gridi,lyon_gridj = tMax_26_Lyon.variables['i'], tMax_26_Lyon.variables['j'] # coordonnées grille Aladin\n",
    "print('Emprise du projet en noeuds ALADIN ;\\n', lyon_gridi[0],'#',lyon_gridj[0],' :: ',lyon_gridi[-1],'#',lyon_gridj[-1])"
   ]
  },
  {
   "cell_type": "markdown",
   "metadata": {},
   "source": [
    "## Création d'un fichier de sauvegarde des moyennes mensuelles\n",
    "\n",
    "Il a été pris le parti d'aborder les données sous la forme de moyennes mensuelles entre 2006 et 2100, ces données pourront ensuite être exploitées pour afficher l'évolution des tendances climatiques sur des intervalles de temps choisis par l'utilisateur. Ce chapitre inclut les deux étapes de création du container puis de calcul des valeurs des moyennes.\n",
    "\n",
    "Le format choisi est le même que celui utilisé par météofrance pour fournir les données [NETCDF](https://www.unidata.ucar.edu/software/netcdf/), ce format est complexe mais permet aisément de stocker des données multidimensionnelles et il est accompagné d'outils numériques permettant d'explorer efficacement cet espace multidimensionnel.\n",
    "\n",
    "Le premier bloc **effece un fichier qui porterait le même nom** et crée un nouveau fichier vide pour accueillir les valeurs moyennes calculées pour chaque noeud de la grille  traitée.\n"
   ]
  },
  {
   "cell_type": "code",
   "execution_count": 8,
   "metadata": {},
   "outputs": [],
   "source": [
    "try: os.remove('tsmaxLyon-26-45-85.nc')  # par sécurité efface le fichier portadatain = numpy.array(['foo','bar'],dtype='S3')nt ce nom ! attention aux pertes possibles\n",
    "except OSError : pass\n",
    "extractLyonTempYearMonth = nc.Dataset('tsmaxLyon-26-45-85.nc',mode='w',format='NETCDF4') "
   ]
  },
  {
   "cell_type": "markdown",
   "metadata": {},
   "source": [
    "## Construction du jeu de paramètres : année mois latitude longitude x y\n",
    "\n",
    "Définition et affectation des variables où sont copiées les paramètres de la grille et où seront stockés les résultats des calculs. Les affichages permettent de vérifier la validité des données utilisées.\n"
   ]
  },
  {
   "cell_type": "code",
   "execution_count": 9,
   "metadata": {},
   "outputs": [
    {
     "name": "stdout",
     "output_type": "stream",
     "text": [
      "DateTime de départ  de l'étude :  2006 \n",
      "DateTime de fin  de l'étude :  2100 \n",
      "Durée de l'étude :  95 ans\n"
     ]
    }
   ],
   "source": [
    "# tableau du nom des mois\n",
    "listmonth = np.array(['Jan', 'Feb', 'Mar', 'Apr', 'May', 'Jun', 'Jul',\n",
    "            'Aug', 'Sep', 'Oct', 'Nov', 'Dec', 'All'])\n",
    "# Tableau du nombre de jours par mois année ordinaire\n",
    "lenMonthA =[31,28,31,30,31,30,31,31,30,31,30,31]\n",
    "# Tableau du nombre de jours par mois année bissextile\n",
    "lenMonthB =[31,29,31,30,31,30,31,31,30,31,30,31]\n",
    "# Conversion en nombre entier des années extrêmes\n",
    "firstyear = int(nc.num2date(lyon_date[0],lyon_date.units).strftime(\"%Y\"))\n",
    "lastyear = int(nc.num2date(lyon_date[-1],lyon_date.units).strftime(\"%Y\"))\n",
    "# Détermination de la taille des tableaux de calcul\n",
    "sizemonths = len(listmonth)\n",
    "sizeyears = lastyear - firstyear + 1 \n",
    "sizegridi = lyon_gridi.shape[0]\n",
    "sizegridj = lyon_gridj.shape[0]\n",
    "print (\"DateTime de départ  de l'étude : \", firstyear,\n",
    "      \"\\nDateTime de fin  de l'étude : \", lastyear,\n",
    "      \"\\nDurée de l'étude : \", sizeyears, 'ans')\n",
    "#\n",
    "# Création des dimensions du tableau mois et année sont séparés pour disjoindre les traitements sur ces variables\n",
    "#\n",
    "extractLyonTempYearMonth.createDimension('i', sizegridi)     # latitude axis\n",
    "extractLyonTempYearMonth.createDimension('j', sizegridj)    # longitude axis\n",
    "extractLyonTempYearMonth.createDimension('month', sizemonths)    # month axis\n",
    "extractLyonTempYearMonth.createDimension('year', sizeyears) # year axis\n",
    "# Define two variables with the same names as dimensions,\n",
    "# a conventional way to define \"coordinate variables\".\n",
    "i = extractLyonTempYearMonth.createVariable('i', 'i4', ('i',))\n",
    "i.long_name = 'cell index along first dimension'\n",
    "j = extractLyonTempYearMonth.createVariable('j', 'i4', ('j',))\n",
    "j.long_name = 'cell index along second dimension'\n",
    "lat = extractLyonTempYearMonth.createVariable('lat', 'f4', ('j','i'))\n",
    "lat.units = 'degrees_north'\n",
    "lat.long_name = 'latitude'\n",
    "lat.standard_name = 'latitude'\n",
    "lat._CoordinateAxisType = 'Lat'\n",
    "lon = extractLyonTempYearMonth.createVariable('lon', 'f4', ('j','i',))\n",
    "lon.units = 'degrees_east'\n",
    "lon.long_name = 'longitude'\n",
    "lon.standard_name = 'longitude'\n",
    "lon._CoordinateAxisType = 'Lon'\n",
    "x = extractLyonTempYearMonth.createVariable('x', 'i4', ('i',))\n",
    "x.long_name = 'cell index along first dimension'\n",
    "y = extractLyonTempYearMonth.createVariable('y', 'i4', ('j',))\n",
    "y.long_name = 'cell index along second dimension'\n",
    "month = extractLyonTempYearMonth.createVariable('month','S3', ('month',))\n",
    "month.units = 'month'\n",
    "month.long_name = 'month_name'\n",
    "month.standard_name = 'month_name'\n",
    "year = extractLyonTempYearMonth.createVariable('year', 'u4', ('year',))\n",
    "year.units = 'date'\n",
    "year.long_name = 'year'\n",
    "year.standard_name = 'year'\n",
    "i[:] = lyon_gridi[:]\n",
    "j[:] = lyon_gridj[:]\n",
    "lat[:] = lyon_lat[:,:]\n",
    "lon[:] = lyon_lon[:,:]\n",
    "x[:] = lyon_x[:]\n",
    "y[:] = lyon_y[:]\n",
    "month[:] = listmonth\n",
    "\n",
    "temp_26 = extractLyonTempYearMonth.createVariable('temp_26','f4',('year','month','j','i'),fill_value=1.e+20)\n",
    "temp_26.units = 'degree C' # degrees Celsius\n",
    "temp_26.standard_name = 'air_temperature_26' # this is a CF standard name\n",
    "temp_45 = extractLyonTempYearMonth.createVariable('temp_45','f4',('year','month','j','i'),fill_value=1.e+20)\n",
    "temp_45.units = 'degree C' # degrees Celsius\n",
    "temp_45.standard_name = 'air_temperature_45' # this is a CF standard name\n",
    "temp_85 = extractLyonTempYearMonth.createVariable('temp_85','f4',('year','month','j','i'),fill_value=1.e+20)\n",
    "temp_85.units = 'degree C' # degrees Celsius\n",
    "temp_85.standard_name = 'air_temperature-85' # this is a CF standard name\n",
    "extractLyonTempYearMonth.title = 'Extrait TSMax par moyenne mensuelle de 2006 a 2100 Lyon et sa region'\n",
    "extractLyonTempYearMonth.institution = 'ENS de Lyon'\n",
    "extractLyonTempYearMonth.institute_id = 'IFE Institut Francais de l Education'\n",
    "extractLyonTempYearMonth.project_id = 'Climat et meteo tremplin pour l enseignement des sciences'\n",
    "extractLyonTempYearMonth.model_id = 'CNRM-ALADIN52'\n",
    "extractLyonTempYearMonth.product = 'output derived from Meteofrance DRIAS data'\n",
    "extractLyonTempYearMonth.contact = 'gerard.vidal@ens-lyon.fr'\n",
    "extractLyonTempYearMonth.creation_date = str(datetime.datetime.now())\n",
    "extractLyonTempYearMonth.driving_experiment_name = 'DRIAS2014'\n",
    "extractLyonTempYearMonth.experiment = 'RCP2.6 RCP4.5 RCP8.5 '\n",
    "extractLyonTempYearMonth.model = 'ALADIN-Climat'\n",
    "extractLyonTempYearMonth.author = 'Gerard Vidal'\n",
    "extractLyonTempYearMonth.comment = \"Extraction des moyennes de la region Lyonnaise de 2006 a 2100 et changegement des variables\""
   ]
  },
  {
   "cell_type": "code",
   "execution_count": 10,
   "metadata": {},
   "outputs": [],
   "source": [
    "#print('température moyenne année 2015 noeud 5 5 : \\n', temp[9,:,5,5])\n",
    "#print(\"température moyenne mois d'avril sur les 95 années noeud 8 4 : \\n\", temp[:,3,8,4])\n",
    "#print(\"température moyenne année 2050 mois d'aout tous les  noeuds : \\n\", temp[45,7,:,:])\n",
    "#print('i :\\n', i,i[:])\n",
    "#print('j :\\n', j,j[:])\n",
    "#print('lon :\\n', lon,lon[:,:])\n",
    "#print('lat :\\n', lat,lat[:,:])\n",
    "#print('x :\\n', x,x[:])\n",
    "#print('y :\\n', y,y[:])\n",
    "#print('month :\\n', month, '\\n',datain,datain[:])\n",
    "#print('i :\\n',   extractLyonTempYearMonth.variables['i'][:])\n",
    "#print('x :\\n',   extractLyonTempYearMonth.variables['x'][:])\n",
    "#print('lat :\\n', extractLyonTempYearMonth.variables['lat'][:])\n",
    "#print('month :', extractLyonTempYearMonth.variables['month'][:])"
   ]
  },
  {
   "cell_type": "markdown",
   "metadata": {},
   "source": [
    "## Calcul principal des moyennes par mois pour chaque noeud et toutes les années\n"
   ]
  },
  {
   "cell_type": "code",
   "execution_count": 11,
   "metadata": {},
   "outputs": [
    {
     "name": "stdout",
     "output_type": "stream",
     "text": [
      "0 2006\n",
      "1 2007\n",
      "2 2008\n",
      "3 2009\n",
      "4 2010\n",
      "5 2011\n",
      "6 2012\n",
      "7 2013\n",
      "8 2014\n",
      "9 2015\n",
      "10 2016\n",
      "11 2017\n",
      "12 2018\n",
      "13 2019\n",
      "14 2020\n",
      "15 2021\n",
      "16 2022\n",
      "17 2023\n",
      "18 2024\n",
      "19 2025\n",
      "20 2026\n",
      "21 2027\n",
      "22 2028\n",
      "23 2029\n",
      "24 2030\n",
      "25 2031\n",
      "26 2032\n",
      "27 2033\n",
      "28 2034\n",
      "29 2035\n",
      "30 2036\n",
      "31 2037\n",
      "32 2038\n",
      "33 2039\n",
      "34 2040\n",
      "35 2041\n",
      "36 2042\n",
      "37 2043\n",
      "38 2044\n",
      "39 2045\n",
      "40 2046\n",
      "41 2047\n",
      "42 2048\n",
      "43 2049\n",
      "44 2050\n",
      "45 2051\n",
      "46 2052\n",
      "47 2053\n",
      "48 2054\n",
      "49 2055\n",
      "50 2056\n",
      "51 2057\n",
      "52 2058\n",
      "53 2059\n",
      "54 2060\n",
      "55 2061\n",
      "56 2062\n",
      "57 2063\n",
      "58 2064\n",
      "59 2065\n",
      "60 2066\n",
      "61 2067\n",
      "62 2068\n",
      "63 2069\n",
      "64 2070\n",
      "65 2071\n",
      "66 2072\n",
      "67 2073\n",
      "68 2074\n",
      "69 2075\n",
      "70 2076\n",
      "71 2077\n",
      "72 2078\n",
      "73 2079\n",
      "74 2080\n",
      "75 2081\n",
      "76 2082\n",
      "77 2083\n",
      "78 2084\n",
      "79 2085\n",
      "80 2086\n",
      "81 2087\n",
      "82 2088\n",
      "83 2089\n",
      "84 2090\n",
      "85 2091\n",
      "86 2092\n",
      "87 2093\n",
      "88 2094\n",
      "89 2095\n",
      "90 2096\n",
      "91 2097\n",
      "92 2098\n",
      "93 2099\n",
      "94 2100\n",
      "\n",
      " Valeur moyenne 3 scénarios Lyon aout 2050 :\n",
      " 27.21591 27.036688 31.908592\n"
     ]
    }
   ],
   "source": [
    "iteri = 0\n",
    "iterj = 0\n",
    "iteriFirst = iteri  \n",
    "while iteri  < lyon_temp_26.shape[0] :      \n",
    "    for iterj in  range(sizeyears) :\n",
    "        year[iterj] = (nc.num2date(lyon_date[iteri],lyon_date.units).strftime(\"%Y\"))\n",
    "#        print(nc.num2date(lyon_date[iteri],lyon_date.units), iteri, iterj)  # vérification du point de départ\n",
    "        print(iterj,year[iterj] )\n",
    "        if (iterj % 4 == 2) :\n",
    "            for p in range(len(lenMonthB)) :\n",
    "                iteriLast = iteri + lenMonthB[p]\n",
    "                # moyenne du mois année bissextile\n",
    "                temp_26[iterj,p,:,:] = np.mean(lyon_temp_26[iteri:iteriLast,:,:] - 273,axis=0) \n",
    "                temp_45[iterj,p,:,:] = np.mean(lyon_temp_45[iteri:iteriLast,:,:] - 273,axis=0) \n",
    "                temp_85[iterj,p,:,:] = np.mean(lyon_temp_85[iteri:iteriLast,:,:] - 273,axis=0) \n",
    "                iteri = iteriLast\n",
    "        else :\n",
    "            for p in range(len(lenMonthA)) :\n",
    "                iteriLast = iteri + lenMonthA[p]\n",
    "                # moyenne du mois année ordinaire\n",
    "                temp_26[iterj,p,:,:] = np.mean(lyon_temp_26[iteri:iteriLast,:,:] - 273,axis=0) \n",
    "                temp_45[iterj,p,:,:] = np.mean(lyon_temp_45[iteri:iteriLast,:,:] - 273,axis=0) \n",
    "                temp_85[iterj,p,:,:] = np.mean(lyon_temp_85[iteri:iteriLast,:,:] - 273,axis=0) \n",
    "                iteri = iteriLast\n",
    "       # moyenne de l'année\n",
    "        temp_26[iterj,len(lenMonthA),:,:] = np.mean(lyon_temp_26[iteriFirst:iteriLast,:,:] - 273,axis=0) \n",
    "        temp_45[iterj,len(lenMonthA),:,:] = np.mean(lyon_temp_45[iteriFirst:iteriLast,:,:] - 273,axis=0) \n",
    "        temp_85[iterj,len(lenMonthA),:,:] = np.mean(lyon_temp_85[iteriFirst:iteriLast,:,:] - 273,axis=0) \n",
    "        iteriFirst = iteriLast+1\n",
    "#        print('Températures moyennes annuelles des noeuds extrêmes de la grille : ',\n",
    "#              temp_26[iterj,len(lenMonthA),0,0],temp_26[iterj,len(lenMonthA),-1,-1],\n",
    "#              temp_45[iterj,len(lenMonthA),0,0],temp_45[iterj,len(lenMonthA),-1,-1],\n",
    "#              temp_85[iterj,len(lenMonthA),0,0],temp_85[iterj,len(lenMonthA),-1,-1])\n",
    "# extraction d'une moyenne au hasard (aout 2050)\n",
    "print('\\n Valeur moyenne 3 scénarios Lyon aout 2050 :\\n',temp_26[44,7,5,5],temp_45[44,7,5,5],temp_85[44,7,5,5])"
   ]
  },
  {
   "cell_type": "markdown",
   "metadata": {},
   "source": [
    "Les affichages suivants permettent de vérifier  que les données obtenues correspondent au format attendu et présentent des valeurs cohérentes, plusieurs types de représentation sont proposés."
   ]
  },
  {
   "cell_type": "code",
   "execution_count": 12,
   "metadata": {},
   "outputs": [],
   "source": [
    "#print('température moyenne année 2015 noeud 5 5 : \\n', temp[9,:,5,5])\n",
    "#print(\"température moyenne mois d'avril sur les 95 années noeud 8 4 : \\n\", temp[:,3,8,4])\n",
    "#print(\"température moyenne année 2050 mois d'aout tous les  noeuds : \\n\", temp[45,7,:,:])\n",
    "#print('i :\\n', i,i[:])\n",
    "#print('lon :\\n', lon,lon[:,:])\n",
    "#print('x :\\n', x,x[:])\n",
    "#print('year :\\n', year, year[:])\n",
    "#print('month :', month, month[:])\n",
    "#print(extractLyonTempYearMonth.variables['i'][:])\n",
    "#print(extractLyonTempYearMonth.variables['month'][:])"
   ]
  },
  {
   "cell_type": "code",
   "execution_count": 13,
   "metadata": {},
   "outputs": [],
   "source": [
    "extractLyonTempYearMonth.close()"
   ]
  },
  {
   "cell_type": "code",
   "execution_count": null,
   "metadata": {},
   "outputs": [],
   "source": []
  }
 ],
 "metadata": {
  "kernelspec": {
   "display_name": "Python 3",
   "language": "python",
   "name": "python3"
  },
  "language_info": {
   "codemirror_mode": {
    "name": "ipython",
    "version": 3
   },
   "file_extension": ".py",
   "mimetype": "text/x-python",
   "name": "python",
   "nbconvert_exporter": "python",
   "pygments_lexer": "ipython3",
   "version": "3.7.3"
  }
 },
 "nbformat": 4,
 "nbformat_minor": 2
}
