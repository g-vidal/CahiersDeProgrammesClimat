{
 "cells": [
  {
   "cell_type": "markdown",
   "metadata": {
    "extensions": {
     "jupyter_dashboards": {
      "version": 1,
      "views": {
       "grid_default": {},
       "report_default": {
        "hidden": false
       }
      }
     }
    }
   },
   "source": [
    "\n",
    "|  |\n",
    "| ------------------------------------------------------- | \n",
    "| ![Tremplin des sciences](images/tremplinColorSmall.png) | \n",
    "\n",
    "Cahier d'exercices pour l'enseignement du changement climat climatique ou l'apprentissage de programmation issu de la collection \"Climat et météo tremplin pour l'enseignement des sciences\" (PIA IFÉ ENS de Lyon - Météofrance ENM Toulouse). Le dispositif clef en main repose sur l'utilisation d'une RaspberryPi chargée avec le système d'exploitation Debian enrichi, produit par le projet. Les sources et les exécutables sont accessibles dans [l'espace collaboratif du pojet à l'IFÉ ENS de Lyon](https://contrib-tremplin.ens-lyon.fr/) et une copie se trouve dans [l'espace collaboratif de la forge github](https://github.com/g-vidal/CahierDeProgrammes); plus d'information sur les [blogs d'accompagnement](http://blog.climatetmeteo.fr/GerardVidal/) systèmes d'exploitation sur [la page des OS  de Raspberries Pi](http://mediaserv.climatetmeteo.fr/images/RaspBerry/DebianStretchPi3/).  Toutes les ressources issues du projet sont fournies sous licence [Creative Commons](https://creativecommons.org/licenses/by-nc/4.0/) ou sous les licences libres d'origine des outils utilisés. \n",
    "\n",
    "Les ressources  du projet **peuvent être utilisées dans tout autre environnement compatible**, notamment tous les cahiers d'exercices peuvent être exécutés sur toute machine disposant d'un python3  et des bibliothèques jupyter, jupyterlab, numpy, netcdf4. \n",
    "\n",
    "Les données _pré-traitées_ utilisées ci-dessous sont **accessibles  en ligne** sur le [serveur de données géolocalisées](http://geoloc-tremplin.ens-lyon.fr/climato-data/) `opendap` du projet tremplin.\n",
    "\n",
    "![licence : Creative Commons](images/Licence.jpg) \n",
    "\n",
    "Auteur : G. Vidal\n",
    "\n",
    "------------------------------------------------------------"
   ]
  },
  {
   "cell_type": "markdown",
   "metadata": {},
   "source": [
    "# Une approche des enseignements autour du changement climatique : mitigation et adaptation au changement\n",
    "# _Approche du changement climatique à Toulouse : évolution des températures maximales, minimales et de la pluviométrie jusqu'en 2100_\n",
    "\n",
    "Ce cahier d'exercices utilise  les données collectées par le projet Tremplin sur la ville de Toulouse et ses environs à partir du [projet DRIAS](http://www.drias-climat.fr/), converties pré-traitées et mises en ligne  sur le [serveur de données climatologiques](http://geoloc-tremplin.ens-lyon.fr/climato-data/Toulouse-1/t_min-t_max-rstr_Toulouse-1_26-45-85.nc.info) du projet Tremplin des sciences. Les conversions et pré-traitements ont été réalisés avec les cahiers de programme `ipython` des phases 1 & 2 de cette série disponibles sur la [forge du projet](https://contrib-tremplin.ens-lyon.fr/forge/Tremplin-des-Sciences/CahiersDeProgrammesClimat/files/tip/). Ce cahier propose plusieurs voies d'exploration du jeu de données _température max / température min / pluviométrie_ sur une grille de 104 x 104 km autour de Toulouse. \n",
    "\n",
    "L'étude aborde l'évolution des variables moyennées sur N années (N a été fixé à 30 par défaut mais peut être modifié)  sur 4 noeuds centrés sur la ville de Toulouse. \n",
    "\n",
    "Le lot utilisé  est issu des trois modélisation RCP 2.6 4.5 et 8.5 fournies par météofrance. Ce cahier est immédiatement opérationnel et peut directement être exécuté sur  `jupyter` ou `jupyterlab`, toutefois il manipule des données multidimensionnelles et doit être réservé à des étudiants avancés si l'on souhaite manipuler le code. Par contre l'utilisation des blocs concernant le tracé des courbes ou des cartes est d'un usage facile d'accès et permet d'obtenir simplement des figures. Attention le dessin des figures a été désactivé dans le dépôt sur la forge pour ne pas alourdir inutilement le fichier transféré, il suffit de décommenter la dernière ligne de chacun des blocs de dessin en enlevant le `\"`."
   ]
  },
  {
   "cell_type": "markdown",
   "metadata": {},
   "source": [
    "## Préparation de l'environnement et ouverture du fichier de données\n",
    "\n",
    "Importer d'abord le module `netcdf4` et `numpy`, attention les majuscules sont impératives pour le nom `netCDF4`. Ces deux modules permettent de traiter  les fichiers multidimensionnels au format netCDF utilisés dans le monde de la météorologie et de l'océanographie principalement."
   ]
  },
  {
   "cell_type": "code",
   "execution_count": 1,
   "metadata": {},
   "outputs": [],
   "source": [
    "import netCDF4 as nc\n",
    "import numpy as np\n",
    "from datetime import datetime\n",
    "from array import array\n",
    "import sys, datetime, os"
   ]
  },
  {
   "cell_type": "markdown",
   "metadata": {},
   "source": [
    "Importer ensuite les données de sortie de modèle depuis le fichier obtenu auprès du [serveur de données climatologiques](http://geoloc-tremplin.ens-lyon.fr/climato-data/Toulouse-1/t_min-t_max-rstr_Toulouse-1_26-45-85.nc.info) du projet Tremplin des sciences extrait du site [DRIAS](https://drias-prod.meteo.fr/okapi/accueil/okapiWebDrias/index.jsp) sur la région toulousaine.\n",
    "\n",
    "L'exemple utilisé ici a été réalisé avec une grille de 13 x 13 noeuds centrés sur la ville de Toulouse, pour obtenir un jeu de données se reporter au manuel numérique réalisé par Éric le Jan et Carole Larose dans le cadre du projet \"Climat et Météo Tremplin pour l'enseignement des sciences\". Les instructions d'affichage commentées (pour la plupart) permettent de vérifier les propriétés  du fichier obtenu ainsi que les variables qui pourront être utilisées. Ces affichages sont facultatifs et peuvent être commentés sans conséquence pour la suite."
   ]
  },
  {
   "cell_type": "code",
   "execution_count": 2,
   "metadata": {},
   "outputs": [
    {
     "name": "stdout",
     "output_type": "stream",
     "text": [
      "Description des données issues du modèle : \n",
      " <class 'netCDF4._netCDF4.Dataset'>\n",
      "root group (NETCDF3_CLASSIC data model, file format DAP2):\n",
      "    title: Extrait TSMax par moyenne mensuelle de 2006 a 2100 Lyon et sa region\n",
      "    institution: ENS de Lyon\n",
      "    institute_id: IFE Institut Francais de l Education\n",
      "    project_id: Climat et meteo tremplin pour l enseignement des sciences\n",
      "    model_id: CNRM-ALADIN52\n",
      "    product: output derived from Meteofrance DRIAS data\n",
      "    contact: gerard.vidal@ens-lyon.fr\n",
      "    creation_date: 2019-07-23 19:49:02.710491\n",
      "    driving_experiment_name: DRIAS2014\n",
      "    experiment: RCP2.6 RCP4.5 RCP8.5 \n",
      "    model: ALADIN-Climat\n",
      "    author: Gerard Vidal\n",
      "    comment: Extraction des moyennes de la region Lyonnaise de 2006 a 2100 et changegement des variables\n",
      "    dimensions(sizes): i(13), j(13), maxStrlen64(64), month(13), year(95)\n",
      "    variables(dimensions): int32 \u001b[4mi\u001b[0m(i), int32 \u001b[4mj\u001b[0m(j), |S1 \u001b[4mmonth\u001b[0m(month,maxStrlen64), int32 \u001b[4myear\u001b[0m(year), float32 \u001b[4mlat\u001b[0m(j,i), float32 \u001b[4mlon\u001b[0m(j,i), int32 \u001b[4mx\u001b[0m(i), int32 \u001b[4my\u001b[0m(j), float32 \u001b[4mt_max_26\u001b[0m(year,month,j,i), float32 \u001b[4mt_max_45\u001b[0m(year,month,j,i), float32 \u001b[4mt_max_85\u001b[0m(year,month,j,i), float32 \u001b[4mt_min_26\u001b[0m(year,month,j,i), float32 \u001b[4mt_min_45\u001b[0m(year,month,j,i), float32 \u001b[4mt_min_85\u001b[0m(year,month,j,i), float32 \u001b[4mrstr_26\u001b[0m(year,month,j,i), float32 \u001b[4mrstrc_26\u001b[0m(year,month,j,i), float32 \u001b[4mrstr_45\u001b[0m(year,month,j,i), float32 \u001b[4mrstrc_45\u001b[0m(year,month,j,i), float32 \u001b[4mrstr_85\u001b[0m(year,month,j,i), float32 \u001b[4mrstrc_85\u001b[0m(year,month,j,i), float32 \u001b[4mdelta_t_26\u001b[0m(year,month,j,i), float32 \u001b[4mdelta_t_45\u001b[0m(year,month,j,i), float32 \u001b[4mdelta_t_85\u001b[0m(year,month,j,i)\n",
      "    groups: \n",
      " \n",
      "\n",
      "Variables disponibles : odict_keys(['i', 'j', 'month', 'year', 'lat', 'lon', 'x', 'y', 't_max_26', 't_max_45', 't_max_85', 't_min_26', 't_min_45', 't_min_85', 'rstr_26', 'rstrc_26', 'rstr_45', 'rstrc_45', 'rstr_85', 'rstrc_85', 'delta_t_26', 'delta_t_45', 'delta_t_85'])\n"
     ]
    }
   ],
   "source": [
    "dataSetTlse = nc.Dataset('http://geoloc-tremplin.ens-lyon.fr/climato-data/Toulouse-1/t_min-t_max-rstr_Toulouse-1_26-45-85.nc')\n",
    "# La ligne ci-dessous permet d'exploiter des données locales si l'usager réalise lui-même les extractions sur DRIAS\n",
    "#dataSetLyon = nc.Dataset('t_min-t_max-rstr_thisrun_26-45-85.nc') #to use local file\n",
    "print('Description des données issues du modèle : \\n',dataSetTlse,'\\n') \n",
    "print('Variables disponibles :',dataSetTlse.variables.keys()) # get all variable names\n",
    "#print('Taille du tableau tasmax :',dataSetTlse.variables['tasmax'].shape ,'\\n') "
   ]
  },
  {
   "cell_type": "markdown",
   "metadata": {},
   "source": [
    "## Liste des dimensions et des variables du système de données\n",
    "\n",
    "À partir de la liste des variables obtenue ci-dessus on renomme les jeux de données de chacune des variables qui seront exploitées apour effectuer les calculs et contrôler la taille des échantillons. Les affichages proposés permettent de contrôler que les paramètres présents sont effectivement ceux qui sont attendus."
   ]
  },
  {
   "cell_type": "code",
   "execution_count": 3,
   "metadata": {},
   "outputs": [
    {
     "name": "stdout",
     "output_type": "stream",
     "text": [
      "('i', <class 'netCDF4._netCDF4.Dimension'>: name = 'i', size = 13\n",
      ")\n",
      "('j', <class 'netCDF4._netCDF4.Dimension'>: name = 'j', size = 13\n",
      ")\n",
      "('maxStrlen64', <class 'netCDF4._netCDF4.Dimension'>: name = 'maxStrlen64', size = 64\n",
      ")\n",
      "('month', <class 'netCDF4._netCDF4.Dimension'>: name = 'month', size = 13\n",
      ")\n",
      "('year', <class 'netCDF4._netCDF4.Dimension'>: name = 'year', size = 95\n",
      ")\n",
      "Variables \t  Forme \t\t Taille \t type :  \n",
      "\n",
      "i \t\t ('i',) \t\t (13,) \t int32\n",
      "j \t\t ('j',) \t\t (13,) \t int32\n",
      "month \t\t ('month', 'maxStrlen64') \t\t (13, 64) \t |S1\n",
      "year \t\t ('year',) \t\t (95,) \t int32\n",
      "lat \t\t ('j', 'i') \t\t (13, 13) \t float32\n",
      "lon \t\t ('j', 'i') \t\t (13, 13) \t float32\n",
      "x \t\t ('i',) \t\t (13,) \t int32\n",
      "y \t\t ('j',) \t\t (13,) \t int32\n",
      "t_max_26 \t\t ('year', 'month', 'j', 'i') \t\t (95, 13, 13, 13) \t float32\n",
      "t_max_45 \t\t ('year', 'month', 'j', 'i') \t\t (95, 13, 13, 13) \t float32\n",
      "t_max_85 \t\t ('year', 'month', 'j', 'i') \t\t (95, 13, 13, 13) \t float32\n",
      "t_min_26 \t\t ('year', 'month', 'j', 'i') \t\t (95, 13, 13, 13) \t float32\n",
      "t_min_45 \t\t ('year', 'month', 'j', 'i') \t\t (95, 13, 13, 13) \t float32\n",
      "t_min_85 \t\t ('year', 'month', 'j', 'i') \t\t (95, 13, 13, 13) \t float32\n",
      "rstr_26 \t\t ('year', 'month', 'j', 'i') \t\t (95, 13, 13, 13) \t float32\n",
      "rstrc_26 \t\t ('year', 'month', 'j', 'i') \t\t (95, 13, 13, 13) \t float32\n",
      "rstr_45 \t\t ('year', 'month', 'j', 'i') \t\t (95, 13, 13, 13) \t float32\n",
      "rstrc_45 \t\t ('year', 'month', 'j', 'i') \t\t (95, 13, 13, 13) \t float32\n",
      "rstr_85 \t\t ('year', 'month', 'j', 'i') \t\t (95, 13, 13, 13) \t float32\n",
      "rstrc_85 \t\t ('year', 'month', 'j', 'i') \t\t (95, 13, 13, 13) \t float32\n",
      "delta_t_26 \t\t ('year', 'month', 'j', 'i') \t\t (95, 13, 13, 13) \t float32\n",
      "delta_t_45 \t\t ('year', 'month', 'j', 'i') \t\t (95, 13, 13, 13) \t float32\n",
      "delta_t_85 \t\t ('year', 'month', 'j', 'i') \t\t (95, 13, 13, 13) \t float32\n"
     ]
    }
   ],
   "source": [
    "for dim in dataSetTlse.dimensions.items():\n",
    "    print(dim)\n",
    "print ('Variables \\t  Forme \\t\\t Taille \\t type :  \\n')\n",
    "for var in dataSetTlse.variables.keys() :\n",
    "    print (var, '\\t\\t', \n",
    "           dataSetTlse.variables[var].dimensions, '\\t\\t', \n",
    "           dataSetTlse.variables[var].shape, '\\t', \n",
    "           dataSetTlse.variables[var].dtype)\n"
   ]
  },
  {
   "cell_type": "markdown",
   "metadata": {},
   "source": [
    "## Création des tableaux de calcul"
   ]
  },
  {
   "cell_type": "code",
   "execution_count": 31,
   "metadata": {},
   "outputs": [],
   "source": [
    "Tlse_tmax26 = dataSetTlse.variables['t_max_26']  # variable temperature \n",
    "Tlse_tmax45 = dataSetTlse.variables['t_max_45']  # variable temperature \n",
    "Tlse_tmax85 = dataSetTlse.variables['t_max_85']  # variable temperature \n",
    "Tlse_tmin26 = dataSetTlse.variables['t_min_26']  # variable temperature \n",
    "Tlse_tmin45 = dataSetTlse.variables['t_min_45']  # variable temperature \n",
    "Tlse_tmin85 = dataSetTlse.variables['t_min_85']  # variable temperature \n",
    "Tlse_rstr26 = dataSetTlse.variables['rstr_26']  # variable rainfall \n",
    "Tlse_rstr45 = dataSetTlse.variables['rstr_45']  # variable rainfall \n",
    "Tlse_rstr85 = dataSetTlse.variables['rstr_85']  # variable rainfall \n",
    "Tlse_rstrc26 = dataSetTlse.variables['rstrc_26']  # variable cumulated rainfall \n",
    "Tlse_rstrc45 = dataSetTlse.variables['rstrc_45']  # variable cumulated rainfall \n",
    "Tlse_rstrc85 = dataSetTlse.variables['rstrc_85']  # variable cumulated rainfall \n",
    "Tlse_delta26 = dataSetTlse.variables['delta_t_26']  # variable tmax -tmin daily\n",
    "Tlse_delta45 = dataSetTlse.variables['delta_t_45']  # variable tmax -tmin daily\n",
    "Tlse_delta85 = dataSetTlse.variables['delta_t_85']  # variable tmax -tmin daily\n",
    "Tlse_month = nc.chartostring(dataSetTlse.variables['month'][:])  # variable temps\n",
    "# use the following syntax on local files\n",
    "# Tlse_month = dataSetTlse.variables['month'] #if local file type = string\n",
    "Tlse_year = dataSetTlse.variables['year']  # variable temps\n",
    "\n",
    "#test = nc.chartostring(dataSetTlse.variables['month'][:])\n",
    "#print(test)\n",
    "#test[:] = nc.chartostring(dataSetTlse.variables['month'][:],encoding='utf-8')\n",
    "#print(test)\n",
    "\n",
    "Tlse_lat,Tlse_lon = dataSetTlse.variables['lat'], dataSetTlse.variables['lon']  # latitude longitude\n",
    "Tlse_x,Tlse_y = dataSetTlse.variables['x'], dataSetTlse.variables['y']  # coordonnées métriques\n",
    "Tlse_gridi,Tlse_gridj = dataSetTlse.variables['i'], dataSetTlse.variables['j'] # coordonnées grille Aladin\n",
    "\n",
    "lenmonths = Tlse_month.shape[0]\n",
    "\n",
    "#print ('\\n Taille des tableaux de calcul : \\n', \n",
    "#       '\\ntmax26 : ', Tlse_tmax26.shape, Tlse_tmax26[44,7,5,5],dataSetTlse.variables['temp_26'][44,7,5,5],\n",
    "#       '\\ntmax45 : ', Tlse_tmax45.shape, Tlse_tmax45[44,7,5,5],dataSetTlse.variables['temp_45'][44,7,5,5],\n",
    "#       '\\ntmax85 : ', Tlse_tmax85.shape, Tlse_tmax85[44,7,5,5],dataSetTlse.variables['temp_85'][44,7,5,5],\n",
    "#       '\\n\\nyear : ', Tlse_year.shape, Tlse_year[:],\n",
    "#       '\\nmonth : ', Tlse_month.shape, Tlse_month[:],\n",
    "#       '\\n\\nLat : ', Tlse_lat.shape,  Tlse_lat[0,:],\n",
    "#       '\\nLon : ', Tlse_lon.shape, Tlse_lon[0,:],\n",
    "#       '\\n\\nX : ', Tlse_x.shape, Tlse_x[:],\n",
    "#       '\\nY : ', Tlse_y.shape, Tlse_y[:],\n",
    "#       '\\n\\ni : ', Tlse_gridi.shape, Tlse_gridi[:],\n",
    "#       '\\nj : ', Tlse_gridj.shape, Tlse_gridj[:])"
   ]
  },
  {
   "cell_type": "markdown",
   "metadata": {},
   "source": [
    "Définition et affectation des variables où sont copiées les données conservées et où seront stockés les résultats des calculs. Les années seront calculées pendant le calcul principal, les affichages permettent de vérifier la validité des données utilisées."
   ]
  },
  {
   "cell_type": "markdown",
   "metadata": {},
   "source": [
    "\n",
    "\n",
    "\n",
    "\n",
    "\n",
    "\n",
    "\n",
    "\n",
    "## Calcul principal des moyennes par mois pour chaque noeud et toutes les années\n"
   ]
  },
  {
   "cell_type": "markdown",
   "metadata": {},
   "source": [
    "Le premier bloc de code permet de fixer les paramètres qui seront utilisés pour les calculs. les commentaires donnent des indications sur les valeurs possibles."
   ]
  },
  {
   "cell_type": "markdown",
   "metadata": {},
   "source": [
    "### Calculs pour une seule période de  `yearInterval` années\n",
    "\n",
    "Calcul de la moyenne de températures d'une sélection de mois sur un intervalle de `yearInterval` années à partir de l'année `yearBegin` sur les noeuds allant de `(startj,starti)` de taille `(intervalj,intervali)`"
   ]
  },
  {
   "cell_type": "markdown",
   "metadata": {},
   "source": [
    "#### préparation de la création de figures\n",
    "On importe les bibliothèques plotly"
   ]
  },
  {
   "cell_type": "code",
   "execution_count": 6,
   "metadata": {},
   "outputs": [
    {
     "data": {
      "text/html": [
       "        <script type=\"text/javascript\">\n",
       "        window.PlotlyConfig = {MathJaxConfig: 'local'};\n",
       "        if (window.MathJax) {MathJax.Hub.Config({SVG: {font: \"STIX-Web\"}});}\n",
       "        if (typeof require !== 'undefined') {\n",
       "        require.undef(\"plotly\");\n",
       "        requirejs.config({\n",
       "            paths: {\n",
       "                'plotly': ['https://cdn.plot.ly/plotly-latest.min']\n",
       "            }\n",
       "        });\n",
       "        require(['plotly'], function(Plotly) {\n",
       "            window._Plotly = Plotly;\n",
       "        });\n",
       "        }\n",
       "        </script>\n",
       "        "
      ]
     },
     "metadata": {},
     "output_type": "display_data"
    }
   ],
   "source": [
    "import plotly.offline as py\n",
    "import plotly.graph_objs as go\n",
    "from plotly import tools\n",
    "import plotly.io as pio\n",
    "py.init_notebook_mode(connected=True)"
   ]
  },
  {
   "cell_type": "markdown",
   "metadata": {},
   "source": [
    "## Courbes d'évolution de la température de 2036 à 2100\n",
    "### Calculs pour UNE SÉRIE DE  PÉRIODES de  `yearInterval` années\n",
    "\n",
    "Calcul de la moyenne de températures des mois de `calcMonth` (il peut y en avoir un seul ou un choix), sur `yearInterval` années à partir de l'année `yearBegin` jusqu'à l'année `yearBegin + yearPeriod` sur les noeuds à partir de `(startj,starti)` de taille `(intervalj,intervali)`. La valeur touvée est affectée à la dernière année de la plage de calcul."
   ]
  },
  {
   "cell_type": "code",
   "execution_count": 20,
   "metadata": {},
   "outputs": [],
   "source": [
    "# Variables for the computation\n",
    "# Séquence d'années pendant lesquelles les calculs sont effectués\n",
    "#     * Choix de l'année de départ : yearBegin\n",
    "#     * Choix du nombre d'années sur lesquelles est effectuée la moyenne glissante : yearInterval\n",
    "#     * Choix de l'intervalle de calcul yearPeriod\n",
    "#     * Choix des mois choisis pour le calcul 0 = Jan; 7 = Aout ...\n",
    "# yearbegin + yearperiod must be <= 2101\n",
    "driasOrigin = 2006\n",
    "driasEnd = 2100\n",
    "nbYears = driasEnd - driasOrigin + 1\n",
    "# ===================== Choice of parameters below =======================================\n",
    "yearBegin = 2006\n",
    "yearInterval = 30\n",
    "yearPeriod = 64\n",
    "calcMonth = [0, 7, 12]  # Calcul effectué pour Janvier (0) Aout (7) et moyenne annuelle (12)\n",
    "lencalcMonths = len(calcMonth)\n",
    "#  Grille i j\n",
    "# sous espace de la grille 10X10 utilisé\n",
    "#  le premier écantillon est un carré 2X2 au centre de la grille\n",
    "# Le second échantillon est toute la grille entière\n",
    "starti = 5\n",
    "intervali = 3\n",
    "startj = 5\n",
    "intervalj = 3  # Calcul sur un carré de 16km de côté au centre de la carte (ville de Lyon)\n",
    "# ====================== ENd of Choice ====================================================\n",
    "#starti = 0\n",
    "#intervali = 10\n",
    "#startj = 0\n",
    "#intervalj = 10\n",
    "# Variables de calcul\n",
    "startYear = yearBegin - driasOrigin\n",
    "endYear = startYear + yearPeriod\n",
    "#print(yearPeriodInterval)\n",
    "endi = starti + intervali\n",
    "endj = startj + intervalj\n",
    "                          \n",
    "if not ((startYear >= 0) and (yearBegin + yearPeriod + yearInterval) <= driasEnd):\n",
    "    print('starting year or finishing year out of bounds')\n",
    "    sys.exit('giving up on year bounds')\n",
    "#print(gridj[loc_j])\n",
    "#print(gridi[loc_i])\n",
    "#print(startYear,':',endYear,',',calcMonth,',',startj,':',endj,',',starti,':',endi)\n",
    "#print(temp.shape)\n",
    "#print(np.mean(temp[startYear:endYear,calcMonth,startj:endj,starti:endi]))"
   ]
  },
  {
   "cell_type": "markdown",
   "metadata": {},
   "source": [
    "### Calcul pour n mois sur p périodes de q années pour la zone\n",
    "\n",
    "Calcul de la moyenne des températures mensuelles sur `yearInterval` ans pendant une période de `yearPeriod` années successives pour une sélection de `calcMonth`  mois."
   ]
  },
  {
   "cell_type": "code",
   "execution_count": 23,
   "metadata": {},
   "outputs": [],
   "source": [
    "# Using online file takes a little more time\n",
    "# Calculate the number of years yielding a result\n",
    "moyMAreaInterval_26 = np.zeros((lencalcMonths, nbYears))\n",
    "moyMAreaInterval_45 = np.zeros((lencalcMonths, nbYears))\n",
    "moyMAreaInterval_85 = np.zeros((lencalcMonths, nbYears))\n",
    "# Tmax, i and j are computed to localize the mean\n",
    "for p in range(startYear, endYear) :\n",
    "    a = startYear + p\n",
    "    b = a + yearInterval\n",
    "    moyMAreaInterval_26[:, p] = np.mean(Tlse_tmax26[a:b, calcMonth, startj:endj, starti:endi], axis=(0, 2, 3))\n",
    "    moyMAreaInterval_45[:, p] = np.mean(Tlse_tmax45[a:b, calcMonth, startj:endj, starti:endi], axis=(0, 2, 3))\n",
    "    moyMAreaInterval_85[:, p] = np.mean(Tlse_tmax85[a:b, calcMonth, startj:endj, starti:endi], axis=(0, 2, 3))\n",
    "firstPlotYear = startYear + yearInterval\n",
    "lastPlotYear = firstPlotYear + yearPeriod\n",
    "data = [] #* lencalcMonths\n",
    "trace = [] #* lencalcMonths"
   ]
  },
  {
   "cell_type": "markdown",
   "metadata": {},
   "source": [
    "Le diagramme ci-dessous  représente l'évolution sur `yearPeriod` années de la température dans la région Lyonnaise.(Décommenter la dernière ligne du bloc pour afficher la figure)"
   ]
  },
  {
   "cell_type": "code",
   "execution_count": 79,
   "metadata": {},
   "outputs": [
    {
     "name": "stdout",
     "output_type": "stream",
     "text": [
      "This is the format of your plot grid:\n",
      "[ (1,1) x1,y1 ]\n",
      "[ (2,1) x2,y2 ]\n",
      "[ (3,1) x3,y3 ]\n",
      "\n"
     ]
    },
    {
     "data": {
      "text/plain": [
       "Layout({\n",
       "    'annotations': [{'font': {'size': 16},\n",
       "                     'showarrow': False,\n",
       "                     'text': 'mois de janvier ',\n",
       "                     'x': 0.5,\n",
       "                     'xanchor': 'center',\n",
       "                     'xref': 'paper',\n",
       "                     'y': 1.0,\n",
       "                     'yanchor': 'bottom',\n",
       "                     'yref': 'paper'},\n",
       "                    {'font': {'size': 16},\n",
       "                     'showarrow': False,\n",
       "                     'text': \"mois d'aout\",\n",
       "                     'x': 0.5,\n",
       "                     'xanchor': 'center',\n",
       "                     'xref': 'paper',\n",
       "                     'y': 0.6111111111111112,\n",
       "                     'yanchor': 'bottom',\n",
       "                     'yref': 'paper'},\n",
       "                    {'font': {'size': 16},\n",
       "                     'showarrow': False,\n",
       "                     'text': \"max de l'année\",\n",
       "                     'x': 0.5,\n",
       "                     'xanchor': 'center',\n",
       "                     'xref': 'paper',\n",
       "                     'y': 0.22222222222222224,\n",
       "                     'yanchor': 'bottom',\n",
       "                     'yref': 'paper'}],\n",
       "    'autosize': False,\n",
       "    'height': 1200,\n",
       "    'margin': {'b': 50, 'l': 50, 'r': 10, 't': 50},\n",
       "    'title': {'text': 'Températures maximales moyennées sur 30 ans\\n'},\n",
       "    'width': 900,\n",
       "    'xaxis': {'anchor': 'y', 'domain': [0.0, 1.0], 'title': {'text': 'Year'}},\n",
       "    'xaxis2': {'anchor': 'y2', 'domain': [0.0, 1.0], 'title': {'text': 'Year'}},\n",
       "    'xaxis3': {'anchor': 'y3', 'domain': [0.0, 1.0], 'title': {'text': 'Year'}},\n",
       "    'yaxis': {'anchor': 'x', 'domain': [0.7777777777777778, 1.0], 'title': {'text': 'Degrees C'}},\n",
       "    'yaxis2': {'anchor': 'x2', 'domain': [0.3888888888888889, 0.6111111111111112], 'title': {'text': 'Degrees C'}},\n",
       "    'yaxis3': {'anchor': 'x3', 'domain': [0.0, 0.22222222222222224], 'title': {'text': 'Degrees C'}}\n",
       "})"
      ]
     },
     "execution_count": 79,
     "metadata": {},
     "output_type": "execute_result"
    }
   ],
   "source": [
    "q = 0\n",
    "trace26_0 = go.Scatter(\n",
    "    x = Tlse_year[firstPlotYear:lastPlotYear],\n",
    "    y = moyMAreaInterval_26[q,:],\n",
    "    name ='Moyenne 2.6 du mois %s'%Tlse_month[calcMonth[q]]\n",
    ")\n",
    "trace45_0 = go.Scatter(\n",
    "    x = Tlse_year[firstPlotYear:lastPlotYear],\n",
    "    y = moyMAreaInterval_45[q,:],\n",
    "    name ='Moyenne 4.5 du mois %s'%Tlse_month[calcMonth[q]]\n",
    ")\n",
    "trace85_0 = go.Scatter(\n",
    "    x = Tlse_year[firstPlotYear:lastPlotYear],\n",
    "    y = moyMAreaInterval_85[q,:],\n",
    "    name ='Moyenne 8.5 du mois %s'%Tlse_month[calcMonth[q]]\n",
    ")\n",
    "\n",
    "q = 1\n",
    "trace26_1 = go.Scatter(\n",
    "    x = Tlse_year[firstPlotYear:lastPlotYear],\n",
    "    y = moyMAreaInterval_26[q,:],\n",
    "    name ='Moyenne 2.6 du mois %s'%Tlse_month[calcMonth[q]]\n",
    ")\n",
    "trace45_1 = go.Scatter(\n",
    "    x = Tlse_year[firstPlotYear:lastPlotYear],\n",
    "    y = moyMAreaInterval_45[q,:],\n",
    "    name ='Moyenne 4.5 du mois %s'%Tlse_month[calcMonth[q]]\n",
    ")\n",
    "\n",
    "trace85_1 = go.Scatter(\n",
    "    x = Tlse_year[firstPlotYear:lastPlotYear],\n",
    "    y = moyMAreaInterval_85[q,:],\n",
    "    name ='Moyenne 8.5 du mois %s'%Tlse_month[calcMonth[q]]\n",
    ")\n",
    "\n",
    "q = 2\n",
    "trace26_2 = go.Scatter(\n",
    "    x = Tlse_year[firstPlotYear:lastPlotYear],\n",
    "    y = moyMAreaInterval_26[q,:],\n",
    "    name =\"Moyenne 2.6 de l'année\"\n",
    ")\n",
    "trace45_2 = go.Scatter(\n",
    "    x = Tlse_year[firstPlotYear:lastPlotYear],\n",
    "    y = moyMAreaInterval_45[q,:],\n",
    "    name =\"Moyenne 4.5 de l'année\"\n",
    ")\n",
    "\n",
    "trace85_2 = go.Scatter(\n",
    "    x = Tlse_year[firstPlotYear:lastPlotYear],\n",
    "    y = moyMAreaInterval_85[q,:],\n",
    "    name =\"Moyenne 8.5 de l'année\"\n",
    ")\n",
    "\n",
    "fig = tools.make_subplots(rows=3, \n",
    "                          cols=1, \n",
    "                          subplot_titles=(\"mois de janvier \",\"mois d'aout\",\"max de l'année\"))\n",
    "\n",
    "fig.append_trace(trace26_0, 1, 1)\n",
    "fig.append_trace(trace45_0, 1, 1)\n",
    "fig.append_trace(trace85_0, 1, 1)\n",
    "fig.append_trace(trace26_1, 2, 1)\n",
    "fig.append_trace(trace45_1, 2, 1)\n",
    "fig.append_trace(trace85_1, 2, 1)\n",
    "fig.append_trace(trace26_2, 3, 1)\n",
    "fig.append_trace(trace45_2, 3, 1)\n",
    "fig.append_trace(trace85_2, 3, 1)\n",
    "\n",
    "fig['layout']['xaxis1'].update(title='Year')\n",
    "fig['layout']['xaxis2'].update(title='Year')\n",
    "fig['layout']['xaxis3'].update(title='Year')\n",
    "fig['layout']['yaxis1'].update(title='Degrees C')\n",
    "fig['layout']['yaxis2'].update(title='Degrees C')\n",
    "fig['layout']['yaxis3'].update(title='Degrees C')\n",
    "fig['layout']['margin'] = {'l': 50, 'r': 10, 'b': 50, 't': 50}\n",
    "fig['layout'].update(autosize = False, height=1200, width=900, title='Températures maximales moyennées sur 30 ans\\n')\n",
    "\n",
    "#py.iplot(fig, filename='basic-line')"
   ]
  },
  {
   "cell_type": "markdown",
   "metadata": {},
   "source": [
    "#### Modifications et enrichissement de la figure\n",
    "Les deux blocs ci-dessous permettent d'améliorer le rendu et d'annoter la figure. Le premier produit un fichier plotly qui peut être ouvert et modifié avec l'éditeur puis sauvegardé sous un nouveau nom par le second."
   ]
  },
  {
   "cell_type": "code",
   "execution_count": 11,
   "metadata": {},
   "outputs": [],
   "source": [
    "pio.write_json(fig, 'scatter1.plotly')"
   ]
  },
  {
   "cell_type": "code",
   "execution_count": 28,
   "metadata": {},
   "outputs": [],
   "source": [
    "fig_styled = pio.read_json('scatter1+.plotly', output_type='FigureWidget')\n",
    "#py.iplot(fig_styled, filename='styled-basic-line')"
   ]
  },
  {
   "cell_type": "code",
   "execution_count": 28,
   "metadata": {},
   "outputs": [],
   "source": [
    "# Using online file takes a little more time\n",
    "# Calculate the number of years yielding a result\n",
    "moymAreaInterval_26 = np.zeros((lencalcMonths, nbYears))\n",
    "moymAreaInterval_45 = np.zeros((lencalcMonths, nbYears))\n",
    "moymAreaInterval_85 = np.zeros((lencalcMonths, nbYears))\n",
    "# Tmax, i and j are computed to localize the mean\n",
    "for p in range(startYear, endYear) :\n",
    "    a = startYear + p\n",
    "    b = a + yearInterval\n",
    "    moymAreaInterval_26[:,p] = np.mean(Tlse_tmin26[a:b,calcMonth,startj:endj,starti:endi],axis=(0,2,3)) \n",
    "    moymAreaInterval_45[:,p] = np.mean(Tlse_tmin45[a:b,calcMonth,startj:endj,starti:endi],axis=(0,2,3)) \n",
    "    moymAreaInterval_85[:,p] = np.mean(Tlse_tmin85[a:b,calcMonth,startj:endj,starti:endi],axis=(0,2,3)) \n",
    "firstPlotYear = startYear + yearInterval\n",
    "lastPlotYear = firstPlotYear + yearPeriod\n",
    "#data = [] #* lencalcMonths\n",
    "#trace = [] #* lencalcMonths# Using online file takes a little more time"
   ]
  },
  {
   "cell_type": "markdown",
   "metadata": {},
   "source": [
    "Le diagramme ci-dessous  représente l'évolution sur `yearPeriod` années de la température dans la région Lyonnaise.(Décommenter la dernière ligne du bloc pour afficher la figure)"
   ]
  },
  {
   "cell_type": "code",
   "execution_count": 80,
   "metadata": {},
   "outputs": [
    {
     "name": "stdout",
     "output_type": "stream",
     "text": [
      "This is the format of your plot grid:\n",
      "[ (1,1) x1,y1 ]\n",
      "[ (2,1) x2,y2 ]\n",
      "[ (3,1) x3,y3 ]\n",
      "\n"
     ]
    },
    {
     "data": {
      "text/plain": [
       "Layout({\n",
       "    'annotations': [{'font': {'size': 16},\n",
       "                     'showarrow': False,\n",
       "                     'text': 'mois de janvier',\n",
       "                     'x': 0.5,\n",
       "                     'xanchor': 'center',\n",
       "                     'xref': 'paper',\n",
       "                     'y': 1.0,\n",
       "                     'yanchor': 'bottom',\n",
       "                     'yref': 'paper'},\n",
       "                    {'font': {'size': 16},\n",
       "                     'showarrow': False,\n",
       "                     'text': \"mois d'aout\",\n",
       "                     'x': 0.5,\n",
       "                     'xanchor': 'center',\n",
       "                     'xref': 'paper',\n",
       "                     'y': 0.6111111111111112,\n",
       "                     'yanchor': 'bottom',\n",
       "                     'yref': 'paper'},\n",
       "                    {'font': {'size': 16},\n",
       "                     'showarrow': False,\n",
       "                     'text': \"minimum de l'année\",\n",
       "                     'x': 0.5,\n",
       "                     'xanchor': 'center',\n",
       "                     'xref': 'paper',\n",
       "                     'y': 0.22222222222222224,\n",
       "                     'yanchor': 'bottom',\n",
       "                     'yref': 'paper'}],\n",
       "    'height': 1200,\n",
       "    'margin': {'b': 50, 'l': 50, 'r': 10, 't': 50},\n",
       "    'title': {'text': 'Températures minimales moyennées sur 30 ans'},\n",
       "    'width': 900,\n",
       "    'xaxis': {'anchor': 'y', 'domain': [0.0, 1.0], 'title': {'text': 'Year'}},\n",
       "    'xaxis2': {'anchor': 'y2', 'domain': [0.0, 1.0], 'title': {'text': 'Year'}},\n",
       "    'xaxis3': {'anchor': 'y3', 'domain': [0.0, 1.0], 'title': {'text': 'Year'}},\n",
       "    'yaxis': {'anchor': 'x', 'domain': [0.7777777777777778, 1.0], 'title': {'text': 'Degrees C'}},\n",
       "    'yaxis2': {'anchor': 'x2', 'domain': [0.3888888888888889, 0.6111111111111112], 'title': {'text': 'Degrees C'}},\n",
       "    'yaxis3': {'anchor': 'x3', 'domain': [0.0, 0.22222222222222224], 'title': {'text': 'Degrees C'}}\n",
       "})"
      ]
     },
     "execution_count": 80,
     "metadata": {},
     "output_type": "execute_result"
    }
   ],
   "source": [
    "q = 0\n",
    "trace26_0 = go.Scatter(\n",
    "    x = Tlse_year[firstPlotYear:lastPlotYear],\n",
    "    y = moymAreaInterval_26[q,:],\n",
    "    name ='Moyenne 2.6 du mois %s'%Tlse_month[calcMonth[q]]\n",
    ")\n",
    "trace45_0 = go.Scatter(\n",
    "    x = Tlse_year[firstPlotYear:lastPlotYear],\n",
    "    y = moymAreaInterval_45[q,:],\n",
    "    name ='Moyenne 4.5 du mois %s'%Tlse_month[calcMonth[q]]\n",
    ")\n",
    "trace85_0 = go.Scatter(\n",
    "    x = Tlse_year[firstPlotYear:lastPlotYear],\n",
    "    y = moymAreaInterval_85[q,:],\n",
    "    name ='Moyenne 8.5 du mois %s'%Tlse_month[calcMonth[q]]\n",
    ")\n",
    "\n",
    "q = 1\n",
    "trace26_1 = go.Scatter(\n",
    "    x = Tlse_year[firstPlotYear:lastPlotYear],\n",
    "    y = moymAreaInterval_26[q,:],\n",
    "    name ='Moyenne 2.6 du mois %s'%Tlse_month[calcMonth[q]]\n",
    ")\n",
    "trace45_1 = go.Scatter(\n",
    "    x = Tlse_year[firstPlotYear:lastPlotYear],\n",
    "    y = moymAreaInterval_45[q,:],\n",
    "    name ='Moyenne 4.5 du mois %s'%Tlse_month[calcMonth[q]]\n",
    ")\n",
    "\n",
    "trace85_1 = go.Scatter(\n",
    "    x = Tlse_year[firstPlotYear:lastPlotYear],\n",
    "    y = moymAreaInterval_85[q,:],\n",
    "    name ='Moyenne 8.5 du mois %s'%Tlse_month[calcMonth[q]]\n",
    ")\n",
    "\n",
    "q = 2\n",
    "trace26_2 = go.Scatter(\n",
    "    x = Tlse_year[firstPlotYear:lastPlotYear],\n",
    "    y = moymAreaInterval_26[q,:],\n",
    "    name ='Moyenne 2.6 du mois %s'%Tlse_month[calcMonth[q]]\n",
    ")\n",
    "trace45_2 = go.Scatter(\n",
    "    x = Tlse_year[firstPlotYear:lastPlotYear],\n",
    "    y = moymAreaInterval_45[q,:],\n",
    "    name ='Moyenne 4.5 du mois %s'%Tlse_month[calcMonth[q]]\n",
    ")\n",
    "\n",
    "trace85_2 = go.Scatter(\n",
    "    x = Tlse_year[firstPlotYear:lastPlotYear],\n",
    "    y = moymAreaInterval_85[q,:],\n",
    "    name ='Moyenne 8.5 du mois %s'%Tlse_month[calcMonth[q]]\n",
    ")\n",
    "\n",
    "fig = tools.make_subplots(rows=3, \n",
    "                          cols=1, \n",
    "                          subplot_titles=(\"mois de janvier\",\n",
    "                                          \"mois d'aout\",\n",
    "                                          \"minimum de l'année\"))\n",
    "\n",
    "fig.append_trace(trace26_0, 1, 1)\n",
    "fig.append_trace(trace45_0, 1, 1)\n",
    "fig.append_trace(trace85_0, 1, 1)\n",
    "fig.append_trace(trace26_1, 2, 1)\n",
    "fig.append_trace(trace45_1, 2, 1)\n",
    "fig.append_trace(trace85_1, 2, 1)\n",
    "fig.append_trace(trace26_2, 3, 1)\n",
    "fig.append_trace(trace45_2, 3, 1)\n",
    "fig.append_trace(trace85_2, 3, 1)\n",
    "\n",
    "\n",
    "fig['layout']['xaxis1'].update(title='Year')\n",
    "fig['layout']['xaxis2'].update(title='Year')\n",
    "fig['layout']['xaxis3'].update(title='Year')\n",
    "fig['layout']['yaxis1'].update(title='Degrees C')\n",
    "fig['layout']['yaxis2'].update(title='Degrees C')\n",
    "fig['layout']['yaxis3'].update(title='Degrees C')\n",
    "fig['layout']['margin'] = {'l': 50, 'r': 10, 'b': 50, 't': 50}\n",
    "fig['layout'].update(height=1200, width=900, title='Températures minimales moyennées sur 30 ans')\n",
    "\n",
    "#py.iplot(fig, filename='basic-line')"
   ]
  },
  {
   "cell_type": "markdown",
   "metadata": {},
   "source": [
    "#### Modifications et enrichissement de la figure"
   ]
  },
  {
   "cell_type": "code",
   "execution_count": 15,
   "metadata": {},
   "outputs": [],
   "source": [
    "pio.write_json(fig, 'scatter2.plotly')"
   ]
  },
  {
   "cell_type": "code",
   "execution_count": 27,
   "metadata": {},
   "outputs": [],
   "source": [
    "fig_styled = pio.read_json('scatter2+.plotly', output_type='FigureWidget')\n",
    "#py.iplot(fig_styled, filename='styled-basic-line')"
   ]
  },
  {
   "cell_type": "code",
   "execution_count": 32,
   "metadata": {},
   "outputs": [],
   "source": [
    "# Using online file takes a little more time\n",
    "# Calculate the number of years yielding a result\n",
    "moyDAreaInterval_26 = np.zeros((lencalcMonths, nbYears))\n",
    "moyDAreaInterval_45 = np.zeros((lencalcMonths, nbYears))\n",
    "moyDAreaInterval_85 = np.zeros((lencalcMonths, nbYears))\n",
    "# Tmax, i and j are computed to localize the mean\n",
    "for p in range(startYear, endYear) :\n",
    "    a = startYear + p\n",
    "    b = a + yearInterval\n",
    "    moyDAreaInterval_26[:,p] = np.mean(Tlse_delta26[a:b,calcMonth,startj:endj,starti:endi],axis=(0,2,3)) \n",
    "    moyDAreaInterval_45[:,p] = np.mean(Tlse_delta45[a:b,calcMonth,startj:endj,starti:endi],axis=(0,2,3)) \n",
    "    moyDAreaInterval_85[:,p] = np.mean(Tlse_delta85[a:b,calcMonth,startj:endj,starti:endi],axis=(0,2,3)) \n",
    "firstPlotYear = startYear + yearInterval\n",
    "lastPlotYear = firstPlotYear + yearPeriod\n",
    "#data = [] #* lencalcMonths\n",
    "#trace = [] #* lencalcMonths# Using online file takes a little more time"
   ]
  },
  {
   "cell_type": "code",
   "execution_count": 81,
   "metadata": {},
   "outputs": [
    {
     "name": "stdout",
     "output_type": "stream",
     "text": [
      "This is the format of your plot grid:\n",
      "[ (1,1) x1,y1 ]\n",
      "[ (2,1) x2,y2 ]\n",
      "[ (3,1) x3,y3 ]\n",
      "\n"
     ]
    },
    {
     "data": {
      "text/plain": [
       "Layout({\n",
       "    'annotations': [{'font': {'size': 16},\n",
       "                     'showarrow': False,\n",
       "                     'text': 'mois de janvier ',\n",
       "                     'x': 0.5,\n",
       "                     'xanchor': 'center',\n",
       "                     'xref': 'paper',\n",
       "                     'y': 1.0,\n",
       "                     'yanchor': 'bottom',\n",
       "                     'yref': 'paper'},\n",
       "                    {'font': {'size': 16},\n",
       "                     'showarrow': False,\n",
       "                     'text': \"mois d'aout\",\n",
       "                     'x': 0.5,\n",
       "                     'xanchor': 'center',\n",
       "                     'xref': 'paper',\n",
       "                     'y': 0.6111111111111112,\n",
       "                     'yanchor': 'bottom',\n",
       "                     'yref': 'paper'},\n",
       "                    {'font': {'size': 16},\n",
       "                     'showarrow': False,\n",
       "                     'text': \"max de l'année\",\n",
       "                     'x': 0.5,\n",
       "                     'xanchor': 'center',\n",
       "                     'xref': 'paper',\n",
       "                     'y': 0.22222222222222224,\n",
       "                     'yanchor': 'bottom',\n",
       "                     'yref': 'paper'}],\n",
       "    'autosize': False,\n",
       "    'height': 1200,\n",
       "    'margin': {'b': 50, 'l': 50, 'r': 10, 't': 50},\n",
       "    'title': {'text': 'Écart de température journalier moyennées sur 30 ans\\n'},\n",
       "    'width': 900,\n",
       "    'xaxis': {'anchor': 'y', 'domain': [0.0, 1.0], 'title': {'text': 'Year'}},\n",
       "    'xaxis2': {'anchor': 'y2', 'domain': [0.0, 1.0], 'title': {'text': 'Year'}},\n",
       "    'xaxis3': {'anchor': 'y3', 'domain': [0.0, 1.0], 'title': {'text': 'Year'}},\n",
       "    'yaxis': {'anchor': 'x', 'domain': [0.7777777777777778, 1.0], 'title': {'text': 'Degrees C'}},\n",
       "    'yaxis2': {'anchor': 'x2', 'domain': [0.3888888888888889, 0.6111111111111112], 'title': {'text': 'Degrees C'}},\n",
       "    'yaxis3': {'anchor': 'x3', 'domain': [0.0, 0.22222222222222224], 'title': {'text': 'Degrees C'}}\n",
       "})"
      ]
     },
     "execution_count": 81,
     "metadata": {},
     "output_type": "execute_result"
    }
   ],
   "source": [
    "q = 0\n",
    "trace26_0 = go.Scatter(\n",
    "    x = Tlse_year[firstPlotYear:lastPlotYear],\n",
    "    y = moyDAreaInterval_26[q,:],\n",
    "    name ='Moyenne 2.6 du mois %s'%Tlse_month[calcMonth[q]]\n",
    ")\n",
    "trace45_0 = go.Scatter(\n",
    "    x = Tlse_year[firstPlotYear:lastPlotYear],\n",
    "    y = moyDAreaInterval_45[q,:],\n",
    "    name ='Moyenne 4.5 du mois %s'%Tlse_month[calcMonth[q]]\n",
    ")\n",
    "trace85_0 = go.Scatter(\n",
    "    x = Tlse_year[firstPlotYear:lastPlotYear],\n",
    "    y = moyDAreaInterval_85[q,:],\n",
    "    name ='Moyenne 8.5 du mois %s'%Tlse_month[calcMonth[q]]\n",
    ")\n",
    "\n",
    "q = 1\n",
    "trace26_1 = go.Scatter(\n",
    "    x = Tlse_year[firstPlotYear:lastPlotYear],\n",
    "    y = moyDAreaInterval_26[q,:],\n",
    "    name ='Moyenne 2.6 du mois %s'%Tlse_month[calcMonth[q]]\n",
    ")\n",
    "trace45_1 = go.Scatter(\n",
    "    x = Tlse_year[firstPlotYear:lastPlotYear],\n",
    "    y = moyDAreaInterval_45[q,:],\n",
    "    name ='Moyenne 4.5 du mois %s'%Tlse_month[calcMonth[q]]\n",
    ")\n",
    "\n",
    "trace85_1 = go.Scatter(\n",
    "    x = Tlse_year[firstPlotYear:lastPlotYear],\n",
    "    y = moyDAreaInterval_85[q,:],\n",
    "    name ='Moyenne 8.5 du mois %s'%Tlse_month[calcMonth[q]]\n",
    ")\n",
    "\n",
    "q = 2\n",
    "trace26_2 = go.Scatter(\n",
    "    x = Tlse_year[firstPlotYear:lastPlotYear],\n",
    "    y = moyDAreaInterval_26[q,:],\n",
    "    name =\"Moyenne 2.6 de l'année\"\n",
    ")\n",
    "trace45_2 = go.Scatter(\n",
    "    x = Tlse_year[firstPlotYear:lastPlotYear],\n",
    "    y = moyDAreaInterval_45[q,:],\n",
    "    name =\"Moyenne 4.5 de l'année\"\n",
    ")\n",
    "\n",
    "trace85_2 = go.Scatter(\n",
    "    x = Tlse_year[firstPlotYear:lastPlotYear],\n",
    "    y = moyDAreaInterval_85[q,:],\n",
    "    name =\"Moyenne 8.5 de l'année\"\n",
    ")\n",
    "\n",
    "fig = tools.make_subplots(rows=3, \n",
    "                          cols=1, \n",
    "                          subplot_titles=(\"mois de janvier \",\"mois d'aout\",\"max de l'année\"))\n",
    "\n",
    "fig.append_trace(trace26_0, 1, 1)\n",
    "fig.append_trace(trace45_0, 1, 1)\n",
    "fig.append_trace(trace85_0, 1, 1)\n",
    "fig.append_trace(trace26_1, 2, 1)\n",
    "fig.append_trace(trace45_1, 2, 1)\n",
    "fig.append_trace(trace85_1, 2, 1)\n",
    "fig.append_trace(trace26_2, 3, 1)\n",
    "fig.append_trace(trace45_2, 3, 1)\n",
    "fig.append_trace(trace85_2, 3, 1)\n",
    "\n",
    "fig['layout']['xaxis1'].update(title='Year')\n",
    "fig['layout']['xaxis2'].update(title='Year')\n",
    "fig['layout']['xaxis3'].update(title='Year')\n",
    "fig['layout']['yaxis1'].update(title='Degrees C')\n",
    "fig['layout']['yaxis2'].update(title='Degrees C')\n",
    "fig['layout']['yaxis3'].update(title='Degrees C')\n",
    "fig['layout']['margin'] = {'l': 50, 'r': 10, 'b': 50, 't': 50}\n",
    "fig['layout'].update(autosize = False, height=1200, width=900, title='Écart de température journalier moyennées sur 30 ans\\n')\n",
    "\n",
    "#py.iplot(fig, filename='basic-line')"
   ]
  },
  {
   "cell_type": "code",
   "execution_count": 36,
   "metadata": {},
   "outputs": [],
   "source": [
    "# Using online file takes a little more time\n",
    "# Calculate the number of years yielding a result\n",
    "moypAreaInterval_26 = np.zeros((lencalcMonths, nbYears))\n",
    "moypAreaInterval_45 = np.zeros((lencalcMonths, nbYears))\n",
    "moypAreaInterval_85 = np.zeros((lencalcMonths, nbYears))\n",
    "# Tmax, i and j are computed to localize the mean\n",
    "for p in range(startYear, endYear) :\n",
    "    a = startYear + p\n",
    "    b = a + yearInterval\n",
    "    moypAreaInterval_26[:, p] = np.mean(Tlse_rstr26[a:b, calcMonth, startj:endj, starti:endi], axis=(0, 2, 3))\n",
    "    moypAreaInterval_45[:, p] = np.mean(Tlse_rstr45[a:b, calcMonth, startj:endj, starti:endi], axis=(0, 2, 3))\n",
    "    moypAreaInterval_85[:, p] = np.mean(Tlse_rstr85[a:b, calcMonth, startj:endj, starti:endi], axis=(0, 2, 3))\n",
    "firstPlotYear = startYear + yearInterval\n",
    "lastPlotYear = firstPlotYear + yearPeriod\n",
    "data = [] #* lencalcMonths\n",
    "trace = [] #* lencalcMonths# Using online file takes a little more time"
   ]
  },
  {
   "cell_type": "code",
   "execution_count": 82,
   "metadata": {},
   "outputs": [
    {
     "name": "stdout",
     "output_type": "stream",
     "text": [
      "This is the format of your plot grid:\n",
      "[ (1,1) x1,y1 ]\n",
      "[ (2,1) x2,y2 ]\n",
      "[ (3,1) x3,y3 ]\n",
      "\n"
     ]
    },
    {
     "data": {
      "text/plain": [
       "Layout({\n",
       "    'annotations': [{'font': {'size': 16},\n",
       "                     'showarrow': False,\n",
       "                     'text': 'mois de janvier',\n",
       "                     'x': 0.5,\n",
       "                     'xanchor': 'center',\n",
       "                     'xref': 'paper',\n",
       "                     'y': 1.0,\n",
       "                     'yanchor': 'bottom',\n",
       "                     'yref': 'paper'},\n",
       "                    {'font': {'size': 16},\n",
       "                     'showarrow': False,\n",
       "                     'text': \"mois d'aout\",\n",
       "                     'x': 0.5,\n",
       "                     'xanchor': 'center',\n",
       "                     'xref': 'paper',\n",
       "                     'y': 0.6111111111111112,\n",
       "                     'yanchor': 'bottom',\n",
       "                     'yref': 'paper'},\n",
       "                    {'font': {'size': 16},\n",
       "                     'showarrow': False,\n",
       "                     'text': \"moyenne mensuelle sur l'année\",\n",
       "                     'x': 0.5,\n",
       "                     'xanchor': 'center',\n",
       "                     'xref': 'paper',\n",
       "                     'y': 0.22222222222222224,\n",
       "                     'yanchor': 'bottom',\n",
       "                     'yref': 'paper'}],\n",
       "    'height': 1200,\n",
       "    'title': {'text': 'Précipitations moyennées sur 30 ans'},\n",
       "    'width': 900,\n",
       "    'xaxis': {'anchor': 'y', 'domain': [0.0, 1.0], 'title': {'text': 'Année'}},\n",
       "    'xaxis2': {'anchor': 'y2', 'domain': [0.0, 1.0], 'title': {'text': 'Année'}},\n",
       "    'xaxis3': {'anchor': 'y3', 'domain': [0.0, 1.0], 'title': {'text': 'Année'}},\n",
       "    'yaxis': {'anchor': 'x', 'domain': [0.7777777777777778, 1.0], 'title': {'text': 'mm of rain'}},\n",
       "    'yaxis2': {'anchor': 'x2', 'domain': [0.3888888888888889, 0.6111111111111112], 'title': {'text': 'mm of rain'}},\n",
       "    'yaxis3': {'anchor': 'x3', 'domain': [0.0, 0.22222222222222224], 'title': {'text': 'mm of rain'}}\n",
       "})"
      ]
     },
     "execution_count": 82,
     "metadata": {},
     "output_type": "execute_result"
    }
   ],
   "source": [
    "q = 0\n",
    "trace26_0 = go.Scatter(\n",
    "    x = Tlse_year[firstPlotYear:lastPlotYear],\n",
    "    y = moypAreaInterval_26[q,:],\n",
    "    name ='Moyenne 2.6 du mois %s'%Tlse_month[calcMonth[q]],\n",
    ")\n",
    "trace45_0 = go.Scatter(\n",
    "    x = Tlse_year[firstPlotYear:lastPlotYear],\n",
    "    y = moypAreaInterval_45[q,:],\n",
    "    name ='Moyenne 4.5 du mois %s'%Tlse_month[calcMonth[q]],\n",
    ")\n",
    "trace85_0 = go.Scatter(\n",
    "    x = Tlse_year[firstPlotYear:lastPlotYear],\n",
    "    y = moypAreaInterval_85[q,:],\n",
    "    name ='Moyenne 8.5 du mois %s'%Tlse_month[calcMonth[q]],\n",
    ")\n",
    "\n",
    "q = 1\n",
    "trace26_1 = go.Scatter(\n",
    "    x = Tlse_year[firstPlotYear:lastPlotYear],\n",
    "    y = moypAreaInterval_26[q,:],\n",
    "    name ='Moyenne 2.6 du mois %s'%Tlse_month[calcMonth[q]],\n",
    ")\n",
    "trace45_1 = go.Scatter(\n",
    "    x = Tlse_year[firstPlotYear:lastPlotYear],\n",
    "    y = moypAreaInterval_45[q,:],\n",
    "    name ='Moyenne 4.5 du mois %s'%Tlse_month[calcMonth[q]],\n",
    ")\n",
    "\n",
    "trace85_1 = go.Scatter(\n",
    "    x = Tlse_year[firstPlotYear:lastPlotYear],\n",
    "    y = moypAreaInterval_85[q,:],\n",
    "    name ='Moyenne 8.5 du mois %s'%Tlse_month[calcMonth[q]],\n",
    "    opacity=0.75\n",
    ")\n",
    "\n",
    "q = 2\n",
    "trace26_2 = go.Scatter(\n",
    "    x = Tlse_year[firstPlotYear:lastPlotYear],\n",
    "    y = moypAreaInterval_26[q,:],\n",
    "    name ='Moyenne 2.6 du mois %s'%Tlse_month[calcMonth[q]],\n",
    ")\n",
    "trace45_2 = go.Scatter(\n",
    "    x = Tlse_year[firstPlotYear:lastPlotYear],\n",
    "    y = moypAreaInterval_45[q,:],\n",
    "    name ='Moyenne 4.5 du mois %s'%Tlse_month[calcMonth[q]],\n",
    ")\n",
    "\n",
    "trace85_2 = go.Scatter(\n",
    "    x = Tlse_year[firstPlotYear:lastPlotYear],\n",
    "    y = moypAreaInterval_85[q,:],\n",
    "    name ='Moyenne 8.5 du mois %s'%Tlse_month[calcMonth[q]],\n",
    ")\n",
    "\n",
    "fig = tools.make_subplots(rows=3, \n",
    "                          cols=1, \n",
    "                          subplot_titles=(\"mois de janvier\",\n",
    "                                          \"mois d'aout\",\n",
    "                                          \"moyenne mensuelle sur l'année\"))\n",
    "\n",
    "fig.append_trace(trace26_0, 1, 1)\n",
    "fig.append_trace(trace45_0, 1, 1)\n",
    "fig.append_trace(trace85_0, 1, 1)\n",
    "fig.append_trace(trace26_1, 2, 1)\n",
    "fig.append_trace(trace45_1, 2, 1)\n",
    "fig.append_trace(trace85_1, 2, 1)\n",
    "fig.append_trace(trace26_2, 3, 1)\n",
    "fig.append_trace(trace45_2, 3, 1)\n",
    "fig.append_trace(trace85_2, 3, 1)\n",
    "\n",
    "fig['layout']['xaxis1'].update(title='Année')\n",
    "fig['layout']['xaxis2'].update(title='Année')\n",
    "fig['layout']['xaxis3'].update(title='Année')\n",
    "fig['layout']['yaxis1'].update(title='mm of rain')\n",
    "fig['layout']['yaxis2'].update(title='mm of rain')\n",
    "fig['layout']['yaxis3'].update(title='mm of rain')\n",
    "fig['layout'].update(height=1200, width=900, title='Précipitations moyennées sur 30 ans')\n",
    "#fig['layout']['margin'] = {'l': 50, 'r': 10, 'b': 50, 't': 50}\n",
    "#fig['layout'].update(title='Température moyenne maximale du mois de juillet', \n",
    "#                     autosize=False, width=800, height=380)  \n",
    "\n",
    "#py.iplot(fig, filename='basic-line')"
   ]
  },
  {
   "cell_type": "markdown",
   "metadata": {},
   "source": [
    "#### Modifications et enrichissement de la figure"
   ]
  },
  {
   "cell_type": "code",
   "execution_count": 20,
   "metadata": {},
   "outputs": [],
   "source": [
    "pio.write_json(fig, 'scatter3.plotly')"
   ]
  },
  {
   "cell_type": "code",
   "execution_count": 26,
   "metadata": {},
   "outputs": [],
   "source": [
    "fig_styled = pio.read_json('scatter3+.plotly', output_type='FigureWidget')\n",
    "#py.iplot(fig_styled, filename='styled-basic-line')"
   ]
  },
  {
   "cell_type": "code",
   "execution_count": 38,
   "metadata": {},
   "outputs": [],
   "source": [
    "# Using online file takes a little more time\n",
    "# Calculate the number of years yielding a result\n",
    "moycAreaInterval_26 = np.zeros((lencalcMonths, nbYears))\n",
    "moycAreaInterval_45 = np.zeros((lencalcMonths, nbYears))\n",
    "moycAreaInterval_85 = np.zeros((lencalcMonths, nbYears))\n",
    "# Tmax, i and j are computed to localize the mean\n",
    "for p in range(startYear, endYear) :\n",
    "    a = startYear + p\n",
    "    b = a + yearInterval\n",
    "    moycAreaInterval_26[:, p] = np.mean(Tlse_rstrc26[a:b, calcMonth, startj:endj, starti:endi], axis=(0, 2, 3))\n",
    "    moycAreaInterval_45[:, p] = np.mean(Tlse_rstrc45[a:b, calcMonth, startj:endj, starti:endi], axis=(0, 2, 3))\n",
    "    moycAreaInterval_85[:, p] = np.mean(Tlse_rstrc85[a:b, calcMonth, startj:endj, starti:endi], axis=(0, 2, 3))\n",
    "firstPlotYear = startYear + yearInterval\n",
    "lastPlotYear = firstPlotYear + yearPeriod\n",
    "data = [] #* lencalcMonths\n",
    "trace = [] #* lencalcMonths# Using online file takes a little more time"
   ]
  },
  {
   "cell_type": "code",
   "execution_count": 83,
   "metadata": {},
   "outputs": [
    {
     "name": "stdout",
     "output_type": "stream",
     "text": [
      "This is the format of your plot grid:\n",
      "[ (1,1) x1,y1 ]\n",
      "[ (2,1) x2,y2 ]\n",
      "[ (3,1) x3,y3 ]\n",
      "\n"
     ]
    },
    {
     "data": {
      "text/plain": [
       "Layout({\n",
       "    'annotations': [{'font': {'size': 16},\n",
       "                     'showarrow': False,\n",
       "                     'text': 'Mois de janvier',\n",
       "                     'x': 0.5,\n",
       "                     'xanchor': 'center',\n",
       "                     'xref': 'paper',\n",
       "                     'y': 1.0,\n",
       "                     'yanchor': 'bottom',\n",
       "                     'yref': 'paper'},\n",
       "                    {'font': {'size': 16},\n",
       "                     'showarrow': False,\n",
       "                     'text': \"Mois d'aout\",\n",
       "                     'x': 0.5,\n",
       "                     'xanchor': 'center',\n",
       "                     'xref': 'paper',\n",
       "                     'y': 0.6111111111111112,\n",
       "                     'yanchor': 'bottom',\n",
       "                     'yref': 'paper'},\n",
       "                    {'font': {'size': 16},\n",
       "                     'showarrow': False,\n",
       "                     'text': 'Cumul annuel de précipitations',\n",
       "                     'x': 0.5,\n",
       "                     'xanchor': 'center',\n",
       "                     'xref': 'paper',\n",
       "                     'y': 0.22222222222222224,\n",
       "                     'yanchor': 'bottom',\n",
       "                     'yref': 'paper'}],\n",
       "    'height': 1200,\n",
       "    'title': {'text': 'Précipitations cumulées moyennées sur 30 ans\"'},\n",
       "    'width': 1000,\n",
       "    'xaxis': {'anchor': 'y', 'domain': [0.0, 1.0], 'title': {'text': 'Année'}},\n",
       "    'xaxis2': {'anchor': 'y2', 'domain': [0.0, 1.0], 'title': {'text': 'Année'}},\n",
       "    'xaxis3': {'anchor': 'y3', 'domain': [0.0, 1.0], 'title': {'text': 'Année'}},\n",
       "    'yaxis': {'anchor': 'x', 'domain': [0.7777777777777778, 1.0], 'title': {'text': 'mm of rain'}},\n",
       "    'yaxis2': {'anchor': 'x2', 'domain': [0.3888888888888889, 0.6111111111111112], 'title': {'text': 'mm of rain'}},\n",
       "    'yaxis3': {'anchor': 'x3', 'domain': [0.0, 0.22222222222222224], 'title': {'text': 'mm of rain'}}\n",
       "})"
      ]
     },
     "execution_count": 83,
     "metadata": {},
     "output_type": "execute_result"
    }
   ],
   "source": [
    "q = 0\n",
    "trace26_0 = go.Scatter(\n",
    "    x = Tlse_year[firstPlotYear:lastPlotYear],\n",
    "    y = moycAreaInterval_26[q,:],\n",
    "    name ='Moyenne 2.6 du mois %s'%Tlse_month[calcMonth[q]],\n",
    ")\n",
    "trace45_0 = go.Scatter(\n",
    "    x = Tlse_year[firstPlotYear:lastPlotYear],\n",
    "    y = moycAreaInterval_45[q,:],\n",
    "    name ='Moyenne 4.5 du mois %s'%Tlse_month[calcMonth[q]],\n",
    ")\n",
    "trace85_0 = go.Scatter(\n",
    "    x = Tlse_year[firstPlotYear:lastPlotYear],\n",
    "    y = moycAreaInterval_85[q,:],\n",
    "    name ='Moyenne 8.5 du mois %s'%Tlse_month[calcMonth[q]],\n",
    ")\n",
    "\n",
    "q = 1\n",
    "trace26_1 = go.Scatter(\n",
    "    x = Tlse_year[firstPlotYear:lastPlotYear],\n",
    "    y = moycAreaInterval_26[q,:],\n",
    "    name ='Moyenne 2.6 du mois %s'%Tlse_month[calcMonth[q]],\n",
    "    xaxis='x2',\n",
    "    yaxis='y2'\n",
    "\n",
    ")\n",
    "trace45_1 = go.Scatter(\n",
    "    x = Tlse_year[firstPlotYear:lastPlotYear],\n",
    "    y = moycAreaInterval_45[q,:],\n",
    "    name ='Moyenne 4.5 du mois %s'%Tlse_month[calcMonth[q]],\n",
    "    xaxis='x2',\n",
    "    yaxis='y2'\n",
    ")\n",
    "\n",
    "trace85_1 = go.Scatter(\n",
    "    x = Tlse_year[firstPlotYear:lastPlotYear],\n",
    "    y = moycAreaInterval_85[q,:],\n",
    "    name ='Moyenne 8.5 du mois %s'%Tlse_month[calcMonth[q]],    \n",
    "    xaxis='x2',\n",
    "    yaxis='y2'\n",
    ")\n",
    "\n",
    "q = 2\n",
    "trace26_2 = go.Scatter(\n",
    "    x = Tlse_year[firstPlotYear:lastPlotYear],\n",
    "    y = moycAreaInterval_26[q,:],\n",
    "    name ='Moyenne 2.6 du mois %s'%Tlse_month[calcMonth[q]],\n",
    "    xaxis='x2',\n",
    "    yaxis='y2'\n",
    "\n",
    ")\n",
    "trace45_2 = go.Scatter(\n",
    "    x = Tlse_year[firstPlotYear:lastPlotYear],\n",
    "    y = moycAreaInterval_45[q,:],\n",
    "    name ='Moyenne 4.5 du mois %s'%Tlse_month[calcMonth[q]],\n",
    "    xaxis='x2',\n",
    "    yaxis='y2'\n",
    ")\n",
    "\n",
    "trace85_2 = go.Scatter(\n",
    "    x = Tlse_year[firstPlotYear:lastPlotYear],\n",
    "    y = moycAreaInterval_85[q,:],\n",
    "    name ='Moyenne 8.5 du mois %s'%Tlse_month[calcMonth[q]],    \n",
    "    xaxis='x2',\n",
    "    yaxis='y2'\n",
    ")\n",
    "\n",
    "fig = tools.make_subplots(rows=3, \n",
    "                          cols=1,\n",
    "                          subplot_titles=(\"Mois de janvier\",\n",
    "                                          \"Mois d'aout\",\n",
    "                                          \"Cumul annuel de précipitations\")\n",
    ")\n",
    "\n",
    "fig.append_trace(trace26_0, 1, 1)\n",
    "fig.append_trace(trace45_0, 1, 1)\n",
    "fig.append_trace(trace85_0, 1, 1)\n",
    "fig.append_trace(trace26_1, 2, 1)\n",
    "fig.append_trace(trace45_1, 2, 1)\n",
    "fig.append_trace(trace85_1, 2, 1)\n",
    "fig.append_trace(trace26_2, 3, 1)\n",
    "fig.append_trace(trace45_2, 3, 1)\n",
    "fig.append_trace(trace85_2, 3, 1)\n",
    "fig['layout']['xaxis1'].update(title='Année')\n",
    "fig['layout']['xaxis2'].update(title='Année')\n",
    "fig['layout']['xaxis3'].update(title='Année')\n",
    "fig['layout']['yaxis1'].update(title='mm of rain')\n",
    "fig['layout']['yaxis2'].update(title='mm of rain')\n",
    "fig['layout']['yaxis3'].update(title='mm of rain')\n",
    "fig['layout'].update(height=1200, width=1000, title='Précipitations cumulées moyennées sur 30 ans\"')\n",
    "\n",
    "#py.iplot(fig, filename='basic-line')"
   ]
  },
  {
   "cell_type": "markdown",
   "metadata": {},
   "source": [
    "#### Modifications et enrichissement de la figure"
   ]
  },
  {
   "cell_type": "code",
   "execution_count": 24,
   "metadata": {},
   "outputs": [],
   "source": [
    "pio.write_json(fig, 'scatter4.plotly')"
   ]
  },
  {
   "cell_type": "code",
   "execution_count": 25,
   "metadata": {},
   "outputs": [],
   "source": [
    "fig_styled = pio.read_json('scatter4+.plotly', output_type='FigureWidget')\n",
    "#py.iplot(fig_styled, filename='styled-basic-line')"
   ]
  },
  {
   "cell_type": "markdown",
   "metadata": {},
   "source": [
    "## Approche cartographique des températures aux environs de Toulouse"
   ]
  },
  {
   "cell_type": "code",
   "execution_count": 84,
   "metadata": {},
   "outputs": [
    {
     "name": "stdout",
     "output_type": "stream",
     "text": [
      "This is the format of your plot grid:\n",
      "[ (1,1) x1,y1 ]  [ (1,2) x2,y2 ]\n",
      "\n"
     ]
    },
    {
     "data": {
      "text/plain": [
       "Layout({\n",
       "    'annotations': [{'font': {'size': 16},\n",
       "                     'showarrow': False,\n",
       "                     'text': 'aout 2040',\n",
       "                     'x': 0.225,\n",
       "                     'xanchor': 'center',\n",
       "                     'xref': 'paper',\n",
       "                     'y': 1.0,\n",
       "                     'yanchor': 'bottom',\n",
       "                     'yref': 'paper'},\n",
       "                    {'font': {'size': 16},\n",
       "                     'showarrow': False,\n",
       "                     'text': 'Année 2040',\n",
       "                     'x': 0.775,\n",
       "                     'xanchor': 'center',\n",
       "                     'xref': 'paper',\n",
       "                     'y': 1.0,\n",
       "                     'yanchor': 'bottom',\n",
       "                     'yref': 'paper'}],\n",
       "    'autosize': False,\n",
       "    'height': 500,\n",
       "    'title': {'text': \"Température maximale moyenne du mois d'aout ' scénarios 2.6\"},\n",
       "    'width': 800,\n",
       "    'xaxis': {'anchor': 'y', 'domain': [0.0, 0.45], 'title': {'text': 'Aladin grid J'}},\n",
       "    'xaxis2': {'anchor': 'y2', 'domain': [0.55, 1.0], 'title': {'text': 'Aladin grid J'}},\n",
       "    'yaxis': {'anchor': 'x', 'domain': [0.0, 1.0], 'title': {'text': 'Aladin grid I'}},\n",
       "    'yaxis2': {'anchor': 'x2', 'domain': [0.0, 1.0]}\n",
       "})"
      ]
     },
     "execution_count": 84,
     "metadata": {},
     "output_type": "execute_result"
    }
   ],
   "source": [
    "trace0 = go.Heatmap(z = Tlse_tmax26[34,7,:,:].tolist(), zauto=False, zmin=29,zmax=33)\n",
    "trace1 = go.Heatmap(z = Tlse_tmax26[34, 12, :,:].tolist(), zauto=False, zmin=29,zmax=33)\n",
    "\n",
    "fig = tools.make_subplots(rows=1, cols=2, subplot_titles=('aout 2040','Année 2040'))\n",
    "\n",
    "fig.append_trace(trace0, 1, 1)\n",
    "fig.append_trace(trace1, 1, 2)\n",
    "\n",
    "fig['layout']['xaxis1'].update(title='Aladin grid J')\n",
    "fig['layout']['xaxis2'].update(title='Aladin grid J')\n",
    "fig['layout']['yaxis1'].update(title='Aladin grid I')\n",
    "fig['layout'].update(title=\"Température maximale moyenne du mois d'aout ' scénarios 2.6\", \n",
    "                     autosize=False, width=800, height=500)  \n",
    "#py.iplot(fig, filename='basic-heatmap')"
   ]
  },
  {
   "cell_type": "code",
   "execution_count": 85,
   "metadata": {},
   "outputs": [
    {
     "name": "stdout",
     "output_type": "stream",
     "text": [
      "This is the format of your plot grid:\n",
      "[ (1,1) x1,y1 ]  [ (1,2) x2,y2 ]\n",
      "\n"
     ]
    },
    {
     "data": {
      "text/plain": [
       "Layout({\n",
       "    'annotations': [{'font': {'size': 16},\n",
       "                     'showarrow': False,\n",
       "                     'text': 'janvier 2040',\n",
       "                     'x': 0.225,\n",
       "                     'xanchor': 'center',\n",
       "                     'xref': 'paper',\n",
       "                     'y': 1.0,\n",
       "                     'yanchor': 'bottom',\n",
       "                     'yref': 'paper'},\n",
       "                    {'font': {'size': 16},\n",
       "                     'showarrow': False,\n",
       "                     'text': 'Année 2040',\n",
       "                     'x': 0.775,\n",
       "                     'xanchor': 'center',\n",
       "                     'xref': 'paper',\n",
       "                     'y': 1.0,\n",
       "                     'yanchor': 'bottom',\n",
       "                     'yref': 'paper'}],\n",
       "    'autosize': False,\n",
       "    'height': 500,\n",
       "    'title': {'text': \"Température minimale moyenne du mois d'aout ' scénarios 2.6\"},\n",
       "    'width': 800,\n",
       "    'xaxis': {'anchor': 'y', 'domain': [0.0, 0.45], 'title': {'text': 'Aladin grid J'}},\n",
       "    'xaxis2': {'anchor': 'y2', 'domain': [0.55, 1.0], 'title': {'text': 'Aladin grid J'}},\n",
       "    'yaxis': {'anchor': 'x', 'domain': [0.0, 1.0], 'title': {'text': 'Aladin grid I'}},\n",
       "    'yaxis2': {'anchor': 'x2', 'domain': [0.0, 1.0]}\n",
       "})"
      ]
     },
     "execution_count": 85,
     "metadata": {},
     "output_type": "execute_result"
    }
   ],
   "source": [
    "trace0 = go.Heatmap(z = Tlse_tmin26[34,11,:,:].tolist(), zauto=False, zmin=-1,zmax=3)\n",
    "trace1 = go.Heatmap(z = Tlse_tmin26[34, 12, :,:].tolist(), zauto=False, zmin=-1,zmax=3)\n",
    "\n",
    "fig = tools.make_subplots(rows=1, cols=2, subplot_titles=('janvier 2040','Année 2040'))\n",
    "\n",
    "fig.append_trace(trace0, 1, 1)\n",
    "fig.append_trace(trace1, 1, 2)\n",
    "\n",
    "fig['layout']['xaxis1'].update(title='Aladin grid J')\n",
    "fig['layout']['xaxis2'].update(title='Aladin grid J')\n",
    "fig['layout']['yaxis1'].update(title='Aladin grid I')\n",
    "fig['layout'].update(title=\"Température minimale moyenne du mois d'aout ' scénarios 2.6\", \n",
    "                     autosize=False, width=800, height=500)  \n",
    "#py.iplot(fig, filename='basic-heatmap')"
   ]
  },
  {
   "cell_type": "code",
   "execution_count": 86,
   "metadata": {},
   "outputs": [
    {
     "name": "stdout",
     "output_type": "stream",
     "text": [
      "This is the format of your plot grid:\n",
      "[ (1,1) x1,y1 ]  [ (1,2) x2,y2 ]\n",
      "\n"
     ]
    },
    {
     "data": {
      "text/plain": [
       "Layout({\n",
       "    'annotations': [{'font': {'size': 16},\n",
       "                     'showarrow': False,\n",
       "                     'text': 'aout 2100',\n",
       "                     'x': 0.225,\n",
       "                     'xanchor': 'center',\n",
       "                     'xref': 'paper',\n",
       "                     'y': 1.0,\n",
       "                     'yanchor': 'bottom',\n",
       "                     'yref': 'paper'},\n",
       "                    {'font': {'size': 16},\n",
       "                     'showarrow': False,\n",
       "                     'text': 'Année 2100',\n",
       "                     'x': 0.775,\n",
       "                     'xanchor': 'center',\n",
       "                     'xref': 'paper',\n",
       "                     'y': 1.0,\n",
       "                     'yanchor': 'bottom',\n",
       "                     'yref': 'paper'}],\n",
       "    'autosize': False,\n",
       "    'height': 500,\n",
       "    'title': {'text': \"Température maximale moyenne du mois d'aout ' scénarios 2.6\"},\n",
       "    'width': 800,\n",
       "    'xaxis': {'anchor': 'y', 'domain': [0.0, 0.45], 'title': {'text': 'Aladin grid J'}},\n",
       "    'xaxis2': {'anchor': 'y2', 'domain': [0.55, 1.0], 'title': {'text': 'Aladin grid J'}},\n",
       "    'yaxis': {'anchor': 'x', 'domain': [0.0, 1.0], 'title': {'text': 'Aladin grid I'}},\n",
       "    'yaxis2': {'anchor': 'x2', 'domain': [0.0, 1.0]}\n",
       "})"
      ]
     },
     "execution_count": 86,
     "metadata": {},
     "output_type": "execute_result"
    }
   ],
   "source": [
    "trace0 = go.Heatmap(z = Tlse_tmax26[94,7,:,:].tolist(), zauto=False, zmin=29,zmax=33)\n",
    "trace1 = go.Heatmap(z = Tlse_tmax26[94, 12, :,:].tolist(), zauto=False, zmin=29,zmax=33)\n",
    "\n",
    "fig = tools.make_subplots(rows=1, cols=2, subplot_titles=('aout 2100','Année 2100'))\n",
    "\n",
    "fig.append_trace(trace0, 1, 1)\n",
    "fig.append_trace(trace1, 1, 2)\n",
    "\n",
    "fig['layout']['xaxis1'].update(title='Aladin grid J')\n",
    "fig['layout']['xaxis2'].update(title='Aladin grid J')\n",
    "fig['layout']['yaxis1'].update(title='Aladin grid I')\n",
    "fig['layout'].update(title=\"Température maximale moyenne du mois d'aout ' scénarios 2.6\", \n",
    "                     autosize=False, width=800, height=500)  \n",
    "#py.iplot(fig, filename='basic-heatmap')"
   ]
  },
  {
   "cell_type": "code",
   "execution_count": 27,
   "metadata": {},
   "outputs": [],
   "source": [
    "#### Modifications et enrichissement de la figure"
   ]
  },
  {
   "cell_type": "code",
   "execution_count": 27,
   "metadata": {},
   "outputs": [],
   "source": [
    "pio.write_json(fig, 'scatter5.plotly')"
   ]
  },
  {
   "cell_type": "code",
   "execution_count": 24,
   "metadata": {},
   "outputs": [],
   "source": [
    "fig_styled = pio.read_json('scatter5+.plotly', output_type='FigureWidget')\n",
    "#py.iplot(fig_styled, filename='styled-basic-line')"
   ]
  },
  {
   "cell_type": "markdown",
   "metadata": {},
   "source": [
    "#### Comparaison de 3 horizons pour le mois de juillet en région lyonnaise\n",
    "Ce bloc utilise les données mises en forme dans le bloc précédent pour afficher une comparaison entre  3 horizons. (Décommenter la dernière ligne du bloc pour afficher la figure)"
   ]
  },
  {
   "cell_type": "code",
   "execution_count": 87,
   "metadata": {},
   "outputs": [
    {
     "name": "stdout",
     "output_type": "stream",
     "text": [
      "This is the format of your plot grid:\n",
      "[ (1,1) x1,y1 ]  [ (1,2) x2,y2 ]  [ (1,3) x3,y3 ]\n",
      "[ (2,1) x4,y4 ]  [ (2,2) x5,y5 ]  [ (2,3) x6,y6 ]\n",
      "[ (3,1) x7,y7 ]  [ (3,2) x8,y8 ]  [ (3,3) x9,y9 ]\n",
      "\n"
     ]
    },
    {
     "data": {
      "text/plain": [
       "Layout({\n",
       "    'annotations': [{'font': {'size': 16},\n",
       "                     'showarrow': False,\n",
       "                     'text': 'Année 2030',\n",
       "                     'x': 0.14444444444444446,\n",
       "                     'xanchor': 'center',\n",
       "                     'xref': 'paper',\n",
       "                     'y': 1.0,\n",
       "                     'yanchor': 'bottom',\n",
       "                     'yref': 'paper'},\n",
       "                    {'font': {'size': 16},\n",
       "                     'showarrow': False,\n",
       "                     'text': 'Année 2050',\n",
       "                     'x': 0.5,\n",
       "                     'xanchor': 'center',\n",
       "                     'xref': 'paper',\n",
       "                     'y': 1.0,\n",
       "                     'yanchor': 'bottom',\n",
       "                     'yref': 'paper'},\n",
       "                    {'font': {'size': 16},\n",
       "                     'showarrow': False,\n",
       "                     'text': 'Année 2100',\n",
       "                     'x': 0.8555555555555556,\n",
       "                     'xanchor': 'center',\n",
       "                     'xref': 'paper',\n",
       "                     'y': 1.0,\n",
       "                     'yanchor': 'bottom',\n",
       "                     'yref': 'paper'}],\n",
       "    'autosize': False,\n",
       "    'height': 1100,\n",
       "    'title': {'text': 'Température maximale moyenne du mois de Mars scénarios 2.6 4.5 8.5'},\n",
       "    'width': 800,\n",
       "    'xaxis': {'anchor': 'y', 'domain': [0.0, 0.2888888888888889], 'title': {'text': 'Aladin grid J'}},\n",
       "    'xaxis2': {'anchor': 'y2', 'domain': [0.35555555555555557, 0.6444444444444445], 'title': {'text': 'Aladin grid J'}},\n",
       "    'xaxis3': {'anchor': 'y3', 'domain': [0.7111111111111111, 1.0], 'title': {'text': 'Aladin grid J'}},\n",
       "    'xaxis4': {'anchor': 'y4', 'domain': [0.0, 0.2888888888888889]},\n",
       "    'xaxis5': {'anchor': 'y5', 'domain': [0.35555555555555557, 0.6444444444444445]},\n",
       "    'xaxis6': {'anchor': 'y6', 'domain': [0.7111111111111111, 1.0]},\n",
       "    'xaxis7': {'anchor': 'y7', 'domain': [0.0, 0.2888888888888889]},\n",
       "    'xaxis8': {'anchor': 'y8', 'domain': [0.35555555555555557, 0.6444444444444445]},\n",
       "    'xaxis9': {'anchor': 'y9', 'domain': [0.7111111111111111, 1.0]},\n",
       "    'yaxis': {'anchor': 'x', 'domain': [0.7777777777777778, 1.0], 'title': {'text': 'Aladin grid I'}},\n",
       "    'yaxis2': {'anchor': 'x2', 'domain': [0.7777777777777778, 1.0]},\n",
       "    'yaxis3': {'anchor': 'x3', 'domain': [0.7777777777777778, 1.0]},\n",
       "    'yaxis4': {'anchor': 'x4', 'domain': [0.3888888888888889, 0.6111111111111112]},\n",
       "    'yaxis5': {'anchor': 'x5', 'domain': [0.3888888888888889, 0.6111111111111112]},\n",
       "    'yaxis6': {'anchor': 'x6', 'domain': [0.3888888888888889, 0.6111111111111112]},\n",
       "    'yaxis7': {'anchor': 'x7', 'domain': [0.0, 0.22222222222222224]},\n",
       "    'yaxis8': {'anchor': 'x8', 'domain': [0.0, 0.22222222222222224]},\n",
       "    'yaxis9': {'anchor': 'x9', 'domain': [0.0, 0.22222222222222224]}\n",
       "})"
      ]
     },
     "execution_count": 87,
     "metadata": {},
     "output_type": "execute_result"
    }
   ],
   "source": [
    "trace00 = go.Heatmap(z=Tlse_tmax26[23,2,:,:].tolist(), zauto=False, zmin=10,zmax=15)\n",
    "trace01 = go.Heatmap(z=Tlse_tmax26[53,2,:,:].tolist(), zauto=False, zmin=10,zmax=15)\n",
    "trace02 = go.Heatmap(z=Tlse_tmax26[93,2,:,:].tolist(), zauto=False, zmin=10,zmax=15)\n",
    "trace10 = go.Heatmap(z=Tlse_tmax45[23,2,:,:].tolist(), zauto=False, zmin=10,zmax=15)\n",
    "trace11 = go.Heatmap(z=Tlse_tmax45[53,2,:,:].tolist(), zauto=False, zmin=10,zmax=15)\n",
    "trace12 = go.Heatmap(z=Tlse_tmax45[93,2,:,:].tolist(), zauto=False, zmin=10,zmax=15)\n",
    "trace20 = go.Heatmap(z=Tlse_tmax85[23,2,:,:].tolist(), zauto=False, zmin=10,zmax=15)\n",
    "trace21 = go.Heatmap(z=Tlse_tmax85[53,2,:,:].tolist(), zauto=False, zmin=10,zmax=15)\n",
    "trace22 = go.Heatmap(z=Tlse_tmax85[93,2,:,:].tolist(), zauto=False, zmin=10,zmax=15)\n",
    "\n",
    "fig = tools.make_subplots(rows=3, cols=3, subplot_titles=('Année 2030','Année 2050','Année 2100'))\n",
    "\n",
    "fig.append_trace(trace00, 1, 1)\n",
    "fig.append_trace(trace01, 1, 2)\n",
    "fig.append_trace(trace02, 1, 3)\n",
    "fig.append_trace(trace10, 2, 1)\n",
    "fig.append_trace(trace11, 2, 2)\n",
    "fig.append_trace(trace12, 2, 3)\n",
    "fig.append_trace(trace20, 3, 1)\n",
    "fig.append_trace(trace21, 3, 2)\n",
    "fig.append_trace(trace22, 3, 3)\n",
    "\n",
    "fig['layout']['xaxis1'].update(title='Aladin grid J')\n",
    "fig['layout']['xaxis2'].update(title='Aladin grid J')\n",
    "fig['layout']['xaxis3'].update(title='Aladin grid J')\n",
    "fig['layout']['yaxis1'].update(title='Aladin grid I')\n",
    "fig['layout'].update(title='Température maximale moyenne du mois de Mars scénarios 2.6 4.5 8.5', \n",
    "                     autosize=False, width=800, height=1100)  \n",
    "\n",
    "#py.iplot(fig, filename='basic-heatmap')"
   ]
  },
  {
   "cell_type": "markdown",
   "metadata": {},
   "source": [
    "#### Modifications et enrichissement de la figure"
   ]
  },
  {
   "cell_type": "code",
   "execution_count": 30,
   "metadata": {},
   "outputs": [],
   "source": [
    "pio.write_json(fig, 'scatter6.plotly')"
   ]
  },
  {
   "cell_type": "code",
   "execution_count": 23,
   "metadata": {},
   "outputs": [],
   "source": [
    "fig_styled = pio.read_json('scatter6+.plotly', output_type='FigureWidget')\n",
    "#py.iplot(fig_styled, filename='styled-basic-line')"
   ]
  },
  {
   "cell_type": "code",
   "execution_count": 64,
   "metadata": {},
   "outputs": [],
   "source": [
    "startYear = 44\n",
    "endYear =74\n",
    "slice = lenmonths - 1 # slice = lenmonths pour traiter en plus la moyenne annuelle \n",
    "moyAreaInterval1 = [None] * slice\n",
    "moyAreaInterval2 = [None] * slice\n",
    "moyAreaInterval3 = [None] * slice\n",
    "moyAreaInterval1[:] = np.mean(Tlse_tmax26[startYear:endYear,:,startj:endj,starti:endi],axis=(0,2,3)) \n",
    "moyAreaInterval2[:] = np.mean(Tlse_tmax45[startYear:endYear,:,startj:endj,starti:endi],axis=(0,2,3)) \n",
    "moyAreaInterval3[:] = np.mean(Tlse_tmax85[startYear:endYear,:,startj:endj,starti:endi],axis=(0,2,3)) \n",
    "#print(moyAreaInterval[0:slice])\n",
    "with open('moyMonth.txt', 'w') as file :\n",
    "    for p in range(slice) :\n",
    "        file.write(Tlse_month[p])\n",
    "        file.write(';')\n",
    "        file.write(str(moyAreaInterval1[p]))\n",
    "        file.write(str(moyAreaInterval2[p]))\n",
    "        file.write(str(moyAreaInterval3[p]))\n",
    "        file.write('\\n')"
   ]
  },
  {
   "cell_type": "code",
   "execution_count": 88,
   "metadata": {},
   "outputs": [],
   "source": [
    "trace0 = go.Scatter(\n",
    "    x = Tlse_month[0:slice],\n",
    "    y = moyAreaInterval1[0:slice],\n",
    "    name ='scenario 2.6'\n",
    ")\n",
    "trace1 = go.Scatter(\n",
    "    x = Tlse_month[0:slice],\n",
    "    y = moyAreaInterval2[0:slice],\n",
    "    name ='scenario 4.5'\n",
    ")\n",
    "trace2 = go.Scatter(\n",
    "    x = Tlse_month[0:slice],\n",
    "    y = moyAreaInterval3[0:slice],\n",
    "    name ='scenario 8.5'\n",
    ")\n",
    "\n",
    "data = [trace0,trace1,trace2]\n",
    "\n",
    "layout = dict (\n",
    "           title = \"Température moyenne maximale des mois de l'année 2050\",\n",
    "           xaxis = dict(\n",
    "                 title = 'Mois',\n",
    "                 showline=True,\n",
    "                 showticklabels=True,\n",
    "                 ticklen=5\n",
    "             ),\n",
    "             yaxis = dict(\n",
    "                 title = 'Temperature (degrees Celsius)',\n",
    "                 showline=True,\n",
    "                 showticklabels=True\n",
    "             ),\n",
    "            height = 800,\n",
    "            autosize=False, \n",
    "            width=850,\n",
    ")\n",
    "\n",
    "\n",
    "fig = dict(data=data, layout=layout)\n",
    "\n",
    "#py.iplot(fig, filename='basic-line')"
   ]
  },
  {
   "cell_type": "markdown",
   "metadata": {},
   "source": [
    "#### Modifications et enrichissement de la figure"
   ]
  },
  {
   "cell_type": "code",
   "execution_count": 36,
   "metadata": {},
   "outputs": [],
   "source": [
    "pio.write_json(fig, 'scatter7.plotly')"
   ]
  },
  {
   "cell_type": "code",
   "execution_count": 22,
   "metadata": {},
   "outputs": [],
   "source": [
    "fig_styled = pio.read_json('scatter7+.plotly', output_type='FigureWidget')\n",
    "#py.iplot(fig_styled, filename='styled-basic-line')"
   ]
  },
  {
   "cell_type": "markdown",
   "metadata": {},
   "source": [
    "### Contrôle du contenu du fichier sauvegardé \n",
    "Ce bloc permet d'imprimer le contenu du jeu de données qui vient d'être sauvegardé afin de vérifier qu'il contient les données attendues. le suivant ferme le fichier écrit."
   ]
  },
  {
   "cell_type": "code",
   "execution_count": 15,
   "metadata": {},
   "outputs": [],
   "source": [
    "#for dim in extractLyonTempYearMonth.dimensions.items():\n",
    "#    print(dim[1])\n",
    "#for var in extractLyonTempYearMonth.variables.keys() :\n",
    "#    print (var, '\\t\\t', extractLyonTempYearMonth.variables[var].dimensions, '\\t\\t', \n",
    "#           extractLyonTempYearMonth.variables[var].shape, '\\t', extractLyonTempYearMonth.variables[var].dtype)"
   ]
  },
  {
   "cell_type": "code",
   "execution_count": null,
   "metadata": {},
   "outputs": [],
   "source": []
  }
 ],
 "metadata": {
  "kernelspec": {
   "display_name": "Python 3",
   "language": "python",
   "name": "python3"
  },
  "language_info": {
   "codemirror_mode": {
    "name": "ipython",
    "version": 3
   },
   "file_extension": ".py",
   "mimetype": "text/x-python",
   "name": "python",
   "nbconvert_exporter": "python",
   "pygments_lexer": "ipython3",
   "version": "3.7.3"
  }
 },
 "nbformat": 4,
 "nbformat_minor": 4
}
