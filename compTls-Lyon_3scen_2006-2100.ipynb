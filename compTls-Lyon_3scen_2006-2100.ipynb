{
 "cells": [
  {
   "cell_type": "markdown",
   "metadata": {
    "extensions": {
     "jupyter_dashboards": {
      "version": 1,
      "views": {
       "grid_default": {},
       "report_default": {
        "hidden": false
       }
      }
     }
    }
   },
   "source": [
    "    \n",
    "|  |\n",
    "|----------------------------------------------------------------------| \n",
    "|      ![Tremplin des sciences](images/tremplinColorSmall.png)       | \n",
    "| ![Logos des partenaires](images/bandeaulogos_sitetremplin.jpg) |\n",
    "\n",
    "\n",
    "----------------------------------------------------------------------\n",
    "\n",
    "Cahier d'exercices pour l'enseignement du changement climat climatique ou l'apprentissage de programmation issu de la collection \"Climat et météo tremplin pour l'enseignement des sciences\" (PIA IFÉ ENS de Lyon - Météofrance ENM Toulouse). Le dispositif clef en main repose sur l'utilisation d'une RaspberryPi chargée avec le système d'exploitation Debian enrichi, produit par le projet. Les sources et les exécutables sont accessibles dans [l'espace collaboratif du pojet à l'IFÉ ENS de Lyon](https://contrib-tremplin.ens-lyon.fr/) et une copie se trouve dans [l'espace collaboratif de la forge github](https://github.com/g-vidal/CahierDeProgrammes); plus d'information sur les [blogs d'accompagnement](http://blog.climatetmeteo.fr/GerardVidal/) systèmes d'exploitation sur [la page des OS  de Raspberries Pi](http://mediaserv.climatetmeteo.fr/images/RaspBerry/DebianStretchPi3/).  Toutes les ressources issues du projet sont fournies sous licence [Creative Commons](https://creativecommons.org/licenses/by-nc/4.0/) ou sous les licences libres d'origine des outils utilisés. \n",
    "\n",
    "Les ressources  du projet **peuvent être utilisées dans tout autre environnement compatible**, notamment tous les cahiers d'exercices peuvent être exécutés sur toute machine disposant d'un python3  et des bibliothèques jupyter, jupyterlab, numpy, netcdf4. \n",
    "\n",
    "Les données _pré-traitées_ utilisées ci-dessous sont **accessibles  en ligne** sur le [serveur de données géolocalisées](http://geoloc-tremplin.ens-lyon.fr/climato-data/) `opendap` du projet tremplin.\n",
    "\n",
    "Auteur : G. Vidal\n",
    "\n",
    "![licence : Creative Commons](images/Licence.jpg) \n",
    "\n",
    "\n",
    "------------------------------------------------------------"
   ]
  },
  {
   "cell_type": "markdown",
   "metadata": {},
   "source": [
    "# Une approche des enseignements autour du changement climatique : mitigation et adaptation au changement\n",
    "# _Approche du changement climatique, comparaison Toulouse-Lyon : évolution des températures maximales, minimales et de la pluviométrie jusqu'en 2100_\n",
    "\n",
    "Ce cahier d'exercices utilise  les données collectées par le projet Tremplin sur les villes de Toulouse et Lyon et ses environs à partir du [site DRIAS](http://www.drias-climat.fr/), converties pré-traitées et mises en ligne  sur le [serveur de données climatologiques](http://geoloc-tremplin.ens-lyon.fr/climato-data/Toulouse-1/t_min-t_max-rstr_Toulouse-1_26-45-85.nc.info) du projet Tremplin des sciences. Les conversions et pré-traitements ont été réalisés avec les cahiers de programme `ipython` des phases 1 & 2 de cette série disponibles sur la [forge du projet](https://contrib-tremplin.ens-lyon.fr/forge/Tremplin-des-Sciences/CahiersDeProgrammesClimat/files/tip/). Ce cahier propose plusieurs voies d'exploration du jeu de données _température max / température min / pluviométrie_ sur une grille de 104 x 104 km autour de Toulouse et Lyon, ainsi que les comparaisons entre l'évolution de ces deux villes. \n",
    "\n",
    "L'étude aborde l'évolution des variables moyennées sur N années (N a été fixé à 30 par défaut mais peut être modifié)  sur 13 noeuds centrés sur les villes. \n",
    "\n",
    "Le lot utilisé  est issu des trois modélisation RCP 2.6 4.5 et 8.5 fournies par météofrance. Ce cahier est immédiatement opérationnel et peut directement être exécuté sur  `jupyter` ou `jupyterlab`, toutefois il manipule des données multidimensionnelles et doit être réservé à des étudiants avancés si l'on souhaite manipuler le code. Par contre l'utilisation des blocs concernant le tracé des courbes ou des cartes est d'un usage facile d'accès et permet d'obtenir simplement des figures. Attention le dessin des figures a été désactivé dans le dépôt sur la forge pour ne pas alourdir inutilement le fichier transféré, il suffit de décommenter la dernière ligne de chacun des blocs de dessin en enlevant le `\"`."
   ]
  },
  {
   "cell_type": "markdown",
   "metadata": {},
   "source": [
    "## Préparation de l'environnement et ouverture du fichier de données\n",
    "\n",
    "Importer d'abord le module `netcdf4` et `numpy`, attention les majuscules sont impératives pour le nom `netCDF4`. Ces deux modules permettent de traiter  les fichiers multidimensionnels au format netCDF utilisés dans le monde de la météorologie et de l'océanographie principalement."
   ]
  },
  {
   "cell_type": "code",
   "execution_count": 1,
   "metadata": {},
   "outputs": [],
   "source": [
    "import netCDF4 as nc\n",
    "import numpy as np\n",
    "from datetime import datetime\n",
    "from array import array\n",
    "import sys, datetime, os"
   ]
  },
  {
   "cell_type": "markdown",
   "metadata": {},
   "source": [
    "Importer ensuite les données de sortie de modèle depuis le fichier obtenu auprès du [serveur de données climatologiques](http://geoloc-tremplin.ens-lyon.fr/climato-data/Toulouse-1/t_min-t_max-rstr_Toulouse-1_26-45-85.nc.info) du projet Tremplin des sciences extrait du site [DRIAS](https://drias-prod.meteo.fr/okapi/accueil/okapiWebDrias/index.jsp) sur la région toulousaine.\n",
    "\n",
    "L'exemple utilisé ici a été réalisé avec une grille de 13 x 13 noeuds centrés sur les villes de Toulouse et Lyon, pour obtenir un jeu de données se reporter au manuel numérique réalisé par Éric le Jan et Carole Larose dans le cadre du projet \"Climat et Météo Tremplin pour l'enseignement des sciences\". Les instructions d'affichage commentées (pour la plupart) permettent de vérifier les propriétés  du fichier obtenu ainsi que les variables qui pourront être utilisées. Ces affichages sont facultatifs et peuvent être commentés sans conséquence pour la suite."
   ]
  },
  {
   "cell_type": "code",
   "execution_count": 2,
   "metadata": {},
   "outputs": [
    {
     "name": "stdout",
     "output_type": "stream",
     "text": [
      "Description des données Toulouse issues du modèle : \n",
      " <class 'netCDF4._netCDF4.Dataset'>\n",
      "root group (NETCDF4 data model, file format HDF5):\n",
      "    title: Extrait TSMax par moyenne mensuelle de 2006 a 2100 Lyon et sa region\n",
      "    institution: ENS de Lyon\n",
      "    institute_id: IFE Institut Francais de l Education\n",
      "    project_id: Climat et meteo tremplin pour l enseignement des sciences\n",
      "    model_id: CNRM-ALADIN52\n",
      "    product: output derived from Meteofrance DRIAS data\n",
      "    contact: gerard.vidal@ens-lyon.fr\n",
      "    creation_date: 2019-08-02 11:20:55.525974\n",
      "    driving_experiment_name: DRIAS2014\n",
      "    experiment: RCP2.6 RCP4.5 RCP8.5 \n",
      "    model: ALADIN-Climat\n",
      "    author: Gerard Vidal\n",
      "    comment: Extraction des moyennes de la region Lyonnaise de 2006 a 2100 et changegement des variables\n",
      "    dimensions(sizes): i(13), j(13), month(13), year(95)\n",
      "    variables(dimensions): int32 \u001b[4mi\u001b[0m(i), int32 \u001b[4mj\u001b[0m(j), float32 \u001b[4mlat\u001b[0m(j,i), float32 \u001b[4mlon\u001b[0m(j,i), int32 \u001b[4mx\u001b[0m(i), int32 \u001b[4my\u001b[0m(j), <class 'str'> \u001b[4mmonth\u001b[0m(month), uint32 \u001b[4myear\u001b[0m(year), float32 \u001b[4mt_max_26\u001b[0m(year,month,j,i), float32 \u001b[4mt_max_45\u001b[0m(year,month,j,i), float32 \u001b[4mt_max_85\u001b[0m(year,month,j,i), float32 \u001b[4mt_min_26\u001b[0m(year,month,j,i), float32 \u001b[4mt_min_45\u001b[0m(year,month,j,i), float32 \u001b[4mt_min_85\u001b[0m(year,month,j,i), float32 \u001b[4mrstr_26\u001b[0m(year,month,j,i), float32 \u001b[4mrstrc_26\u001b[0m(year,month,j,i), float32 \u001b[4mrstr_45\u001b[0m(year,month,j,i), float32 \u001b[4mrstrc_45\u001b[0m(year,month,j,i), float32 \u001b[4mrstr_85\u001b[0m(year,month,j,i), float32 \u001b[4mrstrc_85\u001b[0m(year,month,j,i), float32 \u001b[4mdelta_t_26\u001b[0m(year,month,j,i), float32 \u001b[4mdelta_t_45\u001b[0m(year,month,j,i), float32 \u001b[4mdelta_t_85\u001b[0m(year,month,j,i)\n",
      "    groups: \n",
      " \n",
      "\n",
      "Variables disponibles : odict_keys(['i', 'j', 'lat', 'lon', 'x', 'y', 'month', 'year', 't_max_26', 't_max_45', 't_max_85', 't_min_26', 't_min_45', 't_min_85', 'rstr_26', 'rstrc_26', 'rstr_45', 'rstrc_45', 'rstr_85', 'rstrc_85', 'delta_t_26', 'delta_t_45', 'delta_t_85'])\n",
      "\n",
      "Description des données Lyon issues du modèle : \n",
      " <class 'netCDF4._netCDF4.Dataset'>\n",
      "root group (NETCDF4 data model, file format HDF5):\n",
      "    title: Extrait TSMax par moyenne mensuelle de 2006 a 2100 Lyon et sa region\n",
      "    institution: ENS de Lyon\n",
      "    institute_id: IFE Institut Francais de l Education\n",
      "    project_id: Climat et meteo tremplin pour l enseignement des sciences\n",
      "    model_id: CNRM-ALADIN52\n",
      "    product: output derived from Meteofrance DRIAS data\n",
      "    contact: gerard.vidal@ens-lyon.fr\n",
      "    creation_date: 2019-08-02 11:53:19.870630\n",
      "    driving_experiment_name: DRIAS2014\n",
      "    experiment: RCP2.6 RCP4.5 RCP8.5 \n",
      "    model: ALADIN-Climat\n",
      "    author: Gerard Vidal\n",
      "    comment: Extraction des moyennes de la region Lyonnaise de 2006 a 2100 et changegement des variables\n",
      "    dimensions(sizes): i(13), j(13), month(13), year(95)\n",
      "    variables(dimensions): int32 \u001b[4mi\u001b[0m(i), int32 \u001b[4mj\u001b[0m(j), float32 \u001b[4mlat\u001b[0m(j,i), float32 \u001b[4mlon\u001b[0m(j,i), int32 \u001b[4mx\u001b[0m(i), int32 \u001b[4my\u001b[0m(j), <class 'str'> \u001b[4mmonth\u001b[0m(month), uint32 \u001b[4myear\u001b[0m(year), float32 \u001b[4mt_max_26\u001b[0m(year,month,j,i), float32 \u001b[4mt_max_45\u001b[0m(year,month,j,i), float32 \u001b[4mt_max_85\u001b[0m(year,month,j,i), float32 \u001b[4mt_min_26\u001b[0m(year,month,j,i), float32 \u001b[4mt_min_45\u001b[0m(year,month,j,i), float32 \u001b[4mt_min_85\u001b[0m(year,month,j,i), float32 \u001b[4mrstr_26\u001b[0m(year,month,j,i), float32 \u001b[4mrstrc_26\u001b[0m(year,month,j,i), float32 \u001b[4mrstr_45\u001b[0m(year,month,j,i), float32 \u001b[4mrstrc_45\u001b[0m(year,month,j,i), float32 \u001b[4mrstr_85\u001b[0m(year,month,j,i), float32 \u001b[4mrstrc_85\u001b[0m(year,month,j,i), float32 \u001b[4mdelta_t_26\u001b[0m(year,month,j,i), float32 \u001b[4mdelta_t_45\u001b[0m(year,month,j,i), float32 \u001b[4mdelta_t_85\u001b[0m(year,month,j,i)\n",
      "    groups: \n",
      " \n",
      "\n",
      "Variables disponibles : odict_keys(['i', 'j', 'lat', 'lon', 'x', 'y', 'month', 'year', 't_max_26', 't_max_45', 't_max_85', 't_min_26', 't_min_45', 't_min_85', 'rstr_26', 'rstrc_26', 'rstr_45', 'rstrc_45', 'rstr_85', 'rstrc_85', 'delta_t_26', 'delta_t_45', 'delta_t_85'])\n"
     ]
    }
   ],
   "source": [
    "# Importation depuis le serveur en ligne du projet\n",
    "# dataSetTlse = nc.Dataset('http://geoloc-tremplin.ens-lyon.fr/climato-data/Toulouse-1/t_min-t_max-rstr_Toulouse-1_26-45-85.nc')\n",
    "# La ligne ci-dessous permet d'exploiter des données locales si l'usager réalise lui-même les extractions sur DRIAS\n",
    "dataSetTlse = nc.Dataset('/home/vidal/TremplinDesSciences/2019/ClimatDrias/ConvertedDrias/Toulouse-1/t_min-t_max-rstr_2019-08-02-11:21_26-45-85.nc') #to use local file\n",
    "dataSetLyon = nc.Dataset('/home/vidal/TremplinDesSciences/2019/ClimatDrias/ConvertedDrias/Lyon-1/t_min-t_max-rstr_2019-08-02-11:53_26-45-85.nc') #to use local file\n",
    "print('Description des données Toulouse issues du modèle : \\n',dataSetTlse,'\\n') \n",
    "print('Variables disponibles :',dataSetTlse.variables.keys()) # get all variable names\n",
    "print('\\nDescription des données Lyon issues du modèle : \\n',dataSetLyon,'\\n') \n",
    "print('Variables disponibles :',dataSetLyon.variables.keys()) # get all variable names\n",
    "#print('Taille du tableau tasmax :',dataSetTlse.variables['tasmax'].shape ,'\\n') "
   ]
  },
  {
   "cell_type": "markdown",
   "metadata": {},
   "source": [
    "## Liste des dimensions et des variables du système de données\n",
    "\n",
    "À partir de la liste des variables obtenue ci-dessus on renomme les jeux de données de chacune des variables qui seront exploitées apour effectuer les calculs et contrôler la taille des échantillons. Les affichages proposés permettent de contrôler que les paramètres présents sont effectivement ceux qui sont attendus."
   ]
  },
  {
   "cell_type": "code",
   "execution_count": 3,
   "metadata": {},
   "outputs": [
    {
     "name": "stdout",
     "output_type": "stream",
     "text": [
      "('i', <class 'netCDF4._netCDF4.Dimension'>: name = 'i', size = 13\n",
      ")\n",
      "('j', <class 'netCDF4._netCDF4.Dimension'>: name = 'j', size = 13\n",
      ")\n",
      "('month', <class 'netCDF4._netCDF4.Dimension'>: name = 'month', size = 13\n",
      ")\n",
      "('year', <class 'netCDF4._netCDF4.Dimension'>: name = 'year', size = 95\n",
      ")\n",
      "\n",
      "Toulouse :\n",
      "Variables \t  Forme \t\t Taille \t type :  \n",
      "\n",
      "i \t\t ('i',) \t\t (13,) \t int32\n",
      "j \t\t ('j',) \t\t (13,) \t int32\n",
      "lat \t\t ('j', 'i') \t\t (13, 13) \t float32\n",
      "lon \t\t ('j', 'i') \t\t (13, 13) \t float32\n",
      "x \t\t ('i',) \t\t (13,) \t int32\n",
      "y \t\t ('j',) \t\t (13,) \t int32\n",
      "month \t\t ('month',) \t\t (13,) \t <class 'str'>\n",
      "year \t\t ('year',) \t\t (95,) \t uint32\n",
      "t_max_26 \t\t ('year', 'month', 'j', 'i') \t\t (95, 13, 13, 13) \t float32\n",
      "t_max_45 \t\t ('year', 'month', 'j', 'i') \t\t (95, 13, 13, 13) \t float32\n",
      "t_max_85 \t\t ('year', 'month', 'j', 'i') \t\t (95, 13, 13, 13) \t float32\n",
      "t_min_26 \t\t ('year', 'month', 'j', 'i') \t\t (95, 13, 13, 13) \t float32\n",
      "t_min_45 \t\t ('year', 'month', 'j', 'i') \t\t (95, 13, 13, 13) \t float32\n",
      "t_min_85 \t\t ('year', 'month', 'j', 'i') \t\t (95, 13, 13, 13) \t float32\n",
      "rstr_26 \t\t ('year', 'month', 'j', 'i') \t\t (95, 13, 13, 13) \t float32\n",
      "rstrc_26 \t\t ('year', 'month', 'j', 'i') \t\t (95, 13, 13, 13) \t float32\n",
      "rstr_45 \t\t ('year', 'month', 'j', 'i') \t\t (95, 13, 13, 13) \t float32\n",
      "rstrc_45 \t\t ('year', 'month', 'j', 'i') \t\t (95, 13, 13, 13) \t float32\n",
      "rstr_85 \t\t ('year', 'month', 'j', 'i') \t\t (95, 13, 13, 13) \t float32\n",
      "rstrc_85 \t\t ('year', 'month', 'j', 'i') \t\t (95, 13, 13, 13) \t float32\n",
      "delta_t_26 \t\t ('year', 'month', 'j', 'i') \t\t (95, 13, 13, 13) \t float32\n",
      "delta_t_45 \t\t ('year', 'month', 'j', 'i') \t\t (95, 13, 13, 13) \t float32\n",
      "delta_t_85 \t\t ('year', 'month', 'j', 'i') \t\t (95, 13, 13, 13) \t float32\n",
      "('i', <class 'netCDF4._netCDF4.Dimension'>: name = 'i', size = 13\n",
      ")\n",
      "('j', <class 'netCDF4._netCDF4.Dimension'>: name = 'j', size = 13\n",
      ")\n",
      "('month', <class 'netCDF4._netCDF4.Dimension'>: name = 'month', size = 13\n",
      ")\n",
      "('year', <class 'netCDF4._netCDF4.Dimension'>: name = 'year', size = 95\n",
      ")\n",
      "\n",
      "Lyon :\n",
      "Variables \t  Forme \t\t Taille \t type :  \n",
      "\n",
      "i \t\t ('i',) \t\t (13,) \t int32\n",
      "j \t\t ('j',) \t\t (13,) \t int32\n",
      "lat \t\t ('j', 'i') \t\t (13, 13) \t float32\n",
      "lon \t\t ('j', 'i') \t\t (13, 13) \t float32\n",
      "x \t\t ('i',) \t\t (13,) \t int32\n",
      "y \t\t ('j',) \t\t (13,) \t int32\n",
      "month \t\t ('month',) \t\t (13,) \t <class 'str'>\n",
      "year \t\t ('year',) \t\t (95,) \t uint32\n",
      "t_max_26 \t\t ('year', 'month', 'j', 'i') \t\t (95, 13, 13, 13) \t float32\n",
      "t_max_45 \t\t ('year', 'month', 'j', 'i') \t\t (95, 13, 13, 13) \t float32\n",
      "t_max_85 \t\t ('year', 'month', 'j', 'i') \t\t (95, 13, 13, 13) \t float32\n",
      "t_min_26 \t\t ('year', 'month', 'j', 'i') \t\t (95, 13, 13, 13) \t float32\n",
      "t_min_45 \t\t ('year', 'month', 'j', 'i') \t\t (95, 13, 13, 13) \t float32\n",
      "t_min_85 \t\t ('year', 'month', 'j', 'i') \t\t (95, 13, 13, 13) \t float32\n",
      "rstr_26 \t\t ('year', 'month', 'j', 'i') \t\t (95, 13, 13, 13) \t float32\n",
      "rstrc_26 \t\t ('year', 'month', 'j', 'i') \t\t (95, 13, 13, 13) \t float32\n",
      "rstr_45 \t\t ('year', 'month', 'j', 'i') \t\t (95, 13, 13, 13) \t float32\n",
      "rstrc_45 \t\t ('year', 'month', 'j', 'i') \t\t (95, 13, 13, 13) \t float32\n",
      "rstr_85 \t\t ('year', 'month', 'j', 'i') \t\t (95, 13, 13, 13) \t float32\n",
      "rstrc_85 \t\t ('year', 'month', 'j', 'i') \t\t (95, 13, 13, 13) \t float32\n",
      "delta_t_26 \t\t ('year', 'month', 'j', 'i') \t\t (95, 13, 13, 13) \t float32\n",
      "delta_t_45 \t\t ('year', 'month', 'j', 'i') \t\t (95, 13, 13, 13) \t float32\n",
      "delta_t_85 \t\t ('year', 'month', 'j', 'i') \t\t (95, 13, 13, 13) \t float32\n"
     ]
    }
   ],
   "source": [
    "# Toulouse\n",
    "for dim in dataSetTlse.dimensions.items():\n",
    "    print(dim)\n",
    "print ('\\nToulouse :\\nVariables \\t  Forme \\t\\t Taille \\t type :  \\n')\n",
    "for var in dataSetTlse.variables.keys() :\n",
    "    print (var, '\\t\\t', \n",
    "           dataSetTlse.variables[var].dimensions, '\\t\\t', \n",
    "           dataSetTlse.variables[var].shape, '\\t', \n",
    "           dataSetTlse.variables[var].dtype)\n",
    "# Lyon    \n",
    "for dim in dataSetLyon.dimensions.items():\n",
    "    print(dim)\n",
    "print ('\\nLyon :\\nVariables \\t  Forme \\t\\t Taille \\t type :  \\n')\n",
    "for var in dataSetLyon.variables.keys() :\n",
    "    print (var, '\\t\\t', \n",
    "           dataSetLyon.variables[var].dimensions, '\\t\\t', \n",
    "           dataSetLyon.variables[var].shape, '\\t', \n",
    "           dataSetLyon.variables[var].dtype)\n"
   ]
  },
  {
   "cell_type": "markdown",
   "metadata": {},
   "source": [
    "## Création des tableaux de calcul"
   ]
  },
  {
   "cell_type": "code",
   "execution_count": 4,
   "metadata": {},
   "outputs": [],
   "source": [
    "Tlse_tmax26 = dataSetTlse.variables['t_max_26']  # variable temperature \n",
    "Tlse_tmax45 = dataSetTlse.variables['t_max_45']  # variable temperature \n",
    "Tlse_tmax85 = dataSetTlse.variables['t_max_85']  # variable temperature \n",
    "Tlse_tmin26 = dataSetTlse.variables['t_min_26']  # variable temperature \n",
    "Tlse_tmin45 = dataSetTlse.variables['t_min_45']  # variable temperature \n",
    "Tlse_tmin85 = dataSetTlse.variables['t_min_85']  # variable temperature \n",
    "Tlse_rstr26 = dataSetTlse.variables['rstr_26']  # variable rainfall \n",
    "Tlse_rstr45 = dataSetTlse.variables['rstr_45']  # variable rainfall \n",
    "Tlse_rstr85 = dataSetTlse.variables['rstr_85']  # variable rainfall \n",
    "Tlse_rstrc26 = dataSetTlse.variables['rstrc_26']  # variable cumulated rainfall \n",
    "Tlse_rstrc45 = dataSetTlse.variables['rstrc_45']  # variable cumulated rainfall \n",
    "Tlse_rstrc85 = dataSetTlse.variables['rstrc_85']  # variable cumulated rainfall \n",
    "Tlse_delta26 = dataSetTlse.variables['delta_t_26']  # variable tmax -tmin daily\n",
    "Tlse_delta45 = dataSetTlse.variables['delta_t_45']  # variable tmax -tmin daily\n",
    "Tlse_delta85 = dataSetTlse.variables['delta_t_85']  # variable tmax -tmin daily\n",
    "# Tlse_month = nc.chartostring(dataSetTlse.variables['month'][:])  # variable temps\n",
    "# use the following syntax on local files\n",
    "Tlse_month = dataSetTlse.variables['month'] #if local file type = string\n",
    "Tlse_year = dataSetTlse.variables['year']  # variable temps\n",
    "\n",
    "#test = nc.chartostring(dataSetTlse.variables['month'][:])\n",
    "#print(test)\n",
    "#test[:] = nc.chartostring(dataSetTlse.variables['month'][:],encoding='utf-8')\n",
    "#print(test)\n",
    "\n",
    "Tlse_lat,Tlse_lon = dataSetTlse.variables['lat'], dataSetTlse.variables['lon']  # latitude longitude\n",
    "Tlse_x,Tlse_y = dataSetTlse.variables['x'], dataSetTlse.variables['y']  # coordonnées métriques\n",
    "Tlse_gridi,Tlse_gridj = dataSetTlse.variables['i'], dataSetTlse.variables['j'] # coordonnées grille Aladin\n",
    "\n",
    "Lyon_tmax26 = dataSetLyon.variables['t_max_26']  # variable temperature \n",
    "Lyon_tmax45 = dataSetLyon.variables['t_max_45']  # variable temperature \n",
    "Lyon_tmax85 = dataSetLyon.variables['t_max_85']  # variable temperature \n",
    "Lyon_tmin26 = dataSetLyon.variables['t_min_26']  # variable temperature \n",
    "Lyon_tmin45 = dataSetLyon.variables['t_min_45']  # variable temperature \n",
    "Lyon_tmin85 = dataSetLyon.variables['t_min_85']  # variable temperature \n",
    "Lyon_rstr26 = dataSetLyon.variables['rstr_26']  # variable rainfall \n",
    "Lyon_rstr45 = dataSetLyon.variables['rstr_45']  # variable rainfall \n",
    "Lyon_rstr85 = dataSetLyon.variables['rstr_85']  # variable rainfall \n",
    "Lyon_rstrc26 = dataSetLyon.variables['rstrc_26']  # variable cumulated rainfall \n",
    "Lyon_rstrc45 = dataSetLyon.variables['rstrc_45']  # variable cumulated rainfall \n",
    "Lyon_rstrc85 = dataSetLyon.variables['rstrc_85']  # variable cumulated rainfall \n",
    "Lyon_delta26 = dataSetLyon.variables['delta_t_26']  # variable tmax -tmin daily\n",
    "Lyon_delta45 = dataSetLyon.variables['delta_t_45']  # variable tmax -tmin daily\n",
    "Lyon_delta85 = dataSetLyon.variables['delta_t_85']  # variable tmax -tmin daily\n",
    "#Lyon_month = nc.chartostring(dataSetLyon.variables['month'][:])  # variable temps\n",
    "# use the following syntax on local files\n",
    "Lyon_month = dataSetLyon.variables['month'] #if local file type = string\n",
    "Lyon_year = dataSetLyon.variables['year']  # variable temps\n",
    "\n",
    "#test = nc.chartostring(dataSetLyon.variables['month'][:])\n",
    "#print(test)\n",
    "#test[:] = nc.chartostring(dataSetLyon.variables['month'][:],encoding='utf-8')\n",
    "#print(test)\n",
    "\n",
    "Lyon_lat,Lyon_lon = dataSetLyon.variables['lat'], dataSetLyon.variables['lon']  # latitude longitude\n",
    "Lyon_x,Lyon_y = dataSetLyon.variables['x'], dataSetLyon.variables['y']  # coordonnées métriques\n",
    "Lyon_gridi,Lyon_gridj = dataSetLyon.variables['i'], dataSetLyon.variables['j'] # coordonnées grille Aladin\n",
    "\n",
    "lenmonths = Tlse_month.shape[0]\n",
    "if lenmonths != Lyon_month.shape[0] :\n",
    "    print ('error not same size of lemonths')\n",
    "\n",
    "#print ('\\n Taille des tableaux de calcul : \\n', \n",
    "#       '\\ntmax26 : ', Tlse_tmax26.shape, Tlse_tmax26[44,7,5,5],dataSetTlse.variables['temp_26'][44,7,5,5],\n",
    "#       '\\ntmax45 : ', Tlse_tmax45.shape, Tlse_tmax45[44,7,5,5],dataSetTlse.variables['temp_45'][44,7,5,5],\n",
    "#       '\\ntmax85 : ', Tlse_tmax85.shape, Tlse_tmax85[44,7,5,5],dataSetTlse.variables['temp_85'][44,7,5,5],\n",
    "#       '\\n\\nyear : ', Tlse_year.shape, Tlse_year[:],\n",
    "#       '\\nmonth : ', Tlse_month.shape, Tlse_month[:],\n",
    "#       '\\n\\nLat : ', Tlse_lat.shape,  Tlse_lat[0,:],\n",
    "#       '\\nLon : ', Tlse_lon.shape, Tlse_lon[0,:],\n",
    "#       '\\n\\nX : ', Tlse_x.shape, Tlse_x[:],\n",
    "#       '\\nY : ', Tlse_y.shape, Tlse_y[:],\n",
    "#       '\\n\\ni : ', Tlse_gridi.shape, Tlse_gridi[:],\n",
    "#       '\\nj : ', Tlse_gridj.shape, Tlse_gridj[:])"
   ]
  },
  {
   "cell_type": "markdown",
   "metadata": {},
   "source": [
    "Définition et affectation des variables où sont copiées les données conservées et où seront stockés les résultats des calculs. Les années seront calculées pendant le calcul principal, les affichages permettent de vérifier la validité des données utilisées."
   ]
  },
  {
   "cell_type": "markdown",
   "metadata": {},
   "source": [
    "## Calcul principal des moyennes par mois pour chaque noeud et toutes les années"
   ]
  },
  {
   "cell_type": "markdown",
   "metadata": {},
   "source": [
    "Le premier bloc de code permet de fixer les paramètres qui seront utilisés pour les calculs. les commentaires donnent des indications sur les valeurs possibles."
   ]
  },
  {
   "cell_type": "markdown",
   "metadata": {},
   "source": [
    "### Calculs pour une seule période de  `yearInterval` années\n",
    "\n",
    "Calcul de la moyenne de températures d'une sélection de mois sur un intervalle de `yearInterval` années à partir de l'année `yearBegin` sur les noeuds allant de `(startj,starti)` de taille `(intervalj,intervali)`"
   ]
  },
  {
   "cell_type": "markdown",
   "metadata": {},
   "source": [
    "#### préparation de la création de figures\n",
    "On importe les bibliothèques plotly"
   ]
  },
  {
   "cell_type": "code",
   "execution_count": 5,
   "metadata": {},
   "outputs": [
    {
     "data": {
      "text/html": [
       "        <script type=\"text/javascript\">\n",
       "        window.PlotlyConfig = {MathJaxConfig: 'local'};\n",
       "        if (window.MathJax) {MathJax.Hub.Config({SVG: {font: \"STIX-Web\"}});}\n",
       "        if (typeof require !== 'undefined') {\n",
       "        require.undef(\"plotly\");\n",
       "        requirejs.config({\n",
       "            paths: {\n",
       "                'plotly': ['https://cdn.plot.ly/plotly-latest.min']\n",
       "            }\n",
       "        });\n",
       "        require(['plotly'], function(Plotly) {\n",
       "            window._Plotly = Plotly;\n",
       "        });\n",
       "        }\n",
       "        </script>\n",
       "        "
      ]
     },
     "metadata": {},
     "output_type": "display_data"
    }
   ],
   "source": [
    "import plotly.offline as py\n",
    "import plotly.graph_objs as go\n",
    "from plotly import subplots\n",
    "import plotly.io as pio\n",
    "py.init_notebook_mode(connected=True)"
   ]
  },
  {
   "cell_type": "markdown",
   "metadata": {},
   "source": [
    "## Courbes d'évolution de la température de 2036 à 2100\n",
    "### Calculs pour UNE SÉRIE DE  PÉRIODES de  `yearInterval` années\n",
    "\n",
    "Calcul de la moyenne de températures des mois de `calcMonth` (il peut y en avoir un seul ou un choix), sur `yearInterval` années à partir de l'année `yearBegin` jusqu'à l'année `yearBegin + yearPeriod` sur les noeuds à partir de `(startj,starti)` de taille `(intervalj,intervali)`. La valeur touvée est affectée à la dernière année de la plage de calcul."
   ]
  },
  {
   "cell_type": "code",
   "execution_count": 6,
   "metadata": {},
   "outputs": [],
   "source": [
    "# Variables for the computation\n",
    "# Séquence d'années pendant lesquelles les calculs sont effectués\n",
    "#     * Choix de l'année de départ : yearBegin\n",
    "#     * Choix du nombre d'années sur lesquelles est effectuée la moyenne glissante : yearInterval\n",
    "#     * Choix de l'intervalle de calcul yearPeriod\n",
    "#     * Choix des mois choisis pour le calcul 0 = Jan; 7 = Aout ...\n",
    "# yearbegin + yearperiod must be <= 2101\n",
    "driasOrigin = 2006\n",
    "driasEnd = 2100\n",
    "nbYears = driasEnd - driasOrigin + 1\n",
    "# ===================== Choice of parameters below =======================================\n",
    "yearBegin = 2006\n",
    "yearInterval = 30 # 30 years to compute the average\n",
    "yearPeriod = 64 #  64 years  from 2036 to 2100\n",
    "calcMonth = [0, 7, 12]  # Calcul effectué pour Janvier (0) Aout (7) et moyenne annuelle (12)\n",
    "lencalcMonths = len(calcMonth)\n",
    "#  Grille i j\n",
    "# sous espace de la grille 10X10 utilisé\n",
    "#  le premier écantillon est un carré 3X3 au centre de la grille\n",
    "# Le second échantillon est toute la grille entière\n",
    "starti = 6\n",
    "intervali = 3\n",
    "startj = 6\n",
    "intervalj = 3  # Calcul sur un carré de 16km de côté au centre de la carte (ville de Lyon)\n",
    "# ====================== ENd of Choice ====================================================\n",
    "#starti = 0\n",
    "#intervali = 10\n",
    "#startj = 0\n",
    "#intervalj = 10\n",
    "# Variables de calcul\n",
    "startYear = yearBegin - driasOrigin\n",
    "endYear = startYear + yearPeriod\n",
    "#print(yearPeriodInterval)\n",
    "endi = starti + intervali\n",
    "endj = startj + intervalj\n",
    "                          \n",
    "if not ((startYear >= 0) and (yearBegin + yearPeriod + yearInterval) <= driasEnd):\n",
    "    print('starting year or finishing year out of bounds')\n",
    "    sys.exit('giving up on year bounds')\n",
    "#print(gridj[loc_j])\n",
    "#print(gridi[loc_i])\n",
    "#print(startYear,':',endYear,',',calcMonth,',',startj,':',endj,',',starti,':',endi)\n",
    "#print(temp.shape)\n",
    "#print(np.mean(temp[startYear:endYear,calcMonth,startj:endj,starti:endi]))"
   ]
  },
  {
   "cell_type": "markdown",
   "metadata": {},
   "source": [
    "### Calcul de la moyenne des maxima sur l'intervalle choisi (30ans) pour les années disponibles\n",
    "\n",
    "Calcul de la moyenne des températures mensuelles/annuelles sur `yearInterval` (30 ans) pendant une période de `yearPeriod` (64 années) successives pour une sélection de `calcMonth`  mois (Janvier, Aout, année)."
   ]
  },
  {
   "cell_type": "code",
   "execution_count": 7,
   "metadata": {},
   "outputs": [],
   "source": [
    "# Using online file takes a little more time\n",
    "# Calculate the number of years yielding a result\n",
    "# Toulouse\n",
    "moyMAreaInterval_Tlse_26 = np.zeros((lencalcMonths, nbYears))\n",
    "moyMAreaInterval_Tlse_45 = np.zeros((lencalcMonths, nbYears))\n",
    "moyMAreaInterval_Tlse_85 = np.zeros((lencalcMonths, nbYears))\n",
    "# Tmax, i and j are computed to localize the mean\n",
    "for p in range(startYear, endYear) :\n",
    "    a = startYear + p\n",
    "    b = a + yearInterval\n",
    "    moyMAreaInterval_Tlse_26[:, p] = np.mean(Tlse_tmax26[a:b, calcMonth, startj:endj, starti:endi], axis=(0, 2, 3))\n",
    "    moyMAreaInterval_Tlse_45[:, p] = np.mean(Tlse_tmax45[a:b, calcMonth, startj:endj, starti:endi], axis=(0, 2, 3))\n",
    "    moyMAreaInterval_Tlse_85[:, p] = np.mean(Tlse_tmax85[a:b, calcMonth, startj:endj, starti:endi], axis=(0, 2, 3))\n",
    "# Lyon\n",
    "moyMAreaInterval_Lyon_26 = np.zeros((lencalcMonths, nbYears))\n",
    "moyMAreaInterval_Lyon_45 = np.zeros((lencalcMonths, nbYears))\n",
    "moyMAreaInterval_Lyon_85 = np.zeros((lencalcMonths, nbYears))\n",
    "# Tmax, i and j are computed to localize the mean\n",
    "for p in range(startYear, endYear) :\n",
    "    a = startYear + p\n",
    "    b = a + yearInterval\n",
    "    moyMAreaInterval_Lyon_26[:, p] = np.mean(Lyon_tmax26[a:b, calcMonth, startj:endj, starti:endi], axis=(0, 2, 3))\n",
    "    moyMAreaInterval_Lyon_45[:, p] = np.mean(Lyon_tmax45[a:b, calcMonth, startj:endj, starti:endi], axis=(0, 2, 3))\n",
    "    moyMAreaInterval_Lyon_85[:, p] = np.mean(Lyon_tmax85[a:b, calcMonth, startj:endj, starti:endi], axis=(0, 2, 3))\n",
    "firstPlotYear = startYear + yearInterval\n",
    "lastPlotYear = firstPlotYear + yearPeriod\n",
    "data = [] #* lencalcMonths\n",
    "trace = [] #* lencalcMonths"
   ]
  },
  {
   "cell_type": "markdown",
   "metadata": {},
   "source": [
    "#### Toulouse\n",
    "Le diagramme ci-dessous  représente l'évolution sur `yearPeriod` années de la température dans la région Toulousaine.(Décommenter la dernière ligne du bloc pour afficher la figure)"
   ]
  },
  {
   "cell_type": "code",
   "execution_count": 36,
   "metadata": {},
   "outputs": [
    {
     "data": {
      "application/vnd.plotly.v1+json": {
       "config": {
        "linkText": "Export to plot.ly",
        "plotlyServerURL": "https://plot.ly",
        "showLink": false
       },
       "data": [
        {
         "name": "Moyenne 2.6 du mois Jan",
         "type": "scatter",
         "x": [
          2036,
          2037,
          2038,
          2039,
          2040,
          2041,
          2042,
          2043,
          2044,
          2045,
          2046,
          2047,
          2048,
          2049,
          2050,
          2051,
          2052,
          2053,
          2054,
          2055,
          2056,
          2057,
          2058,
          2059,
          2060,
          2061,
          2062,
          2063,
          2064,
          2065,
          2066,
          2067,
          2068,
          2069,
          2070,
          2071,
          2072,
          2073,
          2074,
          2075,
          2076,
          2077,
          2078,
          2079,
          2080,
          2081,
          2082,
          2083,
          2084,
          2085,
          2086,
          2087,
          2088,
          2089,
          2090,
          2091,
          2092,
          2093,
          2094,
          2095,
          2096,
          2097,
          2098,
          2099
         ],
         "xaxis": "x",
         "y": [
          8.94485855102539,
          9.07922077178955,
          8.993371963500977,
          8.987469673156738,
          8.901383399963379,
          9.038625717163086,
          8.893330574035645,
          8.719688415527344,
          8.621516227722168,
          8.592198371887207,
          8.575969696044922,
          8.522064208984375,
          8.59089469909668,
          8.496800422668457,
          8.507843971252441,
          8.453868865966797,
          8.483819007873535,
          8.402379035949707,
          8.714922904968262,
          8.804740905761719,
          8.906726837158203,
          8.8755464553833,
          8.930146217346191,
          9.049641609191895,
          9.089763641357422,
          9.238469123840332,
          9.294001579284668,
          9.241503715515137,
          9.17829418182373,
          9.236457824707031,
          9.195521354675293,
          9.174161911010742,
          9.12559986114502,
          9.225615501403809,
          9.287752151489258,
          9.219369888305664,
          9.422039031982422,
          9.492504119873047,
          9.539966583251953,
          9.611153602600098,
          9.584455490112305,
          9.507646560668945,
          9.312573432922363,
          9.380714416503906,
          9.326295852661133,
          9.524450302124023,
          9.639690399169922,
          9.508376121520996,
          9.360953330993652,
          9.29200267791748,
          9.237592697143555,
          9.271939277648926,
          9.29615592956543,
          9.253987312316895,
          9.137619018554688,
          9.2014741897583,
          9.357574462890625,
          9.229047775268555,
          9.406153678894043,
          9.471818923950195,
          9.548151016235352,
          9.436237335205078,
          9.526570320129395,
          9.615522384643555,
          0,
          0,
          0,
          0,
          0,
          0,
          0,
          0,
          0,
          0,
          0,
          0,
          0,
          0,
          0,
          0,
          0,
          0,
          0,
          0,
          0,
          0,
          0,
          0,
          0,
          0,
          0,
          0,
          0,
          0,
          0
         ],
         "yaxis": "y"
        },
        {
         "name": "Moyenne 4.5 du mois Jan",
         "type": "scatter",
         "x": [
          2036,
          2037,
          2038,
          2039,
          2040,
          2041,
          2042,
          2043,
          2044,
          2045,
          2046,
          2047,
          2048,
          2049,
          2050,
          2051,
          2052,
          2053,
          2054,
          2055,
          2056,
          2057,
          2058,
          2059,
          2060,
          2061,
          2062,
          2063,
          2064,
          2065,
          2066,
          2067,
          2068,
          2069,
          2070,
          2071,
          2072,
          2073,
          2074,
          2075,
          2076,
          2077,
          2078,
          2079,
          2080,
          2081,
          2082,
          2083,
          2084,
          2085,
          2086,
          2087,
          2088,
          2089,
          2090,
          2091,
          2092,
          2093,
          2094,
          2095,
          2096,
          2097,
          2098,
          2099
         ],
         "xaxis": "x",
         "y": [
          8.437761306762695,
          8.586709022521973,
          8.541804313659668,
          8.700600624084473,
          8.924899101257324,
          8.956269264221191,
          8.997438430786133,
          8.904768943786621,
          8.896173477172852,
          8.757938385009766,
          8.938093185424805,
          9.018835067749023,
          9.164179801940918,
          9.041045188903809,
          8.868391036987305,
          8.938769340515137,
          8.994327545166016,
          9.011863708496094,
          9.27350902557373,
          9.439120292663574,
          9.521377563476562,
          9.581401824951172,
          9.666122436523438,
          9.742661476135254,
          9.634552001953125,
          9.556718826293945,
          9.527068138122559,
          9.569668769836426,
          9.472079277038574,
          9.370819091796875,
          9.402192115783691,
          9.29223346710205,
          9.234926223754883,
          9.186324119567871,
          9.057036399841309,
          9.071346282958984,
          9.191034317016602,
          9.121521949768066,
          9.31108283996582,
          9.419044494628906,
          9.391010284423828,
          9.432957649230957,
          9.342546463012695,
          9.451702117919922,
          9.651510238647461,
          9.688873291015625,
          9.856037139892578,
          9.964396476745605,
          9.921697616577148,
          9.917095184326172,
          9.908535957336426,
          9.907866477966309,
          9.900458335876465,
          9.991450309753418,
          10.163196563720703,
          10.136435508728027,
          10.248628616333008,
          10.290761947631836,
          10.387577056884766,
          10.587897300720215,
          10.557450294494629,
          10.645240783691406,
          10.761122703552246,
          10.752227783203125,
          0,
          0,
          0,
          0,
          0,
          0,
          0,
          0,
          0,
          0,
          0,
          0,
          0,
          0,
          0,
          0,
          0,
          0,
          0,
          0,
          0,
          0,
          0,
          0,
          0,
          0,
          0,
          0,
          0,
          0,
          0
         ],
         "yaxis": "y"
        },
        {
         "name": "Moyenne 8.5 du mois Jan",
         "type": "scatter",
         "x": [
          2036,
          2037,
          2038,
          2039,
          2040,
          2041,
          2042,
          2043,
          2044,
          2045,
          2046,
          2047,
          2048,
          2049,
          2050,
          2051,
          2052,
          2053,
          2054,
          2055,
          2056,
          2057,
          2058,
          2059,
          2060,
          2061,
          2062,
          2063,
          2064,
          2065,
          2066,
          2067,
          2068,
          2069,
          2070,
          2071,
          2072,
          2073,
          2074,
          2075,
          2076,
          2077,
          2078,
          2079,
          2080,
          2081,
          2082,
          2083,
          2084,
          2085,
          2086,
          2087,
          2088,
          2089,
          2090,
          2091,
          2092,
          2093,
          2094,
          2095,
          2096,
          2097,
          2098,
          2099
         ],
         "xaxis": "x",
         "y": [
          8.863059043884277,
          9.020570755004883,
          8.98039722442627,
          8.84475326538086,
          8.967350006103516,
          8.970306396484375,
          9.087678909301758,
          9.042513847351074,
          9.012621879577637,
          9.24897289276123,
          9.267587661743164,
          9.230582237243652,
          9.28911304473877,
          9.466612815856934,
          9.393108367919922,
          9.404650688171387,
          9.638679504394531,
          9.793974876403809,
          9.754049301147461,
          9.858924865722656,
          10.046392440795898,
          9.986220359802246,
          10.05925178527832,
          9.97348690032959,
          9.98855972290039,
          9.979578971862793,
          10.053304672241211,
          10.084883689880371,
          9.96142864227295,
          10.061098098754883,
          9.844571113586426,
          9.788622856140137,
          9.869566917419434,
          9.982989311218262,
          9.958194732666016,
          10.147171974182129,
          10.141122817993164,
          10.273869514465332,
          10.326956748962402,
          10.43407917022705,
          10.460981369018555,
          10.5149507522583,
          10.670220375061035,
          10.701055526733398,
          10.675107955932617,
          10.75842571258545,
          10.700613021850586,
          10.55294418334961,
          10.626649856567383,
          10.644598007202148,
          10.732004165649414,
          10.725486755371094,
          10.811224937438965,
          11.059357643127441,
          11.093443870544434,
          11.082242965698242,
          11.234503746032715,
          11.324899673461914,
          11.603703498840332,
          11.529891967773438,
          11.770845413208008,
          11.786439895629883,
          11.801873207092285,
          11.906225204467773,
          0,
          0,
          0,
          0,
          0,
          0,
          0,
          0,
          0,
          0,
          0,
          0,
          0,
          0,
          0,
          0,
          0,
          0,
          0,
          0,
          0,
          0,
          0,
          0,
          0,
          0,
          0,
          0,
          0,
          0,
          0
         ],
         "yaxis": "y"
        },
        {
         "name": "Moyenne 2.6 du mois Aug",
         "type": "scatter",
         "x": [
          2036,
          2037,
          2038,
          2039,
          2040,
          2041,
          2042,
          2043,
          2044,
          2045,
          2046,
          2047,
          2048,
          2049,
          2050,
          2051,
          2052,
          2053,
          2054,
          2055,
          2056,
          2057,
          2058,
          2059,
          2060,
          2061,
          2062,
          2063,
          2064,
          2065,
          2066,
          2067,
          2068,
          2069,
          2070,
          2071,
          2072,
          2073,
          2074,
          2075,
          2076,
          2077,
          2078,
          2079,
          2080,
          2081,
          2082,
          2083,
          2084,
          2085,
          2086,
          2087,
          2088,
          2089,
          2090,
          2091,
          2092,
          2093,
          2094,
          2095,
          2096,
          2097,
          2098,
          2099
         ],
         "xaxis": "x2",
         "y": [
          28.315383911132812,
          28.28463363647461,
          28.378389358520508,
          28.36981964111328,
          28.532804489135742,
          28.533628463745117,
          28.439794540405273,
          28.631813049316406,
          28.71424102783203,
          28.554550170898438,
          28.722942352294922,
          28.78789520263672,
          28.912151336669922,
          29.06168556213379,
          28.95705223083496,
          28.955686569213867,
          29.03577423095703,
          28.916913986206055,
          28.840314865112305,
          28.900306701660156,
          29.02631378173828,
          28.924665451049805,
          29.015602111816406,
          29.024118423461914,
          29.11501121520996,
          29.310583114624023,
          29.36827278137207,
          29.298280715942383,
          29.314542770385742,
          29.566804885864258,
          29.532920837402344,
          29.520139694213867,
          29.474273681640625,
          29.493410110473633,
          29.36675262451172,
          29.375024795532227,
          29.56765365600586,
          29.490446090698242,
          29.517974853515625,
          29.602340698242188,
          29.523500442504883,
          29.537405014038086,
          29.409719467163086,
          29.405168533325195,
          29.465795516967773,
          29.509571075439453,
          29.539066314697266,
          29.52326774597168,
          29.5603084564209,
          29.617544174194336,
          29.53531265258789,
          29.58092498779297,
          29.480104446411133,
          29.4216365814209,
          29.392805099487305,
          29.221073150634766,
          29.180822372436523,
          29.08142852783203,
          29.107606887817383,
          29.142526626586914,
          29.208358764648438,
          29.12629508972168,
          29.045595169067383,
          29.0804386138916,
          0,
          0,
          0,
          0,
          0,
          0,
          0,
          0,
          0,
          0,
          0,
          0,
          0,
          0,
          0,
          0,
          0,
          0,
          0,
          0,
          0,
          0,
          0,
          0,
          0,
          0,
          0,
          0,
          0,
          0,
          0
         ],
         "yaxis": "y2"
        },
        {
         "name": "Moyenne 4.5 du mois Aug",
         "type": "scatter",
         "x": [
          2036,
          2037,
          2038,
          2039,
          2040,
          2041,
          2042,
          2043,
          2044,
          2045,
          2046,
          2047,
          2048,
          2049,
          2050,
          2051,
          2052,
          2053,
          2054,
          2055,
          2056,
          2057,
          2058,
          2059,
          2060,
          2061,
          2062,
          2063,
          2064,
          2065,
          2066,
          2067,
          2068,
          2069,
          2070,
          2071,
          2072,
          2073,
          2074,
          2075,
          2076,
          2077,
          2078,
          2079,
          2080,
          2081,
          2082,
          2083,
          2084,
          2085,
          2086,
          2087,
          2088,
          2089,
          2090,
          2091,
          2092,
          2093,
          2094,
          2095,
          2096,
          2097,
          2098,
          2099
         ],
         "xaxis": "x2",
         "y": [
          29.134870529174805,
          29.226581573486328,
          29.132160186767578,
          29.31463050842285,
          29.41176986694336,
          29.446264266967773,
          29.38315200805664,
          29.556270599365234,
          29.593795776367188,
          29.545198440551758,
          29.613786697387695,
          29.678007125854492,
          29.68815803527832,
          29.67750358581543,
          29.669055938720703,
          29.64366912841797,
          29.606422424316406,
          29.644412994384766,
          29.42973518371582,
          29.395723342895508,
          29.4560604095459,
          29.34064292907715,
          29.350088119506836,
          29.450773239135742,
          29.601640701293945,
          29.601177215576172,
          29.56348419189453,
          29.65456771850586,
          29.64154052734375,
          29.375083923339844,
          29.394081115722656,
          29.40305519104004,
          29.55327033996582,
          29.54414939880371,
          29.520137786865234,
          29.446378707885742,
          29.596757888793945,
          29.62441635131836,
          29.739887237548828,
          29.773820877075195,
          29.72332763671875,
          29.793554306030273,
          29.829736709594727,
          30.003023147583008,
          30.104061126708984,
          30.16664695739746,
          30.24547576904297,
          30.317209243774414,
          30.5230712890625,
          30.53901481628418,
          30.499160766601562,
          30.698698043823242,
          30.564186096191406,
          30.51774024963379,
          30.572044372558594,
          30.803205490112305,
          30.879535675048828,
          30.803197860717773,
          30.71230125427246,
          30.859418869018555,
          30.909374237060547,
          30.99146842956543,
          31.028888702392578,
          30.896060943603516,
          0,
          0,
          0,
          0,
          0,
          0,
          0,
          0,
          0,
          0,
          0,
          0,
          0,
          0,
          0,
          0,
          0,
          0,
          0,
          0,
          0,
          0,
          0,
          0,
          0,
          0,
          0,
          0,
          0,
          0,
          0
         ],
         "yaxis": "y2"
        },
        {
         "name": "Moyenne 8.5 du mois Aug",
         "type": "scatter",
         "x": [
          2036,
          2037,
          2038,
          2039,
          2040,
          2041,
          2042,
          2043,
          2044,
          2045,
          2046,
          2047,
          2048,
          2049,
          2050,
          2051,
          2052,
          2053,
          2054,
          2055,
          2056,
          2057,
          2058,
          2059,
          2060,
          2061,
          2062,
          2063,
          2064,
          2065,
          2066,
          2067,
          2068,
          2069,
          2070,
          2071,
          2072,
          2073,
          2074,
          2075,
          2076,
          2077,
          2078,
          2079,
          2080,
          2081,
          2082,
          2083,
          2084,
          2085,
          2086,
          2087,
          2088,
          2089,
          2090,
          2091,
          2092,
          2093,
          2094,
          2095,
          2096,
          2097,
          2098,
          2099
         ],
         "xaxis": "x2",
         "y": [
          28.627016067504883,
          28.5245304107666,
          28.617752075195312,
          28.527528762817383,
          28.42197036743164,
          28.477169036865234,
          28.60234260559082,
          28.68707275390625,
          28.866605758666992,
          28.907583236694336,
          29.060033798217773,
          29.180994033813477,
          29.227842330932617,
          29.07452964782715,
          29.110855102539062,
          29.152992248535156,
          29.22815704345703,
          29.236614227294922,
          29.4030818939209,
          29.471290588378906,
          29.619407653808594,
          29.853567123413086,
          29.92108154296875,
          30.018953323364258,
          29.914003372192383,
          30.031017303466797,
          30.078895568847656,
          30.089534759521484,
          30.149934768676758,
          30.333959579467773,
          30.3623046875,
          30.548622131347656,
          30.58540916442871,
          30.762041091918945,
          30.88975715637207,
          30.96068000793457,
          30.930599212646484,
          30.950347900390625,
          31.037750244140625,
          31.02073860168457,
          31.037029266357422,
          31.1011905670166,
          31.348907470703125,
          31.596176147460938,
          31.815486907958984,
          31.912044525146484,
          31.982946395874023,
          32.090450286865234,
          32.05508804321289,
          32.13494873046875,
          32.122074127197266,
          32.047298431396484,
          32.20323181152344,
          32.24540328979492,
          32.474632263183594,
          32.5595817565918,
          32.67809295654297,
          32.74285125732422,
          32.72803497314453,
          32.79195785522461,
          32.888118743896484,
          32.958553314208984,
          33.07304000854492,
          33.25700378417969,
          0,
          0,
          0,
          0,
          0,
          0,
          0,
          0,
          0,
          0,
          0,
          0,
          0,
          0,
          0,
          0,
          0,
          0,
          0,
          0,
          0,
          0,
          0,
          0,
          0,
          0,
          0,
          0,
          0,
          0,
          0
         ],
         "yaxis": "y2"
        },
        {
         "name": "Moyenne 2.6 de l'année",
         "type": "scatter",
         "x": [
          2036,
          2037,
          2038,
          2039,
          2040,
          2041,
          2042,
          2043,
          2044,
          2045,
          2046,
          2047,
          2048,
          2049,
          2050,
          2051,
          2052,
          2053,
          2054,
          2055,
          2056,
          2057,
          2058,
          2059,
          2060,
          2061,
          2062,
          2063,
          2064,
          2065,
          2066,
          2067,
          2068,
          2069,
          2070,
          2071,
          2072,
          2073,
          2074,
          2075,
          2076,
          2077,
          2078,
          2079,
          2080,
          2081,
          2082,
          2083,
          2084,
          2085,
          2086,
          2087,
          2088,
          2089,
          2090,
          2091,
          2092,
          2093,
          2094,
          2095,
          2096,
          2097,
          2098,
          2099
         ],
         "xaxis": "x3",
         "y": [
          28.653980255126953,
          28.62322998046875,
          28.71698570251465,
          28.70841407775879,
          28.871400833129883,
          28.90026092529297,
          28.849740982055664,
          29.04175567626953,
          29.027179718017578,
          28.86748695373535,
          29.035879135131836,
          29.040752410888672,
          29.165006637573242,
          29.314542770385742,
          29.20990753173828,
          29.208541870117188,
          29.298463821411133,
          29.207202911376953,
          29.130603790283203,
          29.266836166381836,
          29.392841339111328,
          29.297658920288086,
          29.388595581054688,
          29.397111892700195,
          29.488006591796875,
          29.800861358642578,
          29.858551025390625,
          29.89699935913086,
          29.859233856201172,
          30.111494064331055,
          29.986360549926758,
          30.032487869262695,
          29.99039077758789,
          30.010528564453125,
          29.915739059448242,
          29.90747833251953,
          30.056793212890625,
          30.04978370666504,
          30.07731056213379,
          30.16167449951172,
          30.1165828704834,
          30.195554733276367,
          30.18256187438965,
          30.17800521850586,
          30.238632202148438,
          30.31984519958496,
          30.339508056640625,
          30.296104431152344,
          30.333152770996094,
          30.30531883239746,
          30.22308921813965,
          30.235897064208984,
          30.270200729370117,
          30.211732864379883,
          30.182903289794922,
          29.893890380859375,
          29.860214233398438,
          29.672609329223633,
          29.6987247467041,
          29.733646392822266,
          29.79947853088379,
          29.674591064453125,
          29.711994171142578,
          29.745834350585938,
          0,
          0,
          0,
          0,
          0,
          0,
          0,
          0,
          0,
          0,
          0,
          0,
          0,
          0,
          0,
          0,
          0,
          0,
          0,
          0,
          0,
          0,
          0,
          0,
          0,
          0,
          0,
          0,
          0,
          0,
          0
         ],
         "yaxis": "y3"
        },
        {
         "name": "Moyenne 4.5 de l'année",
         "type": "scatter",
         "x": [
          2036,
          2037,
          2038,
          2039,
          2040,
          2041,
          2042,
          2043,
          2044,
          2045,
          2046,
          2047,
          2048,
          2049,
          2050,
          2051,
          2052,
          2053,
          2054,
          2055,
          2056,
          2057,
          2058,
          2059,
          2060,
          2061,
          2062,
          2063,
          2064,
          2065,
          2066,
          2067,
          2068,
          2069,
          2070,
          2071,
          2072,
          2073,
          2074,
          2075,
          2076,
          2077,
          2078,
          2079,
          2080,
          2081,
          2082,
          2083,
          2084,
          2085,
          2086,
          2087,
          2088,
          2089,
          2090,
          2091,
          2092,
          2093,
          2094,
          2095,
          2096,
          2097,
          2098,
          2099
         ],
         "xaxis": "x3",
         "y": [
          29.456592559814453,
          29.548303604125977,
          29.454761505126953,
          29.637235641479492,
          29.734373092651367,
          29.812334060668945,
          29.653959274291992,
          29.941701889038086,
          29.979228973388672,
          29.88320541381836,
          29.87021255493164,
          29.934432983398438,
          29.944581985473633,
          29.933929443359375,
          29.879404067993164,
          29.854013442993164,
          29.816770553588867,
          29.86432647705078,
          29.66373062133789,
          29.629716873168945,
          29.690061569213867,
          29.738767623901367,
          29.76189613342285,
          29.97201919555664,
          30.103843688964844,
          30.103376388549805,
          30.092111587524414,
          30.183197021484375,
          30.170169830322266,
          29.934106826782227,
          30.047367095947266,
          30.056344985961914,
          30.205677032470703,
          30.196556091308594,
          30.172544479370117,
          30.058374404907227,
          30.185409545898438,
          30.08961296081543,
          30.205081939697266,
          30.239015579223633,
          30.353986740112305,
          30.449758529663086,
          30.549291610717773,
          30.722572326660156,
          30.8236141204834,
          30.886198043823242,
          30.99488639831543,
          31.06103515625,
          31.2528133392334,
          31.32193374633789,
          31.36101722717285,
          31.39642333984375,
          31.279491424560547,
          31.123455047607422,
          31.261913299560547,
          31.493070602416992,
          31.542972564697266,
          31.47834587097168,
          31.42292022705078,
          31.6477108001709,
          31.61137580871582,
          31.712923049926758,
          31.750347137451172,
          31.775144577026367,
          0,
          0,
          0,
          0,
          0,
          0,
          0,
          0,
          0,
          0,
          0,
          0,
          0,
          0,
          0,
          0,
          0,
          0,
          0,
          0,
          0,
          0,
          0,
          0,
          0,
          0,
          0,
          0,
          0,
          0,
          0
         ],
         "yaxis": "y3"
        },
        {
         "name": "Moyenne 8.5 de l'année",
         "type": "scatter",
         "x": [
          2036,
          2037,
          2038,
          2039,
          2040,
          2041,
          2042,
          2043,
          2044,
          2045,
          2046,
          2047,
          2048,
          2049,
          2050,
          2051,
          2052,
          2053,
          2054,
          2055,
          2056,
          2057,
          2058,
          2059,
          2060,
          2061,
          2062,
          2063,
          2064,
          2065,
          2066,
          2067,
          2068,
          2069,
          2070,
          2071,
          2072,
          2073,
          2074,
          2075,
          2076,
          2077,
          2078,
          2079,
          2080,
          2081,
          2082,
          2083,
          2084,
          2085,
          2086,
          2087,
          2088,
          2089,
          2090,
          2091,
          2092,
          2093,
          2094,
          2095,
          2096,
          2097,
          2098,
          2099
         ],
         "xaxis": "x3",
         "y": [
          28.887920379638672,
          28.794212341308594,
          28.925168991088867,
          28.834943771362305,
          28.729387283325195,
          28.784584045410156,
          28.909759521484375,
          28.994489669799805,
          29.110326766967773,
          29.151302337646484,
          29.29564094543457,
          29.401384353637695,
          29.4459228515625,
          29.383323669433594,
          29.419647216796875,
          29.4617919921875,
          29.610366821289062,
          29.61882209777832,
          29.785289764404297,
          29.857812881469727,
          30.005931854248047,
          30.240087509155273,
          30.307601928710938,
          30.398405075073242,
          30.293453216552734,
          30.435630798339844,
          30.48350715637207,
          30.536592483520508,
          30.62175178527832,
          30.79485321044922,
          30.74138832092285,
          30.91892433166504,
          30.945215225219727,
          31.121849060058594,
          31.24956512451172,
          31.32048988342285,
          31.31509780883789,
          31.334840774536133,
          31.4222469329834,
          31.474037170410156,
          31.512441635131836,
          31.58606719970703,
          31.832422256469727,
          32.012351989746094,
          32.23166275024414,
          32.32822036743164,
          32.38876724243164,
          32.51101303100586,
          32.488704681396484,
          32.564247131347656,
          32.56632614135742,
          32.592445373535156,
          32.74837875366211,
          32.81732177734375,
          33.04655075073242,
          33.1257209777832,
          33.244232177734375,
          33.28445816040039,
          33.2459716796875,
          33.33007049560547,
          33.473785400390625,
          33.6197624206543,
          33.70700454711914,
          33.890968322753906,
          0,
          0,
          0,
          0,
          0,
          0,
          0,
          0,
          0,
          0,
          0,
          0,
          0,
          0,
          0,
          0,
          0,
          0,
          0,
          0,
          0,
          0,
          0,
          0,
          0,
          0,
          0,
          0,
          0,
          0,
          0
         ],
         "yaxis": "y3"
        }
       ],
       "layout": {
        "annotations": [
         {
          "font": {
           "size": 16
          },
          "showarrow": false,
          "text": "<i>Mois de janvier</i>",
          "x": 0.5,
          "xanchor": "center",
          "xref": "paper",
          "y": 1,
          "yanchor": "bottom",
          "yref": "paper"
         },
         {
          "font": {
           "size": 16
          },
          "showarrow": false,
          "text": "<i>Mois d'aout</i>",
          "x": 0.5,
          "xanchor": "center",
          "xref": "paper",
          "y": 0.6111111111111112,
          "yanchor": "bottom",
          "yref": "paper"
         },
         {
          "font": {
           "size": 16
          },
          "showarrow": false,
          "text": "<i>Max de l'année</i>",
          "x": 0.5,
          "xanchor": "center",
          "xref": "paper",
          "y": 0.22222222222222224,
          "yanchor": "bottom",
          "yref": "paper"
         }
        ],
        "autosize": false,
        "height": 1300,
        "legend": {
         "orientation": "h"
        },
        "margin": {
         "b": 10,
         "l": 60,
         "r": 30,
         "t": 60
        },
        "template": {
         "data": {
          "bar": [
           {
            "error_x": {
             "color": "#2a3f5f"
            },
            "error_y": {
             "color": "#2a3f5f"
            },
            "marker": {
             "line": {
              "color": "#E5ECF6",
              "width": 0.5
             }
            },
            "type": "bar"
           }
          ],
          "barpolar": [
           {
            "marker": {
             "line": {
              "color": "#E5ECF6",
              "width": 0.5
             }
            },
            "type": "barpolar"
           }
          ],
          "carpet": [
           {
            "aaxis": {
             "endlinecolor": "#2a3f5f",
             "gridcolor": "white",
             "linecolor": "white",
             "minorgridcolor": "white",
             "startlinecolor": "#2a3f5f"
            },
            "baxis": {
             "endlinecolor": "#2a3f5f",
             "gridcolor": "white",
             "linecolor": "white",
             "minorgridcolor": "white",
             "startlinecolor": "#2a3f5f"
            },
            "type": "carpet"
           }
          ],
          "choropleth": [
           {
            "colorbar": {
             "outlinewidth": 0,
             "ticks": ""
            },
            "type": "choropleth"
           }
          ],
          "contour": [
           {
            "colorbar": {
             "outlinewidth": 0,
             "ticks": ""
            },
            "colorscale": [
             [
              0,
              "#0d0887"
             ],
             [
              0.1111111111111111,
              "#46039f"
             ],
             [
              0.2222222222222222,
              "#7201a8"
             ],
             [
              0.3333333333333333,
              "#9c179e"
             ],
             [
              0.4444444444444444,
              "#bd3786"
             ],
             [
              0.5555555555555556,
              "#d8576b"
             ],
             [
              0.6666666666666666,
              "#ed7953"
             ],
             [
              0.7777777777777778,
              "#fb9f3a"
             ],
             [
              0.8888888888888888,
              "#fdca26"
             ],
             [
              1,
              "#f0f921"
             ]
            ],
            "type": "contour"
           }
          ],
          "contourcarpet": [
           {
            "colorbar": {
             "outlinewidth": 0,
             "ticks": ""
            },
            "type": "contourcarpet"
           }
          ],
          "heatmap": [
           {
            "colorbar": {
             "outlinewidth": 0,
             "ticks": ""
            },
            "colorscale": [
             [
              0,
              "#0d0887"
             ],
             [
              0.1111111111111111,
              "#46039f"
             ],
             [
              0.2222222222222222,
              "#7201a8"
             ],
             [
              0.3333333333333333,
              "#9c179e"
             ],
             [
              0.4444444444444444,
              "#bd3786"
             ],
             [
              0.5555555555555556,
              "#d8576b"
             ],
             [
              0.6666666666666666,
              "#ed7953"
             ],
             [
              0.7777777777777778,
              "#fb9f3a"
             ],
             [
              0.8888888888888888,
              "#fdca26"
             ],
             [
              1,
              "#f0f921"
             ]
            ],
            "type": "heatmap"
           }
          ],
          "heatmapgl": [
           {
            "colorbar": {
             "outlinewidth": 0,
             "ticks": ""
            },
            "colorscale": [
             [
              0,
              "#0d0887"
             ],
             [
              0.1111111111111111,
              "#46039f"
             ],
             [
              0.2222222222222222,
              "#7201a8"
             ],
             [
              0.3333333333333333,
              "#9c179e"
             ],
             [
              0.4444444444444444,
              "#bd3786"
             ],
             [
              0.5555555555555556,
              "#d8576b"
             ],
             [
              0.6666666666666666,
              "#ed7953"
             ],
             [
              0.7777777777777778,
              "#fb9f3a"
             ],
             [
              0.8888888888888888,
              "#fdca26"
             ],
             [
              1,
              "#f0f921"
             ]
            ],
            "type": "heatmapgl"
           }
          ],
          "histogram": [
           {
            "marker": {
             "colorbar": {
              "outlinewidth": 0,
              "ticks": ""
             }
            },
            "type": "histogram"
           }
          ],
          "histogram2d": [
           {
            "colorbar": {
             "outlinewidth": 0,
             "ticks": ""
            },
            "colorscale": [
             [
              0,
              "#0d0887"
             ],
             [
              0.1111111111111111,
              "#46039f"
             ],
             [
              0.2222222222222222,
              "#7201a8"
             ],
             [
              0.3333333333333333,
              "#9c179e"
             ],
             [
              0.4444444444444444,
              "#bd3786"
             ],
             [
              0.5555555555555556,
              "#d8576b"
             ],
             [
              0.6666666666666666,
              "#ed7953"
             ],
             [
              0.7777777777777778,
              "#fb9f3a"
             ],
             [
              0.8888888888888888,
              "#fdca26"
             ],
             [
              1,
              "#f0f921"
             ]
            ],
            "type": "histogram2d"
           }
          ],
          "histogram2dcontour": [
           {
            "colorbar": {
             "outlinewidth": 0,
             "ticks": ""
            },
            "colorscale": [
             [
              0,
              "#0d0887"
             ],
             [
              0.1111111111111111,
              "#46039f"
             ],
             [
              0.2222222222222222,
              "#7201a8"
             ],
             [
              0.3333333333333333,
              "#9c179e"
             ],
             [
              0.4444444444444444,
              "#bd3786"
             ],
             [
              0.5555555555555556,
              "#d8576b"
             ],
             [
              0.6666666666666666,
              "#ed7953"
             ],
             [
              0.7777777777777778,
              "#fb9f3a"
             ],
             [
              0.8888888888888888,
              "#fdca26"
             ],
             [
              1,
              "#f0f921"
             ]
            ],
            "type": "histogram2dcontour"
           }
          ],
          "mesh3d": [
           {
            "colorbar": {
             "outlinewidth": 0,
             "ticks": ""
            },
            "type": "mesh3d"
           }
          ],
          "parcoords": [
           {
            "line": {
             "colorbar": {
              "outlinewidth": 0,
              "ticks": ""
             }
            },
            "type": "parcoords"
           }
          ],
          "scatter": [
           {
            "marker": {
             "colorbar": {
              "outlinewidth": 0,
              "ticks": ""
             }
            },
            "type": "scatter"
           }
          ],
          "scatter3d": [
           {
            "line": {
             "colorbar": {
              "outlinewidth": 0,
              "ticks": ""
             }
            },
            "marker": {
             "colorbar": {
              "outlinewidth": 0,
              "ticks": ""
             }
            },
            "type": "scatter3d"
           }
          ],
          "scattercarpet": [
           {
            "marker": {
             "colorbar": {
              "outlinewidth": 0,
              "ticks": ""
             }
            },
            "type": "scattercarpet"
           }
          ],
          "scattergeo": [
           {
            "marker": {
             "colorbar": {
              "outlinewidth": 0,
              "ticks": ""
             }
            },
            "type": "scattergeo"
           }
          ],
          "scattergl": [
           {
            "marker": {
             "colorbar": {
              "outlinewidth": 0,
              "ticks": ""
             }
            },
            "type": "scattergl"
           }
          ],
          "scattermapbox": [
           {
            "marker": {
             "colorbar": {
              "outlinewidth": 0,
              "ticks": ""
             }
            },
            "type": "scattermapbox"
           }
          ],
          "scatterpolar": [
           {
            "marker": {
             "colorbar": {
              "outlinewidth": 0,
              "ticks": ""
             }
            },
            "type": "scatterpolar"
           }
          ],
          "scatterpolargl": [
           {
            "marker": {
             "colorbar": {
              "outlinewidth": 0,
              "ticks": ""
             }
            },
            "type": "scatterpolargl"
           }
          ],
          "scatterternary": [
           {
            "marker": {
             "colorbar": {
              "outlinewidth": 0,
              "ticks": ""
             }
            },
            "type": "scatterternary"
           }
          ],
          "surface": [
           {
            "colorbar": {
             "outlinewidth": 0,
             "ticks": ""
            },
            "colorscale": [
             [
              0,
              "#0d0887"
             ],
             [
              0.1111111111111111,
              "#46039f"
             ],
             [
              0.2222222222222222,
              "#7201a8"
             ],
             [
              0.3333333333333333,
              "#9c179e"
             ],
             [
              0.4444444444444444,
              "#bd3786"
             ],
             [
              0.5555555555555556,
              "#d8576b"
             ],
             [
              0.6666666666666666,
              "#ed7953"
             ],
             [
              0.7777777777777778,
              "#fb9f3a"
             ],
             [
              0.8888888888888888,
              "#fdca26"
             ],
             [
              1,
              "#f0f921"
             ]
            ],
            "type": "surface"
           }
          ],
          "table": [
           {
            "cells": {
             "fill": {
              "color": "#EBF0F8"
             },
             "line": {
              "color": "white"
             }
            },
            "header": {
             "fill": {
              "color": "#C8D4E3"
             },
             "line": {
              "color": "white"
             }
            },
            "type": "table"
           }
          ]
         },
         "layout": {
          "annotationdefaults": {
           "arrowcolor": "#2a3f5f",
           "arrowhead": 0,
           "arrowwidth": 1
          },
          "colorscale": {
           "diverging": [
            [
             0,
             "#8e0152"
            ],
            [
             0.1,
             "#c51b7d"
            ],
            [
             0.2,
             "#de77ae"
            ],
            [
             0.3,
             "#f1b6da"
            ],
            [
             0.4,
             "#fde0ef"
            ],
            [
             0.5,
             "#f7f7f7"
            ],
            [
             0.6,
             "#e6f5d0"
            ],
            [
             0.7,
             "#b8e186"
            ],
            [
             0.8,
             "#7fbc41"
            ],
            [
             0.9,
             "#4d9221"
            ],
            [
             1,
             "#276419"
            ]
           ],
           "sequential": [
            [
             0,
             "#0d0887"
            ],
            [
             0.1111111111111111,
             "#46039f"
            ],
            [
             0.2222222222222222,
             "#7201a8"
            ],
            [
             0.3333333333333333,
             "#9c179e"
            ],
            [
             0.4444444444444444,
             "#bd3786"
            ],
            [
             0.5555555555555556,
             "#d8576b"
            ],
            [
             0.6666666666666666,
             "#ed7953"
            ],
            [
             0.7777777777777778,
             "#fb9f3a"
            ],
            [
             0.8888888888888888,
             "#fdca26"
            ],
            [
             1,
             "#f0f921"
            ]
           ],
           "sequentialminus": [
            [
             0,
             "#0d0887"
            ],
            [
             0.1111111111111111,
             "#46039f"
            ],
            [
             0.2222222222222222,
             "#7201a8"
            ],
            [
             0.3333333333333333,
             "#9c179e"
            ],
            [
             0.4444444444444444,
             "#bd3786"
            ],
            [
             0.5555555555555556,
             "#d8576b"
            ],
            [
             0.6666666666666666,
             "#ed7953"
            ],
            [
             0.7777777777777778,
             "#fb9f3a"
            ],
            [
             0.8888888888888888,
             "#fdca26"
            ],
            [
             1,
             "#f0f921"
            ]
           ]
          },
          "colorway": [
           "#636efa",
           "#EF553B",
           "#00cc96",
           "#ab63fa",
           "#FFA15A",
           "#19d3f3",
           "#FF6692",
           "#B6E880",
           "#FF97FF",
           "#FECB52"
          ],
          "font": {
           "color": "#2a3f5f"
          },
          "geo": {
           "bgcolor": "white",
           "lakecolor": "white",
           "landcolor": "#E5ECF6",
           "showlakes": true,
           "showland": true,
           "subunitcolor": "white"
          },
          "hoverlabel": {
           "align": "left"
          },
          "hovermode": "closest",
          "mapbox": {
           "style": "light"
          },
          "paper_bgcolor": "white",
          "plot_bgcolor": "#E5ECF6",
          "polar": {
           "angularaxis": {
            "gridcolor": "white",
            "linecolor": "white",
            "ticks": ""
           },
           "bgcolor": "#E5ECF6",
           "radialaxis": {
            "gridcolor": "white",
            "linecolor": "white",
            "ticks": ""
           }
          },
          "scene": {
           "xaxis": {
            "backgroundcolor": "#E5ECF6",
            "gridcolor": "white",
            "gridwidth": 2,
            "linecolor": "white",
            "showbackground": true,
            "ticks": "",
            "zerolinecolor": "white"
           },
           "yaxis": {
            "backgroundcolor": "#E5ECF6",
            "gridcolor": "white",
            "gridwidth": 2,
            "linecolor": "white",
            "showbackground": true,
            "ticks": "",
            "zerolinecolor": "white"
           },
           "zaxis": {
            "backgroundcolor": "#E5ECF6",
            "gridcolor": "white",
            "gridwidth": 2,
            "linecolor": "white",
            "showbackground": true,
            "ticks": "",
            "zerolinecolor": "white"
           }
          },
          "shapedefaults": {
           "line": {
            "color": "#2a3f5f"
           }
          },
          "ternary": {
           "aaxis": {
            "gridcolor": "white",
            "linecolor": "white",
            "ticks": ""
           },
           "baxis": {
            "gridcolor": "white",
            "linecolor": "white",
            "ticks": ""
           },
           "bgcolor": "#E5ECF6",
           "caxis": {
            "gridcolor": "white",
            "linecolor": "white",
            "ticks": ""
           }
          },
          "title": {
           "x": 0.05
          },
          "xaxis": {
           "automargin": true,
           "gridcolor": "white",
           "linecolor": "white",
           "ticks": "",
           "zerolinecolor": "white",
           "zerolinewidth": 2
          },
          "yaxis": {
           "automargin": true,
           "gridcolor": "white",
           "linecolor": "white",
           "ticks": "",
           "zerolinecolor": "white",
           "zerolinewidth": 2
          }
         }
        },
        "title": {
         "text": "<b>Températures maximales Toulouse moyennées sur 30 ans</b>"
        },
        "width": 1000,
        "xaxis": {
         "anchor": "y",
         "autorange": true,
         "domain": [
          0,
          1
         ],
         "range": [
          2036,
          2099
         ],
         "title": {
          "text": "Année"
         },
         "type": "linear"
        },
        "xaxis2": {
         "anchor": "y2",
         "autorange": true,
         "domain": [
          0,
          1
         ],
         "range": [
          2036,
          2099
         ],
         "title": {
          "text": "Année"
         },
         "type": "linear"
        },
        "xaxis3": {
         "anchor": "y3",
         "autorange": true,
         "domain": [
          0,
          1
         ],
         "range": [
          2036,
          2099
         ],
         "title": {
          "text": "Année"
         },
         "type": "linear"
        },
        "yaxis": {
         "anchor": "x",
         "autorange": true,
         "domain": [
          0.7777777777777778,
          1
         ],
         "range": [
          8.20772091547648,
          12.100883324941
         ],
         "title": {
          "text": "Degrés C"
         },
         "type": "linear"
        },
        "yaxis2": {
         "anchor": "x2",
         "autorange": true,
         "domain": [
          0.3888888888888889,
          0.6111111111111112
         ],
         "range": [
          28.008390850490994,
          33.5332465701633
         ],
         "title": {
          "text": "Degrés C"
         },
         "type": "linear"
        },
        "yaxis3": {
         "anchor": "x3",
         "autorange": true,
         "domain": [
          0,
          0.22222222222222224
         ],
         "range": [
          28.330577850341797,
          34.18362045288086
         ],
         "title": {
          "text": "Degrés C"
         },
         "type": "linear"
        }
       }
      },
      "image/png": "[encoded data removed]",
      "text/html": [
       "<div>\n",
       "        \n",
       "        \n",
       "            <div id=\"a93992b0-736a-41ce-abb3-ed385522cd47\" class=\"plotly-graph-div\" style=\"height:1300px; width:1000px;\"></div>\n",
       "            <script type=\"text/javascript\">\n",
       "                require([\"plotly\"], function(Plotly) {\n",
       "                    window.PLOTLYENV=window.PLOTLYENV || {};\n",
       "                    \n",
       "                if (document.getElementById(\"a93992b0-736a-41ce-abb3-ed385522cd47\")) {\n",
       "                    Plotly.newPlot(\n",
       "                        'a93992b0-736a-41ce-abb3-ed385522cd47',\n",
       "                        [{\"name\": \"Moyenne 2.6 du mois Jan\", \"type\": \"scatter\", \"x\": [2036, 2037, 2038, 2039, 2040, 2041, 2042, 2043, 2044, 2045, 2046, 2047, 2048, 2049, 2050, 2051, 2052, 2053, 2054, 2055, 2056, 2057, 2058, 2059, 2060, 2061, 2062, 2063, 2064, 2065, 2066, 2067, 2068, 2069, 2070, 2071, 2072, 2073, 2074, 2075, 2076, 2077, 2078, 2079, 2080, 2081, 2082, 2083, 2084, 2085, 2086, 2087, 2088, 2089, 2090, 2091, 2092, 2093, 2094, 2095, 2096, 2097, 2098, 2099], \"xaxis\": \"x\", \"y\": [8.94485855102539, 9.07922077178955, 8.993371963500977, 8.987469673156738, 8.901383399963379, 9.038625717163086, 8.893330574035645, 8.719688415527344, 8.621516227722168, 8.592198371887207, 8.575969696044922, 8.522064208984375, 8.59089469909668, 8.496800422668457, 8.507843971252441, 8.453868865966797, 8.483819007873535, 8.402379035949707, 8.714922904968262, 8.804740905761719, 8.906726837158203, 8.8755464553833, 8.930146217346191, 9.049641609191895, 9.089763641357422, 9.238469123840332, 9.294001579284668, 9.241503715515137, 9.17829418182373, 9.236457824707031, 9.195521354675293, 9.174161911010742, 9.12559986114502, 9.225615501403809, 9.287752151489258, 9.219369888305664, 9.422039031982422, 9.492504119873047, 9.539966583251953, 9.611153602600098, 9.584455490112305, 9.507646560668945, 9.312573432922363, 9.380714416503906, 9.326295852661133, 9.524450302124023, 9.639690399169922, 9.508376121520996, 9.360953330993652, 9.29200267791748, 9.237592697143555, 9.271939277648926, 9.29615592956543, 9.253987312316895, 9.137619018554688, 9.2014741897583, 9.357574462890625, 9.229047775268555, 9.406153678894043, 9.471818923950195, 9.548151016235352, 9.436237335205078, 9.526570320129395, 9.615522384643555, 0.0, 0.0, 0.0, 0.0, 0.0, 0.0, 0.0, 0.0, 0.0, 0.0, 0.0, 0.0, 0.0, 0.0, 0.0, 0.0, 0.0, 0.0, 0.0, 0.0, 0.0, 0.0, 0.0, 0.0, 0.0, 0.0, 0.0, 0.0, 0.0, 0.0, 0.0], \"yaxis\": \"y\"}, {\"name\": \"Moyenne 4.5 du mois Jan\", \"type\": \"scatter\", \"x\": [2036, 2037, 2038, 2039, 2040, 2041, 2042, 2043, 2044, 2045, 2046, 2047, 2048, 2049, 2050, 2051, 2052, 2053, 2054, 2055, 2056, 2057, 2058, 2059, 2060, 2061, 2062, 2063, 2064, 2065, 2066, 2067, 2068, 2069, 2070, 2071, 2072, 2073, 2074, 2075, 2076, 2077, 2078, 2079, 2080, 2081, 2082, 2083, 2084, 2085, 2086, 2087, 2088, 2089, 2090, 2091, 2092, 2093, 2094, 2095, 2096, 2097, 2098, 2099], \"xaxis\": \"x\", \"y\": [8.437761306762695, 8.586709022521973, 8.541804313659668, 8.700600624084473, 8.924899101257324, 8.956269264221191, 8.997438430786133, 8.904768943786621, 8.896173477172852, 8.757938385009766, 8.938093185424805, 9.018835067749023, 9.164179801940918, 9.041045188903809, 8.868391036987305, 8.938769340515137, 8.994327545166016, 9.011863708496094, 9.27350902557373, 9.439120292663574, 9.521377563476562, 9.581401824951172, 9.666122436523438, 9.742661476135254, 9.634552001953125, 9.556718826293945, 9.527068138122559, 9.569668769836426, 9.472079277038574, 9.370819091796875, 9.402192115783691, 9.29223346710205, 9.234926223754883, 9.186324119567871, 9.057036399841309, 9.071346282958984, 9.191034317016602, 9.121521949768066, 9.31108283996582, 9.419044494628906, 9.391010284423828, 9.432957649230957, 9.342546463012695, 9.451702117919922, 9.651510238647461, 9.688873291015625, 9.856037139892578, 9.964396476745605, 9.921697616577148, 9.917095184326172, 9.908535957336426, 9.907866477966309, 9.900458335876465, 9.991450309753418, 10.163196563720703, 10.136435508728027, 10.248628616333008, 10.290761947631836, 10.387577056884766, 10.587897300720215, 10.557450294494629, 10.645240783691406, 10.761122703552246, 10.752227783203125, 0.0, 0.0, 0.0, 0.0, 0.0, 0.0, 0.0, 0.0, 0.0, 0.0, 0.0, 0.0, 0.0, 0.0, 0.0, 0.0, 0.0, 0.0, 0.0, 0.0, 0.0, 0.0, 0.0, 0.0, 0.0, 0.0, 0.0, 0.0, 0.0, 0.0, 0.0], \"yaxis\": \"y\"}, {\"name\": \"Moyenne 8.5 du mois Jan\", \"type\": \"scatter\", \"x\": [2036, 2037, 2038, 2039, 2040, 2041, 2042, 2043, 2044, 2045, 2046, 2047, 2048, 2049, 2050, 2051, 2052, 2053, 2054, 2055, 2056, 2057, 2058, 2059, 2060, 2061, 2062, 2063, 2064, 2065, 2066, 2067, 2068, 2069, 2070, 2071, 2072, 2073, 2074, 2075, 2076, 2077, 2078, 2079, 2080, 2081, 2082, 2083, 2084, 2085, 2086, 2087, 2088, 2089, 2090, 2091, 2092, 2093, 2094, 2095, 2096, 2097, 2098, 2099], \"xaxis\": \"x\", \"y\": [8.863059043884277, 9.020570755004883, 8.98039722442627, 8.84475326538086, 8.967350006103516, 8.970306396484375, 9.087678909301758, 9.042513847351074, 9.012621879577637, 9.24897289276123, 9.267587661743164, 9.230582237243652, 9.28911304473877, 9.466612815856934, 9.393108367919922, 9.404650688171387, 9.638679504394531, 9.793974876403809, 9.754049301147461, 9.858924865722656, 10.046392440795898, 9.986220359802246, 10.05925178527832, 9.97348690032959, 9.98855972290039, 9.979578971862793, 10.053304672241211, 10.084883689880371, 9.96142864227295, 10.061098098754883, 9.844571113586426, 9.788622856140137, 9.869566917419434, 9.982989311218262, 9.958194732666016, 10.147171974182129, 10.141122817993164, 10.273869514465332, 10.326956748962402, 10.43407917022705, 10.460981369018555, 10.5149507522583, 10.670220375061035, 10.701055526733398, 10.675107955932617, 10.75842571258545, 10.700613021850586, 10.55294418334961, 10.626649856567383, 10.644598007202148, 10.732004165649414, 10.725486755371094, 10.811224937438965, 11.059357643127441, 11.093443870544434, 11.082242965698242, 11.234503746032715, 11.324899673461914, 11.603703498840332, 11.529891967773438, 11.770845413208008, 11.786439895629883, 11.801873207092285, 11.906225204467773, 0.0, 0.0, 0.0, 0.0, 0.0, 0.0, 0.0, 0.0, 0.0, 0.0, 0.0, 0.0, 0.0, 0.0, 0.0, 0.0, 0.0, 0.0, 0.0, 0.0, 0.0, 0.0, 0.0, 0.0, 0.0, 0.0, 0.0, 0.0, 0.0, 0.0, 0.0], \"yaxis\": \"y\"}, {\"name\": \"Moyenne 2.6 du mois Aug\", \"type\": \"scatter\", \"x\": [2036, 2037, 2038, 2039, 2040, 2041, 2042, 2043, 2044, 2045, 2046, 2047, 2048, 2049, 2050, 2051, 2052, 2053, 2054, 2055, 2056, 2057, 2058, 2059, 2060, 2061, 2062, 2063, 2064, 2065, 2066, 2067, 2068, 2069, 2070, 2071, 2072, 2073, 2074, 2075, 2076, 2077, 2078, 2079, 2080, 2081, 2082, 2083, 2084, 2085, 2086, 2087, 2088, 2089, 2090, 2091, 2092, 2093, 2094, 2095, 2096, 2097, 2098, 2099], \"xaxis\": \"x2\", \"y\": [28.315383911132812, 28.28463363647461, 28.378389358520508, 28.36981964111328, 28.532804489135742, 28.533628463745117, 28.439794540405273, 28.631813049316406, 28.71424102783203, 28.554550170898438, 28.722942352294922, 28.78789520263672, 28.912151336669922, 29.06168556213379, 28.95705223083496, 28.955686569213867, 29.03577423095703, 28.916913986206055, 28.840314865112305, 28.900306701660156, 29.02631378173828, 28.924665451049805, 29.015602111816406, 29.024118423461914, 29.11501121520996, 29.310583114624023, 29.36827278137207, 29.298280715942383, 29.314542770385742, 29.566804885864258, 29.532920837402344, 29.520139694213867, 29.474273681640625, 29.493410110473633, 29.36675262451172, 29.375024795532227, 29.56765365600586, 29.490446090698242, 29.517974853515625, 29.602340698242188, 29.523500442504883, 29.537405014038086, 29.409719467163086, 29.405168533325195, 29.465795516967773, 29.509571075439453, 29.539066314697266, 29.52326774597168, 29.5603084564209, 29.617544174194336, 29.53531265258789, 29.58092498779297, 29.480104446411133, 29.4216365814209, 29.392805099487305, 29.221073150634766, 29.180822372436523, 29.08142852783203, 29.107606887817383, 29.142526626586914, 29.208358764648438, 29.12629508972168, 29.045595169067383, 29.0804386138916, 0.0, 0.0, 0.0, 0.0, 0.0, 0.0, 0.0, 0.0, 0.0, 0.0, 0.0, 0.0, 0.0, 0.0, 0.0, 0.0, 0.0, 0.0, 0.0, 0.0, 0.0, 0.0, 0.0, 0.0, 0.0, 0.0, 0.0, 0.0, 0.0, 0.0, 0.0], \"yaxis\": \"y2\"}, {\"name\": \"Moyenne 4.5 du mois Aug\", \"type\": \"scatter\", \"x\": [2036, 2037, 2038, 2039, 2040, 2041, 2042, 2043, 2044, 2045, 2046, 2047, 2048, 2049, 2050, 2051, 2052, 2053, 2054, 2055, 2056, 2057, 2058, 2059, 2060, 2061, 2062, 2063, 2064, 2065, 2066, 2067, 2068, 2069, 2070, 2071, 2072, 2073, 2074, 2075, 2076, 2077, 2078, 2079, 2080, 2081, 2082, 2083, 2084, 2085, 2086, 2087, 2088, 2089, 2090, 2091, 2092, 2093, 2094, 2095, 2096, 2097, 2098, 2099], \"xaxis\": \"x2\", \"y\": [29.134870529174805, 29.226581573486328, 29.132160186767578, 29.31463050842285, 29.41176986694336, 29.446264266967773, 29.38315200805664, 29.556270599365234, 29.593795776367188, 29.545198440551758, 29.613786697387695, 29.678007125854492, 29.68815803527832, 29.67750358581543, 29.669055938720703, 29.64366912841797, 29.606422424316406, 29.644412994384766, 29.42973518371582, 29.395723342895508, 29.4560604095459, 29.34064292907715, 29.350088119506836, 29.450773239135742, 29.601640701293945, 29.601177215576172, 29.56348419189453, 29.65456771850586, 29.64154052734375, 29.375083923339844, 29.394081115722656, 29.40305519104004, 29.55327033996582, 29.54414939880371, 29.520137786865234, 29.446378707885742, 29.596757888793945, 29.62441635131836, 29.739887237548828, 29.773820877075195, 29.72332763671875, 29.793554306030273, 29.829736709594727, 30.003023147583008, 30.104061126708984, 30.16664695739746, 30.24547576904297, 30.317209243774414, 30.5230712890625, 30.53901481628418, 30.499160766601562, 30.698698043823242, 30.564186096191406, 30.51774024963379, 30.572044372558594, 30.803205490112305, 30.879535675048828, 30.803197860717773, 30.71230125427246, 30.859418869018555, 30.909374237060547, 30.99146842956543, 31.028888702392578, 30.896060943603516, 0.0, 0.0, 0.0, 0.0, 0.0, 0.0, 0.0, 0.0, 0.0, 0.0, 0.0, 0.0, 0.0, 0.0, 0.0, 0.0, 0.0, 0.0, 0.0, 0.0, 0.0, 0.0, 0.0, 0.0, 0.0, 0.0, 0.0, 0.0, 0.0, 0.0, 0.0], \"yaxis\": \"y2\"}, {\"name\": \"Moyenne 8.5 du mois Aug\", \"type\": \"scatter\", \"x\": [2036, 2037, 2038, 2039, 2040, 2041, 2042, 2043, 2044, 2045, 2046, 2047, 2048, 2049, 2050, 2051, 2052, 2053, 2054, 2055, 2056, 2057, 2058, 2059, 2060, 2061, 2062, 2063, 2064, 2065, 2066, 2067, 2068, 2069, 2070, 2071, 2072, 2073, 2074, 2075, 2076, 2077, 2078, 2079, 2080, 2081, 2082, 2083, 2084, 2085, 2086, 2087, 2088, 2089, 2090, 2091, 2092, 2093, 2094, 2095, 2096, 2097, 2098, 2099], \"xaxis\": \"x2\", \"y\": [28.627016067504883, 28.5245304107666, 28.617752075195312, 28.527528762817383, 28.42197036743164, 28.477169036865234, 28.60234260559082, 28.68707275390625, 28.866605758666992, 28.907583236694336, 29.060033798217773, 29.180994033813477, 29.227842330932617, 29.07452964782715, 29.110855102539062, 29.152992248535156, 29.22815704345703, 29.236614227294922, 29.4030818939209, 29.471290588378906, 29.619407653808594, 29.853567123413086, 29.92108154296875, 30.018953323364258, 29.914003372192383, 30.031017303466797, 30.078895568847656, 30.089534759521484, 30.149934768676758, 30.333959579467773, 30.3623046875, 30.548622131347656, 30.58540916442871, 30.762041091918945, 30.88975715637207, 30.96068000793457, 30.930599212646484, 30.950347900390625, 31.037750244140625, 31.02073860168457, 31.037029266357422, 31.1011905670166, 31.348907470703125, 31.596176147460938, 31.815486907958984, 31.912044525146484, 31.982946395874023, 32.090450286865234, 32.05508804321289, 32.13494873046875, 32.122074127197266, 32.047298431396484, 32.20323181152344, 32.24540328979492, 32.474632263183594, 32.5595817565918, 32.67809295654297, 32.74285125732422, 32.72803497314453, 32.79195785522461, 32.888118743896484, 32.958553314208984, 33.07304000854492, 33.25700378417969, 0.0, 0.0, 0.0, 0.0, 0.0, 0.0, 0.0, 0.0, 0.0, 0.0, 0.0, 0.0, 0.0, 0.0, 0.0, 0.0, 0.0, 0.0, 0.0, 0.0, 0.0, 0.0, 0.0, 0.0, 0.0, 0.0, 0.0, 0.0, 0.0, 0.0, 0.0], \"yaxis\": \"y2\"}, {\"name\": \"Moyenne 2.6 de l'ann\\u00e9e\", \"type\": \"scatter\", \"x\": [2036, 2037, 2038, 2039, 2040, 2041, 2042, 2043, 2044, 2045, 2046, 2047, 2048, 2049, 2050, 2051, 2052, 2053, 2054, 2055, 2056, 2057, 2058, 2059, 2060, 2061, 2062, 2063, 2064, 2065, 2066, 2067, 2068, 2069, 2070, 2071, 2072, 2073, 2074, 2075, 2076, 2077, 2078, 2079, 2080, 2081, 2082, 2083, 2084, 2085, 2086, 2087, 2088, 2089, 2090, 2091, 2092, 2093, 2094, 2095, 2096, 2097, 2098, 2099], \"xaxis\": \"x3\", \"y\": [28.653980255126953, 28.62322998046875, 28.71698570251465, 28.70841407775879, 28.871400833129883, 28.90026092529297, 28.849740982055664, 29.04175567626953, 29.027179718017578, 28.86748695373535, 29.035879135131836, 29.040752410888672, 29.165006637573242, 29.314542770385742, 29.20990753173828, 29.208541870117188, 29.298463821411133, 29.207202911376953, 29.130603790283203, 29.266836166381836, 29.392841339111328, 29.297658920288086, 29.388595581054688, 29.397111892700195, 29.488006591796875, 29.800861358642578, 29.858551025390625, 29.89699935913086, 29.859233856201172, 30.111494064331055, 29.986360549926758, 30.032487869262695, 29.99039077758789, 30.010528564453125, 29.915739059448242, 29.90747833251953, 30.056793212890625, 30.04978370666504, 30.07731056213379, 30.16167449951172, 30.1165828704834, 30.195554733276367, 30.18256187438965, 30.17800521850586, 30.238632202148438, 30.31984519958496, 30.339508056640625, 30.296104431152344, 30.333152770996094, 30.30531883239746, 30.22308921813965, 30.235897064208984, 30.270200729370117, 30.211732864379883, 30.182903289794922, 29.893890380859375, 29.860214233398438, 29.672609329223633, 29.6987247467041, 29.733646392822266, 29.79947853088379, 29.674591064453125, 29.711994171142578, 29.745834350585938, 0.0, 0.0, 0.0, 0.0, 0.0, 0.0, 0.0, 0.0, 0.0, 0.0, 0.0, 0.0, 0.0, 0.0, 0.0, 0.0, 0.0, 0.0, 0.0, 0.0, 0.0, 0.0, 0.0, 0.0, 0.0, 0.0, 0.0, 0.0, 0.0, 0.0, 0.0], \"yaxis\": \"y3\"}, {\"name\": \"Moyenne 4.5 de l'ann\\u00e9e\", \"type\": \"scatter\", \"x\": [2036, 2037, 2038, 2039, 2040, 2041, 2042, 2043, 2044, 2045, 2046, 2047, 2048, 2049, 2050, 2051, 2052, 2053, 2054, 2055, 2056, 2057, 2058, 2059, 2060, 2061, 2062, 2063, 2064, 2065, 2066, 2067, 2068, 2069, 2070, 2071, 2072, 2073, 2074, 2075, 2076, 2077, 2078, 2079, 2080, 2081, 2082, 2083, 2084, 2085, 2086, 2087, 2088, 2089, 2090, 2091, 2092, 2093, 2094, 2095, 2096, 2097, 2098, 2099], \"xaxis\": \"x3\", \"y\": [29.456592559814453, 29.548303604125977, 29.454761505126953, 29.637235641479492, 29.734373092651367, 29.812334060668945, 29.653959274291992, 29.941701889038086, 29.979228973388672, 29.88320541381836, 29.87021255493164, 29.934432983398438, 29.944581985473633, 29.933929443359375, 29.879404067993164, 29.854013442993164, 29.816770553588867, 29.86432647705078, 29.66373062133789, 29.629716873168945, 29.690061569213867, 29.738767623901367, 29.76189613342285, 29.97201919555664, 30.103843688964844, 30.103376388549805, 30.092111587524414, 30.183197021484375, 30.170169830322266, 29.934106826782227, 30.047367095947266, 30.056344985961914, 30.205677032470703, 30.196556091308594, 30.172544479370117, 30.058374404907227, 30.185409545898438, 30.08961296081543, 30.205081939697266, 30.239015579223633, 30.353986740112305, 30.449758529663086, 30.549291610717773, 30.722572326660156, 30.8236141204834, 30.886198043823242, 30.99488639831543, 31.06103515625, 31.2528133392334, 31.32193374633789, 31.36101722717285, 31.39642333984375, 31.279491424560547, 31.123455047607422, 31.261913299560547, 31.493070602416992, 31.542972564697266, 31.47834587097168, 31.42292022705078, 31.6477108001709, 31.61137580871582, 31.712923049926758, 31.750347137451172, 31.775144577026367, 0.0, 0.0, 0.0, 0.0, 0.0, 0.0, 0.0, 0.0, 0.0, 0.0, 0.0, 0.0, 0.0, 0.0, 0.0, 0.0, 0.0, 0.0, 0.0, 0.0, 0.0, 0.0, 0.0, 0.0, 0.0, 0.0, 0.0, 0.0, 0.0, 0.0, 0.0], \"yaxis\": \"y3\"}, {\"name\": \"Moyenne 8.5 de l'ann\\u00e9e\", \"type\": \"scatter\", \"x\": [2036, 2037, 2038, 2039, 2040, 2041, 2042, 2043, 2044, 2045, 2046, 2047, 2048, 2049, 2050, 2051, 2052, 2053, 2054, 2055, 2056, 2057, 2058, 2059, 2060, 2061, 2062, 2063, 2064, 2065, 2066, 2067, 2068, 2069, 2070, 2071, 2072, 2073, 2074, 2075, 2076, 2077, 2078, 2079, 2080, 2081, 2082, 2083, 2084, 2085, 2086, 2087, 2088, 2089, 2090, 2091, 2092, 2093, 2094, 2095, 2096, 2097, 2098, 2099], \"xaxis\": \"x3\", \"y\": [28.887920379638672, 28.794212341308594, 28.925168991088867, 28.834943771362305, 28.729387283325195, 28.784584045410156, 28.909759521484375, 28.994489669799805, 29.110326766967773, 29.151302337646484, 29.29564094543457, 29.401384353637695, 29.4459228515625, 29.383323669433594, 29.419647216796875, 29.4617919921875, 29.610366821289062, 29.61882209777832, 29.785289764404297, 29.857812881469727, 30.005931854248047, 30.240087509155273, 30.307601928710938, 30.398405075073242, 30.293453216552734, 30.435630798339844, 30.48350715637207, 30.536592483520508, 30.62175178527832, 30.79485321044922, 30.74138832092285, 30.91892433166504, 30.945215225219727, 31.121849060058594, 31.24956512451172, 31.32048988342285, 31.31509780883789, 31.334840774536133, 31.4222469329834, 31.474037170410156, 31.512441635131836, 31.58606719970703, 31.832422256469727, 32.012351989746094, 32.23166275024414, 32.32822036743164, 32.38876724243164, 32.51101303100586, 32.488704681396484, 32.564247131347656, 32.56632614135742, 32.592445373535156, 32.74837875366211, 32.81732177734375, 33.04655075073242, 33.1257209777832, 33.244232177734375, 33.28445816040039, 33.2459716796875, 33.33007049560547, 33.473785400390625, 33.6197624206543, 33.70700454711914, 33.890968322753906, 0.0, 0.0, 0.0, 0.0, 0.0, 0.0, 0.0, 0.0, 0.0, 0.0, 0.0, 0.0, 0.0, 0.0, 0.0, 0.0, 0.0, 0.0, 0.0, 0.0, 0.0, 0.0, 0.0, 0.0, 0.0, 0.0, 0.0, 0.0, 0.0, 0.0, 0.0], \"yaxis\": \"y3\"}],\n",
       "                        {\"annotations\": [{\"font\": {\"size\": 16}, \"showarrow\": false, \"text\": \"<i>Mois de janvier</i>\", \"x\": 0.5, \"xanchor\": \"center\", \"xref\": \"paper\", \"y\": 1.0, \"yanchor\": \"bottom\", \"yref\": \"paper\"}, {\"font\": {\"size\": 16}, \"showarrow\": false, \"text\": \"<i>Mois d'aout</i>\", \"x\": 0.5, \"xanchor\": \"center\", \"xref\": \"paper\", \"y\": 0.6111111111111112, \"yanchor\": \"bottom\", \"yref\": \"paper\"}, {\"font\": {\"size\": 16}, \"showarrow\": false, \"text\": \"<i>Max de l'ann\\u00e9e</i>\", \"x\": 0.5, \"xanchor\": \"center\", \"xref\": \"paper\", \"y\": 0.22222222222222224, \"yanchor\": \"bottom\", \"yref\": \"paper\"}], \"autosize\": false, \"height\": 1300, \"legend\": {\"orientation\": \"h\"}, \"margin\": {\"b\": 10, \"l\": 60, \"r\": 30, \"t\": 60}, \"template\": {\"data\": {\"bar\": [{\"error_x\": {\"color\": \"#2a3f5f\"}, \"error_y\": {\"color\": \"#2a3f5f\"}, \"marker\": {\"line\": {\"color\": \"#E5ECF6\", \"width\": 0.5}}, \"type\": \"bar\"}], \"barpolar\": [{\"marker\": {\"line\": {\"color\": \"#E5ECF6\", \"width\": 0.5}}, \"type\": \"barpolar\"}], \"carpet\": [{\"aaxis\": {\"endlinecolor\": \"#2a3f5f\", \"gridcolor\": \"white\", \"linecolor\": \"white\", \"minorgridcolor\": \"white\", \"startlinecolor\": \"#2a3f5f\"}, \"baxis\": {\"endlinecolor\": \"#2a3f5f\", \"gridcolor\": \"white\", \"linecolor\": \"white\", \"minorgridcolor\": \"white\", \"startlinecolor\": \"#2a3f5f\"}, \"type\": \"carpet\"}], \"choropleth\": [{\"colorbar\": {\"outlinewidth\": 0, \"ticks\": \"\"}, \"type\": \"choropleth\"}], \"contour\": [{\"colorbar\": {\"outlinewidth\": 0, \"ticks\": \"\"}, \"colorscale\": [[0.0, \"#0d0887\"], [0.1111111111111111, \"#46039f\"], [0.2222222222222222, \"#7201a8\"], [0.3333333333333333, \"#9c179e\"], [0.4444444444444444, \"#bd3786\"], [0.5555555555555556, \"#d8576b\"], [0.6666666666666666, \"#ed7953\"], [0.7777777777777778, \"#fb9f3a\"], [0.8888888888888888, \"#fdca26\"], [1.0, \"#f0f921\"]], \"type\": \"contour\"}], \"contourcarpet\": [{\"colorbar\": {\"outlinewidth\": 0, \"ticks\": \"\"}, \"type\": \"contourcarpet\"}], \"heatmap\": [{\"colorbar\": {\"outlinewidth\": 0, \"ticks\": \"\"}, \"colorscale\": [[0.0, \"#0d0887\"], [0.1111111111111111, \"#46039f\"], [0.2222222222222222, \"#7201a8\"], [0.3333333333333333, \"#9c179e\"], [0.4444444444444444, \"#bd3786\"], [0.5555555555555556, \"#d8576b\"], [0.6666666666666666, \"#ed7953\"], [0.7777777777777778, \"#fb9f3a\"], [0.8888888888888888, \"#fdca26\"], [1.0, \"#f0f921\"]], \"type\": \"heatmap\"}], \"heatmapgl\": [{\"colorbar\": {\"outlinewidth\": 0, \"ticks\": \"\"}, \"colorscale\": [[0.0, \"#0d0887\"], [0.1111111111111111, \"#46039f\"], [0.2222222222222222, \"#7201a8\"], [0.3333333333333333, \"#9c179e\"], [0.4444444444444444, \"#bd3786\"], [0.5555555555555556, \"#d8576b\"], [0.6666666666666666, \"#ed7953\"], [0.7777777777777778, \"#fb9f3a\"], [0.8888888888888888, \"#fdca26\"], [1.0, \"#f0f921\"]], \"type\": \"heatmapgl\"}], \"histogram\": [{\"marker\": {\"colorbar\": {\"outlinewidth\": 0, \"ticks\": \"\"}}, \"type\": \"histogram\"}], \"histogram2d\": [{\"colorbar\": {\"outlinewidth\": 0, \"ticks\": \"\"}, \"colorscale\": [[0.0, \"#0d0887\"], [0.1111111111111111, \"#46039f\"], [0.2222222222222222, \"#7201a8\"], [0.3333333333333333, \"#9c179e\"], [0.4444444444444444, \"#bd3786\"], [0.5555555555555556, \"#d8576b\"], [0.6666666666666666, \"#ed7953\"], [0.7777777777777778, \"#fb9f3a\"], [0.8888888888888888, \"#fdca26\"], [1.0, \"#f0f921\"]], \"type\": \"histogram2d\"}], \"histogram2dcontour\": [{\"colorbar\": {\"outlinewidth\": 0, \"ticks\": \"\"}, \"colorscale\": [[0.0, \"#0d0887\"], [0.1111111111111111, \"#46039f\"], [0.2222222222222222, \"#7201a8\"], [0.3333333333333333, \"#9c179e\"], [0.4444444444444444, \"#bd3786\"], [0.5555555555555556, \"#d8576b\"], [0.6666666666666666, \"#ed7953\"], [0.7777777777777778, \"#fb9f3a\"], [0.8888888888888888, \"#fdca26\"], [1.0, \"#f0f921\"]], \"type\": \"histogram2dcontour\"}], \"mesh3d\": [{\"colorbar\": {\"outlinewidth\": 0, \"ticks\": \"\"}, \"type\": \"mesh3d\"}], \"parcoords\": [{\"line\": {\"colorbar\": {\"outlinewidth\": 0, \"ticks\": \"\"}}, \"type\": \"parcoords\"}], \"scatter\": [{\"marker\": {\"colorbar\": {\"outlinewidth\": 0, \"ticks\": \"\"}}, \"type\": \"scatter\"}], \"scatter3d\": [{\"line\": {\"colorbar\": {\"outlinewidth\": 0, \"ticks\": \"\"}}, \"marker\": {\"colorbar\": {\"outlinewidth\": 0, \"ticks\": \"\"}}, \"type\": \"scatter3d\"}], \"scattercarpet\": [{\"marker\": {\"colorbar\": {\"outlinewidth\": 0, \"ticks\": \"\"}}, \"type\": \"scattercarpet\"}], \"scattergeo\": [{\"marker\": {\"colorbar\": {\"outlinewidth\": 0, \"ticks\": \"\"}}, \"type\": \"scattergeo\"}], \"scattergl\": [{\"marker\": {\"colorbar\": {\"outlinewidth\": 0, \"ticks\": \"\"}}, \"type\": \"scattergl\"}], \"scattermapbox\": [{\"marker\": {\"colorbar\": {\"outlinewidth\": 0, \"ticks\": \"\"}}, \"type\": \"scattermapbox\"}], \"scatterpolar\": [{\"marker\": {\"colorbar\": {\"outlinewidth\": 0, \"ticks\": \"\"}}, \"type\": \"scatterpolar\"}], \"scatterpolargl\": [{\"marker\": {\"colorbar\": {\"outlinewidth\": 0, \"ticks\": \"\"}}, \"type\": \"scatterpolargl\"}], \"scatterternary\": [{\"marker\": {\"colorbar\": {\"outlinewidth\": 0, \"ticks\": \"\"}}, \"type\": \"scatterternary\"}], \"surface\": [{\"colorbar\": {\"outlinewidth\": 0, \"ticks\": \"\"}, \"colorscale\": [[0.0, \"#0d0887\"], [0.1111111111111111, \"#46039f\"], [0.2222222222222222, \"#7201a8\"], [0.3333333333333333, \"#9c179e\"], [0.4444444444444444, \"#bd3786\"], [0.5555555555555556, \"#d8576b\"], [0.6666666666666666, \"#ed7953\"], [0.7777777777777778, \"#fb9f3a\"], [0.8888888888888888, \"#fdca26\"], [1.0, \"#f0f921\"]], \"type\": \"surface\"}], \"table\": [{\"cells\": {\"fill\": {\"color\": \"#EBF0F8\"}, \"line\": {\"color\": \"white\"}}, \"header\": {\"fill\": {\"color\": \"#C8D4E3\"}, \"line\": {\"color\": \"white\"}}, \"type\": \"table\"}]}, \"layout\": {\"annotationdefaults\": {\"arrowcolor\": \"#2a3f5f\", \"arrowhead\": 0, \"arrowwidth\": 1}, \"colorscale\": {\"diverging\": [[0, \"#8e0152\"], [0.1, \"#c51b7d\"], [0.2, \"#de77ae\"], [0.3, \"#f1b6da\"], [0.4, \"#fde0ef\"], [0.5, \"#f7f7f7\"], [0.6, \"#e6f5d0\"], [0.7, \"#b8e186\"], [0.8, \"#7fbc41\"], [0.9, \"#4d9221\"], [1, \"#276419\"]], \"sequential\": [[0.0, \"#0d0887\"], [0.1111111111111111, \"#46039f\"], [0.2222222222222222, \"#7201a8\"], [0.3333333333333333, \"#9c179e\"], [0.4444444444444444, \"#bd3786\"], [0.5555555555555556, \"#d8576b\"], [0.6666666666666666, \"#ed7953\"], [0.7777777777777778, \"#fb9f3a\"], [0.8888888888888888, \"#fdca26\"], [1.0, \"#f0f921\"]], \"sequentialminus\": [[0.0, \"#0d0887\"], [0.1111111111111111, \"#46039f\"], [0.2222222222222222, \"#7201a8\"], [0.3333333333333333, \"#9c179e\"], [0.4444444444444444, \"#bd3786\"], [0.5555555555555556, \"#d8576b\"], [0.6666666666666666, \"#ed7953\"], [0.7777777777777778, \"#fb9f3a\"], [0.8888888888888888, \"#fdca26\"], [1.0, \"#f0f921\"]]}, \"colorway\": [\"#636efa\", \"#EF553B\", \"#00cc96\", \"#ab63fa\", \"#FFA15A\", \"#19d3f3\", \"#FF6692\", \"#B6E880\", \"#FF97FF\", \"#FECB52\"], \"font\": {\"color\": \"#2a3f5f\"}, \"geo\": {\"bgcolor\": \"white\", \"lakecolor\": \"white\", \"landcolor\": \"#E5ECF6\", \"showlakes\": true, \"showland\": true, \"subunitcolor\": \"white\"}, \"hoverlabel\": {\"align\": \"left\"}, \"hovermode\": \"closest\", \"mapbox\": {\"style\": \"light\"}, \"paper_bgcolor\": \"white\", \"plot_bgcolor\": \"#E5ECF6\", \"polar\": {\"angularaxis\": {\"gridcolor\": \"white\", \"linecolor\": \"white\", \"ticks\": \"\"}, \"bgcolor\": \"#E5ECF6\", \"radialaxis\": {\"gridcolor\": \"white\", \"linecolor\": \"white\", \"ticks\": \"\"}}, \"scene\": {\"xaxis\": {\"backgroundcolor\": \"#E5ECF6\", \"gridcolor\": \"white\", \"gridwidth\": 2, \"linecolor\": \"white\", \"showbackground\": true, \"ticks\": \"\", \"zerolinecolor\": \"white\"}, \"yaxis\": {\"backgroundcolor\": \"#E5ECF6\", \"gridcolor\": \"white\", \"gridwidth\": 2, \"linecolor\": \"white\", \"showbackground\": true, \"ticks\": \"\", \"zerolinecolor\": \"white\"}, \"zaxis\": {\"backgroundcolor\": \"#E5ECF6\", \"gridcolor\": \"white\", \"gridwidth\": 2, \"linecolor\": \"white\", \"showbackground\": true, \"ticks\": \"\", \"zerolinecolor\": \"white\"}}, \"shapedefaults\": {\"line\": {\"color\": \"#2a3f5f\"}}, \"ternary\": {\"aaxis\": {\"gridcolor\": \"white\", \"linecolor\": \"white\", \"ticks\": \"\"}, \"baxis\": {\"gridcolor\": \"white\", \"linecolor\": \"white\", \"ticks\": \"\"}, \"bgcolor\": \"#E5ECF6\", \"caxis\": {\"gridcolor\": \"white\", \"linecolor\": \"white\", \"ticks\": \"\"}}, \"title\": {\"x\": 0.05}, \"xaxis\": {\"automargin\": true, \"gridcolor\": \"white\", \"linecolor\": \"white\", \"ticks\": \"\", \"zerolinecolor\": \"white\", \"zerolinewidth\": 2}, \"yaxis\": {\"automargin\": true, \"gridcolor\": \"white\", \"linecolor\": \"white\", \"ticks\": \"\", \"zerolinecolor\": \"white\", \"zerolinewidth\": 2}}}, \"title\": {\"text\": \"<b>Temp\\u00e9ratures maximales Toulouse moyenn\\u00e9es sur 30 ans</b>\"}, \"width\": 1000, \"xaxis\": {\"anchor\": \"y\", \"domain\": [0.0, 1.0], \"title\": {\"text\": \"Ann\\u00e9e\"}}, \"xaxis2\": {\"anchor\": \"y2\", \"domain\": [0.0, 1.0], \"title\": {\"text\": \"Ann\\u00e9e\"}}, \"xaxis3\": {\"anchor\": \"y3\", \"domain\": [0.0, 1.0], \"title\": {\"text\": \"Ann\\u00e9e\"}}, \"yaxis\": {\"anchor\": \"x\", \"domain\": [0.7777777777777778, 1.0], \"title\": {\"text\": \"Degr\\u00e9s C\"}}, \"yaxis2\": {\"anchor\": \"x2\", \"domain\": [0.3888888888888889, 0.6111111111111112], \"title\": {\"text\": \"Degr\\u00e9s C\"}}, \"yaxis3\": {\"anchor\": \"x3\", \"domain\": [0.0, 0.22222222222222224], \"title\": {\"text\": \"Degr\\u00e9s C\"}}},\n",
       "                        {\"responsive\": true}\n",
       "                    ).then(function(){\n",
       "                            \n",
       "var gd = document.getElementById('a93992b0-736a-41ce-abb3-ed385522cd47');\n",
       "var x = new MutationObserver(function (mutations, observer) {{\n",
       "        var display = window.getComputedStyle(gd).display;\n",
       "        if (!display || display === 'none') {{\n",
       "            console.log([gd, 'removed!']);\n",
       "            Plotly.purge(gd);\n",
       "            observer.disconnect();\n",
       "        }}\n",
       "}});\n",
       "\n",
       "// Listen for the removal of the full notebook cells\n",
       "var notebookContainer = gd.closest('#notebook-container');\n",
       "if (notebookContainer) {{\n",
       "    x.observe(notebookContainer, {childList: true});\n",
       "}}\n",
       "\n",
       "// Listen for the clearing of the current output cell\n",
       "var outputEl = gd.closest('.output');\n",
       "if (outputEl) {{\n",
       "    x.observe(outputEl, {childList: true});\n",
       "}}\n",
       "\n",
       "                        })\n",
       "                };\n",
       "                });\n",
       "            </script>\n",
       "        </div>"
      ]
     },
     "metadata": {},
     "output_type": "display_data"
    }
   ],
   "source": [
    "q = 0\n",
    "trace26_0 = go.Scatter(\n",
    "    x = Tlse_year[firstPlotYear:lastPlotYear],\n",
    "    y = moyMAreaInterval_Tlse_26[q,:],\n",
    "    name ='Moyenne 2.6 du mois %s'%Tlse_month[calcMonth[q]]\n",
    ")\n",
    "trace45_0 = go.Scatter(\n",
    "    x = Tlse_year[firstPlotYear:lastPlotYear],\n",
    "    y = moyMAreaInterval_Tlse_45[q,:],\n",
    "    name ='Moyenne 4.5 du mois %s'%Tlse_month[calcMonth[q]]\n",
    ")\n",
    "trace85_0 = go.Scatter(\n",
    "    x = Tlse_year[firstPlotYear:lastPlotYear],\n",
    "    y = moyMAreaInterval_Tlse_85[q,:],\n",
    "    name ='Moyenne 8.5 du mois %s'%Tlse_month[calcMonth[q]]\n",
    ")\n",
    "\n",
    "q = 1\n",
    "trace26_1 = go.Scatter(\n",
    "    x = Tlse_year[firstPlotYear:lastPlotYear],\n",
    "    y = moyMAreaInterval_Tlse_26[q,:],\n",
    "    name ='Moyenne 2.6 du mois %s'%Tlse_month[calcMonth[q]]\n",
    ")\n",
    "trace45_1 = go.Scatter(\n",
    "    x = Tlse_year[firstPlotYear:lastPlotYear],\n",
    "    y = moyMAreaInterval_Tlse_45[q,:],\n",
    "    name ='Moyenne 4.5 du mois %s'%Tlse_month[calcMonth[q]]\n",
    ")\n",
    "\n",
    "trace85_1 = go.Scatter(\n",
    "    x = Tlse_year[firstPlotYear:lastPlotYear],\n",
    "    y = moyMAreaInterval_Tlse_85[q,:],\n",
    "    name ='Moyenne 8.5 du mois %s'%Tlse_month[calcMonth[q]]\n",
    ")\n",
    "\n",
    "q = 2\n",
    "trace26_2 = go.Scatter(\n",
    "    x = Tlse_year[firstPlotYear:lastPlotYear],\n",
    "    y = moyMAreaInterval_Tlse_26[q,:],\n",
    "    name =\"Moyenne 2.6 de l'année\"\n",
    ")\n",
    "trace45_2 = go.Scatter(\n",
    "    x = Tlse_year[firstPlotYear:lastPlotYear],\n",
    "    y = moyMAreaInterval_Tlse_45[q,:],\n",
    "    name =\"Moyenne 4.5 de l'année\"\n",
    ")\n",
    "\n",
    "trace85_2 = go.Scatter(\n",
    "    x = Tlse_year[firstPlotYear:lastPlotYear],\n",
    "    y = moyMAreaInterval_Tlse_85[q,:],\n",
    "    name =\"Moyenne 8.5 de l'année\"\n",
    ")\n",
    "\n",
    "fig = subplots.make_subplots(rows=3, \n",
    "                          cols=1, \n",
    "                          subplot_titles=(\"<i>Mois de janvier</i>\",\"<i>Mois d'aout</i>\",\"<i>Max de l'année</i>\"))\n",
    "\n",
    "fig.append_trace(trace26_0, 1, 1)\n",
    "fig.append_trace(trace45_0, 1, 1)\n",
    "fig.append_trace(trace85_0, 1, 1)\n",
    "fig.append_trace(trace26_1, 2, 1)\n",
    "fig.append_trace(trace45_1, 2, 1)\n",
    "fig.append_trace(trace85_1, 2, 1)\n",
    "fig.append_trace(trace26_2, 3, 1)\n",
    "fig.append_trace(trace45_2, 3, 1)\n",
    "fig.append_trace(trace85_2, 3, 1)\n",
    "\n",
    "fig.update_xaxes(title_text=\"Année\", row=1, col=1)\n",
    "fig.update_xaxes(title_text=\"Année\", row=2, col=1)\n",
    "fig.update_xaxes(title_text=\"Année\", row=3, col=1)\n",
    "\n",
    "fig.update_yaxes(title_text=\"Degrés C\", row=1, col=1)\n",
    "fig.update_yaxes(title_text=\"Degrés C\", row=2, col=1)\n",
    "fig.update_yaxes(title_text=\"Degrés C\", row=3, col=1)\n",
    "\n",
    "fig['layout']['margin'] = {'l': 60, 'r': 30, 'b': 10, 't': 60}\n",
    "fig['layout'].update(autosize = False, height=1300, width=1000, title='<b>Températures maximales Toulouse moyennées sur 30 ans</b>')\n",
    "\n",
    "fig.update_layout(legend_orientation=\"h\")\n",
    "\n",
    "py.iplot(fig, filename='basic-line')"
   ]
  },
  {
   "cell_type": "markdown",
   "metadata": {},
   "source": [
    "#### Modifications et enrichissement de la figure\n",
    "Les deux blocs ci-dessous permettent d'améliorer le rendu et d'annoter la figure. Le premier produit un fichier plotly qui peut être ouvert et modifié avec l'éditeur puis sauvegardé sous un nouveau nom par le second."
   ]
  },
  {
   "cell_type": "code",
   "execution_count": 29,
   "metadata": {},
   "outputs": [],
   "source": [
    "pio.write_json(fig, 'scatter1.plotly')"
   ]
  },
  {
   "cell_type": "code",
   "execution_count": 32,
   "metadata": {},
   "outputs": [],
   "source": [
    "fig_styled = pio.read_json('scatter1.plotly', output_type='FigureWidget')\n",
    "#py.iplot(fig_styled, filename='styled-basic-line')"
   ]
  },
  {
   "cell_type": "markdown",
   "metadata": {},
   "source": [
    "#### Lyon\n",
    "Le diagramme ci-dessous  représente l'évolution sur `yearPeriod` années de la température dans la région Lyonnaise.(Décommenter la dernière ligne du bloc pour afficher la figure)"
   ]
  },
  {
   "cell_type": "code",
   "execution_count": 28,
   "metadata": {},
   "outputs": [
    {
     "data": {
      "application/vnd.plotly.v1+json": {
       "config": {
        "linkText": "Export to plot.ly",
        "plotlyServerURL": "https://plot.ly",
        "showLink": false
       },
       "data": [
        {
         "name": "Moyenne 2.6 du mois Jan",
         "type": "scatter",
         "x": [
          2036,
          2037,
          2038,
          2039,
          2040,
          2041,
          2042,
          2043,
          2044,
          2045,
          2046,
          2047,
          2048,
          2049,
          2050,
          2051,
          2052,
          2053,
          2054,
          2055,
          2056,
          2057,
          2058,
          2059,
          2060,
          2061,
          2062,
          2063,
          2064,
          2065,
          2066,
          2067,
          2068,
          2069,
          2070,
          2071,
          2072,
          2073,
          2074,
          2075,
          2076,
          2077,
          2078,
          2079,
          2080,
          2081,
          2082,
          2083,
          2084,
          2085,
          2086,
          2087,
          2088,
          2089,
          2090,
          2091,
          2092,
          2093,
          2094,
          2095,
          2096,
          2097,
          2098,
          2099
         ],
         "xaxis": "x",
         "y": [
          5.386150360107422,
          5.477141380310059,
          5.386490345001221,
          5.457263946533203,
          5.399481773376465,
          5.584441184997559,
          5.4670090675354,
          5.210026741027832,
          5.174244403839111,
          5.128688335418701,
          5.139581680297852,
          5.071315288543701,
          5.139779090881348,
          4.973639965057373,
          5.026540279388428,
          4.969625473022461,
          5.050154685974121,
          4.967684268951416,
          5.259434223175049,
          5.385748863220215,
          5.4518327713012695,
          5.411232948303223,
          5.4849982261657715,
          5.709554195404053,
          5.745382785797119,
          5.924164295196533,
          5.991814136505127,
          5.977148056030273,
          5.854031562805176,
          5.953263282775879,
          5.886383533477783,
          5.909271240234375,
          5.777011394500732,
          5.854936122894287,
          5.873520374298096,
          5.85138463973999,
          6.042550086975098,
          6.124064922332764,
          6.1565327644348145,
          6.295586109161377,
          6.282838821411133,
          6.199403285980225,
          5.928366184234619,
          6.088820934295654,
          6.062967300415039,
          6.283125400543213,
          6.406485557556152,
          6.307490348815918,
          6.199167728424072,
          6.0577239990234375,
          6.071258544921875,
          6.071818828582764,
          6.122203350067139,
          6.002092361450195,
          5.912613391876221,
          6.011442184448242,
          6.242125034332275,
          6.026217937469482,
          6.313873291015625,
          6.3342719078063965,
          6.354368209838867,
          6.240656852722168,
          6.42692232131958,
          6.534165382385254,
          0,
          0,
          0,
          0,
          0,
          0,
          0,
          0,
          0,
          0,
          0,
          0,
          0,
          0,
          0,
          0,
          0,
          0,
          0,
          0,
          0,
          0,
          0,
          0,
          0,
          0,
          0,
          0,
          0,
          0,
          0
         ],
         "yaxis": "y"
        },
        {
         "name": "Moyenne 4.5 du mois Jan",
         "type": "scatter",
         "x": [
          2036,
          2037,
          2038,
          2039,
          2040,
          2041,
          2042,
          2043,
          2044,
          2045,
          2046,
          2047,
          2048,
          2049,
          2050,
          2051,
          2052,
          2053,
          2054,
          2055,
          2056,
          2057,
          2058,
          2059,
          2060,
          2061,
          2062,
          2063,
          2064,
          2065,
          2066,
          2067,
          2068,
          2069,
          2070,
          2071,
          2072,
          2073,
          2074,
          2075,
          2076,
          2077,
          2078,
          2079,
          2080,
          2081,
          2082,
          2083,
          2084,
          2085,
          2086,
          2087,
          2088,
          2089,
          2090,
          2091,
          2092,
          2093,
          2094,
          2095,
          2096,
          2097,
          2098,
          2099
         ],
         "xaxis": "x",
         "y": [
          5.156959056854248,
          5.314727783203125,
          5.303625583648682,
          5.457091808319092,
          5.687076568603516,
          5.744417667388916,
          5.722259044647217,
          5.613696098327637,
          5.546237468719482,
          5.547213077545166,
          5.758817195892334,
          5.841792106628418,
          6.066070079803467,
          5.889604091644287,
          5.667335033416748,
          5.744497776031494,
          5.774575710296631,
          5.705568790435791,
          5.994093418121338,
          6.203968048095703,
          6.241804122924805,
          6.336745262145996,
          6.438121318817139,
          6.5016560554504395,
          6.449070930480957,
          6.327724933624268,
          6.29083776473999,
          6.36590576171875,
          6.190853595733643,
          6.0808491706848145,
          6.142042636871338,
          6.041492462158203,
          5.960211753845215,
          5.899152755737305,
          5.774215221405029,
          5.794201850891113,
          5.986278057098389,
          5.912827968597412,
          6.195918560028076,
          6.289844989776611,
          6.183889389038086,
          6.243121147155762,
          6.130618095397949,
          6.271156311035156,
          6.49639892578125,
          6.5297160148620605,
          6.771294593811035,
          6.929097652435303,
          6.845921039581299,
          6.8235321044921875,
          6.861690044403076,
          6.865421295166016,
          6.859360218048096,
          7.036868572235107,
          7.212096691131592,
          7.162751197814941,
          7.306883335113525,
          7.393199443817139,
          7.5836405754089355,
          7.839911460876465,
          7.760255813598633,
          7.7931928634643555,
          7.909626483917236,
          7.91370964050293,
          0,
          0,
          0,
          0,
          0,
          0,
          0,
          0,
          0,
          0,
          0,
          0,
          0,
          0,
          0,
          0,
          0,
          0,
          0,
          0,
          0,
          0,
          0,
          0,
          0,
          0,
          0,
          0,
          0,
          0,
          0
         ],
         "yaxis": "y"
        },
        {
         "name": "Moyenne 8.5 du mois Jan",
         "type": "scatter",
         "x": [
          2036,
          2037,
          2038,
          2039,
          2040,
          2041,
          2042,
          2043,
          2044,
          2045,
          2046,
          2047,
          2048,
          2049,
          2050,
          2051,
          2052,
          2053,
          2054,
          2055,
          2056,
          2057,
          2058,
          2059,
          2060,
          2061,
          2062,
          2063,
          2064,
          2065,
          2066,
          2067,
          2068,
          2069,
          2070,
          2071,
          2072,
          2073,
          2074,
          2075,
          2076,
          2077,
          2078,
          2079,
          2080,
          2081,
          2082,
          2083,
          2084,
          2085,
          2086,
          2087,
          2088,
          2089,
          2090,
          2091,
          2092,
          2093,
          2094,
          2095,
          2096,
          2097,
          2098,
          2099
         ],
         "xaxis": "x",
         "y": [
          5.349483489990234,
          5.525993824005127,
          5.432149410247803,
          5.27159309387207,
          5.423659801483154,
          5.416324138641357,
          5.573998928070068,
          5.56859827041626,
          5.584165573120117,
          5.8704609870910645,
          5.902963161468506,
          5.822385787963867,
          5.870139122009277,
          6.096262454986572,
          6.019598484039307,
          6.045426368713379,
          6.269654750823975,
          6.4220194816589355,
          6.331941604614258,
          6.530173301696777,
          6.642111778259277,
          6.6113457679748535,
          6.739173412322998,
          6.6435675621032715,
          6.627155303955078,
          6.620812892913818,
          6.687375545501709,
          6.7653985023498535,
          6.614580154418945,
          6.826766490936279,
          6.602166652679443,
          6.537670135498047,
          6.657573223114014,
          6.7555155754089355,
          6.732247829437256,
          6.982380390167236,
          7.005130290985107,
          7.11084508895874,
          7.132426738739014,
          7.251473903656006,
          7.244904518127441,
          7.370278835296631,
          7.544384002685547,
          7.533921718597412,
          7.547844886779785,
          7.611189842224121,
          7.6187944412231445,
          7.440418720245361,
          7.601208209991455,
          7.591518402099609,
          7.736955642700195,
          7.7758073806762695,
          7.876889705657959,
          8.134437561035156,
          8.133345603942871,
          8.089248657226562,
          8.257780075073242,
          8.407488822937012,
          8.733150482177734,
          8.596456527709961,
          8.862565994262695,
          8.864760398864746,
          8.864912033081055,
          8.99123477935791,
          0,
          0,
          0,
          0,
          0,
          0,
          0,
          0,
          0,
          0,
          0,
          0,
          0,
          0,
          0,
          0,
          0,
          0,
          0,
          0,
          0,
          0,
          0,
          0,
          0,
          0,
          0,
          0,
          0,
          0,
          0
         ],
         "yaxis": "y"
        },
        {
         "name": "Moyenne 2.6 du mois Aug",
         "type": "scatter",
         "x": [
          2036,
          2037,
          2038,
          2039,
          2040,
          2041,
          2042,
          2043,
          2044,
          2045,
          2046,
          2047,
          2048,
          2049,
          2050,
          2051,
          2052,
          2053,
          2054,
          2055,
          2056,
          2057,
          2058,
          2059,
          2060,
          2061,
          2062,
          2063,
          2064,
          2065,
          2066,
          2067,
          2068,
          2069,
          2070,
          2071,
          2072,
          2073,
          2074,
          2075,
          2076,
          2077,
          2078,
          2079,
          2080,
          2081,
          2082,
          2083,
          2084,
          2085,
          2086,
          2087,
          2088,
          2089,
          2090,
          2091,
          2092,
          2093,
          2094,
          2095,
          2096,
          2097,
          2098,
          2099
         ],
         "xaxis": "x2",
         "y": [
          27.384855270385742,
          27.321460723876953,
          27.427799224853516,
          27.247541427612305,
          27.2698917388916,
          27.257909774780273,
          27.25636863708496,
          27.499290466308594,
          27.581575393676758,
          27.426895141601562,
          27.66455078125,
          27.695655822753906,
          27.92620849609375,
          28.12418556213379,
          28.04439926147461,
          28.062711715698242,
          28.159664154052734,
          28.09786033630371,
          28.062929153442383,
          28.205575942993164,
          28.308509826660156,
          28.1845760345459,
          28.2076473236084,
          28.280576705932617,
          28.308856964111328,
          28.53936767578125,
          28.665498733520508,
          28.49744415283203,
          28.455535888671875,
          28.6578369140625,
          28.636388778686523,
          28.597640991210938,
          28.490951538085938,
          28.66102409362793,
          28.53792953491211,
          28.598676681518555,
          28.73887062072754,
          28.64805793762207,
          28.71106719970703,
          28.727201461791992,
          28.57903480529785,
          28.628896713256836,
          28.546009063720703,
          28.514259338378906,
          28.54092025756836,
          28.61151695251465,
          28.63868522644043,
          28.628658294677734,
          28.679418563842773,
          28.640010833740234,
          28.584070205688477,
          28.593873977661133,
          28.458650588989258,
          28.370037078857422,
          28.38128089904785,
          28.158958435058594,
          28.14158058166504,
          28.00099754333496,
          28.065046310424805,
          28.073965072631836,
          28.143869400024414,
          28.190040588378906,
          28.1405029296875,
          28.173818588256836,
          0,
          0,
          0,
          0,
          0,
          0,
          0,
          0,
          0,
          0,
          0,
          0,
          0,
          0,
          0,
          0,
          0,
          0,
          0,
          0,
          0,
          0,
          0,
          0,
          0,
          0,
          0,
          0,
          0,
          0,
          0
         ],
         "yaxis": "y2"
        },
        {
         "name": "Moyenne 4.5 du mois Aug",
         "type": "scatter",
         "x": [
          2036,
          2037,
          2038,
          2039,
          2040,
          2041,
          2042,
          2043,
          2044,
          2045,
          2046,
          2047,
          2048,
          2049,
          2050,
          2051,
          2052,
          2053,
          2054,
          2055,
          2056,
          2057,
          2058,
          2059,
          2060,
          2061,
          2062,
          2063,
          2064,
          2065,
          2066,
          2067,
          2068,
          2069,
          2070,
          2071,
          2072,
          2073,
          2074,
          2075,
          2076,
          2077,
          2078,
          2079,
          2080,
          2081,
          2082,
          2083,
          2084,
          2085,
          2086,
          2087,
          2088,
          2089,
          2090,
          2091,
          2092,
          2093,
          2094,
          2095,
          2096,
          2097,
          2098,
          2099
         ],
         "xaxis": "x2",
         "y": [
          28.126789093017578,
          28.163658142089844,
          27.988719940185547,
          28.190446853637695,
          28.28868293762207,
          28.31733512878418,
          28.14716148376465,
          28.37335968017578,
          28.38209342956543,
          28.326862335205078,
          28.5310115814209,
          28.573230743408203,
          28.609487533569336,
          28.586299896240234,
          28.488401412963867,
          28.5394344329834,
          28.467430114746094,
          28.43257713317871,
          28.20538902282715,
          28.139616012573242,
          28.202455520629883,
          28.066797256469727,
          28.096139907836914,
          28.119205474853516,
          28.288536071777344,
          28.321895599365234,
          28.319364547729492,
          28.466102600097656,
          28.364999771118164,
          28.07208251953125,
          28.203052520751953,
          28.18620491027832,
          28.313295364379883,
          28.32236099243164,
          28.233604431152344,
          28.15312957763672,
          28.417383193969727,
          28.491134643554688,
          28.589406967163086,
          28.649539947509766,
          28.44252586364746,
          28.514455795288086,
          28.54941177368164,
          28.75789451599121,
          28.862611770629883,
          28.905691146850586,
          29.063608169555664,
          29.174898147583008,
          29.449909210205078,
          29.510814666748047,
          29.49699592590332,
          29.80611801147461,
          29.64438819885254,
          29.663101196289062,
          29.776641845703125,
          30.036216735839844,
          30.074710845947266,
          29.918277740478516,
          29.906818389892578,
          30.077756881713867,
          29.980920791625977,
          30.13496971130371,
          30.227548599243164,
          30.07880210876465,
          0,
          0,
          0,
          0,
          0,
          0,
          0,
          0,
          0,
          0,
          0,
          0,
          0,
          0,
          0,
          0,
          0,
          0,
          0,
          0,
          0,
          0,
          0,
          0,
          0,
          0,
          0,
          0,
          0,
          0,
          0
         ],
         "yaxis": "y2"
        },
        {
         "name": "Moyenne 8.5 du mois Aug",
         "type": "scatter",
         "x": [
          2036,
          2037,
          2038,
          2039,
          2040,
          2041,
          2042,
          2043,
          2044,
          2045,
          2046,
          2047,
          2048,
          2049,
          2050,
          2051,
          2052,
          2053,
          2054,
          2055,
          2056,
          2057,
          2058,
          2059,
          2060,
          2061,
          2062,
          2063,
          2064,
          2065,
          2066,
          2067,
          2068,
          2069,
          2070,
          2071,
          2072,
          2073,
          2074,
          2075,
          2076,
          2077,
          2078,
          2079,
          2080,
          2081,
          2082,
          2083,
          2084,
          2085,
          2086,
          2087,
          2088,
          2089,
          2090,
          2091,
          2092,
          2093,
          2094,
          2095,
          2096,
          2097,
          2098,
          2099
         ],
         "xaxis": "x2",
         "y": [
          28.039276123046875,
          27.942678451538086,
          27.85481834411621,
          27.760025024414062,
          27.59317970275879,
          27.726266860961914,
          27.808568954467773,
          27.955982208251953,
          28.01974868774414,
          28.048980712890625,
          28.174423217773438,
          28.25444221496582,
          28.401569366455078,
          28.206573486328125,
          28.25861167907715,
          28.316967010498047,
          28.38560676574707,
          28.375436782836914,
          28.507078170776367,
          28.588050842285156,
          28.832408905029297,
          28.99321937561035,
          29.15157699584961,
          29.244165420532227,
          29.213844299316406,
          29.368459701538086,
          29.469213485717773,
          29.466230392456055,
          29.519527435302734,
          29.690763473510742,
          29.71582794189453,
          29.873781204223633,
          29.937406539916992,
          30.137264251708984,
          30.323087692260742,
          30.401689529418945,
          30.437774658203125,
          30.33989143371582,
          30.450632095336914,
          30.455066680908203,
          30.512775421142578,
          30.659982681274414,
          30.918170928955078,
          31.17718505859375,
          31.41541862487793,
          31.451736450195312,
          31.574291229248047,
          31.728620529174805,
          31.739105224609375,
          31.858518600463867,
          31.88136863708496,
          31.866085052490234,
          31.98575210571289,
          32.11540603637695,
          32.36125946044922,
          32.46454620361328,
          32.588966369628906,
          32.7453727722168,
          32.73710632324219,
          32.74100875854492,
          32.78633499145508,
          32.92420196533203,
          33.13469696044922,
          33.3118896484375,
          0,
          0,
          0,
          0,
          0,
          0,
          0,
          0,
          0,
          0,
          0,
          0,
          0,
          0,
          0,
          0,
          0,
          0,
          0,
          0,
          0,
          0,
          0,
          0,
          0,
          0,
          0,
          0,
          0,
          0,
          0
         ],
         "yaxis": "y2"
        },
        {
         "name": "Moyenne 2.6 de l'année",
         "type": "scatter",
         "x": [
          2036,
          2037,
          2038,
          2039,
          2040,
          2041,
          2042,
          2043,
          2044,
          2045,
          2046,
          2047,
          2048,
          2049,
          2050,
          2051,
          2052,
          2053,
          2054,
          2055,
          2056,
          2057,
          2058,
          2059,
          2060,
          2061,
          2062,
          2063,
          2064,
          2065,
          2066,
          2067,
          2068,
          2069,
          2070,
          2071,
          2072,
          2073,
          2074,
          2075,
          2076,
          2077,
          2078,
          2079,
          2080,
          2081,
          2082,
          2083,
          2084,
          2085,
          2086,
          2087,
          2088,
          2089,
          2090,
          2091,
          2092,
          2093,
          2094,
          2095,
          2096,
          2097,
          2098,
          2099
         ],
         "xaxis": "x3",
         "y": [
          27.802431106567383,
          27.73903465270996,
          27.845373153686523,
          27.697978973388672,
          27.72032928466797,
          27.737773895263672,
          27.79375457763672,
          28.03271484375,
          28.03128433227539,
          27.876604080200195,
          28.114259719848633,
          28.094289779663086,
          28.312931060791016,
          28.510963439941406,
          28.431175231933594,
          28.449487686157227,
          28.56511688232422,
          28.504030227661133,
          28.469099044799805,
          28.637399673461914,
          28.740339279174805,
          28.549884796142578,
          28.572952270507812,
          28.645885467529297,
          28.674165725708008,
          28.94940185546875,
          29.075531005859375,
          28.990076065063477,
          29.018875122070312,
          29.221176147460938,
          29.097978591918945,
          29.128259658813477,
          29.031028747558594,
          29.181623458862305,
          29.15438461303711,
          29.18570327758789,
          29.26837730407715,
          29.26994514465332,
          29.33295440673828,
          29.349084854125977,
          29.212257385253906,
          29.274065017700195,
          29.192045211791992,
          29.160242080688477,
          29.186901092529297,
          29.286813735961914,
          29.295307159423828,
          29.28455924987793,
          29.33531951904297,
          29.30292510986328,
          29.24698257446289,
          29.262672424316406,
          29.29679298400879,
          29.208179473876953,
          29.21942710876465,
          28.952377319335938,
          28.935001373291016,
          28.77858543395996,
          28.771677017211914,
          28.780595779418945,
          28.810014724731445,
          28.78715705871582,
          28.812625885009766,
          28.846811294555664,
          0,
          0,
          0,
          0,
          0,
          0,
          0,
          0,
          0,
          0,
          0,
          0,
          0,
          0,
          0,
          0,
          0,
          0,
          0,
          0,
          0,
          0,
          0,
          0,
          0,
          0,
          0,
          0,
          0,
          0,
          0
         ],
         "yaxis": "y3"
        },
        {
         "name": "Moyenne 4.5 de l'année",
         "type": "scatter",
         "x": [
          2036,
          2037,
          2038,
          2039,
          2040,
          2041,
          2042,
          2043,
          2044,
          2045,
          2046,
          2047,
          2048,
          2049,
          2050,
          2051,
          2052,
          2053,
          2054,
          2055,
          2056,
          2057,
          2058,
          2059,
          2060,
          2061,
          2062,
          2063,
          2064,
          2065,
          2066,
          2067,
          2068,
          2069,
          2070,
          2071,
          2072,
          2073,
          2074,
          2075,
          2076,
          2077,
          2078,
          2079,
          2080,
          2081,
          2082,
          2083,
          2084,
          2085,
          2086,
          2087,
          2088,
          2089,
          2090,
          2091,
          2092,
          2093,
          2094,
          2095,
          2096,
          2097,
          2098,
          2099
         ],
         "xaxis": "x3",
         "y": [
          28.56392478942871,
          28.610149383544922,
          28.435211181640625,
          28.636938095092773,
          28.81402587890625,
          28.862476348876953,
          28.695648193359375,
          29.051395416259766,
          29.060131072998047,
          28.88682746887207,
          29.063034057617188,
          29.105253219604492,
          29.141510009765625,
          29.09434700012207,
          28.961973190307617,
          28.9991512298584,
          28.927146911621094,
          28.892295837402344,
          28.70821189880371,
          28.642436981201172,
          28.696882247924805,
          28.760160446166992,
          28.789499282836914,
          28.971323013305664,
          29.012069702148438,
          29.04543113708496,
          29.04290199279785,
          29.189640045166016,
          29.08853530883789,
          28.880231857299805,
          29.060503005981445,
          29.122587203979492,
          29.24967384338379,
          29.258739471435547,
          29.091135025024414,
          28.990863800048828,
          29.231027603149414,
          29.11810302734375,
          29.21637725830078,
          29.276508331298828,
          29.294084548950195,
          29.366018295288086,
          29.412485122680664,
          29.620969772338867,
          29.725685119628906,
          29.76876449584961,
          29.929441452026367,
          30.040729522705078,
          30.27263832092285,
          30.39896583557129,
          30.44822120666504,
          30.55840492248535,
          30.396677017211914,
          30.25663185119629,
          30.370174407958984,
          30.62975311279297,
          30.66824722290039,
          30.554698944091797,
          30.581546783447266,
          30.772029876708984,
          30.689937591552734,
          30.82952880859375,
          30.92945671081543,
          30.929885864257812,
          0,
          0,
          0,
          0,
          0,
          0,
          0,
          0,
          0,
          0,
          0,
          0,
          0,
          0,
          0,
          0,
          0,
          0,
          0,
          0,
          0,
          0,
          0,
          0,
          0,
          0,
          0,
          0,
          0,
          0,
          0
         ],
         "yaxis": "y3"
        },
        {
         "name": "Moyenne 8.5 de l'année",
         "type": "scatter",
         "x": [
          2036,
          2037,
          2038,
          2039,
          2040,
          2041,
          2042,
          2043,
          2044,
          2045,
          2046,
          2047,
          2048,
          2049,
          2050,
          2051,
          2052,
          2053,
          2054,
          2055,
          2056,
          2057,
          2058,
          2059,
          2060,
          2061,
          2062,
          2063,
          2064,
          2065,
          2066,
          2067,
          2068,
          2069,
          2070,
          2071,
          2072,
          2073,
          2074,
          2075,
          2076,
          2077,
          2078,
          2079,
          2080,
          2081,
          2082,
          2083,
          2084,
          2085,
          2086,
          2087,
          2088,
          2089,
          2090,
          2091,
          2092,
          2093,
          2094,
          2095,
          2096,
          2097,
          2098,
          2099
         ],
         "xaxis": "x3",
         "y": [
          28.398033142089844,
          28.31039047241211,
          28.268098831176758,
          28.17330551147461,
          28.00149917602539,
          28.134584426879883,
          28.21688461303711,
          28.364301681518555,
          28.37948226928711,
          28.408716201782227,
          28.490962982177734,
          28.570981979370117,
          28.647933959960938,
          28.550350189208984,
          28.60238265991211,
          28.660741806030273,
          28.748586654663086,
          28.73841667175293,
          28.870054244995117,
          28.951030731201172,
          29.13491439819336,
          29.294044494628906,
          29.428133010864258,
          29.52071762084961,
          29.48415184020996,
          29.656991958618164,
          29.75774383544922,
          29.848365783691406,
          29.941055297851562,
          30.11229133605957,
          30.057491302490234,
          30.206491470336914,
          30.23000717163086,
          30.429868698120117,
          30.615690231323242,
          30.694292068481445,
          30.751073837280273,
          30.65319061279297,
          30.752029418945312,
          30.84468650817871,
          30.902395248413086,
          31.049602508544922,
          31.30778694152832,
          31.5010929107666,
          31.739330291748047,
          31.775644302368164,
          31.881004333496094,
          32.06195831298828,
          32.07244110107422,
          32.19185256958008,
          32.229183197021484,
          32.21053695678711,
          32.33020782470703,
          32.45985794067383,
          32.70571517944336,
          32.795345306396484,
          32.91976547241211,
          32.98257064819336,
          32.934913635253906,
          32.988094329833984,
          33.10615158081055,
          33.30543899536133,
          33.51047897338867,
          33.6885986328125,
          0,
          0,
          0,
          0,
          0,
          0,
          0,
          0,
          0,
          0,
          0,
          0,
          0,
          0,
          0,
          0,
          0,
          0,
          0,
          0,
          0,
          0,
          0,
          0,
          0,
          0,
          0,
          0,
          0,
          0,
          0
         ],
         "yaxis": "y3"
        }
       ],
       "layout": {
        "annotations": [
         {
          "font": {
           "size": 16
          },
          "showarrow": false,
          "text": "<i>Mois de janvier</i>",
          "x": 0.5,
          "xanchor": "center",
          "xref": "paper",
          "y": 1,
          "yanchor": "bottom",
          "yref": "paper"
         },
         {
          "font": {
           "size": 16
          },
          "showarrow": false,
          "text": "<i>Mois d'aout</i>",
          "x": 0.5,
          "xanchor": "center",
          "xref": "paper",
          "y": 0.6111111111111112,
          "yanchor": "bottom",
          "yref": "paper"
         },
         {
          "font": {
           "size": 16
          },
          "showarrow": false,
          "text": "<i>Max de l'année</i>",
          "x": 0.5,
          "xanchor": "center",
          "xref": "paper",
          "y": 0.22222222222222224,
          "yanchor": "bottom",
          "yref": "paper"
         }
        ],
        "autosize": false,
        "height": 1200,
        "legend": {
         "orientation": "h"
        },
        "margin": {
         "b": 50,
         "l": 60,
         "r": 30,
         "t": 50
        },
        "template": {
         "data": {
          "bar": [
           {
            "error_x": {
             "color": "#2a3f5f"
            },
            "error_y": {
             "color": "#2a3f5f"
            },
            "marker": {
             "line": {
              "color": "#E5ECF6",
              "width": 0.5
             }
            },
            "type": "bar"
           }
          ],
          "barpolar": [
           {
            "marker": {
             "line": {
              "color": "#E5ECF6",
              "width": 0.5
             }
            },
            "type": "barpolar"
           }
          ],
          "carpet": [
           {
            "aaxis": {
             "endlinecolor": "#2a3f5f",
             "gridcolor": "white",
             "linecolor": "white",
             "minorgridcolor": "white",
             "startlinecolor": "#2a3f5f"
            },
            "baxis": {
             "endlinecolor": "#2a3f5f",
             "gridcolor": "white",
             "linecolor": "white",
             "minorgridcolor": "white",
             "startlinecolor": "#2a3f5f"
            },
            "type": "carpet"
           }
          ],
          "choropleth": [
           {
            "colorbar": {
             "outlinewidth": 0,
             "ticks": ""
            },
            "type": "choropleth"
           }
          ],
          "contour": [
           {
            "colorbar": {
             "outlinewidth": 0,
             "ticks": ""
            },
            "colorscale": [
             [
              0,
              "#0d0887"
             ],
             [
              0.1111111111111111,
              "#46039f"
             ],
             [
              0.2222222222222222,
              "#7201a8"
             ],
             [
              0.3333333333333333,
              "#9c179e"
             ],
             [
              0.4444444444444444,
              "#bd3786"
             ],
             [
              0.5555555555555556,
              "#d8576b"
             ],
             [
              0.6666666666666666,
              "#ed7953"
             ],
             [
              0.7777777777777778,
              "#fb9f3a"
             ],
             [
              0.8888888888888888,
              "#fdca26"
             ],
             [
              1,
              "#f0f921"
             ]
            ],
            "type": "contour"
           }
          ],
          "contourcarpet": [
           {
            "colorbar": {
             "outlinewidth": 0,
             "ticks": ""
            },
            "type": "contourcarpet"
           }
          ],
          "heatmap": [
           {
            "colorbar": {
             "outlinewidth": 0,
             "ticks": ""
            },
            "colorscale": [
             [
              0,
              "#0d0887"
             ],
             [
              0.1111111111111111,
              "#46039f"
             ],
             [
              0.2222222222222222,
              "#7201a8"
             ],
             [
              0.3333333333333333,
              "#9c179e"
             ],
             [
              0.4444444444444444,
              "#bd3786"
             ],
             [
              0.5555555555555556,
              "#d8576b"
             ],
             [
              0.6666666666666666,
              "#ed7953"
             ],
             [
              0.7777777777777778,
              "#fb9f3a"
             ],
             [
              0.8888888888888888,
              "#fdca26"
             ],
             [
              1,
              "#f0f921"
             ]
            ],
            "type": "heatmap"
           }
          ],
          "heatmapgl": [
           {
            "colorbar": {
             "outlinewidth": 0,
             "ticks": ""
            },
            "colorscale": [
             [
              0,
              "#0d0887"
             ],
             [
              0.1111111111111111,
              "#46039f"
             ],
             [
              0.2222222222222222,
              "#7201a8"
             ],
             [
              0.3333333333333333,
              "#9c179e"
             ],
             [
              0.4444444444444444,
              "#bd3786"
             ],
             [
              0.5555555555555556,
              "#d8576b"
             ],
             [
              0.6666666666666666,
              "#ed7953"
             ],
             [
              0.7777777777777778,
              "#fb9f3a"
             ],
             [
              0.8888888888888888,
              "#fdca26"
             ],
             [
              1,
              "#f0f921"
             ]
            ],
            "type": "heatmapgl"
           }
          ],
          "histogram": [
           {
            "marker": {
             "colorbar": {
              "outlinewidth": 0,
              "ticks": ""
             }
            },
            "type": "histogram"
           }
          ],
          "histogram2d": [
           {
            "colorbar": {
             "outlinewidth": 0,
             "ticks": ""
            },
            "colorscale": [
             [
              0,
              "#0d0887"
             ],
             [
              0.1111111111111111,
              "#46039f"
             ],
             [
              0.2222222222222222,
              "#7201a8"
             ],
             [
              0.3333333333333333,
              "#9c179e"
             ],
             [
              0.4444444444444444,
              "#bd3786"
             ],
             [
              0.5555555555555556,
              "#d8576b"
             ],
             [
              0.6666666666666666,
              "#ed7953"
             ],
             [
              0.7777777777777778,
              "#fb9f3a"
             ],
             [
              0.8888888888888888,
              "#fdca26"
             ],
             [
              1,
              "#f0f921"
             ]
            ],
            "type": "histogram2d"
           }
          ],
          "histogram2dcontour": [
           {
            "colorbar": {
             "outlinewidth": 0,
             "ticks": ""
            },
            "colorscale": [
             [
              0,
              "#0d0887"
             ],
             [
              0.1111111111111111,
              "#46039f"
             ],
             [
              0.2222222222222222,
              "#7201a8"
             ],
             [
              0.3333333333333333,
              "#9c179e"
             ],
             [
              0.4444444444444444,
              "#bd3786"
             ],
             [
              0.5555555555555556,
              "#d8576b"
             ],
             [
              0.6666666666666666,
              "#ed7953"
             ],
             [
              0.7777777777777778,
              "#fb9f3a"
             ],
             [
              0.8888888888888888,
              "#fdca26"
             ],
             [
              1,
              "#f0f921"
             ]
            ],
            "type": "histogram2dcontour"
           }
          ],
          "mesh3d": [
           {
            "colorbar": {
             "outlinewidth": 0,
             "ticks": ""
            },
            "type": "mesh3d"
           }
          ],
          "parcoords": [
           {
            "line": {
             "colorbar": {
              "outlinewidth": 0,
              "ticks": ""
             }
            },
            "type": "parcoords"
           }
          ],
          "scatter": [
           {
            "marker": {
             "colorbar": {
              "outlinewidth": 0,
              "ticks": ""
             }
            },
            "type": "scatter"
           }
          ],
          "scatter3d": [
           {
            "line": {
             "colorbar": {
              "outlinewidth": 0,
              "ticks": ""
             }
            },
            "marker": {
             "colorbar": {
              "outlinewidth": 0,
              "ticks": ""
             }
            },
            "type": "scatter3d"
           }
          ],
          "scattercarpet": [
           {
            "marker": {
             "colorbar": {
              "outlinewidth": 0,
              "ticks": ""
             }
            },
            "type": "scattercarpet"
           }
          ],
          "scattergeo": [
           {
            "marker": {
             "colorbar": {
              "outlinewidth": 0,
              "ticks": ""
             }
            },
            "type": "scattergeo"
           }
          ],
          "scattergl": [
           {
            "marker": {
             "colorbar": {
              "outlinewidth": 0,
              "ticks": ""
             }
            },
            "type": "scattergl"
           }
          ],
          "scattermapbox": [
           {
            "marker": {
             "colorbar": {
              "outlinewidth": 0,
              "ticks": ""
             }
            },
            "type": "scattermapbox"
           }
          ],
          "scatterpolar": [
           {
            "marker": {
             "colorbar": {
              "outlinewidth": 0,
              "ticks": ""
             }
            },
            "type": "scatterpolar"
           }
          ],
          "scatterpolargl": [
           {
            "marker": {
             "colorbar": {
              "outlinewidth": 0,
              "ticks": ""
             }
            },
            "type": "scatterpolargl"
           }
          ],
          "scatterternary": [
           {
            "marker": {
             "colorbar": {
              "outlinewidth": 0,
              "ticks": ""
             }
            },
            "type": "scatterternary"
           }
          ],
          "surface": [
           {
            "colorbar": {
             "outlinewidth": 0,
             "ticks": ""
            },
            "colorscale": [
             [
              0,
              "#0d0887"
             ],
             [
              0.1111111111111111,
              "#46039f"
             ],
             [
              0.2222222222222222,
              "#7201a8"
             ],
             [
              0.3333333333333333,
              "#9c179e"
             ],
             [
              0.4444444444444444,
              "#bd3786"
             ],
             [
              0.5555555555555556,
              "#d8576b"
             ],
             [
              0.6666666666666666,
              "#ed7953"
             ],
             [
              0.7777777777777778,
              "#fb9f3a"
             ],
             [
              0.8888888888888888,
              "#fdca26"
             ],
             [
              1,
              "#f0f921"
             ]
            ],
            "type": "surface"
           }
          ],
          "table": [
           {
            "cells": {
             "fill": {
              "color": "#EBF0F8"
             },
             "line": {
              "color": "white"
             }
            },
            "header": {
             "fill": {
              "color": "#C8D4E3"
             },
             "line": {
              "color": "white"
             }
            },
            "type": "table"
           }
          ]
         },
         "layout": {
          "annotationdefaults": {
           "arrowcolor": "#2a3f5f",
           "arrowhead": 0,
           "arrowwidth": 1
          },
          "colorscale": {
           "diverging": [
            [
             0,
             "#8e0152"
            ],
            [
             0.1,
             "#c51b7d"
            ],
            [
             0.2,
             "#de77ae"
            ],
            [
             0.3,
             "#f1b6da"
            ],
            [
             0.4,
             "#fde0ef"
            ],
            [
             0.5,
             "#f7f7f7"
            ],
            [
             0.6,
             "#e6f5d0"
            ],
            [
             0.7,
             "#b8e186"
            ],
            [
             0.8,
             "#7fbc41"
            ],
            [
             0.9,
             "#4d9221"
            ],
            [
             1,
             "#276419"
            ]
           ],
           "sequential": [
            [
             0,
             "#0d0887"
            ],
            [
             0.1111111111111111,
             "#46039f"
            ],
            [
             0.2222222222222222,
             "#7201a8"
            ],
            [
             0.3333333333333333,
             "#9c179e"
            ],
            [
             0.4444444444444444,
             "#bd3786"
            ],
            [
             0.5555555555555556,
             "#d8576b"
            ],
            [
             0.6666666666666666,
             "#ed7953"
            ],
            [
             0.7777777777777778,
             "#fb9f3a"
            ],
            [
             0.8888888888888888,
             "#fdca26"
            ],
            [
             1,
             "#f0f921"
            ]
           ],
           "sequentialminus": [
            [
             0,
             "#0d0887"
            ],
            [
             0.1111111111111111,
             "#46039f"
            ],
            [
             0.2222222222222222,
             "#7201a8"
            ],
            [
             0.3333333333333333,
             "#9c179e"
            ],
            [
             0.4444444444444444,
             "#bd3786"
            ],
            [
             0.5555555555555556,
             "#d8576b"
            ],
            [
             0.6666666666666666,
             "#ed7953"
            ],
            [
             0.7777777777777778,
             "#fb9f3a"
            ],
            [
             0.8888888888888888,
             "#fdca26"
            ],
            [
             1,
             "#f0f921"
            ]
           ]
          },
          "colorway": [
           "#636efa",
           "#EF553B",
           "#00cc96",
           "#ab63fa",
           "#FFA15A",
           "#19d3f3",
           "#FF6692",
           "#B6E880",
           "#FF97FF",
           "#FECB52"
          ],
          "font": {
           "color": "#2a3f5f"
          },
          "geo": {
           "bgcolor": "white",
           "lakecolor": "white",
           "landcolor": "#E5ECF6",
           "showlakes": true,
           "showland": true,
           "subunitcolor": "white"
          },
          "hoverlabel": {
           "align": "left"
          },
          "hovermode": "closest",
          "mapbox": {
           "style": "light"
          },
          "paper_bgcolor": "white",
          "plot_bgcolor": "#E5ECF6",
          "polar": {
           "angularaxis": {
            "gridcolor": "white",
            "linecolor": "white",
            "ticks": ""
           },
           "bgcolor": "#E5ECF6",
           "radialaxis": {
            "gridcolor": "white",
            "linecolor": "white",
            "ticks": ""
           }
          },
          "scene": {
           "xaxis": {
            "backgroundcolor": "#E5ECF6",
            "gridcolor": "white",
            "gridwidth": 2,
            "linecolor": "white",
            "showbackground": true,
            "ticks": "",
            "zerolinecolor": "white"
           },
           "yaxis": {
            "backgroundcolor": "#E5ECF6",
            "gridcolor": "white",
            "gridwidth": 2,
            "linecolor": "white",
            "showbackground": true,
            "ticks": "",
            "zerolinecolor": "white"
           },
           "zaxis": {
            "backgroundcolor": "#E5ECF6",
            "gridcolor": "white",
            "gridwidth": 2,
            "linecolor": "white",
            "showbackground": true,
            "ticks": "",
            "zerolinecolor": "white"
           }
          },
          "shapedefaults": {
           "line": {
            "color": "#2a3f5f"
           }
          },
          "ternary": {
           "aaxis": {
            "gridcolor": "white",
            "linecolor": "white",
            "ticks": ""
           },
           "baxis": {
            "gridcolor": "white",
            "linecolor": "white",
            "ticks": ""
           },
           "bgcolor": "#E5ECF6",
           "caxis": {
            "gridcolor": "white",
            "linecolor": "white",
            "ticks": ""
           }
          },
          "title": {
           "x": 0.05
          },
          "xaxis": {
           "automargin": true,
           "gridcolor": "white",
           "linecolor": "white",
           "ticks": "",
           "zerolinecolor": "white",
           "zerolinewidth": 2
          },
          "yaxis": {
           "automargin": true,
           "gridcolor": "white",
           "linecolor": "white",
           "ticks": "",
           "zerolinecolor": "white",
           "zerolinewidth": 2
          }
         }
        },
        "title": {
         "text": "<b>Températures maximales Lyon moyennées sur 30 ans</b>"
        },
        "width": 900,
        "xaxis": {
         "anchor": "y",
         "autorange": true,
         "domain": [
          0,
          1
         ],
         "range": [
          2036,
          2099
         ],
         "title": {
          "text": "Année"
         },
         "type": "linear"
        },
        "xaxis2": {
         "anchor": "y2",
         "autorange": true,
         "domain": [
          0,
          1
         ],
         "range": [
          2036,
          2099
         ],
         "title": {
          "text": "Année"
         },
         "type": "linear"
        },
        "xaxis3": {
         "anchor": "y3",
         "autorange": true,
         "domain": [
          0,
          1
         ],
         "range": [
          2036,
          2099
         ],
         "title": {
          "text": "Année"
         },
         "type": "linear"
        },
        "yaxis": {
         "anchor": "x",
         "autorange": true,
         "domain": [
          0.7777777777777778,
          1
         ],
         "range": [
          4.744153685039944,
          9.214765363269382
         ],
         "title": {
          "text": "Degrés C"
         },
         "type": "linear"
        },
        "yaxis2": {
         "anchor": "x2",
         "autorange": true,
         "domain": [
          0.3888888888888889,
          0.6111111111111112
         ],
         "range": [
          26.910633193122017,
          33.64879788292779
         ],
         "title": {
          "text": "Degrés C"
         },
         "type": "linear"
        },
        "yaxis3": {
         "anchor": "x3",
         "autorange": true,
         "domain": [
          0,
          0.22222222222222224
         ],
         "range": [
          27.36516677008735,
          34.02141083611382
         ],
         "title": {
          "text": "Degrés C"
         },
         "type": "linear"
        }
       }
      },
      "image/png": "[encoded data removed]",
      "text/html": [
       "<div>\n",
       "        \n",
       "        \n",
       "            <div id=\"7b732871-deb5-4775-afb6-d586e8ba9a61\" class=\"plotly-graph-div\" style=\"height:1200px; width:900px;\"></div>\n",
       "            <script type=\"text/javascript\">\n",
       "                require([\"plotly\"], function(Plotly) {\n",
       "                    window.PLOTLYENV=window.PLOTLYENV || {};\n",
       "                    \n",
       "                if (document.getElementById(\"7b732871-deb5-4775-afb6-d586e8ba9a61\")) {\n",
       "                    Plotly.newPlot(\n",
       "                        '7b732871-deb5-4775-afb6-d586e8ba9a61',\n",
       "                        [{\"name\": \"Moyenne 2.6 du mois Jan\", \"type\": \"scatter\", \"x\": [2036, 2037, 2038, 2039, 2040, 2041, 2042, 2043, 2044, 2045, 2046, 2047, 2048, 2049, 2050, 2051, 2052, 2053, 2054, 2055, 2056, 2057, 2058, 2059, 2060, 2061, 2062, 2063, 2064, 2065, 2066, 2067, 2068, 2069, 2070, 2071, 2072, 2073, 2074, 2075, 2076, 2077, 2078, 2079, 2080, 2081, 2082, 2083, 2084, 2085, 2086, 2087, 2088, 2089, 2090, 2091, 2092, 2093, 2094, 2095, 2096, 2097, 2098, 2099], \"xaxis\": \"x\", \"y\": [5.386150360107422, 5.477141380310059, 5.386490345001221, 5.457263946533203, 5.399481773376465, 5.584441184997559, 5.4670090675354, 5.210026741027832, 5.174244403839111, 5.128688335418701, 5.139581680297852, 5.071315288543701, 5.139779090881348, 4.973639965057373, 5.026540279388428, 4.969625473022461, 5.050154685974121, 4.967684268951416, 5.259434223175049, 5.385748863220215, 5.4518327713012695, 5.411232948303223, 5.4849982261657715, 5.709554195404053, 5.745382785797119, 5.924164295196533, 5.991814136505127, 5.977148056030273, 5.854031562805176, 5.953263282775879, 5.886383533477783, 5.909271240234375, 5.777011394500732, 5.854936122894287, 5.873520374298096, 5.85138463973999, 6.042550086975098, 6.124064922332764, 6.1565327644348145, 6.295586109161377, 6.282838821411133, 6.199403285980225, 5.928366184234619, 6.088820934295654, 6.062967300415039, 6.283125400543213, 6.406485557556152, 6.307490348815918, 6.199167728424072, 6.0577239990234375, 6.071258544921875, 6.071818828582764, 6.122203350067139, 6.002092361450195, 5.912613391876221, 6.011442184448242, 6.242125034332275, 6.026217937469482, 6.313873291015625, 6.3342719078063965, 6.354368209838867, 6.240656852722168, 6.42692232131958, 6.534165382385254, 0.0, 0.0, 0.0, 0.0, 0.0, 0.0, 0.0, 0.0, 0.0, 0.0, 0.0, 0.0, 0.0, 0.0, 0.0, 0.0, 0.0, 0.0, 0.0, 0.0, 0.0, 0.0, 0.0, 0.0, 0.0, 0.0, 0.0, 0.0, 0.0, 0.0, 0.0], \"yaxis\": \"y\"}, {\"name\": \"Moyenne 4.5 du mois Jan\", \"type\": \"scatter\", \"x\": [2036, 2037, 2038, 2039, 2040, 2041, 2042, 2043, 2044, 2045, 2046, 2047, 2048, 2049, 2050, 2051, 2052, 2053, 2054, 2055, 2056, 2057, 2058, 2059, 2060, 2061, 2062, 2063, 2064, 2065, 2066, 2067, 2068, 2069, 2070, 2071, 2072, 2073, 2074, 2075, 2076, 2077, 2078, 2079, 2080, 2081, 2082, 2083, 2084, 2085, 2086, 2087, 2088, 2089, 2090, 2091, 2092, 2093, 2094, 2095, 2096, 2097, 2098, 2099], \"xaxis\": \"x\", \"y\": [5.156959056854248, 5.314727783203125, 5.303625583648682, 5.457091808319092, 5.687076568603516, 5.744417667388916, 5.722259044647217, 5.613696098327637, 5.546237468719482, 5.547213077545166, 5.758817195892334, 5.841792106628418, 6.066070079803467, 5.889604091644287, 5.667335033416748, 5.744497776031494, 5.774575710296631, 5.705568790435791, 5.994093418121338, 6.203968048095703, 6.241804122924805, 6.336745262145996, 6.438121318817139, 6.5016560554504395, 6.449070930480957, 6.327724933624268, 6.29083776473999, 6.36590576171875, 6.190853595733643, 6.0808491706848145, 6.142042636871338, 6.041492462158203, 5.960211753845215, 5.899152755737305, 5.774215221405029, 5.794201850891113, 5.986278057098389, 5.912827968597412, 6.195918560028076, 6.289844989776611, 6.183889389038086, 6.243121147155762, 6.130618095397949, 6.271156311035156, 6.49639892578125, 6.5297160148620605, 6.771294593811035, 6.929097652435303, 6.845921039581299, 6.8235321044921875, 6.861690044403076, 6.865421295166016, 6.859360218048096, 7.036868572235107, 7.212096691131592, 7.162751197814941, 7.306883335113525, 7.393199443817139, 7.5836405754089355, 7.839911460876465, 7.760255813598633, 7.7931928634643555, 7.909626483917236, 7.91370964050293, 0.0, 0.0, 0.0, 0.0, 0.0, 0.0, 0.0, 0.0, 0.0, 0.0, 0.0, 0.0, 0.0, 0.0, 0.0, 0.0, 0.0, 0.0, 0.0, 0.0, 0.0, 0.0, 0.0, 0.0, 0.0, 0.0, 0.0, 0.0, 0.0, 0.0, 0.0], \"yaxis\": \"y\"}, {\"name\": \"Moyenne 8.5 du mois Jan\", \"type\": \"scatter\", \"x\": [2036, 2037, 2038, 2039, 2040, 2041, 2042, 2043, 2044, 2045, 2046, 2047, 2048, 2049, 2050, 2051, 2052, 2053, 2054, 2055, 2056, 2057, 2058, 2059, 2060, 2061, 2062, 2063, 2064, 2065, 2066, 2067, 2068, 2069, 2070, 2071, 2072, 2073, 2074, 2075, 2076, 2077, 2078, 2079, 2080, 2081, 2082, 2083, 2084, 2085, 2086, 2087, 2088, 2089, 2090, 2091, 2092, 2093, 2094, 2095, 2096, 2097, 2098, 2099], \"xaxis\": \"x\", \"y\": [5.349483489990234, 5.525993824005127, 5.432149410247803, 5.27159309387207, 5.423659801483154, 5.416324138641357, 5.573998928070068, 5.56859827041626, 5.584165573120117, 5.8704609870910645, 5.902963161468506, 5.822385787963867, 5.870139122009277, 6.096262454986572, 6.019598484039307, 6.045426368713379, 6.269654750823975, 6.4220194816589355, 6.331941604614258, 6.530173301696777, 6.642111778259277, 6.6113457679748535, 6.739173412322998, 6.6435675621032715, 6.627155303955078, 6.620812892913818, 6.687375545501709, 6.7653985023498535, 6.614580154418945, 6.826766490936279, 6.602166652679443, 6.537670135498047, 6.657573223114014, 6.7555155754089355, 6.732247829437256, 6.982380390167236, 7.005130290985107, 7.11084508895874, 7.132426738739014, 7.251473903656006, 7.244904518127441, 7.370278835296631, 7.544384002685547, 7.533921718597412, 7.547844886779785, 7.611189842224121, 7.6187944412231445, 7.440418720245361, 7.601208209991455, 7.591518402099609, 7.736955642700195, 7.7758073806762695, 7.876889705657959, 8.134437561035156, 8.133345603942871, 8.089248657226562, 8.257780075073242, 8.407488822937012, 8.733150482177734, 8.596456527709961, 8.862565994262695, 8.864760398864746, 8.864912033081055, 8.99123477935791, 0.0, 0.0, 0.0, 0.0, 0.0, 0.0, 0.0, 0.0, 0.0, 0.0, 0.0, 0.0, 0.0, 0.0, 0.0, 0.0, 0.0, 0.0, 0.0, 0.0, 0.0, 0.0, 0.0, 0.0, 0.0, 0.0, 0.0, 0.0, 0.0, 0.0, 0.0], \"yaxis\": \"y\"}, {\"name\": \"Moyenne 2.6 du mois Aug\", \"type\": \"scatter\", \"x\": [2036, 2037, 2038, 2039, 2040, 2041, 2042, 2043, 2044, 2045, 2046, 2047, 2048, 2049, 2050, 2051, 2052, 2053, 2054, 2055, 2056, 2057, 2058, 2059, 2060, 2061, 2062, 2063, 2064, 2065, 2066, 2067, 2068, 2069, 2070, 2071, 2072, 2073, 2074, 2075, 2076, 2077, 2078, 2079, 2080, 2081, 2082, 2083, 2084, 2085, 2086, 2087, 2088, 2089, 2090, 2091, 2092, 2093, 2094, 2095, 2096, 2097, 2098, 2099], \"xaxis\": \"x2\", \"y\": [27.384855270385742, 27.321460723876953, 27.427799224853516, 27.247541427612305, 27.2698917388916, 27.257909774780273, 27.25636863708496, 27.499290466308594, 27.581575393676758, 27.426895141601562, 27.66455078125, 27.695655822753906, 27.92620849609375, 28.12418556213379, 28.04439926147461, 28.062711715698242, 28.159664154052734, 28.09786033630371, 28.062929153442383, 28.205575942993164, 28.308509826660156, 28.1845760345459, 28.2076473236084, 28.280576705932617, 28.308856964111328, 28.53936767578125, 28.665498733520508, 28.49744415283203, 28.455535888671875, 28.6578369140625, 28.636388778686523, 28.597640991210938, 28.490951538085938, 28.66102409362793, 28.53792953491211, 28.598676681518555, 28.73887062072754, 28.64805793762207, 28.71106719970703, 28.727201461791992, 28.57903480529785, 28.628896713256836, 28.546009063720703, 28.514259338378906, 28.54092025756836, 28.61151695251465, 28.63868522644043, 28.628658294677734, 28.679418563842773, 28.640010833740234, 28.584070205688477, 28.593873977661133, 28.458650588989258, 28.370037078857422, 28.38128089904785, 28.158958435058594, 28.14158058166504, 28.00099754333496, 28.065046310424805, 28.073965072631836, 28.143869400024414, 28.190040588378906, 28.1405029296875, 28.173818588256836, 0.0, 0.0, 0.0, 0.0, 0.0, 0.0, 0.0, 0.0, 0.0, 0.0, 0.0, 0.0, 0.0, 0.0, 0.0, 0.0, 0.0, 0.0, 0.0, 0.0, 0.0, 0.0, 0.0, 0.0, 0.0, 0.0, 0.0, 0.0, 0.0, 0.0, 0.0], \"yaxis\": \"y2\"}, {\"name\": \"Moyenne 4.5 du mois Aug\", \"type\": \"scatter\", \"x\": [2036, 2037, 2038, 2039, 2040, 2041, 2042, 2043, 2044, 2045, 2046, 2047, 2048, 2049, 2050, 2051, 2052, 2053, 2054, 2055, 2056, 2057, 2058, 2059, 2060, 2061, 2062, 2063, 2064, 2065, 2066, 2067, 2068, 2069, 2070, 2071, 2072, 2073, 2074, 2075, 2076, 2077, 2078, 2079, 2080, 2081, 2082, 2083, 2084, 2085, 2086, 2087, 2088, 2089, 2090, 2091, 2092, 2093, 2094, 2095, 2096, 2097, 2098, 2099], \"xaxis\": \"x2\", \"y\": [28.126789093017578, 28.163658142089844, 27.988719940185547, 28.190446853637695, 28.28868293762207, 28.31733512878418, 28.14716148376465, 28.37335968017578, 28.38209342956543, 28.326862335205078, 28.5310115814209, 28.573230743408203, 28.609487533569336, 28.586299896240234, 28.488401412963867, 28.5394344329834, 28.467430114746094, 28.43257713317871, 28.20538902282715, 28.139616012573242, 28.202455520629883, 28.066797256469727, 28.096139907836914, 28.119205474853516, 28.288536071777344, 28.321895599365234, 28.319364547729492, 28.466102600097656, 28.364999771118164, 28.07208251953125, 28.203052520751953, 28.18620491027832, 28.313295364379883, 28.32236099243164, 28.233604431152344, 28.15312957763672, 28.417383193969727, 28.491134643554688, 28.589406967163086, 28.649539947509766, 28.44252586364746, 28.514455795288086, 28.54941177368164, 28.75789451599121, 28.862611770629883, 28.905691146850586, 29.063608169555664, 29.174898147583008, 29.449909210205078, 29.510814666748047, 29.49699592590332, 29.80611801147461, 29.64438819885254, 29.663101196289062, 29.776641845703125, 30.036216735839844, 30.074710845947266, 29.918277740478516, 29.906818389892578, 30.077756881713867, 29.980920791625977, 30.13496971130371, 30.227548599243164, 30.07880210876465, 0.0, 0.0, 0.0, 0.0, 0.0, 0.0, 0.0, 0.0, 0.0, 0.0, 0.0, 0.0, 0.0, 0.0, 0.0, 0.0, 0.0, 0.0, 0.0, 0.0, 0.0, 0.0, 0.0, 0.0, 0.0, 0.0, 0.0, 0.0, 0.0, 0.0, 0.0], \"yaxis\": \"y2\"}, {\"name\": \"Moyenne 8.5 du mois Aug\", \"type\": \"scatter\", \"x\": [2036, 2037, 2038, 2039, 2040, 2041, 2042, 2043, 2044, 2045, 2046, 2047, 2048, 2049, 2050, 2051, 2052, 2053, 2054, 2055, 2056, 2057, 2058, 2059, 2060, 2061, 2062, 2063, 2064, 2065, 2066, 2067, 2068, 2069, 2070, 2071, 2072, 2073, 2074, 2075, 2076, 2077, 2078, 2079, 2080, 2081, 2082, 2083, 2084, 2085, 2086, 2087, 2088, 2089, 2090, 2091, 2092, 2093, 2094, 2095, 2096, 2097, 2098, 2099], \"xaxis\": \"x2\", \"y\": [28.039276123046875, 27.942678451538086, 27.85481834411621, 27.760025024414062, 27.59317970275879, 27.726266860961914, 27.808568954467773, 27.955982208251953, 28.01974868774414, 28.048980712890625, 28.174423217773438, 28.25444221496582, 28.401569366455078, 28.206573486328125, 28.25861167907715, 28.316967010498047, 28.38560676574707, 28.375436782836914, 28.507078170776367, 28.588050842285156, 28.832408905029297, 28.99321937561035, 29.15157699584961, 29.244165420532227, 29.213844299316406, 29.368459701538086, 29.469213485717773, 29.466230392456055, 29.519527435302734, 29.690763473510742, 29.71582794189453, 29.873781204223633, 29.937406539916992, 30.137264251708984, 30.323087692260742, 30.401689529418945, 30.437774658203125, 30.33989143371582, 30.450632095336914, 30.455066680908203, 30.512775421142578, 30.659982681274414, 30.918170928955078, 31.17718505859375, 31.41541862487793, 31.451736450195312, 31.574291229248047, 31.728620529174805, 31.739105224609375, 31.858518600463867, 31.88136863708496, 31.866085052490234, 31.98575210571289, 32.11540603637695, 32.36125946044922, 32.46454620361328, 32.588966369628906, 32.7453727722168, 32.73710632324219, 32.74100875854492, 32.78633499145508, 32.92420196533203, 33.13469696044922, 33.3118896484375, 0.0, 0.0, 0.0, 0.0, 0.0, 0.0, 0.0, 0.0, 0.0, 0.0, 0.0, 0.0, 0.0, 0.0, 0.0, 0.0, 0.0, 0.0, 0.0, 0.0, 0.0, 0.0, 0.0, 0.0, 0.0, 0.0, 0.0, 0.0, 0.0, 0.0, 0.0], \"yaxis\": \"y2\"}, {\"name\": \"Moyenne 2.6 de l'ann\\u00e9e\", \"type\": \"scatter\", \"x\": [2036, 2037, 2038, 2039, 2040, 2041, 2042, 2043, 2044, 2045, 2046, 2047, 2048, 2049, 2050, 2051, 2052, 2053, 2054, 2055, 2056, 2057, 2058, 2059, 2060, 2061, 2062, 2063, 2064, 2065, 2066, 2067, 2068, 2069, 2070, 2071, 2072, 2073, 2074, 2075, 2076, 2077, 2078, 2079, 2080, 2081, 2082, 2083, 2084, 2085, 2086, 2087, 2088, 2089, 2090, 2091, 2092, 2093, 2094, 2095, 2096, 2097, 2098, 2099], \"xaxis\": \"x3\", \"y\": [27.802431106567383, 27.73903465270996, 27.845373153686523, 27.697978973388672, 27.72032928466797, 27.737773895263672, 27.79375457763672, 28.03271484375, 28.03128433227539, 27.876604080200195, 28.114259719848633, 28.094289779663086, 28.312931060791016, 28.510963439941406, 28.431175231933594, 28.449487686157227, 28.56511688232422, 28.504030227661133, 28.469099044799805, 28.637399673461914, 28.740339279174805, 28.549884796142578, 28.572952270507812, 28.645885467529297, 28.674165725708008, 28.94940185546875, 29.075531005859375, 28.990076065063477, 29.018875122070312, 29.221176147460938, 29.097978591918945, 29.128259658813477, 29.031028747558594, 29.181623458862305, 29.15438461303711, 29.18570327758789, 29.26837730407715, 29.26994514465332, 29.33295440673828, 29.349084854125977, 29.212257385253906, 29.274065017700195, 29.192045211791992, 29.160242080688477, 29.186901092529297, 29.286813735961914, 29.295307159423828, 29.28455924987793, 29.33531951904297, 29.30292510986328, 29.24698257446289, 29.262672424316406, 29.29679298400879, 29.208179473876953, 29.21942710876465, 28.952377319335938, 28.935001373291016, 28.77858543395996, 28.771677017211914, 28.780595779418945, 28.810014724731445, 28.78715705871582, 28.812625885009766, 28.846811294555664, 0.0, 0.0, 0.0, 0.0, 0.0, 0.0, 0.0, 0.0, 0.0, 0.0, 0.0, 0.0, 0.0, 0.0, 0.0, 0.0, 0.0, 0.0, 0.0, 0.0, 0.0, 0.0, 0.0, 0.0, 0.0, 0.0, 0.0, 0.0, 0.0, 0.0, 0.0], \"yaxis\": \"y3\"}, {\"name\": \"Moyenne 4.5 de l'ann\\u00e9e\", \"type\": \"scatter\", \"x\": [2036, 2037, 2038, 2039, 2040, 2041, 2042, 2043, 2044, 2045, 2046, 2047, 2048, 2049, 2050, 2051, 2052, 2053, 2054, 2055, 2056, 2057, 2058, 2059, 2060, 2061, 2062, 2063, 2064, 2065, 2066, 2067, 2068, 2069, 2070, 2071, 2072, 2073, 2074, 2075, 2076, 2077, 2078, 2079, 2080, 2081, 2082, 2083, 2084, 2085, 2086, 2087, 2088, 2089, 2090, 2091, 2092, 2093, 2094, 2095, 2096, 2097, 2098, 2099], \"xaxis\": \"x3\", \"y\": [28.56392478942871, 28.610149383544922, 28.435211181640625, 28.636938095092773, 28.81402587890625, 28.862476348876953, 28.695648193359375, 29.051395416259766, 29.060131072998047, 28.88682746887207, 29.063034057617188, 29.105253219604492, 29.141510009765625, 29.09434700012207, 28.961973190307617, 28.9991512298584, 28.927146911621094, 28.892295837402344, 28.70821189880371, 28.642436981201172, 28.696882247924805, 28.760160446166992, 28.789499282836914, 28.971323013305664, 29.012069702148438, 29.04543113708496, 29.04290199279785, 29.189640045166016, 29.08853530883789, 28.880231857299805, 29.060503005981445, 29.122587203979492, 29.24967384338379, 29.258739471435547, 29.091135025024414, 28.990863800048828, 29.231027603149414, 29.11810302734375, 29.21637725830078, 29.276508331298828, 29.294084548950195, 29.366018295288086, 29.412485122680664, 29.620969772338867, 29.725685119628906, 29.76876449584961, 29.929441452026367, 30.040729522705078, 30.27263832092285, 30.39896583557129, 30.44822120666504, 30.55840492248535, 30.396677017211914, 30.25663185119629, 30.370174407958984, 30.62975311279297, 30.66824722290039, 30.554698944091797, 30.581546783447266, 30.772029876708984, 30.689937591552734, 30.82952880859375, 30.92945671081543, 30.929885864257812, 0.0, 0.0, 0.0, 0.0, 0.0, 0.0, 0.0, 0.0, 0.0, 0.0, 0.0, 0.0, 0.0, 0.0, 0.0, 0.0, 0.0, 0.0, 0.0, 0.0, 0.0, 0.0, 0.0, 0.0, 0.0, 0.0, 0.0, 0.0, 0.0, 0.0, 0.0], \"yaxis\": \"y3\"}, {\"name\": \"Moyenne 8.5 de l'ann\\u00e9e\", \"type\": \"scatter\", \"x\": [2036, 2037, 2038, 2039, 2040, 2041, 2042, 2043, 2044, 2045, 2046, 2047, 2048, 2049, 2050, 2051, 2052, 2053, 2054, 2055, 2056, 2057, 2058, 2059, 2060, 2061, 2062, 2063, 2064, 2065, 2066, 2067, 2068, 2069, 2070, 2071, 2072, 2073, 2074, 2075, 2076, 2077, 2078, 2079, 2080, 2081, 2082, 2083, 2084, 2085, 2086, 2087, 2088, 2089, 2090, 2091, 2092, 2093, 2094, 2095, 2096, 2097, 2098, 2099], \"xaxis\": \"x3\", \"y\": [28.398033142089844, 28.31039047241211, 28.268098831176758, 28.17330551147461, 28.00149917602539, 28.134584426879883, 28.21688461303711, 28.364301681518555, 28.37948226928711, 28.408716201782227, 28.490962982177734, 28.570981979370117, 28.647933959960938, 28.550350189208984, 28.60238265991211, 28.660741806030273, 28.748586654663086, 28.73841667175293, 28.870054244995117, 28.951030731201172, 29.13491439819336, 29.294044494628906, 29.428133010864258, 29.52071762084961, 29.48415184020996, 29.656991958618164, 29.75774383544922, 29.848365783691406, 29.941055297851562, 30.11229133605957, 30.057491302490234, 30.206491470336914, 30.23000717163086, 30.429868698120117, 30.615690231323242, 30.694292068481445, 30.751073837280273, 30.65319061279297, 30.752029418945312, 30.84468650817871, 30.902395248413086, 31.049602508544922, 31.30778694152832, 31.5010929107666, 31.739330291748047, 31.775644302368164, 31.881004333496094, 32.06195831298828, 32.07244110107422, 32.19185256958008, 32.229183197021484, 32.21053695678711, 32.33020782470703, 32.45985794067383, 32.70571517944336, 32.795345306396484, 32.91976547241211, 32.98257064819336, 32.934913635253906, 32.988094329833984, 33.10615158081055, 33.30543899536133, 33.51047897338867, 33.6885986328125, 0.0, 0.0, 0.0, 0.0, 0.0, 0.0, 0.0, 0.0, 0.0, 0.0, 0.0, 0.0, 0.0, 0.0, 0.0, 0.0, 0.0, 0.0, 0.0, 0.0, 0.0, 0.0, 0.0, 0.0, 0.0, 0.0, 0.0, 0.0, 0.0, 0.0, 0.0], \"yaxis\": \"y3\"}],\n",
       "                        {\"annotations\": [{\"font\": {\"size\": 16}, \"showarrow\": false, \"text\": \"<i>Mois de janvier</i>\", \"x\": 0.5, \"xanchor\": \"center\", \"xref\": \"paper\", \"y\": 1.0, \"yanchor\": \"bottom\", \"yref\": \"paper\"}, {\"font\": {\"size\": 16}, \"showarrow\": false, \"text\": \"<i>Mois d'aout</i>\", \"x\": 0.5, \"xanchor\": \"center\", \"xref\": \"paper\", \"y\": 0.6111111111111112, \"yanchor\": \"bottom\", \"yref\": \"paper\"}, {\"font\": {\"size\": 16}, \"showarrow\": false, \"text\": \"<i>Max de l'ann\\u00e9e</i>\", \"x\": 0.5, \"xanchor\": \"center\", \"xref\": \"paper\", \"y\": 0.22222222222222224, \"yanchor\": \"bottom\", \"yref\": \"paper\"}], \"autosize\": false, \"height\": 1200, \"legend\": {\"orientation\": \"h\"}, \"margin\": {\"b\": 50, \"l\": 60, \"r\": 30, \"t\": 50}, \"template\": {\"data\": {\"bar\": [{\"error_x\": {\"color\": \"#2a3f5f\"}, \"error_y\": {\"color\": \"#2a3f5f\"}, \"marker\": {\"line\": {\"color\": \"#E5ECF6\", \"width\": 0.5}}, \"type\": \"bar\"}], \"barpolar\": [{\"marker\": {\"line\": {\"color\": \"#E5ECF6\", \"width\": 0.5}}, \"type\": \"barpolar\"}], \"carpet\": [{\"aaxis\": {\"endlinecolor\": \"#2a3f5f\", \"gridcolor\": \"white\", \"linecolor\": \"white\", \"minorgridcolor\": \"white\", \"startlinecolor\": \"#2a3f5f\"}, \"baxis\": {\"endlinecolor\": \"#2a3f5f\", \"gridcolor\": \"white\", \"linecolor\": \"white\", \"minorgridcolor\": \"white\", \"startlinecolor\": \"#2a3f5f\"}, \"type\": \"carpet\"}], \"choropleth\": [{\"colorbar\": {\"outlinewidth\": 0, \"ticks\": \"\"}, \"type\": \"choropleth\"}], \"contour\": [{\"colorbar\": {\"outlinewidth\": 0, \"ticks\": \"\"}, \"colorscale\": [[0.0, \"#0d0887\"], [0.1111111111111111, \"#46039f\"], [0.2222222222222222, \"#7201a8\"], [0.3333333333333333, \"#9c179e\"], [0.4444444444444444, \"#bd3786\"], [0.5555555555555556, \"#d8576b\"], [0.6666666666666666, \"#ed7953\"], [0.7777777777777778, \"#fb9f3a\"], [0.8888888888888888, \"#fdca26\"], [1.0, \"#f0f921\"]], \"type\": \"contour\"}], \"contourcarpet\": [{\"colorbar\": {\"outlinewidth\": 0, \"ticks\": \"\"}, \"type\": \"contourcarpet\"}], \"heatmap\": [{\"colorbar\": {\"outlinewidth\": 0, \"ticks\": \"\"}, \"colorscale\": [[0.0, \"#0d0887\"], [0.1111111111111111, \"#46039f\"], [0.2222222222222222, \"#7201a8\"], [0.3333333333333333, \"#9c179e\"], [0.4444444444444444, \"#bd3786\"], [0.5555555555555556, \"#d8576b\"], [0.6666666666666666, \"#ed7953\"], [0.7777777777777778, \"#fb9f3a\"], [0.8888888888888888, \"#fdca26\"], [1.0, \"#f0f921\"]], \"type\": \"heatmap\"}], \"heatmapgl\": [{\"colorbar\": {\"outlinewidth\": 0, \"ticks\": \"\"}, \"colorscale\": [[0.0, \"#0d0887\"], [0.1111111111111111, \"#46039f\"], [0.2222222222222222, \"#7201a8\"], [0.3333333333333333, \"#9c179e\"], [0.4444444444444444, \"#bd3786\"], [0.5555555555555556, \"#d8576b\"], [0.6666666666666666, \"#ed7953\"], [0.7777777777777778, \"#fb9f3a\"], [0.8888888888888888, \"#fdca26\"], [1.0, \"#f0f921\"]], \"type\": \"heatmapgl\"}], \"histogram\": [{\"marker\": {\"colorbar\": {\"outlinewidth\": 0, \"ticks\": \"\"}}, \"type\": \"histogram\"}], \"histogram2d\": [{\"colorbar\": {\"outlinewidth\": 0, \"ticks\": \"\"}, \"colorscale\": [[0.0, \"#0d0887\"], [0.1111111111111111, \"#46039f\"], [0.2222222222222222, \"#7201a8\"], [0.3333333333333333, \"#9c179e\"], [0.4444444444444444, \"#bd3786\"], [0.5555555555555556, \"#d8576b\"], [0.6666666666666666, \"#ed7953\"], [0.7777777777777778, \"#fb9f3a\"], [0.8888888888888888, \"#fdca26\"], [1.0, \"#f0f921\"]], \"type\": \"histogram2d\"}], \"histogram2dcontour\": [{\"colorbar\": {\"outlinewidth\": 0, \"ticks\": \"\"}, \"colorscale\": [[0.0, \"#0d0887\"], [0.1111111111111111, \"#46039f\"], [0.2222222222222222, \"#7201a8\"], [0.3333333333333333, \"#9c179e\"], [0.4444444444444444, \"#bd3786\"], [0.5555555555555556, \"#d8576b\"], [0.6666666666666666, \"#ed7953\"], [0.7777777777777778, \"#fb9f3a\"], [0.8888888888888888, \"#fdca26\"], [1.0, \"#f0f921\"]], \"type\": \"histogram2dcontour\"}], \"mesh3d\": [{\"colorbar\": {\"outlinewidth\": 0, \"ticks\": \"\"}, \"type\": \"mesh3d\"}], \"parcoords\": [{\"line\": {\"colorbar\": {\"outlinewidth\": 0, \"ticks\": \"\"}}, \"type\": \"parcoords\"}], \"scatter\": [{\"marker\": {\"colorbar\": {\"outlinewidth\": 0, \"ticks\": \"\"}}, \"type\": \"scatter\"}], \"scatter3d\": [{\"line\": {\"colorbar\": {\"outlinewidth\": 0, \"ticks\": \"\"}}, \"marker\": {\"colorbar\": {\"outlinewidth\": 0, \"ticks\": \"\"}}, \"type\": \"scatter3d\"}], \"scattercarpet\": [{\"marker\": {\"colorbar\": {\"outlinewidth\": 0, \"ticks\": \"\"}}, \"type\": \"scattercarpet\"}], \"scattergeo\": [{\"marker\": {\"colorbar\": {\"outlinewidth\": 0, \"ticks\": \"\"}}, \"type\": \"scattergeo\"}], \"scattergl\": [{\"marker\": {\"colorbar\": {\"outlinewidth\": 0, \"ticks\": \"\"}}, \"type\": \"scattergl\"}], \"scattermapbox\": [{\"marker\": {\"colorbar\": {\"outlinewidth\": 0, \"ticks\": \"\"}}, \"type\": \"scattermapbox\"}], \"scatterpolar\": [{\"marker\": {\"colorbar\": {\"outlinewidth\": 0, \"ticks\": \"\"}}, \"type\": \"scatterpolar\"}], \"scatterpolargl\": [{\"marker\": {\"colorbar\": {\"outlinewidth\": 0, \"ticks\": \"\"}}, \"type\": \"scatterpolargl\"}], \"scatterternary\": [{\"marker\": {\"colorbar\": {\"outlinewidth\": 0, \"ticks\": \"\"}}, \"type\": \"scatterternary\"}], \"surface\": [{\"colorbar\": {\"outlinewidth\": 0, \"ticks\": \"\"}, \"colorscale\": [[0.0, \"#0d0887\"], [0.1111111111111111, \"#46039f\"], [0.2222222222222222, \"#7201a8\"], [0.3333333333333333, \"#9c179e\"], [0.4444444444444444, \"#bd3786\"], [0.5555555555555556, \"#d8576b\"], [0.6666666666666666, \"#ed7953\"], [0.7777777777777778, \"#fb9f3a\"], [0.8888888888888888, \"#fdca26\"], [1.0, \"#f0f921\"]], \"type\": \"surface\"}], \"table\": [{\"cells\": {\"fill\": {\"color\": \"#EBF0F8\"}, \"line\": {\"color\": \"white\"}}, \"header\": {\"fill\": {\"color\": \"#C8D4E3\"}, \"line\": {\"color\": \"white\"}}, \"type\": \"table\"}]}, \"layout\": {\"annotationdefaults\": {\"arrowcolor\": \"#2a3f5f\", \"arrowhead\": 0, \"arrowwidth\": 1}, \"colorscale\": {\"diverging\": [[0, \"#8e0152\"], [0.1, \"#c51b7d\"], [0.2, \"#de77ae\"], [0.3, \"#f1b6da\"], [0.4, \"#fde0ef\"], [0.5, \"#f7f7f7\"], [0.6, \"#e6f5d0\"], [0.7, \"#b8e186\"], [0.8, \"#7fbc41\"], [0.9, \"#4d9221\"], [1, \"#276419\"]], \"sequential\": [[0.0, \"#0d0887\"], [0.1111111111111111, \"#46039f\"], [0.2222222222222222, \"#7201a8\"], [0.3333333333333333, \"#9c179e\"], [0.4444444444444444, \"#bd3786\"], [0.5555555555555556, \"#d8576b\"], [0.6666666666666666, \"#ed7953\"], [0.7777777777777778, \"#fb9f3a\"], [0.8888888888888888, \"#fdca26\"], [1.0, \"#f0f921\"]], \"sequentialminus\": [[0.0, \"#0d0887\"], [0.1111111111111111, \"#46039f\"], [0.2222222222222222, \"#7201a8\"], [0.3333333333333333, \"#9c179e\"], [0.4444444444444444, \"#bd3786\"], [0.5555555555555556, \"#d8576b\"], [0.6666666666666666, \"#ed7953\"], [0.7777777777777778, \"#fb9f3a\"], [0.8888888888888888, \"#fdca26\"], [1.0, \"#f0f921\"]]}, \"colorway\": [\"#636efa\", \"#EF553B\", \"#00cc96\", \"#ab63fa\", \"#FFA15A\", \"#19d3f3\", \"#FF6692\", \"#B6E880\", \"#FF97FF\", \"#FECB52\"], \"font\": {\"color\": \"#2a3f5f\"}, \"geo\": {\"bgcolor\": \"white\", \"lakecolor\": \"white\", \"landcolor\": \"#E5ECF6\", \"showlakes\": true, \"showland\": true, \"subunitcolor\": \"white\"}, \"hoverlabel\": {\"align\": \"left\"}, \"hovermode\": \"closest\", \"mapbox\": {\"style\": \"light\"}, \"paper_bgcolor\": \"white\", \"plot_bgcolor\": \"#E5ECF6\", \"polar\": {\"angularaxis\": {\"gridcolor\": \"white\", \"linecolor\": \"white\", \"ticks\": \"\"}, \"bgcolor\": \"#E5ECF6\", \"radialaxis\": {\"gridcolor\": \"white\", \"linecolor\": \"white\", \"ticks\": \"\"}}, \"scene\": {\"xaxis\": {\"backgroundcolor\": \"#E5ECF6\", \"gridcolor\": \"white\", \"gridwidth\": 2, \"linecolor\": \"white\", \"showbackground\": true, \"ticks\": \"\", \"zerolinecolor\": \"white\"}, \"yaxis\": {\"backgroundcolor\": \"#E5ECF6\", \"gridcolor\": \"white\", \"gridwidth\": 2, \"linecolor\": \"white\", \"showbackground\": true, \"ticks\": \"\", \"zerolinecolor\": \"white\"}, \"zaxis\": {\"backgroundcolor\": \"#E5ECF6\", \"gridcolor\": \"white\", \"gridwidth\": 2, \"linecolor\": \"white\", \"showbackground\": true, \"ticks\": \"\", \"zerolinecolor\": \"white\"}}, \"shapedefaults\": {\"line\": {\"color\": \"#2a3f5f\"}}, \"ternary\": {\"aaxis\": {\"gridcolor\": \"white\", \"linecolor\": \"white\", \"ticks\": \"\"}, \"baxis\": {\"gridcolor\": \"white\", \"linecolor\": \"white\", \"ticks\": \"\"}, \"bgcolor\": \"#E5ECF6\", \"caxis\": {\"gridcolor\": \"white\", \"linecolor\": \"white\", \"ticks\": \"\"}}, \"title\": {\"x\": 0.05}, \"xaxis\": {\"automargin\": true, \"gridcolor\": \"white\", \"linecolor\": \"white\", \"ticks\": \"\", \"zerolinecolor\": \"white\", \"zerolinewidth\": 2}, \"yaxis\": {\"automargin\": true, \"gridcolor\": \"white\", \"linecolor\": \"white\", \"ticks\": \"\", \"zerolinecolor\": \"white\", \"zerolinewidth\": 2}}}, \"title\": {\"text\": \"<b>Temp\\u00e9ratures maximales Lyon moyenn\\u00e9es sur 30 ans</b>\"}, \"width\": 900, \"xaxis\": {\"anchor\": \"y\", \"domain\": [0.0, 1.0], \"title\": {\"text\": \"Ann\\u00e9e\"}}, \"xaxis2\": {\"anchor\": \"y2\", \"domain\": [0.0, 1.0], \"title\": {\"text\": \"Ann\\u00e9e\"}}, \"xaxis3\": {\"anchor\": \"y3\", \"domain\": [0.0, 1.0], \"title\": {\"text\": \"Ann\\u00e9e\"}}, \"yaxis\": {\"anchor\": \"x\", \"domain\": [0.7777777777777778, 1.0], \"title\": {\"text\": \"Degr\\u00e9s C\"}}, \"yaxis2\": {\"anchor\": \"x2\", \"domain\": [0.3888888888888889, 0.6111111111111112], \"title\": {\"text\": \"Degr\\u00e9s C\"}}, \"yaxis3\": {\"anchor\": \"x3\", \"domain\": [0.0, 0.22222222222222224], \"title\": {\"text\": \"Degr\\u00e9s C\"}}},\n",
       "                        {\"responsive\": true}\n",
       "                    ).then(function(){\n",
       "                            \n",
       "var gd = document.getElementById('7b732871-deb5-4775-afb6-d586e8ba9a61');\n",
       "var x = new MutationObserver(function (mutations, observer) {{\n",
       "        var display = window.getComputedStyle(gd).display;\n",
       "        if (!display || display === 'none') {{\n",
       "            console.log([gd, 'removed!']);\n",
       "            Plotly.purge(gd);\n",
       "            observer.disconnect();\n",
       "        }}\n",
       "}});\n",
       "\n",
       "// Listen for the removal of the full notebook cells\n",
       "var notebookContainer = gd.closest('#notebook-container');\n",
       "if (notebookContainer) {{\n",
       "    x.observe(notebookContainer, {childList: true});\n",
       "}}\n",
       "\n",
       "// Listen for the clearing of the current output cell\n",
       "var outputEl = gd.closest('.output');\n",
       "if (outputEl) {{\n",
       "    x.observe(outputEl, {childList: true});\n",
       "}}\n",
       "\n",
       "                        })\n",
       "                };\n",
       "                });\n",
       "            </script>\n",
       "        </div>"
      ]
     },
     "metadata": {},
     "output_type": "display_data"
    }
   ],
   "source": [
    "q = 0\n",
    "trace26_0 = go.Scatter(\n",
    "    x = Lyon_year[firstPlotYear:lastPlotYear],\n",
    "    y = moyMAreaInterval_Lyon_26[q,:],\n",
    "    name ='Moyenne 2.6 du mois %s'%Lyon_month[calcMonth[q]]\n",
    ")\n",
    "trace45_0 = go.Scatter(\n",
    "    x = Lyon_year[firstPlotYear:lastPlotYear],\n",
    "    y = moyMAreaInterval_Lyon_45[q,:],\n",
    "    name ='Moyenne 4.5 du mois %s'%Lyon_month[calcMonth[q]]\n",
    ")\n",
    "trace85_0 = go.Scatter(\n",
    "    x = Lyon_year[firstPlotYear:lastPlotYear],\n",
    "    y = moyMAreaInterval_Lyon_85[q,:],\n",
    "    name ='Moyenne 8.5 du mois %s'%Lyon_month[calcMonth[q]]\n",
    ")\n",
    "\n",
    "q = 1\n",
    "trace26_1 = go.Scatter(\n",
    "    x = Lyon_year[firstPlotYear:lastPlotYear],\n",
    "    y = moyMAreaInterval_Lyon_26[q,:],\n",
    "    name ='Moyenne 2.6 du mois %s'%Lyon_month[calcMonth[q]]\n",
    ")\n",
    "trace45_1 = go.Scatter(\n",
    "    x = Lyon_year[firstPlotYear:lastPlotYear],\n",
    "    y = moyMAreaInterval_Lyon_45[q,:],\n",
    "    name ='Moyenne 4.5 du mois %s'%Lyon_month[calcMonth[q]]\n",
    ")\n",
    "\n",
    "trace85_1 = go.Scatter(\n",
    "    x = Lyon_year[firstPlotYear:lastPlotYear],\n",
    "    y = moyMAreaInterval_Lyon_85[q,:],\n",
    "    name ='Moyenne 8.5 du mois %s'%Lyon_month[calcMonth[q]]\n",
    ")\n",
    "\n",
    "q = 2\n",
    "trace26_2 = go.Scatter(\n",
    "    x = Lyon_year[firstPlotYear:lastPlotYear],\n",
    "    y = moyMAreaInterval_Lyon_26[q,:],\n",
    "    name =\"Moyenne 2.6 de l'année\"\n",
    ")\n",
    "trace45_2 = go.Scatter(\n",
    "    x = Lyon_year[firstPlotYear:lastPlotYear],\n",
    "    y = moyMAreaInterval_Lyon_45[q,:],\n",
    "    name =\"Moyenne 4.5 de l'année\"\n",
    ")\n",
    "\n",
    "trace85_2 = go.Scatter(\n",
    "    x = Lyon_year[firstPlotYear:lastPlotYear],\n",
    "    y = moyMAreaInterval_Lyon_85[q,:],\n",
    "    name =\"Moyenne 8.5 de l'année\"\n",
    ")\n",
    "\n",
    "fig = subplots.make_subplots(rows=3, \n",
    "                          cols=1, \n",
    "                          subplot_titles=(\"<i>Mois de janvier</i>\",\"<i>Mois d'aout</i>\",\"<i>Max de l'année</i>\"))\n",
    "\n",
    "fig.append_trace(trace26_0, 1, 1)\n",
    "fig.append_trace(trace45_0, 1, 1)\n",
    "fig.append_trace(trace85_0, 1, 1)\n",
    "fig.append_trace(trace26_1, 2, 1)\n",
    "fig.append_trace(trace45_1, 2, 1)\n",
    "fig.append_trace(trace85_1, 2, 1)\n",
    "fig.append_trace(trace26_2, 3, 1)\n",
    "fig.append_trace(trace45_2, 3, 1)\n",
    "fig.append_trace(trace85_2, 3, 1)\n",
    "\n",
    "fig.update_xaxes(title_text=\"Année\", row=1, col=1)\n",
    "fig.update_xaxes(title_text=\"Année\", row=2, col=1)\n",
    "fig.update_xaxes(title_text=\"Année\", row=3, col=1)\n",
    "\n",
    "fig.update_yaxes(title_text=\"Degrés C\", row=1, col=1)\n",
    "fig.update_yaxes(title_text=\"Degrés C\", row=2, col=1)\n",
    "fig.update_yaxes(title_text=\"Degrés C\", row=3, col=1)\n",
    "\n",
    "fig['layout']['margin'] = {'l': 60, 'r': 30, 'b': 50, 't': 50}\n",
    "fig['layout'].update(autosize = False, height=1200, width=900, title='<b>Températures maximales Lyon moyennées sur 30 ans</b>')\n",
    "\n",
    "fig.update_layout(legend_orientation=\"h\")\n",
    "\n",
    "py.iplot(fig, filename='basic-line')"
   ]
  },
  {
   "cell_type": "markdown",
   "metadata": {},
   "source": [
    "#### Modifications et enrichissement de la figure\n",
    "Les deux blocs ci-dessous permettent d'améliorer le rendu et d'annoter la figure. Le premier produit un fichier plotly qui peut être ouvert et modifié avec l'éditeur puis sauvegardé sous un nouveau nom par le second."
   ]
  },
  {
   "cell_type": "code",
   "execution_count": 11,
   "metadata": {},
   "outputs": [],
   "source": [
    "pio.write_json(fig, 'scatter1.plotly')"
   ]
  },
  {
   "cell_type": "code",
   "execution_count": 28,
   "metadata": {},
   "outputs": [],
   "source": [
    "fig_styled = pio.read_json('scatter1+.plotly', output_type='FigureWidget')\n",
    "#py.iplot(fig_styled, filename='styled-basic-line')"
   ]
  },
  {
   "cell_type": "code",
   "execution_count": null,
   "metadata": {},
   "outputs": [],
   "source": [
    "#### Comparaison entre Toulouse et Lyon\n",
    "\n",
    "Le diagramme suivant compare les situations entre toulouse et Lyon. "
   ]
  },
  {
   "cell_type": "code",
   "execution_count": 29,
   "metadata": {},
   "outputs": [
    {
     "data": {
      "application/vnd.plotly.v1+json": {
       "config": {
        "linkText": "Export to plot.ly",
        "plotlyServerURL": "https://plot.ly",
        "showLink": false
       },
       "data": [
        {
         "name": "Lyon oyenne 2.6 du mois Jan",
         "type": "scatter",
         "x": [
          2036,
          2037,
          2038,
          2039,
          2040,
          2041,
          2042,
          2043,
          2044,
          2045,
          2046,
          2047,
          2048,
          2049,
          2050,
          2051,
          2052,
          2053,
          2054,
          2055,
          2056,
          2057,
          2058,
          2059,
          2060,
          2061,
          2062,
          2063,
          2064,
          2065,
          2066,
          2067,
          2068,
          2069,
          2070,
          2071,
          2072,
          2073,
          2074,
          2075,
          2076,
          2077,
          2078,
          2079,
          2080,
          2081,
          2082,
          2083,
          2084,
          2085,
          2086,
          2087,
          2088,
          2089,
          2090,
          2091,
          2092,
          2093,
          2094,
          2095,
          2096,
          2097,
          2098,
          2099
         ],
         "xaxis": "x",
         "y": [
          5.386150360107422,
          5.477141380310059,
          5.386490345001221,
          5.457263946533203,
          5.399481773376465,
          5.584441184997559,
          5.4670090675354,
          5.210026741027832,
          5.174244403839111,
          5.128688335418701,
          5.139581680297852,
          5.071315288543701,
          5.139779090881348,
          4.973639965057373,
          5.026540279388428,
          4.969625473022461,
          5.050154685974121,
          4.967684268951416,
          5.259434223175049,
          5.385748863220215,
          5.4518327713012695,
          5.411232948303223,
          5.4849982261657715,
          5.709554195404053,
          5.745382785797119,
          5.924164295196533,
          5.991814136505127,
          5.977148056030273,
          5.854031562805176,
          5.953263282775879,
          5.886383533477783,
          5.909271240234375,
          5.777011394500732,
          5.854936122894287,
          5.873520374298096,
          5.85138463973999,
          6.042550086975098,
          6.124064922332764,
          6.1565327644348145,
          6.295586109161377,
          6.282838821411133,
          6.199403285980225,
          5.928366184234619,
          6.088820934295654,
          6.062967300415039,
          6.283125400543213,
          6.406485557556152,
          6.307490348815918,
          6.199167728424072,
          6.0577239990234375,
          6.071258544921875,
          6.071818828582764,
          6.122203350067139,
          6.002092361450195,
          5.912613391876221,
          6.011442184448242,
          6.242125034332275,
          6.026217937469482,
          6.313873291015625,
          6.3342719078063965,
          6.354368209838867,
          6.240656852722168,
          6.42692232131958,
          6.534165382385254,
          0,
          0,
          0,
          0,
          0,
          0,
          0,
          0,
          0,
          0,
          0,
          0,
          0,
          0,
          0,
          0,
          0,
          0,
          0,
          0,
          0,
          0,
          0,
          0,
          0,
          0,
          0,
          0,
          0,
          0,
          0
         ],
         "yaxis": "y"
        },
        {
         "name": "Tls moyenne 2.6 du mois Jan",
         "type": "scatter",
         "x": [
          2036,
          2037,
          2038,
          2039,
          2040,
          2041,
          2042,
          2043,
          2044,
          2045,
          2046,
          2047,
          2048,
          2049,
          2050,
          2051,
          2052,
          2053,
          2054,
          2055,
          2056,
          2057,
          2058,
          2059,
          2060,
          2061,
          2062,
          2063,
          2064,
          2065,
          2066,
          2067,
          2068,
          2069,
          2070,
          2071,
          2072,
          2073,
          2074,
          2075,
          2076,
          2077,
          2078,
          2079,
          2080,
          2081,
          2082,
          2083,
          2084,
          2085,
          2086,
          2087,
          2088,
          2089,
          2090,
          2091,
          2092,
          2093,
          2094,
          2095,
          2096,
          2097,
          2098,
          2099
         ],
         "xaxis": "x",
         "y": [
          8.94485855102539,
          9.07922077178955,
          8.993371963500977,
          8.987469673156738,
          8.901383399963379,
          9.038625717163086,
          8.893330574035645,
          8.719688415527344,
          8.621516227722168,
          8.592198371887207,
          8.575969696044922,
          8.522064208984375,
          8.59089469909668,
          8.496800422668457,
          8.507843971252441,
          8.453868865966797,
          8.483819007873535,
          8.402379035949707,
          8.714922904968262,
          8.804740905761719,
          8.906726837158203,
          8.8755464553833,
          8.930146217346191,
          9.049641609191895,
          9.089763641357422,
          9.238469123840332,
          9.294001579284668,
          9.241503715515137,
          9.17829418182373,
          9.236457824707031,
          9.195521354675293,
          9.174161911010742,
          9.12559986114502,
          9.225615501403809,
          9.287752151489258,
          9.219369888305664,
          9.422039031982422,
          9.492504119873047,
          9.539966583251953,
          9.611153602600098,
          9.584455490112305,
          9.507646560668945,
          9.312573432922363,
          9.380714416503906,
          9.326295852661133,
          9.524450302124023,
          9.639690399169922,
          9.508376121520996,
          9.360953330993652,
          9.29200267791748,
          9.237592697143555,
          9.271939277648926,
          9.29615592956543,
          9.253987312316895,
          9.137619018554688,
          9.2014741897583,
          9.357574462890625,
          9.229047775268555,
          9.406153678894043,
          9.471818923950195,
          9.548151016235352,
          9.436237335205078,
          9.526570320129395,
          9.615522384643555,
          0,
          0,
          0,
          0,
          0,
          0,
          0,
          0,
          0,
          0,
          0,
          0,
          0,
          0,
          0,
          0,
          0,
          0,
          0,
          0,
          0,
          0,
          0,
          0,
          0,
          0,
          0,
          0,
          0,
          0,
          0
         ],
         "yaxis": "y"
        },
        {
         "name": "Lyon moyenne 4.5 du mois Jan",
         "type": "scatter",
         "x": [
          2036,
          2037,
          2038,
          2039,
          2040,
          2041,
          2042,
          2043,
          2044,
          2045,
          2046,
          2047,
          2048,
          2049,
          2050,
          2051,
          2052,
          2053,
          2054,
          2055,
          2056,
          2057,
          2058,
          2059,
          2060,
          2061,
          2062,
          2063,
          2064,
          2065,
          2066,
          2067,
          2068,
          2069,
          2070,
          2071,
          2072,
          2073,
          2074,
          2075,
          2076,
          2077,
          2078,
          2079,
          2080,
          2081,
          2082,
          2083,
          2084,
          2085,
          2086,
          2087,
          2088,
          2089,
          2090,
          2091,
          2092,
          2093,
          2094,
          2095,
          2096,
          2097,
          2098,
          2099
         ],
         "xaxis": "x2",
         "y": [
          5.156959056854248,
          5.314727783203125,
          5.303625583648682,
          5.457091808319092,
          5.687076568603516,
          5.744417667388916,
          5.722259044647217,
          5.613696098327637,
          5.546237468719482,
          5.547213077545166,
          5.758817195892334,
          5.841792106628418,
          6.066070079803467,
          5.889604091644287,
          5.667335033416748,
          5.744497776031494,
          5.774575710296631,
          5.705568790435791,
          5.994093418121338,
          6.203968048095703,
          6.241804122924805,
          6.336745262145996,
          6.438121318817139,
          6.5016560554504395,
          6.449070930480957,
          6.327724933624268,
          6.29083776473999,
          6.36590576171875,
          6.190853595733643,
          6.0808491706848145,
          6.142042636871338,
          6.041492462158203,
          5.960211753845215,
          5.899152755737305,
          5.774215221405029,
          5.794201850891113,
          5.986278057098389,
          5.912827968597412,
          6.195918560028076,
          6.289844989776611,
          6.183889389038086,
          6.243121147155762,
          6.130618095397949,
          6.271156311035156,
          6.49639892578125,
          6.5297160148620605,
          6.771294593811035,
          6.929097652435303,
          6.845921039581299,
          6.8235321044921875,
          6.861690044403076,
          6.865421295166016,
          6.859360218048096,
          7.036868572235107,
          7.212096691131592,
          7.162751197814941,
          7.306883335113525,
          7.393199443817139,
          7.5836405754089355,
          7.839911460876465,
          7.760255813598633,
          7.7931928634643555,
          7.909626483917236,
          7.91370964050293,
          0,
          0,
          0,
          0,
          0,
          0,
          0,
          0,
          0,
          0,
          0,
          0,
          0,
          0,
          0,
          0,
          0,
          0,
          0,
          0,
          0,
          0,
          0,
          0,
          0,
          0,
          0,
          0,
          0,
          0,
          0
         ],
         "yaxis": "y2"
        },
        {
         "name": "Tls moyenne 4.5 du mois Jan",
         "type": "scatter",
         "x": [
          2036,
          2037,
          2038,
          2039,
          2040,
          2041,
          2042,
          2043,
          2044,
          2045,
          2046,
          2047,
          2048,
          2049,
          2050,
          2051,
          2052,
          2053,
          2054,
          2055,
          2056,
          2057,
          2058,
          2059,
          2060,
          2061,
          2062,
          2063,
          2064,
          2065,
          2066,
          2067,
          2068,
          2069,
          2070,
          2071,
          2072,
          2073,
          2074,
          2075,
          2076,
          2077,
          2078,
          2079,
          2080,
          2081,
          2082,
          2083,
          2084,
          2085,
          2086,
          2087,
          2088,
          2089,
          2090,
          2091,
          2092,
          2093,
          2094,
          2095,
          2096,
          2097,
          2098,
          2099
         ],
         "xaxis": "x2",
         "y": [
          8.437761306762695,
          8.586709022521973,
          8.541804313659668,
          8.700600624084473,
          8.924899101257324,
          8.956269264221191,
          8.997438430786133,
          8.904768943786621,
          8.896173477172852,
          8.757938385009766,
          8.938093185424805,
          9.018835067749023,
          9.164179801940918,
          9.041045188903809,
          8.868391036987305,
          8.938769340515137,
          8.994327545166016,
          9.011863708496094,
          9.27350902557373,
          9.439120292663574,
          9.521377563476562,
          9.581401824951172,
          9.666122436523438,
          9.742661476135254,
          9.634552001953125,
          9.556718826293945,
          9.527068138122559,
          9.569668769836426,
          9.472079277038574,
          9.370819091796875,
          9.402192115783691,
          9.29223346710205,
          9.234926223754883,
          9.186324119567871,
          9.057036399841309,
          9.071346282958984,
          9.191034317016602,
          9.121521949768066,
          9.31108283996582,
          9.419044494628906,
          9.391010284423828,
          9.432957649230957,
          9.342546463012695,
          9.451702117919922,
          9.651510238647461,
          9.688873291015625,
          9.856037139892578,
          9.964396476745605,
          9.921697616577148,
          9.917095184326172,
          9.908535957336426,
          9.907866477966309,
          9.900458335876465,
          9.991450309753418,
          10.163196563720703,
          10.136435508728027,
          10.248628616333008,
          10.290761947631836,
          10.387577056884766,
          10.587897300720215,
          10.557450294494629,
          10.645240783691406,
          10.761122703552246,
          10.752227783203125,
          0,
          0,
          0,
          0,
          0,
          0,
          0,
          0,
          0,
          0,
          0,
          0,
          0,
          0,
          0,
          0,
          0,
          0,
          0,
          0,
          0,
          0,
          0,
          0,
          0,
          0,
          0,
          0,
          0,
          0,
          0
         ],
         "yaxis": "y2"
        },
        {
         "name": "Moyenne 8.5 du mois Jan",
         "type": "scatter",
         "x": [
          2036,
          2037,
          2038,
          2039,
          2040,
          2041,
          2042,
          2043,
          2044,
          2045,
          2046,
          2047,
          2048,
          2049,
          2050,
          2051,
          2052,
          2053,
          2054,
          2055,
          2056,
          2057,
          2058,
          2059,
          2060,
          2061,
          2062,
          2063,
          2064,
          2065,
          2066,
          2067,
          2068,
          2069,
          2070,
          2071,
          2072,
          2073,
          2074,
          2075,
          2076,
          2077,
          2078,
          2079,
          2080,
          2081,
          2082,
          2083,
          2084,
          2085,
          2086,
          2087,
          2088,
          2089,
          2090,
          2091,
          2092,
          2093,
          2094,
          2095,
          2096,
          2097,
          2098,
          2099
         ],
         "xaxis": "x3",
         "y": [
          5.349483489990234,
          5.525993824005127,
          5.432149410247803,
          5.27159309387207,
          5.423659801483154,
          5.416324138641357,
          5.573998928070068,
          5.56859827041626,
          5.584165573120117,
          5.8704609870910645,
          5.902963161468506,
          5.822385787963867,
          5.870139122009277,
          6.096262454986572,
          6.019598484039307,
          6.045426368713379,
          6.269654750823975,
          6.4220194816589355,
          6.331941604614258,
          6.530173301696777,
          6.642111778259277,
          6.6113457679748535,
          6.739173412322998,
          6.6435675621032715,
          6.627155303955078,
          6.620812892913818,
          6.687375545501709,
          6.7653985023498535,
          6.614580154418945,
          6.826766490936279,
          6.602166652679443,
          6.537670135498047,
          6.657573223114014,
          6.7555155754089355,
          6.732247829437256,
          6.982380390167236,
          7.005130290985107,
          7.11084508895874,
          7.132426738739014,
          7.251473903656006,
          7.244904518127441,
          7.370278835296631,
          7.544384002685547,
          7.533921718597412,
          7.547844886779785,
          7.611189842224121,
          7.6187944412231445,
          7.440418720245361,
          7.601208209991455,
          7.591518402099609,
          7.736955642700195,
          7.7758073806762695,
          7.876889705657959,
          8.134437561035156,
          8.133345603942871,
          8.089248657226562,
          8.257780075073242,
          8.407488822937012,
          8.733150482177734,
          8.596456527709961,
          8.862565994262695,
          8.864760398864746,
          8.864912033081055,
          8.99123477935791,
          0,
          0,
          0,
          0,
          0,
          0,
          0,
          0,
          0,
          0,
          0,
          0,
          0,
          0,
          0,
          0,
          0,
          0,
          0,
          0,
          0,
          0,
          0,
          0,
          0,
          0,
          0,
          0,
          0,
          0,
          0
         ],
         "yaxis": "y3"
        },
        {
         "name": "Moyenne 8.5 du mois Jan",
         "type": "scatter",
         "x": [
          2036,
          2037,
          2038,
          2039,
          2040,
          2041,
          2042,
          2043,
          2044,
          2045,
          2046,
          2047,
          2048,
          2049,
          2050,
          2051,
          2052,
          2053,
          2054,
          2055,
          2056,
          2057,
          2058,
          2059,
          2060,
          2061,
          2062,
          2063,
          2064,
          2065,
          2066,
          2067,
          2068,
          2069,
          2070,
          2071,
          2072,
          2073,
          2074,
          2075,
          2076,
          2077,
          2078,
          2079,
          2080,
          2081,
          2082,
          2083,
          2084,
          2085,
          2086,
          2087,
          2088,
          2089,
          2090,
          2091,
          2092,
          2093,
          2094,
          2095,
          2096,
          2097,
          2098,
          2099
         ],
         "xaxis": "x3",
         "y": [
          8.863059043884277,
          9.020570755004883,
          8.98039722442627,
          8.84475326538086,
          8.967350006103516,
          8.970306396484375,
          9.087678909301758,
          9.042513847351074,
          9.012621879577637,
          9.24897289276123,
          9.267587661743164,
          9.230582237243652,
          9.28911304473877,
          9.466612815856934,
          9.393108367919922,
          9.404650688171387,
          9.638679504394531,
          9.793974876403809,
          9.754049301147461,
          9.858924865722656,
          10.046392440795898,
          9.986220359802246,
          10.05925178527832,
          9.97348690032959,
          9.98855972290039,
          9.979578971862793,
          10.053304672241211,
          10.084883689880371,
          9.96142864227295,
          10.061098098754883,
          9.844571113586426,
          9.788622856140137,
          9.869566917419434,
          9.982989311218262,
          9.958194732666016,
          10.147171974182129,
          10.141122817993164,
          10.273869514465332,
          10.326956748962402,
          10.43407917022705,
          10.460981369018555,
          10.5149507522583,
          10.670220375061035,
          10.701055526733398,
          10.675107955932617,
          10.75842571258545,
          10.700613021850586,
          10.55294418334961,
          10.626649856567383,
          10.644598007202148,
          10.732004165649414,
          10.725486755371094,
          10.811224937438965,
          11.059357643127441,
          11.093443870544434,
          11.082242965698242,
          11.234503746032715,
          11.324899673461914,
          11.603703498840332,
          11.529891967773438,
          11.770845413208008,
          11.786439895629883,
          11.801873207092285,
          11.906225204467773,
          0,
          0,
          0,
          0,
          0,
          0,
          0,
          0,
          0,
          0,
          0,
          0,
          0,
          0,
          0,
          0,
          0,
          0,
          0,
          0,
          0,
          0,
          0,
          0,
          0,
          0,
          0,
          0,
          0,
          0,
          0
         ],
         "yaxis": "y3"
        },
        {
         "name": "Moyenne 2.6 du mois Aug",
         "type": "scatter",
         "x": [
          2036,
          2037,
          2038,
          2039,
          2040,
          2041,
          2042,
          2043,
          2044,
          2045,
          2046,
          2047,
          2048,
          2049,
          2050,
          2051,
          2052,
          2053,
          2054,
          2055,
          2056,
          2057,
          2058,
          2059,
          2060,
          2061,
          2062,
          2063,
          2064,
          2065,
          2066,
          2067,
          2068,
          2069,
          2070,
          2071,
          2072,
          2073,
          2074,
          2075,
          2076,
          2077,
          2078,
          2079,
          2080,
          2081,
          2082,
          2083,
          2084,
          2085,
          2086,
          2087,
          2088,
          2089,
          2090,
          2091,
          2092,
          2093,
          2094,
          2095,
          2096,
          2097,
          2098,
          2099
         ],
         "xaxis": "x4",
         "y": [
          27.384855270385742,
          27.321460723876953,
          27.427799224853516,
          27.247541427612305,
          27.2698917388916,
          27.257909774780273,
          27.25636863708496,
          27.499290466308594,
          27.581575393676758,
          27.426895141601562,
          27.66455078125,
          27.695655822753906,
          27.92620849609375,
          28.12418556213379,
          28.04439926147461,
          28.062711715698242,
          28.159664154052734,
          28.09786033630371,
          28.062929153442383,
          28.205575942993164,
          28.308509826660156,
          28.1845760345459,
          28.2076473236084,
          28.280576705932617,
          28.308856964111328,
          28.53936767578125,
          28.665498733520508,
          28.49744415283203,
          28.455535888671875,
          28.6578369140625,
          28.636388778686523,
          28.597640991210938,
          28.490951538085938,
          28.66102409362793,
          28.53792953491211,
          28.598676681518555,
          28.73887062072754,
          28.64805793762207,
          28.71106719970703,
          28.727201461791992,
          28.57903480529785,
          28.628896713256836,
          28.546009063720703,
          28.514259338378906,
          28.54092025756836,
          28.61151695251465,
          28.63868522644043,
          28.628658294677734,
          28.679418563842773,
          28.640010833740234,
          28.584070205688477,
          28.593873977661133,
          28.458650588989258,
          28.370037078857422,
          28.38128089904785,
          28.158958435058594,
          28.14158058166504,
          28.00099754333496,
          28.065046310424805,
          28.073965072631836,
          28.143869400024414,
          28.190040588378906,
          28.1405029296875,
          28.173818588256836,
          0,
          0,
          0,
          0,
          0,
          0,
          0,
          0,
          0,
          0,
          0,
          0,
          0,
          0,
          0,
          0,
          0,
          0,
          0,
          0,
          0,
          0,
          0,
          0,
          0,
          0,
          0,
          0,
          0,
          0,
          0
         ],
         "yaxis": "y4"
        },
        {
         "name": "Tls moyenne 2.6 du mois Aug",
         "type": "scatter",
         "x": [
          2036,
          2037,
          2038,
          2039,
          2040,
          2041,
          2042,
          2043,
          2044,
          2045,
          2046,
          2047,
          2048,
          2049,
          2050,
          2051,
          2052,
          2053,
          2054,
          2055,
          2056,
          2057,
          2058,
          2059,
          2060,
          2061,
          2062,
          2063,
          2064,
          2065,
          2066,
          2067,
          2068,
          2069,
          2070,
          2071,
          2072,
          2073,
          2074,
          2075,
          2076,
          2077,
          2078,
          2079,
          2080,
          2081,
          2082,
          2083,
          2084,
          2085,
          2086,
          2087,
          2088,
          2089,
          2090,
          2091,
          2092,
          2093,
          2094,
          2095,
          2096,
          2097,
          2098,
          2099
         ],
         "xaxis": "x4",
         "y": [
          28.315383911132812,
          28.28463363647461,
          28.378389358520508,
          28.36981964111328,
          28.532804489135742,
          28.533628463745117,
          28.439794540405273,
          28.631813049316406,
          28.71424102783203,
          28.554550170898438,
          28.722942352294922,
          28.78789520263672,
          28.912151336669922,
          29.06168556213379,
          28.95705223083496,
          28.955686569213867,
          29.03577423095703,
          28.916913986206055,
          28.840314865112305,
          28.900306701660156,
          29.02631378173828,
          28.924665451049805,
          29.015602111816406,
          29.024118423461914,
          29.11501121520996,
          29.310583114624023,
          29.36827278137207,
          29.298280715942383,
          29.314542770385742,
          29.566804885864258,
          29.532920837402344,
          29.520139694213867,
          29.474273681640625,
          29.493410110473633,
          29.36675262451172,
          29.375024795532227,
          29.56765365600586,
          29.490446090698242,
          29.517974853515625,
          29.602340698242188,
          29.523500442504883,
          29.537405014038086,
          29.409719467163086,
          29.405168533325195,
          29.465795516967773,
          29.509571075439453,
          29.539066314697266,
          29.52326774597168,
          29.5603084564209,
          29.617544174194336,
          29.53531265258789,
          29.58092498779297,
          29.480104446411133,
          29.4216365814209,
          29.392805099487305,
          29.221073150634766,
          29.180822372436523,
          29.08142852783203,
          29.107606887817383,
          29.142526626586914,
          29.208358764648438,
          29.12629508972168,
          29.045595169067383,
          29.0804386138916,
          0,
          0,
          0,
          0,
          0,
          0,
          0,
          0,
          0,
          0,
          0,
          0,
          0,
          0,
          0,
          0,
          0,
          0,
          0,
          0,
          0,
          0,
          0,
          0,
          0,
          0,
          0,
          0,
          0,
          0,
          0
         ],
         "yaxis": "y4"
        },
        {
         "name": "Moyenne 4.5 du mois Aug",
         "type": "scatter",
         "x": [
          2036,
          2037,
          2038,
          2039,
          2040,
          2041,
          2042,
          2043,
          2044,
          2045,
          2046,
          2047,
          2048,
          2049,
          2050,
          2051,
          2052,
          2053,
          2054,
          2055,
          2056,
          2057,
          2058,
          2059,
          2060,
          2061,
          2062,
          2063,
          2064,
          2065,
          2066,
          2067,
          2068,
          2069,
          2070,
          2071,
          2072,
          2073,
          2074,
          2075,
          2076,
          2077,
          2078,
          2079,
          2080,
          2081,
          2082,
          2083,
          2084,
          2085,
          2086,
          2087,
          2088,
          2089,
          2090,
          2091,
          2092,
          2093,
          2094,
          2095,
          2096,
          2097,
          2098,
          2099
         ],
         "xaxis": "x5",
         "y": [
          28.126789093017578,
          28.163658142089844,
          27.988719940185547,
          28.190446853637695,
          28.28868293762207,
          28.31733512878418,
          28.14716148376465,
          28.37335968017578,
          28.38209342956543,
          28.326862335205078,
          28.5310115814209,
          28.573230743408203,
          28.609487533569336,
          28.586299896240234,
          28.488401412963867,
          28.5394344329834,
          28.467430114746094,
          28.43257713317871,
          28.20538902282715,
          28.139616012573242,
          28.202455520629883,
          28.066797256469727,
          28.096139907836914,
          28.119205474853516,
          28.288536071777344,
          28.321895599365234,
          28.319364547729492,
          28.466102600097656,
          28.364999771118164,
          28.07208251953125,
          28.203052520751953,
          28.18620491027832,
          28.313295364379883,
          28.32236099243164,
          28.233604431152344,
          28.15312957763672,
          28.417383193969727,
          28.491134643554688,
          28.589406967163086,
          28.649539947509766,
          28.44252586364746,
          28.514455795288086,
          28.54941177368164,
          28.75789451599121,
          28.862611770629883,
          28.905691146850586,
          29.063608169555664,
          29.174898147583008,
          29.449909210205078,
          29.510814666748047,
          29.49699592590332,
          29.80611801147461,
          29.64438819885254,
          29.663101196289062,
          29.776641845703125,
          30.036216735839844,
          30.074710845947266,
          29.918277740478516,
          29.906818389892578,
          30.077756881713867,
          29.980920791625977,
          30.13496971130371,
          30.227548599243164,
          30.07880210876465,
          0,
          0,
          0,
          0,
          0,
          0,
          0,
          0,
          0,
          0,
          0,
          0,
          0,
          0,
          0,
          0,
          0,
          0,
          0,
          0,
          0,
          0,
          0,
          0,
          0,
          0,
          0,
          0,
          0,
          0,
          0
         ],
         "yaxis": "y5"
        },
        {
         "name": "Tls moyenne 4.5 du mois Aug",
         "type": "scatter",
         "x": [
          2036,
          2037,
          2038,
          2039,
          2040,
          2041,
          2042,
          2043,
          2044,
          2045,
          2046,
          2047,
          2048,
          2049,
          2050,
          2051,
          2052,
          2053,
          2054,
          2055,
          2056,
          2057,
          2058,
          2059,
          2060,
          2061,
          2062,
          2063,
          2064,
          2065,
          2066,
          2067,
          2068,
          2069,
          2070,
          2071,
          2072,
          2073,
          2074,
          2075,
          2076,
          2077,
          2078,
          2079,
          2080,
          2081,
          2082,
          2083,
          2084,
          2085,
          2086,
          2087,
          2088,
          2089,
          2090,
          2091,
          2092,
          2093,
          2094,
          2095,
          2096,
          2097,
          2098,
          2099
         ],
         "xaxis": "x5",
         "y": [
          29.134870529174805,
          29.226581573486328,
          29.132160186767578,
          29.31463050842285,
          29.41176986694336,
          29.446264266967773,
          29.38315200805664,
          29.556270599365234,
          29.593795776367188,
          29.545198440551758,
          29.613786697387695,
          29.678007125854492,
          29.68815803527832,
          29.67750358581543,
          29.669055938720703,
          29.64366912841797,
          29.606422424316406,
          29.644412994384766,
          29.42973518371582,
          29.395723342895508,
          29.4560604095459,
          29.34064292907715,
          29.350088119506836,
          29.450773239135742,
          29.601640701293945,
          29.601177215576172,
          29.56348419189453,
          29.65456771850586,
          29.64154052734375,
          29.375083923339844,
          29.394081115722656,
          29.40305519104004,
          29.55327033996582,
          29.54414939880371,
          29.520137786865234,
          29.446378707885742,
          29.596757888793945,
          29.62441635131836,
          29.739887237548828,
          29.773820877075195,
          29.72332763671875,
          29.793554306030273,
          29.829736709594727,
          30.003023147583008,
          30.104061126708984,
          30.16664695739746,
          30.24547576904297,
          30.317209243774414,
          30.5230712890625,
          30.53901481628418,
          30.499160766601562,
          30.698698043823242,
          30.564186096191406,
          30.51774024963379,
          30.572044372558594,
          30.803205490112305,
          30.879535675048828,
          30.803197860717773,
          30.71230125427246,
          30.859418869018555,
          30.909374237060547,
          30.99146842956543,
          31.028888702392578,
          30.896060943603516,
          0,
          0,
          0,
          0,
          0,
          0,
          0,
          0,
          0,
          0,
          0,
          0,
          0,
          0,
          0,
          0,
          0,
          0,
          0,
          0,
          0,
          0,
          0,
          0,
          0,
          0,
          0,
          0,
          0,
          0,
          0
         ],
         "yaxis": "y5"
        },
        {
         "name": "Moyenne 8.5 du mois Aug",
         "type": "scatter",
         "x": [
          2036,
          2037,
          2038,
          2039,
          2040,
          2041,
          2042,
          2043,
          2044,
          2045,
          2046,
          2047,
          2048,
          2049,
          2050,
          2051,
          2052,
          2053,
          2054,
          2055,
          2056,
          2057,
          2058,
          2059,
          2060,
          2061,
          2062,
          2063,
          2064,
          2065,
          2066,
          2067,
          2068,
          2069,
          2070,
          2071,
          2072,
          2073,
          2074,
          2075,
          2076,
          2077,
          2078,
          2079,
          2080,
          2081,
          2082,
          2083,
          2084,
          2085,
          2086,
          2087,
          2088,
          2089,
          2090,
          2091,
          2092,
          2093,
          2094,
          2095,
          2096,
          2097,
          2098,
          2099
         ],
         "xaxis": "x6",
         "y": [
          28.039276123046875,
          27.942678451538086,
          27.85481834411621,
          27.760025024414062,
          27.59317970275879,
          27.726266860961914,
          27.808568954467773,
          27.955982208251953,
          28.01974868774414,
          28.048980712890625,
          28.174423217773438,
          28.25444221496582,
          28.401569366455078,
          28.206573486328125,
          28.25861167907715,
          28.316967010498047,
          28.38560676574707,
          28.375436782836914,
          28.507078170776367,
          28.588050842285156,
          28.832408905029297,
          28.99321937561035,
          29.15157699584961,
          29.244165420532227,
          29.213844299316406,
          29.368459701538086,
          29.469213485717773,
          29.466230392456055,
          29.519527435302734,
          29.690763473510742,
          29.71582794189453,
          29.873781204223633,
          29.937406539916992,
          30.137264251708984,
          30.323087692260742,
          30.401689529418945,
          30.437774658203125,
          30.33989143371582,
          30.450632095336914,
          30.455066680908203,
          30.512775421142578,
          30.659982681274414,
          30.918170928955078,
          31.17718505859375,
          31.41541862487793,
          31.451736450195312,
          31.574291229248047,
          31.728620529174805,
          31.739105224609375,
          31.858518600463867,
          31.88136863708496,
          31.866085052490234,
          31.98575210571289,
          32.11540603637695,
          32.36125946044922,
          32.46454620361328,
          32.588966369628906,
          32.7453727722168,
          32.73710632324219,
          32.74100875854492,
          32.78633499145508,
          32.92420196533203,
          33.13469696044922,
          33.3118896484375,
          0,
          0,
          0,
          0,
          0,
          0,
          0,
          0,
          0,
          0,
          0,
          0,
          0,
          0,
          0,
          0,
          0,
          0,
          0,
          0,
          0,
          0,
          0,
          0,
          0,
          0,
          0,
          0,
          0,
          0,
          0
         ],
         "yaxis": "y6"
        },
        {
         "name": "Moyenne 8.5 du mois Aug",
         "type": "scatter",
         "x": [
          2036,
          2037,
          2038,
          2039,
          2040,
          2041,
          2042,
          2043,
          2044,
          2045,
          2046,
          2047,
          2048,
          2049,
          2050,
          2051,
          2052,
          2053,
          2054,
          2055,
          2056,
          2057,
          2058,
          2059,
          2060,
          2061,
          2062,
          2063,
          2064,
          2065,
          2066,
          2067,
          2068,
          2069,
          2070,
          2071,
          2072,
          2073,
          2074,
          2075,
          2076,
          2077,
          2078,
          2079,
          2080,
          2081,
          2082,
          2083,
          2084,
          2085,
          2086,
          2087,
          2088,
          2089,
          2090,
          2091,
          2092,
          2093,
          2094,
          2095,
          2096,
          2097,
          2098,
          2099
         ],
         "xaxis": "x6",
         "y": [
          28.627016067504883,
          28.5245304107666,
          28.617752075195312,
          28.527528762817383,
          28.42197036743164,
          28.477169036865234,
          28.60234260559082,
          28.68707275390625,
          28.866605758666992,
          28.907583236694336,
          29.060033798217773,
          29.180994033813477,
          29.227842330932617,
          29.07452964782715,
          29.110855102539062,
          29.152992248535156,
          29.22815704345703,
          29.236614227294922,
          29.4030818939209,
          29.471290588378906,
          29.619407653808594,
          29.853567123413086,
          29.92108154296875,
          30.018953323364258,
          29.914003372192383,
          30.031017303466797,
          30.078895568847656,
          30.089534759521484,
          30.149934768676758,
          30.333959579467773,
          30.3623046875,
          30.548622131347656,
          30.58540916442871,
          30.762041091918945,
          30.88975715637207,
          30.96068000793457,
          30.930599212646484,
          30.950347900390625,
          31.037750244140625,
          31.02073860168457,
          31.037029266357422,
          31.1011905670166,
          31.348907470703125,
          31.596176147460938,
          31.815486907958984,
          31.912044525146484,
          31.982946395874023,
          32.090450286865234,
          32.05508804321289,
          32.13494873046875,
          32.122074127197266,
          32.047298431396484,
          32.20323181152344,
          32.24540328979492,
          32.474632263183594,
          32.5595817565918,
          32.67809295654297,
          32.74285125732422,
          32.72803497314453,
          32.79195785522461,
          32.888118743896484,
          32.958553314208984,
          33.07304000854492,
          33.25700378417969,
          0,
          0,
          0,
          0,
          0,
          0,
          0,
          0,
          0,
          0,
          0,
          0,
          0,
          0,
          0,
          0,
          0,
          0,
          0,
          0,
          0,
          0,
          0,
          0,
          0,
          0,
          0,
          0,
          0,
          0,
          0
         ],
         "yaxis": "y6"
        },
        {
         "name": "Moyenne 2.6 de l'année",
         "type": "scatter",
         "x": [
          2036,
          2037,
          2038,
          2039,
          2040,
          2041,
          2042,
          2043,
          2044,
          2045,
          2046,
          2047,
          2048,
          2049,
          2050,
          2051,
          2052,
          2053,
          2054,
          2055,
          2056,
          2057,
          2058,
          2059,
          2060,
          2061,
          2062,
          2063,
          2064,
          2065,
          2066,
          2067,
          2068,
          2069,
          2070,
          2071,
          2072,
          2073,
          2074,
          2075,
          2076,
          2077,
          2078,
          2079,
          2080,
          2081,
          2082,
          2083,
          2084,
          2085,
          2086,
          2087,
          2088,
          2089,
          2090,
          2091,
          2092,
          2093,
          2094,
          2095,
          2096,
          2097,
          2098,
          2099
         ],
         "xaxis": "x7",
         "y": [
          27.802431106567383,
          27.73903465270996,
          27.845373153686523,
          27.697978973388672,
          27.72032928466797,
          27.737773895263672,
          27.79375457763672,
          28.03271484375,
          28.03128433227539,
          27.876604080200195,
          28.114259719848633,
          28.094289779663086,
          28.312931060791016,
          28.510963439941406,
          28.431175231933594,
          28.449487686157227,
          28.56511688232422,
          28.504030227661133,
          28.469099044799805,
          28.637399673461914,
          28.740339279174805,
          28.549884796142578,
          28.572952270507812,
          28.645885467529297,
          28.674165725708008,
          28.94940185546875,
          29.075531005859375,
          28.990076065063477,
          29.018875122070312,
          29.221176147460938,
          29.097978591918945,
          29.128259658813477,
          29.031028747558594,
          29.181623458862305,
          29.15438461303711,
          29.18570327758789,
          29.26837730407715,
          29.26994514465332,
          29.33295440673828,
          29.349084854125977,
          29.212257385253906,
          29.274065017700195,
          29.192045211791992,
          29.160242080688477,
          29.186901092529297,
          29.286813735961914,
          29.295307159423828,
          29.28455924987793,
          29.33531951904297,
          29.30292510986328,
          29.24698257446289,
          29.262672424316406,
          29.29679298400879,
          29.208179473876953,
          29.21942710876465,
          28.952377319335938,
          28.935001373291016,
          28.77858543395996,
          28.771677017211914,
          28.780595779418945,
          28.810014724731445,
          28.78715705871582,
          28.812625885009766,
          28.846811294555664,
          0,
          0,
          0,
          0,
          0,
          0,
          0,
          0,
          0,
          0,
          0,
          0,
          0,
          0,
          0,
          0,
          0,
          0,
          0,
          0,
          0,
          0,
          0,
          0,
          0,
          0,
          0,
          0,
          0,
          0,
          0
         ],
         "yaxis": "y7"
        },
        {
         "name": "Tls moyenne 2.6 du mois All",
         "type": "scatter",
         "x": [
          2036,
          2037,
          2038,
          2039,
          2040,
          2041,
          2042,
          2043,
          2044,
          2045,
          2046,
          2047,
          2048,
          2049,
          2050,
          2051,
          2052,
          2053,
          2054,
          2055,
          2056,
          2057,
          2058,
          2059,
          2060,
          2061,
          2062,
          2063,
          2064,
          2065,
          2066,
          2067,
          2068,
          2069,
          2070,
          2071,
          2072,
          2073,
          2074,
          2075,
          2076,
          2077,
          2078,
          2079,
          2080,
          2081,
          2082,
          2083,
          2084,
          2085,
          2086,
          2087,
          2088,
          2089,
          2090,
          2091,
          2092,
          2093,
          2094,
          2095,
          2096,
          2097,
          2098,
          2099
         ],
         "xaxis": "x7",
         "y": [
          28.653980255126953,
          28.62322998046875,
          28.71698570251465,
          28.70841407775879,
          28.871400833129883,
          28.90026092529297,
          28.849740982055664,
          29.04175567626953,
          29.027179718017578,
          28.86748695373535,
          29.035879135131836,
          29.040752410888672,
          29.165006637573242,
          29.314542770385742,
          29.20990753173828,
          29.208541870117188,
          29.298463821411133,
          29.207202911376953,
          29.130603790283203,
          29.266836166381836,
          29.392841339111328,
          29.297658920288086,
          29.388595581054688,
          29.397111892700195,
          29.488006591796875,
          29.800861358642578,
          29.858551025390625,
          29.89699935913086,
          29.859233856201172,
          30.111494064331055,
          29.986360549926758,
          30.032487869262695,
          29.99039077758789,
          30.010528564453125,
          29.915739059448242,
          29.90747833251953,
          30.056793212890625,
          30.04978370666504,
          30.07731056213379,
          30.16167449951172,
          30.1165828704834,
          30.195554733276367,
          30.18256187438965,
          30.17800521850586,
          30.238632202148438,
          30.31984519958496,
          30.339508056640625,
          30.296104431152344,
          30.333152770996094,
          30.30531883239746,
          30.22308921813965,
          30.235897064208984,
          30.270200729370117,
          30.211732864379883,
          30.182903289794922,
          29.893890380859375,
          29.860214233398438,
          29.672609329223633,
          29.6987247467041,
          29.733646392822266,
          29.79947853088379,
          29.674591064453125,
          29.711994171142578,
          29.745834350585938,
          0,
          0,
          0,
          0,
          0,
          0,
          0,
          0,
          0,
          0,
          0,
          0,
          0,
          0,
          0,
          0,
          0,
          0,
          0,
          0,
          0,
          0,
          0,
          0,
          0,
          0,
          0,
          0,
          0,
          0,
          0
         ],
         "yaxis": "y7"
        },
        {
         "name": "Moyenne 4.5 de l'année",
         "type": "scatter",
         "x": [
          2036,
          2037,
          2038,
          2039,
          2040,
          2041,
          2042,
          2043,
          2044,
          2045,
          2046,
          2047,
          2048,
          2049,
          2050,
          2051,
          2052,
          2053,
          2054,
          2055,
          2056,
          2057,
          2058,
          2059,
          2060,
          2061,
          2062,
          2063,
          2064,
          2065,
          2066,
          2067,
          2068,
          2069,
          2070,
          2071,
          2072,
          2073,
          2074,
          2075,
          2076,
          2077,
          2078,
          2079,
          2080,
          2081,
          2082,
          2083,
          2084,
          2085,
          2086,
          2087,
          2088,
          2089,
          2090,
          2091,
          2092,
          2093,
          2094,
          2095,
          2096,
          2097,
          2098,
          2099
         ],
         "xaxis": "x8",
         "y": [
          28.56392478942871,
          28.610149383544922,
          28.435211181640625,
          28.636938095092773,
          28.81402587890625,
          28.862476348876953,
          28.695648193359375,
          29.051395416259766,
          29.060131072998047,
          28.88682746887207,
          29.063034057617188,
          29.105253219604492,
          29.141510009765625,
          29.09434700012207,
          28.961973190307617,
          28.9991512298584,
          28.927146911621094,
          28.892295837402344,
          28.70821189880371,
          28.642436981201172,
          28.696882247924805,
          28.760160446166992,
          28.789499282836914,
          28.971323013305664,
          29.012069702148438,
          29.04543113708496,
          29.04290199279785,
          29.189640045166016,
          29.08853530883789,
          28.880231857299805,
          29.060503005981445,
          29.122587203979492,
          29.24967384338379,
          29.258739471435547,
          29.091135025024414,
          28.990863800048828,
          29.231027603149414,
          29.11810302734375,
          29.21637725830078,
          29.276508331298828,
          29.294084548950195,
          29.366018295288086,
          29.412485122680664,
          29.620969772338867,
          29.725685119628906,
          29.76876449584961,
          29.929441452026367,
          30.040729522705078,
          30.27263832092285,
          30.39896583557129,
          30.44822120666504,
          30.55840492248535,
          30.396677017211914,
          30.25663185119629,
          30.370174407958984,
          30.62975311279297,
          30.66824722290039,
          30.554698944091797,
          30.581546783447266,
          30.772029876708984,
          30.689937591552734,
          30.82952880859375,
          30.92945671081543,
          30.929885864257812,
          0,
          0,
          0,
          0,
          0,
          0,
          0,
          0,
          0,
          0,
          0,
          0,
          0,
          0,
          0,
          0,
          0,
          0,
          0,
          0,
          0,
          0,
          0,
          0,
          0,
          0,
          0,
          0,
          0,
          0,
          0
         ],
         "yaxis": "y8"
        },
        {
         "name": "Tls moyenne 4.5 du mois All",
         "type": "scatter",
         "x": [
          2036,
          2037,
          2038,
          2039,
          2040,
          2041,
          2042,
          2043,
          2044,
          2045,
          2046,
          2047,
          2048,
          2049,
          2050,
          2051,
          2052,
          2053,
          2054,
          2055,
          2056,
          2057,
          2058,
          2059,
          2060,
          2061,
          2062,
          2063,
          2064,
          2065,
          2066,
          2067,
          2068,
          2069,
          2070,
          2071,
          2072,
          2073,
          2074,
          2075,
          2076,
          2077,
          2078,
          2079,
          2080,
          2081,
          2082,
          2083,
          2084,
          2085,
          2086,
          2087,
          2088,
          2089,
          2090,
          2091,
          2092,
          2093,
          2094,
          2095,
          2096,
          2097,
          2098,
          2099
         ],
         "xaxis": "x8",
         "y": [
          29.456592559814453,
          29.548303604125977,
          29.454761505126953,
          29.637235641479492,
          29.734373092651367,
          29.812334060668945,
          29.653959274291992,
          29.941701889038086,
          29.979228973388672,
          29.88320541381836,
          29.87021255493164,
          29.934432983398438,
          29.944581985473633,
          29.933929443359375,
          29.879404067993164,
          29.854013442993164,
          29.816770553588867,
          29.86432647705078,
          29.66373062133789,
          29.629716873168945,
          29.690061569213867,
          29.738767623901367,
          29.76189613342285,
          29.97201919555664,
          30.103843688964844,
          30.103376388549805,
          30.092111587524414,
          30.183197021484375,
          30.170169830322266,
          29.934106826782227,
          30.047367095947266,
          30.056344985961914,
          30.205677032470703,
          30.196556091308594,
          30.172544479370117,
          30.058374404907227,
          30.185409545898438,
          30.08961296081543,
          30.205081939697266,
          30.239015579223633,
          30.353986740112305,
          30.449758529663086,
          30.549291610717773,
          30.722572326660156,
          30.8236141204834,
          30.886198043823242,
          30.99488639831543,
          31.06103515625,
          31.2528133392334,
          31.32193374633789,
          31.36101722717285,
          31.39642333984375,
          31.279491424560547,
          31.123455047607422,
          31.261913299560547,
          31.493070602416992,
          31.542972564697266,
          31.47834587097168,
          31.42292022705078,
          31.6477108001709,
          31.61137580871582,
          31.712923049926758,
          31.750347137451172,
          31.775144577026367,
          0,
          0,
          0,
          0,
          0,
          0,
          0,
          0,
          0,
          0,
          0,
          0,
          0,
          0,
          0,
          0,
          0,
          0,
          0,
          0,
          0,
          0,
          0,
          0,
          0,
          0,
          0,
          0,
          0,
          0,
          0
         ],
         "yaxis": "y8"
        },
        {
         "name": "Moyenne 8.5 de l'année",
         "type": "scatter",
         "x": [
          2036,
          2037,
          2038,
          2039,
          2040,
          2041,
          2042,
          2043,
          2044,
          2045,
          2046,
          2047,
          2048,
          2049,
          2050,
          2051,
          2052,
          2053,
          2054,
          2055,
          2056,
          2057,
          2058,
          2059,
          2060,
          2061,
          2062,
          2063,
          2064,
          2065,
          2066,
          2067,
          2068,
          2069,
          2070,
          2071,
          2072,
          2073,
          2074,
          2075,
          2076,
          2077,
          2078,
          2079,
          2080,
          2081,
          2082,
          2083,
          2084,
          2085,
          2086,
          2087,
          2088,
          2089,
          2090,
          2091,
          2092,
          2093,
          2094,
          2095,
          2096,
          2097,
          2098,
          2099
         ],
         "xaxis": "x9",
         "y": [
          28.398033142089844,
          28.31039047241211,
          28.268098831176758,
          28.17330551147461,
          28.00149917602539,
          28.134584426879883,
          28.21688461303711,
          28.364301681518555,
          28.37948226928711,
          28.408716201782227,
          28.490962982177734,
          28.570981979370117,
          28.647933959960938,
          28.550350189208984,
          28.60238265991211,
          28.660741806030273,
          28.748586654663086,
          28.73841667175293,
          28.870054244995117,
          28.951030731201172,
          29.13491439819336,
          29.294044494628906,
          29.428133010864258,
          29.52071762084961,
          29.48415184020996,
          29.656991958618164,
          29.75774383544922,
          29.848365783691406,
          29.941055297851562,
          30.11229133605957,
          30.057491302490234,
          30.206491470336914,
          30.23000717163086,
          30.429868698120117,
          30.615690231323242,
          30.694292068481445,
          30.751073837280273,
          30.65319061279297,
          30.752029418945312,
          30.84468650817871,
          30.902395248413086,
          31.049602508544922,
          31.30778694152832,
          31.5010929107666,
          31.739330291748047,
          31.775644302368164,
          31.881004333496094,
          32.06195831298828,
          32.07244110107422,
          32.19185256958008,
          32.229183197021484,
          32.21053695678711,
          32.33020782470703,
          32.45985794067383,
          32.70571517944336,
          32.795345306396484,
          32.91976547241211,
          32.98257064819336,
          32.934913635253906,
          32.988094329833984,
          33.10615158081055,
          33.30543899536133,
          33.51047897338867,
          33.6885986328125,
          0,
          0,
          0,
          0,
          0,
          0,
          0,
          0,
          0,
          0,
          0,
          0,
          0,
          0,
          0,
          0,
          0,
          0,
          0,
          0,
          0,
          0,
          0,
          0,
          0,
          0,
          0,
          0,
          0,
          0,
          0
         ],
         "yaxis": "y9"
        },
        {
         "name": "Moyenne 8.5 du mois All",
         "type": "scatter",
         "x": [
          2036,
          2037,
          2038,
          2039,
          2040,
          2041,
          2042,
          2043,
          2044,
          2045,
          2046,
          2047,
          2048,
          2049,
          2050,
          2051,
          2052,
          2053,
          2054,
          2055,
          2056,
          2057,
          2058,
          2059,
          2060,
          2061,
          2062,
          2063,
          2064,
          2065,
          2066,
          2067,
          2068,
          2069,
          2070,
          2071,
          2072,
          2073,
          2074,
          2075,
          2076,
          2077,
          2078,
          2079,
          2080,
          2081,
          2082,
          2083,
          2084,
          2085,
          2086,
          2087,
          2088,
          2089,
          2090,
          2091,
          2092,
          2093,
          2094,
          2095,
          2096,
          2097,
          2098,
          2099
         ],
         "xaxis": "x9",
         "y": [
          28.887920379638672,
          28.794212341308594,
          28.925168991088867,
          28.834943771362305,
          28.729387283325195,
          28.784584045410156,
          28.909759521484375,
          28.994489669799805,
          29.110326766967773,
          29.151302337646484,
          29.29564094543457,
          29.401384353637695,
          29.4459228515625,
          29.383323669433594,
          29.419647216796875,
          29.4617919921875,
          29.610366821289062,
          29.61882209777832,
          29.785289764404297,
          29.857812881469727,
          30.005931854248047,
          30.240087509155273,
          30.307601928710938,
          30.398405075073242,
          30.293453216552734,
          30.435630798339844,
          30.48350715637207,
          30.536592483520508,
          30.62175178527832,
          30.79485321044922,
          30.74138832092285,
          30.91892433166504,
          30.945215225219727,
          31.121849060058594,
          31.24956512451172,
          31.32048988342285,
          31.31509780883789,
          31.334840774536133,
          31.4222469329834,
          31.474037170410156,
          31.512441635131836,
          31.58606719970703,
          31.832422256469727,
          32.012351989746094,
          32.23166275024414,
          32.32822036743164,
          32.38876724243164,
          32.51101303100586,
          32.488704681396484,
          32.564247131347656,
          32.56632614135742,
          32.592445373535156,
          32.74837875366211,
          32.81732177734375,
          33.04655075073242,
          33.1257209777832,
          33.244232177734375,
          33.28445816040039,
          33.2459716796875,
          33.33007049560547,
          33.473785400390625,
          33.6197624206543,
          33.70700454711914,
          33.890968322753906,
          0,
          0,
          0,
          0,
          0,
          0,
          0,
          0,
          0,
          0,
          0,
          0,
          0,
          0,
          0,
          0,
          0,
          0,
          0,
          0,
          0,
          0,
          0,
          0,
          0,
          0,
          0,
          0,
          0,
          0,
          0
         ],
         "yaxis": "y9"
        }
       ],
       "layout": {
        "annotations": [
         {
          "font": {
           "size": 16
          },
          "showarrow": false,
          "text": "<i>Scén. 2.6 janvier</i>",
          "x": 0.14444444444444446,
          "xanchor": "center",
          "xref": "paper",
          "y": 1,
          "yanchor": "bottom",
          "yref": "paper"
         },
         {
          "font": {
           "size": 16
          },
          "showarrow": false,
          "text": "<i>Scén. 4.5 janvier</i>",
          "x": 0.5,
          "xanchor": "center",
          "xref": "paper",
          "y": 1,
          "yanchor": "bottom",
          "yref": "paper"
         },
         {
          "font": {
           "size": 16
          },
          "showarrow": false,
          "text": "<i>Scén.8.5 janvier</i>",
          "x": 0.8555555555555556,
          "xanchor": "center",
          "xref": "paper",
          "y": 1,
          "yanchor": "bottom",
          "yref": "paper"
         },
         {
          "font": {
           "size": 16
          },
          "showarrow": false,
          "text": "<i>Scén. 2.6 aout</i>",
          "x": 0.14444444444444446,
          "xanchor": "center",
          "xref": "paper",
          "y": 0.6111111111111112,
          "yanchor": "bottom",
          "yref": "paper"
         },
         {
          "font": {
           "size": 16
          },
          "showarrow": false,
          "text": "<i>Scén. 4.5 aout</i>",
          "x": 0.5,
          "xanchor": "center",
          "xref": "paper",
          "y": 0.6111111111111112,
          "yanchor": "bottom",
          "yref": "paper"
         },
         {
          "font": {
           "size": 16
          },
          "showarrow": false,
          "text": "<i>Scén. 8.5 aout</i>",
          "x": 0.8555555555555556,
          "xanchor": "center",
          "xref": "paper",
          "y": 0.6111111111111112,
          "yanchor": "bottom",
          "yref": "paper"
         },
         {
          "font": {
           "size": 16
          },
          "showarrow": false,
          "text": "<i>Scén. 2.6 année</i>",
          "x": 0.14444444444444446,
          "xanchor": "center",
          "xref": "paper",
          "y": 0.22222222222222224,
          "yanchor": "bottom",
          "yref": "paper"
         },
         {
          "font": {
           "size": 16
          },
          "showarrow": false,
          "text": "<i>Scén. 4.5 année</i>",
          "x": 0.5,
          "xanchor": "center",
          "xref": "paper",
          "y": 0.22222222222222224,
          "yanchor": "bottom",
          "yref": "paper"
         },
         {
          "font": {
           "size": 16
          },
          "showarrow": false,
          "text": "<i>Scén. 8.5 année</i>",
          "x": 0.8555555555555556,
          "xanchor": "center",
          "xref": "paper",
          "y": 0.22222222222222224,
          "yanchor": "bottom",
          "yref": "paper"
         }
        ],
        "autosize": false,
        "height": 1200,
        "legend": {
         "orientation": "h"
        },
        "margin": {
         "b": 50,
         "l": 60,
         "r": 30,
         "t": 50
        },
        "template": {
         "data": {
          "bar": [
           {
            "error_x": {
             "color": "#2a3f5f"
            },
            "error_y": {
             "color": "#2a3f5f"
            },
            "marker": {
             "line": {
              "color": "#E5ECF6",
              "width": 0.5
             }
            },
            "type": "bar"
           }
          ],
          "barpolar": [
           {
            "marker": {
             "line": {
              "color": "#E5ECF6",
              "width": 0.5
             }
            },
            "type": "barpolar"
           }
          ],
          "carpet": [
           {
            "aaxis": {
             "endlinecolor": "#2a3f5f",
             "gridcolor": "white",
             "linecolor": "white",
             "minorgridcolor": "white",
             "startlinecolor": "#2a3f5f"
            },
            "baxis": {
             "endlinecolor": "#2a3f5f",
             "gridcolor": "white",
             "linecolor": "white",
             "minorgridcolor": "white",
             "startlinecolor": "#2a3f5f"
            },
            "type": "carpet"
           }
          ],
          "choropleth": [
           {
            "colorbar": {
             "outlinewidth": 0,
             "ticks": ""
            },
            "type": "choropleth"
           }
          ],
          "contour": [
           {
            "colorbar": {
             "outlinewidth": 0,
             "ticks": ""
            },
            "colorscale": [
             [
              0,
              "#0d0887"
             ],
             [
              0.1111111111111111,
              "#46039f"
             ],
             [
              0.2222222222222222,
              "#7201a8"
             ],
             [
              0.3333333333333333,
              "#9c179e"
             ],
             [
              0.4444444444444444,
              "#bd3786"
             ],
             [
              0.5555555555555556,
              "#d8576b"
             ],
             [
              0.6666666666666666,
              "#ed7953"
             ],
             [
              0.7777777777777778,
              "#fb9f3a"
             ],
             [
              0.8888888888888888,
              "#fdca26"
             ],
             [
              1,
              "#f0f921"
             ]
            ],
            "type": "contour"
           }
          ],
          "contourcarpet": [
           {
            "colorbar": {
             "outlinewidth": 0,
             "ticks": ""
            },
            "type": "contourcarpet"
           }
          ],
          "heatmap": [
           {
            "colorbar": {
             "outlinewidth": 0,
             "ticks": ""
            },
            "colorscale": [
             [
              0,
              "#0d0887"
             ],
             [
              0.1111111111111111,
              "#46039f"
             ],
             [
              0.2222222222222222,
              "#7201a8"
             ],
             [
              0.3333333333333333,
              "#9c179e"
             ],
             [
              0.4444444444444444,
              "#bd3786"
             ],
             [
              0.5555555555555556,
              "#d8576b"
             ],
             [
              0.6666666666666666,
              "#ed7953"
             ],
             [
              0.7777777777777778,
              "#fb9f3a"
             ],
             [
              0.8888888888888888,
              "#fdca26"
             ],
             [
              1,
              "#f0f921"
             ]
            ],
            "type": "heatmap"
           }
          ],
          "heatmapgl": [
           {
            "colorbar": {
             "outlinewidth": 0,
             "ticks": ""
            },
            "colorscale": [
             [
              0,
              "#0d0887"
             ],
             [
              0.1111111111111111,
              "#46039f"
             ],
             [
              0.2222222222222222,
              "#7201a8"
             ],
             [
              0.3333333333333333,
              "#9c179e"
             ],
             [
              0.4444444444444444,
              "#bd3786"
             ],
             [
              0.5555555555555556,
              "#d8576b"
             ],
             [
              0.6666666666666666,
              "#ed7953"
             ],
             [
              0.7777777777777778,
              "#fb9f3a"
             ],
             [
              0.8888888888888888,
              "#fdca26"
             ],
             [
              1,
              "#f0f921"
             ]
            ],
            "type": "heatmapgl"
           }
          ],
          "histogram": [
           {
            "marker": {
             "colorbar": {
              "outlinewidth": 0,
              "ticks": ""
             }
            },
            "type": "histogram"
           }
          ],
          "histogram2d": [
           {
            "colorbar": {
             "outlinewidth": 0,
             "ticks": ""
            },
            "colorscale": [
             [
              0,
              "#0d0887"
             ],
             [
              0.1111111111111111,
              "#46039f"
             ],
             [
              0.2222222222222222,
              "#7201a8"
             ],
             [
              0.3333333333333333,
              "#9c179e"
             ],
             [
              0.4444444444444444,
              "#bd3786"
             ],
             [
              0.5555555555555556,
              "#d8576b"
             ],
             [
              0.6666666666666666,
              "#ed7953"
             ],
             [
              0.7777777777777778,
              "#fb9f3a"
             ],
             [
              0.8888888888888888,
              "#fdca26"
             ],
             [
              1,
              "#f0f921"
             ]
            ],
            "type": "histogram2d"
           }
          ],
          "histogram2dcontour": [
           {
            "colorbar": {
             "outlinewidth": 0,
             "ticks": ""
            },
            "colorscale": [
             [
              0,
              "#0d0887"
             ],
             [
              0.1111111111111111,
              "#46039f"
             ],
             [
              0.2222222222222222,
              "#7201a8"
             ],
             [
              0.3333333333333333,
              "#9c179e"
             ],
             [
              0.4444444444444444,
              "#bd3786"
             ],
             [
              0.5555555555555556,
              "#d8576b"
             ],
             [
              0.6666666666666666,
              "#ed7953"
             ],
             [
              0.7777777777777778,
              "#fb9f3a"
             ],
             [
              0.8888888888888888,
              "#fdca26"
             ],
             [
              1,
              "#f0f921"
             ]
            ],
            "type": "histogram2dcontour"
           }
          ],
          "mesh3d": [
           {
            "colorbar": {
             "outlinewidth": 0,
             "ticks": ""
            },
            "type": "mesh3d"
           }
          ],
          "parcoords": [
           {
            "line": {
             "colorbar": {
              "outlinewidth": 0,
              "ticks": ""
             }
            },
            "type": "parcoords"
           }
          ],
          "scatter": [
           {
            "marker": {
             "colorbar": {
              "outlinewidth": 0,
              "ticks": ""
             }
            },
            "type": "scatter"
           }
          ],
          "scatter3d": [
           {
            "line": {
             "colorbar": {
              "outlinewidth": 0,
              "ticks": ""
             }
            },
            "marker": {
             "colorbar": {
              "outlinewidth": 0,
              "ticks": ""
             }
            },
            "type": "scatter3d"
           }
          ],
          "scattercarpet": [
           {
            "marker": {
             "colorbar": {
              "outlinewidth": 0,
              "ticks": ""
             }
            },
            "type": "scattercarpet"
           }
          ],
          "scattergeo": [
           {
            "marker": {
             "colorbar": {
              "outlinewidth": 0,
              "ticks": ""
             }
            },
            "type": "scattergeo"
           }
          ],
          "scattergl": [
           {
            "marker": {
             "colorbar": {
              "outlinewidth": 0,
              "ticks": ""
             }
            },
            "type": "scattergl"
           }
          ],
          "scattermapbox": [
           {
            "marker": {
             "colorbar": {
              "outlinewidth": 0,
              "ticks": ""
             }
            },
            "type": "scattermapbox"
           }
          ],
          "scatterpolar": [
           {
            "marker": {
             "colorbar": {
              "outlinewidth": 0,
              "ticks": ""
             }
            },
            "type": "scatterpolar"
           }
          ],
          "scatterpolargl": [
           {
            "marker": {
             "colorbar": {
              "outlinewidth": 0,
              "ticks": ""
             }
            },
            "type": "scatterpolargl"
           }
          ],
          "scatterternary": [
           {
            "marker": {
             "colorbar": {
              "outlinewidth": 0,
              "ticks": ""
             }
            },
            "type": "scatterternary"
           }
          ],
          "surface": [
           {
            "colorbar": {
             "outlinewidth": 0,
             "ticks": ""
            },
            "colorscale": [
             [
              0,
              "#0d0887"
             ],
             [
              0.1111111111111111,
              "#46039f"
             ],
             [
              0.2222222222222222,
              "#7201a8"
             ],
             [
              0.3333333333333333,
              "#9c179e"
             ],
             [
              0.4444444444444444,
              "#bd3786"
             ],
             [
              0.5555555555555556,
              "#d8576b"
             ],
             [
              0.6666666666666666,
              "#ed7953"
             ],
             [
              0.7777777777777778,
              "#fb9f3a"
             ],
             [
              0.8888888888888888,
              "#fdca26"
             ],
             [
              1,
              "#f0f921"
             ]
            ],
            "type": "surface"
           }
          ],
          "table": [
           {
            "cells": {
             "fill": {
              "color": "#EBF0F8"
             },
             "line": {
              "color": "white"
             }
            },
            "header": {
             "fill": {
              "color": "#C8D4E3"
             },
             "line": {
              "color": "white"
             }
            },
            "type": "table"
           }
          ]
         },
         "layout": {
          "annotationdefaults": {
           "arrowcolor": "#2a3f5f",
           "arrowhead": 0,
           "arrowwidth": 1
          },
          "colorscale": {
           "diverging": [
            [
             0,
             "#8e0152"
            ],
            [
             0.1,
             "#c51b7d"
            ],
            [
             0.2,
             "#de77ae"
            ],
            [
             0.3,
             "#f1b6da"
            ],
            [
             0.4,
             "#fde0ef"
            ],
            [
             0.5,
             "#f7f7f7"
            ],
            [
             0.6,
             "#e6f5d0"
            ],
            [
             0.7,
             "#b8e186"
            ],
            [
             0.8,
             "#7fbc41"
            ],
            [
             0.9,
             "#4d9221"
            ],
            [
             1,
             "#276419"
            ]
           ],
           "sequential": [
            [
             0,
             "#0d0887"
            ],
            [
             0.1111111111111111,
             "#46039f"
            ],
            [
             0.2222222222222222,
             "#7201a8"
            ],
            [
             0.3333333333333333,
             "#9c179e"
            ],
            [
             0.4444444444444444,
             "#bd3786"
            ],
            [
             0.5555555555555556,
             "#d8576b"
            ],
            [
             0.6666666666666666,
             "#ed7953"
            ],
            [
             0.7777777777777778,
             "#fb9f3a"
            ],
            [
             0.8888888888888888,
             "#fdca26"
            ],
            [
             1,
             "#f0f921"
            ]
           ],
           "sequentialminus": [
            [
             0,
             "#0d0887"
            ],
            [
             0.1111111111111111,
             "#46039f"
            ],
            [
             0.2222222222222222,
             "#7201a8"
            ],
            [
             0.3333333333333333,
             "#9c179e"
            ],
            [
             0.4444444444444444,
             "#bd3786"
            ],
            [
             0.5555555555555556,
             "#d8576b"
            ],
            [
             0.6666666666666666,
             "#ed7953"
            ],
            [
             0.7777777777777778,
             "#fb9f3a"
            ],
            [
             0.8888888888888888,
             "#fdca26"
            ],
            [
             1,
             "#f0f921"
            ]
           ]
          },
          "colorway": [
           "#636efa",
           "#EF553B",
           "#00cc96",
           "#ab63fa",
           "#FFA15A",
           "#19d3f3",
           "#FF6692",
           "#B6E880",
           "#FF97FF",
           "#FECB52"
          ],
          "font": {
           "color": "#2a3f5f"
          },
          "geo": {
           "bgcolor": "white",
           "lakecolor": "white",
           "landcolor": "#E5ECF6",
           "showlakes": true,
           "showland": true,
           "subunitcolor": "white"
          },
          "hoverlabel": {
           "align": "left"
          },
          "hovermode": "closest",
          "mapbox": {
           "style": "light"
          },
          "paper_bgcolor": "white",
          "plot_bgcolor": "#E5ECF6",
          "polar": {
           "angularaxis": {
            "gridcolor": "white",
            "linecolor": "white",
            "ticks": ""
           },
           "bgcolor": "#E5ECF6",
           "radialaxis": {
            "gridcolor": "white",
            "linecolor": "white",
            "ticks": ""
           }
          },
          "scene": {
           "xaxis": {
            "backgroundcolor": "#E5ECF6",
            "gridcolor": "white",
            "gridwidth": 2,
            "linecolor": "white",
            "showbackground": true,
            "ticks": "",
            "zerolinecolor": "white"
           },
           "yaxis": {
            "backgroundcolor": "#E5ECF6",
            "gridcolor": "white",
            "gridwidth": 2,
            "linecolor": "white",
            "showbackground": true,
            "ticks": "",
            "zerolinecolor": "white"
           },
           "zaxis": {
            "backgroundcolor": "#E5ECF6",
            "gridcolor": "white",
            "gridwidth": 2,
            "linecolor": "white",
            "showbackground": true,
            "ticks": "",
            "zerolinecolor": "white"
           }
          },
          "shapedefaults": {
           "line": {
            "color": "#2a3f5f"
           }
          },
          "ternary": {
           "aaxis": {
            "gridcolor": "white",
            "linecolor": "white",
            "ticks": ""
           },
           "baxis": {
            "gridcolor": "white",
            "linecolor": "white",
            "ticks": ""
           },
           "bgcolor": "#E5ECF6",
           "caxis": {
            "gridcolor": "white",
            "linecolor": "white",
            "ticks": ""
           }
          },
          "title": {
           "x": 0.05
          },
          "xaxis": {
           "automargin": true,
           "gridcolor": "white",
           "linecolor": "white",
           "ticks": "",
           "zerolinecolor": "white",
           "zerolinewidth": 2
          },
          "yaxis": {
           "automargin": true,
           "gridcolor": "white",
           "linecolor": "white",
           "ticks": "",
           "zerolinecolor": "white",
           "zerolinewidth": 2
          }
         }
        },
        "title": {
         "text": "<b>Températures maximales Lyon moyennées sur 30 ans<b>"
        },
        "width": 1000,
        "xaxis": {
         "anchor": "y",
         "autorange": true,
         "domain": [
          0,
          0.2888888888888889
         ],
         "range": [
          2036,
          2099
         ],
         "title": {
          "text": "Année"
         },
         "type": "linear"
        },
        "xaxis2": {
         "anchor": "y2",
         "autorange": true,
         "domain": [
          0.35555555555555557,
          0.6444444444444445
         ],
         "range": [
          2036,
          2099
         ],
         "title": {
          "text": "Année"
         },
         "type": "linear"
        },
        "xaxis3": {
         "anchor": "y3",
         "autorange": true,
         "domain": [
          0.7111111111111111,
          1
         ],
         "range": [
          2036,
          2099
         ],
         "title": {
          "text": "Année"
         },
         "type": "linear"
        },
        "xaxis4": {
         "anchor": "y4",
         "autorange": true,
         "domain": [
          0,
          0.2888888888888889
         ],
         "range": [
          2036,
          2099
         ],
         "title": {
          "text": "Année"
         },
         "type": "linear"
        },
        "xaxis5": {
         "anchor": "y5",
         "autorange": true,
         "domain": [
          0.35555555555555557,
          0.6444444444444445
         ],
         "range": [
          2036,
          2099
         ],
         "title": {
          "text": "Année"
         },
         "type": "linear"
        },
        "xaxis6": {
         "anchor": "y6",
         "autorange": true,
         "domain": [
          0.7111111111111111,
          1
         ],
         "range": [
          2036,
          2099
         ],
         "title": {
          "text": "Année"
         },
         "type": "linear"
        },
        "xaxis7": {
         "anchor": "y7",
         "autorange": true,
         "domain": [
          0,
          0.2888888888888889
         ],
         "range": [
          2036,
          2099
         ],
         "title": {
          "text": "Année"
         },
         "type": "linear"
        },
        "xaxis8": {
         "anchor": "y8",
         "autorange": true,
         "domain": [
          0.35555555555555557,
          0.6444444444444445
         ],
         "range": [
          2036,
          2099
         ],
         "title": {
          "text": "Année"
         },
         "type": "linear"
        },
        "xaxis9": {
         "anchor": "y9",
         "autorange": true,
         "domain": [
          0.7111111111111111,
          1
         ],
         "range": [
          2036,
          2099
         ],
         "title": {
          "text": "Année"
         },
         "type": "linear"
        },
        "yaxis": {
         "anchor": "x",
         "domain": [
          0.7777777777777778,
          1
         ],
         "range": [
          4,
          13
         ],
         "title": {
          "text": "Degrés C"
         },
         "type": "linear"
        },
        "yaxis2": {
         "anchor": "x2",
         "domain": [
          0.7777777777777778,
          1
         ],
         "range": [
          4,
          13
         ],
         "title": {
          "text": "Degrés C"
         },
         "type": "linear"
        },
        "yaxis3": {
         "anchor": "x3",
         "domain": [
          0.7777777777777778,
          1
         ],
         "range": [
          4,
          13
         ],
         "title": {
          "text": "Degrés C"
         },
         "type": "linear"
        },
        "yaxis4": {
         "anchor": "x4",
         "domain": [
          0.3888888888888889,
          0.6111111111111112
         ],
         "range": [
          27,
          34
         ],
         "title": {
          "text": "Degrés C"
         },
         "type": "linear"
        },
        "yaxis5": {
         "anchor": "x5",
         "domain": [
          0.3888888888888889,
          0.6111111111111112
         ],
         "range": [
          27,
          34
         ],
         "title": {
          "text": "Degrés C"
         },
         "type": "linear"
        },
        "yaxis6": {
         "anchor": "x6",
         "domain": [
          0.3888888888888889,
          0.6111111111111112
         ],
         "range": [
          27,
          34
         ],
         "title": {
          "text": "Degrés C"
         },
         "type": "linear"
        },
        "yaxis7": {
         "anchor": "x7",
         "domain": [
          0,
          0.22222222222222224
         ],
         "range": [
          27,
          34
         ],
         "title": {
          "text": "Degrés C"
         },
         "type": "linear"
        },
        "yaxis8": {
         "anchor": "x8",
         "domain": [
          0,
          0.22222222222222224
         ],
         "range": [
          27,
          34
         ],
         "title": {
          "text": "Degrés C"
         },
         "type": "linear"
        },
        "yaxis9": {
         "anchor": "x9",
         "domain": [
          0,
          0.22222222222222224
         ],
         "range": [
          27,
          34
         ],
         "title": {
          "text": "Degrés C"
         },
         "type": "linear"
        }
       }
      },
      "image/png": "[encoded data removed]",
      "text/html": [
       "<div>\n",
       "        \n",
       "        \n",
       "            <div id=\"aab69016-9c1b-452b-9b24-f9cc709c5522\" class=\"plotly-graph-div\" style=\"height:1200px; width:1000px;\"></div>\n",
       "            <script type=\"text/javascript\">\n",
       "                require([\"plotly\"], function(Plotly) {\n",
       "                    window.PLOTLYENV=window.PLOTLYENV || {};\n",
       "                    \n",
       "                if (document.getElementById(\"aab69016-9c1b-452b-9b24-f9cc709c5522\")) {\n",
       "                    Plotly.newPlot(\n",
       "                        'aab69016-9c1b-452b-9b24-f9cc709c5522',\n",
       "                        [{\"name\": \"Lyon oyenne 2.6 du mois Jan\", \"type\": \"scatter\", \"x\": [2036, 2037, 2038, 2039, 2040, 2041, 2042, 2043, 2044, 2045, 2046, 2047, 2048, 2049, 2050, 2051, 2052, 2053, 2054, 2055, 2056, 2057, 2058, 2059, 2060, 2061, 2062, 2063, 2064, 2065, 2066, 2067, 2068, 2069, 2070, 2071, 2072, 2073, 2074, 2075, 2076, 2077, 2078, 2079, 2080, 2081, 2082, 2083, 2084, 2085, 2086, 2087, 2088, 2089, 2090, 2091, 2092, 2093, 2094, 2095, 2096, 2097, 2098, 2099], \"xaxis\": \"x\", \"y\": [5.386150360107422, 5.477141380310059, 5.386490345001221, 5.457263946533203, 5.399481773376465, 5.584441184997559, 5.4670090675354, 5.210026741027832, 5.174244403839111, 5.128688335418701, 5.139581680297852, 5.071315288543701, 5.139779090881348, 4.973639965057373, 5.026540279388428, 4.969625473022461, 5.050154685974121, 4.967684268951416, 5.259434223175049, 5.385748863220215, 5.4518327713012695, 5.411232948303223, 5.4849982261657715, 5.709554195404053, 5.745382785797119, 5.924164295196533, 5.991814136505127, 5.977148056030273, 5.854031562805176, 5.953263282775879, 5.886383533477783, 5.909271240234375, 5.777011394500732, 5.854936122894287, 5.873520374298096, 5.85138463973999, 6.042550086975098, 6.124064922332764, 6.1565327644348145, 6.295586109161377, 6.282838821411133, 6.199403285980225, 5.928366184234619, 6.088820934295654, 6.062967300415039, 6.283125400543213, 6.406485557556152, 6.307490348815918, 6.199167728424072, 6.0577239990234375, 6.071258544921875, 6.071818828582764, 6.122203350067139, 6.002092361450195, 5.912613391876221, 6.011442184448242, 6.242125034332275, 6.026217937469482, 6.313873291015625, 6.3342719078063965, 6.354368209838867, 6.240656852722168, 6.42692232131958, 6.534165382385254, 0.0, 0.0, 0.0, 0.0, 0.0, 0.0, 0.0, 0.0, 0.0, 0.0, 0.0, 0.0, 0.0, 0.0, 0.0, 0.0, 0.0, 0.0, 0.0, 0.0, 0.0, 0.0, 0.0, 0.0, 0.0, 0.0, 0.0, 0.0, 0.0, 0.0, 0.0], \"yaxis\": \"y\"}, {\"name\": \"Tls moyenne 2.6 du mois Jan\", \"type\": \"scatter\", \"x\": [2036, 2037, 2038, 2039, 2040, 2041, 2042, 2043, 2044, 2045, 2046, 2047, 2048, 2049, 2050, 2051, 2052, 2053, 2054, 2055, 2056, 2057, 2058, 2059, 2060, 2061, 2062, 2063, 2064, 2065, 2066, 2067, 2068, 2069, 2070, 2071, 2072, 2073, 2074, 2075, 2076, 2077, 2078, 2079, 2080, 2081, 2082, 2083, 2084, 2085, 2086, 2087, 2088, 2089, 2090, 2091, 2092, 2093, 2094, 2095, 2096, 2097, 2098, 2099], \"xaxis\": \"x\", \"y\": [8.94485855102539, 9.07922077178955, 8.993371963500977, 8.987469673156738, 8.901383399963379, 9.038625717163086, 8.893330574035645, 8.719688415527344, 8.621516227722168, 8.592198371887207, 8.575969696044922, 8.522064208984375, 8.59089469909668, 8.496800422668457, 8.507843971252441, 8.453868865966797, 8.483819007873535, 8.402379035949707, 8.714922904968262, 8.804740905761719, 8.906726837158203, 8.8755464553833, 8.930146217346191, 9.049641609191895, 9.089763641357422, 9.238469123840332, 9.294001579284668, 9.241503715515137, 9.17829418182373, 9.236457824707031, 9.195521354675293, 9.174161911010742, 9.12559986114502, 9.225615501403809, 9.287752151489258, 9.219369888305664, 9.422039031982422, 9.492504119873047, 9.539966583251953, 9.611153602600098, 9.584455490112305, 9.507646560668945, 9.312573432922363, 9.380714416503906, 9.326295852661133, 9.524450302124023, 9.639690399169922, 9.508376121520996, 9.360953330993652, 9.29200267791748, 9.237592697143555, 9.271939277648926, 9.29615592956543, 9.253987312316895, 9.137619018554688, 9.2014741897583, 9.357574462890625, 9.229047775268555, 9.406153678894043, 9.471818923950195, 9.548151016235352, 9.436237335205078, 9.526570320129395, 9.615522384643555, 0.0, 0.0, 0.0, 0.0, 0.0, 0.0, 0.0, 0.0, 0.0, 0.0, 0.0, 0.0, 0.0, 0.0, 0.0, 0.0, 0.0, 0.0, 0.0, 0.0, 0.0, 0.0, 0.0, 0.0, 0.0, 0.0, 0.0, 0.0, 0.0, 0.0, 0.0], \"yaxis\": \"y\"}, {\"name\": \"Lyon moyenne 4.5 du mois Jan\", \"type\": \"scatter\", \"x\": [2036, 2037, 2038, 2039, 2040, 2041, 2042, 2043, 2044, 2045, 2046, 2047, 2048, 2049, 2050, 2051, 2052, 2053, 2054, 2055, 2056, 2057, 2058, 2059, 2060, 2061, 2062, 2063, 2064, 2065, 2066, 2067, 2068, 2069, 2070, 2071, 2072, 2073, 2074, 2075, 2076, 2077, 2078, 2079, 2080, 2081, 2082, 2083, 2084, 2085, 2086, 2087, 2088, 2089, 2090, 2091, 2092, 2093, 2094, 2095, 2096, 2097, 2098, 2099], \"xaxis\": \"x2\", \"y\": [5.156959056854248, 5.314727783203125, 5.303625583648682, 5.457091808319092, 5.687076568603516, 5.744417667388916, 5.722259044647217, 5.613696098327637, 5.546237468719482, 5.547213077545166, 5.758817195892334, 5.841792106628418, 6.066070079803467, 5.889604091644287, 5.667335033416748, 5.744497776031494, 5.774575710296631, 5.705568790435791, 5.994093418121338, 6.203968048095703, 6.241804122924805, 6.336745262145996, 6.438121318817139, 6.5016560554504395, 6.449070930480957, 6.327724933624268, 6.29083776473999, 6.36590576171875, 6.190853595733643, 6.0808491706848145, 6.142042636871338, 6.041492462158203, 5.960211753845215, 5.899152755737305, 5.774215221405029, 5.794201850891113, 5.986278057098389, 5.912827968597412, 6.195918560028076, 6.289844989776611, 6.183889389038086, 6.243121147155762, 6.130618095397949, 6.271156311035156, 6.49639892578125, 6.5297160148620605, 6.771294593811035, 6.929097652435303, 6.845921039581299, 6.8235321044921875, 6.861690044403076, 6.865421295166016, 6.859360218048096, 7.036868572235107, 7.212096691131592, 7.162751197814941, 7.306883335113525, 7.393199443817139, 7.5836405754089355, 7.839911460876465, 7.760255813598633, 7.7931928634643555, 7.909626483917236, 7.91370964050293, 0.0, 0.0, 0.0, 0.0, 0.0, 0.0, 0.0, 0.0, 0.0, 0.0, 0.0, 0.0, 0.0, 0.0, 0.0, 0.0, 0.0, 0.0, 0.0, 0.0, 0.0, 0.0, 0.0, 0.0, 0.0, 0.0, 0.0, 0.0, 0.0, 0.0, 0.0], \"yaxis\": \"y2\"}, {\"name\": \"Tls moyenne 4.5 du mois Jan\", \"type\": \"scatter\", \"x\": [2036, 2037, 2038, 2039, 2040, 2041, 2042, 2043, 2044, 2045, 2046, 2047, 2048, 2049, 2050, 2051, 2052, 2053, 2054, 2055, 2056, 2057, 2058, 2059, 2060, 2061, 2062, 2063, 2064, 2065, 2066, 2067, 2068, 2069, 2070, 2071, 2072, 2073, 2074, 2075, 2076, 2077, 2078, 2079, 2080, 2081, 2082, 2083, 2084, 2085, 2086, 2087, 2088, 2089, 2090, 2091, 2092, 2093, 2094, 2095, 2096, 2097, 2098, 2099], \"xaxis\": \"x2\", \"y\": [8.437761306762695, 8.586709022521973, 8.541804313659668, 8.700600624084473, 8.924899101257324, 8.956269264221191, 8.997438430786133, 8.904768943786621, 8.896173477172852, 8.757938385009766, 8.938093185424805, 9.018835067749023, 9.164179801940918, 9.041045188903809, 8.868391036987305, 8.938769340515137, 8.994327545166016, 9.011863708496094, 9.27350902557373, 9.439120292663574, 9.521377563476562, 9.581401824951172, 9.666122436523438, 9.742661476135254, 9.634552001953125, 9.556718826293945, 9.527068138122559, 9.569668769836426, 9.472079277038574, 9.370819091796875, 9.402192115783691, 9.29223346710205, 9.234926223754883, 9.186324119567871, 9.057036399841309, 9.071346282958984, 9.191034317016602, 9.121521949768066, 9.31108283996582, 9.419044494628906, 9.391010284423828, 9.432957649230957, 9.342546463012695, 9.451702117919922, 9.651510238647461, 9.688873291015625, 9.856037139892578, 9.964396476745605, 9.921697616577148, 9.917095184326172, 9.908535957336426, 9.907866477966309, 9.900458335876465, 9.991450309753418, 10.163196563720703, 10.136435508728027, 10.248628616333008, 10.290761947631836, 10.387577056884766, 10.587897300720215, 10.557450294494629, 10.645240783691406, 10.761122703552246, 10.752227783203125, 0.0, 0.0, 0.0, 0.0, 0.0, 0.0, 0.0, 0.0, 0.0, 0.0, 0.0, 0.0, 0.0, 0.0, 0.0, 0.0, 0.0, 0.0, 0.0, 0.0, 0.0, 0.0, 0.0, 0.0, 0.0, 0.0, 0.0, 0.0, 0.0, 0.0, 0.0], \"yaxis\": \"y2\"}, {\"name\": \"Moyenne 8.5 du mois Jan\", \"type\": \"scatter\", \"x\": [2036, 2037, 2038, 2039, 2040, 2041, 2042, 2043, 2044, 2045, 2046, 2047, 2048, 2049, 2050, 2051, 2052, 2053, 2054, 2055, 2056, 2057, 2058, 2059, 2060, 2061, 2062, 2063, 2064, 2065, 2066, 2067, 2068, 2069, 2070, 2071, 2072, 2073, 2074, 2075, 2076, 2077, 2078, 2079, 2080, 2081, 2082, 2083, 2084, 2085, 2086, 2087, 2088, 2089, 2090, 2091, 2092, 2093, 2094, 2095, 2096, 2097, 2098, 2099], \"xaxis\": \"x3\", \"y\": [5.349483489990234, 5.525993824005127, 5.432149410247803, 5.27159309387207, 5.423659801483154, 5.416324138641357, 5.573998928070068, 5.56859827041626, 5.584165573120117, 5.8704609870910645, 5.902963161468506, 5.822385787963867, 5.870139122009277, 6.096262454986572, 6.019598484039307, 6.045426368713379, 6.269654750823975, 6.4220194816589355, 6.331941604614258, 6.530173301696777, 6.642111778259277, 6.6113457679748535, 6.739173412322998, 6.6435675621032715, 6.627155303955078, 6.620812892913818, 6.687375545501709, 6.7653985023498535, 6.614580154418945, 6.826766490936279, 6.602166652679443, 6.537670135498047, 6.657573223114014, 6.7555155754089355, 6.732247829437256, 6.982380390167236, 7.005130290985107, 7.11084508895874, 7.132426738739014, 7.251473903656006, 7.244904518127441, 7.370278835296631, 7.544384002685547, 7.533921718597412, 7.547844886779785, 7.611189842224121, 7.6187944412231445, 7.440418720245361, 7.601208209991455, 7.591518402099609, 7.736955642700195, 7.7758073806762695, 7.876889705657959, 8.134437561035156, 8.133345603942871, 8.089248657226562, 8.257780075073242, 8.407488822937012, 8.733150482177734, 8.596456527709961, 8.862565994262695, 8.864760398864746, 8.864912033081055, 8.99123477935791, 0.0, 0.0, 0.0, 0.0, 0.0, 0.0, 0.0, 0.0, 0.0, 0.0, 0.0, 0.0, 0.0, 0.0, 0.0, 0.0, 0.0, 0.0, 0.0, 0.0, 0.0, 0.0, 0.0, 0.0, 0.0, 0.0, 0.0, 0.0, 0.0, 0.0, 0.0], \"yaxis\": \"y3\"}, {\"name\": \"Moyenne 8.5 du mois Jan\", \"type\": \"scatter\", \"x\": [2036, 2037, 2038, 2039, 2040, 2041, 2042, 2043, 2044, 2045, 2046, 2047, 2048, 2049, 2050, 2051, 2052, 2053, 2054, 2055, 2056, 2057, 2058, 2059, 2060, 2061, 2062, 2063, 2064, 2065, 2066, 2067, 2068, 2069, 2070, 2071, 2072, 2073, 2074, 2075, 2076, 2077, 2078, 2079, 2080, 2081, 2082, 2083, 2084, 2085, 2086, 2087, 2088, 2089, 2090, 2091, 2092, 2093, 2094, 2095, 2096, 2097, 2098, 2099], \"xaxis\": \"x3\", \"y\": [8.863059043884277, 9.020570755004883, 8.98039722442627, 8.84475326538086, 8.967350006103516, 8.970306396484375, 9.087678909301758, 9.042513847351074, 9.012621879577637, 9.24897289276123, 9.267587661743164, 9.230582237243652, 9.28911304473877, 9.466612815856934, 9.393108367919922, 9.404650688171387, 9.638679504394531, 9.793974876403809, 9.754049301147461, 9.858924865722656, 10.046392440795898, 9.986220359802246, 10.05925178527832, 9.97348690032959, 9.98855972290039, 9.979578971862793, 10.053304672241211, 10.084883689880371, 9.96142864227295, 10.061098098754883, 9.844571113586426, 9.788622856140137, 9.869566917419434, 9.982989311218262, 9.958194732666016, 10.147171974182129, 10.141122817993164, 10.273869514465332, 10.326956748962402, 10.43407917022705, 10.460981369018555, 10.5149507522583, 10.670220375061035, 10.701055526733398, 10.675107955932617, 10.75842571258545, 10.700613021850586, 10.55294418334961, 10.626649856567383, 10.644598007202148, 10.732004165649414, 10.725486755371094, 10.811224937438965, 11.059357643127441, 11.093443870544434, 11.082242965698242, 11.234503746032715, 11.324899673461914, 11.603703498840332, 11.529891967773438, 11.770845413208008, 11.786439895629883, 11.801873207092285, 11.906225204467773, 0.0, 0.0, 0.0, 0.0, 0.0, 0.0, 0.0, 0.0, 0.0, 0.0, 0.0, 0.0, 0.0, 0.0, 0.0, 0.0, 0.0, 0.0, 0.0, 0.0, 0.0, 0.0, 0.0, 0.0, 0.0, 0.0, 0.0, 0.0, 0.0, 0.0, 0.0], \"yaxis\": \"y3\"}, {\"name\": \"Moyenne 2.6 du mois Aug\", \"type\": \"scatter\", \"x\": [2036, 2037, 2038, 2039, 2040, 2041, 2042, 2043, 2044, 2045, 2046, 2047, 2048, 2049, 2050, 2051, 2052, 2053, 2054, 2055, 2056, 2057, 2058, 2059, 2060, 2061, 2062, 2063, 2064, 2065, 2066, 2067, 2068, 2069, 2070, 2071, 2072, 2073, 2074, 2075, 2076, 2077, 2078, 2079, 2080, 2081, 2082, 2083, 2084, 2085, 2086, 2087, 2088, 2089, 2090, 2091, 2092, 2093, 2094, 2095, 2096, 2097, 2098, 2099], \"xaxis\": \"x4\", \"y\": [27.384855270385742, 27.321460723876953, 27.427799224853516, 27.247541427612305, 27.2698917388916, 27.257909774780273, 27.25636863708496, 27.499290466308594, 27.581575393676758, 27.426895141601562, 27.66455078125, 27.695655822753906, 27.92620849609375, 28.12418556213379, 28.04439926147461, 28.062711715698242, 28.159664154052734, 28.09786033630371, 28.062929153442383, 28.205575942993164, 28.308509826660156, 28.1845760345459, 28.2076473236084, 28.280576705932617, 28.308856964111328, 28.53936767578125, 28.665498733520508, 28.49744415283203, 28.455535888671875, 28.6578369140625, 28.636388778686523, 28.597640991210938, 28.490951538085938, 28.66102409362793, 28.53792953491211, 28.598676681518555, 28.73887062072754, 28.64805793762207, 28.71106719970703, 28.727201461791992, 28.57903480529785, 28.628896713256836, 28.546009063720703, 28.514259338378906, 28.54092025756836, 28.61151695251465, 28.63868522644043, 28.628658294677734, 28.679418563842773, 28.640010833740234, 28.584070205688477, 28.593873977661133, 28.458650588989258, 28.370037078857422, 28.38128089904785, 28.158958435058594, 28.14158058166504, 28.00099754333496, 28.065046310424805, 28.073965072631836, 28.143869400024414, 28.190040588378906, 28.1405029296875, 28.173818588256836, 0.0, 0.0, 0.0, 0.0, 0.0, 0.0, 0.0, 0.0, 0.0, 0.0, 0.0, 0.0, 0.0, 0.0, 0.0, 0.0, 0.0, 0.0, 0.0, 0.0, 0.0, 0.0, 0.0, 0.0, 0.0, 0.0, 0.0, 0.0, 0.0, 0.0, 0.0], \"yaxis\": \"y4\"}, {\"name\": \"Tls moyenne 2.6 du mois Aug\", \"type\": \"scatter\", \"x\": [2036, 2037, 2038, 2039, 2040, 2041, 2042, 2043, 2044, 2045, 2046, 2047, 2048, 2049, 2050, 2051, 2052, 2053, 2054, 2055, 2056, 2057, 2058, 2059, 2060, 2061, 2062, 2063, 2064, 2065, 2066, 2067, 2068, 2069, 2070, 2071, 2072, 2073, 2074, 2075, 2076, 2077, 2078, 2079, 2080, 2081, 2082, 2083, 2084, 2085, 2086, 2087, 2088, 2089, 2090, 2091, 2092, 2093, 2094, 2095, 2096, 2097, 2098, 2099], \"xaxis\": \"x4\", \"y\": [28.315383911132812, 28.28463363647461, 28.378389358520508, 28.36981964111328, 28.532804489135742, 28.533628463745117, 28.439794540405273, 28.631813049316406, 28.71424102783203, 28.554550170898438, 28.722942352294922, 28.78789520263672, 28.912151336669922, 29.06168556213379, 28.95705223083496, 28.955686569213867, 29.03577423095703, 28.916913986206055, 28.840314865112305, 28.900306701660156, 29.02631378173828, 28.924665451049805, 29.015602111816406, 29.024118423461914, 29.11501121520996, 29.310583114624023, 29.36827278137207, 29.298280715942383, 29.314542770385742, 29.566804885864258, 29.532920837402344, 29.520139694213867, 29.474273681640625, 29.493410110473633, 29.36675262451172, 29.375024795532227, 29.56765365600586, 29.490446090698242, 29.517974853515625, 29.602340698242188, 29.523500442504883, 29.537405014038086, 29.409719467163086, 29.405168533325195, 29.465795516967773, 29.509571075439453, 29.539066314697266, 29.52326774597168, 29.5603084564209, 29.617544174194336, 29.53531265258789, 29.58092498779297, 29.480104446411133, 29.4216365814209, 29.392805099487305, 29.221073150634766, 29.180822372436523, 29.08142852783203, 29.107606887817383, 29.142526626586914, 29.208358764648438, 29.12629508972168, 29.045595169067383, 29.0804386138916, 0.0, 0.0, 0.0, 0.0, 0.0, 0.0, 0.0, 0.0, 0.0, 0.0, 0.0, 0.0, 0.0, 0.0, 0.0, 0.0, 0.0, 0.0, 0.0, 0.0, 0.0, 0.0, 0.0, 0.0, 0.0, 0.0, 0.0, 0.0, 0.0, 0.0, 0.0], \"yaxis\": \"y4\"}, {\"name\": \"Moyenne 4.5 du mois Aug\", \"type\": \"scatter\", \"x\": [2036, 2037, 2038, 2039, 2040, 2041, 2042, 2043, 2044, 2045, 2046, 2047, 2048, 2049, 2050, 2051, 2052, 2053, 2054, 2055, 2056, 2057, 2058, 2059, 2060, 2061, 2062, 2063, 2064, 2065, 2066, 2067, 2068, 2069, 2070, 2071, 2072, 2073, 2074, 2075, 2076, 2077, 2078, 2079, 2080, 2081, 2082, 2083, 2084, 2085, 2086, 2087, 2088, 2089, 2090, 2091, 2092, 2093, 2094, 2095, 2096, 2097, 2098, 2099], \"xaxis\": \"x5\", \"y\": [28.126789093017578, 28.163658142089844, 27.988719940185547, 28.190446853637695, 28.28868293762207, 28.31733512878418, 28.14716148376465, 28.37335968017578, 28.38209342956543, 28.326862335205078, 28.5310115814209, 28.573230743408203, 28.609487533569336, 28.586299896240234, 28.488401412963867, 28.5394344329834, 28.467430114746094, 28.43257713317871, 28.20538902282715, 28.139616012573242, 28.202455520629883, 28.066797256469727, 28.096139907836914, 28.119205474853516, 28.288536071777344, 28.321895599365234, 28.319364547729492, 28.466102600097656, 28.364999771118164, 28.07208251953125, 28.203052520751953, 28.18620491027832, 28.313295364379883, 28.32236099243164, 28.233604431152344, 28.15312957763672, 28.417383193969727, 28.491134643554688, 28.589406967163086, 28.649539947509766, 28.44252586364746, 28.514455795288086, 28.54941177368164, 28.75789451599121, 28.862611770629883, 28.905691146850586, 29.063608169555664, 29.174898147583008, 29.449909210205078, 29.510814666748047, 29.49699592590332, 29.80611801147461, 29.64438819885254, 29.663101196289062, 29.776641845703125, 30.036216735839844, 30.074710845947266, 29.918277740478516, 29.906818389892578, 30.077756881713867, 29.980920791625977, 30.13496971130371, 30.227548599243164, 30.07880210876465, 0.0, 0.0, 0.0, 0.0, 0.0, 0.0, 0.0, 0.0, 0.0, 0.0, 0.0, 0.0, 0.0, 0.0, 0.0, 0.0, 0.0, 0.0, 0.0, 0.0, 0.0, 0.0, 0.0, 0.0, 0.0, 0.0, 0.0, 0.0, 0.0, 0.0, 0.0], \"yaxis\": \"y5\"}, {\"name\": \"Tls moyenne 4.5 du mois Aug\", \"type\": \"scatter\", \"x\": [2036, 2037, 2038, 2039, 2040, 2041, 2042, 2043, 2044, 2045, 2046, 2047, 2048, 2049, 2050, 2051, 2052, 2053, 2054, 2055, 2056, 2057, 2058, 2059, 2060, 2061, 2062, 2063, 2064, 2065, 2066, 2067, 2068, 2069, 2070, 2071, 2072, 2073, 2074, 2075, 2076, 2077, 2078, 2079, 2080, 2081, 2082, 2083, 2084, 2085, 2086, 2087, 2088, 2089, 2090, 2091, 2092, 2093, 2094, 2095, 2096, 2097, 2098, 2099], \"xaxis\": \"x5\", \"y\": [29.134870529174805, 29.226581573486328, 29.132160186767578, 29.31463050842285, 29.41176986694336, 29.446264266967773, 29.38315200805664, 29.556270599365234, 29.593795776367188, 29.545198440551758, 29.613786697387695, 29.678007125854492, 29.68815803527832, 29.67750358581543, 29.669055938720703, 29.64366912841797, 29.606422424316406, 29.644412994384766, 29.42973518371582, 29.395723342895508, 29.4560604095459, 29.34064292907715, 29.350088119506836, 29.450773239135742, 29.601640701293945, 29.601177215576172, 29.56348419189453, 29.65456771850586, 29.64154052734375, 29.375083923339844, 29.394081115722656, 29.40305519104004, 29.55327033996582, 29.54414939880371, 29.520137786865234, 29.446378707885742, 29.596757888793945, 29.62441635131836, 29.739887237548828, 29.773820877075195, 29.72332763671875, 29.793554306030273, 29.829736709594727, 30.003023147583008, 30.104061126708984, 30.16664695739746, 30.24547576904297, 30.317209243774414, 30.5230712890625, 30.53901481628418, 30.499160766601562, 30.698698043823242, 30.564186096191406, 30.51774024963379, 30.572044372558594, 30.803205490112305, 30.879535675048828, 30.803197860717773, 30.71230125427246, 30.859418869018555, 30.909374237060547, 30.99146842956543, 31.028888702392578, 30.896060943603516, 0.0, 0.0, 0.0, 0.0, 0.0, 0.0, 0.0, 0.0, 0.0, 0.0, 0.0, 0.0, 0.0, 0.0, 0.0, 0.0, 0.0, 0.0, 0.0, 0.0, 0.0, 0.0, 0.0, 0.0, 0.0, 0.0, 0.0, 0.0, 0.0, 0.0, 0.0], \"yaxis\": \"y5\"}, {\"name\": \"Moyenne 8.5 du mois Aug\", \"type\": \"scatter\", \"x\": [2036, 2037, 2038, 2039, 2040, 2041, 2042, 2043, 2044, 2045, 2046, 2047, 2048, 2049, 2050, 2051, 2052, 2053, 2054, 2055, 2056, 2057, 2058, 2059, 2060, 2061, 2062, 2063, 2064, 2065, 2066, 2067, 2068, 2069, 2070, 2071, 2072, 2073, 2074, 2075, 2076, 2077, 2078, 2079, 2080, 2081, 2082, 2083, 2084, 2085, 2086, 2087, 2088, 2089, 2090, 2091, 2092, 2093, 2094, 2095, 2096, 2097, 2098, 2099], \"xaxis\": \"x6\", \"y\": [28.039276123046875, 27.942678451538086, 27.85481834411621, 27.760025024414062, 27.59317970275879, 27.726266860961914, 27.808568954467773, 27.955982208251953, 28.01974868774414, 28.048980712890625, 28.174423217773438, 28.25444221496582, 28.401569366455078, 28.206573486328125, 28.25861167907715, 28.316967010498047, 28.38560676574707, 28.375436782836914, 28.507078170776367, 28.588050842285156, 28.832408905029297, 28.99321937561035, 29.15157699584961, 29.244165420532227, 29.213844299316406, 29.368459701538086, 29.469213485717773, 29.466230392456055, 29.519527435302734, 29.690763473510742, 29.71582794189453, 29.873781204223633, 29.937406539916992, 30.137264251708984, 30.323087692260742, 30.401689529418945, 30.437774658203125, 30.33989143371582, 30.450632095336914, 30.455066680908203, 30.512775421142578, 30.659982681274414, 30.918170928955078, 31.17718505859375, 31.41541862487793, 31.451736450195312, 31.574291229248047, 31.728620529174805, 31.739105224609375, 31.858518600463867, 31.88136863708496, 31.866085052490234, 31.98575210571289, 32.11540603637695, 32.36125946044922, 32.46454620361328, 32.588966369628906, 32.7453727722168, 32.73710632324219, 32.74100875854492, 32.78633499145508, 32.92420196533203, 33.13469696044922, 33.3118896484375, 0.0, 0.0, 0.0, 0.0, 0.0, 0.0, 0.0, 0.0, 0.0, 0.0, 0.0, 0.0, 0.0, 0.0, 0.0, 0.0, 0.0, 0.0, 0.0, 0.0, 0.0, 0.0, 0.0, 0.0, 0.0, 0.0, 0.0, 0.0, 0.0, 0.0, 0.0], \"yaxis\": \"y6\"}, {\"name\": \"Moyenne 8.5 du mois Aug\", \"type\": \"scatter\", \"x\": [2036, 2037, 2038, 2039, 2040, 2041, 2042, 2043, 2044, 2045, 2046, 2047, 2048, 2049, 2050, 2051, 2052, 2053, 2054, 2055, 2056, 2057, 2058, 2059, 2060, 2061, 2062, 2063, 2064, 2065, 2066, 2067, 2068, 2069, 2070, 2071, 2072, 2073, 2074, 2075, 2076, 2077, 2078, 2079, 2080, 2081, 2082, 2083, 2084, 2085, 2086, 2087, 2088, 2089, 2090, 2091, 2092, 2093, 2094, 2095, 2096, 2097, 2098, 2099], \"xaxis\": \"x6\", \"y\": [28.627016067504883, 28.5245304107666, 28.617752075195312, 28.527528762817383, 28.42197036743164, 28.477169036865234, 28.60234260559082, 28.68707275390625, 28.866605758666992, 28.907583236694336, 29.060033798217773, 29.180994033813477, 29.227842330932617, 29.07452964782715, 29.110855102539062, 29.152992248535156, 29.22815704345703, 29.236614227294922, 29.4030818939209, 29.471290588378906, 29.619407653808594, 29.853567123413086, 29.92108154296875, 30.018953323364258, 29.914003372192383, 30.031017303466797, 30.078895568847656, 30.089534759521484, 30.149934768676758, 30.333959579467773, 30.3623046875, 30.548622131347656, 30.58540916442871, 30.762041091918945, 30.88975715637207, 30.96068000793457, 30.930599212646484, 30.950347900390625, 31.037750244140625, 31.02073860168457, 31.037029266357422, 31.1011905670166, 31.348907470703125, 31.596176147460938, 31.815486907958984, 31.912044525146484, 31.982946395874023, 32.090450286865234, 32.05508804321289, 32.13494873046875, 32.122074127197266, 32.047298431396484, 32.20323181152344, 32.24540328979492, 32.474632263183594, 32.5595817565918, 32.67809295654297, 32.74285125732422, 32.72803497314453, 32.79195785522461, 32.888118743896484, 32.958553314208984, 33.07304000854492, 33.25700378417969, 0.0, 0.0, 0.0, 0.0, 0.0, 0.0, 0.0, 0.0, 0.0, 0.0, 0.0, 0.0, 0.0, 0.0, 0.0, 0.0, 0.0, 0.0, 0.0, 0.0, 0.0, 0.0, 0.0, 0.0, 0.0, 0.0, 0.0, 0.0, 0.0, 0.0, 0.0], \"yaxis\": \"y6\"}, {\"name\": \"Moyenne 2.6 de l'ann\\u00e9e\", \"type\": \"scatter\", \"x\": [2036, 2037, 2038, 2039, 2040, 2041, 2042, 2043, 2044, 2045, 2046, 2047, 2048, 2049, 2050, 2051, 2052, 2053, 2054, 2055, 2056, 2057, 2058, 2059, 2060, 2061, 2062, 2063, 2064, 2065, 2066, 2067, 2068, 2069, 2070, 2071, 2072, 2073, 2074, 2075, 2076, 2077, 2078, 2079, 2080, 2081, 2082, 2083, 2084, 2085, 2086, 2087, 2088, 2089, 2090, 2091, 2092, 2093, 2094, 2095, 2096, 2097, 2098, 2099], \"xaxis\": \"x7\", \"y\": [27.802431106567383, 27.73903465270996, 27.845373153686523, 27.697978973388672, 27.72032928466797, 27.737773895263672, 27.79375457763672, 28.03271484375, 28.03128433227539, 27.876604080200195, 28.114259719848633, 28.094289779663086, 28.312931060791016, 28.510963439941406, 28.431175231933594, 28.449487686157227, 28.56511688232422, 28.504030227661133, 28.469099044799805, 28.637399673461914, 28.740339279174805, 28.549884796142578, 28.572952270507812, 28.645885467529297, 28.674165725708008, 28.94940185546875, 29.075531005859375, 28.990076065063477, 29.018875122070312, 29.221176147460938, 29.097978591918945, 29.128259658813477, 29.031028747558594, 29.181623458862305, 29.15438461303711, 29.18570327758789, 29.26837730407715, 29.26994514465332, 29.33295440673828, 29.349084854125977, 29.212257385253906, 29.274065017700195, 29.192045211791992, 29.160242080688477, 29.186901092529297, 29.286813735961914, 29.295307159423828, 29.28455924987793, 29.33531951904297, 29.30292510986328, 29.24698257446289, 29.262672424316406, 29.29679298400879, 29.208179473876953, 29.21942710876465, 28.952377319335938, 28.935001373291016, 28.77858543395996, 28.771677017211914, 28.780595779418945, 28.810014724731445, 28.78715705871582, 28.812625885009766, 28.846811294555664, 0.0, 0.0, 0.0, 0.0, 0.0, 0.0, 0.0, 0.0, 0.0, 0.0, 0.0, 0.0, 0.0, 0.0, 0.0, 0.0, 0.0, 0.0, 0.0, 0.0, 0.0, 0.0, 0.0, 0.0, 0.0, 0.0, 0.0, 0.0, 0.0, 0.0, 0.0], \"yaxis\": \"y7\"}, {\"name\": \"Tls moyenne 2.6 du mois All\", \"type\": \"scatter\", \"x\": [2036, 2037, 2038, 2039, 2040, 2041, 2042, 2043, 2044, 2045, 2046, 2047, 2048, 2049, 2050, 2051, 2052, 2053, 2054, 2055, 2056, 2057, 2058, 2059, 2060, 2061, 2062, 2063, 2064, 2065, 2066, 2067, 2068, 2069, 2070, 2071, 2072, 2073, 2074, 2075, 2076, 2077, 2078, 2079, 2080, 2081, 2082, 2083, 2084, 2085, 2086, 2087, 2088, 2089, 2090, 2091, 2092, 2093, 2094, 2095, 2096, 2097, 2098, 2099], \"xaxis\": \"x7\", \"y\": [28.653980255126953, 28.62322998046875, 28.71698570251465, 28.70841407775879, 28.871400833129883, 28.90026092529297, 28.849740982055664, 29.04175567626953, 29.027179718017578, 28.86748695373535, 29.035879135131836, 29.040752410888672, 29.165006637573242, 29.314542770385742, 29.20990753173828, 29.208541870117188, 29.298463821411133, 29.207202911376953, 29.130603790283203, 29.266836166381836, 29.392841339111328, 29.297658920288086, 29.388595581054688, 29.397111892700195, 29.488006591796875, 29.800861358642578, 29.858551025390625, 29.89699935913086, 29.859233856201172, 30.111494064331055, 29.986360549926758, 30.032487869262695, 29.99039077758789, 30.010528564453125, 29.915739059448242, 29.90747833251953, 30.056793212890625, 30.04978370666504, 30.07731056213379, 30.16167449951172, 30.1165828704834, 30.195554733276367, 30.18256187438965, 30.17800521850586, 30.238632202148438, 30.31984519958496, 30.339508056640625, 30.296104431152344, 30.333152770996094, 30.30531883239746, 30.22308921813965, 30.235897064208984, 30.270200729370117, 30.211732864379883, 30.182903289794922, 29.893890380859375, 29.860214233398438, 29.672609329223633, 29.6987247467041, 29.733646392822266, 29.79947853088379, 29.674591064453125, 29.711994171142578, 29.745834350585938, 0.0, 0.0, 0.0, 0.0, 0.0, 0.0, 0.0, 0.0, 0.0, 0.0, 0.0, 0.0, 0.0, 0.0, 0.0, 0.0, 0.0, 0.0, 0.0, 0.0, 0.0, 0.0, 0.0, 0.0, 0.0, 0.0, 0.0, 0.0, 0.0, 0.0, 0.0], \"yaxis\": \"y7\"}, {\"name\": \"Moyenne 4.5 de l'ann\\u00e9e\", \"type\": \"scatter\", \"x\": [2036, 2037, 2038, 2039, 2040, 2041, 2042, 2043, 2044, 2045, 2046, 2047, 2048, 2049, 2050, 2051, 2052, 2053, 2054, 2055, 2056, 2057, 2058, 2059, 2060, 2061, 2062, 2063, 2064, 2065, 2066, 2067, 2068, 2069, 2070, 2071, 2072, 2073, 2074, 2075, 2076, 2077, 2078, 2079, 2080, 2081, 2082, 2083, 2084, 2085, 2086, 2087, 2088, 2089, 2090, 2091, 2092, 2093, 2094, 2095, 2096, 2097, 2098, 2099], \"xaxis\": \"x8\", \"y\": [28.56392478942871, 28.610149383544922, 28.435211181640625, 28.636938095092773, 28.81402587890625, 28.862476348876953, 28.695648193359375, 29.051395416259766, 29.060131072998047, 28.88682746887207, 29.063034057617188, 29.105253219604492, 29.141510009765625, 29.09434700012207, 28.961973190307617, 28.9991512298584, 28.927146911621094, 28.892295837402344, 28.70821189880371, 28.642436981201172, 28.696882247924805, 28.760160446166992, 28.789499282836914, 28.971323013305664, 29.012069702148438, 29.04543113708496, 29.04290199279785, 29.189640045166016, 29.08853530883789, 28.880231857299805, 29.060503005981445, 29.122587203979492, 29.24967384338379, 29.258739471435547, 29.091135025024414, 28.990863800048828, 29.231027603149414, 29.11810302734375, 29.21637725830078, 29.276508331298828, 29.294084548950195, 29.366018295288086, 29.412485122680664, 29.620969772338867, 29.725685119628906, 29.76876449584961, 29.929441452026367, 30.040729522705078, 30.27263832092285, 30.39896583557129, 30.44822120666504, 30.55840492248535, 30.396677017211914, 30.25663185119629, 30.370174407958984, 30.62975311279297, 30.66824722290039, 30.554698944091797, 30.581546783447266, 30.772029876708984, 30.689937591552734, 30.82952880859375, 30.92945671081543, 30.929885864257812, 0.0, 0.0, 0.0, 0.0, 0.0, 0.0, 0.0, 0.0, 0.0, 0.0, 0.0, 0.0, 0.0, 0.0, 0.0, 0.0, 0.0, 0.0, 0.0, 0.0, 0.0, 0.0, 0.0, 0.0, 0.0, 0.0, 0.0, 0.0, 0.0, 0.0, 0.0], \"yaxis\": \"y8\"}, {\"name\": \"Tls moyenne 4.5 du mois All\", \"type\": \"scatter\", \"x\": [2036, 2037, 2038, 2039, 2040, 2041, 2042, 2043, 2044, 2045, 2046, 2047, 2048, 2049, 2050, 2051, 2052, 2053, 2054, 2055, 2056, 2057, 2058, 2059, 2060, 2061, 2062, 2063, 2064, 2065, 2066, 2067, 2068, 2069, 2070, 2071, 2072, 2073, 2074, 2075, 2076, 2077, 2078, 2079, 2080, 2081, 2082, 2083, 2084, 2085, 2086, 2087, 2088, 2089, 2090, 2091, 2092, 2093, 2094, 2095, 2096, 2097, 2098, 2099], \"xaxis\": \"x8\", \"y\": [29.456592559814453, 29.548303604125977, 29.454761505126953, 29.637235641479492, 29.734373092651367, 29.812334060668945, 29.653959274291992, 29.941701889038086, 29.979228973388672, 29.88320541381836, 29.87021255493164, 29.934432983398438, 29.944581985473633, 29.933929443359375, 29.879404067993164, 29.854013442993164, 29.816770553588867, 29.86432647705078, 29.66373062133789, 29.629716873168945, 29.690061569213867, 29.738767623901367, 29.76189613342285, 29.97201919555664, 30.103843688964844, 30.103376388549805, 30.092111587524414, 30.183197021484375, 30.170169830322266, 29.934106826782227, 30.047367095947266, 30.056344985961914, 30.205677032470703, 30.196556091308594, 30.172544479370117, 30.058374404907227, 30.185409545898438, 30.08961296081543, 30.205081939697266, 30.239015579223633, 30.353986740112305, 30.449758529663086, 30.549291610717773, 30.722572326660156, 30.8236141204834, 30.886198043823242, 30.99488639831543, 31.06103515625, 31.2528133392334, 31.32193374633789, 31.36101722717285, 31.39642333984375, 31.279491424560547, 31.123455047607422, 31.261913299560547, 31.493070602416992, 31.542972564697266, 31.47834587097168, 31.42292022705078, 31.6477108001709, 31.61137580871582, 31.712923049926758, 31.750347137451172, 31.775144577026367, 0.0, 0.0, 0.0, 0.0, 0.0, 0.0, 0.0, 0.0, 0.0, 0.0, 0.0, 0.0, 0.0, 0.0, 0.0, 0.0, 0.0, 0.0, 0.0, 0.0, 0.0, 0.0, 0.0, 0.0, 0.0, 0.0, 0.0, 0.0, 0.0, 0.0, 0.0], \"yaxis\": \"y8\"}, {\"name\": \"Moyenne 8.5 de l'ann\\u00e9e\", \"type\": \"scatter\", \"x\": [2036, 2037, 2038, 2039, 2040, 2041, 2042, 2043, 2044, 2045, 2046, 2047, 2048, 2049, 2050, 2051, 2052, 2053, 2054, 2055, 2056, 2057, 2058, 2059, 2060, 2061, 2062, 2063, 2064, 2065, 2066, 2067, 2068, 2069, 2070, 2071, 2072, 2073, 2074, 2075, 2076, 2077, 2078, 2079, 2080, 2081, 2082, 2083, 2084, 2085, 2086, 2087, 2088, 2089, 2090, 2091, 2092, 2093, 2094, 2095, 2096, 2097, 2098, 2099], \"xaxis\": \"x9\", \"y\": [28.398033142089844, 28.31039047241211, 28.268098831176758, 28.17330551147461, 28.00149917602539, 28.134584426879883, 28.21688461303711, 28.364301681518555, 28.37948226928711, 28.408716201782227, 28.490962982177734, 28.570981979370117, 28.647933959960938, 28.550350189208984, 28.60238265991211, 28.660741806030273, 28.748586654663086, 28.73841667175293, 28.870054244995117, 28.951030731201172, 29.13491439819336, 29.294044494628906, 29.428133010864258, 29.52071762084961, 29.48415184020996, 29.656991958618164, 29.75774383544922, 29.848365783691406, 29.941055297851562, 30.11229133605957, 30.057491302490234, 30.206491470336914, 30.23000717163086, 30.429868698120117, 30.615690231323242, 30.694292068481445, 30.751073837280273, 30.65319061279297, 30.752029418945312, 30.84468650817871, 30.902395248413086, 31.049602508544922, 31.30778694152832, 31.5010929107666, 31.739330291748047, 31.775644302368164, 31.881004333496094, 32.06195831298828, 32.07244110107422, 32.19185256958008, 32.229183197021484, 32.21053695678711, 32.33020782470703, 32.45985794067383, 32.70571517944336, 32.795345306396484, 32.91976547241211, 32.98257064819336, 32.934913635253906, 32.988094329833984, 33.10615158081055, 33.30543899536133, 33.51047897338867, 33.6885986328125, 0.0, 0.0, 0.0, 0.0, 0.0, 0.0, 0.0, 0.0, 0.0, 0.0, 0.0, 0.0, 0.0, 0.0, 0.0, 0.0, 0.0, 0.0, 0.0, 0.0, 0.0, 0.0, 0.0, 0.0, 0.0, 0.0, 0.0, 0.0, 0.0, 0.0, 0.0], \"yaxis\": \"y9\"}, {\"name\": \"Moyenne 8.5 du mois All\", \"type\": \"scatter\", \"x\": [2036, 2037, 2038, 2039, 2040, 2041, 2042, 2043, 2044, 2045, 2046, 2047, 2048, 2049, 2050, 2051, 2052, 2053, 2054, 2055, 2056, 2057, 2058, 2059, 2060, 2061, 2062, 2063, 2064, 2065, 2066, 2067, 2068, 2069, 2070, 2071, 2072, 2073, 2074, 2075, 2076, 2077, 2078, 2079, 2080, 2081, 2082, 2083, 2084, 2085, 2086, 2087, 2088, 2089, 2090, 2091, 2092, 2093, 2094, 2095, 2096, 2097, 2098, 2099], \"xaxis\": \"x9\", \"y\": [28.887920379638672, 28.794212341308594, 28.925168991088867, 28.834943771362305, 28.729387283325195, 28.784584045410156, 28.909759521484375, 28.994489669799805, 29.110326766967773, 29.151302337646484, 29.29564094543457, 29.401384353637695, 29.4459228515625, 29.383323669433594, 29.419647216796875, 29.4617919921875, 29.610366821289062, 29.61882209777832, 29.785289764404297, 29.857812881469727, 30.005931854248047, 30.240087509155273, 30.307601928710938, 30.398405075073242, 30.293453216552734, 30.435630798339844, 30.48350715637207, 30.536592483520508, 30.62175178527832, 30.79485321044922, 30.74138832092285, 30.91892433166504, 30.945215225219727, 31.121849060058594, 31.24956512451172, 31.32048988342285, 31.31509780883789, 31.334840774536133, 31.4222469329834, 31.474037170410156, 31.512441635131836, 31.58606719970703, 31.832422256469727, 32.012351989746094, 32.23166275024414, 32.32822036743164, 32.38876724243164, 32.51101303100586, 32.488704681396484, 32.564247131347656, 32.56632614135742, 32.592445373535156, 32.74837875366211, 32.81732177734375, 33.04655075073242, 33.1257209777832, 33.244232177734375, 33.28445816040039, 33.2459716796875, 33.33007049560547, 33.473785400390625, 33.6197624206543, 33.70700454711914, 33.890968322753906, 0.0, 0.0, 0.0, 0.0, 0.0, 0.0, 0.0, 0.0, 0.0, 0.0, 0.0, 0.0, 0.0, 0.0, 0.0, 0.0, 0.0, 0.0, 0.0, 0.0, 0.0, 0.0, 0.0, 0.0, 0.0, 0.0, 0.0, 0.0, 0.0, 0.0, 0.0], \"yaxis\": \"y9\"}],\n",
       "                        {\"annotations\": [{\"font\": {\"size\": 16}, \"showarrow\": false, \"text\": \"<i>Sc\\u00e9n. 2.6 janvier</i>\", \"x\": 0.14444444444444446, \"xanchor\": \"center\", \"xref\": \"paper\", \"y\": 1.0, \"yanchor\": \"bottom\", \"yref\": \"paper\"}, {\"font\": {\"size\": 16}, \"showarrow\": false, \"text\": \"<i>Sc\\u00e9n. 4.5 janvier</i>\", \"x\": 0.5, \"xanchor\": \"center\", \"xref\": \"paper\", \"y\": 1.0, \"yanchor\": \"bottom\", \"yref\": \"paper\"}, {\"font\": {\"size\": 16}, \"showarrow\": false, \"text\": \"<i>Sc\\u00e9n.8.5 janvier</i>\", \"x\": 0.8555555555555556, \"xanchor\": \"center\", \"xref\": \"paper\", \"y\": 1.0, \"yanchor\": \"bottom\", \"yref\": \"paper\"}, {\"font\": {\"size\": 16}, \"showarrow\": false, \"text\": \"<i>Sc\\u00e9n. 2.6 aout</i>\", \"x\": 0.14444444444444446, \"xanchor\": \"center\", \"xref\": \"paper\", \"y\": 0.6111111111111112, \"yanchor\": \"bottom\", \"yref\": \"paper\"}, {\"font\": {\"size\": 16}, \"showarrow\": false, \"text\": \"<i>Sc\\u00e9n. 4.5 aout</i>\", \"x\": 0.5, \"xanchor\": \"center\", \"xref\": \"paper\", \"y\": 0.6111111111111112, \"yanchor\": \"bottom\", \"yref\": \"paper\"}, {\"font\": {\"size\": 16}, \"showarrow\": false, \"text\": \"<i>Sc\\u00e9n. 8.5 aout</i>\", \"x\": 0.8555555555555556, \"xanchor\": \"center\", \"xref\": \"paper\", \"y\": 0.6111111111111112, \"yanchor\": \"bottom\", \"yref\": \"paper\"}, {\"font\": {\"size\": 16}, \"showarrow\": false, \"text\": \"<i>Sc\\u00e9n. 2.6 ann\\u00e9e</i>\", \"x\": 0.14444444444444446, \"xanchor\": \"center\", \"xref\": \"paper\", \"y\": 0.22222222222222224, \"yanchor\": \"bottom\", \"yref\": \"paper\"}, {\"font\": {\"size\": 16}, \"showarrow\": false, \"text\": \"<i>Sc\\u00e9n. 4.5 ann\\u00e9e</i>\", \"x\": 0.5, \"xanchor\": \"center\", \"xref\": \"paper\", \"y\": 0.22222222222222224, \"yanchor\": \"bottom\", \"yref\": \"paper\"}, {\"font\": {\"size\": 16}, \"showarrow\": false, \"text\": \"<i>Sc\\u00e9n. 8.5 ann\\u00e9e</i>\", \"x\": 0.8555555555555556, \"xanchor\": \"center\", \"xref\": \"paper\", \"y\": 0.22222222222222224, \"yanchor\": \"bottom\", \"yref\": \"paper\"}], \"autosize\": false, \"height\": 1200, \"legend\": {\"orientation\": \"h\"}, \"margin\": {\"b\": 50, \"l\": 60, \"r\": 30, \"t\": 50}, \"template\": {\"data\": {\"bar\": [{\"error_x\": {\"color\": \"#2a3f5f\"}, \"error_y\": {\"color\": \"#2a3f5f\"}, \"marker\": {\"line\": {\"color\": \"#E5ECF6\", \"width\": 0.5}}, \"type\": \"bar\"}], \"barpolar\": [{\"marker\": {\"line\": {\"color\": \"#E5ECF6\", \"width\": 0.5}}, \"type\": \"barpolar\"}], \"carpet\": [{\"aaxis\": {\"endlinecolor\": \"#2a3f5f\", \"gridcolor\": \"white\", \"linecolor\": \"white\", \"minorgridcolor\": \"white\", \"startlinecolor\": \"#2a3f5f\"}, \"baxis\": {\"endlinecolor\": \"#2a3f5f\", \"gridcolor\": \"white\", \"linecolor\": \"white\", \"minorgridcolor\": \"white\", \"startlinecolor\": \"#2a3f5f\"}, \"type\": \"carpet\"}], \"choropleth\": [{\"colorbar\": {\"outlinewidth\": 0, \"ticks\": \"\"}, \"type\": \"choropleth\"}], \"contour\": [{\"colorbar\": {\"outlinewidth\": 0, \"ticks\": \"\"}, \"colorscale\": [[0.0, \"#0d0887\"], [0.1111111111111111, \"#46039f\"], [0.2222222222222222, \"#7201a8\"], [0.3333333333333333, \"#9c179e\"], [0.4444444444444444, \"#bd3786\"], [0.5555555555555556, \"#d8576b\"], [0.6666666666666666, \"#ed7953\"], [0.7777777777777778, \"#fb9f3a\"], [0.8888888888888888, \"#fdca26\"], [1.0, \"#f0f921\"]], \"type\": \"contour\"}], \"contourcarpet\": [{\"colorbar\": {\"outlinewidth\": 0, \"ticks\": \"\"}, \"type\": \"contourcarpet\"}], \"heatmap\": [{\"colorbar\": {\"outlinewidth\": 0, \"ticks\": \"\"}, \"colorscale\": [[0.0, \"#0d0887\"], [0.1111111111111111, \"#46039f\"], [0.2222222222222222, \"#7201a8\"], [0.3333333333333333, \"#9c179e\"], [0.4444444444444444, \"#bd3786\"], [0.5555555555555556, \"#d8576b\"], [0.6666666666666666, \"#ed7953\"], [0.7777777777777778, \"#fb9f3a\"], [0.8888888888888888, \"#fdca26\"], [1.0, \"#f0f921\"]], \"type\": \"heatmap\"}], \"heatmapgl\": [{\"colorbar\": {\"outlinewidth\": 0, \"ticks\": \"\"}, \"colorscale\": [[0.0, \"#0d0887\"], [0.1111111111111111, \"#46039f\"], [0.2222222222222222, \"#7201a8\"], [0.3333333333333333, \"#9c179e\"], [0.4444444444444444, \"#bd3786\"], [0.5555555555555556, \"#d8576b\"], [0.6666666666666666, \"#ed7953\"], [0.7777777777777778, \"#fb9f3a\"], [0.8888888888888888, \"#fdca26\"], [1.0, \"#f0f921\"]], \"type\": \"heatmapgl\"}], \"histogram\": [{\"marker\": {\"colorbar\": {\"outlinewidth\": 0, \"ticks\": \"\"}}, \"type\": \"histogram\"}], \"histogram2d\": [{\"colorbar\": {\"outlinewidth\": 0, \"ticks\": \"\"}, \"colorscale\": [[0.0, \"#0d0887\"], [0.1111111111111111, \"#46039f\"], [0.2222222222222222, \"#7201a8\"], [0.3333333333333333, \"#9c179e\"], [0.4444444444444444, \"#bd3786\"], [0.5555555555555556, \"#d8576b\"], [0.6666666666666666, \"#ed7953\"], [0.7777777777777778, \"#fb9f3a\"], [0.8888888888888888, \"#fdca26\"], [1.0, \"#f0f921\"]], \"type\": \"histogram2d\"}], \"histogram2dcontour\": [{\"colorbar\": {\"outlinewidth\": 0, \"ticks\": \"\"}, \"colorscale\": [[0.0, \"#0d0887\"], [0.1111111111111111, \"#46039f\"], [0.2222222222222222, \"#7201a8\"], [0.3333333333333333, \"#9c179e\"], [0.4444444444444444, \"#bd3786\"], [0.5555555555555556, \"#d8576b\"], [0.6666666666666666, \"#ed7953\"], [0.7777777777777778, \"#fb9f3a\"], [0.8888888888888888, \"#fdca26\"], [1.0, \"#f0f921\"]], \"type\": \"histogram2dcontour\"}], \"mesh3d\": [{\"colorbar\": {\"outlinewidth\": 0, \"ticks\": \"\"}, \"type\": \"mesh3d\"}], \"parcoords\": [{\"line\": {\"colorbar\": {\"outlinewidth\": 0, \"ticks\": \"\"}}, \"type\": \"parcoords\"}], \"scatter\": [{\"marker\": {\"colorbar\": {\"outlinewidth\": 0, \"ticks\": \"\"}}, \"type\": \"scatter\"}], \"scatter3d\": [{\"line\": {\"colorbar\": {\"outlinewidth\": 0, \"ticks\": \"\"}}, \"marker\": {\"colorbar\": {\"outlinewidth\": 0, \"ticks\": \"\"}}, \"type\": \"scatter3d\"}], \"scattercarpet\": [{\"marker\": {\"colorbar\": {\"outlinewidth\": 0, \"ticks\": \"\"}}, \"type\": \"scattercarpet\"}], \"scattergeo\": [{\"marker\": {\"colorbar\": {\"outlinewidth\": 0, \"ticks\": \"\"}}, \"type\": \"scattergeo\"}], \"scattergl\": [{\"marker\": {\"colorbar\": {\"outlinewidth\": 0, \"ticks\": \"\"}}, \"type\": \"scattergl\"}], \"scattermapbox\": [{\"marker\": {\"colorbar\": {\"outlinewidth\": 0, \"ticks\": \"\"}}, \"type\": \"scattermapbox\"}], \"scatterpolar\": [{\"marker\": {\"colorbar\": {\"outlinewidth\": 0, \"ticks\": \"\"}}, \"type\": \"scatterpolar\"}], \"scatterpolargl\": [{\"marker\": {\"colorbar\": {\"outlinewidth\": 0, \"ticks\": \"\"}}, \"type\": \"scatterpolargl\"}], \"scatterternary\": [{\"marker\": {\"colorbar\": {\"outlinewidth\": 0, \"ticks\": \"\"}}, \"type\": \"scatterternary\"}], \"surface\": [{\"colorbar\": {\"outlinewidth\": 0, \"ticks\": \"\"}, \"colorscale\": [[0.0, \"#0d0887\"], [0.1111111111111111, \"#46039f\"], [0.2222222222222222, \"#7201a8\"], [0.3333333333333333, \"#9c179e\"], [0.4444444444444444, \"#bd3786\"], [0.5555555555555556, \"#d8576b\"], [0.6666666666666666, \"#ed7953\"], [0.7777777777777778, \"#fb9f3a\"], [0.8888888888888888, \"#fdca26\"], [1.0, \"#f0f921\"]], \"type\": \"surface\"}], \"table\": [{\"cells\": {\"fill\": {\"color\": \"#EBF0F8\"}, \"line\": {\"color\": \"white\"}}, \"header\": {\"fill\": {\"color\": \"#C8D4E3\"}, \"line\": {\"color\": \"white\"}}, \"type\": \"table\"}]}, \"layout\": {\"annotationdefaults\": {\"arrowcolor\": \"#2a3f5f\", \"arrowhead\": 0, \"arrowwidth\": 1}, \"colorscale\": {\"diverging\": [[0, \"#8e0152\"], [0.1, \"#c51b7d\"], [0.2, \"#de77ae\"], [0.3, \"#f1b6da\"], [0.4, \"#fde0ef\"], [0.5, \"#f7f7f7\"], [0.6, \"#e6f5d0\"], [0.7, \"#b8e186\"], [0.8, \"#7fbc41\"], [0.9, \"#4d9221\"], [1, \"#276419\"]], \"sequential\": [[0.0, \"#0d0887\"], [0.1111111111111111, \"#46039f\"], [0.2222222222222222, \"#7201a8\"], [0.3333333333333333, \"#9c179e\"], [0.4444444444444444, \"#bd3786\"], [0.5555555555555556, \"#d8576b\"], [0.6666666666666666, \"#ed7953\"], [0.7777777777777778, \"#fb9f3a\"], [0.8888888888888888, \"#fdca26\"], [1.0, \"#f0f921\"]], \"sequentialminus\": [[0.0, \"#0d0887\"], [0.1111111111111111, \"#46039f\"], [0.2222222222222222, \"#7201a8\"], [0.3333333333333333, \"#9c179e\"], [0.4444444444444444, \"#bd3786\"], [0.5555555555555556, \"#d8576b\"], [0.6666666666666666, \"#ed7953\"], [0.7777777777777778, \"#fb9f3a\"], [0.8888888888888888, \"#fdca26\"], [1.0, \"#f0f921\"]]}, \"colorway\": [\"#636efa\", \"#EF553B\", \"#00cc96\", \"#ab63fa\", \"#FFA15A\", \"#19d3f3\", \"#FF6692\", \"#B6E880\", \"#FF97FF\", \"#FECB52\"], \"font\": {\"color\": \"#2a3f5f\"}, \"geo\": {\"bgcolor\": \"white\", \"lakecolor\": \"white\", \"landcolor\": \"#E5ECF6\", \"showlakes\": true, \"showland\": true, \"subunitcolor\": \"white\"}, \"hoverlabel\": {\"align\": \"left\"}, \"hovermode\": \"closest\", \"mapbox\": {\"style\": \"light\"}, \"paper_bgcolor\": \"white\", \"plot_bgcolor\": \"#E5ECF6\", \"polar\": {\"angularaxis\": {\"gridcolor\": \"white\", \"linecolor\": \"white\", \"ticks\": \"\"}, \"bgcolor\": \"#E5ECF6\", \"radialaxis\": {\"gridcolor\": \"white\", \"linecolor\": \"white\", \"ticks\": \"\"}}, \"scene\": {\"xaxis\": {\"backgroundcolor\": \"#E5ECF6\", \"gridcolor\": \"white\", \"gridwidth\": 2, \"linecolor\": \"white\", \"showbackground\": true, \"ticks\": \"\", \"zerolinecolor\": \"white\"}, \"yaxis\": {\"backgroundcolor\": \"#E5ECF6\", \"gridcolor\": \"white\", \"gridwidth\": 2, \"linecolor\": \"white\", \"showbackground\": true, \"ticks\": \"\", \"zerolinecolor\": \"white\"}, \"zaxis\": {\"backgroundcolor\": \"#E5ECF6\", \"gridcolor\": \"white\", \"gridwidth\": 2, \"linecolor\": \"white\", \"showbackground\": true, \"ticks\": \"\", \"zerolinecolor\": \"white\"}}, \"shapedefaults\": {\"line\": {\"color\": \"#2a3f5f\"}}, \"ternary\": {\"aaxis\": {\"gridcolor\": \"white\", \"linecolor\": \"white\", \"ticks\": \"\"}, \"baxis\": {\"gridcolor\": \"white\", \"linecolor\": \"white\", \"ticks\": \"\"}, \"bgcolor\": \"#E5ECF6\", \"caxis\": {\"gridcolor\": \"white\", \"linecolor\": \"white\", \"ticks\": \"\"}}, \"title\": {\"x\": 0.05}, \"xaxis\": {\"automargin\": true, \"gridcolor\": \"white\", \"linecolor\": \"white\", \"ticks\": \"\", \"zerolinecolor\": \"white\", \"zerolinewidth\": 2}, \"yaxis\": {\"automargin\": true, \"gridcolor\": \"white\", \"linecolor\": \"white\", \"ticks\": \"\", \"zerolinecolor\": \"white\", \"zerolinewidth\": 2}}}, \"title\": {\"text\": \"<b>Temp\\u00e9ratures maximales Lyon moyenn\\u00e9es sur 30 ans<b>\"}, \"width\": 1000, \"xaxis\": {\"anchor\": \"y\", \"domain\": [0.0, 0.2888888888888889], \"title\": {\"text\": \"Ann\\u00e9e\"}}, \"xaxis2\": {\"anchor\": \"y2\", \"domain\": [0.35555555555555557, 0.6444444444444445], \"title\": {\"text\": \"Ann\\u00e9e\"}}, \"xaxis3\": {\"anchor\": \"y3\", \"domain\": [0.7111111111111111, 1.0], \"title\": {\"text\": \"Ann\\u00e9e\"}}, \"xaxis4\": {\"anchor\": \"y4\", \"domain\": [0.0, 0.2888888888888889], \"title\": {\"text\": \"Ann\\u00e9e\"}}, \"xaxis5\": {\"anchor\": \"y5\", \"domain\": [0.35555555555555557, 0.6444444444444445], \"title\": {\"text\": \"Ann\\u00e9e\"}}, \"xaxis6\": {\"anchor\": \"y6\", \"domain\": [0.7111111111111111, 1.0], \"title\": {\"text\": \"Ann\\u00e9e\"}}, \"xaxis7\": {\"anchor\": \"y7\", \"domain\": [0.0, 0.2888888888888889], \"title\": {\"text\": \"Ann\\u00e9e\"}}, \"xaxis8\": {\"anchor\": \"y8\", \"domain\": [0.35555555555555557, 0.6444444444444445], \"title\": {\"text\": \"Ann\\u00e9e\"}}, \"xaxis9\": {\"anchor\": \"y9\", \"domain\": [0.7111111111111111, 1.0], \"title\": {\"text\": \"Ann\\u00e9e\"}}, \"yaxis\": {\"anchor\": \"x\", \"domain\": [0.7777777777777778, 1.0], \"range\": [4, 13], \"title\": {\"text\": \"Degr\\u00e9s C\"}}, \"yaxis2\": {\"anchor\": \"x2\", \"domain\": [0.7777777777777778, 1.0], \"range\": [4, 13], \"title\": {\"text\": \"Degr\\u00e9s C\"}}, \"yaxis3\": {\"anchor\": \"x3\", \"domain\": [0.7777777777777778, 1.0], \"range\": [4, 13], \"title\": {\"text\": \"Degr\\u00e9s C\"}}, \"yaxis4\": {\"anchor\": \"x4\", \"domain\": [0.3888888888888889, 0.6111111111111112], \"range\": [27, 34], \"title\": {\"text\": \"Degr\\u00e9s C\"}}, \"yaxis5\": {\"anchor\": \"x5\", \"domain\": [0.3888888888888889, 0.6111111111111112], \"range\": [27, 34], \"title\": {\"text\": \"Degr\\u00e9s C\"}}, \"yaxis6\": {\"anchor\": \"x6\", \"domain\": [0.3888888888888889, 0.6111111111111112], \"range\": [27, 34], \"title\": {\"text\": \"Degr\\u00e9s C\"}}, \"yaxis7\": {\"anchor\": \"x7\", \"domain\": [0.0, 0.22222222222222224], \"range\": [27, 34], \"title\": {\"text\": \"Degr\\u00e9s C\"}}, \"yaxis8\": {\"anchor\": \"x8\", \"domain\": [0.0, 0.22222222222222224], \"range\": [27, 34], \"title\": {\"text\": \"Degr\\u00e9s C\"}}, \"yaxis9\": {\"anchor\": \"x9\", \"domain\": [0.0, 0.22222222222222224], \"range\": [27, 34], \"title\": {\"text\": \"Degr\\u00e9s C\"}}},\n",
       "                        {\"responsive\": true}\n",
       "                    ).then(function(){\n",
       "                            \n",
       "var gd = document.getElementById('aab69016-9c1b-452b-9b24-f9cc709c5522');\n",
       "var x = new MutationObserver(function (mutations, observer) {{\n",
       "        var display = window.getComputedStyle(gd).display;\n",
       "        if (!display || display === 'none') {{\n",
       "            console.log([gd, 'removed!']);\n",
       "            Plotly.purge(gd);\n",
       "            observer.disconnect();\n",
       "        }}\n",
       "}});\n",
       "\n",
       "// Listen for the removal of the full notebook cells\n",
       "var notebookContainer = gd.closest('#notebook-container');\n",
       "if (notebookContainer) {{\n",
       "    x.observe(notebookContainer, {childList: true});\n",
       "}}\n",
       "\n",
       "// Listen for the clearing of the current output cell\n",
       "var outputEl = gd.closest('.output');\n",
       "if (outputEl) {{\n",
       "    x.observe(outputEl, {childList: true});\n",
       "}}\n",
       "\n",
       "                        })\n",
       "                };\n",
       "                });\n",
       "            </script>\n",
       "        </div>"
      ]
     },
     "metadata": {},
     "output_type": "display_data"
    }
   ],
   "source": [
    "q = 0\n",
    "traceL26_0 = go.Scatter(\n",
    "    x = Lyon_year[firstPlotYear:lastPlotYear],\n",
    "    y = moyMAreaInterval_Lyon_26[q,:],\n",
    "    name ='Lyon oyenne 2.6 du mois %s'%Lyon_month[calcMonth[q]]\n",
    ")\n",
    "traceT26_0 = go.Scatter(\n",
    "    x = Tlse_year[firstPlotYear:lastPlotYear],\n",
    "    y = moyMAreaInterval_Tlse_26[q,:],\n",
    "    name ='Tls moyenne 2.6 du mois %s'%Tlse_month[calcMonth[q]]\n",
    ")\n",
    "\n",
    "\n",
    "traceL45_0 = go.Scatter(\n",
    "    x = Lyon_year[firstPlotYear:lastPlotYear],\n",
    "    y = moyMAreaInterval_Lyon_45[q,:],\n",
    "    name ='Lyon moyenne 4.5 du mois %s'%Lyon_month[calcMonth[q]]\n",
    ")\n",
    "traceT45_0 = go.Scatter(\n",
    "    x = Tlse_year[firstPlotYear:lastPlotYear],\n",
    "    y = moyMAreaInterval_Tlse_45[q,:],\n",
    "    name ='Tls moyenne 4.5 du mois %s'%Tlse_month[calcMonth[q]]\n",
    ")\n",
    "\n",
    "\n",
    "traceL85_0 = go.Scatter(\n",
    "    x = Lyon_year[firstPlotYear:lastPlotYear],\n",
    "    y = moyMAreaInterval_Lyon_85[q,:],\n",
    "    name ='Moyenne 8.5 du mois %s'%Lyon_month[calcMonth[q]]\n",
    ")\n",
    "traceT85_0 = go.Scatter(\n",
    "    x = Tlse_year[firstPlotYear:lastPlotYear],\n",
    "    y = moyMAreaInterval_Tlse_85[q,:],\n",
    "    name ='Moyenne 8.5 du mois %s'%Tlse_month[calcMonth[q]]\n",
    ")\n",
    "\n",
    "\n",
    "q = 1\n",
    "traceL26_1 = go.Scatter(\n",
    "    x = Lyon_year[firstPlotYear:lastPlotYear],\n",
    "    y = moyMAreaInterval_Lyon_26[q,:],\n",
    "    name ='Moyenne 2.6 du mois %s'%Lyon_month[calcMonth[q]]\n",
    ")\n",
    "traceT26_1 = go.Scatter(\n",
    "    x = Tlse_year[firstPlotYear:lastPlotYear],\n",
    "    y = moyMAreaInterval_Tlse_26[q,:],\n",
    "    name ='Tls moyenne 2.6 du mois %s'%Tlse_month[calcMonth[q]]\n",
    ")\n",
    "\n",
    "traceL45_1 = go.Scatter(\n",
    "    x = Lyon_year[firstPlotYear:lastPlotYear],\n",
    "    y = moyMAreaInterval_Lyon_45[q,:],\n",
    "    name ='Moyenne 4.5 du mois %s'%Lyon_month[calcMonth[q]]\n",
    ")\n",
    "traceT45_1 = go.Scatter(\n",
    "    x = Tlse_year[firstPlotYear:lastPlotYear],\n",
    "    y = moyMAreaInterval_Tlse_45[q,:],\n",
    "    name ='Tls moyenne 4.5 du mois %s'%Tlse_month[calcMonth[q]]\n",
    ")\n",
    "\n",
    "traceL85_1 = go.Scatter(\n",
    "    x = Lyon_year[firstPlotYear:lastPlotYear],\n",
    "    y = moyMAreaInterval_Lyon_85[q,:],\n",
    "    name ='Moyenne 8.5 du mois %s'%Lyon_month[calcMonth[q]]\n",
    ")\n",
    "traceT85_1 = go.Scatter(\n",
    "    x = Tlse_year[firstPlotYear:lastPlotYear],\n",
    "    y = moyMAreaInterval_Tlse_85[q,:],\n",
    "    name ='Moyenne 8.5 du mois %s'%Tlse_month[calcMonth[q]]\n",
    ")\n",
    "\n",
    "q = 2\n",
    "traceL26_2 = go.Scatter(\n",
    "    x = Lyon_year[firstPlotYear:lastPlotYear],\n",
    "    y = moyMAreaInterval_Lyon_26[q,:],\n",
    "    name =\"Moyenne 2.6 de l'année\"\n",
    ")\n",
    "traceT26_2 = go.Scatter(\n",
    "    x = Tlse_year[firstPlotYear:lastPlotYear],\n",
    "    y = moyMAreaInterval_Tlse_26[q,:],\n",
    "    name ='Tls moyenne 2.6 du mois %s'%Tlse_month[calcMonth[q]]\n",
    ")\n",
    "\n",
    "traceL45_2 = go.Scatter(\n",
    "    x = Lyon_year[firstPlotYear:lastPlotYear],\n",
    "    y = moyMAreaInterval_Lyon_45[q,:],\n",
    "    name =\"Moyenne 4.5 de l'année\"\n",
    ")\n",
    "traceT45_2 = go.Scatter(\n",
    "    x = Tlse_year[firstPlotYear:lastPlotYear],\n",
    "    y = moyMAreaInterval_Tlse_45[q,:],\n",
    "    name ='Tls moyenne 4.5 du mois %s'%Tlse_month[calcMonth[q]]\n",
    ")\n",
    "\n",
    "traceL85_2 = go.Scatter(\n",
    "    x = Lyon_year[firstPlotYear:lastPlotYear],\n",
    "    y = moyMAreaInterval_Lyon_85[q,:],\n",
    "    name =\"Moyenne 8.5 de l'année\"\n",
    ")\n",
    "traceT85_2 = go.Scatter(\n",
    "    x = Tlse_year[firstPlotYear:lastPlotYear],\n",
    "    y = moyMAreaInterval_Tlse_85[q,:],\n",
    "    name ='Moyenne 8.5 du mois %s'%Tlse_month[calcMonth[q]]\n",
    ")\n",
    "\n",
    "fig = subplots.make_subplots(rows=3, \n",
    "                          cols=3, \n",
    "                          subplot_titles=(\"<i>Scén. 2.6 janvier</i>\",\"<i>Scén. 4.5 janvier</i>\",\"<i>Scén.8.5 janvier</i>\",\n",
    "                                         \"<i>Scén. 2.6 aout</i>\",\"<i>Scén. 4.5 aout</i>\",\"<i>Scén. 8.5 aout</i>\",\n",
    "                                        \"<i>Scén. 2.6 année</i>\",\"<i>Scén. 4.5 année</i>\",\"<i>Scén. 8.5 année</i>\", ))\n",
    "\n",
    "fig.append_trace(traceL26_0, 1, 1)\n",
    "fig.append_trace(traceT26_0, 1, 1)\n",
    "fig.append_trace(traceL45_0, 1, 2)\n",
    "fig.append_trace(traceT45_0, 1, 2)\n",
    "fig.append_trace(traceL85_0, 1, 3)\n",
    "fig.append_trace(traceT85_0, 1, 3)\n",
    "fig.append_trace(traceL26_1, 2, 1)\n",
    "fig.append_trace(traceT26_1, 2, 1)\n",
    "fig.append_trace(traceL45_1, 2, 2)\n",
    "fig.append_trace(traceT45_1, 2, 2)\n",
    "fig.append_trace(traceL85_1, 2, 3)\n",
    "fig.append_trace(traceT85_1, 2, 3)\n",
    "fig.append_trace(traceL26_2, 3, 1)\n",
    "fig.append_trace(traceT26_2, 3, 1)\n",
    "fig.append_trace(traceL45_2, 3, 2)\n",
    "fig.append_trace(traceT45_2, 3, 2)\n",
    "fig.append_trace(traceL85_2, 3, 3)\n",
    "fig.append_trace(traceT85_2, 3, 3)\n",
    "\n",
    "fig.update_xaxes(title_text=\"Année\", row=1, col=1)\n",
    "fig.update_xaxes(title_text=\"Année\", row=1, col=2)\n",
    "fig.update_xaxes(title_text=\"Année\", row=1, col=3)\n",
    "fig.update_xaxes(title_text=\"Année\", row=2, col=1)\n",
    "fig.update_xaxes(title_text=\"Année\", row=2, col=2)\n",
    "fig.update_xaxes(title_text=\"Année\", row=2, col=3)\n",
    "fig.update_xaxes(title_text=\"Année\", row=3, col=1)\n",
    "fig.update_xaxes(title_text=\"Année\", row=3, col=2)\n",
    "fig.update_xaxes(title_text=\"Année\", row=3, col=3)\n",
    "\n",
    "fig.update_yaxes(title_text=\"Degrés C\", range=[4, 13], row=1, col=1)\n",
    "fig.update_yaxes(title_text=\"Degrés C\", range=[4, 13], row=1, col=2)\n",
    "fig.update_yaxes(title_text=\"Degrés C\", range=[4, 13], row=1, col=3)\n",
    "fig.update_yaxes(title_text=\"Degrés C\", range=[27, 34], row=2, col=1)\n",
    "fig.update_yaxes(title_text=\"Degrés C\", range=[27, 34], row=2, col=2)\n",
    "fig.update_yaxes(title_text=\"Degrés C\", range=[27, 34], row=2, col=3)\n",
    "fig.update_yaxes(title_text=\"Degrés C\", range=[27, 34], row=3, col=1)\n",
    "fig.update_yaxes(title_text=\"Degrés C\", range=[27, 34], row=3, col=2)\n",
    "fig.update_yaxes(title_text=\"Degrés C\", range=[27, 34], row=3, col=3)\n",
    "\n",
    "fig['layout']['margin'] = {'l': 60, 'r': 30, 'b': 50, 't': 50}\n",
    "fig['layout'].update(autosize = False, height=1200, width=1000, title='<b>Températures maximales Lyon moyennées sur 30 ans<b>')\n",
    "\n",
    "fig.update_layout(legend_orientation=\"h\")\n",
    "\n",
    "py.iplot(fig, filename='basic-line')"
   ]
  },
  {
   "cell_type": "markdown",
   "metadata": {},
   "source": [
    "#### Modifications et enrichissement de la figure\n",
    "Les deux blocs ci-dessous permettent d'améliorer le rendu et d'annoter la figure. Le premier produit un fichier plotly qui peut être ouvert et modifié avec l'éditeur puis sauvegardé sous un nouveau nom par le second."
   ]
  },
  {
   "cell_type": "code",
   "execution_count": 11,
   "metadata": {},
   "outputs": [],
   "source": [
    "pio.write_json(fig, 'scatter1.plotly')"
   ]
  },
  {
   "cell_type": "code",
   "execution_count": 28,
   "metadata": {},
   "outputs": [],
   "source": [
    "fig_styled = pio.read_json('scatter1+.plotly', output_type='FigureWidget')\n",
    "#py.iplot(fig_styled, filename='styled-basic-line')"
   ]
  },
  {
   "cell_type": "markdown",
   "metadata": {},
   "source": [
    "### Calcul de la moyenne des minima sur l'intervalle choisi (30ans) pour les années disponibles\n",
    "\n",
    "Calcul de la moyenne des températures mensuelles/annuelles sur `yearInterval` (30 ans) pendant une période de `yearPeriod` (64 années) successives pour une sélection de `calcMonth`  mois (Janvier, Aout, année)."
   ]
  },
  {
   "cell_type": "code",
   "execution_count": 28,
   "metadata": {},
   "outputs": [],
   "source": [
    "# Using online file takes a little more time\n",
    "# Calculate the number of years yielding a result\n",
    "moymAreaInterval_26 = np.zeros((lencalcMonths, nbYears))\n",
    "moymAreaInterval_45 = np.zeros((lencalcMonths, nbYears))\n",
    "moymAreaInterval_85 = np.zeros((lencalcMonths, nbYears))\n",
    "# Tmax, i and j are computed to localize the mean\n",
    "for p in range(startYear, endYear) :\n",
    "    a = startYear + p\n",
    "    b = a + yearInterval\n",
    "    moymAreaInterval_26[:,p] = np.mean(Tlse_tmin26[a:b,calcMonth,startj:endj,starti:endi],axis=(0,2,3)) \n",
    "    moymAreaInterval_45[:,p] = np.mean(Tlse_tmin45[a:b,calcMonth,startj:endj,starti:endi],axis=(0,2,3)) \n",
    "    moymAreaInterval_85[:,p] = np.mean(Tlse_tmin85[a:b,calcMonth,startj:endj,starti:endi],axis=(0,2,3)) \n",
    "firstPlotYear = startYear + yearInterval\n",
    "lastPlotYear = firstPlotYear + yearPeriod\n",
    "#data = [] #* lencalcMonths\n",
    "#trace = [] #* lencalcMonths# Using online file takes a little more time"
   ]
  },
  {
   "cell_type": "markdown",
   "metadata": {},
   "source": [
    "Le diagramme ci-dessous  représente l'évolution sur `yearPeriod` années de la température dans la région Lyonnaise.(Décommenter la dernière ligne du bloc pour afficher la figure)"
   ]
  },
  {
   "cell_type": "code",
   "execution_count": 80,
   "metadata": {},
   "outputs": [
    {
     "name": "stdout",
     "output_type": "stream",
     "text": [
      "This is the format of your plot grid:\n",
      "[ (1,1) x1,y1 ]\n",
      "[ (2,1) x2,y2 ]\n",
      "[ (3,1) x3,y3 ]\n",
      "\n"
     ]
    },
    {
     "data": {
      "text/plain": [
       "Layout({\n",
       "    'annotations': [{'font': {'size': 16},\n",
       "                     'showarrow': False,\n",
       "                     'text': 'mois de janvier',\n",
       "                     'x': 0.5,\n",
       "                     'xanchor': 'center',\n",
       "                     'xref': 'paper',\n",
       "                     'y': 1.0,\n",
       "                     'yanchor': 'bottom',\n",
       "                     'yref': 'paper'},\n",
       "                    {'font': {'size': 16},\n",
       "                     'showarrow': False,\n",
       "                     'text': \"mois d'aout\",\n",
       "                     'x': 0.5,\n",
       "                     'xanchor': 'center',\n",
       "                     'xref': 'paper',\n",
       "                     'y': 0.6111111111111112,\n",
       "                     'yanchor': 'bottom',\n",
       "                     'yref': 'paper'},\n",
       "                    {'font': {'size': 16},\n",
       "                     'showarrow': False,\n",
       "                     'text': \"minimum de l'année\",\n",
       "                     'x': 0.5,\n",
       "                     'xanchor': 'center',\n",
       "                     'xref': 'paper',\n",
       "                     'y': 0.22222222222222224,\n",
       "                     'yanchor': 'bottom',\n",
       "                     'yref': 'paper'}],\n",
       "    'height': 1200,\n",
       "    'margin': {'b': 50, 'l': 50, 'r': 10, 't': 50},\n",
       "    'title': {'text': 'Températures minimales moyennées sur 30 ans'},\n",
       "    'width': 900,\n",
       "    'xaxis': {'anchor': 'y', 'domain': [0.0, 1.0], 'title': {'text': 'Year'}},\n",
       "    'xaxis2': {'anchor': 'y2', 'domain': [0.0, 1.0], 'title': {'text': 'Year'}},\n",
       "    'xaxis3': {'anchor': 'y3', 'domain': [0.0, 1.0], 'title': {'text': 'Year'}},\n",
       "    'yaxis': {'anchor': 'x', 'domain': [0.7777777777777778, 1.0], 'title': {'text': 'Degrees C'}},\n",
       "    'yaxis2': {'anchor': 'x2', 'domain': [0.3888888888888889, 0.6111111111111112], 'title': {'text': 'Degrees C'}},\n",
       "    'yaxis3': {'anchor': 'x3', 'domain': [0.0, 0.22222222222222224], 'title': {'text': 'Degrees C'}}\n",
       "})"
      ]
     },
     "execution_count": 80,
     "metadata": {},
     "output_type": "execute_result"
    }
   ],
   "source": [
    "q = 0\n",
    "trace26_0 = go.Scatter(\n",
    "    x = Tlse_year[firstPlotYear:lastPlotYear],\n",
    "    y = moymAreaInterval_26[q,:],\n",
    "    name ='Moyenne 2.6 du mois %s'%Tlse_month[calcMonth[q]]\n",
    ")\n",
    "trace45_0 = go.Scatter(\n",
    "    x = Tlse_year[firstPlotYear:lastPlotYear],\n",
    "    y = moymAreaInterval_45[q,:],\n",
    "    name ='Moyenne 4.5 du mois %s'%Tlse_month[calcMonth[q]]\n",
    ")\n",
    "trace85_0 = go.Scatter(\n",
    "    x = Tlse_year[firstPlotYear:lastPlotYear],\n",
    "    y = moymAreaInterval_85[q,:],\n",
    "    name ='Moyenne 8.5 du mois %s'%Tlse_month[calcMonth[q]]\n",
    ")\n",
    "\n",
    "q = 1\n",
    "trace26_1 = go.Scatter(\n",
    "    x = Tlse_year[firstPlotYear:lastPlotYear],\n",
    "    y = moymAreaInterval_26[q,:],\n",
    "    name ='Moyenne 2.6 du mois %s'%Tlse_month[calcMonth[q]]\n",
    ")\n",
    "trace45_1 = go.Scatter(\n",
    "    x = Tlse_year[firstPlotYear:lastPlotYear],\n",
    "    y = moymAreaInterval_45[q,:],\n",
    "    name ='Moyenne 4.5 du mois %s'%Tlse_month[calcMonth[q]]\n",
    ")\n",
    "\n",
    "trace85_1 = go.Scatter(\n",
    "    x = Tlse_year[firstPlotYear:lastPlotYear],\n",
    "    y = moymAreaInterval_85[q,:],\n",
    "    name ='Moyenne 8.5 du mois %s'%Tlse_month[calcMonth[q]]\n",
    ")\n",
    "\n",
    "q = 2\n",
    "trace26_2 = go.Scatter(\n",
    "    x = Tlse_year[firstPlotYear:lastPlotYear],\n",
    "    y = moymAreaInterval_26[q,:],\n",
    "    name ='Moyenne 2.6 du mois %s'%Tlse_month[calcMonth[q]]\n",
    ")\n",
    "trace45_2 = go.Scatter(\n",
    "    x = Tlse_year[firstPlotYear:lastPlotYear],\n",
    "    y = moymAreaInterval_45[q,:],\n",
    "    name ='Moyenne 4.5 du mois %s'%Tlse_month[calcMonth[q]]\n",
    ")\n",
    "\n",
    "trace85_2 = go.Scatter(\n",
    "    x = Tlse_year[firstPlotYear:lastPlotYear],\n",
    "    y = moymAreaInterval_85[q,:],\n",
    "    name ='Moyenne 8.5 du mois %s'%Tlse_month[calcMonth[q]]\n",
    ")\n",
    "\n",
    "fig = tools.make_subplots(rows=3, \n",
    "                          cols=1, \n",
    "                          subplot_titles=(\"mois de janvier\",\n",
    "                                          \"mois d'aout\",\n",
    "                                          \"minimum de l'année\"))\n",
    "\n",
    "fig.append_trace(trace26_0, 1, 1)\n",
    "fig.append_trace(trace45_0, 1, 1)\n",
    "fig.append_trace(trace85_0, 1, 1)\n",
    "fig.append_trace(trace26_1, 2, 1)\n",
    "fig.append_trace(trace45_1, 2, 1)\n",
    "fig.append_trace(trace85_1, 2, 1)\n",
    "fig.append_trace(trace26_2, 3, 1)\n",
    "fig.append_trace(trace45_2, 3, 1)\n",
    "fig.append_trace(trace85_2, 3, 1)\n",
    "\n",
    "\n",
    "fig['layout']['xaxis1'].update(title='Year')\n",
    "fig['layout']['xaxis2'].update(title='Year')\n",
    "fig['layout']['xaxis3'].update(title='Year')\n",
    "fig['layout']['yaxis1'].update(title='Degrees C')\n",
    "fig['layout']['yaxis2'].update(title='Degrees C')\n",
    "fig['layout']['yaxis3'].update(title='Degrees C')\n",
    "fig['layout']['margin'] = {'l': 50, 'r': 10, 'b': 50, 't': 50}\n",
    "fig['layout'].update(height=1200, width=900, title='Températures minimales moyennées sur 30 ans')\n",
    "\n",
    "#py.iplot(fig, filename='basic-line')"
   ]
  },
  {
   "cell_type": "markdown",
   "metadata": {},
   "source": [
    "#### Modifications et enrichissement de la figure"
   ]
  },
  {
   "cell_type": "code",
   "execution_count": 15,
   "metadata": {},
   "outputs": [],
   "source": [
    "pio.write_json(fig, 'scatter2.plotly')"
   ]
  },
  {
   "cell_type": "code",
   "execution_count": 27,
   "metadata": {},
   "outputs": [],
   "source": [
    "fig_styled = pio.read_json('scatter2+.plotly', output_type='FigureWidget')\n",
    "#py.iplot(fig_styled, filename='styled-basic-line')"
   ]
  },
  {
   "cell_type": "code",
   "execution_count": 32,
   "metadata": {},
   "outputs": [],
   "source": [
    "# Using online file takes a little more time\n",
    "# Calculate the number of years yielding a result\n",
    "moyDAreaInterval_26 = np.zeros((lencalcMonths, nbYears))\n",
    "moyDAreaInterval_45 = np.zeros((lencalcMonths, nbYears))\n",
    "moyDAreaInterval_85 = np.zeros((lencalcMonths, nbYears))\n",
    "# Tmax, i and j are computed to localize the mean\n",
    "for p in range(startYear, endYear) :\n",
    "    a = startYear + p\n",
    "    b = a + yearInterval\n",
    "    moyDAreaInterval_26[:,p] = np.mean(Tlse_delta26[a:b,calcMonth,startj:endj,starti:endi],axis=(0,2,3)) \n",
    "    moyDAreaInterval_45[:,p] = np.mean(Tlse_delta45[a:b,calcMonth,startj:endj,starti:endi],axis=(0,2,3)) \n",
    "    moyDAreaInterval_85[:,p] = np.mean(Tlse_delta85[a:b,calcMonth,startj:endj,starti:endi],axis=(0,2,3)) \n",
    "firstPlotYear = startYear + yearInterval\n",
    "lastPlotYear = firstPlotYear + yearPeriod\n",
    "#data = [] #* lencalcMonths\n",
    "#trace = [] #* lencalcMonths# Using online file takes a little more time"
   ]
  },
  {
   "cell_type": "code",
   "execution_count": 81,
   "metadata": {},
   "outputs": [
    {
     "name": "stdout",
     "output_type": "stream",
     "text": [
      "This is the format of your plot grid:\n",
      "[ (1,1) x1,y1 ]\n",
      "[ (2,1) x2,y2 ]\n",
      "[ (3,1) x3,y3 ]\n",
      "\n"
     ]
    },
    {
     "data": {
      "text/plain": [
       "Layout({\n",
       "    'annotations': [{'font': {'size': 16},\n",
       "                     'showarrow': False,\n",
       "                     'text': 'mois de janvier ',\n",
       "                     'x': 0.5,\n",
       "                     'xanchor': 'center',\n",
       "                     'xref': 'paper',\n",
       "                     'y': 1.0,\n",
       "                     'yanchor': 'bottom',\n",
       "                     'yref': 'paper'},\n",
       "                    {'font': {'size': 16},\n",
       "                     'showarrow': False,\n",
       "                     'text': \"mois d'aout\",\n",
       "                     'x': 0.5,\n",
       "                     'xanchor': 'center',\n",
       "                     'xref': 'paper',\n",
       "                     'y': 0.6111111111111112,\n",
       "                     'yanchor': 'bottom',\n",
       "                     'yref': 'paper'},\n",
       "                    {'font': {'size': 16},\n",
       "                     'showarrow': False,\n",
       "                     'text': \"max de l'année\",\n",
       "                     'x': 0.5,\n",
       "                     'xanchor': 'center',\n",
       "                     'xref': 'paper',\n",
       "                     'y': 0.22222222222222224,\n",
       "                     'yanchor': 'bottom',\n",
       "                     'yref': 'paper'}],\n",
       "    'autosize': False,\n",
       "    'height': 1200,\n",
       "    'margin': {'b': 50, 'l': 50, 'r': 10, 't': 50},\n",
       "    'title': {'text': 'Écart de température journalier moyennées sur 30 ans\\n'},\n",
       "    'width': 900,\n",
       "    'xaxis': {'anchor': 'y', 'domain': [0.0, 1.0], 'title': {'text': 'Year'}},\n",
       "    'xaxis2': {'anchor': 'y2', 'domain': [0.0, 1.0], 'title': {'text': 'Year'}},\n",
       "    'xaxis3': {'anchor': 'y3', 'domain': [0.0, 1.0], 'title': {'text': 'Year'}},\n",
       "    'yaxis': {'anchor': 'x', 'domain': [0.7777777777777778, 1.0], 'title': {'text': 'Degrees C'}},\n",
       "    'yaxis2': {'anchor': 'x2', 'domain': [0.3888888888888889, 0.6111111111111112], 'title': {'text': 'Degrees C'}},\n",
       "    'yaxis3': {'anchor': 'x3', 'domain': [0.0, 0.22222222222222224], 'title': {'text': 'Degrees C'}}\n",
       "})"
      ]
     },
     "execution_count": 81,
     "metadata": {},
     "output_type": "execute_result"
    }
   ],
   "source": [
    "q = 0\n",
    "trace26_0 = go.Scatter(\n",
    "    x = Tlse_year[firstPlotYear:lastPlotYear],\n",
    "    y = moyDAreaInterval_26[q,:],\n",
    "    name ='Moyenne 2.6 du mois %s'%Tlse_month[calcMonth[q]]\n",
    ")\n",
    "trace45_0 = go.Scatter(\n",
    "    x = Tlse_year[firstPlotYear:lastPlotYear],\n",
    "    y = moyDAreaInterval_45[q,:],\n",
    "    name ='Moyenne 4.5 du mois %s'%Tlse_month[calcMonth[q]]\n",
    ")\n",
    "trace85_0 = go.Scatter(\n",
    "    x = Tlse_year[firstPlotYear:lastPlotYear],\n",
    "    y = moyDAreaInterval_85[q,:],\n",
    "    name ='Moyenne 8.5 du mois %s'%Tlse_month[calcMonth[q]]\n",
    ")\n",
    "\n",
    "q = 1\n",
    "trace26_1 = go.Scatter(\n",
    "    x = Tlse_year[firstPlotYear:lastPlotYear],\n",
    "    y = moyDAreaInterval_26[q,:],\n",
    "    name ='Moyenne 2.6 du mois %s'%Tlse_month[calcMonth[q]]\n",
    ")\n",
    "trace45_1 = go.Scatter(\n",
    "    x = Tlse_year[firstPlotYear:lastPlotYear],\n",
    "    y = moyDAreaInterval_45[q,:],\n",
    "    name ='Moyenne 4.5 du mois %s'%Tlse_month[calcMonth[q]]\n",
    ")\n",
    "\n",
    "trace85_1 = go.Scatter(\n",
    "    x = Tlse_year[firstPlotYear:lastPlotYear],\n",
    "    y = moyDAreaInterval_85[q,:],\n",
    "    name ='Moyenne 8.5 du mois %s'%Tlse_month[calcMonth[q]]\n",
    ")\n",
    "\n",
    "q = 2\n",
    "trace26_2 = go.Scatter(\n",
    "    x = Tlse_year[firstPlotYear:lastPlotYear],\n",
    "    y = moyDAreaInterval_26[q,:],\n",
    "    name =\"Moyenne 2.6 de l'année\"\n",
    ")\n",
    "trace45_2 = go.Scatter(\n",
    "    x = Tlse_year[firstPlotYear:lastPlotYear],\n",
    "    y = moyDAreaInterval_45[q,:],\n",
    "    name =\"Moyenne 4.5 de l'année\"\n",
    ")\n",
    "\n",
    "trace85_2 = go.Scatter(\n",
    "    x = Tlse_year[firstPlotYear:lastPlotYear],\n",
    "    y = moyDAreaInterval_85[q,:],\n",
    "    name =\"Moyenne 8.5 de l'année\"\n",
    ")\n",
    "\n",
    "fig = tools.make_subplots(rows=3, \n",
    "                          cols=1, \n",
    "                          subplot_titles=(\"mois de janvier \",\"mois d'aout\",\"max de l'année\"))\n",
    "\n",
    "fig.append_trace(trace26_0, 1, 1)\n",
    "fig.append_trace(trace45_0, 1, 1)\n",
    "fig.append_trace(trace85_0, 1, 1)\n",
    "fig.append_trace(trace26_1, 2, 1)\n",
    "fig.append_trace(trace45_1, 2, 1)\n",
    "fig.append_trace(trace85_1, 2, 1)\n",
    "fig.append_trace(trace26_2, 3, 1)\n",
    "fig.append_trace(trace45_2, 3, 1)\n",
    "fig.append_trace(trace85_2, 3, 1)\n",
    "\n",
    "fig['layout']['xaxis1'].update(title='Year')\n",
    "fig['layout']['xaxis2'].update(title='Year')\n",
    "fig['layout']['xaxis3'].update(title='Year')\n",
    "fig['layout']['yaxis1'].update(title='Degrees C')\n",
    "fig['layout']['yaxis2'].update(title='Degrees C')\n",
    "fig['layout']['yaxis3'].update(title='Degrees C')\n",
    "fig['layout']['margin'] = {'l': 50, 'r': 10, 'b': 50, 't': 50}\n",
    "fig['layout'].update(autosize = False, height=1200, width=900, title='Écart de température journalier moyennées sur 30 ans\\n')\n",
    "\n",
    "#py.iplot(fig, filename='basic-line')"
   ]
  },
  {
   "cell_type": "code",
   "execution_count": 36,
   "metadata": {},
   "outputs": [],
   "source": [
    "# Using online file takes a little more time\n",
    "# Calculate the number of years yielding a result\n",
    "moypAreaInterval_26 = np.zeros((lencalcMonths, nbYears))\n",
    "moypAreaInterval_45 = np.zeros((lencalcMonths, nbYears))\n",
    "moypAreaInterval_85 = np.zeros((lencalcMonths, nbYears))\n",
    "# Tmax, i and j are computed to localize the mean\n",
    "for p in range(startYear, endYear) :\n",
    "    a = startYear + p\n",
    "    b = a + yearInterval\n",
    "    moypAreaInterval_26[:, p] = np.mean(Tlse_rstr26[a:b, calcMonth, startj:endj, starti:endi], axis=(0, 2, 3))\n",
    "    moypAreaInterval_45[:, p] = np.mean(Tlse_rstr45[a:b, calcMonth, startj:endj, starti:endi], axis=(0, 2, 3))\n",
    "    moypAreaInterval_85[:, p] = np.mean(Tlse_rstr85[a:b, calcMonth, startj:endj, starti:endi], axis=(0, 2, 3))\n",
    "firstPlotYear = startYear + yearInterval\n",
    "lastPlotYear = firstPlotYear + yearPeriod\n",
    "data = [] #* lencalcMonths\n",
    "trace = [] #* lencalcMonths# Using online file takes a little more time"
   ]
  },
  {
   "cell_type": "code",
   "execution_count": 82,
   "metadata": {},
   "outputs": [
    {
     "name": "stdout",
     "output_type": "stream",
     "text": [
      "This is the format of your plot grid:\n",
      "[ (1,1) x1,y1 ]\n",
      "[ (2,1) x2,y2 ]\n",
      "[ (3,1) x3,y3 ]\n",
      "\n"
     ]
    },
    {
     "data": {
      "text/plain": [
       "Layout({\n",
       "    'annotations': [{'font': {'size': 16},\n",
       "                     'showarrow': False,\n",
       "                     'text': 'mois de janvier',\n",
       "                     'x': 0.5,\n",
       "                     'xanchor': 'center',\n",
       "                     'xref': 'paper',\n",
       "                     'y': 1.0,\n",
       "                     'yanchor': 'bottom',\n",
       "                     'yref': 'paper'},\n",
       "                    {'font': {'size': 16},\n",
       "                     'showarrow': False,\n",
       "                     'text': \"mois d'aout\",\n",
       "                     'x': 0.5,\n",
       "                     'xanchor': 'center',\n",
       "                     'xref': 'paper',\n",
       "                     'y': 0.6111111111111112,\n",
       "                     'yanchor': 'bottom',\n",
       "                     'yref': 'paper'},\n",
       "                    {'font': {'size': 16},\n",
       "                     'showarrow': False,\n",
       "                     'text': \"moyenne mensuelle sur l'année\",\n",
       "                     'x': 0.5,\n",
       "                     'xanchor': 'center',\n",
       "                     'xref': 'paper',\n",
       "                     'y': 0.22222222222222224,\n",
       "                     'yanchor': 'bottom',\n",
       "                     'yref': 'paper'}],\n",
       "    'height': 1200,\n",
       "    'title': {'text': 'Précipitations moyennées sur 30 ans'},\n",
       "    'width': 900,\n",
       "    'xaxis': {'anchor': 'y', 'domain': [0.0, 1.0], 'title': {'text': 'Année'}},\n",
       "    'xaxis2': {'anchor': 'y2', 'domain': [0.0, 1.0], 'title': {'text': 'Année'}},\n",
       "    'xaxis3': {'anchor': 'y3', 'domain': [0.0, 1.0], 'title': {'text': 'Année'}},\n",
       "    'yaxis': {'anchor': 'x', 'domain': [0.7777777777777778, 1.0], 'title': {'text': 'mm of rain'}},\n",
       "    'yaxis2': {'anchor': 'x2', 'domain': [0.3888888888888889, 0.6111111111111112], 'title': {'text': 'mm of rain'}},\n",
       "    'yaxis3': {'anchor': 'x3', 'domain': [0.0, 0.22222222222222224], 'title': {'text': 'mm of rain'}}\n",
       "})"
      ]
     },
     "execution_count": 82,
     "metadata": {},
     "output_type": "execute_result"
    }
   ],
   "source": [
    "q = 0\n",
    "trace26_0 = go.Scatter(\n",
    "    x = Tlse_year[firstPlotYear:lastPlotYear],\n",
    "    y = moypAreaInterval_26[q,:],\n",
    "    name ='Moyenne 2.6 du mois %s'%Tlse_month[calcMonth[q]],\n",
    ")\n",
    "trace45_0 = go.Scatter(\n",
    "    x = Tlse_year[firstPlotYear:lastPlotYear],\n",
    "    y = moypAreaInterval_45[q,:],\n",
    "    name ='Moyenne 4.5 du mois %s'%Tlse_month[calcMonth[q]],\n",
    ")\n",
    "trace85_0 = go.Scatter(\n",
    "    x = Tlse_year[firstPlotYear:lastPlotYear],\n",
    "    y = moypAreaInterval_85[q,:],\n",
    "    name ='Moyenne 8.5 du mois %s'%Tlse_month[calcMonth[q]],\n",
    ")\n",
    "\n",
    "q = 1\n",
    "trace26_1 = go.Scatter(\n",
    "    x = Tlse_year[firstPlotYear:lastPlotYear],\n",
    "    y = moypAreaInterval_26[q,:],\n",
    "    name ='Moyenne 2.6 du mois %s'%Tlse_month[calcMonth[q]],\n",
    ")\n",
    "trace45_1 = go.Scatter(\n",
    "    x = Tlse_year[firstPlotYear:lastPlotYear],\n",
    "    y = moypAreaInterval_45[q,:],\n",
    "    name ='Moyenne 4.5 du mois %s'%Tlse_month[calcMonth[q]],\n",
    ")\n",
    "\n",
    "trace85_1 = go.Scatter(\n",
    "    x = Tlse_year[firstPlotYear:lastPlotYear],\n",
    "    y = moypAreaInterval_85[q,:],\n",
    "    name ='Moyenne 8.5 du mois %s'%Tlse_month[calcMonth[q]],\n",
    "    opacity=0.75\n",
    ")\n",
    "\n",
    "q = 2\n",
    "trace26_2 = go.Scatter(\n",
    "    x = Tlse_year[firstPlotYear:lastPlotYear],\n",
    "    y = moypAreaInterval_26[q,:],\n",
    "    name ='Moyenne 2.6 du mois %s'%Tlse_month[calcMonth[q]],\n",
    ")\n",
    "trace45_2 = go.Scatter(\n",
    "    x = Tlse_year[firstPlotYear:lastPlotYear],\n",
    "    y = moypAreaInterval_45[q,:],\n",
    "    name ='Moyenne 4.5 du mois %s'%Tlse_month[calcMonth[q]],\n",
    ")\n",
    "\n",
    "trace85_2 = go.Scatter(\n",
    "    x = Tlse_year[firstPlotYear:lastPlotYear],\n",
    "    y = moypAreaInterval_85[q,:],\n",
    "    name ='Moyenne 8.5 du mois %s'%Tlse_month[calcMonth[q]],\n",
    ")\n",
    "\n",
    "fig = tools.make_subplots(rows=3, \n",
    "                          cols=1, \n",
    "                          subplot_titles=(\"mois de janvier\",\n",
    "                                          \"mois d'aout\",\n",
    "                                          \"moyenne mensuelle sur l'année\"))\n",
    "\n",
    "fig.append_trace(trace26_0, 1, 1)\n",
    "fig.append_trace(trace45_0, 1, 1)\n",
    "fig.append_trace(trace85_0, 1, 1)\n",
    "fig.append_trace(trace26_1, 2, 1)\n",
    "fig.append_trace(trace45_1, 2, 1)\n",
    "fig.append_trace(trace85_1, 2, 1)\n",
    "fig.append_trace(trace26_2, 3, 1)\n",
    "fig.append_trace(trace45_2, 3, 1)\n",
    "fig.append_trace(trace85_2, 3, 1)\n",
    "\n",
    "fig['layout']['xaxis1'].update(title='Année')\n",
    "fig['layout']['xaxis2'].update(title='Année')\n",
    "fig['layout']['xaxis3'].update(title='Année')\n",
    "fig['layout']['yaxis1'].update(title='mm of rain')\n",
    "fig['layout']['yaxis2'].update(title='mm of rain')\n",
    "fig['layout']['yaxis3'].update(title='mm of rain')\n",
    "fig['layout'].update(height=1200, width=900, title='Précipitations moyennées sur 30 ans')\n",
    "#fig['layout']['margin'] = {'l': 50, 'r': 10, 'b': 50, 't': 50}\n",
    "#fig['layout'].update(title='Température moyenne maximale du mois de juillet', \n",
    "#                     autosize=False, width=800, height=380)  \n",
    "\n",
    "#py.iplot(fig, filename='basic-line')"
   ]
  },
  {
   "cell_type": "markdown",
   "metadata": {},
   "source": [
    "#### Modifications et enrichissement de la figure"
   ]
  },
  {
   "cell_type": "code",
   "execution_count": 20,
   "metadata": {},
   "outputs": [],
   "source": [
    "pio.write_json(fig, 'scatter3.plotly')"
   ]
  },
  {
   "cell_type": "code",
   "execution_count": 26,
   "metadata": {},
   "outputs": [],
   "source": [
    "fig_styled = pio.read_json('scatter3+.plotly', output_type='FigureWidget')\n",
    "#py.iplot(fig_styled, filename='styled-basic-line')"
   ]
  },
  {
   "cell_type": "code",
   "execution_count": 38,
   "metadata": {},
   "outputs": [],
   "source": [
    "# Using online file takes a little more time\n",
    "# Calculate the number of years yielding a result\n",
    "moycAreaInterval_26 = np.zeros((lencalcMonths, nbYears))\n",
    "moycAreaInterval_45 = np.zeros((lencalcMonths, nbYears))\n",
    "moycAreaInterval_85 = np.zeros((lencalcMonths, nbYears))\n",
    "# Tmax, i and j are computed to localize the mean\n",
    "for p in range(startYear, endYear) :\n",
    "    a = startYear + p\n",
    "    b = a + yearInterval\n",
    "    moycAreaInterval_26[:, p] = np.mean(Tlse_rstrc26[a:b, calcMonth, startj:endj, starti:endi], axis=(0, 2, 3))\n",
    "    moycAreaInterval_45[:, p] = np.mean(Tlse_rstrc45[a:b, calcMonth, startj:endj, starti:endi], axis=(0, 2, 3))\n",
    "    moycAreaInterval_85[:, p] = np.mean(Tlse_rstrc85[a:b, calcMonth, startj:endj, starti:endi], axis=(0, 2, 3))\n",
    "firstPlotYear = startYear + yearInterval\n",
    "lastPlotYear = firstPlotYear + yearPeriod\n",
    "data = [] #* lencalcMonths\n",
    "trace = [] #* lencalcMonths# Using online file takes a little more time"
   ]
  },
  {
   "cell_type": "code",
   "execution_count": 83,
   "metadata": {},
   "outputs": [
    {
     "name": "stdout",
     "output_type": "stream",
     "text": [
      "This is the format of your plot grid:\n",
      "[ (1,1) x1,y1 ]\n",
      "[ (2,1) x2,y2 ]\n",
      "[ (3,1) x3,y3 ]\n",
      "\n"
     ]
    },
    {
     "data": {
      "text/plain": [
       "Layout({\n",
       "    'annotations': [{'font': {'size': 16},\n",
       "                     'showarrow': False,\n",
       "                     'text': 'Mois de janvier',\n",
       "                     'x': 0.5,\n",
       "                     'xanchor': 'center',\n",
       "                     'xref': 'paper',\n",
       "                     'y': 1.0,\n",
       "                     'yanchor': 'bottom',\n",
       "                     'yref': 'paper'},\n",
       "                    {'font': {'size': 16},\n",
       "                     'showarrow': False,\n",
       "                     'text': \"Mois d'aout\",\n",
       "                     'x': 0.5,\n",
       "                     'xanchor': 'center',\n",
       "                     'xref': 'paper',\n",
       "                     'y': 0.6111111111111112,\n",
       "                     'yanchor': 'bottom',\n",
       "                     'yref': 'paper'},\n",
       "                    {'font': {'size': 16},\n",
       "                     'showarrow': False,\n",
       "                     'text': 'Cumul annuel de précipitations',\n",
       "                     'x': 0.5,\n",
       "                     'xanchor': 'center',\n",
       "                     'xref': 'paper',\n",
       "                     'y': 0.22222222222222224,\n",
       "                     'yanchor': 'bottom',\n",
       "                     'yref': 'paper'}],\n",
       "    'height': 1200,\n",
       "    'title': {'text': 'Précipitations cumulées moyennées sur 30 ans\"'},\n",
       "    'width': 1000,\n",
       "    'xaxis': {'anchor': 'y', 'domain': [0.0, 1.0], 'title': {'text': 'Année'}},\n",
       "    'xaxis2': {'anchor': 'y2', 'domain': [0.0, 1.0], 'title': {'text': 'Année'}},\n",
       "    'xaxis3': {'anchor': 'y3', 'domain': [0.0, 1.0], 'title': {'text': 'Année'}},\n",
       "    'yaxis': {'anchor': 'x', 'domain': [0.7777777777777778, 1.0], 'title': {'text': 'mm of rain'}},\n",
       "    'yaxis2': {'anchor': 'x2', 'domain': [0.3888888888888889, 0.6111111111111112], 'title': {'text': 'mm of rain'}},\n",
       "    'yaxis3': {'anchor': 'x3', 'domain': [0.0, 0.22222222222222224], 'title': {'text': 'mm of rain'}}\n",
       "})"
      ]
     },
     "execution_count": 83,
     "metadata": {},
     "output_type": "execute_result"
    }
   ],
   "source": [
    "q = 0\n",
    "trace26_0 = go.Scatter(\n",
    "    x = Tlse_year[firstPlotYear:lastPlotYear],\n",
    "    y = moycAreaInterval_26[q,:],\n",
    "    name ='Moyenne 2.6 du mois %s'%Tlse_month[calcMonth[q]],\n",
    ")\n",
    "trace45_0 = go.Scatter(\n",
    "    x = Tlse_year[firstPlotYear:lastPlotYear],\n",
    "    y = moycAreaInterval_45[q,:],\n",
    "    name ='Moyenne 4.5 du mois %s'%Tlse_month[calcMonth[q]],\n",
    ")\n",
    "trace85_0 = go.Scatter(\n",
    "    x = Tlse_year[firstPlotYear:lastPlotYear],\n",
    "    y = moycAreaInterval_85[q,:],\n",
    "    name ='Moyenne 8.5 du mois %s'%Tlse_month[calcMonth[q]],\n",
    ")\n",
    "\n",
    "q = 1\n",
    "trace26_1 = go.Scatter(\n",
    "    x = Tlse_year[firstPlotYear:lastPlotYear],\n",
    "    y = moycAreaInterval_26[q,:],\n",
    "    name ='Moyenne 2.6 du mois %s'%Tlse_month[calcMonth[q]],\n",
    "    xaxis='x2',\n",
    "    yaxis='y2'\n",
    "\n",
    ")\n",
    "trace45_1 = go.Scatter(\n",
    "    x = Tlse_year[firstPlotYear:lastPlotYear],\n",
    "    y = moycAreaInterval_45[q,:],\n",
    "    name ='Moyenne 4.5 du mois %s'%Tlse_month[calcMonth[q]],\n",
    "    xaxis='x2',\n",
    "    yaxis='y2'\n",
    ")\n",
    "\n",
    "trace85_1 = go.Scatter(\n",
    "    x = Tlse_year[firstPlotYear:lastPlotYear],\n",
    "    y = moycAreaInterval_85[q,:],\n",
    "    name ='Moyenne 8.5 du mois %s'%Tlse_month[calcMonth[q]],    \n",
    "    xaxis='x2',\n",
    "    yaxis='y2'\n",
    ")\n",
    "\n",
    "q = 2\n",
    "trace26_2 = go.Scatter(\n",
    "    x = Tlse_year[firstPlotYear:lastPlotYear],\n",
    "    y = moycAreaInterval_26[q,:],\n",
    "    name ='Moyenne 2.6 du mois %s'%Tlse_month[calcMonth[q]],\n",
    "    xaxis='x2',\n",
    "    yaxis='y2'\n",
    "\n",
    ")\n",
    "trace45_2 = go.Scatter(\n",
    "    x = Tlse_year[firstPlotYear:lastPlotYear],\n",
    "    y = moycAreaInterval_45[q,:],\n",
    "    name ='Moyenne 4.5 du mois %s'%Tlse_month[calcMonth[q]],\n",
    "    xaxis='x2',\n",
    "    yaxis='y2'\n",
    ")\n",
    "\n",
    "trace85_2 = go.Scatter(\n",
    "    x = Tlse_year[firstPlotYear:lastPlotYear],\n",
    "    y = moycAreaInterval_85[q,:],\n",
    "    name ='Moyenne 8.5 du mois %s'%Tlse_month[calcMonth[q]],    \n",
    "    xaxis='x2',\n",
    "    yaxis='y2'\n",
    ")\n",
    "\n",
    "fig = tools.make_subplots(rows=3, \n",
    "                          cols=1,\n",
    "                          subplot_titles=(\"Mois de janvier\",\n",
    "                                          \"Mois d'aout\",\n",
    "                                          \"Cumul annuel de précipitations\")\n",
    ")\n",
    "\n",
    "fig.append_trace(trace26_0, 1, 1)\n",
    "fig.append_trace(trace45_0, 1, 1)\n",
    "fig.append_trace(trace85_0, 1, 1)\n",
    "fig.append_trace(trace26_1, 2, 1)\n",
    "fig.append_trace(trace45_1, 2, 1)\n",
    "fig.append_trace(trace85_1, 2, 1)\n",
    "fig.append_trace(trace26_2, 3, 1)\n",
    "fig.append_trace(trace45_2, 3, 1)\n",
    "fig.append_trace(trace85_2, 3, 1)\n",
    "fig['layout']['xaxis1'].update(title='Année')\n",
    "fig['layout']['xaxis2'].update(title='Année')\n",
    "fig['layout']['xaxis3'].update(title='Année')\n",
    "fig['layout']['yaxis1'].update(title='mm of rain')\n",
    "fig['layout']['yaxis2'].update(title='mm of rain')\n",
    "fig['layout']['yaxis3'].update(title='mm of rain')\n",
    "fig['layout'].update(height=1200, width=1000, title='Précipitations cumulées moyennées sur 30 ans\"')\n",
    "\n",
    "#py.iplot(fig, filename='basic-line')"
   ]
  },
  {
   "cell_type": "markdown",
   "metadata": {},
   "source": [
    "#### Modifications et enrichissement de la figure"
   ]
  },
  {
   "cell_type": "code",
   "execution_count": 24,
   "metadata": {},
   "outputs": [],
   "source": [
    "pio.write_json(fig, 'scatter4.plotly')"
   ]
  },
  {
   "cell_type": "code",
   "execution_count": 25,
   "metadata": {},
   "outputs": [],
   "source": [
    "fig_styled = pio.read_json('scatter4+.plotly', output_type='FigureWidget')\n",
    "#py.iplot(fig_styled, filename='styled-basic-line')"
   ]
  },
  {
   "cell_type": "markdown",
   "metadata": {},
   "source": [
    "## Approche cartographique des températures aux environs de Toulouse"
   ]
  },
  {
   "cell_type": "code",
   "execution_count": 84,
   "metadata": {},
   "outputs": [
    {
     "name": "stdout",
     "output_type": "stream",
     "text": [
      "This is the format of your plot grid:\n",
      "[ (1,1) x1,y1 ]  [ (1,2) x2,y2 ]\n",
      "\n"
     ]
    },
    {
     "data": {
      "text/plain": [
       "Layout({\n",
       "    'annotations': [{'font': {'size': 16},\n",
       "                     'showarrow': False,\n",
       "                     'text': 'aout 2040',\n",
       "                     'x': 0.225,\n",
       "                     'xanchor': 'center',\n",
       "                     'xref': 'paper',\n",
       "                     'y': 1.0,\n",
       "                     'yanchor': 'bottom',\n",
       "                     'yref': 'paper'},\n",
       "                    {'font': {'size': 16},\n",
       "                     'showarrow': False,\n",
       "                     'text': 'Année 2040',\n",
       "                     'x': 0.775,\n",
       "                     'xanchor': 'center',\n",
       "                     'xref': 'paper',\n",
       "                     'y': 1.0,\n",
       "                     'yanchor': 'bottom',\n",
       "                     'yref': 'paper'}],\n",
       "    'autosize': False,\n",
       "    'height': 500,\n",
       "    'title': {'text': \"Température maximale moyenne du mois d'aout ' scénarios 2.6\"},\n",
       "    'width': 800,\n",
       "    'xaxis': {'anchor': 'y', 'domain': [0.0, 0.45], 'title': {'text': 'Aladin grid J'}},\n",
       "    'xaxis2': {'anchor': 'y2', 'domain': [0.55, 1.0], 'title': {'text': 'Aladin grid J'}},\n",
       "    'yaxis': {'anchor': 'x', 'domain': [0.0, 1.0], 'title': {'text': 'Aladin grid I'}},\n",
       "    'yaxis2': {'anchor': 'x2', 'domain': [0.0, 1.0]}\n",
       "})"
      ]
     },
     "execution_count": 84,
     "metadata": {},
     "output_type": "execute_result"
    }
   ],
   "source": [
    "trace0 = go.Heatmap(z = Tlse_tmax26[34,7,:,:].tolist(), zauto=False, zmin=29,zmax=33)\n",
    "trace1 = go.Heatmap(z = Tlse_tmax26[34, 12, :,:].tolist(), zauto=False, zmin=29,zmax=33)\n",
    "\n",
    "fig = tools.make_subplots(rows=1, cols=2, subplot_titles=('aout 2040','Année 2040'))\n",
    "\n",
    "fig.append_trace(trace0, 1, 1)\n",
    "fig.append_trace(trace1, 1, 2)\n",
    "\n",
    "fig['layout']['xaxis1'].update(title='Aladin grid J')\n",
    "fig['layout']['xaxis2'].update(title='Aladin grid J')\n",
    "fig['layout']['yaxis1'].update(title='Aladin grid I')\n",
    "fig['layout'].update(title=\"Température maximale moyenne du mois d'aout ' scénarios 2.6\", \n",
    "                     autosize=False, width=800, height=500)  \n",
    "#py.iplot(fig, filename='basic-heatmap')"
   ]
  },
  {
   "cell_type": "code",
   "execution_count": 85,
   "metadata": {},
   "outputs": [
    {
     "name": "stdout",
     "output_type": "stream",
     "text": [
      "This is the format of your plot grid:\n",
      "[ (1,1) x1,y1 ]  [ (1,2) x2,y2 ]\n",
      "\n"
     ]
    },
    {
     "data": {
      "text/plain": [
       "Layout({\n",
       "    'annotations': [{'font': {'size': 16},\n",
       "                     'showarrow': False,\n",
       "                     'text': 'janvier 2040',\n",
       "                     'x': 0.225,\n",
       "                     'xanchor': 'center',\n",
       "                     'xref': 'paper',\n",
       "                     'y': 1.0,\n",
       "                     'yanchor': 'bottom',\n",
       "                     'yref': 'paper'},\n",
       "                    {'font': {'size': 16},\n",
       "                     'showarrow': False,\n",
       "                     'text': 'Année 2040',\n",
       "                     'x': 0.775,\n",
       "                     'xanchor': 'center',\n",
       "                     'xref': 'paper',\n",
       "                     'y': 1.0,\n",
       "                     'yanchor': 'bottom',\n",
       "                     'yref': 'paper'}],\n",
       "    'autosize': False,\n",
       "    'height': 500,\n",
       "    'title': {'text': \"Température minimale moyenne du mois d'aout ' scénarios 2.6\"},\n",
       "    'width': 800,\n",
       "    'xaxis': {'anchor': 'y', 'domain': [0.0, 0.45], 'title': {'text': 'Aladin grid J'}},\n",
       "    'xaxis2': {'anchor': 'y2', 'domain': [0.55, 1.0], 'title': {'text': 'Aladin grid J'}},\n",
       "    'yaxis': {'anchor': 'x', 'domain': [0.0, 1.0], 'title': {'text': 'Aladin grid I'}},\n",
       "    'yaxis2': {'anchor': 'x2', 'domain': [0.0, 1.0]}\n",
       "})"
      ]
     },
     "execution_count": 85,
     "metadata": {},
     "output_type": "execute_result"
    }
   ],
   "source": [
    "trace0 = go.Heatmap(z = Tlse_tmin26[34,11,:,:].tolist(), zauto=False, zmin=-1,zmax=3)\n",
    "trace1 = go.Heatmap(z = Tlse_tmin26[34, 12, :,:].tolist(), zauto=False, zmin=-1,zmax=3)\n",
    "\n",
    "fig = tools.make_subplots(rows=1, cols=2, subplot_titles=('janvier 2040','Année 2040'))\n",
    "\n",
    "fig.append_trace(trace0, 1, 1)\n",
    "fig.append_trace(trace1, 1, 2)\n",
    "\n",
    "fig['layout']['xaxis1'].update(title='Aladin grid J')\n",
    "fig['layout']['xaxis2'].update(title='Aladin grid J')\n",
    "fig['layout']['yaxis1'].update(title='Aladin grid I')\n",
    "fig['layout'].update(title=\"Température minimale moyenne du mois d'aout ' scénarios 2.6\", \n",
    "                     autosize=False, width=800, height=500)  \n",
    "#py.iplot(fig, filename='basic-heatmap')"
   ]
  },
  {
   "cell_type": "code",
   "execution_count": 86,
   "metadata": {},
   "outputs": [
    {
     "name": "stdout",
     "output_type": "stream",
     "text": [
      "This is the format of your plot grid:\n",
      "[ (1,1) x1,y1 ]  [ (1,2) x2,y2 ]\n",
      "\n"
     ]
    },
    {
     "data": {
      "text/plain": [
       "Layout({\n",
       "    'annotations': [{'font': {'size': 16},\n",
       "                     'showarrow': False,\n",
       "                     'text': 'aout 2100',\n",
       "                     'x': 0.225,\n",
       "                     'xanchor': 'center',\n",
       "                     'xref': 'paper',\n",
       "                     'y': 1.0,\n",
       "                     'yanchor': 'bottom',\n",
       "                     'yref': 'paper'},\n",
       "                    {'font': {'size': 16},\n",
       "                     'showarrow': False,\n",
       "                     'text': 'Année 2100',\n",
       "                     'x': 0.775,\n",
       "                     'xanchor': 'center',\n",
       "                     'xref': 'paper',\n",
       "                     'y': 1.0,\n",
       "                     'yanchor': 'bottom',\n",
       "                     'yref': 'paper'}],\n",
       "    'autosize': False,\n",
       "    'height': 500,\n",
       "    'title': {'text': \"Température maximale moyenne du mois d'aout ' scénarios 2.6\"},\n",
       "    'width': 800,\n",
       "    'xaxis': {'anchor': 'y', 'domain': [0.0, 0.45], 'title': {'text': 'Aladin grid J'}},\n",
       "    'xaxis2': {'anchor': 'y2', 'domain': [0.55, 1.0], 'title': {'text': 'Aladin grid J'}},\n",
       "    'yaxis': {'anchor': 'x', 'domain': [0.0, 1.0], 'title': {'text': 'Aladin grid I'}},\n",
       "    'yaxis2': {'anchor': 'x2', 'domain': [0.0, 1.0]}\n",
       "})"
      ]
     },
     "execution_count": 86,
     "metadata": {},
     "output_type": "execute_result"
    }
   ],
   "source": [
    "trace0 = go.Heatmap(z = Tlse_tmax26[94,7,:,:].tolist(), zauto=False, zmin=29,zmax=33)\n",
    "trace1 = go.Heatmap(z = Tlse_tmax26[94, 12, :,:].tolist(), zauto=False, zmin=29,zmax=33)\n",
    "\n",
    "fig = tools.make_subplots(rows=1, cols=2, subplot_titles=('aout 2100','Année 2100'))\n",
    "\n",
    "fig.append_trace(trace0, 1, 1)\n",
    "fig.append_trace(trace1, 1, 2)\n",
    "\n",
    "fig['layout']['xaxis1'].update(title='Aladin grid J')\n",
    "fig['layout']['xaxis2'].update(title='Aladin grid J')\n",
    "fig['layout']['yaxis1'].update(title='Aladin grid I')\n",
    "fig['layout'].update(title=\"Température maximale moyenne du mois d'aout ' scénarios 2.6\", \n",
    "                     autosize=False, width=800, height=500)  \n",
    "#py.iplot(fig, filename='basic-heatmap')"
   ]
  },
  {
   "cell_type": "code",
   "execution_count": 27,
   "metadata": {},
   "outputs": [],
   "source": [
    "#### Modifications et enrichissement de la figure"
   ]
  },
  {
   "cell_type": "code",
   "execution_count": 27,
   "metadata": {},
   "outputs": [],
   "source": [
    "pio.write_json(fig, 'scatter5.plotly')"
   ]
  },
  {
   "cell_type": "code",
   "execution_count": 24,
   "metadata": {},
   "outputs": [],
   "source": [
    "fig_styled = pio.read_json('scatter5+.plotly', output_type='FigureWidget')\n",
    "#py.iplot(fig_styled, filename='styled-basic-line')"
   ]
  },
  {
   "cell_type": "markdown",
   "metadata": {},
   "source": [
    "#### Comparaison de 3 horizons pour le mois de juillet en région lyonnaise\n",
    "Ce bloc utilise les données mises en forme dans le bloc précédent pour afficher une comparaison entre  3 horizons. (Décommenter la dernière ligne du bloc pour afficher la figure)"
   ]
  },
  {
   "cell_type": "code",
   "execution_count": 87,
   "metadata": {},
   "outputs": [
    {
     "name": "stdout",
     "output_type": "stream",
     "text": [
      "This is the format of your plot grid:\n",
      "[ (1,1) x1,y1 ]  [ (1,2) x2,y2 ]  [ (1,3) x3,y3 ]\n",
      "[ (2,1) x4,y4 ]  [ (2,2) x5,y5 ]  [ (2,3) x6,y6 ]\n",
      "[ (3,1) x7,y7 ]  [ (3,2) x8,y8 ]  [ (3,3) x9,y9 ]\n",
      "\n"
     ]
    },
    {
     "data": {
      "text/plain": [
       "Layout({\n",
       "    'annotations': [{'font': {'size': 16},\n",
       "                     'showarrow': False,\n",
       "                     'text': 'Année 2030',\n",
       "                     'x': 0.14444444444444446,\n",
       "                     'xanchor': 'center',\n",
       "                     'xref': 'paper',\n",
       "                     'y': 1.0,\n",
       "                     'yanchor': 'bottom',\n",
       "                     'yref': 'paper'},\n",
       "                    {'font': {'size': 16},\n",
       "                     'showarrow': False,\n",
       "                     'text': 'Année 2050',\n",
       "                     'x': 0.5,\n",
       "                     'xanchor': 'center',\n",
       "                     'xref': 'paper',\n",
       "                     'y': 1.0,\n",
       "                     'yanchor': 'bottom',\n",
       "                     'yref': 'paper'},\n",
       "                    {'font': {'size': 16},\n",
       "                     'showarrow': False,\n",
       "                     'text': 'Année 2100',\n",
       "                     'x': 0.8555555555555556,\n",
       "                     'xanchor': 'center',\n",
       "                     'xref': 'paper',\n",
       "                     'y': 1.0,\n",
       "                     'yanchor': 'bottom',\n",
       "                     'yref': 'paper'}],\n",
       "    'autosize': False,\n",
       "    'height': 1100,\n",
       "    'title': {'text': 'Température maximale moyenne du mois de Mars scénarios 2.6 4.5 8.5'},\n",
       "    'width': 800,\n",
       "    'xaxis': {'anchor': 'y', 'domain': [0.0, 0.2888888888888889], 'title': {'text': 'Aladin grid J'}},\n",
       "    'xaxis2': {'anchor': 'y2', 'domain': [0.35555555555555557, 0.6444444444444445], 'title': {'text': 'Aladin grid J'}},\n",
       "    'xaxis3': {'anchor': 'y3', 'domain': [0.7111111111111111, 1.0], 'title': {'text': 'Aladin grid J'}},\n",
       "    'xaxis4': {'anchor': 'y4', 'domain': [0.0, 0.2888888888888889]},\n",
       "    'xaxis5': {'anchor': 'y5', 'domain': [0.35555555555555557, 0.6444444444444445]},\n",
       "    'xaxis6': {'anchor': 'y6', 'domain': [0.7111111111111111, 1.0]},\n",
       "    'xaxis7': {'anchor': 'y7', 'domain': [0.0, 0.2888888888888889]},\n",
       "    'xaxis8': {'anchor': 'y8', 'domain': [0.35555555555555557, 0.6444444444444445]},\n",
       "    'xaxis9': {'anchor': 'y9', 'domain': [0.7111111111111111, 1.0]},\n",
       "    'yaxis': {'anchor': 'x', 'domain': [0.7777777777777778, 1.0], 'title': {'text': 'Aladin grid I'}},\n",
       "    'yaxis2': {'anchor': 'x2', 'domain': [0.7777777777777778, 1.0]},\n",
       "    'yaxis3': {'anchor': 'x3', 'domain': [0.7777777777777778, 1.0]},\n",
       "    'yaxis4': {'anchor': 'x4', 'domain': [0.3888888888888889, 0.6111111111111112]},\n",
       "    'yaxis5': {'anchor': 'x5', 'domain': [0.3888888888888889, 0.6111111111111112]},\n",
       "    'yaxis6': {'anchor': 'x6', 'domain': [0.3888888888888889, 0.6111111111111112]},\n",
       "    'yaxis7': {'anchor': 'x7', 'domain': [0.0, 0.22222222222222224]},\n",
       "    'yaxis8': {'anchor': 'x8', 'domain': [0.0, 0.22222222222222224]},\n",
       "    'yaxis9': {'anchor': 'x9', 'domain': [0.0, 0.22222222222222224]}\n",
       "})"
      ]
     },
     "execution_count": 87,
     "metadata": {},
     "output_type": "execute_result"
    }
   ],
   "source": [
    "trace00 = go.Heatmap(z=Tlse_tmax26[23,2,:,:].tolist(), zauto=False, zmin=10,zmax=15)\n",
    "trace01 = go.Heatmap(z=Tlse_tmax26[53,2,:,:].tolist(), zauto=False, zmin=10,zmax=15)\n",
    "trace02 = go.Heatmap(z=Tlse_tmax26[93,2,:,:].tolist(), zauto=False, zmin=10,zmax=15)\n",
    "trace10 = go.Heatmap(z=Tlse_tmax45[23,2,:,:].tolist(), zauto=False, zmin=10,zmax=15)\n",
    "trace11 = go.Heatmap(z=Tlse_tmax45[53,2,:,:].tolist(), zauto=False, zmin=10,zmax=15)\n",
    "trace12 = go.Heatmap(z=Tlse_tmax45[93,2,:,:].tolist(), zauto=False, zmin=10,zmax=15)\n",
    "trace20 = go.Heatmap(z=Tlse_tmax85[23,2,:,:].tolist(), zauto=False, zmin=10,zmax=15)\n",
    "trace21 = go.Heatmap(z=Tlse_tmax85[53,2,:,:].tolist(), zauto=False, zmin=10,zmax=15)\n",
    "trace22 = go.Heatmap(z=Tlse_tmax85[93,2,:,:].tolist(), zauto=False, zmin=10,zmax=15)\n",
    "\n",
    "fig = tools.make_subplots(rows=3, cols=3, subplot_titles=('Année 2030','Année 2050','Année 2100'))\n",
    "\n",
    "fig.append_trace(trace00, 1, 1)\n",
    "fig.append_trace(trace01, 1, 2)\n",
    "fig.append_trace(trace02, 1, 3)\n",
    "fig.append_trace(trace10, 2, 1)\n",
    "fig.append_trace(trace11, 2, 2)\n",
    "fig.append_trace(trace12, 2, 3)\n",
    "fig.append_trace(trace20, 3, 1)\n",
    "fig.append_trace(trace21, 3, 2)\n",
    "fig.append_trace(trace22, 3, 3)\n",
    "\n",
    "fig['layout']['xaxis1'].update(title='Aladin grid J')\n",
    "fig['layout']['xaxis2'].update(title='Aladin grid J')\n",
    "fig['layout']['xaxis3'].update(title='Aladin grid J')\n",
    "fig['layout']['yaxis1'].update(title='Aladin grid I')\n",
    "fig['layout'].update(title='Température maximale moyenne du mois de Mars scénarios 2.6 4.5 8.5', \n",
    "                     autosize=False, width=800, height=1100)  \n",
    "\n",
    "#py.iplot(fig, filename='basic-heatmap')"
   ]
  },
  {
   "cell_type": "markdown",
   "metadata": {},
   "source": [
    "#### Modifications et enrichissement de la figure"
   ]
  },
  {
   "cell_type": "code",
   "execution_count": 30,
   "metadata": {},
   "outputs": [],
   "source": [
    "pio.write_json(fig, 'scatter6.plotly')"
   ]
  },
  {
   "cell_type": "code",
   "execution_count": 23,
   "metadata": {},
   "outputs": [],
   "source": [
    "fig_styled = pio.read_json('scatter6+.plotly', output_type='FigureWidget')\n",
    "#py.iplot(fig_styled, filename='styled-basic-line')"
   ]
  },
  {
   "cell_type": "code",
   "execution_count": 64,
   "metadata": {},
   "outputs": [],
   "source": [
    "startYear = 44\n",
    "endYear =74\n",
    "slice = lenmonths - 1 # slice = lenmonths pour traiter en plus la moyenne annuelle \n",
    "moyAreaInterval1 = [None] * slice\n",
    "moyAreaInterval2 = [None] * slice\n",
    "moyAreaInterval3 = [None] * slice\n",
    "moyAreaInterval1[:] = np.mean(Tlse_tmax26[startYear:endYear,:,startj:endj,starti:endi],axis=(0,2,3)) \n",
    "moyAreaInterval2[:] = np.mean(Tlse_tmax45[startYear:endYear,:,startj:endj,starti:endi],axis=(0,2,3)) \n",
    "moyAreaInterval3[:] = np.mean(Tlse_tmax85[startYear:endYear,:,startj:endj,starti:endi],axis=(0,2,3)) \n",
    "#print(moyAreaInterval[0:slice])\n",
    "with open('moyMonth.txt', 'w') as file :\n",
    "    for p in range(slice) :\n",
    "        file.write(Tlse_month[p])\n",
    "        file.write(';')\n",
    "        file.write(str(moyAreaInterval1[p]))\n",
    "        file.write(str(moyAreaInterval2[p]))\n",
    "        file.write(str(moyAreaInterval3[p]))\n",
    "        file.write('\\n')"
   ]
  },
  {
   "cell_type": "code",
   "execution_count": 88,
   "metadata": {},
   "outputs": [],
   "source": [
    "trace0 = go.Scatter(\n",
    "    x = Tlse_month[0:slice],\n",
    "    y = moyAreaInterval1[0:slice],\n",
    "    name ='scenario 2.6'\n",
    ")\n",
    "trace1 = go.Scatter(\n",
    "    x = Tlse_month[0:slice],\n",
    "    y = moyAreaInterval2[0:slice],\n",
    "    name ='scenario 4.5'\n",
    ")\n",
    "trace2 = go.Scatter(\n",
    "    x = Tlse_month[0:slice],\n",
    "    y = moyAreaInterval3[0:slice],\n",
    "    name ='scenario 8.5'\n",
    ")\n",
    "\n",
    "data = [trace0,trace1,trace2]\n",
    "\n",
    "layout = dict (\n",
    "           title = \"Température moyenne maximale des mois de l'année 2050\",\n",
    "           xaxis = dict(\n",
    "                 title = 'Mois',\n",
    "                 showline=True,\n",
    "                 showticklabels=True,\n",
    "                 ticklen=5\n",
    "             ),\n",
    "             yaxis = dict(\n",
    "                 title = 'Temperature (degrees Celsius)',\n",
    "                 showline=True,\n",
    "                 showticklabels=True\n",
    "             ),\n",
    "            height = 800,\n",
    "            autosize=False, \n",
    "            width=850,\n",
    ")\n",
    "\n",
    "\n",
    "fig = dict(data=data, layout=layout)\n",
    "\n",
    "#py.iplot(fig, filename='basic-line')"
   ]
  },
  {
   "cell_type": "markdown",
   "metadata": {},
   "source": [
    "#### Modifications et enrichissement de la figure"
   ]
  },
  {
   "cell_type": "code",
   "execution_count": 36,
   "metadata": {},
   "outputs": [],
   "source": [
    "pio.write_json(fig, 'scatter7.plotly')"
   ]
  },
  {
   "cell_type": "code",
   "execution_count": 22,
   "metadata": {},
   "outputs": [],
   "source": [
    "fig_styled = pio.read_json('scatter7+.plotly', output_type='FigureWidget')\n",
    "#py.iplot(fig_styled, filename='styled-basic-line')"
   ]
  },
  {
   "cell_type": "markdown",
   "metadata": {},
   "source": [
    "### Contrôle du contenu du fichier sauvegardé \n",
    "Ce bloc permet d'imprimer le contenu du jeu de données qui vient d'être sauvegardé afin de vérifier qu'il contient les données attendues. le suivant ferme le fichier écrit."
   ]
  },
  {
   "cell_type": "code",
   "execution_count": 15,
   "metadata": {},
   "outputs": [],
   "source": [
    "#for dim in extractLyonTempYearMonth.dimensions.items():\n",
    "#    print(dim[1])\n",
    "#for var in extractLyonTempYearMonth.variables.keys() :\n",
    "#    print (var, '\\t\\t', extractLyonTempYearMonth.variables[var].dimensions, '\\t\\t', \n",
    "#           extractLyonTempYearMonth.variables[var].shape, '\\t', extractLyonTempYearMonth.variables[var].dtype)"
   ]
  },
  {
   "cell_type": "code",
   "execution_count": null,
   "metadata": {},
   "outputs": [],
   "source": []
  }
 ],
 "metadata": {
  "kernelspec": {
   "display_name": "Python 3",
   "language": "python",
   "name": "python3"
  },
  "language_info": {
   "codemirror_mode": {
    "name": "ipython",
    "version": 3
   },
   "file_extension": ".py",
   "mimetype": "text/x-python",
   "name": "python",
   "nbconvert_exporter": "python",
   "pygments_lexer": "ipython3",
   "version": "3.7.4"
  }
 },
 "nbformat": 4,
 "nbformat_minor": 4
}
