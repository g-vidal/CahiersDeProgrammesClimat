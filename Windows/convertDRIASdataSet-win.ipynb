{
 "cells": [
  {
   "cell_type": "markdown",
   "metadata": {
    "extensions": {
     "jupyter_dashboards": {
      "version": 1,
      "views": {
       "grid_default": {},
       "report_default": {
        "hidden": false
       }
      }
     }
    }
   },
   "source": [
    "\n",
    "|  |\n",
    "| ------------------------------------------------------- | \n",
    "| ![Tremplin des sciences](images/tremplinColorSmall.png) | \n",
    "\n",
    "Cahier d'exercices pour l'enseignement du changement climat climatique ou l'apprentissage de programmation issu de la collection \"Climat et météo tremplin pour l'enseignement des sciences\" (PIA IFÉ ENS de Lyon - Météofrance ENM Toulouse). Le dispositif clef en main repose sur l'utilisation d'une RaspberryPi chargée avec le système d'exploitation Debian enrichi, produit par le projet. Les sources et les exécutables sont accessibles dans [l'espace collaboratif du pojet à l'IFÉ ENS de Lyon](https://contrib-tremplin.ens-lyon.fr/) et une copie se trouve dans [l'espace collaboratif de la forge github](https://github.com/g-vidal/CahierDeProgrammes); plus d'information sur les [blogs d'accompagnement](http://blog.climatetmeteo.fr/GerardVidal/) systèmes d'exploitation sur [la page des OS  de Raspberries Pi](http://mediaserv.climatetmeteo.fr/images/RaspBerry/DebianStretchPi3/).  Toutes les ressources issues du projet sont fournies sous licence [Creative Commons](https://creativecommons.org/licenses/by-nc/4.0/) ou sous les licences libres d'origine des outils utilisés. \n",
    "\n",
    "Les ressources  du projet **peuvent être utilisées dans tout autre environnement compatible**, notamment tous les cahiers d'exercices peuvent être exécutés sur toute machine disposant d'un python3  et des bibliothèques jupyter, jupyterlab, numpy, netcdf4. \n",
    "\n",
    "Les données _pré-traitées_ utilisées ci-dessous sont **accessibles  en ligne** sur le [serveur de données géolocalisées](http://geoloc-tremplin.ens-lyon.fr/climato-data/) `opendap` du projet tremplin.\n",
    "\n",
    "![licence : Creative Commons](images/Licence.jpg) \n",
    "\n",
    "Auteur : G. Vidal\n",
    "\n",
    "------------------------------------------------------------"
   ]
  },
  {
   "cell_type": "markdown",
   "metadata": {},
   "source": [
    "# Une approche des enseignements autour du changement climatique : mitigation et adaptation au changement\n",
    "\n",
    "# _Phase 1 : Conversion d'un jeu de données extrait de DRIAS pour des traitements locaux et la production de graphiques ou cartes_\n",
    "\n",
    "Ce cahier d'exercices `ipython` propose une méthode de conversion d'un jeu de données issues des simulations climatiques de Météofrance. Le travail réalisé ici concerne l'explitation de trois séries de modélisations du CNRM  (RCP 2.6 - 4.5 - 8.5).  Les fichiers commandés et téléchargés sur le site  [DRIAS](http://www.drias-climat.fr/), ne peuvent être (encore) directement servis par le serveur du projet (limitation du logiciel OpenDap). Ce cahier permet de convertir ce qui a été reçu de  [DRIAS](http://www.drias-climat.fr/) et de le convertir pour permettre leur stockage en ligne puis l'utilisation directe depuis le cloud à l'aide des autres cahiers de programmes proposés par le projet sur ce site. \n",
    "\n",
    "Les programmes ci-dessous **ne peuvent pas être complètement génériques** et une interface graphique permettant de fournir interactivement les paramètres Ad-Hoc n'a pas encore été développée. Les extractions de [DRIAS](http://www.drias-climat.fr/) sont parfaitement cohérentes  et il suffit pour réutiliser ce cahier d'exercices :\n",
    "\n",
    "    1. De repérer les **noms des répertoires** où se trouvent les fichiers originaux de Drias, et le répertoire où seront sauvegardés les fichiers transformés et de les remplacer.\n",
    "    2.  De repérer les **noms des fichiers à traiter** et de les remplacer\n",
    "    3. De repérer le **nom de la variable principale** et de le remplacer si besoin (À cette fin un bloc de programmes permettant d'imprimer  les paramètres de chaque fichier est proposé il suffit de décommenter les lignes  réalisant une impression).\n",
    "\n",
    "Ce cahier manipule des données multidimensionnelles et doit être réservé à des étudiants avancés si on souhaite l'utiliser en classe. Les données concernent un carré 10 x 10 noeuds de la grille ALADIN centré sur la ville de Lyon. Le format d'entrée et de sortie est celui utilisé par les labos de climatologie, d'océanographie : `netCDF`.  Cet outil requiert l'installation des bibliothèques `netCDF4` et `numpy`."
   ]
  },
  {
   "cell_type": "markdown",
   "metadata": {},
   "source": [
    "## Préparation de l'environnement et ouverture du fichier de données\n",
    "\n",
    "Importer d'abord le module `netcdf4` et `numpy`, attention les majuscules sont impératives pour le nom `netCDF4`. Ces deux modules permettent de traiter  les fichiers multidimensionnels au format netCDF utilisés dans le monde de la météorologie et de l'océanographie principalement."
   ]
  },
  {
   "cell_type": "code",
   "execution_count": 1,
   "metadata": {},
   "outputs": [],
   "source": [
    "import netCDF4 as nc\n",
    "import numpy as np\n",
    "from datetime import datetime\n",
    "from array import array\n",
    "import sys, os\n",
    "import multiprocessing as mp"
   ]
  },
  {
   "cell_type": "markdown",
   "metadata": {},
   "source": [
    "## Traitement des données par variables\n",
    "\n",
    "Importation des données depuis le fichier obtenu auprès du site [DRIAS](https://drias-prod.meteo.fr/okapi/accueil/okapiWebDrias/index.jsp) pour la région lyonnaise, construction d'un jeu de données en convertissant la totalité des variables codées en 64 bits vers un codage sur 32 bits pour que le serveur opendap les gère convenablement.\n",
    "\n",
    "Le bloc ci dessous contient la fonction qui modifie le type dela variable et récupère les autres paramètres. Ce code est conçu pour exploiter les extractions standard du site [DRIAS](https://drias-prod.meteo.fr/okapi/accueil/okapiWebDrias/index.jsp). "
   ]
  },
  {
   "cell_type": "code",
   "execution_count": 2,
   "metadata": {},
   "outputs": [],
   "source": [
    "def convertFile(localPathIn, localPathOut, names) :\n",
    "\n",
    "    driasFileName = names[0]\n",
    "    driasVarName = names[1]\n",
    "    namein =  localPathIn + driasFileName\n",
    "    nameout = localPathOut + driasFileName\n",
    "    #print (namein, '\\n',  nameout,'\\n\\n')\n",
    "    # open input file\n",
    "    origDrias = nc.Dataset(namein)\n",
    "    # open output file\n",
    "    try : os.remove(nameout)  # par sécurité efface le fichier portant ce nom ! attention aux pertes possibles   \n",
    "    except OSError : pass\n",
    "    convertedSet = nc.Dataset(nameout, mode='w', format='NETCDF4')\n",
    "    #print ('done', i)\n",
    "    # create dimensions\n",
    "    for var in origDrias.dimensions.keys() :\n",
    "        thisDim = origDrias.dimensions[var]\n",
    "        convertedSet.createDimension(thisDim.name, thisDim.size)\n",
    "    # create variables\n",
    "    newOutVar = convertedSet.createVariable(driasVarName, 'f4', ('time','j','i'),fill_value=1.e+20)\n",
    "    for thisAttr in origDrias.variables[driasVarName].ncattrs() :\n",
    "        newOutVar.setncattr(thisAttr,origDrias.variables[driasVarName].getncattr(thisAttr))\n",
    "    newOutVar[:,:,:] = origDrias.variables[driasVarName][:,:,:] \n",
    "    # print('\\t\\t huss : ',huss)\n",
    "    i = convertedSet.createVariable('i', 'f4', ('i',))\n",
    "    i.long_name =  origDrias.variables['i'].long_name\n",
    "    i[:] = origDrias.variables['i'][:]\n",
    "    # print('\\t i :',i)\n",
    "    j = convertedSet.createVariable('j', 'f4', ('j',))\n",
    "    j.long_name = origDrias.variables['j'].long_name\n",
    "    j[:] = origDrias.variables['j'][:]\n",
    "    # print('\\t j :',j)\n",
    "    lat = convertedSet.createVariable('lat', 'f4', ('j','i'))\n",
    "    lat.units =  origDrias.variables['lat'].units\n",
    "    lat.long_name = origDrias.variables['lat'].long_name\n",
    "    lat.standard_name = origDrias.variables['lat'].standard_name\n",
    "    lat._CoordinateAxisType = origDrias.variables['lat']._CoordinateAxisType\n",
    "    lat[:,:]  = origDrias.variables['lat'][:,:] \n",
    "    # print('\\t lat :',lat)\n",
    "    lon = convertedSet.createVariable('lon', 'f4', ('j','i',))\n",
    "    lon.units = origDrias.variables['lon'].units\n",
    "    lon.long_name = origDrias.variables['lon'].long_name\n",
    "    lon.standard_name = origDrias.variables['lon'].standard_name\n",
    "    lon._CoordinateAxisType = origDrias.variables['lon']._CoordinateAxisType\n",
    "    lon[:,:] = origDrias.variables['lon'][:,:]\n",
    "    # print('\\t lon :',lon)\n",
    "    time = convertedSet.createVariable('time', 'f4', ('time',))\n",
    "    time.units = origDrias.variables['time'].units\n",
    "    time.long_name = origDrias.variables['time'].long_name\n",
    "    time.standard_name = origDrias.variables['time'].standard_name\n",
    "    time.calendar = origDrias.variables['time'].calendar\n",
    "    time.axis = origDrias.variables['time'].axis\n",
    "    time[:] = origDrias.variables['time'][:]\n",
    "    # print('\\t time :',time)\n",
    "    x = convertedSet.createVariable('x', 'i4', ('i',))\n",
    "    x.units = origDrias.variables['x'].units\n",
    "    x.long_name = origDrias.variables['x'].long_name\n",
    "    x.standard_name = origDrias.variables['x'].standard_name\n",
    "    x[:] = origDrias.variables['x'][:]\n",
    "    # print('\\t x :',x)\n",
    "    y = convertedSet.createVariable('y', 'i4', ('j',))\n",
    "    y.units = origDrias.variables['y'].units\n",
    "    y.long_name = origDrias.variables['y'].long_name\n",
    "    y.standard_name = origDrias.variables['y'].standard_name\n",
    "    y[:] = origDrias.variables['y'][:]\n",
    "    # print('\\t y :',y)\n",
    "    \n",
    "    for thisAttr in  origDrias.ncattrs() :\n",
    "        convertedSet.setncattr(thisAttr,origDrias.getncattr(thisAttr))\n",
    "\n",
    "    convertedSet.close()\n",
    "    print(driasFileName, '\\t\\t',datetime.now())\n",
    "\n",
    "    return (i,driasFileName)"
   ]
  },
  {
   "cell_type": "markdown",
   "metadata": {},
   "source": [
    "## Programme principal \n",
    "\n",
    "Dans l'attente de mise en place d'interactivité avec `ipywidgets` ou `flexx` le programme principal reçoit le variables permettant d'effectuer le calcul :\n",
    "    * Le chemin du répertoire contenant les fichiers issus de [DRIAS](https://drias-prod.meteo.fr/okapi/accueil/okapiWebDrias/index.jsp)\n",
    "    * Le chemin du répertoire d'accueil des fichiers convertis (ils portent le même nom que les fichiers d'origine ils doivent donc être stockés dans un autre répertoire\n",
    "    * Un tableau contenant le nom du fichier et le nom de la variable, par défaut on conserve le nom original mais ce tableau permet éventuellement d'utiliser des noms Ad-Hoc.\n",
    "    \n",
    "Sous le bloc de code sont imprimés les noms des fichiers traités et leur horodatation."
   ]
  },
  {
   "cell_type": "code",
   "execution_count": 5,
   "metadata": {},
   "outputs": [
    {
     "name": "stdout",
     "output_type": "stream",
     "text": [
      "huss_metro_CNRM_Aladin_histo_QT_REF_19500101-20051231.nc \t\t 2019-07-15 00:49:43.208490\n",
      "huss_metro_CNRM_Aladin_rcp2.6_QT_RCP2.6_20060101-21001231.nc \t\t 2019-07-15 00:49:50.833490\n",
      "huss_metro_CNRM_Aladin_rcp4.5_QT_RCP4.5_20060101-21001231.nc \t\t 2019-07-15 00:49:58.239740\n",
      "huss_metro_CNRM_Aladin_rcp8.5_QT_RCP8.5_20060101-21001231.nc \t\t 2019-07-15 00:50:06.208490\n",
      "prsnls_metro_CNRM_Aladin_histo_QT_REF_19500101-20051231.nc \t\t 2019-07-15 00:50:10.802240\n",
      "prsnls_metro_CNRM_Aladin_rcp2.6_QT_RCP2.6_20060101-21001231.nc \t\t 2019-07-15 00:50:18.614740\n",
      "prsnls_metro_CNRM_Aladin_rcp4.5_QT_RCP4.5_20060101-21001231.nc \t\t 2019-07-15 00:50:26.364740\n",
      "prsnls_metro_CNRM_Aladin_rcp8.5_QT_RCP8.5_20060101-21001231.nc \t\t 2019-07-15 00:50:34.052240\n",
      "rstr_metro_CNRM_Aladin_histo_QT_REF_19500101-20051231.nc \t\t 2019-07-15 00:50:38.864740\n",
      "rstr_metro_CNRM_Aladin_rcp2.6_QT_RCP2.6_20060101-21001231.nc \t\t 2019-07-15 00:50:46.692865\n",
      "rstr_metro_CNRM_Aladin_rcp4.5_QT_RCP4.5_20060101-21001231.nc \t\t 2019-07-15 00:50:54.427240\n",
      "rstr_metro_CNRM_Aladin_rcp8.5_QT_RCP8.5_20060101-21001231.nc \t\t 2019-07-15 00:51:02.114740\n",
      "tasmax_metro_CNRM_Aladin_histo_QT_REF_19500101-20051231.nc \t\t 2019-07-15 00:51:06.677240\n",
      "tasmax_metro_CNRM_Aladin_rcp2.6_QT_RCP2.6_20060101-21001231.nc \t\t 2019-07-15 00:51:14.849115\n",
      "tasmax_metro_CNRM_Aladin_rcp4.5_QT_RCP4.5_20060101-21001231.nc \t\t 2019-07-15 00:51:23.067865\n",
      "tasmax_metro_CNRM_Aladin_rcp8.5_QT_RCP8.5_20060101-21001231.nc \t\t 2019-07-15 00:51:30.942865\n",
      "tasmin_metro_CNRM_Aladin_histo_QT_REF_19500101-20051231.nc \t\t 2019-07-15 00:51:35.755365\n",
      "tasmin_metro_CNRM_Aladin_rcp2.6_QT_RCP2.6_20060101-21001231.nc \t\t 2019-07-15 00:51:43.395990\n",
      "tasmin_metro_CNRM_Aladin_rcp4.5_QT_RCP4.5_20060101-21001231.nc \t\t 2019-07-15 00:51:51.708490\n",
      "tasmin_metro_CNRM_Aladin_rcp8.5_QT_RCP8.5_20060101-21001231.nc \t\t 2019-07-15 00:51:59.536615\n"
     ]
    }
   ],
   "source": [
    "i = 0\n",
    "\n",
    "#pathIn = '/home/vidal/TremplinDesSciences/2019/ClimatLyon/DataDrias/'\n",
    "#pathOut = '/home/vidal/TremplinDesSciences/2019/ClimatLyon/ConvertedDrias/'\n",
    "pathIn = 'E:\\\\Tremplin\\\\ClimatLyon\\\\DataDrias\\\\Toulouse-1\\\\'\n",
    "pathOut = r'E:\\\\Tremplin\\\\ClimatLyon\\\\ConvertedDrias\\\\Toulouse-1\\\\'\n",
    "\n",
    "Names = [['huss_metro_CNRM_Aladin_histo_QT_REF_19500101-20051231.nc','huss'],\n",
    "            ['huss_metro_CNRM_Aladin_rcp2.6_QT_RCP2.6_20060101-21001231.nc','huss'],\n",
    "            ['huss_metro_CNRM_Aladin_rcp4.5_QT_RCP4.5_20060101-21001231.nc','huss'],\n",
    "            ['huss_metro_CNRM_Aladin_rcp8.5_QT_RCP8.5_20060101-21001231.nc','huss'],\n",
    "            ['prsnls_metro_CNRM_Aladin_histo_QT_REF_19500101-20051231.nc','prsnls'],\n",
    "            ['prsnls_metro_CNRM_Aladin_rcp2.6_QT_RCP2.6_20060101-21001231.nc','prsnls'],\n",
    "            ['prsnls_metro_CNRM_Aladin_rcp4.5_QT_RCP4.5_20060101-21001231.nc','prsnls'],\n",
    "            ['prsnls_metro_CNRM_Aladin_rcp8.5_QT_RCP8.5_20060101-21001231.nc','prsnls'],\n",
    "            ['rstr_metro_CNRM_Aladin_histo_QT_REF_19500101-20051231.nc','rstr'],\n",
    "            ['rstr_metro_CNRM_Aladin_rcp2.6_QT_RCP2.6_20060101-21001231.nc','rstr'],\n",
    "            ['rstr_metro_CNRM_Aladin_rcp4.5_QT_RCP4.5_20060101-21001231.nc','rstr'],\n",
    "            ['rstr_metro_CNRM_Aladin_rcp8.5_QT_RCP8.5_20060101-21001231.nc','rstr'],\n",
    "            ['tasmax_metro_CNRM_Aladin_histo_QT_REF_19500101-20051231.nc','tasmax'],\n",
    "            ['tasmax_metro_CNRM_Aladin_rcp2.6_QT_RCP2.6_20060101-21001231.nc','tasmax'],\n",
    "            ['tasmax_metro_CNRM_Aladin_rcp4.5_QT_RCP4.5_20060101-21001231.nc','tasmax'],\n",
    "            ['tasmax_metro_CNRM_Aladin_rcp8.5_QT_RCP8.5_20060101-21001231.nc','tasmax'],\n",
    "            ['tasmin_metro_CNRM_Aladin_histo_QT_REF_19500101-20051231.nc','tasmin'],\n",
    "            ['tasmin_metro_CNRM_Aladin_rcp2.6_QT_RCP2.6_20060101-21001231.nc','tasmin'],\n",
    "            ['tasmin_metro_CNRM_Aladin_rcp4.5_QT_RCP4.5_20060101-21001231.nc','tasmin'],\n",
    "            ['tasmin_metro_CNRM_Aladin_rcp8.5_QT_RCP8.5_20060101-21001231.nc','tasmin']] \n",
    "\n",
    "for  i, thisName in  enumerate(Names) :   \n",
    "    convertFile(pathIn, pathOut, thisName)\n",
    "    i += 1\n"
   ]
  },
  {
   "cell_type": "markdown",
   "metadata": {},
   "source": [
    "## Facultatif\n",
    "Ce bloc permet de vérifier les noms fournis en sortie par le traitement."
   ]
  },
  {
   "cell_type": "code",
   "execution_count": null,
   "metadata": {},
   "outputs": [],
   "source": []
  }
 ],
 "metadata": {
  "kernelspec": {
   "display_name": "Python 3",
   "language": "python",
   "name": "python3"
  },
  "language_info": {
   "codemirror_mode": {
    "name": "ipython",
    "version": 3
   },
   "file_extension": ".py",
   "mimetype": "text/x-python",
   "name": "python",
   "nbconvert_exporter": "python",
   "pygments_lexer": "ipython3",
   "version": "3.7.3"
  }
 },
 "nbformat": 4,
 "nbformat_minor": 4
}
