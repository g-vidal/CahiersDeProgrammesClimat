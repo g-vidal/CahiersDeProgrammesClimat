{
 "cells": [
  {
   "cell_type": "markdown",
   "metadata": {
    "extensions": {
     "jupyter_dashboards": {
      "version": 1,
      "views": {
       "grid_default": {},
       "report_default": {
        "hidden": false
       }
      }
     }
    }
   },
   "source": [
    "\n",
    "|  |\n",
    "| ------------------------------------------------------- | \n",
    "| ![Tremplin des sciences](images/tremplinColorSmall.png) | \n",
    "\n",
    "Cahier d'exercices pour l'enseignement et l'apprentissage de programmation issu de la collection \"Climat et météo tremplin pour l'enseignement des sciences\" (PIA IFÉ ENS de Lyon - Météofrance ENM Toulouse). Le dispositif clef en main repose sur l'utilisation d'une RaspberryPi chargée avec le système d'exploitation Debian enrichi, fourni par le projet. Les sources et les exécutables sont accessibles dans [l'espace collaboratif de la forge github](https://github.com/g-vidal/CahierDeProgrammes); plus d'information sur les [blogs d'accompagnement](http://blog.climatetmeteo.fr/GerardVidal/) systèmes d'exploitation sur [la page des OS  de Raspberries Pi](http://mediaserv.climatetmeteo.fr/images/RaspBerry/DebianStretchPi3/).  Toutes les ressources issues du projet sont fournies sous licence [Creative Commons](https://creativecommons.org/licenses/by-nc/4.0/) ou sous les licences libres d'origine des outils utilisés. Les ressources  du projet peuvent être utilisées dans tout autre environnement compatible.![licence : Creative Commons](images/Licence.jpg) \n",
    "\n",
    "Auteur : G. Vidal\n",
    "\n",
    "------------------------------------------------------------"
   ]
  },
  {
   "cell_type": "markdown",
   "metadata": {},
   "source": [
    "# Une approche du changement climatique à Lyon : Création d'un jeu de données\n",
    "\n",
    "Ce cahier d'exercices propose plusieurs voies d'exploration d'un jeu de données issues des simulations climatiques de Météofrance. Le lot utilisé  est issu d'une série de modélisations  RCP 2.6 - 4.5 - 8.5. Le travail a été effectué avec la température maximale mais il est directement transposable à toutes les variables du modèle (température min, humidité. Cette première partie traite de la méhode pour qu'un enseignant puisse extraire les données dont il a besoin d'un fichier commandé sur le site [DRIAS](http://www.drias-climat.fr/). Ce cahier manipule des données multidimensionnelles et doit être réservé à des étudiants avancés si on souhaite l'utiliser en classe. Ce cahier utilise les données d'un carré 10 x noeuds de la grille ALADIN centré sur la ville de Lyon. "
   ]
  },
  {
   "cell_type": "markdown",
   "metadata": {},
   "source": [
    "## Préparation de l'environnement et ouverture du fichier de données\n",
    "\n",
    "Importer d'abord le module `netcdf4` et `numpy`, attention les majuscules sont impératives pour le nom `netCDF4`. Ces deux modules permettent de traiter  les fichiers multidimensionnels au format netCDF utilisés dans le monde de la météorologie et de l'océanographie principalement."
   ]
  },
  {
   "cell_type": "code",
   "execution_count": 27,
   "metadata": {},
   "outputs": [],
   "source": [
    "import netCDF4 as nc\n",
    "import numpy as np\n",
    "from datetime import datetime\n",
    "from array import array\n",
    "import sys, datetime, os"
   ]
  },
  {
   "cell_type": "markdown",
   "metadata": {},
   "source": [
    "Importation des données de températures maximales depuis le fichier obtenu auprès du site [DRIAS](https://drias-prod.meteo.fr/okapi/accueil/okapiWebDrias/index.jsp) pour la région lyonnaise et intégration dans un fichier pour le traitement, puis affichage de la description du contenu, de la liste des variables.\n",
    "L'exemple choisi ici a été réalisé avec une grille de 10 x 10 noeuds centrés sur la ville de Lyon, pour obtenir un jeu de données se reporter au manuel numérique réalisé par E. Le Jan et CArole Larose dans le cadre du projet \"Climat et Météo Tremplin pour l'enseignement des sciences\". Les deux affichages proposés permettent de vérifier les propriétés  du fichier obtenu ainsi que les variables qui pourront être utilisées. Ces affichages sont facultatifs et peuvent être commentés sans conséquence pour la suite."
   ]
  },
  {
   "cell_type": "code",
   "execution_count": 29,
   "metadata": {},
   "outputs": [
    {
     "name": "stdout",
     "output_type": "stream",
     "text": [
      "Description des données issues du modèle : \n",
      " <class 'netCDF4._netCDF4.Dataset'>\n",
      "root group (NETCDF3_CLASSIC data model, file format DAP2):\n",
      "    dimensions(sizes): i(10), j(10), time(34698)\n",
      "    variables(dimensions): float64 \u001b[4mi\u001b[0m(i), float64 \u001b[4mj\u001b[0m(j), float64 \u001b[4mtime\u001b[0m(time), float32 \u001b[4mlat\u001b[0m(j,i), float32 \u001b[4mlon\u001b[0m(j,i), float32 \u001b[4mtasmax\u001b[0m(time,j,i), int32 \u001b[4mx\u001b[0m(i), int32 \u001b[4my\u001b[0m(j)\n",
      "    groups: \n",
      " \n",
      "\n",
      "Variables disponibles : odict_keys(['i', 'j', 'time', 'lat', 'lon', 'tasmax', 'x', 'y']) \n",
      "\n"
     ]
    }
   ],
   "source": [
    "tMax_26_Lyon = nc.Dataset('http://mediaserv-tremplin.bas.ens-lyon.fr/tasmax_metro_CNRM_Aladin_rcp2.6_QT_RCP2.6_20060101-21001231.nc')\n",
    "tMax_45_Lyon = nc.Dataset('http://mediaserv-tremplin.bas.ens-lyon.fr/tasmax_metro_CNRM_Aladin_rcp4.5_QT_RCP4.5_20060101-21001231.nc')\n",
    "tMax_85_Lyon = nc.Dataset('http://mediaserv-tremplin.bas.ens-lyon.fr/tasmax_metro_CNRM_Aladin_rcp8.5_QT_RCP8.5_20060101-21001231.nc')\n",
    "print('Description des données issues du modèle : \\n',tMax_26_Lyon,'\\n') \n",
    "print('Variables disponibles :',tMax_26_Lyon.variables.keys(),'\\n') # get all variable names"
   ]
  },
  {
   "cell_type": "markdown",
   "metadata": {},
   "source": [
    "## Liste des dimensions et des variables du système de données\n",
    "\n",
    "À partir de la liste des variables obtenue ci-dessus on renomme les jeux de données de chacune des variables qui seront exploitées apour effectuer les calculs et contrôle de la taille des échantillons. Les affichages proposés permettent de contrôler que les paramètres présents sont effectivement ceux qui sont attendus."
   ]
  },
  {
   "cell_type": "code",
   "execution_count": 26,
   "metadata": {},
   "outputs": [
    {
     "name": "stdout",
     "output_type": "stream",
     "text": [
      "<class 'netCDF4._netCDF4.Dimension'>: name = 'i', size = 10\n",
      "\n",
      "<class 'netCDF4._netCDF4.Dimension'>: name = 'j', size = 10\n",
      "\n",
      "<class 'netCDF4._netCDF4.Dimension'>: name = 'time', size = 34698\n",
      "\n",
      "Variables \t  Forme \t\t Taille \t type :  \n",
      "\n",
      "i \t\t ('i',) \t\t (10,) \t float64 \t []\n",
      "j \t\t ('j',) \t\t (10,) \t float64 \t []\n",
      "time \t\t ('time',) \t\t (34698,) \t float64 \t []\n",
      "lat \t\t ('j', 'i') \t\t (10, 10) \t float32 \t []\n",
      "lon \t\t ('j', 'i') \t\t (10, 10) \t float32 \t []\n",
      "tasmax \t\t ('time', 'j', 'i') \t\t (34698, 10, 10) \t float32 \t []\n",
      "x \t\t ('i',) \t\t (10,) \t int32 \t []\n",
      "y \t\t ('j',) \t\t (10,) \t int32 \t []\n"
     ]
    }
   ],
   "source": [
    "for dim in tMax_26_Lyon.dimensions.items():\n",
    "    print(dim[1])\n",
    "lyon_temp_26 = tMax_26_Lyon.variables['tasmax']  # variable temperature \n",
    "lyon_temp_45 = tMax_26_Lyon.variables['tasmax']  # variable temperature \n",
    "lyon_temp_85 = tMax_26_Lyon.variables['tasmax']  # variable temperature \n",
    "lyon_date = tMax_26_Lyon.variables['time']  # variable temps\n",
    "lyon_lat,lyon_lon = tMax_26_Lyon.variables['lat'], tMax_26_Lyon.variables['lon']  # latitude longitude\n",
    "lyon_x,lyon_y = tMax_26_Lyon.variables['x'], tMax_26_Lyon.variables['y']  # coordonnées métriques\n",
    "lyon_gridi,lyon_gridj = tMax_26_Lyon.variables['i'], tMax_26_Lyon.variables['j'] # coordonnées grille Aladin\n",
    "print ('Variables \\t  Forme \\t\\t Taille \\t type :  \\n')\n",
    "for var in tMax_26_Lyon.variables.keys() :\n",
    "    print (var, '\\t\\t', tMax_26_Lyon.variables[var].dimensions, '\\t\\t', \n",
    "           tMax_26_Lyon.variables[var].shape, '\\t', tMax_26_Lyon.variables[var].dtype, '\\t', \n",
    "           tMax_26_Lyon.variables[var].ncattrs())\n",
    "    \n",
    "#print ('\\n Unités : \\n', lyon_temp_26.getncattr(units) '\\t', \n",
    "#      lyon_date.units, '\\t',\n",
    "#      lyon_lat.units, '\\t', \n",
    "#      lyon_lon.units, '\\t',\n",
    "#      lyon_x.units, '\\t', \n",
    "#      lyon_y.units, '\\n')\n",
    "#print(lyon_gridi[:])"
   ]
  },
  {
   "cell_type": "markdown",
   "metadata": {},
   "source": [
    "## Construction du jeu de données de sortie des moyennes en fonction de : année mois latitude longitude\n",
    "\n",
    "Création du fichier de sortie au format netCDF où seront stockées les valeurs moyennes calculées pour chaque noeud"
   ]
  },
  {
   "cell_type": "code",
   "execution_count": 12,
   "metadata": {},
   "outputs": [],
   "source": [
    "try: os.remove('tsmaxLyon-1.nc')  # par sécurité efface le fichier portant ce nom ! attention aux pertes possibles\n",
    "except OSError : pass\n",
    "extractLyonTempYearMonth = nc.Dataset('tsmaxLyon-1.nc',mode='w',format='NETCDF4') "
   ]
  },
  {
   "cell_type": "markdown",
   "metadata": {},
   "source": [
    "Définition et affectation des variables où sont copiées les données conservées et où seront stockés les résultats des calculs. (La syntaxe du fichier netCDF reste à  vérifier). Les années seront calculées pendant le calcul principal, les affichages permettent de vérifier la validité des données utilisées."
   ]
  },
  {
   "cell_type": "code",
   "execution_count": 13,
   "metadata": {},
   "outputs": [
    {
     "ename": "RuntimeError",
     "evalue": "NetCDF: DAP failure",
     "output_type": "error",
     "traceback": [
      "\u001b[0;31m---------------------------------------------------------------------------\u001b[0m",
      "\u001b[0;31mRuntimeError\u001b[0m                              Traceback (most recent call last)",
      "\u001b[0;32m<ipython-input-13-9b6e32af6c16>\u001b[0m in \u001b[0;36m<module>\u001b[0;34m\u001b[0m\n\u001b[1;32m      7\u001b[0m \u001b[0;31m#startDate = date[0] + offset# 0 premier janvier; 90 -> 1er avril ; 212 1er aout\u001b[0m\u001b[0;34m\u001b[0m\u001b[0;34m\u001b[0m\u001b[0;34m\u001b[0m\u001b[0m\n\u001b[1;32m      8\u001b[0m \u001b[0moffset\u001b[0m \u001b[0;34m=\u001b[0m \u001b[0;36m0\u001b[0m\u001b[0;34m\u001b[0m\u001b[0;34m\u001b[0m\u001b[0m\n\u001b[0;32m----> 9\u001b[0;31m \u001b[0mfirstyear\u001b[0m \u001b[0;34m=\u001b[0m \u001b[0mint\u001b[0m\u001b[0;34m(\u001b[0m\u001b[0mnc\u001b[0m\u001b[0;34m.\u001b[0m\u001b[0mnum2date\u001b[0m\u001b[0;34m(\u001b[0m\u001b[0mlyon_date\u001b[0m\u001b[0;34m[\u001b[0m\u001b[0moffset\u001b[0m\u001b[0;34m]\u001b[0m\u001b[0;34m,\u001b[0m\u001b[0mlyon_date\u001b[0m\u001b[0;34m.\u001b[0m\u001b[0munits\u001b[0m\u001b[0;34m)\u001b[0m\u001b[0;34m.\u001b[0m\u001b[0mstrftime\u001b[0m\u001b[0;34m(\u001b[0m\u001b[0;34m\"%Y\"\u001b[0m\u001b[0;34m)\u001b[0m\u001b[0;34m)\u001b[0m\u001b[0;34m\u001b[0m\u001b[0;34m\u001b[0m\u001b[0m\n\u001b[0m\u001b[1;32m     10\u001b[0m \u001b[0mlastyear\u001b[0m \u001b[0;34m=\u001b[0m \u001b[0mint\u001b[0m\u001b[0;34m(\u001b[0m\u001b[0mnc\u001b[0m\u001b[0;34m.\u001b[0m\u001b[0mnum2date\u001b[0m\u001b[0;34m(\u001b[0m\u001b[0mlyon_date\u001b[0m\u001b[0;34m[\u001b[0m\u001b[0;34m-\u001b[0m\u001b[0;36m1\u001b[0m\u001b[0;34m]\u001b[0m\u001b[0;34m,\u001b[0m\u001b[0mlyon_date\u001b[0m\u001b[0;34m.\u001b[0m\u001b[0munits\u001b[0m\u001b[0;34m)\u001b[0m\u001b[0;34m.\u001b[0m\u001b[0mstrftime\u001b[0m\u001b[0;34m(\u001b[0m\u001b[0;34m\"%Y\"\u001b[0m\u001b[0;34m)\u001b[0m\u001b[0;34m)\u001b[0m\u001b[0;34m\u001b[0m\u001b[0;34m\u001b[0m\u001b[0m\n\u001b[1;32m     11\u001b[0m \u001b[0mlenmonths\u001b[0m \u001b[0;34m=\u001b[0m \u001b[0mlen\u001b[0m\u001b[0;34m(\u001b[0m\u001b[0mmonths\u001b[0m\u001b[0;34m)\u001b[0m\u001b[0;34m\u001b[0m\u001b[0;34m\u001b[0m\u001b[0m\n",
      "\u001b[0;32mnetCDF4/_netCDF4.pyx\u001b[0m in \u001b[0;36mnetCDF4._netCDF4.Variable.__getitem__\u001b[0;34m()\u001b[0m\n",
      "\u001b[0;32mnetCDF4/_netCDF4.pyx\u001b[0m in \u001b[0;36mnetCDF4._netCDF4.Variable._get\u001b[0;34m()\u001b[0m\n",
      "\u001b[0;32mnetCDF4/_netCDF4.pyx\u001b[0m in \u001b[0;36mnetCDF4._netCDF4._ensure_nc_success\u001b[0;34m()\u001b[0m\n",
      "\u001b[0;31mRuntimeError\u001b[0m: NetCDF: DAP failure"
     ]
    }
   ],
   "source": [
    "data = []\n",
    "years = []\n",
    "months = ['Jan', 'Feb', 'Mar', 'Apr', 'May', 'Jun', 'Jul',\n",
    "            'Aug', 'Sep', 'Oct', 'Nov', 'Dec', 'total']\n",
    "lenMonthA =[31,28,31,30,31,30,31,31,30,31,30,31]\n",
    "lenMonthB =[31,29,31,30,31,30,31,31,30,31,30,31]\n",
    "#startDate = date[0] + offset# 0 premier janvier; 90 -> 1er avril ; 212 1er aout\n",
    "offset = 0\n",
    "firstyear = int(nc.num2date(lyon_date[offset],lyon_date.units).strftime(\"%Y\"))\n",
    "lastyear = int(nc.num2date(lyon_date[-1],lyon_date.units).strftime(\"%Y\"))\n",
    "lenmonths = len(months)\n",
    "lenyears = lastyear - firstyear + 1\n",
    "lengridi = lyon_gridi.shape[0]\n",
    "lengridj = lyon_gridj.shape[0]\n",
    "lentime = len(lenMonthA) * lenyears\n",
    "print (\"DateTime de départ  de l'étude : \", firstyear,\n",
    "      \"\\nDateTime de fin  de l'étude : \", lastyear,\n",
    "      \"\\nDurée de l'étude : \", lenyears, 'ans')\n",
    "extractLyonTempYearMonth.createDimension('i', lengridi)     # latitude axis\n",
    "extractLyonTempYearMonth.createDimension('j', lengridj)    # longitude axis\n",
    "extractLyonTempYearMonth.createDimension('month', lenmonths)    # month axis\n",
    "extractLyonTempYearMonth.createDimension('year', lenyears) # year axis\n",
    "# Define two variables with the same names as dimensions,\n",
    "# a conventional way to define \"coordinate variables\".\n",
    "i = extractLyonTempYearMonth.createVariable('i', np.int, ('i',))\n",
    "i.long_name = 'cell index along first dimension'\n",
    "i[:] = lyon_gridi[:]\n",
    "j = extractLyonTempYearMonth.createVariable('j', np.int, ('j',))\n",
    "j.long_name = 'cell index along second dimension'\n",
    "j[:] = lyon_gridj[:]\n",
    "lat = extractLyonTempYearMonth.createVariable('lat', np.float32, ('j','i'))\n",
    "lat.units = 'degrees_north'\n",
    "lat.long_name = 'latitude'\n",
    "lat.standard_name = 'latitude'\n",
    "lat._CoordinateAxisType = 'Lat'\n",
    "lat[:,:] = lyon_lat[:,:]\n",
    "lon = extractLyonTempYearMonth.createVariable('lon', np.float32, ('j','i',))\n",
    "lon.units = 'degrees_east'\n",
    "lon.long_name = 'longitude'\n",
    "lon.standard_name = 'longitude'\n",
    "lon._CoordinateAxisType = 'Lon'\n",
    "lon[:,:] = lyon_lon[:,:]\n",
    "month = extractLyonTempYearMonth.createVariable('month', np.uint, ('month',))\n",
    "month.units = 'number'\n",
    "month.long_name = 'month'\n",
    "month.standard_name = 'month'\n",
    "month[:] = np.arange(0,13)\n",
    "year = extractLyonTempYearMonth.createVariable('year', np.uint, ('year',))\n",
    "year.units = 'date'\n",
    "year.long_name = 'year'\n",
    "year.standard_name = 'year'\n",
    "# Define a 3D variable to hold the data\n",
    "#tempMY = extractLyonTempYearMonth.createVariable('tempMY',np.float64,('year','month','j','i')) # note: unlimited dimension is leftmost\n",
    "temp_26 = extractLyonTempYearMonth.createVariable('temp_26',np.float64,('year','month','j','i'))\n",
    "temp_26.units = '°C' # degrees Kelvin\n",
    "temp_26.standard_name = 'air_temperature' # this is a CF standard name\n",
    "temp_45 = extractLyonTempYearMonth.createVariable('temp_45',np.float64,('year','month','j','i'))\n",
    "temp_45.units = '°C' # degrees Kelvin\n",
    "temp_45.standard_name = 'air_temperature' # this is a CF standard name\n",
    "temp_85 = extractLyonTempYearMonth.createVariable('temp_85',np.float64,('year','month','j','i'))\n",
    "temp_85.units = '°C' # degrees Kelvin\n",
    "temp_85.standard_name = 'air_temperature' # this is a CF standard name\n",
    "extractLyonTempYearMonth.title = 'Extrait TSMax par moyenne mensuelle'\n",
    "extractLyonTempYearMonth.institution = 'ENS de Lyon'\n",
    "extractLyonTempYearMonth.institute_id = 'IFE Institut Francais de l Education'\n",
    "extractLyonTempYearMonth.project_id = 'Climat et meteo tremplin pour l enseignement des sciences'\n",
    "extractLyonTempYearMonth.model_id = 'CNRM-ALADIN52'\n",
    "extractLyonTempYearMonth.product = 'output'\n",
    "extractLyonTempYearMonth.contact = 'gerard.vidal@ens-lyon.fr'\n",
    "extractLyonTempYearMonth.creation_date = str(datetime.datetime.now())\n",
    "extractLyonTempYearMonth.driving_experiment_name = 'DRIAS2014'\n",
    "extractLyonTempYearMonth.experiment = 'RCP2.6'\n",
    "extractLyonTempYearMonth.model = 'ALADIN-Climat'\n",
    "extractLyonTempYearMonth.comment = \"Extraction des moyennes de la région Lyonnaise de 2006 à 2100 \\\n",
    "                                    et quelques exemples d'affichage\"\n",
    "#print(gridi[:],gridj[:])\n",
    "#print(gridi.shape,gridj.shape)\n",
    "#print(lat[2,:])"
   ]
  },
  {
   "cell_type": "markdown",
   "metadata": {},
   "source": [
    "## Calcul principal des moyennes par mois pour chaque noeud et toutes les années\n"
   ]
  },
  {
   "cell_type": "code",
   "execution_count": null,
   "metadata": {},
   "outputs": [],
   "source": [
    "iteri = offset\n",
    "iterj = 0\n",
    "iteriFirst = iteri\n",
    "while iteri  < lyon_temp_26.shape[0] :      \n",
    "    for iterj in  range(lenyears) :\n",
    "        year[iterj] = (nc.num2date(lyon_date[iteri],lyon_date.units).strftime(\"%Y\"))\n",
    "#    print(nc.num2date(my_date[iteri],my_date.units), iteri, iterj)  # vérification du point de départ\n",
    "        if (iterj % 4 == 2) :\n",
    "            for p in range(len(lenMonthB)) :\n",
    "                iteriLast = iteri+lenMonthB[p]\n",
    "                # moyenne du mois\n",
    "                temp_26[iterj,p,:,:] = np.mean(lyon_temp_26[iteri:iteriLast,:,:] - 273,axis=0) \n",
    "                temp_45[iterj,p,:,:] = np.mean(lyon_temp_45[iteri:iteriLast,:,:] - 273,axis=0) \n",
    "                temp_85[iterj,p,:,:] = np.mean(lyon_temp_85[iteri:iteriLast,:,:] - 273,axis=0) \n",
    "                iteri = iteriLast\n",
    "        else :\n",
    "            for p in range(len(lenMonthA)) :\n",
    "                iteriLast = iteri+lenMonthA[p]\n",
    "                # moyenne du mois\n",
    "                temp_26[iterj,p,:,:] = np.mean(lyon_temp_26[iteri:iteriLast,:,:] - 273,axis=0) \n",
    "                temp_45[iterj,p,:,:] = np.mean(lyon_temp_45[iteri:iteriLast,:,:] - 273,axis=0) \n",
    "                temp_85[iterj,p,:,:] = np.mean(lyon_temp_85[iteri:iteriLast,:,:] - 273,axis=0) \n",
    "                iteri = iteriLast\n",
    "        # moyenne de l'année\n",
    "        temp_26[iterj,len(lenMonthA),:,:] = np.mean(lyon_temp_26[iteriFirst:iteriLast,:,:] - 273,axis=0) \n",
    "        temp_45[iterj,len(lenMonthA),:,:] = np.mean(lyon_temp_45[iteriFirst:iteriLast,:,:] - 273,axis=0) \n",
    "        temp_85[iterj,len(lenMonthA),:,:] = np.mean(lyon_temp_85[iteriFirst:iteriLast,:,:] - 273,axis=0) \n",
    "        iteriFirst = iteriLast+1\n",
    "#print(iteri)\n",
    "#print('fin du traitement : ', nc.num2date(lyon_date[iteri-2],lyon_date.units)) \n",
    "# vérification de la fin d'année   \n",
    "#years = year[:].tolist()\n",
    "#print ('years : \\n', years)\n",
    "#extractLyonTempYearMonth.close() # Ne pas oublier de fermer le fichier netCDF"
   ]
  },
  {
   "cell_type": "markdown",
   "metadata": {},
   "source": [
    "Les affichages suivants permettent de vérifier  que les données obtenues correspondent au format attendu"
   ]
  },
  {
   "cell_type": "code",
   "execution_count": null,
   "metadata": {},
   "outputs": [],
   "source": [
    "#print('température moyenne année 2015 noeud 5 5 : \\n', temp[9,:,5,5])\n",
    "#print(\"température moyenne mois d'avril sur les 95 années noeud 8 4 : \\n\", temp[:,3,8,4])\n",
    "#print(\"température moyenne année 2050 mois d'aout tous les  noeuds : \\n\", temp[45,7,:,:])"
   ]
  },
  {
   "cell_type": "code",
   "execution_count": null,
   "metadata": {},
   "outputs": [],
   "source": [
    "#for dim in extractLyonTempYearMonth.dimensions.items():\n",
    "#    print(dim[1])\n",
    "#for var in extractLyonTempYearMonth.variables.keys() :\n",
    "#    print (var, '\\t\\t', extractLyonTempYearMonth.variables[var].dimensions, '\\t\\t', \n",
    "#           extractLyonTempYearMonth.variables[var].shape, '\\t', extractLyonTempYearMonth.variables[var].dtype)"
   ]
  },
  {
   "cell_type": "code",
   "execution_count": 25,
   "metadata": {},
   "outputs": [],
   "source": [
    "extractLyonTempYearMonth.close()"
   ]
  },
  {
   "cell_type": "code",
   "execution_count": null,
   "metadata": {},
   "outputs": [],
   "source": []
  }
 ],
 "metadata": {
  "kernelspec": {
   "display_name": "Python 3",
   "language": "python",
   "name": "python3"
  },
  "language_info": {
   "codemirror_mode": {
    "name": "ipython",
    "version": 3
   },
   "file_extension": ".py",
   "mimetype": "text/x-python",
   "name": "python",
   "nbconvert_exporter": "python",
   "pygments_lexer": "ipython3",
   "version": "3.7.3rc1"
  }
 },
 "nbformat": 4,
 "nbformat_minor": 2
}
