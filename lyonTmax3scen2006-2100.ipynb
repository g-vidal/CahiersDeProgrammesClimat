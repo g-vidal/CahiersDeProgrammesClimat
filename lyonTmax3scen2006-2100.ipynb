{
 "cells": [
  {
   "cell_type": "markdown",
   "metadata": {
    "extensions": {
     "jupyter_dashboards": {
      "version": 1,
      "views": {
       "grid_default": {},
       "report_default": {
        "hidden": false
       }
      }
     }
    }
   },
   "source": [
    "\n",
    "|  |\n",
    "| ------------------------------------------------------- | \n",
    "| ![Tremplin des sciences](images/tremplinColorSmall.png) | \n",
    "\n",
    "Cahier d'exercices pour l'enseignement et l'apprentissage de programmation issu de la collection \"Climat et météo tremplin pour l'enseignement des sciences\" (PIA IFÉ ENS de Lyon - Météofrance ENM Toulouse). Le dispositif clef en main repose sur l'utilisation d'une RaspberryPi chargée avec le système d'exploitation Debian enrichi, fourni par le projet. Les sources et les exécutables sont accessibles dans [l'espace collaboratif de la forge github](https://github.com/g-vidal/CahierDeProgrammes); plus d'information sur les [blogs d'accompagnement](http://blog.climatetmeteo.fr/GerardVidal/) systèmes d'exploitation sur [la page des OS  de Raspberries Pi](http://mediaserv.climatetmeteo.fr/images/RaspBerry/DebianStretchPi3/).  Toutes les ressources issues du projet sont fournies sous licence [Creative Commons](https://creativecommons.org/licenses/by-nc/4.0/) ou sous les licences libres d'origine des outils utilisés. Les ressources  du projet peuvent être utilisées dans tout autre environnement compatible.![licence : Creative Commons](images/Licence.jpg) \n",
    "\n",
    "Auteur : G. Vidal\n",
    "\n",
    "------------------------------------------------------------"
   ]
  },
  {
   "cell_type": "markdown",
   "metadata": {},
   "source": [
    "# Approche du changement climatique à Lyon : évolution des températures maximales et minimales\n",
    "\n",
    "Ce cahier d'exercices utilise  les données collectées par le projet Tremplin sur la ville de Lyon et ses environs à partir du [projet DRIAS](http://www.drias-climat.fr/). les données de départ sont disponibles sur le [serveur de données climatologiques](http://geoloc-tremplin.ens-lyon.fr/climato-data/Lyon-1/tsmaxLyon-26-45-85.nc.info) du projet Tremplin des sciences. propose plusieurs voies d'exploration d'un jeu de données issues des simulations climatiques de Météofrance. \n",
    "\n",
    "ce cahier d'exercipropose une étude de l'évolution des températures moyennes du N années (N vaut 30 par défaut mais peut être modifié)  sur 4 noeuds centrés sur la ville de Lyon et l'ensemble des 100 noeuds de la région extraite. \n",
    "\n",
    "Le lot utilisé  est issu dess trois modélisation RCP 2.6 4.5 et 8.5 fournies par météofrance. Ce cahier manipule des données multidimensionnelles et doit être réservé à des étudiants avancés, si on souhaite l'utiliser en classe; toutefois, l'utilisation exclusive des parties de tracé des courbes et des cartes et d'un ausage facile et assez spontané. Le dessin des figures a été désactivé dans le dépôt sur la forge pour ne pas alourdir inutilement le fichier transféré."
   ]
  },
  {
   "cell_type": "markdown",
   "metadata": {},
   "source": [
    "## Préparation de l'environnement et ouverture du fichier de données\n",
    "\n",
    "Importer d'abord le module `netcdf4` et `numpy`, attention les majuscules sont impératives pour le nom `netCDF4`. Ces deux modules permettent de traiter  les fichiers multidimensionnels au format netCDF utilisés dans le monde de la météorologie et de l'océanographie principalement."
   ]
  },
  {
   "cell_type": "code",
   "execution_count": 1,
   "metadata": {},
   "outputs": [],
   "source": [
    "import netCDF4 as nc\n",
    "import numpy as np\n",
    "from datetime import datetime\n",
    "from array import array\n",
    "import sys, datetime, os"
   ]
  },
  {
   "cell_type": "markdown",
   "metadata": {},
   "source": [
    "Importation des données de températures depuis le fichier obtenu auprès du [serveur de données climatologiques](http://geoloc-tremplin.ens-lyon.fr/climato-data/Lyon-1/tsmaxLyon-26-45-85.nc.info) du projet Tremplin des sciences extrait du site [DRIAS](https://drias-prod.meteo.fr/okapi/accueil/okapiWebDrias/index.jsp) sur la région lyonnaise.\n",
    "\n",
    "L'exemple utilisé ici a été réalisé avec une grille de 10 x 10 noeuds centrés sur la ville de Lyon, pour obtenir un jeu de données se reporter au manuel numérique réalisé par E. Le Jan et CArole Larose dans le cadre du projet \"Climat et Météo Tremplin pour l'enseignement des sciences\". Les instructions d'affichage commentées (pour la plupart) permettent de vérifier les propriétés  du fichier obtenu ainsi que les variables qui pourront être utilisées. Ces affichages sont facultatifs et peuvent être commentés sans conséquence pour la suite."
   ]
  },
  {
   "cell_type": "code",
   "execution_count": 2,
   "metadata": {},
   "outputs": [
    {
     "name": "stdout",
     "output_type": "stream",
     "text": [
      "Description des données issues du modèle : \n",
      " <class 'netCDF4._netCDF4.Dataset'>\n",
      "root group (NETCDF3_CLASSIC data model, file format DAP2):\n",
      "    title: Extrait TSMax par moyenne mensuelle de 2006 a 2100 Lyon et sa region\n",
      "    institution: ENS de Lyon\n",
      "    institute_id: IFE Institut Francais de l Education\n",
      "    project_id: Climat et meteo tremplin pour l enseignement des sciences\n",
      "    model_id: CNRM-ALADIN52\n",
      "    product: output derived from Meteofrance DRIAS data\n",
      "    contact: gerard.vidal@ens-lyon.fr\n",
      "    creation_date: 2019-06-17 18:09:35.130665\n",
      "    driving_experiment_name: DRIAS2014\n",
      "    experiment: RCP2.6 RCP4.5 RCP8.5 \n",
      "    model: ALADIN-Climat\n",
      "    author: Gerard Vidal\n",
      "    comment: Extraction des moyennes de la region Lyonnaise de 2006 a 2100 et changegement des variables\n",
      "    dimensions(sizes): i(10), j(10), maxStrlen64(64), month(13), year(95)\n",
      "    variables(dimensions): int32 \u001b[4mi\u001b[0m(i), int32 \u001b[4mj\u001b[0m(j), |S1 \u001b[4mmonth\u001b[0m(month,maxStrlen64), int32 \u001b[4myear\u001b[0m(year), float32 \u001b[4mlat\u001b[0m(j,i), float32 \u001b[4mlon\u001b[0m(j,i), int32 \u001b[4mx\u001b[0m(i), int32 \u001b[4my\u001b[0m(j), float32 \u001b[4mtmax_26\u001b[0m(year,month,j,i), float32 \u001b[4mtmax_45\u001b[0m(year,month,j,i), float32 \u001b[4mtmax_85\u001b[0m(year,month,j,i), float32 \u001b[4mtmin_26\u001b[0m(year,month,j,i), float32 \u001b[4mtmin_45\u001b[0m(year,month,j,i), float32 \u001b[4mtmin_85\u001b[0m(year,month,j,i), float32 \u001b[4mrstr_26\u001b[0m(year,month,j,i), float32 \u001b[4mrstr_45\u001b[0m(year,month,j,i), float32 \u001b[4mrstr_85\u001b[0m(year,month,j,i), float32 \u001b[4mrstrc_26\u001b[0m(year,month,j,i), float32 \u001b[4mrstrc_45\u001b[0m(year,month,j,i), float32 \u001b[4mrstrc_85\u001b[0m(year,month,j,i)\n",
      "    groups: \n",
      " \n",
      "\n",
      "Variables disponibles : odict_keys(['i', 'j', 'month', 'year', 'lat', 'lon', 'x', 'y', 'tmax_26', 'tmax_45', 'tmax_85', 'tmin_26', 'tmin_45', 'tmin_85', 'rstr_26', 'rstr_45', 'rstr_85', 'rstrc_26', 'rstrc_45', 'rstrc_85'])\n"
     ]
    }
   ],
   "source": [
    "tMaxLyon = nc.Dataset('http://geoloc-tremplin.ens-lyon.fr/climato-data/Lyon-1/tmin_tmax-rstr_Lyon-26-45-85_1.nc')\n",
    "print('Description des données issues du modèle : \\n',tMaxLyon,'\\n') \n",
    "print('Variables disponibles :',tMaxLyon.variables.keys()) # get all variable names\n",
    "#print('Taille du tableau tasmax :',tMaxLyon.variables['tasmax'].shape ,'\\n') "
   ]
  },
  {
   "cell_type": "markdown",
   "metadata": {},
   "source": [
    "## Liste des dimensions et des variables du système de données\n",
    "\n",
    "À partir de la liste des variables obtenue ci-dessus on renomme les jeux de données de chacune des variables qui seront exploitées apour effectuer les calculs et contrôle de la taille des échantillons. Les affichages proposés permettent de contrôler que les paramètres présents sont effectivement ceux qui sont attendus."
   ]
  },
  {
   "cell_type": "code",
   "execution_count": 3,
   "metadata": {},
   "outputs": [
    {
     "name": "stdout",
     "output_type": "stream",
     "text": [
      "('i', <class 'netCDF4._netCDF4.Dimension'>: name = 'i', size = 10\n",
      ")\n",
      "('j', <class 'netCDF4._netCDF4.Dimension'>: name = 'j', size = 10\n",
      ")\n",
      "('maxStrlen64', <class 'netCDF4._netCDF4.Dimension'>: name = 'maxStrlen64', size = 64\n",
      ")\n",
      "('month', <class 'netCDF4._netCDF4.Dimension'>: name = 'month', size = 13\n",
      ")\n",
      "('year', <class 'netCDF4._netCDF4.Dimension'>: name = 'year', size = 95\n",
      ")\n",
      "Variables \t  Forme \t\t Taille \t type :  \n",
      "\n",
      "i \t\t ('i',) \t\t (10,) \t int32\n",
      "j \t\t ('j',) \t\t (10,) \t int32\n",
      "month \t\t ('month', 'maxStrlen64') \t\t (13, 64) \t |S1\n",
      "year \t\t ('year',) \t\t (95,) \t int32\n",
      "lat \t\t ('j', 'i') \t\t (10, 10) \t float32\n",
      "lon \t\t ('j', 'i') \t\t (10, 10) \t float32\n",
      "x \t\t ('i',) \t\t (10,) \t int32\n",
      "y \t\t ('j',) \t\t (10,) \t int32\n",
      "tmax_26 \t\t ('year', 'month', 'j', 'i') \t\t (95, 13, 10, 10) \t float32\n",
      "tmax_45 \t\t ('year', 'month', 'j', 'i') \t\t (95, 13, 10, 10) \t float32\n",
      "tmax_85 \t\t ('year', 'month', 'j', 'i') \t\t (95, 13, 10, 10) \t float32\n",
      "tmin_26 \t\t ('year', 'month', 'j', 'i') \t\t (95, 13, 10, 10) \t float32\n",
      "tmin_45 \t\t ('year', 'month', 'j', 'i') \t\t (95, 13, 10, 10) \t float32\n",
      "tmin_85 \t\t ('year', 'month', 'j', 'i') \t\t (95, 13, 10, 10) \t float32\n",
      "rstr_26 \t\t ('year', 'month', 'j', 'i') \t\t (95, 13, 10, 10) \t float32\n",
      "rstr_45 \t\t ('year', 'month', 'j', 'i') \t\t (95, 13, 10, 10) \t float32\n",
      "rstr_85 \t\t ('year', 'month', 'j', 'i') \t\t (95, 13, 10, 10) \t float32\n",
      "rstrc_26 \t\t ('year', 'month', 'j', 'i') \t\t (95, 13, 10, 10) \t float32\n",
      "rstrc_45 \t\t ('year', 'month', 'j', 'i') \t\t (95, 13, 10, 10) \t float32\n",
      "rstrc_85 \t\t ('year', 'month', 'j', 'i') \t\t (95, 13, 10, 10) \t float32\n"
     ]
    }
   ],
   "source": [
    "for dim in tMaxLyon.dimensions.items():\n",
    "    print(dim)\n",
    "print ('Variables \\t  Forme \\t\\t Taille \\t type :  \\n')\n",
    "for var in tMaxLyon.variables.keys() :\n",
    "    print (var, '\\t\\t', \n",
    "           tMaxLyon.variables[var].dimensions, '\\t\\t', \n",
    "           tMaxLyon.variables[var].shape, '\\t', \n",
    "           tMaxLyon.variables[var].dtype)\n"
   ]
  },
  {
   "cell_type": "markdown",
   "metadata": {},
   "source": [
    "## Création des tableaux de calcul"
   ]
  },
  {
   "cell_type": "code",
   "execution_count": 4,
   "metadata": {},
   "outputs": [],
   "source": [
    "lyon_tmax26 = tMaxLyon.variables['tmax_26']  # variable temperature \n",
    "lyon_tmax45 = tMaxLyon.variables['tmax_45']  # variable temperature \n",
    "lyon_tmax85 = tMaxLyon.variables['tmax_85']  # variable temperature \n",
    "lyon_tmin26 = tMaxLyon.variables['tmin_26']  # variable temperature \n",
    "lyon_tmin45 = tMaxLyon.variables['tmin_45']  # variable temperature \n",
    "lyon_tmin85 = tMaxLyon.variables['tmin_85']  # variable temperature \n",
    "lyon_rstr26 = tMaxLyon.variables['rstr_26']  # variable temperature \n",
    "lyon_rstr45 = tMaxLyon.variables['rstr_45']  # variable temperature \n",
    "lyon_rstr85 = tMaxLyon.variables['rstr_85']  # variable temperature \n",
    "lyon_rstrc26 = tMaxLyon.variables['rstrc_26']  # variable temperature \n",
    "lyon_rstrc45 = tMaxLyon.variables['rstrc_45']  # variable temperature \n",
    "lyon_rstrc85 = tMaxLyon.variables['rstrc_85']  # variable temperature \n",
    "lyon_month = nc.chartostring(tMaxLyon.variables['month'][:])  # variable temps\n",
    "lyon_year = tMaxLyon.variables['year']  # variable temps\n",
    "\n",
    "#test = nc.chartostring(tMaxLyon.variables['month'][:])\n",
    "#print(test)\n",
    "#test[:] = nc.chartostring(tMaxLyon.variables['month'][:],encoding='utf-8')\n",
    "#print(test)\n",
    "\n",
    "lyon_lat,lyon_lon = tMaxLyon.variables['lat'][:,:], tMaxLyon.variables['lon']  # latitude longitude\n",
    "lyon_x,lyon_y = tMaxLyon.variables['x'], tMaxLyon.variables['y']  # coordonnées métriques\n",
    "lyon_gridi,lyon_gridj = tMaxLyon.variables['i'], tMaxLyon.variables['j'] # coordonnées grille Aladin\n",
    "\n",
    "lenmonths = lyon_month.shape[0]\n",
    "\n",
    "#print ('\\n Taille des tableaux de calcul : \\n', \n",
    "#       '\\ntmax26 : ', lyon_tmax26.shape, lyon_tmax26[44,7,5,5],tMaxLyon.variables['temp_26'][44,7,5,5],\n",
    "#       '\\ntmax45 : ', lyon_tmax45.shape, lyon_tmax45[44,7,5,5],tMaxLyon.variables['temp_45'][44,7,5,5],\n",
    "#       '\\ntmax85 : ', lyon_tmax85.shape, lyon_tmax85[44,7,5,5],tMaxLyon.variables['temp_85'][44,7,5,5],\n",
    "#       '\\n\\nyear : ', lyon_year.shape, lyon_year[:],\n",
    "#       '\\nmonth : ', lyon_month.shape, lyon_month[:],\n",
    "#       '\\n\\nLat : ', lyon_lat.shape,  lyon_lat[0,:],\n",
    "#       '\\nLon : ', lyon_lon.shape, lyon_lon[0,:],\n",
    "#       '\\n\\nX : ', lyon_x.shape, lyon_x[:],\n",
    "#       '\\nY : ', lyon_y.shape, lyon_y[:],\n",
    "#       '\\n\\ni : ', lyon_gridi.shape, lyon_gridi[:],\n",
    "#       '\\nj : ', lyon_gridj.shape, lyon_gridj[:])"
   ]
  },
  {
   "cell_type": "markdown",
   "metadata": {},
   "source": [
    "Définition et affectation des variables où sont copiées les données conservées et où seront stockés les résultats des calculs. (La syntaxe du fichier netCDF reste à  vérifier). Les années seront calculées pendant le calcul principal, les affichages permettent de vérifier la validité des données utilisées."
   ]
  },
  {
   "cell_type": "markdown",
   "metadata": {},
   "source": [
    "\n",
    "\n",
    "\n",
    "\n",
    "\n",
    "\n",
    "\n",
    "\n",
    "## Calcul principal des moyennes par mois pour chaque noeud et toutes les années\n"
   ]
  },
  {
   "cell_type": "markdown",
   "metadata": {},
   "source": [
    "Le premier bloc de code permet de fixer les paramètres qui seront utilisés pour les calculs. les commentaires donnent des indications sur les valeurs possibles."
   ]
  },
  {
   "cell_type": "markdown",
   "metadata": {},
   "source": [
    "### Calculs pour une seule période de  `yearInterval` années\n",
    "\n",
    "Calcul de la moyenne de températures d'une sélection de mois sur un intervalle de `yearInterval` années à partir de l'année `yearBegin` sur les noeuds allant de `(startj,starti)` de taille `(intervalj,intervali)`"
   ]
  },
  {
   "cell_type": "markdown",
   "metadata": {},
   "source": [
    "#### préparation de la création de figures\n",
    "On importe les bibliothèques plotly"
   ]
  },
  {
   "cell_type": "code",
   "execution_count": 5,
   "metadata": {},
   "outputs": [
    {
     "data": {
      "text/html": [
       "        <script type=\"text/javascript\">\n",
       "        window.PlotlyConfig = {MathJaxConfig: 'local'};\n",
       "        if (window.MathJax) {MathJax.Hub.Config({SVG: {font: \"STIX-Web\"}});}\n",
       "        if (typeof require !== 'undefined') {\n",
       "        require.undef(\"plotly\");\n",
       "        requirejs.config({\n",
       "            paths: {\n",
       "                'plotly': ['https://cdn.plot.ly/plotly-latest.min']\n",
       "            }\n",
       "        });\n",
       "        require(['plotly'], function(Plotly) {\n",
       "            window._Plotly = Plotly;\n",
       "        });\n",
       "        }\n",
       "        </script>\n",
       "        "
      ]
     },
     "metadata": {},
     "output_type": "display_data"
    }
   ],
   "source": [
    "import plotly.offline as py\n",
    "import plotly.graph_objs as go\n",
    "from plotly import tools\n",
    "\n",
    "py.init_notebook_mode(connected=True)"
   ]
  },
  {
   "cell_type": "markdown",
   "metadata": {},
   "source": [
    "### Calculs pour UNE SÉRIE DE  PÉRIODES de  `yearInterval` années\n",
    "\n",
    "Calcul de la moyenne de températures des mois de `calcMonth` (il peut y en avoir un seul ou un choix), sur `yearInterval` années à partir de l'année `yearBegin` jusqu'à l'année `yearBegin + yearPeriod` sur les noeuds à partir de `(startj,starti)` de taille `(intervalj,intervali)`. La valeur touvée est affectée à la dernière année de la plage de calcul."
   ]
  },
  {
   "cell_type": "code",
   "execution_count": 6,
   "metadata": {},
   "outputs": [],
   "source": [
    "# Variables de calcul\n",
    "# ASéquence d'années pendant lesquelles les calculs sont effectués\n",
    "# Choix de l'année de départ  \n",
    "# du nombre d'années sur lesquelles sont effectuées les moyennes\n",
    "# Des mois choisis pour le calcul 0 = Jan; 7 = Aout\n",
    "# yearbegin + yearperiod must be <= 2100\n",
    "yearBegin = 2006\n",
    "yearInterval = 30\n",
    "yearPeriod = 94\n",
    "calcMonth = [0,7,11] # Calcul effectué pour Janvier Aout et moyenne annuelle\n",
    "lencalcMonths = len(calcMonth)\n",
    "#  Grille i j\n",
    "# sous espace de la grille 10X10 utilisé\n",
    "#  le premier écantillon est un carré 2X2 au centre de la grille\n",
    "# Le second échantillon est toute la grille entière\n",
    "starti = 4\n",
    "intervali = 2\n",
    "startj = 4\n",
    "intervalj = 2\n",
    "#starti = 0\n",
    "#intervali = 10\n",
    "#startj = 0\n",
    "#intervalj = 10\n",
    "# Variables de calcul\n",
    "startYear = yearBegin - 2006\n",
    "endYear = startYear + yearInterval\n",
    "#print(yearPeriodInterval)\n",
    "endi = starti + intervali\n",
    "endj = startj + intervalj\n",
    "                          \n",
    "if not  (startYear >= 0) and (endYear <= lenyears) :\n",
    "    print('starting year or finishing year out of bounds')\n",
    "    sys.exit('giving up on year bounds')\n",
    "#print(gridj[loc_j])\n",
    "#print(gridi[loc_i])\n",
    "#print(startYear,':',endYear,',',calcMonth,',',startj,':',endj,',',starti,':',endi)\n",
    "#print(temp.shape)\n",
    "#print(np.mean(temp[startYear:endYear,calcMonth,startj:endj,starti:endi]))"
   ]
  },
  {
   "cell_type": "markdown",
   "metadata": {},
   "source": [
    "### Calcul pour n mois sur p périodes de q années pour la zone\n",
    "\n",
    "Calcul de la moyenne des températures mensuelles sur `yearInterval` ans pendant une période de `yearPeriod` années successives pour une sélection de `calcMonth`  mois."
   ]
  },
  {
   "cell_type": "code",
   "execution_count": 7,
   "metadata": {},
   "outputs": [],
   "source": [
    "moyMAreaInterval_26 = np.zeros((lencalcMonths,yearPeriod))\n",
    "moyMAreaInterval_45 = np.zeros((lencalcMonths,yearPeriod))\n",
    "moyMAreaInterval_85 = np.zeros((lencalcMonths,yearPeriod))\n",
    "yearPeriodM = yearPeriod - yearInterval\n",
    "for p in range(yearPeriodM) :\n",
    "    a = startYear + p\n",
    "    b = endYear + p    \n",
    "    moyMAreaInterval_26[:,p] = np.mean(lyon_tmax26[a:b,calcMonth,startj:endj,starti:endi],axis=(0,2,3)) \n",
    "    moyMAreaInterval_45[:,p] = np.mean(lyon_tmax45[a:b,calcMonth,startj:endj,starti:endi],axis=(0,2,3)) \n",
    "    moyMAreaInterval_85[:,p] = np.mean(lyon_tmax85[a:b,calcMonth,startj:endj,starti:endi],axis=(0,2,3)) \n",
    "#print(moyAreaInterval)\n",
    "firstPlotYear = startYear + yearInterval\n",
    "lastPlotYear = firstPlotYear + yearPeriodM\n",
    "data = [] * lencalcMonths\n",
    "trace = [] * lencalcMonths"
   ]
  },
  {
   "cell_type": "markdown",
   "metadata": {},
   "source": [
    "Le diagramme ci-dessous  représente l'évolution sur `yearPeriod` années de la température dans la région Lyonnaise.(Décommenter la dernière ligne du bloc pour afficher la figure)"
   ]
  },
  {
   "cell_type": "code",
   "execution_count": 8,
   "metadata": {},
   "outputs": [
    {
     "name": "stdout",
     "output_type": "stream",
     "text": [
      "This is the format of your plot grid:\n",
      "[ (1,1) x1,y1 ]\n",
      "[ (2,1) x2,y2 ]\n",
      "[ (3,1) x3,y3 ]\n",
      "\n"
     ]
    }
   ],
   "source": [
    "\n",
    "q = 0\n",
    "trace26_0 = go.Scatter(\n",
    "    x = lyon_year[firstPlotYear:lastPlotYear],\n",
    "    y = moyMAreaInterval_26[q,:],\n",
    "    name ='Moyenne 2.6 du mois %s'%lyon_month[calcMonth[q]]\n",
    ")\n",
    "trace45_0 = go.Scatter(\n",
    "    x = lyon_year[firstPlotYear:lastPlotYear],\n",
    "    y = moyMAreaInterval_45[q,:],\n",
    "    name ='Moyenne 4.5 du mois %s'%lyon_month[calcMonth[q]]\n",
    ")\n",
    "trace85_0 = go.Scatter(\n",
    "    x = lyon_year[firstPlotYear:lastPlotYear],\n",
    "    y = moyMAreaInterval_85[q,:],\n",
    "    name ='Moyenne 8.5 du mois %s'%lyon_month[calcMonth[q]]\n",
    ")\n",
    "\n",
    "q = 1\n",
    "trace26_1 = go.Scatter(\n",
    "    x = lyon_year[firstPlotYear:lastPlotYear],\n",
    "    y = moyMAreaInterval_26[q,:],\n",
    "    name ='Moyenne 2.6 du mois %s'%lyon_month[calcMonth[q]]\n",
    ")\n",
    "trace45_1 = go.Scatter(\n",
    "    x = lyon_year[firstPlotYear:lastPlotYear],\n",
    "    y = moyMAreaInterval_45[q,:],\n",
    "    name ='Moyenne 4.5 du mois %s'%lyon_month[calcMonth[q]]\n",
    ")\n",
    "\n",
    "trace85_1 = go.Scatter(\n",
    "    x = lyon_year[firstPlotYear:lastPlotYear],\n",
    "    y = moyMAreaInterval_85[q,:],\n",
    "    name ='Moyenne 8.5 du mois %s'%lyon_month[calcMonth[q]]\n",
    ")\n",
    "\n",
    "q = 2\n",
    "trace26_2 = go.Scatter(\n",
    "    x = lyon_year[firstPlotYear:lastPlotYear],\n",
    "    y = moyMAreaInterval_26[q,:],\n",
    "    name =\"Moyenne 2.6 de l'année\"\n",
    ")\n",
    "trace45_2 = go.Scatter(\n",
    "    x = lyon_year[firstPlotYear:lastPlotYear],\n",
    "    y = moyMAreaInterval_45[q,:],\n",
    "    name =\"Moyenne 4.5 de l'année\"\n",
    ")\n",
    "\n",
    "trace85_2 = go.Scatter(\n",
    "    x = lyon_year[firstPlotYear:lastPlotYear],\n",
    "    y = moyMAreaInterval_85[q,:],\n",
    "    name =\"Moyenne 8.5 de l'année\"\n",
    ")\n",
    "\n",
    "fig = tools.make_subplots(rows=3, \n",
    "                          cols=1, \n",
    "                          subplot_titles=(\"mois de janvier \",\"mois d'aout\",\"année\"))\n",
    "\n",
    "fig.append_trace(trace26_0, 1, 1)\n",
    "fig.append_trace(trace45_0, 1, 1)\n",
    "fig.append_trace(trace85_0, 1, 1)\n",
    "fig.append_trace(trace26_1, 2, 1)\n",
    "fig.append_trace(trace45_1, 2, 1)\n",
    "fig.append_trace(trace85_1, 2, 1)\n",
    "fig.append_trace(trace26_2, 3, 1)\n",
    "fig.append_trace(trace45_2, 3, 1)\n",
    "fig.append_trace(trace85_2, 3, 1)\n",
    "\n",
    "fig['layout']['xaxis1'].update(title='Year')\n",
    "fig['layout']['xaxis2'].update(title='Year')\n",
    "fig['layout']['xaxis3'].update(title='Year')\n",
    "fig['layout']['yaxis1'].update(title='Degrees C')\n",
    "fig['layout']['yaxis2'].update(title='Degrees C')\n",
    "fig['layout']['yaxis3'].update(title='Degrees C')\n",
    "fig['layout']['margin'] = {'l': 50, 'r': 10, 'b': 50, 't': 50}\n",
    "fig['layout'].update(autosize = False, height=1200, width=900, title='Températures maximales moyennées sur 30 ans')\n",
    "#fig['layout'].update(title='Température moyenne maximale du mois de juillet', \n",
    "#fig['layout'].update(title='Température moyenne maximale du mois de juillet', \n",
    "#                     autosize=False, width=800, height=380)  \n",
    "\n",
    "\n",
    "\n",
    "layout = dict (\n",
    "           title = \"Température moyenne maximale des mois de l'année moyennées sur 30 ans\",\n",
    "           xaxis = dict(\n",
    "                 title = 'Année',\n",
    "                 showline=True,\n",
    "                 showticklabels=True,\n",
    "                 ticklen=5\n",
    "             ),\n",
    "             yaxis = dict(\n",
    "                 title = 'Temperature (degrees Celsius)',\n",
    "                 showline=True,\n",
    "                 showticklabels=True\n",
    "             ),         \n",
    ")\n",
    "\n",
    "#fig = dict(data=data, layout=layout)\n",
    "\n",
    "#py.iplot(fig, filename='basic-line')"
   ]
  },
  {
   "cell_type": "code",
   "execution_count": 9,
   "metadata": {},
   "outputs": [],
   "source": [
    "moymAreaInterval_26 = np.zeros((lencalcMonths,yearPeriod))\n",
    "moymAreaInterval_45 = np.zeros((lencalcMonths,yearPeriod))\n",
    "moymAreaInterval_85 = np.zeros((lencalcMonths,yearPeriod))\n",
    "yearPeriodm = yearPeriod - yearInterval\n",
    "for p in range(yearPeriodm) :\n",
    "    a = startYear + p\n",
    "    b = endYear + p    \n",
    "    moymAreaInterval_26[:,p] = np.mean(lyon_tmin26[a:b,calcMonth,startj:endj,starti:endi],axis=(0,2,3)) \n",
    "    moymAreaInterval_45[:,p] = np.mean(lyon_tmin45[a:b,calcMonth,startj:endj,starti:endi],axis=(0,2,3)) \n",
    "    moymAreaInterval_85[:,p] = np.mean(lyon_tmin85[a:b,calcMonth,startj:endj,starti:endi],axis=(0,2,3)) \n",
    "#print(moyAreaInterval)\n",
    "firstPlotYear = startYear + yearInterval\n",
    "lastPlotYear = firstPlotYear + yearPeriodm\n",
    "data = [] * lencalcMonths\n",
    "trace = [] * lencalcMonths"
   ]
  },
  {
   "cell_type": "markdown",
   "metadata": {},
   "source": [
    "Le diagramme ci-dessous  représente l'évolution sur `yearPeriod` années de la température dans la région Lyonnaise.(Décommenter la dernière ligne du bloc pour afficher la figure)"
   ]
  },
  {
   "cell_type": "code",
   "execution_count": 10,
   "metadata": {},
   "outputs": [
    {
     "name": "stdout",
     "output_type": "stream",
     "text": [
      "This is the format of your plot grid:\n",
      "[ (1,1) x1,y1 ]\n",
      "[ (2,1) x2,y2 ]\n",
      "\n"
     ]
    }
   ],
   "source": [
    "\n",
    "q = 0\n",
    "trace26_0 = go.Scatter(\n",
    "    x = lyon_year[firstPlotYear:lastPlotYear],\n",
    "    y = moymAreaInterval_26[q,:],\n",
    "    name ='Moyenne 2.6 du mois %s'%lyon_month[calcMonth[q]]\n",
    ")\n",
    "trace45_0 = go.Scatter(\n",
    "    x = lyon_year[firstPlotYear:lastPlotYear],\n",
    "    y = moymAreaInterval_45[q,:],\n",
    "    name ='Moyenne 4.5 du mois %s'%lyon_month[calcMonth[q]]\n",
    ")\n",
    "trace85_0 = go.Scatter(\n",
    "    x = lyon_year[firstPlotYear:lastPlotYear],\n",
    "    y = moymAreaInterval_85[q,:],\n",
    "    name ='Moyenne 8.5 du mois %s'%lyon_month[calcMonth[q]]\n",
    ")\n",
    "\n",
    "q = 1\n",
    "trace26_1 = go.Scatter(\n",
    "    x = lyon_year[firstPlotYear:lastPlotYear],\n",
    "    y = moymAreaInterval_26[q,:],\n",
    "    name ='Moyenne 2.6 du mois %s'%lyon_month[calcMonth[q]]\n",
    ")\n",
    "trace45_1 = go.Scatter(\n",
    "    x = lyon_year[firstPlotYear:lastPlotYear],\n",
    "    y = moymAreaInterval_45[q,:],\n",
    "    name ='Moyenne 4.5 du mois %s'%lyon_month[calcMonth[q]]\n",
    ")\n",
    "\n",
    "trace85_1 = go.Scatter(\n",
    "    x = lyon_year[firstPlotYear:lastPlotYear],\n",
    "    y = moymAreaInterval_85[q,:],\n",
    "    name ='Moyenne 8.5 du mois %s'%lyon_month[calcMonth[q]]\n",
    ")\n",
    "\n",
    "fig = tools.make_subplots(rows=2, \n",
    "                          cols=1, \n",
    "                          subplot_titles=(\"mois de janvier\",\n",
    "                                          \"mois d'aout\"))\n",
    "\n",
    "fig.append_trace(trace26_0, 1, 1)\n",
    "fig.append_trace(trace45_0, 1, 1)\n",
    "fig.append_trace(trace85_0, 1, 1)\n",
    "fig.append_trace(trace26_1, 2, 1)\n",
    "fig.append_trace(trace45_1, 2, 1)\n",
    "fig.append_trace(trace85_1, 2, 1)\n",
    "\n",
    "\n",
    "fig['layout']['xaxis1'].update(title='Year')\n",
    "fig['layout']['xaxis2'].update(title='Year')\n",
    "fig['layout']['yaxis1'].update(title='Degrees C')\n",
    "fig['layout']['yaxis2'].update(title='Degrees C')\n",
    "fig['layout']['margin'] = {'l': 50, 'r': 10, 'b': 50, 't': 50}\n",
    "fig['layout'].update(height=800, width=900, title='Températures minimales moyennées sur 30 ans')\n",
    "\n",
    "\n",
    "#fig['layout'].update(title='Température moyenne maximale du mois de juillet', \n",
    "#                     autosize=False, width=800, height=380)  \n",
    "\n",
    "\n",
    "\n",
    "layout = dict (\n",
    "           title = \"Température moyenne minimale des mois de l'année moyennées sur 30 ans\",\n",
    "           xaxis = dict(\n",
    "                 title = 'Année',\n",
    "                 showline=True,\n",
    "                 showticklabels=True,\n",
    "                 ticklen=5\n",
    "             ),\n",
    "             yaxis = dict(\n",
    "                 title = 'Temperature (degrees Celsius)',\n",
    "                 showline=True,\n",
    "                 showticklabels=True\n",
    "             ),         \n",
    ")\n",
    "\n",
    "#fig = dict(data=data, layout=layout)\n",
    "\n",
    "\n",
    "\n",
    "#py.iplot(fig, filename='basic-line')"
   ]
  },
  {
   "cell_type": "code",
   "execution_count": 11,
   "metadata": {},
   "outputs": [],
   "source": [
    "moypAreaInterval_26 = np.zeros((lencalcMonths,yearPeriod))\n",
    "moypAreaInterval_45 = np.zeros((lencalcMonths,yearPeriod))\n",
    "moypAreaInterval_85 = np.zeros((lencalcMonths,yearPeriod))\n",
    "yearPeriodp = yearPeriod - yearInterval\n",
    "for p in range(yearPeriodp) :\n",
    "    a = startYear + p\n",
    "    b = endYear + p    \n",
    "    moypAreaInterval_26[:,p] = np.mean(lyon_rstr26[a:b,calcMonth,startj:endj,starti:endi],axis=(0,2,3)) \n",
    "    moypAreaInterval_45[:,p] = np.mean(lyon_rstr45[a:b,calcMonth,startj:endj,starti:endi],axis=(0,2,3)) \n",
    "    moypAreaInterval_85[:,p] = np.mean(lyon_rstr85[a:b,calcMonth,startj:endj,starti:endi],axis=(0,2,3)) \n",
    "#print(moyAreaInterval)\n",
    "firstPlotYear = startYear + yearInterval\n",
    "lastPlotYear = firstPlotYear + yearPeriodp\n",
    "data = [] * lencalcMonths\n",
    "trace = [] * lencalcMonths"
   ]
  },
  {
   "cell_type": "code",
   "execution_count": 12,
   "metadata": {},
   "outputs": [
    {
     "name": "stdout",
     "output_type": "stream",
     "text": [
      "This is the format of your plot grid:\n",
      "[ (1,1) x1,y1 ]\n",
      "[ (2,1) x2,y2 ]\n",
      "\n"
     ]
    }
   ],
   "source": [
    "\n",
    "q = 0\n",
    "trace26_0 = go.Scatter(\n",
    "    x = lyon_year[firstPlotYear:lastPlotYear],\n",
    "    y = moypAreaInterval_26[q,:],\n",
    "    name ='Moyenne 2.6 du mois %s'%lyon_month[calcMonth[q]],\n",
    ")\n",
    "trace45_0 = go.Scatter(\n",
    "    x = lyon_year[firstPlotYear:lastPlotYear],\n",
    "    y = moypAreaInterval_45[q,:],\n",
    "    name ='Moyenne 4.5 du mois %s'%lyon_month[calcMonth[q]],\n",
    ")\n",
    "trace85_0 = go.Scatter(\n",
    "    x = lyon_year[firstPlotYear:lastPlotYear],\n",
    "    y = moypAreaInterval_85[q,:],\n",
    "    name ='Moyenne 8.5 du mois %s'%lyon_month[calcMonth[q]],\n",
    ")\n",
    "\n",
    "q = 1\n",
    "trace26_1 = go.Scatter(\n",
    "    x = lyon_year[firstPlotYear:lastPlotYear],\n",
    "    y = moypAreaInterval_26[q,:],\n",
    "    name ='Moyenne 2.6 du mois %s'%lyon_month[calcMonth[q]],\n",
    ")\n",
    "trace45_1 = go.Scatter(\n",
    "    x = lyon_year[firstPlotYear:lastPlotYear],\n",
    "    y = moypAreaInterval_45[q,:],\n",
    "    name ='Moyenne 4.5 du mois %s'%lyon_month[calcMonth[q]],\n",
    ")\n",
    "\n",
    "trace85_1 = go.Scatter(\n",
    "    x = lyon_year[firstPlotYear:lastPlotYear],\n",
    "    y = moypAreaInterval_85[q,:],\n",
    "    name ='Moyenne 8.5 du mois %s'%lyon_month[calcMonth[q]],\n",
    "    opacity=0.75\n",
    ")\n",
    "\n",
    "fig = tools.make_subplots(rows=2, \n",
    "                          cols=1, \n",
    "                          subplot_titles=(\"mois de janvier\",\n",
    "                                          \"mois d'aout\"))\n",
    "\n",
    "fig.append_trace(trace26_0, 1, 1)\n",
    "fig.append_trace(trace45_0, 1, 1)\n",
    "fig.append_trace(trace85_0, 1, 1)\n",
    "fig.append_trace(trace26_1, 2, 1)\n",
    "fig.append_trace(trace45_1, 2, 1)\n",
    "fig.append_trace(trace85_1, 2, 1)\n",
    "\n",
    "fig['layout']['xaxis1'].update(title='Année')\n",
    "fig['layout']['xaxis2'].update(title='Année')\n",
    "fig['layout']['yaxis1'].update(title='mm of rain')\n",
    "fig['layout']['yaxis2'].update(title='mm of rain')\n",
    "fig['layout'].update(height=800, width=900, title='Précipitations moyennées sur 30 ans')\n",
    "#fig['layout']['margin'] = {'l': 50, 'r': 10, 'b': 50, 't': 50}\n",
    "#fig['layout'].update(title='Température moyenne maximale du mois de juillet', \n",
    "#                     autosize=False, width=800, height=380)  \n",
    "\n",
    "\n",
    "\n",
    "\n",
    "layout = dict (\n",
    "           title = \"Température moyenne minimale des mois de l'année moyennées sur 30 ans\",\n",
    "           xaxis = dict(\n",
    "                 title = 'Année',\n",
    "                 showline=True,\n",
    "                 showticklabels=True,\n",
    "                 ticklen=5\n",
    "             ),\n",
    "             yaxis = dict(\n",
    "                 title = 'Temperature (degrees Celsius)',\n",
    "                 showline=True,\n",
    "                 showticklabels=True\n",
    "             ), \n",
    ")\n",
    "\n",
    "\n",
    "#py.iplot(fig, filename='basic-line')"
   ]
  },
  {
   "cell_type": "code",
   "execution_count": 13,
   "metadata": {},
   "outputs": [],
   "source": [
    "moycAreaInterval_26 = np.zeros((lencalcMonths,yearPeriod))\n",
    "moycAreaInterval_45 = np.zeros((lencalcMonths,yearPeriod))\n",
    "moycAreaInterval_85 = np.zeros((lencalcMonths,yearPeriod))\n",
    "yearPeriodp = yearPeriod - yearInterval\n",
    "for p in range(yearPeriodp) :\n",
    "    a = startYear + p\n",
    "    b = endYear + p    \n",
    "    moycAreaInterval_26[:,p] = np.mean(lyon_rstrc26[a:b,calcMonth,startj:endj,starti:endi],axis=(0,2,3)) \n",
    "    moycAreaInterval_45[:,p] = np.mean(lyon_rstrc45[a:b,calcMonth,startj:endj,starti:endi],axis=(0,2,3)) \n",
    "    moycAreaInterval_85[:,p] = np.mean(lyon_rstrc85[a:b,calcMonth,startj:endj,starti:endi],axis=(0,2,3)) \n",
    "#print(moyAreaInterval)\n",
    "firstPlotYear = startYear + yearInterval\n",
    "lastPlotYear = firstPlotYear + yearPeriodp\n",
    "data = [] * lencalcMonths\n",
    "trace = [] * lencalcMonths"
   ]
  },
  {
   "cell_type": "code",
   "execution_count": 14,
   "metadata": {},
   "outputs": [
    {
     "name": "stdout",
     "output_type": "stream",
     "text": [
      "This is the format of your plot grid:\n",
      "[ (1,1) x1,y1 ]\n",
      "[ (2,1) x2,y2 ]\n",
      "\n"
     ]
    },
    {
     "data": {
      "text/plain": [
       "Layout({\n",
       "    'annotations': [{'font': {'size': 16},\n",
       "                     'showarrow': False,\n",
       "                     'text': 'mois de janvier',\n",
       "                     'x': 0.5,\n",
       "                     'xanchor': 'center',\n",
       "                     'xref': 'paper',\n",
       "                     'y': 1.0,\n",
       "                     'yanchor': 'bottom',\n",
       "                     'yref': 'paper'},\n",
       "                    {'font': {'size': 16},\n",
       "                     'showarrow': False,\n",
       "                     'text': \" mois d'aout\",\n",
       "                     'x': 0.5,\n",
       "                     'xanchor': 'center',\n",
       "                     'xref': 'paper',\n",
       "                     'y': 0.375,\n",
       "                     'yanchor': 'bottom',\n",
       "                     'yref': 'paper'}],\n",
       "    'height': 800,\n",
       "    'title': {'text': 'Précipitationscumulées moyennées sur 30 ans\"'},\n",
       "    'width': 1000,\n",
       "    'xaxis': {'anchor': 'y', 'domain': [0.0, 1.0]},\n",
       "    'xaxis2': {'anchor': 'y2', 'domain': [0.0, 1.0]},\n",
       "    'yaxis': {'anchor': 'x', 'domain': [0.625, 1.0]},\n",
       "    'yaxis2': {'anchor': 'x2', 'domain': [0.0, 0.375]}\n",
       "})"
      ]
     },
     "execution_count": 14,
     "metadata": {},
     "output_type": "execute_result"
    }
   ],
   "source": [
    "\n",
    "q = 0\n",
    "trace26_0 = go.Scatter(\n",
    "    x = lyon_year[firstPlotYear:lastPlotYear],\n",
    "    y = moycAreaInterval_26[q,:],\n",
    "    name ='Moyenne 2.6 du mois %s'%lyon_month[calcMonth[q]],\n",
    ")\n",
    "trace45_0 = go.Scatter(\n",
    "    x = lyon_year[firstPlotYear:lastPlotYear],\n",
    "    y = moycAreaInterval_45[q,:],\n",
    "    name ='Moyenne 4.5 du mois %s'%lyon_month[calcMonth[q]],\n",
    ")\n",
    "trace85_0 = go.Scatter(\n",
    "    x = lyon_year[firstPlotYear:lastPlotYear],\n",
    "    y = moycAreaInterval_85[q,:],\n",
    "    name ='Moyenne 8.5 du mois %s'%lyon_month[calcMonth[q]],\n",
    ")\n",
    "\n",
    "q = 1\n",
    "trace26_1 = go.Scatter(\n",
    "    x = lyon_year[firstPlotYear:lastPlotYear],\n",
    "    y = moycAreaInterval_26[q,:],\n",
    "    name ='Moyenne 2.6 du mois %s'%lyon_month[calcMonth[q]],\n",
    "    xaxis='x2',\n",
    "    yaxis='y2'\n",
    "\n",
    ")\n",
    "trace45_1 = go.Scatter(\n",
    "    x = lyon_year[firstPlotYear:lastPlotYear],\n",
    "    y = moycAreaInterval_45[q,:],\n",
    "    name ='Moyenne 4.5 du mois %s'%lyon_month[calcMonth[q]],\n",
    "    xaxis='x2',\n",
    "    yaxis='y2'\n",
    ")\n",
    "\n",
    "trace85_1 = go.Scatter(\n",
    "    x = lyon_year[firstPlotYear:lastPlotYear],\n",
    "    y = moycAreaInterval_85[q,:],\n",
    "    name ='Moyenne 8.5 du mois %s'%lyon_month[calcMonth[q]],    \n",
    "    xaxis='x2',\n",
    "    yaxis='y2'\n",
    ")\n",
    "\n",
    "fig = tools.make_subplots(rows=2, \n",
    "                          cols=1,\n",
    "                          subplot_titles=(\"mois de janvier\",\n",
    "                                          \" mois d'aout\")\n",
    ")\n",
    "\n",
    "fig.append_trace(trace26_0, 1, 1)\n",
    "fig.append_trace(trace45_0, 1, 1)\n",
    "fig.append_trace(trace85_0, 1, 1)\n",
    "fig.append_trace(trace26_1, 2, 1)\n",
    "fig.append_trace(trace45_1, 2, 1)\n",
    "fig.append_trace(trace85_1, 2, 1)\n",
    "\n",
    "\n",
    "\n",
    "fig['layout'].update(height=800, width=1000, title='Précipitationscumulées moyennées sur 30 ans\"')\n",
    "#py.iplot(fig, filename='basic-line')"
   ]
  },
  {
   "cell_type": "markdown",
   "metadata": {},
   "source": [
    "### Contrôle du contenu du fichier sauvegardé \n",
    "Ce bloc permet d'imprimer le contenu du jeu de données qui vient d'être sauvegardé afin de vérifier qu'il contient les données attendues. le suivant ferme le fichier écrit."
   ]
  },
  {
   "cell_type": "code",
   "execution_count": 15,
   "metadata": {},
   "outputs": [],
   "source": [
    "#for dim in extractLyonTempYearMonth.dimensions.items():\n",
    "#    print(dim[1])\n",
    "#for var in extractLyonTempYearMonth.variables.keys() :\n",
    "#    print (var, '\\t\\t', extractLyonTempYearMonth.variables[var].dimensions, '\\t\\t', \n",
    "#           extractLyonTempYearMonth.variables[var].shape, '\\t', extractLyonTempYearMonth.variables[var].dtype)"
   ]
  },
  {
   "cell_type": "code",
   "execution_count": null,
   "metadata": {},
   "outputs": [],
   "source": []
  }
 ],
 "metadata": {
  "kernelspec": {
   "display_name": "Python 3",
   "language": "python",
   "name": "python3"
  },
  "language_info": {
   "codemirror_mode": {
    "name": "ipython",
    "version": 3
   },
   "file_extension": ".py",
   "mimetype": "text/x-python",
   "name": "python",
   "nbconvert_exporter": "python",
   "pygments_lexer": "ipython3",
   "version": "3.7.3"
  }
 },
 "nbformat": 4,
 "nbformat_minor": 2
}
