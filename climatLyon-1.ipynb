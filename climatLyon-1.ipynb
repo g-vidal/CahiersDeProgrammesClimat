{
 "cells": [
  {
   "cell_type": "markdown",
   "metadata": {
    "extensions": {
     "jupyter_dashboards": {
      "version": 1,
      "views": {
       "grid_default": {},
       "report_default": {
        "hidden": false
       }
      }
     }
    }
   },
   "source": [
    "\n",
    "|  |\n",
    "| ------------------------------------------------------- | \n",
    "| ![Tremplin des sciences](images/tremplinColorSmall.png) | \n",
    "\n",
    "Cahier d'exercices pour l'enseignement et l'apprentissage de programmation issu de la collection \"Climat et météo tremplin pour l'enseignement des sciences\" (PIA IFÉ ENS de Lyon - Météofrance ENM Toulouse). Le dispositif clef en main repose sur l'utilisation d'une RaspberryPi chargée avec le système d'exploitation Debian enrichi, fourni par le projet. Les sources et les exécutables sont accessibles dans [l'espace collaboratif de la forge github](https://github.com/g-vidal/CahierDeProgrammes); plus d'information sur les [blogs d'accompagnement](http://blog.climatetmeteo.fr/GerardVidal/) systèmes d'exploitation sur [la page des OS  de Raspberries Pi](http://mediaserv.climatetmeteo.fr/images/RaspBerry/DebianStretchPi3/).  Toutes les ressources issues du projet sont fournies sous licence [Creative Commons](https://creativecommons.org/licenses/by-nc/4.0/) ou sous les licences libres d'origine des outils utilisés. Les ressources  du projet peuvent être utilisées dans tout autre environnement compatible.![licence : Creative Commons](images/Licence.jpg) \n",
    "\n",
    "Auteur : G. Vidal\n",
    "\n",
    "------------------------------------------------------------"
   ]
  },
  {
   "cell_type": "markdown",
   "metadata": {},
   "source": [
    "# Une approche du changement climatique à Lyon\n",
    "\n",
    "Ce cahier d'exercices propose plusieurs voies d'exploration d'un jeu de données issues des simulations climatiques de Météofrance. Le lot utilisé  est issu d'une modélisation RCP 2.6. Le travail a été effectué avec la températuremaximale mais il est directement transposable à toutes les variables du modèle. Cette première partie traite de la méhode pour qu'un enseignant puisse extraire les données dont il a besoin d'un fichier commandé sur le site [DRIAS](http://www.drias-climat.fr/). Ce cahier manipule des données multidimensionnelles et doit être réservé à des étudiants avancés si on souhaite l'utiliser en classe. Le dessin des figures a été désactivé dans le dépôt sur la forge pour ne pas alourdir inutilement le fichier transféré."
   ]
  },
  {
   "cell_type": "markdown",
   "metadata": {},
   "source": [
    "## Préparation de l'environnement et ouverture du fichier de données\n",
    "\n",
    "Importer d'abord le module `netcdf4` et `numpy`, attention les majuscules sont impératives pour le nom `netCDF4`. Ces deux modules permettent de traiter  les fichiers multidimensionnels au format netCDF utilisés dans le monde de la météorologie et de l'océanographie principalement."
   ]
  },
  {
   "cell_type": "code",
   "execution_count": 1,
   "metadata": {},
   "outputs": [],
   "source": [
    "import netCDF4 as nc\n",
    "import numpy as np\n",
    "from datetime import datetime\n",
    "from array import array\n",
    "import sys, datetime, os"
   ]
  },
  {
   "cell_type": "markdown",
   "metadata": {},
   "source": [
    "Importation des données de températures maximales depuis le fichier obtenu auprès du site [DRIAS](https://drias-prod.meteo.fr/okapi/accueil/okapiWebDrias/index.jsp) pour la région lyonnaise et intégration dans un fichier pour le traitement, puis affichage de la description du contenu, de la liste des variables.\n",
    "L'exemple choisi ici a été réalisé avec une grille de 10 x 10 noeuds centrés sur la ville de Lyon, pour obtenir un jeu de données se reporter au manuel numérique réalisé par E. Le Jan et CArole Larose dans le cadre du projet \"Climat et Météo Tremplin pour l'enseignement des sciences\". Les deux affichages proposés permettent de vérifier les propriétés  du fichier obtenu ainsi que les variables qui pourront être utilisées. Ces affichages sont facultatifs et peuvent être commentés sans conséquence pour la suite."
   ]
  },
  {
   "cell_type": "code",
   "execution_count": 2,
   "metadata": {},
   "outputs": [],
   "source": [
    "tMaxLyon = nc.Dataset('http://geoloc-tremplin.ens-lyon.fr/climato-data/Lyon-1/tsmaxLyon-26-45-85.nc')\n",
    "#print('Description des données issues du modèle : \\n',tMaxLyon,'\\n') \n",
    "#print('Variables disponibles :',tMaxLyon.variables.keys()) # get all variable names\n",
    "#print('Taille du tableau tasmax :',tMaxLyon.variables['tasmax'].shape ,'\\n') "
   ]
  },
  {
   "cell_type": "markdown",
   "metadata": {},
   "source": [
    "## Liste des dimensions et des variables du système de données\n",
    "\n",
    "À partir de la liste des variables obtenue ci-dessus on renomme les jeux de données de chacune des variables qui seront exploitées apour effectuer les calculs et contrôle de la taille des échantillons. Les affichages proposés permettent de contrôler que les paramètres présents sont effectivement ceux qui sont attendus."
   ]
  },
  {
   "cell_type": "code",
   "execution_count": 3,
   "metadata": {},
   "outputs": [
    {
     "name": "stdout",
     "output_type": "stream",
     "text": [
      "('i', <class 'netCDF4._netCDF4.Dimension'>: name = 'i', size = 10\n",
      ")\n",
      "('j', <class 'netCDF4._netCDF4.Dimension'>: name = 'j', size = 10\n",
      ")\n",
      "('maxStrlen64', <class 'netCDF4._netCDF4.Dimension'>: name = 'maxStrlen64', size = 64\n",
      ")\n",
      "('month', <class 'netCDF4._netCDF4.Dimension'>: name = 'month', size = 13\n",
      ")\n",
      "('year', <class 'netCDF4._netCDF4.Dimension'>: name = 'year', size = 95\n",
      ")\n",
      "Variables \t  Forme \t\t Taille \t type :  \n",
      "\n",
      "i \t\t ('i',) \t\t (10,) \t int32\n",
      "j \t\t ('j',) \t\t (10,) \t int32\n",
      "month \t\t ('month', 'maxStrlen64') \t\t (13, 64) \t |S1\n",
      "year \t\t ('year',) \t\t (95,) \t int32\n",
      "lat \t\t ('j', 'i') \t\t (10, 10) \t float32\n",
      "lon \t\t ('j', 'i') \t\t (10, 10) \t float32\n",
      "x \t\t ('i',) \t\t (10,) \t int32\n",
      "y \t\t ('j',) \t\t (10,) \t int32\n",
      "temp_26 \t\t ('year', 'month', 'j', 'i') \t\t (95, 13, 10, 10) \t float32\n",
      "temp_45 \t\t ('year', 'month', 'j', 'i') \t\t (95, 13, 10, 10) \t float32\n",
      "temp_85 \t\t ('year', 'month', 'j', 'i') \t\t (95, 13, 10, 10) \t float32\n"
     ]
    }
   ],
   "source": [
    "for dim in tMaxLyon.dimensions.items():\n",
    "    print(dim)\n",
    "print ('Variables \\t  Forme \\t\\t Taille \\t type :  \\n')\n",
    "for var in tMaxLyon.variables.keys() :\n",
    "    print (var, '\\t\\t', \n",
    "           tMaxLyon.variables[var].dimensions, '\\t\\t', \n",
    "           tMaxLyon.variables[var].shape, '\\t', \n",
    "           tMaxLyon.variables[var].dtype)\n"
   ]
  },
  {
   "cell_type": "markdown",
   "metadata": {},
   "source": [
    "## Création des tableaux de calcul"
   ]
  },
  {
   "cell_type": "code",
   "execution_count": 4,
   "metadata": {},
   "outputs": [],
   "source": [
    "lyon_tmax26 = tMaxLyon.variables['temp_26']  # variable temperature \n",
    "lyon_tmax45 = tMaxLyon.variables['temp_45']  # variable temperature \n",
    "lyon_tmax85 = tMaxLyon.variables['temp_85']  # variable temperature \n",
    "lyon_month = nc.chartostring(tMaxLyon.variables['month'][:])  # variable temps\n",
    "lyon_year = tMaxLyon.variables['year']  # variable temps\n",
    "\n",
    "#test = nc.chartostring(tMaxLyon.variables['month'][:])\n",
    "#print(test)\n",
    "#test[:] = nc.chartostring(tMaxLyon.variables['month'][:],encoding='utf-8')\n",
    "#print(test)\n",
    "\n",
    "lyon_lat,lyon_lon = tMaxLyon.variables['lat'][:,:], tMaxLyon.variables['lon']  # latitude longitude\n",
    "lyon_x,lyon_y = tMaxLyon.variables['x'], tMaxLyon.variables['y']  # coordonnées métriques\n",
    "lyon_gridi,lyon_gridj = tMaxLyon.variables['i'], tMaxLyon.variables['j'] # coordonnées grille Aladin\n",
    "\n",
    "lenmonths = lyon_month.shape[0]\n",
    "\n",
    "#print ('\\n Taille des tableaux de calcul : \\n', \n",
    "#       '\\ntmax26 : ', lyon_tmax26.shape, lyon_tmax26[44,7,5,5],tMaxLyon.variables['temp_26'][44,7,5,5],\n",
    "#       '\\ntmax45 : ', lyon_tmax45.shape, lyon_tmax45[44,7,5,5],tMaxLyon.variables['temp_45'][44,7,5,5],\n",
    "#       '\\ntmax85 : ', lyon_tmax85.shape, lyon_tmax85[44,7,5,5],tMaxLyon.variables['temp_85'][44,7,5,5],\n",
    "#       '\\n\\nyear : ', lyon_year.shape, lyon_year[:],\n",
    "#       '\\nmonth : ', lyon_month.shape, lyon_month[:],\n",
    "#       '\\n\\nLat : ', lyon_lat.shape,  lyon_lat[0,:],\n",
    "#       '\\nLon : ', lyon_lon.shape, lyon_lon[0,:],\n",
    "#       '\\n\\nX : ', lyon_x.shape, lyon_x[:],\n",
    "#       '\\nY : ', lyon_y.shape, lyon_y[:],\n",
    "#       '\\n\\ni : ', lyon_gridi.shape, lyon_gridi[:],\n",
    "#       '\\nj : ', lyon_gridj.shape, lyon_gridj[:])"
   ]
  },
  {
   "cell_type": "markdown",
   "metadata": {},
   "source": [
    "Définition et affectation des variables où sont copiées les données conservées et où seront stockés les résultats des calculs. (La syntaxe du fichier netCDF reste à  vérifier). Les années seront calculées pendant le calcul principal, les affichages permettent de vérifier la validité des données utilisées."
   ]
  },
  {
   "cell_type": "markdown",
   "metadata": {},
   "source": [
    "## Calcul principal des moyennes par mois pour chaque noeud et toutes les années\n"
   ]
  },
  {
   "cell_type": "markdown",
   "metadata": {},
   "source": [
    "Les affichages suivants permettent de vérifier  que les données obtenues correspondent au format attendu"
   ]
  },
  {
   "cell_type": "markdown",
   "metadata": {},
   "source": [
    "### Calculs pour une seule période de  `yearInterval` années\n",
    "\n",
    "Calcul de la moyenne de températures du mois de `calcMonth` sur `yearInterval` années à partir de l'année `yearBegin` sur les noeuds allant de `(startj,starti)` de taille `(intervalj,intervali)`"
   ]
  },
  {
   "cell_type": "code",
   "execution_count": 5,
   "metadata": {},
   "outputs": [],
   "source": [
    "# Années\n",
    "yearBegin = 2010\n",
    "yearInterval = 30\n",
    "calcMonth = 4\n",
    "#  Grille i j\n",
    "starti = 5\n",
    "intervali = 4\n",
    "startj = 2\n",
    "intervalj = 4\n",
    "# Variables de calcul\n",
    "startYear = yearBegin - 2006\n",
    "endYear = startYear + yearInterval\n",
    "endi = starti + intervali\n",
    "endj = startj + intervalj\n",
    "loc_i = 2\n",
    "loc_j = 3\n",
    "locLon = lyon_lon[loc_j,loc_i]\n",
    "locLat = lyon_lat[loc_j,loc_i]\n",
    "locMonth = lyon_month[calcMonth]\n",
    "\n",
    "                          \n",
    "if not  (startYear >= 0) and (endYear <= lenyears) :\n",
    "    print('starting year or finishing year out of bounds')\n",
    "    sys.exit('giving up on year bounds')\n",
    "#print(gridj[loc_j])\n",
    "#print(gridi[loc_i])\n",
    "#print(locLon)\n",
    "#print(locLat)\n",
    "#print(locMonth)\n",
    "#print(startYear,':',endYear,',',calcMonth,',',startj,':',endj,',',starti,':',endi)\n",
    "#print(temp.shape)\n",
    "#print(np.mean(temp[startYear:endYear,calcMonth,startj:endj,starti:endi]))"
   ]
  },
  {
   "cell_type": "markdown",
   "metadata": {},
   "source": [
    "#### Une valeur pour un mois donné\n",
    "Calcul de la moyenne de températures du mois de `calcMonth` sur `yearInterval` années à partir de l'année `yearBegin` sur les noeuds allant de `(startj,starti)` de taille `(intervalj,intervali)`"
   ]
  },
  {
   "cell_type": "code",
   "execution_count": 6,
   "metadata": {},
   "outputs": [
    {
     "name": "stdout",
     "output_type": "stream",
     "text": [
      "\n",
      "Paramètres :\n",
      "Année de départ :  2010 \tAnnée de fin :  2040 Mois calculé :  May \n",
      "Coordonnées de la sous-grille : [ 5 , 2 ] - [ 9 , 6 ]\n",
      "\n",
      " Modèles\n",
      "\tScenario 2.6\tScenario 4.5\tScenario 8.5\n",
      "\t 19.968794 \t 20.335613 \t 20.056074\n"
     ]
    }
   ],
   "source": [
    "moyAreaInterval_26 = np.mean(lyon_tmax26[startYear:endYear,calcMonth,startj:endj,starti:endi]) \n",
    "moyAreaInterval_45 = np.mean(lyon_tmax45[startYear:endYear,calcMonth,startj:endj,starti:endi]) \n",
    "moyAreaInterval_85 = np.mean(lyon_tmax85[startYear:endYear,calcMonth,startj:endj,starti:endi])\n",
    "print('\\nParamètres :\\nAnnée de départ : ', yearBegin, \n",
    "      '\\tAnnée de fin : ', yearBegin + yearInterval, \n",
    "      'Mois calculé : ', lyon_month[calcMonth],\n",
    "      '\\nCoordonnées de la sous-grille : [', starti,',', startj, '] - [', endi,',', endj,']')\n",
    "print('\\n Modèles\\n\\tScenario 2.6\\tScenario 4.5\\tScenario 8.5')\n",
    "print('\\t', moyAreaInterval_26, '\\t', moyAreaInterval_45, '\\t', moyAreaInterval_85)"
   ]
  },
  {
   "cell_type": "markdown",
   "metadata": {},
   "source": [
    "#### Enregistrement du fichier 13 valeurs (une par mois et année)\n",
    "Calcul de la moyenne de températures annuelle et de tous les mois sur `yearInterval` années à partir de l'année `yearBegin` sur les noeuds allant de `(startj,starti)` de taille `(intervalj,intervali)`.  Les douze moyennes mensuelles sont suivies de la moyenne annuelle."
   ]
  },
  {
   "cell_type": "code",
   "execution_count": 7,
   "metadata": {},
   "outputs": [],
   "source": [
    "slice = lenmonths - 1 # slice = lenmonths pour traiter en plus la moyenne annuelle \n",
    "moyAreaInterval = [None] * slice\n",
    "moyAreaInterval[:] = np.mean(lyon_tmax26[startYear:endYear,:,startj:endj,starti:endi],axis=(0,2,3)) \n",
    "#print(moyAreaInterval[0:slice])\n",
    "with open('moyMonth.txt', 'w') as file :\n",
    "    for p in range(slice) :\n",
    "        file.write(lyon_month[p])\n",
    "        file.write(';')\n",
    "        file.write(str(moyAreaInterval[p]))\n",
    "        file.write('\\n')"
   ]
  },
  {
   "cell_type": "markdown",
   "metadata": {},
   "source": [
    "#### préparation de la création de figures\n",
    "On importe les bibliothèques plotly"
   ]
  },
  {
   "cell_type": "code",
   "execution_count": 8,
   "metadata": {},
   "outputs": [
    {
     "data": {
      "text/html": [
       "<script type=\"text/javascript\">window.PlotlyConfig = {MathJaxConfig: 'local'};</script><script type=\"text/javascript\">if (window.MathJax) {MathJax.Hub.Config({SVG: {font: \"STIX-Web\"}});}</script><script>requirejs.config({paths: { 'plotly': ['https://cdn.plot.ly/plotly-latest.min']},});if(!window._Plotly) {require(['plotly'],function(plotly) {window._Plotly=plotly;});}</script>"
      ],
      "text/vnd.plotly.v1+html": [
       "<script type=\"text/javascript\">window.PlotlyConfig = {MathJaxConfig: 'local'};</script><script type=\"text/javascript\">if (window.MathJax) {MathJax.Hub.Config({SVG: {font: \"STIX-Web\"}});}</script><script>requirejs.config({paths: { 'plotly': ['https://cdn.plot.ly/plotly-latest.min']},});if(!window._Plotly) {require(['plotly'],function(plotly) {window._Plotly=plotly;});}</script>"
      ]
     },
     "metadata": {},
     "output_type": "display_data"
    }
   ],
   "source": [
    "import plotly.offline as py\n",
    "import plotly.graph_objs as go\n",
    "from plotly import tools\n",
    "\n",
    "py.init_notebook_mode(connected=True)"
   ]
  },
  {
   "cell_type": "markdown",
   "metadata": {},
   "source": [
    "#### Création d'une figure bidimensionnelle \n",
    "Valeurs moyennes de la température max sur toute la région lyonnaise  au mois de juillet de l'horizon 2040. (Décommenter la dernière ligne du bloc pour afficher la figure)"
   ]
  },
  {
   "cell_type": "code",
   "execution_count": 9,
   "metadata": {},
   "outputs": [
    {
     "data": {
      "application/vnd.plotly.v1+json": {
       "config": {
        "linkText": "Export to plot.ly",
        "plotlyServerURL": "https://plot.ly",
        "showLink": false
       },
       "data": [
        {
         "type": "heatmap",
         "uid": "947ed38e-8f10-4e5d-91e6-bb3f6754f972",
         "z": [
          [
           24.781991958618164,
           23.98523712158203,
           24.486242294311523,
           24.47858238220215,
           27.065059661865234,
           27.332307815551758,
           26.649965286254883,
           26.122995376586914,
           25.844694137573242,
           25.713768005371094
          ],
          [
           24.335176467895508,
           23.382938385009766,
           25.561386108398438,
           24.776044845581055,
           26.08458709716797,
           26.992937088012695,
           27.038135528564453,
           26.20003890991211,
           25.388235092163086,
           24.913541793823242
          ],
          [
           24.27952766418457,
           22.336238861083984,
           23.580488204956055,
           25.969715118408203,
           26.77593231201172,
           26.865236282348633,
           27.21408462524414,
           26.278440475463867,
           25.54610252380371,
           25.80591583251953
          ],
          [
           23.851022720336914,
           23.558456420898438,
           23.01118278503418,
           24.8428955078125,
           26.46719741821289,
           27.03591537475586,
           26.58036231994629,
           26.65568733215332,
           26.53631019592285,
           26.476947784423828
          ],
          [
           23.947349548339844,
           24.19624137878418,
           23.348310470581055,
           25.010812759399414,
           26.895944595336914,
           26.828170776367188,
           26.545942306518555,
           26.51034164428711,
           26.20625114440918,
           25.64529037475586
          ],
          [
           23.351991653442383,
           23.312578201293945,
           25.010812759399414,
           24.994543075561523,
           26.431041717529297,
           26.771488189697266,
           26.796796798706055,
           26.906511306762695,
           26.402332305908203,
           25.795202255249023
          ],
          [
           21.705411911010742,
           23.45736312866211,
           24.461143493652344,
           25.099594116210938,
           26.400753021240234,
           26.28078842163086,
           25.99175453186035,
           26.480419158935547,
           26.013160705566406,
           25.977869033813477
          ],
          [
           22.21384048461914,
           23.339155197143555,
           24.010387420654297,
           24.8408260345459,
           26.34168243408203,
           25.48967170715332,
           25.468734741210938,
           25.397342681884766,
           25.21486473083496,
           25.33574867248535
          ],
          [
           23.132200241088867,
           23.19475746154785,
           23.165782928466797,
           25.230567932128906,
           26.172603607177734,
           25.496479034423828,
           25.48259925842285,
           25.403743743896484,
           24.925874710083008,
           25.30390739440918
          ],
          [
           21.978918075561523,
           22.51279067993164,
           23.836702346801758,
           25.5980224609375,
           26.109926223754883,
           25.87744140625,
           25.79439353942871,
           25.368120193481445,
           25.02130699157715,
           25.041828155517578
          ]
         ]
        }
       ],
       "layout": {
        "autosize": false,
        "height": 800,
        "title": {
         "text": "Température moyenne maximale du mois de juillet horizon 2040"
        },
        "width": 800,
        "xaxis": {
         "autorange": true,
         "range": [
          -0.5,
          9.5
         ],
         "showline": true,
         "showticklabels": true,
         "ticklen": 5,
         "title": {
          "text": "Aladin grid J"
         }
        },
        "yaxis": {
         "autorange": true,
         "range": [
          -0.5,
          9.5
         ],
         "showline": true,
         "showticklabels": true,
         "title": {
          "text": "Aladin grid I"
         }
        }
       }
      },
      "image/png": "[encoded data removed]",
      "text/html": [
       "<div id=\"661c0730-6fa8-48af-b63e-f7f8d312dde0\" style=\"height: 800px; width: 800px;\" class=\"plotly-graph-div\"></div><script type=\"text/javascript\">require([\"plotly\"], function(Plotly) { window.PLOTLYENV=window.PLOTLYENV || {};window.PLOTLYENV.BASE_URL=\"https://plot.ly\";Plotly.newPlot(\"661c0730-6fa8-48af-b63e-f7f8d312dde0\", [{\"z\": [[24.781991958618164, 23.98523712158203, 24.486242294311523, 24.47858238220215, 27.065059661865234, 27.332307815551758, 26.649965286254883, 26.122995376586914, 25.844694137573242, 25.713768005371094], [24.335176467895508, 23.382938385009766, 25.561386108398438, 24.776044845581055, 26.08458709716797, 26.992937088012695, 27.038135528564453, 26.20003890991211, 25.388235092163086, 24.913541793823242], [24.27952766418457, 22.336238861083984, 23.580488204956055, 25.969715118408203, 26.77593231201172, 26.865236282348633, 27.21408462524414, 26.278440475463867, 25.54610252380371, 25.80591583251953], [23.851022720336914, 23.558456420898438, 23.01118278503418, 24.8428955078125, 26.46719741821289, 27.03591537475586, 26.58036231994629, 26.65568733215332, 26.53631019592285, 26.476947784423828], [23.947349548339844, 24.19624137878418, 23.348310470581055, 25.010812759399414, 26.895944595336914, 26.828170776367188, 26.545942306518555, 26.51034164428711, 26.20625114440918, 25.64529037475586], [23.351991653442383, 23.312578201293945, 25.010812759399414, 24.994543075561523, 26.431041717529297, 26.771488189697266, 26.796796798706055, 26.906511306762695, 26.402332305908203, 25.795202255249023], [21.705411911010742, 23.45736312866211, 24.461143493652344, 25.099594116210938, 26.400753021240234, 26.28078842163086, 25.99175453186035, 26.480419158935547, 26.013160705566406, 25.977869033813477], [22.21384048461914, 23.339155197143555, 24.010387420654297, 24.8408260345459, 26.34168243408203, 25.48967170715332, 25.468734741210938, 25.397342681884766, 25.21486473083496, 25.33574867248535], [23.132200241088867, 23.19475746154785, 23.165782928466797, 25.230567932128906, 26.172603607177734, 25.496479034423828, 25.48259925842285, 25.403743743896484, 24.925874710083008, 25.30390739440918], [21.978918075561523, 22.51279067993164, 23.836702346801758, 25.5980224609375, 26.109926223754883, 25.87744140625, 25.79439353942871, 25.368120193481445, 25.02130699157715, 25.041828155517578]], \"type\": \"heatmap\", \"uid\": \"cb0c48d4-6dc2-4cae-b5a7-7c7a4b10c022\"}], {\"autosize\": false, \"height\": 800, \"title\": {\"text\": \"Temp\\u00e9rature moyenne maximale du mois de juillet horizon 2040\"}, \"width\": 800, \"xaxis\": {\"showline\": true, \"showticklabels\": true, \"ticklen\": 5, \"title\": {\"text\": \"Aladin grid J\"}}, \"yaxis\": {\"showline\": true, \"showticklabels\": true, \"title\": {\"text\": \"Aladin grid I\"}}}, {\"showLink\": false, \"linkText\": \"Export to plot.ly\", \"plotlyServerURL\": \"https://plot.ly\"})});</script>"
      ],
      "text/vnd.plotly.v1+html": [
       "<div id=\"661c0730-6fa8-48af-b63e-f7f8d312dde0\" style=\"height: 800px; width: 800px;\" class=\"plotly-graph-div\"></div><script type=\"text/javascript\">require([\"plotly\"], function(Plotly) { window.PLOTLYENV=window.PLOTLYENV || {};window.PLOTLYENV.BASE_URL=\"https://plot.ly\";Plotly.newPlot(\"661c0730-6fa8-48af-b63e-f7f8d312dde0\", [{\"z\": [[24.781991958618164, 23.98523712158203, 24.486242294311523, 24.47858238220215, 27.065059661865234, 27.332307815551758, 26.649965286254883, 26.122995376586914, 25.844694137573242, 25.713768005371094], [24.335176467895508, 23.382938385009766, 25.561386108398438, 24.776044845581055, 26.08458709716797, 26.992937088012695, 27.038135528564453, 26.20003890991211, 25.388235092163086, 24.913541793823242], [24.27952766418457, 22.336238861083984, 23.580488204956055, 25.969715118408203, 26.77593231201172, 26.865236282348633, 27.21408462524414, 26.278440475463867, 25.54610252380371, 25.80591583251953], [23.851022720336914, 23.558456420898438, 23.01118278503418, 24.8428955078125, 26.46719741821289, 27.03591537475586, 26.58036231994629, 26.65568733215332, 26.53631019592285, 26.476947784423828], [23.947349548339844, 24.19624137878418, 23.348310470581055, 25.010812759399414, 26.895944595336914, 26.828170776367188, 26.545942306518555, 26.51034164428711, 26.20625114440918, 25.64529037475586], [23.351991653442383, 23.312578201293945, 25.010812759399414, 24.994543075561523, 26.431041717529297, 26.771488189697266, 26.796796798706055, 26.906511306762695, 26.402332305908203, 25.795202255249023], [21.705411911010742, 23.45736312866211, 24.461143493652344, 25.099594116210938, 26.400753021240234, 26.28078842163086, 25.99175453186035, 26.480419158935547, 26.013160705566406, 25.977869033813477], [22.21384048461914, 23.339155197143555, 24.010387420654297, 24.8408260345459, 26.34168243408203, 25.48967170715332, 25.468734741210938, 25.397342681884766, 25.21486473083496, 25.33574867248535], [23.132200241088867, 23.19475746154785, 23.165782928466797, 25.230567932128906, 26.172603607177734, 25.496479034423828, 25.48259925842285, 25.403743743896484, 24.925874710083008, 25.30390739440918], [21.978918075561523, 22.51279067993164, 23.836702346801758, 25.5980224609375, 26.109926223754883, 25.87744140625, 25.79439353942871, 25.368120193481445, 25.02130699157715, 25.041828155517578]], \"type\": \"heatmap\", \"uid\": \"cb0c48d4-6dc2-4cae-b5a7-7c7a4b10c022\"}], {\"autosize\": false, \"height\": 800, \"title\": {\"text\": \"Temp\\u00e9rature moyenne maximale du mois de juillet horizon 2040\"}, \"width\": 800, \"xaxis\": {\"showline\": true, \"showticklabels\": true, \"ticklen\": 5, \"title\": {\"text\": \"Aladin grid J\"}}, \"yaxis\": {\"showline\": true, \"showticklabels\": true, \"title\": {\"text\": \"Aladin grid I\"}}}, {\"showLink\": false, \"linkText\": \"Export to plot.ly\", \"plotlyServerURL\": \"https://plot.ly\"})});</script>"
      ]
     },
     "metadata": {},
     "output_type": "display_data"
    }
   ],
   "source": [
    "trace0 = go.Heatmap(z=lyon_tmax26[0,6,:,:].tolist())\n",
    "data=[trace0]\n",
    "layout = dict (\n",
    "    title = \"Température moyenne maximale du mois de juillet horizon 2040\",\n",
    "    autosize=False,\n",
    "    width=800,\n",
    "    height=800,        \n",
    "    xaxis = dict(\n",
    "        title = 'Aladin grid J',\n",
    "        showline=True,\n",
    "        showticklabels=True,\n",
    "        ticklen=5\n",
    "    ),\n",
    "    yaxis = dict(\n",
    "        title = 'Aladin grid I',\n",
    "        showline=True,\n",
    "        showticklabels=True\n",
    "    ),         \n",
    ")\n",
    "fig = dict(data=data, layout=layout)\n",
    "py.iplot(fig, filename='basic-heatmap')"
   ]
  },
  {
   "cell_type": "markdown",
   "metadata": {},
   "source": [
    "#### Comparaison de 3 horizons pour le mois de juillet en région lyonnaise\n",
    "Ce bloc utilise les données mises en forme dans le bloc précédent pour afficher une comparaison entre  3 horizons. (Décommenter la dernière ligne du bloc pour afficher la figure)"
   ]
  },
  {
   "cell_type": "code",
   "execution_count": 10,
   "metadata": {},
   "outputs": [
    {
     "name": "stdout",
     "output_type": "stream",
     "text": [
      "This is the format of your plot grid:\n",
      "[ (1,1) x1,y1 ]  [ (1,2) x2,y2 ]  [ (1,3) x3,y3 ]\n",
      "\n"
     ]
    },
    {
     "data": {
      "application/vnd.plotly.v1+json": {
       "config": {
        "linkText": "Export to plot.ly",
        "plotlyServerURL": "https://plot.ly",
        "showLink": false
       },
       "data": [
        {
         "type": "heatmap",
         "uid": "a01d269f-c595-47d5-a9cc-3b0194ff7c57",
         "xaxis": "x",
         "yaxis": "y",
         "z": [
          [
           24.781991958618164,
           23.98523712158203,
           24.486242294311523,
           24.47858238220215,
           27.065059661865234,
           27.332307815551758,
           26.649965286254883,
           26.122995376586914,
           25.844694137573242,
           25.713768005371094
          ],
          [
           24.335176467895508,
           23.382938385009766,
           25.561386108398438,
           24.776044845581055,
           26.08458709716797,
           26.992937088012695,
           27.038135528564453,
           26.20003890991211,
           25.388235092163086,
           24.913541793823242
          ],
          [
           24.27952766418457,
           22.336238861083984,
           23.580488204956055,
           25.969715118408203,
           26.77593231201172,
           26.865236282348633,
           27.21408462524414,
           26.278440475463867,
           25.54610252380371,
           25.80591583251953
          ],
          [
           23.851022720336914,
           23.558456420898438,
           23.01118278503418,
           24.8428955078125,
           26.46719741821289,
           27.03591537475586,
           26.58036231994629,
           26.65568733215332,
           26.53631019592285,
           26.476947784423828
          ],
          [
           23.947349548339844,
           24.19624137878418,
           23.348310470581055,
           25.010812759399414,
           26.895944595336914,
           26.828170776367188,
           26.545942306518555,
           26.51034164428711,
           26.20625114440918,
           25.64529037475586
          ],
          [
           23.351991653442383,
           23.312578201293945,
           25.010812759399414,
           24.994543075561523,
           26.431041717529297,
           26.771488189697266,
           26.796796798706055,
           26.906511306762695,
           26.402332305908203,
           25.795202255249023
          ],
          [
           21.705411911010742,
           23.45736312866211,
           24.461143493652344,
           25.099594116210938,
           26.400753021240234,
           26.28078842163086,
           25.99175453186035,
           26.480419158935547,
           26.013160705566406,
           25.977869033813477
          ],
          [
           22.21384048461914,
           23.339155197143555,
           24.010387420654297,
           24.8408260345459,
           26.34168243408203,
           25.48967170715332,
           25.468734741210938,
           25.397342681884766,
           25.21486473083496,
           25.33574867248535
          ],
          [
           23.132200241088867,
           23.19475746154785,
           23.165782928466797,
           25.230567932128906,
           26.172603607177734,
           25.496479034423828,
           25.48259925842285,
           25.403743743896484,
           24.925874710083008,
           25.30390739440918
          ],
          [
           21.978918075561523,
           22.51279067993164,
           23.836702346801758,
           25.5980224609375,
           26.109926223754883,
           25.87744140625,
           25.79439353942871,
           25.368120193481445,
           25.02130699157715,
           25.041828155517578
          ]
         ],
         "zauto": false,
         "zmax": 28,
         "zmin": 20
        },
        {
         "type": "heatmap",
         "uid": "a4603004-fc17-4280-b11c-6025c3729a2b",
         "xaxis": "x2",
         "yaxis": "y2",
         "z": [
          [
           25.52564239501953,
           24.73052406311035,
           24.893070220947266,
           24.8852481842041,
           27.204599380493164,
           27.018362045288086,
           26.31653594970703,
           25.680545806884766,
           25.824281692504883,
           25.69666862487793
          ],
          [
           25.04378318786621,
           24.084806442260742,
           26.24105453491211,
           25.405620574951172,
           26.101850509643555,
           26.30216407775879,
           26.346290588378906,
           25.970598220825195,
           25.650545120239258,
           25.18616485595703
          ],
          [
           24.560775756835938,
           23.062210083007812,
           24.157207489013672,
           26.57445526123047,
           26.782270431518555,
           26.52649688720703,
           26.527917861938477,
           26.05434799194336,
           25.805908203125,
           26.059730529785156
          ],
          [
           24.794437408447266,
           24.506332397460938,
           23.92806053161621,
           25.7650089263916,
           26.58453941345215,
           26.606916427612305,
           26.146936416625977,
           26.285707473754883,
           27.073537826538086,
           27.007678985595703
          ],
          [
           25.245853424072266,
           25.470548629760742,
           24.42229652404785,
           26.08597755432129,
           27.032289505004883,
           27.306346893310547,
           27.02350425720215,
           26.64361000061035,
           27.192649841308594,
           26.641340255737305
          ],
          [
           24.639982223510742,
           24.604780197143555,
           26.08597755432129,
           26.0685977935791,
           26.536914825439453,
           27.250732421875,
           27.274736404418945,
           27.140705108642578,
           27.38637924194336,
           26.800134658813477
          ],
          [
           23.076908111572266,
           24.824506759643555,
           25.523115158081055,
           26.149436950683594,
           26.568662643432617,
           26.578584671020508,
           26.328693389892578,
           26.856483459472656,
           27.146995544433594,
           27.112241744995117
          ],
          [
           23.934551239013672,
           25.052003860473633,
           25.388347625732422,
           26.197946548461914,
           26.776212692260742,
           26.081317901611328,
           26.062253952026367,
           26.462276458740234,
           26.968591690063477,
           27.070552825927734
          ],
          [
           24.856477737426758,
           24.912996292114258,
           24.676979064941406,
           26.584861755371094,
           26.634401321411133,
           26.087757110595703,
           26.07500648498535,
           26.468538284301758,
           26.708436965942383,
           27.04576873779297
          ],
          [
           24.123188018798828,
           24.668094635009766,
           25.08295249938965,
           26.71172332763672,
           26.658626556396484,
           26.054553985595703,
           25.968950271606445,
           26.31079864501953,
           26.527366638183594,
           26.547182083129883
          ]
         ],
         "zauto": false,
         "zmax": 28,
         "zmin": 20
        },
        {
         "type": "heatmap",
         "uid": "998caf0e-0574-422c-8079-7fdcae26dfc8",
         "xaxis": "x3",
         "yaxis": "y3",
         "z": [
          [
           25.297910690307617,
           24.485370635986328,
           24.630964279174805,
           24.62255859375,
           26.30674171447754,
           26.66478729248047,
           25.97292709350586,
           25.91478157043457,
           25.313493728637695,
           25.181604385375977
          ],
          [
           24.621896743774414,
           23.574321746826172,
           25.631977081298828,
           24.70244026184082,
           25.4201717376709,
           26.33486557006836,
           26.375534057617188,
           25.537700653076172,
           24.805809020996094,
           24.380390167236328
          ],
          [
           24.732807159423828,
           22.555124282836914,
           23.481800079345703,
           25.910337448120117,
           26.119709014892578,
           26.753889083862305,
           26.54734230041504,
           25.621353149414062,
           24.958351135253906,
           25.20682716369629
          ],
          [
           24.146997451782227,
           23.870933532714844,
           23.247936248779297,
           25.028827667236328,
           26.283971786499023,
           26.75785255432129,
           26.263010025024414,
           26.31574249267578,
           25.954357147216797,
           25.893278121948242
          ],
          [
           24.371889114379883,
           24.62490463256836,
           23.750343322753906,
           25.36093521118164,
           26.465801239013672,
           26.786680221557617,
           26.507400512695312,
           26.273212432861328,
           25.890602111816406,
           25.32342529296875
          ],
          [
           23.783594131469727,
           23.744050979614258,
           25.36093521118164,
           25.343238830566406,
           25.9122314453125,
           26.725818634033203,
           26.75225257873535,
           26.8267822265625,
           26.084306716918945,
           25.478023529052734
          ],
          [
           22.08087921142578,
           23.813066482543945,
           24.732332229614258,
           25.35736083984375,
           26.25822639465332,
           25.94251251220703,
           25.695533752441406,
           26.06207275390625,
           25.500839233398438,
           25.464784622192383
          ],
          [
           22.872539520263672,
           23.997215270996094,
           24.498218536376953,
           25.32314682006836,
           26.090314865112305,
           25.152868270874023,
           25.13247299194336,
           25.051891326904297,
           25.083984375,
           25.201072692871094
          ],
          [
           23.779966354370117,
           23.840547561645508,
           23.69404411315918,
           25.723018646240234,
           25.9706974029541,
           25.159076690673828,
           25.146240234375,
           25.058963775634766,
           24.78685760498047,
           25.170181274414062
          ],
          [
           22.99332618713379,
           23.528087615966797,
           24.227163314819336,
           25.969985961914062,
           25.94820213317871,
           25.496522903442383,
           25.408876419067383,
           25.018939971923828,
           24.75677490234375,
           24.77669334411621
          ]
         ],
         "zauto": false,
         "zmax": 28,
         "zmin": 20
        }
       ],
       "layout": {
        "annotations": [
         {
          "font": {
           "size": 16
          },
          "showarrow": false,
          "text": "horizon 2030",
          "x": 0.14444444444444446,
          "xanchor": "center",
          "xref": "paper",
          "y": 1,
          "yanchor": "bottom",
          "yref": "paper"
         },
         {
          "font": {
           "size": 16
          },
          "showarrow": false,
          "text": "horizon 2060",
          "x": 0.5,
          "xanchor": "center",
          "xref": "paper",
          "y": 1,
          "yanchor": "bottom",
          "yref": "paper"
         },
         {
          "font": {
           "size": 16
          },
          "showarrow": false,
          "text": "horizon 2090",
          "x": 0.8555555555555556,
          "xanchor": "center",
          "xref": "paper",
          "y": 1,
          "yanchor": "bottom",
          "yref": "paper"
         }
        ],
        "autosize": false,
        "height": 380,
        "title": {
         "text": "Température moyenne maximale du mois de juillet"
        },
        "width": 800,
        "xaxis": {
         "anchor": "y",
         "autorange": true,
         "domain": [
          0,
          0.2888888888888889
         ],
         "range": [
          -0.5,
          9.5
         ],
         "title": {
          "text": "Aladin grid J"
         }
        },
        "xaxis2": {
         "anchor": "y2",
         "autorange": true,
         "domain": [
          0.35555555555555557,
          0.6444444444444445
         ],
         "range": [
          -0.5,
          9.5
         ],
         "title": {
          "text": "Aladin grid J"
         }
        },
        "xaxis3": {
         "anchor": "y3",
         "autorange": true,
         "domain": [
          0.7111111111111111,
          1
         ],
         "range": [
          -0.5,
          9.5
         ],
         "title": {
          "text": "Aladin grid J"
         }
        },
        "yaxis": {
         "anchor": "x",
         "autorange": true,
         "domain": [
          0,
          1
         ],
         "range": [
          -0.5,
          9.5
         ],
         "title": {
          "text": "Aladin grid I"
         }
        },
        "yaxis2": {
         "anchor": "x2",
         "autorange": true,
         "domain": [
          0,
          1
         ],
         "range": [
          -0.5,
          9.5
         ]
        },
        "yaxis3": {
         "anchor": "x3",
         "autorange": true,
         "domain": [
          0,
          1
         ],
         "range": [
          -0.5,
          9.5
         ]
        }
       }
      },
      "image/png": "[encoded data removed]",
      "text/html": [
       "<div id=\"e26acc6b-96ea-4ed2-b57e-4b683b8faf39\" style=\"height: 380px; width: 800px;\" class=\"plotly-graph-div\"></div><script type=\"text/javascript\">require([\"plotly\"], function(Plotly) { window.PLOTLYENV=window.PLOTLYENV || {};window.PLOTLYENV.BASE_URL=\"https://plot.ly\";Plotly.newPlot(\"e26acc6b-96ea-4ed2-b57e-4b683b8faf39\", [{\"z\": [[24.781991958618164, 23.98523712158203, 24.486242294311523, 24.47858238220215, 27.065059661865234, 27.332307815551758, 26.649965286254883, 26.122995376586914, 25.844694137573242, 25.713768005371094], [24.335176467895508, 23.382938385009766, 25.561386108398438, 24.776044845581055, 26.08458709716797, 26.992937088012695, 27.038135528564453, 26.20003890991211, 25.388235092163086, 24.913541793823242], [24.27952766418457, 22.336238861083984, 23.580488204956055, 25.969715118408203, 26.77593231201172, 26.865236282348633, 27.21408462524414, 26.278440475463867, 25.54610252380371, 25.80591583251953], [23.851022720336914, 23.558456420898438, 23.01118278503418, 24.8428955078125, 26.46719741821289, 27.03591537475586, 26.58036231994629, 26.65568733215332, 26.53631019592285, 26.476947784423828], [23.947349548339844, 24.19624137878418, 23.348310470581055, 25.010812759399414, 26.895944595336914, 26.828170776367188, 26.545942306518555, 26.51034164428711, 26.20625114440918, 25.64529037475586], [23.351991653442383, 23.312578201293945, 25.010812759399414, 24.994543075561523, 26.431041717529297, 26.771488189697266, 26.796796798706055, 26.906511306762695, 26.402332305908203, 25.795202255249023], [21.705411911010742, 23.45736312866211, 24.461143493652344, 25.099594116210938, 26.400753021240234, 26.28078842163086, 25.99175453186035, 26.480419158935547, 26.013160705566406, 25.977869033813477], [22.21384048461914, 23.339155197143555, 24.010387420654297, 24.8408260345459, 26.34168243408203, 25.48967170715332, 25.468734741210938, 25.397342681884766, 25.21486473083496, 25.33574867248535], [23.132200241088867, 23.19475746154785, 23.165782928466797, 25.230567932128906, 26.172603607177734, 25.496479034423828, 25.48259925842285, 25.403743743896484, 24.925874710083008, 25.30390739440918], [21.978918075561523, 22.51279067993164, 23.836702346801758, 25.5980224609375, 26.109926223754883, 25.87744140625, 25.79439353942871, 25.368120193481445, 25.02130699157715, 25.041828155517578]], \"zauto\": false, \"zmax\": 28, \"zmin\": 20, \"type\": \"heatmap\", \"uid\": \"a01d269f-c595-47d5-a9cc-3b0194ff7c57\", \"xaxis\": \"x\", \"yaxis\": \"y\"}, {\"z\": [[25.52564239501953, 24.73052406311035, 24.893070220947266, 24.8852481842041, 27.204599380493164, 27.018362045288086, 26.31653594970703, 25.680545806884766, 25.824281692504883, 25.69666862487793], [25.04378318786621, 24.084806442260742, 26.24105453491211, 25.405620574951172, 26.101850509643555, 26.30216407775879, 26.346290588378906, 25.970598220825195, 25.650545120239258, 25.18616485595703], [24.560775756835938, 23.062210083007812, 24.157207489013672, 26.57445526123047, 26.782270431518555, 26.52649688720703, 26.527917861938477, 26.05434799194336, 25.805908203125, 26.059730529785156], [24.794437408447266, 24.506332397460938, 23.92806053161621, 25.7650089263916, 26.58453941345215, 26.606916427612305, 26.146936416625977, 26.285707473754883, 27.073537826538086, 27.007678985595703], [25.245853424072266, 25.470548629760742, 24.42229652404785, 26.08597755432129, 27.032289505004883, 27.306346893310547, 27.02350425720215, 26.64361000061035, 27.192649841308594, 26.641340255737305], [24.639982223510742, 24.604780197143555, 26.08597755432129, 26.0685977935791, 26.536914825439453, 27.250732421875, 27.274736404418945, 27.140705108642578, 27.38637924194336, 26.800134658813477], [23.076908111572266, 24.824506759643555, 25.523115158081055, 26.149436950683594, 26.568662643432617, 26.578584671020508, 26.328693389892578, 26.856483459472656, 27.146995544433594, 27.112241744995117], [23.934551239013672, 25.052003860473633, 25.388347625732422, 26.197946548461914, 26.776212692260742, 26.081317901611328, 26.062253952026367, 26.462276458740234, 26.968591690063477, 27.070552825927734], [24.856477737426758, 24.912996292114258, 24.676979064941406, 26.584861755371094, 26.634401321411133, 26.087757110595703, 26.07500648498535, 26.468538284301758, 26.708436965942383, 27.04576873779297], [24.123188018798828, 24.668094635009766, 25.08295249938965, 26.71172332763672, 26.658626556396484, 26.054553985595703, 25.968950271606445, 26.31079864501953, 26.527366638183594, 26.547182083129883]], \"zauto\": false, \"zmax\": 28, \"zmin\": 20, \"type\": \"heatmap\", \"uid\": \"a4603004-fc17-4280-b11c-6025c3729a2b\", \"xaxis\": \"x2\", \"yaxis\": \"y2\"}, {\"z\": [[25.297910690307617, 24.485370635986328, 24.630964279174805, 24.62255859375, 26.30674171447754, 26.66478729248047, 25.97292709350586, 25.91478157043457, 25.313493728637695, 25.181604385375977], [24.621896743774414, 23.574321746826172, 25.631977081298828, 24.70244026184082, 25.4201717376709, 26.33486557006836, 26.375534057617188, 25.537700653076172, 24.805809020996094, 24.380390167236328], [24.732807159423828, 22.555124282836914, 23.481800079345703, 25.910337448120117, 26.119709014892578, 26.753889083862305, 26.54734230041504, 25.621353149414062, 24.958351135253906, 25.20682716369629], [24.146997451782227, 23.870933532714844, 23.247936248779297, 25.028827667236328, 26.283971786499023, 26.75785255432129, 26.263010025024414, 26.31574249267578, 25.954357147216797, 25.893278121948242], [24.371889114379883, 24.62490463256836, 23.750343322753906, 25.36093521118164, 26.465801239013672, 26.786680221557617, 26.507400512695312, 26.273212432861328, 25.890602111816406, 25.32342529296875], [23.783594131469727, 23.744050979614258, 25.36093521118164, 25.343238830566406, 25.9122314453125, 26.725818634033203, 26.75225257873535, 26.8267822265625, 26.084306716918945, 25.478023529052734], [22.08087921142578, 23.813066482543945, 24.732332229614258, 25.35736083984375, 26.25822639465332, 25.94251251220703, 25.695533752441406, 26.06207275390625, 25.500839233398438, 25.464784622192383], [22.872539520263672, 23.997215270996094, 24.498218536376953, 25.32314682006836, 26.090314865112305, 25.152868270874023, 25.13247299194336, 25.051891326904297, 25.083984375, 25.201072692871094], [23.779966354370117, 23.840547561645508, 23.69404411315918, 25.723018646240234, 25.9706974029541, 25.159076690673828, 25.146240234375, 25.058963775634766, 24.78685760498047, 25.170181274414062], [22.99332618713379, 23.528087615966797, 24.227163314819336, 25.969985961914062, 25.94820213317871, 25.496522903442383, 25.408876419067383, 25.018939971923828, 24.75677490234375, 24.77669334411621]], \"zauto\": false, \"zmax\": 28, \"zmin\": 20, \"type\": \"heatmap\", \"uid\": \"998caf0e-0574-422c-8079-7fdcae26dfc8\", \"xaxis\": \"x3\", \"yaxis\": \"y3\"}], {\"annotations\": [{\"font\": {\"size\": 16}, \"showarrow\": false, \"text\": \"horizon 2030\", \"x\": 0.14444444444444446, \"xanchor\": \"center\", \"xref\": \"paper\", \"y\": 1.0, \"yanchor\": \"bottom\", \"yref\": \"paper\"}, {\"font\": {\"size\": 16}, \"showarrow\": false, \"text\": \"horizon 2060\", \"x\": 0.5, \"xanchor\": \"center\", \"xref\": \"paper\", \"y\": 1.0, \"yanchor\": \"bottom\", \"yref\": \"paper\"}, {\"font\": {\"size\": 16}, \"showarrow\": false, \"text\": \"horizon 2090\", \"x\": 0.8555555555555556, \"xanchor\": \"center\", \"xref\": \"paper\", \"y\": 1.0, \"yanchor\": \"bottom\", \"yref\": \"paper\"}], \"xaxis\": {\"anchor\": \"y\", \"domain\": [0.0, 0.2888888888888889], \"title\": {\"text\": \"Aladin grid J\"}}, \"yaxis\": {\"anchor\": \"x\", \"domain\": [0.0, 1.0], \"title\": {\"text\": \"Aladin grid I\"}}, \"xaxis2\": {\"anchor\": \"y2\", \"domain\": [0.35555555555555557, 0.6444444444444445], \"title\": {\"text\": \"Aladin grid J\"}}, \"yaxis2\": {\"anchor\": \"x2\", \"domain\": [0.0, 1.0]}, \"xaxis3\": {\"anchor\": \"y3\", \"domain\": [0.7111111111111111, 1.0], \"title\": {\"text\": \"Aladin grid J\"}}, \"yaxis3\": {\"anchor\": \"x3\", \"domain\": [0.0, 1.0]}, \"title\": {\"text\": \"Temp\\u00e9rature moyenne maximale du mois de juillet\"}, \"autosize\": false, \"width\": 800, \"height\": 380}, {\"showLink\": false, \"linkText\": \"Export to plot.ly\", \"plotlyServerURL\": \"https://plot.ly\"})});</script>"
      ],
      "text/vnd.plotly.v1+html": [
       "<div id=\"e26acc6b-96ea-4ed2-b57e-4b683b8faf39\" style=\"height: 380px; width: 800px;\" class=\"plotly-graph-div\"></div><script type=\"text/javascript\">require([\"plotly\"], function(Plotly) { window.PLOTLYENV=window.PLOTLYENV || {};window.PLOTLYENV.BASE_URL=\"https://plot.ly\";Plotly.newPlot(\"e26acc6b-96ea-4ed2-b57e-4b683b8faf39\", [{\"z\": [[24.781991958618164, 23.98523712158203, 24.486242294311523, 24.47858238220215, 27.065059661865234, 27.332307815551758, 26.649965286254883, 26.122995376586914, 25.844694137573242, 25.713768005371094], [24.335176467895508, 23.382938385009766, 25.561386108398438, 24.776044845581055, 26.08458709716797, 26.992937088012695, 27.038135528564453, 26.20003890991211, 25.388235092163086, 24.913541793823242], [24.27952766418457, 22.336238861083984, 23.580488204956055, 25.969715118408203, 26.77593231201172, 26.865236282348633, 27.21408462524414, 26.278440475463867, 25.54610252380371, 25.80591583251953], [23.851022720336914, 23.558456420898438, 23.01118278503418, 24.8428955078125, 26.46719741821289, 27.03591537475586, 26.58036231994629, 26.65568733215332, 26.53631019592285, 26.476947784423828], [23.947349548339844, 24.19624137878418, 23.348310470581055, 25.010812759399414, 26.895944595336914, 26.828170776367188, 26.545942306518555, 26.51034164428711, 26.20625114440918, 25.64529037475586], [23.351991653442383, 23.312578201293945, 25.010812759399414, 24.994543075561523, 26.431041717529297, 26.771488189697266, 26.796796798706055, 26.906511306762695, 26.402332305908203, 25.795202255249023], [21.705411911010742, 23.45736312866211, 24.461143493652344, 25.099594116210938, 26.400753021240234, 26.28078842163086, 25.99175453186035, 26.480419158935547, 26.013160705566406, 25.977869033813477], [22.21384048461914, 23.339155197143555, 24.010387420654297, 24.8408260345459, 26.34168243408203, 25.48967170715332, 25.468734741210938, 25.397342681884766, 25.21486473083496, 25.33574867248535], [23.132200241088867, 23.19475746154785, 23.165782928466797, 25.230567932128906, 26.172603607177734, 25.496479034423828, 25.48259925842285, 25.403743743896484, 24.925874710083008, 25.30390739440918], [21.978918075561523, 22.51279067993164, 23.836702346801758, 25.5980224609375, 26.109926223754883, 25.87744140625, 25.79439353942871, 25.368120193481445, 25.02130699157715, 25.041828155517578]], \"zauto\": false, \"zmax\": 28, \"zmin\": 20, \"type\": \"heatmap\", \"uid\": \"a01d269f-c595-47d5-a9cc-3b0194ff7c57\", \"xaxis\": \"x\", \"yaxis\": \"y\"}, {\"z\": [[25.52564239501953, 24.73052406311035, 24.893070220947266, 24.8852481842041, 27.204599380493164, 27.018362045288086, 26.31653594970703, 25.680545806884766, 25.824281692504883, 25.69666862487793], [25.04378318786621, 24.084806442260742, 26.24105453491211, 25.405620574951172, 26.101850509643555, 26.30216407775879, 26.346290588378906, 25.970598220825195, 25.650545120239258, 25.18616485595703], [24.560775756835938, 23.062210083007812, 24.157207489013672, 26.57445526123047, 26.782270431518555, 26.52649688720703, 26.527917861938477, 26.05434799194336, 25.805908203125, 26.059730529785156], [24.794437408447266, 24.506332397460938, 23.92806053161621, 25.7650089263916, 26.58453941345215, 26.606916427612305, 26.146936416625977, 26.285707473754883, 27.073537826538086, 27.007678985595703], [25.245853424072266, 25.470548629760742, 24.42229652404785, 26.08597755432129, 27.032289505004883, 27.306346893310547, 27.02350425720215, 26.64361000061035, 27.192649841308594, 26.641340255737305], [24.639982223510742, 24.604780197143555, 26.08597755432129, 26.0685977935791, 26.536914825439453, 27.250732421875, 27.274736404418945, 27.140705108642578, 27.38637924194336, 26.800134658813477], [23.076908111572266, 24.824506759643555, 25.523115158081055, 26.149436950683594, 26.568662643432617, 26.578584671020508, 26.328693389892578, 26.856483459472656, 27.146995544433594, 27.112241744995117], [23.934551239013672, 25.052003860473633, 25.388347625732422, 26.197946548461914, 26.776212692260742, 26.081317901611328, 26.062253952026367, 26.462276458740234, 26.968591690063477, 27.070552825927734], [24.856477737426758, 24.912996292114258, 24.676979064941406, 26.584861755371094, 26.634401321411133, 26.087757110595703, 26.07500648498535, 26.468538284301758, 26.708436965942383, 27.04576873779297], [24.123188018798828, 24.668094635009766, 25.08295249938965, 26.71172332763672, 26.658626556396484, 26.054553985595703, 25.968950271606445, 26.31079864501953, 26.527366638183594, 26.547182083129883]], \"zauto\": false, \"zmax\": 28, \"zmin\": 20, \"type\": \"heatmap\", \"uid\": \"a4603004-fc17-4280-b11c-6025c3729a2b\", \"xaxis\": \"x2\", \"yaxis\": \"y2\"}, {\"z\": [[25.297910690307617, 24.485370635986328, 24.630964279174805, 24.62255859375, 26.30674171447754, 26.66478729248047, 25.97292709350586, 25.91478157043457, 25.313493728637695, 25.181604385375977], [24.621896743774414, 23.574321746826172, 25.631977081298828, 24.70244026184082, 25.4201717376709, 26.33486557006836, 26.375534057617188, 25.537700653076172, 24.805809020996094, 24.380390167236328], [24.732807159423828, 22.555124282836914, 23.481800079345703, 25.910337448120117, 26.119709014892578, 26.753889083862305, 26.54734230041504, 25.621353149414062, 24.958351135253906, 25.20682716369629], [24.146997451782227, 23.870933532714844, 23.247936248779297, 25.028827667236328, 26.283971786499023, 26.75785255432129, 26.263010025024414, 26.31574249267578, 25.954357147216797, 25.893278121948242], [24.371889114379883, 24.62490463256836, 23.750343322753906, 25.36093521118164, 26.465801239013672, 26.786680221557617, 26.507400512695312, 26.273212432861328, 25.890602111816406, 25.32342529296875], [23.783594131469727, 23.744050979614258, 25.36093521118164, 25.343238830566406, 25.9122314453125, 26.725818634033203, 26.75225257873535, 26.8267822265625, 26.084306716918945, 25.478023529052734], [22.08087921142578, 23.813066482543945, 24.732332229614258, 25.35736083984375, 26.25822639465332, 25.94251251220703, 25.695533752441406, 26.06207275390625, 25.500839233398438, 25.464784622192383], [22.872539520263672, 23.997215270996094, 24.498218536376953, 25.32314682006836, 26.090314865112305, 25.152868270874023, 25.13247299194336, 25.051891326904297, 25.083984375, 25.201072692871094], [23.779966354370117, 23.840547561645508, 23.69404411315918, 25.723018646240234, 25.9706974029541, 25.159076690673828, 25.146240234375, 25.058963775634766, 24.78685760498047, 25.170181274414062], [22.99332618713379, 23.528087615966797, 24.227163314819336, 25.969985961914062, 25.94820213317871, 25.496522903442383, 25.408876419067383, 25.018939971923828, 24.75677490234375, 24.77669334411621]], \"zauto\": false, \"zmax\": 28, \"zmin\": 20, \"type\": \"heatmap\", \"uid\": \"998caf0e-0574-422c-8079-7fdcae26dfc8\", \"xaxis\": \"x3\", \"yaxis\": \"y3\"}], {\"annotations\": [{\"font\": {\"size\": 16}, \"showarrow\": false, \"text\": \"horizon 2030\", \"x\": 0.14444444444444446, \"xanchor\": \"center\", \"xref\": \"paper\", \"y\": 1.0, \"yanchor\": \"bottom\", \"yref\": \"paper\"}, {\"font\": {\"size\": 16}, \"showarrow\": false, \"text\": \"horizon 2060\", \"x\": 0.5, \"xanchor\": \"center\", \"xref\": \"paper\", \"y\": 1.0, \"yanchor\": \"bottom\", \"yref\": \"paper\"}, {\"font\": {\"size\": 16}, \"showarrow\": false, \"text\": \"horizon 2090\", \"x\": 0.8555555555555556, \"xanchor\": \"center\", \"xref\": \"paper\", \"y\": 1.0, \"yanchor\": \"bottom\", \"yref\": \"paper\"}], \"xaxis\": {\"anchor\": \"y\", \"domain\": [0.0, 0.2888888888888889], \"title\": {\"text\": \"Aladin grid J\"}}, \"yaxis\": {\"anchor\": \"x\", \"domain\": [0.0, 1.0], \"title\": {\"text\": \"Aladin grid I\"}}, \"xaxis2\": {\"anchor\": \"y2\", \"domain\": [0.35555555555555557, 0.6444444444444445], \"title\": {\"text\": \"Aladin grid J\"}}, \"yaxis2\": {\"anchor\": \"x2\", \"domain\": [0.0, 1.0]}, \"xaxis3\": {\"anchor\": \"y3\", \"domain\": [0.7111111111111111, 1.0], \"title\": {\"text\": \"Aladin grid J\"}}, \"yaxis3\": {\"anchor\": \"x3\", \"domain\": [0.0, 1.0]}, \"title\": {\"text\": \"Temp\\u00e9rature moyenne maximale du mois de juillet\"}, \"autosize\": false, \"width\": 800, \"height\": 380}, {\"showLink\": false, \"linkText\": \"Export to plot.ly\", \"plotlyServerURL\": \"https://plot.ly\"})});</script>"
      ]
     },
     "metadata": {},
     "output_type": "display_data"
    }
   ],
   "source": [
    "trace0 = go.Heatmap(z=lyon_tmax26[0,6,:,:].tolist(), zauto=False, zmin=20,zmax=28)\n",
    "trace1 = go.Heatmap(z=lyon_tmax26[49,6,:,:].tolist(), zauto=False, zmin=20,zmax=28)\n",
    "trace2 = go.Heatmap(z=lyon_tmax26[89,6,:,:].tolist(), zauto=False, zmin=20,zmax=28)\n",
    "\n",
    "fig = tools.make_subplots(rows=1, cols=3, subplot_titles=('horizon 2030','horizon 2060','horizon 2090'))\n",
    "\n",
    "fig.append_trace(trace0, 1, 1)\n",
    "fig.append_trace(trace1, 1, 2)\n",
    "fig.append_trace(trace2, 1, 3)\n",
    "\n",
    "fig['layout']['xaxis1'].update(title='Aladin grid J')\n",
    "fig['layout']['xaxis2'].update(title='Aladin grid J')\n",
    "fig['layout']['xaxis3'].update(title='Aladin grid J')\n",
    "fig['layout']['yaxis1'].update(title='Aladin grid I')\n",
    "fig['layout'].update(title='Température moyenne maximale du mois de juillet', \n",
    "                     autosize=False, width=800, height=380)  \n",
    "\n",
    "py.iplot(fig, filename='basic-heatmap')"
   ]
  },
  {
   "cell_type": "markdown",
   "metadata": {},
   "source": [
    "#### Calcul de la température moyenne maximale  des mois de l'année 2040\n",
    "On réutilise les paramètres de la tranche de 12 mois (slice) définis plus haut ainsi que les données moyénnées déjà calculées. (Décommenter la dernière ligne du bloc pour afficher la figure)"
   ]
  },
  {
   "cell_type": "code",
   "execution_count": 11,
   "metadata": {},
   "outputs": [
    {
     "data": {
      "application/vnd.plotly.v1+json": {
       "config": {
        "linkText": "Export to plot.ly",
        "plotlyServerURL": "https://plot.ly",
        "showLink": false
       },
       "data": [
        {
         "name": "Avril 2040",
         "type": "scatter",
         "uid": "c32637a2-2909-45bf-9e99-b28f0335a5c6",
         "x": [
          "Jan",
          "Feb",
          "Mar",
          "Apr",
          "May",
          "Jun",
          "Jul",
          "Aug",
          "Sep",
          "Oct",
          "Nov",
          "Dec"
         ],
         "y": [
          5.590504169464111,
          8.2451753616333,
          11.738402366638184,
          15.801819801330566,
          19.968791961669922,
          22.706871032714844,
          25.721036911010742,
          27.427255630493164,
          23.193586349487305,
          16.991472244262695,
          10.844209671020508,
          7.269853591918945
         ]
        }
       ],
       "layout": {
        "autosize": true,
        "title": {
         "text": "Température moyenne maximale des mois de l'année horizon 2040"
        },
        "xaxis": {
         "autorange": true,
         "range": [
          -0.6751957494407158,
          11.675195749440716
         ],
         "showline": true,
         "showticklabels": true,
         "ticklen": 5,
         "title": {
          "text": "Mois"
         },
         "type": "category"
        },
        "yaxis": {
         "autorange": true,
         "range": [
          3.990996896840964,
          29.02676290311631
         ],
         "showline": true,
         "showticklabels": true,
         "title": {
          "text": "Temperature (degrees Celsius)"
         },
         "type": "linear"
        }
       }
      },
      "image/png": "[encoded data removed]",
      "text/html": [
       "<div id=\"b6fab7f2-51bf-4bdd-be08-f9479239d101\" style=\"height: 525px; width: 100%;\" class=\"plotly-graph-div\"></div><script type=\"text/javascript\">require([\"plotly\"], function(Plotly) { window.PLOTLYENV=window.PLOTLYENV || {};window.PLOTLYENV.BASE_URL=\"https://plot.ly\";Plotly.newPlot(\"b6fab7f2-51bf-4bdd-be08-f9479239d101\", [{\"name\": \"Avril 2040\", \"x\": [\"Jan\", \"Feb\", \"Mar\", \"Apr\", \"May\", \"Jun\", \"Jul\", \"Aug\", \"Sep\", \"Oct\", \"Nov\", \"Dec\"], \"y\": [5.590504169464111, 8.2451753616333, 11.738402366638184, 15.801819801330566, 19.968791961669922, 22.706871032714844, 25.721036911010742, 27.427255630493164, 23.193586349487305, 16.991472244262695, 10.844209671020508, 7.269853591918945], \"type\": \"scatter\", \"uid\": \"3c08d8a7-7a2b-46f7-ae93-750ece24e670\"}], {\"title\": {\"text\": \"Temp\\u00e9rature moyenne maximale des mois de l'ann\\u00e9e horizon 2040\"}, \"xaxis\": {\"showline\": true, \"showticklabels\": true, \"ticklen\": 5, \"title\": {\"text\": \"Mois\"}}, \"yaxis\": {\"showline\": true, \"showticklabels\": true, \"title\": {\"text\": \"Temperature (degrees Celsius)\"}}}, {\"showLink\": false, \"linkText\": \"Export to plot.ly\", \"plotlyServerURL\": \"https://plot.ly\"})});</script><script type=\"text/javascript\">window.addEventListener(\"resize\", function(){window._Plotly.Plots.resize(document.getElementById(\"b6fab7f2-51bf-4bdd-be08-f9479239d101\"));});</script>"
      ],
      "text/vnd.plotly.v1+html": [
       "<div id=\"b6fab7f2-51bf-4bdd-be08-f9479239d101\" style=\"height: 525px; width: 100%;\" class=\"plotly-graph-div\"></div><script type=\"text/javascript\">require([\"plotly\"], function(Plotly) { window.PLOTLYENV=window.PLOTLYENV || {};window.PLOTLYENV.BASE_URL=\"https://plot.ly\";Plotly.newPlot(\"b6fab7f2-51bf-4bdd-be08-f9479239d101\", [{\"name\": \"Avril 2040\", \"x\": [\"Jan\", \"Feb\", \"Mar\", \"Apr\", \"May\", \"Jun\", \"Jul\", \"Aug\", \"Sep\", \"Oct\", \"Nov\", \"Dec\"], \"y\": [5.590504169464111, 8.2451753616333, 11.738402366638184, 15.801819801330566, 19.968791961669922, 22.706871032714844, 25.721036911010742, 27.427255630493164, 23.193586349487305, 16.991472244262695, 10.844209671020508, 7.269853591918945], \"type\": \"scatter\", \"uid\": \"3c08d8a7-7a2b-46f7-ae93-750ece24e670\"}], {\"title\": {\"text\": \"Temp\\u00e9rature moyenne maximale des mois de l'ann\\u00e9e horizon 2040\"}, \"xaxis\": {\"showline\": true, \"showticklabels\": true, \"ticklen\": 5, \"title\": {\"text\": \"Mois\"}}, \"yaxis\": {\"showline\": true, \"showticklabels\": true, \"title\": {\"text\": \"Temperature (degrees Celsius)\"}}}, {\"showLink\": false, \"linkText\": \"Export to plot.ly\", \"plotlyServerURL\": \"https://plot.ly\"})});</script><script type=\"text/javascript\">window.addEventListener(\"resize\", function(){window._Plotly.Plots.resize(document.getElementById(\"b6fab7f2-51bf-4bdd-be08-f9479239d101\"));});</script>"
      ]
     },
     "metadata": {},
     "output_type": "display_data"
    }
   ],
   "source": [
    "trace0 = go.Scatter(\n",
    "    x = lyon_month[0:slice],\n",
    "    y = moyAreaInterval[0:slice],\n",
    "    name ='Avril 2040'\n",
    ")\n",
    "\n",
    "data = [trace0]\n",
    "\n",
    "layout = dict (\n",
    "           title = \"Température moyenne maximale des mois de l'année horizon 2040\",\n",
    "           xaxis = dict(\n",
    "                 title = 'Mois',\n",
    "                 showline=True,\n",
    "                 showticklabels=True,\n",
    "                 ticklen=5\n",
    "             ),\n",
    "             yaxis = dict(\n",
    "                 title = 'Temperature (degrees Celsius)',\n",
    "                 showline=True,\n",
    "                 showticklabels=True\n",
    "             ),         \n",
    ")\n",
    "\n",
    "\n",
    "fig = dict(data=data, layout=layout)\n",
    "\n",
    "py.iplot(fig, filename='basic-line')"
   ]
  },
  {
   "cell_type": "markdown",
   "metadata": {},
   "source": [
    "#### n X n valeurs pour n² noeuds  pour 12 mois et année\n",
    "Calcul de la moyenne de températures annuelle et de tous les mois sur `yearInterval` années à partir de l'année `yearBegin` sur chaque noeud allant de `(startj,starti)` de taille `(intervalj,intervali)`.  Les douze moyennes mensuelles sont suivies de la moyenne annuelle. (Décommenter la dernière ligne du bloc pour afficher la figure)"
   ]
  },
  {
   "cell_type": "code",
   "execution_count": 12,
   "metadata": {},
   "outputs": [],
   "source": [
    "moyAreaInterval = np.zeros((lenmonths,intervalj,intervali))\n",
    "moyAreaInterval[:] = np.mean(lyon_tmax26[startYear:endYear,:,startj:endj,starti:endi],axis=(0)) \n",
    "#print(moyAreaInterval.shape)\n",
    "#print(moyAreaInterval[:,0,0])\n",
    "nbnoeuds = intervalj *intervali\n",
    "data = [] * nbnoeuds\n",
    "trace = [] * nbnoeuds"
   ]
  },
  {
   "cell_type": "code",
   "execution_count": 14,
   "metadata": {},
   "outputs": [
    {
     "data": {
      "application/vnd.plotly.v1+json": {
       "config": {
        "linkText": "Export to plot.ly",
        "plotlyServerURL": "https://plot.ly",
        "showLink": false
       },
       "data": [
        {
         "name": "Année 2040 noeud : (0,0)",
         "type": "scatter",
         "uid": "e90e1096-93bc-4e07-a2b6-ac64fb6b9e91",
         "x": [
          "Jan",
          "Feb",
          "Mar",
          "Apr",
          "May",
          "Jun",
          "Jul",
          "Aug",
          "Sep",
          "Oct",
          "Nov",
          "Dec"
         ],
         "y": [
          5.645138263702393,
          8.26650333404541,
          11.869288444519043,
          15.988260269165039,
          20.299287796020508,
          22.84364891052246,
          25.874338150024414,
          27.453187942504883,
          23.36904525756836,
          17.15568733215332,
          11.054088592529297,
          7.2915425300598145,
          16.497032165527344
         ]
        },
        {
         "name": "Année 2040 noeud : (0,1)",
         "type": "scatter",
         "uid": "3047fced-0e27-416f-acb6-7775274766c7",
         "x": [
          "Jan",
          "Feb",
          "Mar",
          "Apr",
          "May",
          "Jun",
          "Jul",
          "Aug",
          "Sep",
          "Oct",
          "Nov",
          "Dec"
         ],
         "y": [
          5.66162109375,
          8.131011009216309,
          11.855423927307129,
          15.99721622467041,
          20.306867599487305,
          22.761037826538086,
          25.848621368408203,
          27.487220764160156,
          23.331445693969727,
          17.113475799560547,
          11.033597946166992,
          7.300424575805664,
          16.474470138549805
         ]
        },
        {
         "name": "Année 2040 noeud : (0,2)",
         "type": "scatter",
         "uid": "dd78eeb3-2f75-4115-a7d2-755bbc670dbe",
         "x": [
          "Jan",
          "Feb",
          "Mar",
          "Apr",
          "May",
          "Jun",
          "Jul",
          "Aug",
          "Sep",
          "Oct",
          "Nov",
          "Dec"
         ],
         "y": [
          5.05565071105957,
          7.510837078094482,
          11.195267677307129,
          15.347942352294922,
          19.58872413635254,
          22.13738441467285,
          25.13701629638672,
          26.959875106811523,
          22.76472282409668,
          16.59311866760254,
          10.4484281539917,
          6.8305864334106445,
          15.869343757629395
         ]
        },
        {
         "name": "Année 2040 noeud : (0,3)",
         "type": "scatter",
         "uid": "542bacf9-0261-46c8-9a4b-6c063d52df19",
         "x": [
          "Jan",
          "Feb",
          "Mar",
          "Apr",
          "May",
          "Jun",
          "Jul",
          "Aug",
          "Sep",
          "Oct",
          "Nov",
          "Dec"
         ],
         "y": [
          4.659209251403809,
          7.1898932456970215,
          10.523552894592285,
          14.679864883422852,
          19.025352478027344,
          21.56235694885254,
          24.552165985107422,
          26.424612045288086,
          22.258874893188477,
          16.093259811401367,
          9.922056198120117,
          6.4283623695373535,
          15.346633911132812
         ]
        },
        {
         "name": "Année 2040 noeud : (1,0)",
         "type": "scatter",
         "uid": "c6315f22-84b5-475c-bf69-a443dcc358de",
         "x": [
          "Jan",
          "Feb",
          "Mar",
          "Apr",
          "May",
          "Jun",
          "Jul",
          "Aug",
          "Sep",
          "Oct",
          "Nov",
          "Dec"
         ],
         "y": [
          5.788875102996826,
          8.56564998626709,
          11.831976890563965,
          15.85779094696045,
          20.190982818603516,
          22.768775939941406,
          25.885337829589844,
          27.572874069213867,
          23.369171142578125,
          16.97860336303711,
          10.886510848999023,
          7.513116836547852,
          16.50373649597168
         ]
        },
        {
         "name": "Année 2040 noeud : (1,1)",
         "type": "scatter",
         "uid": "cd949eb1-64d5-4273-9ae8-53f82ea6fb37",
         "x": [
          "Jan",
          "Feb",
          "Mar",
          "Apr",
          "May",
          "Jun",
          "Jul",
          "Aug",
          "Sep",
          "Oct",
          "Nov",
          "Dec"
         ],
         "y": [
          5.268800258636475,
          8.036694526672363,
          11.347289085388184,
          15.433682441711426,
          19.80327796936035,
          22.25872039794922,
          25.382915496826172,
          27.07501220703125,
          22.916799545288086,
          16.502336502075195,
          10.387027740478516,
          7.003425598144531,
          16.021310806274414
         ]
        },
        {
         "name": "Année 2040 noeud : (1,2)",
         "type": "scatter",
         "uid": "4e7ddc44-996f-44c8-a408-4b68be6b5e3a",
         "x": [
          "Jan",
          "Feb",
          "Mar",
          "Apr",
          "May",
          "Jun",
          "Jul",
          "Aug",
          "Sep",
          "Oct",
          "Nov",
          "Dec"
         ],
         "y": [
          5.3353271484375,
          7.83380651473999,
          11.523614883422852,
          15.666097640991211,
          19.919681549072266,
          22.3906192779541,
          25.518156051635742,
          27.261802673339844,
          23.003087997436523,
          16.811710357666016,
          10.701139450073242,
          7.048338890075684,
          16.156471252441406
         ]
        },
        {
         "name": "Année 2040 noeud : (1,3)",
         "type": "scatter",
         "uid": "0008b409-fc94-4884-8471-01c023f3720b",
         "x": [
          "Jan",
          "Feb",
          "Mar",
          "Apr",
          "May",
          "Jun",
          "Jul",
          "Aug",
          "Sep",
          "Oct",
          "Nov",
          "Dec"
         ],
         "y": [
          5.659006595611572,
          8.257131576538086,
          11.863210678100586,
          15.91879653930664,
          20.119464874267578,
          22.84169578552246,
          25.719188690185547,
          27.498249053955078,
          23.18210220336914,
          17.16255760192871,
          11.03864860534668,
          7.373154163360596,
          16.45663833618164
         ]
        },
        {
         "name": "Année 2040 noeud : (2,0)",
         "type": "scatter",
         "uid": "4eb74891-1c68-422e-a1ea-83fddb34ce49",
         "x": [
          "Jan",
          "Feb",
          "Mar",
          "Apr",
          "May",
          "Jun",
          "Jul",
          "Aug",
          "Sep",
          "Oct",
          "Nov",
          "Dec"
         ],
         "y": [
          5.957037448883057,
          8.749064445495605,
          12.121808052062988,
          16.09549903869629,
          20.021020889282227,
          23.129182815551758,
          26.158708572387695,
          27.775876998901367,
          23.52773094177246,
          17.24273681640625,
          11.038740158081055,
          7.603914260864258,
          16.687580108642578
         ]
        },
        {
         "name": "Année 2040 noeud : (2,1)",
         "type": "scatter",
         "uid": "807bf5f3-2235-4dc0-9b05-8746b159d1c1",
         "x": [
          "Jan",
          "Feb",
          "Mar",
          "Apr",
          "May",
          "Jun",
          "Jul",
          "Aug",
          "Sep",
          "Oct",
          "Nov",
          "Dec"
         ],
         "y": [
          5.675458908081055,
          8.488662719726562,
          11.792019844055176,
          15.791645050048828,
          19.74843978881836,
          22.799734115600586,
          25.855932235717773,
          27.495304107666016,
          23.255151748657227,
          16.94324493408203,
          10.722922325134277,
          7.338151454925537,
          16.394529342651367
         ]
        },
        {
         "name": "Année 2040 noeud : (2,2)",
         "type": "scatter",
         "uid": "2ac40ac2-8439-4578-893b-9c294d9ca301",
         "x": [
          "Jan",
          "Feb",
          "Mar",
          "Apr",
          "May",
          "Jun",
          "Jul",
          "Aug",
          "Sep",
          "Oct",
          "Nov",
          "Dec"
         ],
         "y": [
          5.412009239196777,
          8.097554206848145,
          11.506876945495605,
          15.581233024597168,
          19.74155616760254,
          22.351961135864258,
          25.469013214111328,
          27.289857864379883,
          22.942554473876953,
          16.64963722229004,
          10.515658378601074,
          7.1262898445129395,
          16.127363204956055
         ]
        },
        {
         "name": "Année 2040 noeud : (2,3)",
         "type": "scatter",
         "uid": "033404bd-c603-4f61-a2ee-82d0e63379d8",
         "x": [
          "Jan",
          "Feb",
          "Mar",
          "Apr",
          "May",
          "Jun",
          "Jul",
          "Aug",
          "Sep",
          "Oct",
          "Nov",
          "Dec"
         ],
         "y": [
          5.693795204162598,
          8.378768920898438,
          11.946781158447266,
          15.97752857208252,
          20.13136100769043,
          23.027244567871094,
          25.827259063720703,
          27.569856643676758,
          23.27318000793457,
          17.30453872680664,
          11.121501922607422,
          7.312191963195801,
          16.534130096435547
         ]
        },
        {
         "name": "Année 2040 noeud : (3,0)",
         "type": "scatter",
         "uid": "b490463f-9f80-416d-a6d4-14c468ab082b",
         "x": [
          "Jan",
          "Feb",
          "Mar",
          "Apr",
          "May",
          "Jun",
          "Jul",
          "Aug",
          "Sep",
          "Oct",
          "Nov",
          "Dec"
         ],
         "y": [
          5.899718284606934,
          8.697442054748535,
          12.054403305053711,
          16.033605575561523,
          19.965930938720703,
          23.061939239501953,
          26.095888137817383,
          27.718046188354492,
          23.473615646362305,
          17.181528091430664,
          10.97719669342041,
          7.550861835479736,
          16.628278732299805
         ]
        },
        {
         "name": "Année 2040 noeud : (3,1)",
         "type": "scatter",
         "uid": "080b1203-208e-4db9-89c8-0ba789d3b2e8",
         "x": [
          "Jan",
          "Feb",
          "Mar",
          "Apr",
          "May",
          "Jun",
          "Jul",
          "Aug",
          "Sep",
          "Oct",
          "Nov",
          "Dec"
         ],
         "y": [
          5.92392635345459,
          8.71922492980957,
          12.082901954650879,
          16.06011199951172,
          19.989370346069336,
          23.091880798339844,
          26.123384475708008,
          27.74370765686035,
          23.49742317199707,
          17.208038330078125,
          11.003438949584961,
          7.5734686851501465,
          16.65386199951172
         ]
        },
        {
         "name": "Année 2040 noeud : (3,2)",
         "type": "scatter",
         "uid": "93f118c7-4225-4db5-a499-ff0e4608097c",
         "x": [
          "Jan",
          "Feb",
          "Mar",
          "Apr",
          "May",
          "Jun",
          "Jul",
          "Aug",
          "Sep",
          "Oct",
          "Nov",
          "Dec"
         ],
         "y": [
          5.9051337242126465,
          8.429895401000977,
          12.141887664794922,
          16.23002815246582,
          20.33981704711914,
          23.044761657714844,
          26.062114715576172,
          27.756763458251953,
          23.483226776123047,
          17.41525650024414,
          11.30825138092041,
          7.515833377838135,
          16.70752716064453
         ]
        },
        {
         "name": "Année 2040 noeud : (3,3)",
         "type": "scatter",
         "uid": "d6f27443-b929-45d6-a70b-78509f812e3c",
         "x": [
          "Jan",
          "Feb",
          "Mar",
          "Apr",
          "May",
          "Jun",
          "Jul",
          "Aug",
          "Sep",
          "Oct",
          "Nov",
          "Dec"
         ],
         "y": [
          5.907360553741455,
          8.570645332336426,
          12.158121109008789,
          16.169790267944336,
          20.309581756591797,
          23.23898696899414,
          26.026531219482422,
          27.753820419311523,
          23.44927215576172,
          17.507795333862305,
          11.348134994506836,
          7.508002758026123,
          16.732742309570312
         ]
        },
        {
         "name": "Année 2040 noeud : (0,0)",
         "type": "scatter",
         "uid": "2ba91044-2fc5-4b10-920e-0f1c46e0bea2",
         "x": [
          "Jan",
          "Feb",
          "Mar",
          "Apr",
          "May",
          "Jun",
          "Jul",
          "Aug",
          "Sep",
          "Oct",
          "Nov",
          "Dec"
         ],
         "y": [
          5.645138263702393,
          8.26650333404541,
          11.869288444519043,
          15.988260269165039,
          20.299287796020508,
          22.84364891052246,
          25.874338150024414,
          27.453187942504883,
          23.36904525756836,
          17.15568733215332,
          11.054088592529297,
          7.2915425300598145,
          16.497032165527344
         ]
        },
        {
         "name": "Année 2040 noeud : (0,1)",
         "type": "scatter",
         "uid": "117db521-6626-45e5-b06d-5840a4642601",
         "x": [
          "Jan",
          "Feb",
          "Mar",
          "Apr",
          "May",
          "Jun",
          "Jul",
          "Aug",
          "Sep",
          "Oct",
          "Nov",
          "Dec"
         ],
         "y": [
          5.66162109375,
          8.131011009216309,
          11.855423927307129,
          15.99721622467041,
          20.306867599487305,
          22.761037826538086,
          25.848621368408203,
          27.487220764160156,
          23.331445693969727,
          17.113475799560547,
          11.033597946166992,
          7.300424575805664,
          16.474470138549805
         ]
        },
        {
         "name": "Année 2040 noeud : (0,2)",
         "type": "scatter",
         "uid": "b3178c0b-c63b-4e8a-b842-e30c9eeaad1b",
         "x": [
          "Jan",
          "Feb",
          "Mar",
          "Apr",
          "May",
          "Jun",
          "Jul",
          "Aug",
          "Sep",
          "Oct",
          "Nov",
          "Dec"
         ],
         "y": [
          5.05565071105957,
          7.510837078094482,
          11.195267677307129,
          15.347942352294922,
          19.58872413635254,
          22.13738441467285,
          25.13701629638672,
          26.959875106811523,
          22.76472282409668,
          16.59311866760254,
          10.4484281539917,
          6.8305864334106445,
          15.869343757629395
         ]
        },
        {
         "name": "Année 2040 noeud : (0,3)",
         "type": "scatter",
         "uid": "6236c1cb-092b-456a-8e6c-e1f7f9b52b36",
         "x": [
          "Jan",
          "Feb",
          "Mar",
          "Apr",
          "May",
          "Jun",
          "Jul",
          "Aug",
          "Sep",
          "Oct",
          "Nov",
          "Dec"
         ],
         "y": [
          4.659209251403809,
          7.1898932456970215,
          10.523552894592285,
          14.679864883422852,
          19.025352478027344,
          21.56235694885254,
          24.552165985107422,
          26.424612045288086,
          22.258874893188477,
          16.093259811401367,
          9.922056198120117,
          6.4283623695373535,
          15.346633911132812
         ]
        },
        {
         "name": "Année 2040 noeud : (1,0)",
         "type": "scatter",
         "uid": "1de6c13f-2191-407b-b8ff-76de41440f9e",
         "x": [
          "Jan",
          "Feb",
          "Mar",
          "Apr",
          "May",
          "Jun",
          "Jul",
          "Aug",
          "Sep",
          "Oct",
          "Nov",
          "Dec"
         ],
         "y": [
          5.788875102996826,
          8.56564998626709,
          11.831976890563965,
          15.85779094696045,
          20.190982818603516,
          22.768775939941406,
          25.885337829589844,
          27.572874069213867,
          23.369171142578125,
          16.97860336303711,
          10.886510848999023,
          7.513116836547852,
          16.50373649597168
         ]
        },
        {
         "name": "Année 2040 noeud : (1,1)",
         "type": "scatter",
         "uid": "2a171b64-260d-4733-b627-36f33720385b",
         "x": [
          "Jan",
          "Feb",
          "Mar",
          "Apr",
          "May",
          "Jun",
          "Jul",
          "Aug",
          "Sep",
          "Oct",
          "Nov",
          "Dec"
         ],
         "y": [
          5.268800258636475,
          8.036694526672363,
          11.347289085388184,
          15.433682441711426,
          19.80327796936035,
          22.25872039794922,
          25.382915496826172,
          27.07501220703125,
          22.916799545288086,
          16.502336502075195,
          10.387027740478516,
          7.003425598144531,
          16.021310806274414
         ]
        },
        {
         "name": "Année 2040 noeud : (1,2)",
         "type": "scatter",
         "uid": "0552f9a8-b946-4f61-ab07-15be85863bfd",
         "x": [
          "Jan",
          "Feb",
          "Mar",
          "Apr",
          "May",
          "Jun",
          "Jul",
          "Aug",
          "Sep",
          "Oct",
          "Nov",
          "Dec"
         ],
         "y": [
          5.3353271484375,
          7.83380651473999,
          11.523614883422852,
          15.666097640991211,
          19.919681549072266,
          22.3906192779541,
          25.518156051635742,
          27.261802673339844,
          23.003087997436523,
          16.811710357666016,
          10.701139450073242,
          7.048338890075684,
          16.156471252441406
         ]
        },
        {
         "name": "Année 2040 noeud : (1,3)",
         "type": "scatter",
         "uid": "948d8ced-ba05-4bd5-a770-9cf49e5eb024",
         "x": [
          "Jan",
          "Feb",
          "Mar",
          "Apr",
          "May",
          "Jun",
          "Jul",
          "Aug",
          "Sep",
          "Oct",
          "Nov",
          "Dec"
         ],
         "y": [
          5.659006595611572,
          8.257131576538086,
          11.863210678100586,
          15.91879653930664,
          20.119464874267578,
          22.84169578552246,
          25.719188690185547,
          27.498249053955078,
          23.18210220336914,
          17.16255760192871,
          11.03864860534668,
          7.373154163360596,
          16.45663833618164
         ]
        },
        {
         "name": "Année 2040 noeud : (2,0)",
         "type": "scatter",
         "uid": "e41588e7-9083-44aa-bf12-7f42ac905d38",
         "x": [
          "Jan",
          "Feb",
          "Mar",
          "Apr",
          "May",
          "Jun",
          "Jul",
          "Aug",
          "Sep",
          "Oct",
          "Nov",
          "Dec"
         ],
         "y": [
          5.957037448883057,
          8.749064445495605,
          12.121808052062988,
          16.09549903869629,
          20.021020889282227,
          23.129182815551758,
          26.158708572387695,
          27.775876998901367,
          23.52773094177246,
          17.24273681640625,
          11.038740158081055,
          7.603914260864258,
          16.687580108642578
         ]
        },
        {
         "name": "Année 2040 noeud : (2,1)",
         "type": "scatter",
         "uid": "bd23f145-d835-4b3f-9efa-f3ba8ff7abb3",
         "x": [
          "Jan",
          "Feb",
          "Mar",
          "Apr",
          "May",
          "Jun",
          "Jul",
          "Aug",
          "Sep",
          "Oct",
          "Nov",
          "Dec"
         ],
         "y": [
          5.675458908081055,
          8.488662719726562,
          11.792019844055176,
          15.791645050048828,
          19.74843978881836,
          22.799734115600586,
          25.855932235717773,
          27.495304107666016,
          23.255151748657227,
          16.94324493408203,
          10.722922325134277,
          7.338151454925537,
          16.394529342651367
         ]
        },
        {
         "name": "Année 2040 noeud : (2,2)",
         "type": "scatter",
         "uid": "89b934fb-c0f1-4eb5-87d5-72056dee2634",
         "x": [
          "Jan",
          "Feb",
          "Mar",
          "Apr",
          "May",
          "Jun",
          "Jul",
          "Aug",
          "Sep",
          "Oct",
          "Nov",
          "Dec"
         ],
         "y": [
          5.412009239196777,
          8.097554206848145,
          11.506876945495605,
          15.581233024597168,
          19.74155616760254,
          22.351961135864258,
          25.469013214111328,
          27.289857864379883,
          22.942554473876953,
          16.64963722229004,
          10.515658378601074,
          7.1262898445129395,
          16.127363204956055
         ]
        },
        {
         "name": "Année 2040 noeud : (2,3)",
         "type": "scatter",
         "uid": "114dba42-4f27-4652-9e55-bff02d206cf5",
         "x": [
          "Jan",
          "Feb",
          "Mar",
          "Apr",
          "May",
          "Jun",
          "Jul",
          "Aug",
          "Sep",
          "Oct",
          "Nov",
          "Dec"
         ],
         "y": [
          5.693795204162598,
          8.378768920898438,
          11.946781158447266,
          15.97752857208252,
          20.13136100769043,
          23.027244567871094,
          25.827259063720703,
          27.569856643676758,
          23.27318000793457,
          17.30453872680664,
          11.121501922607422,
          7.312191963195801,
          16.534130096435547
         ]
        },
        {
         "name": "Année 2040 noeud : (3,0)",
         "type": "scatter",
         "uid": "4046c5cd-ff44-4c4c-b3fe-d51f0062135d",
         "x": [
          "Jan",
          "Feb",
          "Mar",
          "Apr",
          "May",
          "Jun",
          "Jul",
          "Aug",
          "Sep",
          "Oct",
          "Nov",
          "Dec"
         ],
         "y": [
          5.899718284606934,
          8.697442054748535,
          12.054403305053711,
          16.033605575561523,
          19.965930938720703,
          23.061939239501953,
          26.095888137817383,
          27.718046188354492,
          23.473615646362305,
          17.181528091430664,
          10.97719669342041,
          7.550861835479736,
          16.628278732299805
         ]
        },
        {
         "name": "Année 2040 noeud : (3,1)",
         "type": "scatter",
         "uid": "be076a97-0740-4301-babd-48f6eab34eb0",
         "x": [
          "Jan",
          "Feb",
          "Mar",
          "Apr",
          "May",
          "Jun",
          "Jul",
          "Aug",
          "Sep",
          "Oct",
          "Nov",
          "Dec"
         ],
         "y": [
          5.92392635345459,
          8.71922492980957,
          12.082901954650879,
          16.06011199951172,
          19.989370346069336,
          23.091880798339844,
          26.123384475708008,
          27.74370765686035,
          23.49742317199707,
          17.208038330078125,
          11.003438949584961,
          7.5734686851501465,
          16.65386199951172
         ]
        },
        {
         "name": "Année 2040 noeud : (3,2)",
         "type": "scatter",
         "uid": "a1b01c35-a925-469f-984a-90a8c7d204ba",
         "x": [
          "Jan",
          "Feb",
          "Mar",
          "Apr",
          "May",
          "Jun",
          "Jul",
          "Aug",
          "Sep",
          "Oct",
          "Nov",
          "Dec"
         ],
         "y": [
          5.9051337242126465,
          8.429895401000977,
          12.141887664794922,
          16.23002815246582,
          20.33981704711914,
          23.044761657714844,
          26.062114715576172,
          27.756763458251953,
          23.483226776123047,
          17.41525650024414,
          11.30825138092041,
          7.515833377838135,
          16.70752716064453
         ]
        },
        {
         "name": "Année 2040 noeud : (3,3)",
         "type": "scatter",
         "uid": "4208e283-29f8-40fd-a2a1-0c1234446889",
         "x": [
          "Jan",
          "Feb",
          "Mar",
          "Apr",
          "May",
          "Jun",
          "Jul",
          "Aug",
          "Sep",
          "Oct",
          "Nov",
          "Dec"
         ],
         "y": [
          5.907360553741455,
          8.570645332336426,
          12.158121109008789,
          16.169790267944336,
          20.309581756591797,
          23.23898696899414,
          26.026531219482422,
          27.753820419311523,
          23.44927215576172,
          17.507795333862305,
          11.348134994506836,
          7.508002758026123,
          16.732742309570312
         ]
        }
       ],
       "layout": {
        "autosize": true,
        "title": {
         "text": "Température moyenne maximale des mois de l'année horizon 2040"
        },
        "xaxis": {
         "autorange": true,
         "range": [
          -0.6901068597035505,
          11.690106859703551
         ],
         "showline": true,
         "showticklabels": true,
         "ticklen": 5,
         "title": {
          "text": "Mois"
         },
         "type": "category"
        },
        "yaxis": {
         "autorange": true,
         "range": [
          2.9659501488801023,
          29.469136101425075
         ],
         "showline": true,
         "showticklabels": true,
         "title": {
          "text": "Temperature (degrees Celsius)"
         },
         "type": "linear"
        }
       }
      },
      "image/png": "[encoded data removed]",
      "text/html": [
       "<div id=\"1128d8b2-ddad-4f2c-bf0f-f7a96fbaddfe\" style=\"height: 525px; width: 100%;\" class=\"plotly-graph-div\"></div><script type=\"text/javascript\">require([\"plotly\"], function(Plotly) { window.PLOTLYENV=window.PLOTLYENV || {};window.PLOTLYENV.BASE_URL=\"https://plot.ly\";Plotly.newPlot(\"1128d8b2-ddad-4f2c-bf0f-f7a96fbaddfe\", [{\"name\": \"Ann\\u00e9e 2040 noeud : (0,0)\", \"x\": [\"Jan\", \"Feb\", \"Mar\", \"Apr\", \"May\", \"Jun\", \"Jul\", \"Aug\", \"Sep\", \"Oct\", \"Nov\", \"Dec\"], \"y\": [5.645138263702393, 8.26650333404541, 11.869288444519043, 15.988260269165039, 20.299287796020508, 22.84364891052246, 25.874338150024414, 27.453187942504883, 23.36904525756836, 17.15568733215332, 11.054088592529297, 7.2915425300598145, 16.497032165527344], \"type\": \"scatter\", \"uid\": \"40a4d6cf-7284-4094-9f7f-f805db607f1b\"}, {\"name\": \"Ann\\u00e9e 2040 noeud : (0,1)\", \"x\": [\"Jan\", \"Feb\", \"Mar\", \"Apr\", \"May\", \"Jun\", \"Jul\", \"Aug\", \"Sep\", \"Oct\", \"Nov\", \"Dec\"], \"y\": [5.66162109375, 8.131011009216309, 11.855423927307129, 15.99721622467041, 20.306867599487305, 22.761037826538086, 25.848621368408203, 27.487220764160156, 23.331445693969727, 17.113475799560547, 11.033597946166992, 7.300424575805664, 16.474470138549805], \"type\": \"scatter\", \"uid\": \"1b8ea734-bf3d-49f2-9ddf-3c0508d776c7\"}, {\"name\": \"Ann\\u00e9e 2040 noeud : (0,2)\", \"x\": [\"Jan\", \"Feb\", \"Mar\", \"Apr\", \"May\", \"Jun\", \"Jul\", \"Aug\", \"Sep\", \"Oct\", \"Nov\", \"Dec\"], \"y\": [5.05565071105957, 7.510837078094482, 11.195267677307129, 15.347942352294922, 19.58872413635254, 22.13738441467285, 25.13701629638672, 26.959875106811523, 22.76472282409668, 16.59311866760254, 10.4484281539917, 6.8305864334106445, 15.869343757629395], \"type\": \"scatter\", \"uid\": \"f75cab5c-5d30-41c0-ae77-e6e12603521c\"}, {\"name\": \"Ann\\u00e9e 2040 noeud : (0,3)\", \"x\": [\"Jan\", \"Feb\", \"Mar\", \"Apr\", \"May\", \"Jun\", \"Jul\", \"Aug\", \"Sep\", \"Oct\", \"Nov\", \"Dec\"], \"y\": [4.659209251403809, 7.1898932456970215, 10.523552894592285, 14.679864883422852, 19.025352478027344, 21.56235694885254, 24.552165985107422, 26.424612045288086, 22.258874893188477, 16.093259811401367, 9.922056198120117, 6.4283623695373535, 15.346633911132812], \"type\": \"scatter\", \"uid\": \"33b596e6-4614-46cb-8aae-d07f12cb5c62\"}, {\"name\": \"Ann\\u00e9e 2040 noeud : (1,0)\", \"x\": [\"Jan\", \"Feb\", \"Mar\", \"Apr\", \"May\", \"Jun\", \"Jul\", \"Aug\", \"Sep\", \"Oct\", \"Nov\", \"Dec\"], \"y\": [5.788875102996826, 8.56564998626709, 11.831976890563965, 15.85779094696045, 20.190982818603516, 22.768775939941406, 25.885337829589844, 27.572874069213867, 23.369171142578125, 16.97860336303711, 10.886510848999023, 7.513116836547852, 16.50373649597168], \"type\": \"scatter\", \"uid\": \"ce55b62b-bba1-4737-8303-69c917063491\"}, {\"name\": \"Ann\\u00e9e 2040 noeud : (1,1)\", \"x\": [\"Jan\", \"Feb\", \"Mar\", \"Apr\", \"May\", \"Jun\", \"Jul\", \"Aug\", \"Sep\", \"Oct\", \"Nov\", \"Dec\"], \"y\": [5.268800258636475, 8.036694526672363, 11.347289085388184, 15.433682441711426, 19.80327796936035, 22.25872039794922, 25.382915496826172, 27.07501220703125, 22.916799545288086, 16.502336502075195, 10.387027740478516, 7.003425598144531, 16.021310806274414], \"type\": \"scatter\", \"uid\": \"de2d80e1-8545-4f8e-aaf1-b6b8812716b0\"}, {\"name\": \"Ann\\u00e9e 2040 noeud : (1,2)\", \"x\": [\"Jan\", \"Feb\", \"Mar\", \"Apr\", \"May\", \"Jun\", \"Jul\", \"Aug\", \"Sep\", \"Oct\", \"Nov\", \"Dec\"], \"y\": [5.3353271484375, 7.83380651473999, 11.523614883422852, 15.666097640991211, 19.919681549072266, 22.3906192779541, 25.518156051635742, 27.261802673339844, 23.003087997436523, 16.811710357666016, 10.701139450073242, 7.048338890075684, 16.156471252441406], \"type\": \"scatter\", \"uid\": \"847381c4-c4ef-40fe-9327-42cbbd210941\"}, {\"name\": \"Ann\\u00e9e 2040 noeud : (1,3)\", \"x\": [\"Jan\", \"Feb\", \"Mar\", \"Apr\", \"May\", \"Jun\", \"Jul\", \"Aug\", \"Sep\", \"Oct\", \"Nov\", \"Dec\"], \"y\": [5.659006595611572, 8.257131576538086, 11.863210678100586, 15.91879653930664, 20.119464874267578, 22.84169578552246, 25.719188690185547, 27.498249053955078, 23.18210220336914, 17.16255760192871, 11.03864860534668, 7.373154163360596, 16.45663833618164], \"type\": \"scatter\", \"uid\": \"2f91ea0f-3517-436e-8b17-bb87087cb593\"}, {\"name\": \"Ann\\u00e9e 2040 noeud : (2,0)\", \"x\": [\"Jan\", \"Feb\", \"Mar\", \"Apr\", \"May\", \"Jun\", \"Jul\", \"Aug\", \"Sep\", \"Oct\", \"Nov\", \"Dec\"], \"y\": [5.957037448883057, 8.749064445495605, 12.121808052062988, 16.09549903869629, 20.021020889282227, 23.129182815551758, 26.158708572387695, 27.775876998901367, 23.52773094177246, 17.24273681640625, 11.038740158081055, 7.603914260864258, 16.687580108642578], \"type\": \"scatter\", \"uid\": \"dcc13d9b-563f-4090-8590-6d298bbb955b\"}, {\"name\": \"Ann\\u00e9e 2040 noeud : (2,1)\", \"x\": [\"Jan\", \"Feb\", \"Mar\", \"Apr\", \"May\", \"Jun\", \"Jul\", \"Aug\", \"Sep\", \"Oct\", \"Nov\", \"Dec\"], \"y\": [5.675458908081055, 8.488662719726562, 11.792019844055176, 15.791645050048828, 19.74843978881836, 22.799734115600586, 25.855932235717773, 27.495304107666016, 23.255151748657227, 16.94324493408203, 10.722922325134277, 7.338151454925537, 16.394529342651367], \"type\": \"scatter\", \"uid\": \"9fbe035f-2756-4aef-8cbb-0fd28038a5f4\"}, {\"name\": \"Ann\\u00e9e 2040 noeud : (2,2)\", \"x\": [\"Jan\", \"Feb\", \"Mar\", \"Apr\", \"May\", \"Jun\", \"Jul\", \"Aug\", \"Sep\", \"Oct\", \"Nov\", \"Dec\"], \"y\": [5.412009239196777, 8.097554206848145, 11.506876945495605, 15.581233024597168, 19.74155616760254, 22.351961135864258, 25.469013214111328, 27.289857864379883, 22.942554473876953, 16.64963722229004, 10.515658378601074, 7.1262898445129395, 16.127363204956055], \"type\": \"scatter\", \"uid\": \"eca07c0c-742d-40b9-b479-e194f3b07eb9\"}, {\"name\": \"Ann\\u00e9e 2040 noeud : (2,3)\", \"x\": [\"Jan\", \"Feb\", \"Mar\", \"Apr\", \"May\", \"Jun\", \"Jul\", \"Aug\", \"Sep\", \"Oct\", \"Nov\", \"Dec\"], \"y\": [5.693795204162598, 8.378768920898438, 11.946781158447266, 15.97752857208252, 20.13136100769043, 23.027244567871094, 25.827259063720703, 27.569856643676758, 23.27318000793457, 17.30453872680664, 11.121501922607422, 7.312191963195801, 16.534130096435547], \"type\": \"scatter\", \"uid\": \"01ca7332-4fce-4677-8929-3cae464879a8\"}, {\"name\": \"Ann\\u00e9e 2040 noeud : (3,0)\", \"x\": [\"Jan\", \"Feb\", \"Mar\", \"Apr\", \"May\", \"Jun\", \"Jul\", \"Aug\", \"Sep\", \"Oct\", \"Nov\", \"Dec\"], \"y\": [5.899718284606934, 8.697442054748535, 12.054403305053711, 16.033605575561523, 19.965930938720703, 23.061939239501953, 26.095888137817383, 27.718046188354492, 23.473615646362305, 17.181528091430664, 10.97719669342041, 7.550861835479736, 16.628278732299805], \"type\": \"scatter\", \"uid\": \"9665f7d3-0c1e-468a-b1d0-93b79d7d133b\"}, {\"name\": \"Ann\\u00e9e 2040 noeud : (3,1)\", \"x\": [\"Jan\", \"Feb\", \"Mar\", \"Apr\", \"May\", \"Jun\", \"Jul\", \"Aug\", \"Sep\", \"Oct\", \"Nov\", \"Dec\"], \"y\": [5.92392635345459, 8.71922492980957, 12.082901954650879, 16.06011199951172, 19.989370346069336, 23.091880798339844, 26.123384475708008, 27.74370765686035, 23.49742317199707, 17.208038330078125, 11.003438949584961, 7.5734686851501465, 16.65386199951172], \"type\": \"scatter\", \"uid\": \"9473e92f-f521-4be0-b897-8c00fac276c5\"}, {\"name\": \"Ann\\u00e9e 2040 noeud : (3,2)\", \"x\": [\"Jan\", \"Feb\", \"Mar\", \"Apr\", \"May\", \"Jun\", \"Jul\", \"Aug\", \"Sep\", \"Oct\", \"Nov\", \"Dec\"], \"y\": [5.9051337242126465, 8.429895401000977, 12.141887664794922, 16.23002815246582, 20.33981704711914, 23.044761657714844, 26.062114715576172, 27.756763458251953, 23.483226776123047, 17.41525650024414, 11.30825138092041, 7.515833377838135, 16.70752716064453], \"type\": \"scatter\", \"uid\": \"acd19a6e-6df3-415b-9288-938f28a4f495\"}, {\"name\": \"Ann\\u00e9e 2040 noeud : (3,3)\", \"x\": [\"Jan\", \"Feb\", \"Mar\", \"Apr\", \"May\", \"Jun\", \"Jul\", \"Aug\", \"Sep\", \"Oct\", \"Nov\", \"Dec\"], \"y\": [5.907360553741455, 8.570645332336426, 12.158121109008789, 16.169790267944336, 20.309581756591797, 23.23898696899414, 26.026531219482422, 27.753820419311523, 23.44927215576172, 17.507795333862305, 11.348134994506836, 7.508002758026123, 16.732742309570312], \"type\": \"scatter\", \"uid\": \"1419cbbd-53da-4e14-9e38-ef31144d72da\"}, {\"name\": \"Ann\\u00e9e 2040 noeud : (0,0)\", \"x\": [\"Jan\", \"Feb\", \"Mar\", \"Apr\", \"May\", \"Jun\", \"Jul\", \"Aug\", \"Sep\", \"Oct\", \"Nov\", \"Dec\"], \"y\": [5.645138263702393, 8.26650333404541, 11.869288444519043, 15.988260269165039, 20.299287796020508, 22.84364891052246, 25.874338150024414, 27.453187942504883, 23.36904525756836, 17.15568733215332, 11.054088592529297, 7.2915425300598145, 16.497032165527344], \"type\": \"scatter\", \"uid\": \"762aa576-38ec-4505-b596-e7ffdb3b7e24\"}, {\"name\": \"Ann\\u00e9e 2040 noeud : (0,1)\", \"x\": [\"Jan\", \"Feb\", \"Mar\", \"Apr\", \"May\", \"Jun\", \"Jul\", \"Aug\", \"Sep\", \"Oct\", \"Nov\", \"Dec\"], \"y\": [5.66162109375, 8.131011009216309, 11.855423927307129, 15.99721622467041, 20.306867599487305, 22.761037826538086, 25.848621368408203, 27.487220764160156, 23.331445693969727, 17.113475799560547, 11.033597946166992, 7.300424575805664, 16.474470138549805], \"type\": \"scatter\", \"uid\": \"429e44c8-4542-4137-9f4c-297ce9dcf44f\"}, {\"name\": \"Ann\\u00e9e 2040 noeud : (0,2)\", \"x\": [\"Jan\", \"Feb\", \"Mar\", \"Apr\", \"May\", \"Jun\", \"Jul\", \"Aug\", \"Sep\", \"Oct\", \"Nov\", \"Dec\"], \"y\": [5.05565071105957, 7.510837078094482, 11.195267677307129, 15.347942352294922, 19.58872413635254, 22.13738441467285, 25.13701629638672, 26.959875106811523, 22.76472282409668, 16.59311866760254, 10.4484281539917, 6.8305864334106445, 15.869343757629395], \"type\": \"scatter\", \"uid\": \"2b98681e-7388-4161-8bf6-4acdba27fb3c\"}, {\"name\": \"Ann\\u00e9e 2040 noeud : (0,3)\", \"x\": [\"Jan\", \"Feb\", \"Mar\", \"Apr\", \"May\", \"Jun\", \"Jul\", \"Aug\", \"Sep\", \"Oct\", \"Nov\", \"Dec\"], \"y\": [4.659209251403809, 7.1898932456970215, 10.523552894592285, 14.679864883422852, 19.025352478027344, 21.56235694885254, 24.552165985107422, 26.424612045288086, 22.258874893188477, 16.093259811401367, 9.922056198120117, 6.4283623695373535, 15.346633911132812], \"type\": \"scatter\", \"uid\": \"2498b1dc-3b34-4d9d-ba08-e20967b301fe\"}, {\"name\": \"Ann\\u00e9e 2040 noeud : (1,0)\", \"x\": [\"Jan\", \"Feb\", \"Mar\", \"Apr\", \"May\", \"Jun\", \"Jul\", \"Aug\", \"Sep\", \"Oct\", \"Nov\", \"Dec\"], \"y\": [5.788875102996826, 8.56564998626709, 11.831976890563965, 15.85779094696045, 20.190982818603516, 22.768775939941406, 25.885337829589844, 27.572874069213867, 23.369171142578125, 16.97860336303711, 10.886510848999023, 7.513116836547852, 16.50373649597168], \"type\": \"scatter\", \"uid\": \"9f4aed78-22db-4dc2-bf94-fe20bfee7b4f\"}, {\"name\": \"Ann\\u00e9e 2040 noeud : (1,1)\", \"x\": [\"Jan\", \"Feb\", \"Mar\", \"Apr\", \"May\", \"Jun\", \"Jul\", \"Aug\", \"Sep\", \"Oct\", \"Nov\", \"Dec\"], \"y\": [5.268800258636475, 8.036694526672363, 11.347289085388184, 15.433682441711426, 19.80327796936035, 22.25872039794922, 25.382915496826172, 27.07501220703125, 22.916799545288086, 16.502336502075195, 10.387027740478516, 7.003425598144531, 16.021310806274414], \"type\": \"scatter\", \"uid\": \"deb2ad90-2ac1-4f0f-a2fe-b6b73cdd5011\"}, {\"name\": \"Ann\\u00e9e 2040 noeud : (1,2)\", \"x\": [\"Jan\", \"Feb\", \"Mar\", \"Apr\", \"May\", \"Jun\", \"Jul\", \"Aug\", \"Sep\", \"Oct\", \"Nov\", \"Dec\"], \"y\": [5.3353271484375, 7.83380651473999, 11.523614883422852, 15.666097640991211, 19.919681549072266, 22.3906192779541, 25.518156051635742, 27.261802673339844, 23.003087997436523, 16.811710357666016, 10.701139450073242, 7.048338890075684, 16.156471252441406], \"type\": \"scatter\", \"uid\": \"bcbcb6fa-7eb4-4eef-9cc0-aac9bfa6c044\"}, {\"name\": \"Ann\\u00e9e 2040 noeud : (1,3)\", \"x\": [\"Jan\", \"Feb\", \"Mar\", \"Apr\", \"May\", \"Jun\", \"Jul\", \"Aug\", \"Sep\", \"Oct\", \"Nov\", \"Dec\"], \"y\": [5.659006595611572, 8.257131576538086, 11.863210678100586, 15.91879653930664, 20.119464874267578, 22.84169578552246, 25.719188690185547, 27.498249053955078, 23.18210220336914, 17.16255760192871, 11.03864860534668, 7.373154163360596, 16.45663833618164], \"type\": \"scatter\", \"uid\": \"6b777afd-e33e-425e-8690-85ff941884d9\"}, {\"name\": \"Ann\\u00e9e 2040 noeud : (2,0)\", \"x\": [\"Jan\", \"Feb\", \"Mar\", \"Apr\", \"May\", \"Jun\", \"Jul\", \"Aug\", \"Sep\", \"Oct\", \"Nov\", \"Dec\"], \"y\": [5.957037448883057, 8.749064445495605, 12.121808052062988, 16.09549903869629, 20.021020889282227, 23.129182815551758, 26.158708572387695, 27.775876998901367, 23.52773094177246, 17.24273681640625, 11.038740158081055, 7.603914260864258, 16.687580108642578], \"type\": \"scatter\", \"uid\": \"dc26b73c-52f3-402b-bc8d-54e18c30774a\"}, {\"name\": \"Ann\\u00e9e 2040 noeud : (2,1)\", \"x\": [\"Jan\", \"Feb\", \"Mar\", \"Apr\", \"May\", \"Jun\", \"Jul\", \"Aug\", \"Sep\", \"Oct\", \"Nov\", \"Dec\"], \"y\": [5.675458908081055, 8.488662719726562, 11.792019844055176, 15.791645050048828, 19.74843978881836, 22.799734115600586, 25.855932235717773, 27.495304107666016, 23.255151748657227, 16.94324493408203, 10.722922325134277, 7.338151454925537, 16.394529342651367], \"type\": \"scatter\", \"uid\": \"49947331-ffd6-42d8-a6c0-132d850e74fa\"}, {\"name\": \"Ann\\u00e9e 2040 noeud : (2,2)\", \"x\": [\"Jan\", \"Feb\", \"Mar\", \"Apr\", \"May\", \"Jun\", \"Jul\", \"Aug\", \"Sep\", \"Oct\", \"Nov\", \"Dec\"], \"y\": [5.412009239196777, 8.097554206848145, 11.506876945495605, 15.581233024597168, 19.74155616760254, 22.351961135864258, 25.469013214111328, 27.289857864379883, 22.942554473876953, 16.64963722229004, 10.515658378601074, 7.1262898445129395, 16.127363204956055], \"type\": \"scatter\", \"uid\": \"40b5283f-9f9f-49d9-88ba-25214a8aa1ea\"}, {\"name\": \"Ann\\u00e9e 2040 noeud : (2,3)\", \"x\": [\"Jan\", \"Feb\", \"Mar\", \"Apr\", \"May\", \"Jun\", \"Jul\", \"Aug\", \"Sep\", \"Oct\", \"Nov\", \"Dec\"], \"y\": [5.693795204162598, 8.378768920898438, 11.946781158447266, 15.97752857208252, 20.13136100769043, 23.027244567871094, 25.827259063720703, 27.569856643676758, 23.27318000793457, 17.30453872680664, 11.121501922607422, 7.312191963195801, 16.534130096435547], \"type\": \"scatter\", \"uid\": \"e1b9481c-cd43-4ba4-80af-2c4ad76df53a\"}, {\"name\": \"Ann\\u00e9e 2040 noeud : (3,0)\", \"x\": [\"Jan\", \"Feb\", \"Mar\", \"Apr\", \"May\", \"Jun\", \"Jul\", \"Aug\", \"Sep\", \"Oct\", \"Nov\", \"Dec\"], \"y\": [5.899718284606934, 8.697442054748535, 12.054403305053711, 16.033605575561523, 19.965930938720703, 23.061939239501953, 26.095888137817383, 27.718046188354492, 23.473615646362305, 17.181528091430664, 10.97719669342041, 7.550861835479736, 16.628278732299805], \"type\": \"scatter\", \"uid\": \"7bb56f73-d64d-4943-adfa-b2efbd6dff3f\"}, {\"name\": \"Ann\\u00e9e 2040 noeud : (3,1)\", \"x\": [\"Jan\", \"Feb\", \"Mar\", \"Apr\", \"May\", \"Jun\", \"Jul\", \"Aug\", \"Sep\", \"Oct\", \"Nov\", \"Dec\"], \"y\": [5.92392635345459, 8.71922492980957, 12.082901954650879, 16.06011199951172, 19.989370346069336, 23.091880798339844, 26.123384475708008, 27.74370765686035, 23.49742317199707, 17.208038330078125, 11.003438949584961, 7.5734686851501465, 16.65386199951172], \"type\": \"scatter\", \"uid\": \"d2fe4570-a9d6-413b-9bfa-a2be549eef3a\"}, {\"name\": \"Ann\\u00e9e 2040 noeud : (3,2)\", \"x\": [\"Jan\", \"Feb\", \"Mar\", \"Apr\", \"May\", \"Jun\", \"Jul\", \"Aug\", \"Sep\", \"Oct\", \"Nov\", \"Dec\"], \"y\": [5.9051337242126465, 8.429895401000977, 12.141887664794922, 16.23002815246582, 20.33981704711914, 23.044761657714844, 26.062114715576172, 27.756763458251953, 23.483226776123047, 17.41525650024414, 11.30825138092041, 7.515833377838135, 16.70752716064453], \"type\": \"scatter\", \"uid\": \"f503d9fe-8135-464f-9b48-c5ad81ed5907\"}, {\"name\": \"Ann\\u00e9e 2040 noeud : (3,3)\", \"x\": [\"Jan\", \"Feb\", \"Mar\", \"Apr\", \"May\", \"Jun\", \"Jul\", \"Aug\", \"Sep\", \"Oct\", \"Nov\", \"Dec\"], \"y\": [5.907360553741455, 8.570645332336426, 12.158121109008789, 16.169790267944336, 20.309581756591797, 23.23898696899414, 26.026531219482422, 27.753820419311523, 23.44927215576172, 17.507795333862305, 11.348134994506836, 7.508002758026123, 16.732742309570312], \"type\": \"scatter\", \"uid\": \"ae420c37-5262-40e0-9a5a-efd9c1b8849b\"}], {\"title\": {\"text\": \"Temp\\u00e9rature moyenne maximale des mois de l'ann\\u00e9e horizon 2040\"}, \"xaxis\": {\"showline\": true, \"showticklabels\": true, \"ticklen\": 5, \"title\": {\"text\": \"Mois\"}}, \"yaxis\": {\"showline\": true, \"showticklabels\": true, \"title\": {\"text\": \"Temperature (degrees Celsius)\"}}}, {\"showLink\": false, \"linkText\": \"Export to plot.ly\", \"plotlyServerURL\": \"https://plot.ly\"})});</script><script type=\"text/javascript\">window.addEventListener(\"resize\", function(){window._Plotly.Plots.resize(document.getElementById(\"1128d8b2-ddad-4f2c-bf0f-f7a96fbaddfe\"));});</script>"
      ],
      "text/vnd.plotly.v1+html": [
       "<div id=\"1128d8b2-ddad-4f2c-bf0f-f7a96fbaddfe\" style=\"height: 525px; width: 100%;\" class=\"plotly-graph-div\"></div><script type=\"text/javascript\">require([\"plotly\"], function(Plotly) { window.PLOTLYENV=window.PLOTLYENV || {};window.PLOTLYENV.BASE_URL=\"https://plot.ly\";Plotly.newPlot(\"1128d8b2-ddad-4f2c-bf0f-f7a96fbaddfe\", [{\"name\": \"Ann\\u00e9e 2040 noeud : (0,0)\", \"x\": [\"Jan\", \"Feb\", \"Mar\", \"Apr\", \"May\", \"Jun\", \"Jul\", \"Aug\", \"Sep\", \"Oct\", \"Nov\", \"Dec\"], \"y\": [5.645138263702393, 8.26650333404541, 11.869288444519043, 15.988260269165039, 20.299287796020508, 22.84364891052246, 25.874338150024414, 27.453187942504883, 23.36904525756836, 17.15568733215332, 11.054088592529297, 7.2915425300598145, 16.497032165527344], \"type\": \"scatter\", \"uid\": \"40a4d6cf-7284-4094-9f7f-f805db607f1b\"}, {\"name\": \"Ann\\u00e9e 2040 noeud : (0,1)\", \"x\": [\"Jan\", \"Feb\", \"Mar\", \"Apr\", \"May\", \"Jun\", \"Jul\", \"Aug\", \"Sep\", \"Oct\", \"Nov\", \"Dec\"], \"y\": [5.66162109375, 8.131011009216309, 11.855423927307129, 15.99721622467041, 20.306867599487305, 22.761037826538086, 25.848621368408203, 27.487220764160156, 23.331445693969727, 17.113475799560547, 11.033597946166992, 7.300424575805664, 16.474470138549805], \"type\": \"scatter\", \"uid\": \"1b8ea734-bf3d-49f2-9ddf-3c0508d776c7\"}, {\"name\": \"Ann\\u00e9e 2040 noeud : (0,2)\", \"x\": [\"Jan\", \"Feb\", \"Mar\", \"Apr\", \"May\", \"Jun\", \"Jul\", \"Aug\", \"Sep\", \"Oct\", \"Nov\", \"Dec\"], \"y\": [5.05565071105957, 7.510837078094482, 11.195267677307129, 15.347942352294922, 19.58872413635254, 22.13738441467285, 25.13701629638672, 26.959875106811523, 22.76472282409668, 16.59311866760254, 10.4484281539917, 6.8305864334106445, 15.869343757629395], \"type\": \"scatter\", \"uid\": \"f75cab5c-5d30-41c0-ae77-e6e12603521c\"}, {\"name\": \"Ann\\u00e9e 2040 noeud : (0,3)\", \"x\": [\"Jan\", \"Feb\", \"Mar\", \"Apr\", \"May\", \"Jun\", \"Jul\", \"Aug\", \"Sep\", \"Oct\", \"Nov\", \"Dec\"], \"y\": [4.659209251403809, 7.1898932456970215, 10.523552894592285, 14.679864883422852, 19.025352478027344, 21.56235694885254, 24.552165985107422, 26.424612045288086, 22.258874893188477, 16.093259811401367, 9.922056198120117, 6.4283623695373535, 15.346633911132812], \"type\": \"scatter\", \"uid\": \"33b596e6-4614-46cb-8aae-d07f12cb5c62\"}, {\"name\": \"Ann\\u00e9e 2040 noeud : (1,0)\", \"x\": [\"Jan\", \"Feb\", \"Mar\", \"Apr\", \"May\", \"Jun\", \"Jul\", \"Aug\", \"Sep\", \"Oct\", \"Nov\", \"Dec\"], \"y\": [5.788875102996826, 8.56564998626709, 11.831976890563965, 15.85779094696045, 20.190982818603516, 22.768775939941406, 25.885337829589844, 27.572874069213867, 23.369171142578125, 16.97860336303711, 10.886510848999023, 7.513116836547852, 16.50373649597168], \"type\": \"scatter\", \"uid\": \"ce55b62b-bba1-4737-8303-69c917063491\"}, {\"name\": \"Ann\\u00e9e 2040 noeud : (1,1)\", \"x\": [\"Jan\", \"Feb\", \"Mar\", \"Apr\", \"May\", \"Jun\", \"Jul\", \"Aug\", \"Sep\", \"Oct\", \"Nov\", \"Dec\"], \"y\": [5.268800258636475, 8.036694526672363, 11.347289085388184, 15.433682441711426, 19.80327796936035, 22.25872039794922, 25.382915496826172, 27.07501220703125, 22.916799545288086, 16.502336502075195, 10.387027740478516, 7.003425598144531, 16.021310806274414], \"type\": \"scatter\", \"uid\": \"de2d80e1-8545-4f8e-aaf1-b6b8812716b0\"}, {\"name\": \"Ann\\u00e9e 2040 noeud : (1,2)\", \"x\": [\"Jan\", \"Feb\", \"Mar\", \"Apr\", \"May\", \"Jun\", \"Jul\", \"Aug\", \"Sep\", \"Oct\", \"Nov\", \"Dec\"], \"y\": [5.3353271484375, 7.83380651473999, 11.523614883422852, 15.666097640991211, 19.919681549072266, 22.3906192779541, 25.518156051635742, 27.261802673339844, 23.003087997436523, 16.811710357666016, 10.701139450073242, 7.048338890075684, 16.156471252441406], \"type\": \"scatter\", \"uid\": \"847381c4-c4ef-40fe-9327-42cbbd210941\"}, {\"name\": \"Ann\\u00e9e 2040 noeud : (1,3)\", \"x\": [\"Jan\", \"Feb\", \"Mar\", \"Apr\", \"May\", \"Jun\", \"Jul\", \"Aug\", \"Sep\", \"Oct\", \"Nov\", \"Dec\"], \"y\": [5.659006595611572, 8.257131576538086, 11.863210678100586, 15.91879653930664, 20.119464874267578, 22.84169578552246, 25.719188690185547, 27.498249053955078, 23.18210220336914, 17.16255760192871, 11.03864860534668, 7.373154163360596, 16.45663833618164], \"type\": \"scatter\", \"uid\": \"2f91ea0f-3517-436e-8b17-bb87087cb593\"}, {\"name\": \"Ann\\u00e9e 2040 noeud : (2,0)\", \"x\": [\"Jan\", \"Feb\", \"Mar\", \"Apr\", \"May\", \"Jun\", \"Jul\", \"Aug\", \"Sep\", \"Oct\", \"Nov\", \"Dec\"], \"y\": [5.957037448883057, 8.749064445495605, 12.121808052062988, 16.09549903869629, 20.021020889282227, 23.129182815551758, 26.158708572387695, 27.775876998901367, 23.52773094177246, 17.24273681640625, 11.038740158081055, 7.603914260864258, 16.687580108642578], \"type\": \"scatter\", \"uid\": \"dcc13d9b-563f-4090-8590-6d298bbb955b\"}, {\"name\": \"Ann\\u00e9e 2040 noeud : (2,1)\", \"x\": [\"Jan\", \"Feb\", \"Mar\", \"Apr\", \"May\", \"Jun\", \"Jul\", \"Aug\", \"Sep\", \"Oct\", \"Nov\", \"Dec\"], \"y\": [5.675458908081055, 8.488662719726562, 11.792019844055176, 15.791645050048828, 19.74843978881836, 22.799734115600586, 25.855932235717773, 27.495304107666016, 23.255151748657227, 16.94324493408203, 10.722922325134277, 7.338151454925537, 16.394529342651367], \"type\": \"scatter\", \"uid\": \"9fbe035f-2756-4aef-8cbb-0fd28038a5f4\"}, {\"name\": \"Ann\\u00e9e 2040 noeud : (2,2)\", \"x\": [\"Jan\", \"Feb\", \"Mar\", \"Apr\", \"May\", \"Jun\", \"Jul\", \"Aug\", \"Sep\", \"Oct\", \"Nov\", \"Dec\"], \"y\": [5.412009239196777, 8.097554206848145, 11.506876945495605, 15.581233024597168, 19.74155616760254, 22.351961135864258, 25.469013214111328, 27.289857864379883, 22.942554473876953, 16.64963722229004, 10.515658378601074, 7.1262898445129395, 16.127363204956055], \"type\": \"scatter\", \"uid\": \"eca07c0c-742d-40b9-b479-e194f3b07eb9\"}, {\"name\": \"Ann\\u00e9e 2040 noeud : (2,3)\", \"x\": [\"Jan\", \"Feb\", \"Mar\", \"Apr\", \"May\", \"Jun\", \"Jul\", \"Aug\", \"Sep\", \"Oct\", \"Nov\", \"Dec\"], \"y\": [5.693795204162598, 8.378768920898438, 11.946781158447266, 15.97752857208252, 20.13136100769043, 23.027244567871094, 25.827259063720703, 27.569856643676758, 23.27318000793457, 17.30453872680664, 11.121501922607422, 7.312191963195801, 16.534130096435547], \"type\": \"scatter\", \"uid\": \"01ca7332-4fce-4677-8929-3cae464879a8\"}, {\"name\": \"Ann\\u00e9e 2040 noeud : (3,0)\", \"x\": [\"Jan\", \"Feb\", \"Mar\", \"Apr\", \"May\", \"Jun\", \"Jul\", \"Aug\", \"Sep\", \"Oct\", \"Nov\", \"Dec\"], \"y\": [5.899718284606934, 8.697442054748535, 12.054403305053711, 16.033605575561523, 19.965930938720703, 23.061939239501953, 26.095888137817383, 27.718046188354492, 23.473615646362305, 17.181528091430664, 10.97719669342041, 7.550861835479736, 16.628278732299805], \"type\": \"scatter\", \"uid\": \"9665f7d3-0c1e-468a-b1d0-93b79d7d133b\"}, {\"name\": \"Ann\\u00e9e 2040 noeud : (3,1)\", \"x\": [\"Jan\", \"Feb\", \"Mar\", \"Apr\", \"May\", \"Jun\", \"Jul\", \"Aug\", \"Sep\", \"Oct\", \"Nov\", \"Dec\"], \"y\": [5.92392635345459, 8.71922492980957, 12.082901954650879, 16.06011199951172, 19.989370346069336, 23.091880798339844, 26.123384475708008, 27.74370765686035, 23.49742317199707, 17.208038330078125, 11.003438949584961, 7.5734686851501465, 16.65386199951172], \"type\": \"scatter\", \"uid\": \"9473e92f-f521-4be0-b897-8c00fac276c5\"}, {\"name\": \"Ann\\u00e9e 2040 noeud : (3,2)\", \"x\": [\"Jan\", \"Feb\", \"Mar\", \"Apr\", \"May\", \"Jun\", \"Jul\", \"Aug\", \"Sep\", \"Oct\", \"Nov\", \"Dec\"], \"y\": [5.9051337242126465, 8.429895401000977, 12.141887664794922, 16.23002815246582, 20.33981704711914, 23.044761657714844, 26.062114715576172, 27.756763458251953, 23.483226776123047, 17.41525650024414, 11.30825138092041, 7.515833377838135, 16.70752716064453], \"type\": \"scatter\", \"uid\": \"acd19a6e-6df3-415b-9288-938f28a4f495\"}, {\"name\": \"Ann\\u00e9e 2040 noeud : (3,3)\", \"x\": [\"Jan\", \"Feb\", \"Mar\", \"Apr\", \"May\", \"Jun\", \"Jul\", \"Aug\", \"Sep\", \"Oct\", \"Nov\", \"Dec\"], \"y\": [5.907360553741455, 8.570645332336426, 12.158121109008789, 16.169790267944336, 20.309581756591797, 23.23898696899414, 26.026531219482422, 27.753820419311523, 23.44927215576172, 17.507795333862305, 11.348134994506836, 7.508002758026123, 16.732742309570312], \"type\": \"scatter\", \"uid\": \"1419cbbd-53da-4e14-9e38-ef31144d72da\"}, {\"name\": \"Ann\\u00e9e 2040 noeud : (0,0)\", \"x\": [\"Jan\", \"Feb\", \"Mar\", \"Apr\", \"May\", \"Jun\", \"Jul\", \"Aug\", \"Sep\", \"Oct\", \"Nov\", \"Dec\"], \"y\": [5.645138263702393, 8.26650333404541, 11.869288444519043, 15.988260269165039, 20.299287796020508, 22.84364891052246, 25.874338150024414, 27.453187942504883, 23.36904525756836, 17.15568733215332, 11.054088592529297, 7.2915425300598145, 16.497032165527344], \"type\": \"scatter\", \"uid\": \"762aa576-38ec-4505-b596-e7ffdb3b7e24\"}, {\"name\": \"Ann\\u00e9e 2040 noeud : (0,1)\", \"x\": [\"Jan\", \"Feb\", \"Mar\", \"Apr\", \"May\", \"Jun\", \"Jul\", \"Aug\", \"Sep\", \"Oct\", \"Nov\", \"Dec\"], \"y\": [5.66162109375, 8.131011009216309, 11.855423927307129, 15.99721622467041, 20.306867599487305, 22.761037826538086, 25.848621368408203, 27.487220764160156, 23.331445693969727, 17.113475799560547, 11.033597946166992, 7.300424575805664, 16.474470138549805], \"type\": \"scatter\", \"uid\": \"429e44c8-4542-4137-9f4c-297ce9dcf44f\"}, {\"name\": \"Ann\\u00e9e 2040 noeud : (0,2)\", \"x\": [\"Jan\", \"Feb\", \"Mar\", \"Apr\", \"May\", \"Jun\", \"Jul\", \"Aug\", \"Sep\", \"Oct\", \"Nov\", \"Dec\"], \"y\": [5.05565071105957, 7.510837078094482, 11.195267677307129, 15.347942352294922, 19.58872413635254, 22.13738441467285, 25.13701629638672, 26.959875106811523, 22.76472282409668, 16.59311866760254, 10.4484281539917, 6.8305864334106445, 15.869343757629395], \"type\": \"scatter\", \"uid\": \"2b98681e-7388-4161-8bf6-4acdba27fb3c\"}, {\"name\": \"Ann\\u00e9e 2040 noeud : (0,3)\", \"x\": [\"Jan\", \"Feb\", \"Mar\", \"Apr\", \"May\", \"Jun\", \"Jul\", \"Aug\", \"Sep\", \"Oct\", \"Nov\", \"Dec\"], \"y\": [4.659209251403809, 7.1898932456970215, 10.523552894592285, 14.679864883422852, 19.025352478027344, 21.56235694885254, 24.552165985107422, 26.424612045288086, 22.258874893188477, 16.093259811401367, 9.922056198120117, 6.4283623695373535, 15.346633911132812], \"type\": \"scatter\", \"uid\": \"2498b1dc-3b34-4d9d-ba08-e20967b301fe\"}, {\"name\": \"Ann\\u00e9e 2040 noeud : (1,0)\", \"x\": [\"Jan\", \"Feb\", \"Mar\", \"Apr\", \"May\", \"Jun\", \"Jul\", \"Aug\", \"Sep\", \"Oct\", \"Nov\", \"Dec\"], \"y\": [5.788875102996826, 8.56564998626709, 11.831976890563965, 15.85779094696045, 20.190982818603516, 22.768775939941406, 25.885337829589844, 27.572874069213867, 23.369171142578125, 16.97860336303711, 10.886510848999023, 7.513116836547852, 16.50373649597168], \"type\": \"scatter\", \"uid\": \"9f4aed78-22db-4dc2-bf94-fe20bfee7b4f\"}, {\"name\": \"Ann\\u00e9e 2040 noeud : (1,1)\", \"x\": [\"Jan\", \"Feb\", \"Mar\", \"Apr\", \"May\", \"Jun\", \"Jul\", \"Aug\", \"Sep\", \"Oct\", \"Nov\", \"Dec\"], \"y\": [5.268800258636475, 8.036694526672363, 11.347289085388184, 15.433682441711426, 19.80327796936035, 22.25872039794922, 25.382915496826172, 27.07501220703125, 22.916799545288086, 16.502336502075195, 10.387027740478516, 7.003425598144531, 16.021310806274414], \"type\": \"scatter\", \"uid\": \"deb2ad90-2ac1-4f0f-a2fe-b6b73cdd5011\"}, {\"name\": \"Ann\\u00e9e 2040 noeud : (1,2)\", \"x\": [\"Jan\", \"Feb\", \"Mar\", \"Apr\", \"May\", \"Jun\", \"Jul\", \"Aug\", \"Sep\", \"Oct\", \"Nov\", \"Dec\"], \"y\": [5.3353271484375, 7.83380651473999, 11.523614883422852, 15.666097640991211, 19.919681549072266, 22.3906192779541, 25.518156051635742, 27.261802673339844, 23.003087997436523, 16.811710357666016, 10.701139450073242, 7.048338890075684, 16.156471252441406], \"type\": \"scatter\", \"uid\": \"bcbcb6fa-7eb4-4eef-9cc0-aac9bfa6c044\"}, {\"name\": \"Ann\\u00e9e 2040 noeud : (1,3)\", \"x\": [\"Jan\", \"Feb\", \"Mar\", \"Apr\", \"May\", \"Jun\", \"Jul\", \"Aug\", \"Sep\", \"Oct\", \"Nov\", \"Dec\"], \"y\": [5.659006595611572, 8.257131576538086, 11.863210678100586, 15.91879653930664, 20.119464874267578, 22.84169578552246, 25.719188690185547, 27.498249053955078, 23.18210220336914, 17.16255760192871, 11.03864860534668, 7.373154163360596, 16.45663833618164], \"type\": \"scatter\", \"uid\": \"6b777afd-e33e-425e-8690-85ff941884d9\"}, {\"name\": \"Ann\\u00e9e 2040 noeud : (2,0)\", \"x\": [\"Jan\", \"Feb\", \"Mar\", \"Apr\", \"May\", \"Jun\", \"Jul\", \"Aug\", \"Sep\", \"Oct\", \"Nov\", \"Dec\"], \"y\": [5.957037448883057, 8.749064445495605, 12.121808052062988, 16.09549903869629, 20.021020889282227, 23.129182815551758, 26.158708572387695, 27.775876998901367, 23.52773094177246, 17.24273681640625, 11.038740158081055, 7.603914260864258, 16.687580108642578], \"type\": \"scatter\", \"uid\": \"dc26b73c-52f3-402b-bc8d-54e18c30774a\"}, {\"name\": \"Ann\\u00e9e 2040 noeud : (2,1)\", \"x\": [\"Jan\", \"Feb\", \"Mar\", \"Apr\", \"May\", \"Jun\", \"Jul\", \"Aug\", \"Sep\", \"Oct\", \"Nov\", \"Dec\"], \"y\": [5.675458908081055, 8.488662719726562, 11.792019844055176, 15.791645050048828, 19.74843978881836, 22.799734115600586, 25.855932235717773, 27.495304107666016, 23.255151748657227, 16.94324493408203, 10.722922325134277, 7.338151454925537, 16.394529342651367], \"type\": \"scatter\", \"uid\": \"49947331-ffd6-42d8-a6c0-132d850e74fa\"}, {\"name\": \"Ann\\u00e9e 2040 noeud : (2,2)\", \"x\": [\"Jan\", \"Feb\", \"Mar\", \"Apr\", \"May\", \"Jun\", \"Jul\", \"Aug\", \"Sep\", \"Oct\", \"Nov\", \"Dec\"], \"y\": [5.412009239196777, 8.097554206848145, 11.506876945495605, 15.581233024597168, 19.74155616760254, 22.351961135864258, 25.469013214111328, 27.289857864379883, 22.942554473876953, 16.64963722229004, 10.515658378601074, 7.1262898445129395, 16.127363204956055], \"type\": \"scatter\", \"uid\": \"40b5283f-9f9f-49d9-88ba-25214a8aa1ea\"}, {\"name\": \"Ann\\u00e9e 2040 noeud : (2,3)\", \"x\": [\"Jan\", \"Feb\", \"Mar\", \"Apr\", \"May\", \"Jun\", \"Jul\", \"Aug\", \"Sep\", \"Oct\", \"Nov\", \"Dec\"], \"y\": [5.693795204162598, 8.378768920898438, 11.946781158447266, 15.97752857208252, 20.13136100769043, 23.027244567871094, 25.827259063720703, 27.569856643676758, 23.27318000793457, 17.30453872680664, 11.121501922607422, 7.312191963195801, 16.534130096435547], \"type\": \"scatter\", \"uid\": \"e1b9481c-cd43-4ba4-80af-2c4ad76df53a\"}, {\"name\": \"Ann\\u00e9e 2040 noeud : (3,0)\", \"x\": [\"Jan\", \"Feb\", \"Mar\", \"Apr\", \"May\", \"Jun\", \"Jul\", \"Aug\", \"Sep\", \"Oct\", \"Nov\", \"Dec\"], \"y\": [5.899718284606934, 8.697442054748535, 12.054403305053711, 16.033605575561523, 19.965930938720703, 23.061939239501953, 26.095888137817383, 27.718046188354492, 23.473615646362305, 17.181528091430664, 10.97719669342041, 7.550861835479736, 16.628278732299805], \"type\": \"scatter\", \"uid\": \"7bb56f73-d64d-4943-adfa-b2efbd6dff3f\"}, {\"name\": \"Ann\\u00e9e 2040 noeud : (3,1)\", \"x\": [\"Jan\", \"Feb\", \"Mar\", \"Apr\", \"May\", \"Jun\", \"Jul\", \"Aug\", \"Sep\", \"Oct\", \"Nov\", \"Dec\"], \"y\": [5.92392635345459, 8.71922492980957, 12.082901954650879, 16.06011199951172, 19.989370346069336, 23.091880798339844, 26.123384475708008, 27.74370765686035, 23.49742317199707, 17.208038330078125, 11.003438949584961, 7.5734686851501465, 16.65386199951172], \"type\": \"scatter\", \"uid\": \"d2fe4570-a9d6-413b-9bfa-a2be549eef3a\"}, {\"name\": \"Ann\\u00e9e 2040 noeud : (3,2)\", \"x\": [\"Jan\", \"Feb\", \"Mar\", \"Apr\", \"May\", \"Jun\", \"Jul\", \"Aug\", \"Sep\", \"Oct\", \"Nov\", \"Dec\"], \"y\": [5.9051337242126465, 8.429895401000977, 12.141887664794922, 16.23002815246582, 20.33981704711914, 23.044761657714844, 26.062114715576172, 27.756763458251953, 23.483226776123047, 17.41525650024414, 11.30825138092041, 7.515833377838135, 16.70752716064453], \"type\": \"scatter\", \"uid\": \"f503d9fe-8135-464f-9b48-c5ad81ed5907\"}, {\"name\": \"Ann\\u00e9e 2040 noeud : (3,3)\", \"x\": [\"Jan\", \"Feb\", \"Mar\", \"Apr\", \"May\", \"Jun\", \"Jul\", \"Aug\", \"Sep\", \"Oct\", \"Nov\", \"Dec\"], \"y\": [5.907360553741455, 8.570645332336426, 12.158121109008789, 16.169790267944336, 20.309581756591797, 23.23898696899414, 26.026531219482422, 27.753820419311523, 23.44927215576172, 17.507795333862305, 11.348134994506836, 7.508002758026123, 16.732742309570312], \"type\": \"scatter\", \"uid\": \"ae420c37-5262-40e0-9a5a-efd9c1b8849b\"}], {\"title\": {\"text\": \"Temp\\u00e9rature moyenne maximale des mois de l'ann\\u00e9e horizon 2040\"}, \"xaxis\": {\"showline\": true, \"showticklabels\": true, \"ticklen\": 5, \"title\": {\"text\": \"Mois\"}}, \"yaxis\": {\"showline\": true, \"showticklabels\": true, \"title\": {\"text\": \"Temperature (degrees Celsius)\"}}}, {\"showLink\": false, \"linkText\": \"Export to plot.ly\", \"plotlyServerURL\": \"https://plot.ly\"})});</script><script type=\"text/javascript\">window.addEventListener(\"resize\", function(){window._Plotly.Plots.resize(document.getElementById(\"1128d8b2-ddad-4f2c-bf0f-f7a96fbaddfe\"));});</script>"
      ]
     },
     "metadata": {},
     "output_type": "display_data"
    }
   ],
   "source": [
    "for p in range(intervalj) :\n",
    "    for q in range(intervali) :\n",
    "        order = p * intervalj + q\n",
    "        trace = go.Scatter(\n",
    "            x = lyon_month[0:12],\n",
    "            y = moyAreaInterval[:,p,q],\n",
    "            name ='Année 2040 noeud : (%s'%(str(p)+','+str(q)+')')\n",
    "        )\n",
    "        data.append(trace)\n",
    "\n",
    "layout = dict (\n",
    "           title = \"Température moyenne maximale des mois de l'année horizon 2040\",\n",
    "           xaxis = dict(\n",
    "                 title = 'Mois',\n",
    "                 showline=True,\n",
    "                 showticklabels=True,\n",
    "                 ticklen=5\n",
    "             ),\n",
    "             yaxis = dict(\n",
    "                 title = 'Temperature (degrees Celsius)',\n",
    "                 showline=True,\n",
    "                 showticklabels=True\n",
    "             ),         \n",
    ")\n",
    "\n",
    "\n",
    "fig = dict(data=data, layout=layout)\n",
    "\n",
    "py.iplot(fig, filename='basic-line')"
   ]
  },
  {
   "cell_type": "markdown",
   "metadata": {},
   "source": [
    "### Calculs pour UNE SÉRIE DE  PÉRIODES de  `yearInterval` années\n",
    "\n",
    "Calcul de la moyenne de températures des mois de `calcMonth` (il peut y en avoir un seul ou un choix), sur `yearInterval` années à partir de l'année `yearBegin` jusqu'à l'année `yearBegin + yearPeriod` sur les noeuds à partir de `(startj,starti)` de taille `(intervalj,intervali)`. La valeur touvée est affectée à la dernière année de la plage de calcul."
   ]
  },
  {
   "cell_type": "code",
   "execution_count": 14,
   "metadata": {},
   "outputs": [],
   "source": [
    "# ASéquence d'années pendant lesquelles les calculs sont effectués\n",
    "yearBegin = 2010\n",
    "yearInterval = 30\n",
    "yearPeriod = 40\n",
    "calcMonth = [4,5,6,7,8,9]\n",
    "lencalcMonths = len(calcMonth)\n",
    "#  Grille i j\n",
    "starti = 5\n",
    "intervali = 4\n",
    "startj = 2\n",
    "intervalj = 4\n",
    "# Variables de calcul\n",
    "startYear = yearBegin - 2006\n",
    "endYear = startYear + yearInterval\n",
    "#print(yearPeriodInterval)\n",
    "endi = starti + intervali\n",
    "endj = startj + intervalj\n",
    "loc_i = 2\n",
    "loc_j = 3\n",
    "locLon = lyon_lon[loc_j,loc_i]\n",
    "locLat = lyon_lat[loc_j,loc_i]\n",
    "\n",
    "                          \n",
    "if not  (startYear >= 0) and (endYear <= lenyears) :\n",
    "    print('starting year or finishing year out of bounds')\n",
    "    sys.exit('giving up on year bounds')\n",
    "#print(gridj[loc_j])\n",
    "#print(gridi[loc_i])\n",
    "#print(locLon)\n",
    "#print(locLat)\n",
    "#print(locMonth)\n",
    "#print(startYear,':',endYear,',',calcMonth,',',startj,':',endj,',',starti,':',endi)\n",
    "#print(temp.shape)\n",
    "#print(np.mean(temp[startYear:endYear,calcMonth,startj:endj,starti:endi]))"
   ]
  },
  {
   "cell_type": "markdown",
   "metadata": {},
   "source": [
    "### Calcul pour n mois sur p périodes de q années pour la zone\n",
    "\n",
    "Calcul de la moyenne des températures mensuelles sur `yearInterval` ans pendant une période de `yearPeriod` années successives pour une sélection de `calcMonth`  mois."
   ]
  },
  {
   "cell_type": "code",
   "execution_count": 15,
   "metadata": {},
   "outputs": [],
   "source": [
    "moyAreaInterval = np.zeros((lencalcMonths,yearPeriod))\n",
    "for p in range(yearPeriod) :\n",
    "    a = startYear + p\n",
    "    b = endYear + p    \n",
    "    moyAreaInterval[:,p] = np.mean(lyon_tmax26[a:b,calcMonth,startj:endj,starti:endi],axis=(0,2,3)) \n",
    "#print(moyAreaInterval)\n",
    "firstPlotYear = startYear + yearInterval\n",
    "lastPlotYear = firstPlotYear + yearPeriod\n",
    "data = [] * lencalcMonths\n",
    "trace = [] * lencalcMonths"
   ]
  },
  {
   "cell_type": "markdown",
   "metadata": {},
   "source": [
    "Le diagramme ci-dessous  représente l'évolution sur `yearPeriod` années de la température dans la région Lyonnaise.(Décommenter la dernière ligne du bloc pour afficher la figure)"
   ]
  },
  {
   "cell_type": "code",
   "execution_count": 16,
   "metadata": {},
   "outputs": [],
   "source": [
    "for q in range(lencalcMonths) :\n",
    "    trace = go.Scatter(\n",
    "        x = lyon_year[firstPlotYear:lastPlotYear],\n",
    "        y = moyAreaInterval[q,:],\n",
    "        name ='Moyenne du mois %s'%lyon_month[calcMonth[q]]\n",
    "    )\n",
    "    data.append(trace)\n",
    "\n",
    "layout = dict (\n",
    "           title = \"Température moyenne maximale des mois de l'année moyennées sur 30 ans\",\n",
    "           xaxis = dict(\n",
    "                 title = 'Année',\n",
    "                 showline=True,\n",
    "                 showticklabels=True,\n",
    "                 ticklen=5\n",
    "             ),\n",
    "             yaxis = dict(\n",
    "                 title = 'Temperature (degrees Celsius)',\n",
    "                 showline=True,\n",
    "                 showticklabels=True\n",
    "             ),         \n",
    ")\n",
    "\n",
    "\n",
    "fig = dict(data=data, layout=layout)\n",
    "\n",
    "#py.iplot(fig, filename='basic-line')"
   ]
  },
  {
   "cell_type": "markdown",
   "metadata": {},
   "source": [
    "### Contrôle du contenu du fichier sauvegardé \n",
    "Ce bloc permet d'imprimer le contenu du jeu de données qui vient d'être sauvegardé afin de vérifier qu'il contient les données attendues. le suivant ferme le fichier écrit."
   ]
  },
  {
   "cell_type": "code",
   "execution_count": 17,
   "metadata": {},
   "outputs": [],
   "source": [
    "#for dim in extractLyonTempYearMonth.dimensions.items():\n",
    "#    print(dim[1])\n",
    "#for var in extractLyonTempYearMonth.variables.keys() :\n",
    "#    print (var, '\\t\\t', extractLyonTempYearMonth.variables[var].dimensions, '\\t\\t', \n",
    "#           extractLyonTempYearMonth.variables[var].shape, '\\t', extractLyonTempYearMonth.variables[var].dtype)"
   ]
  },
  {
   "cell_type": "code",
   "execution_count": null,
   "metadata": {},
   "outputs": [],
   "source": []
  }
 ],
 "metadata": {
  "kernelspec": {
   "display_name": "Python 3",
   "language": "python",
   "name": "python3"
  },
  "language_info": {
   "codemirror_mode": {
    "name": "ipython",
    "version": 3
   },
   "file_extension": ".py",
   "mimetype": "text/x-python",
   "name": "python",
   "nbconvert_exporter": "python",
   "pygments_lexer": "ipython3",
   "version": "3.7.3"
  }
 },
 "nbformat": 4,
 "nbformat_minor": 2
}
