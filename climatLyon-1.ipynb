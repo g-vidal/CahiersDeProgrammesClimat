{
 "cells": [
  {
   "cell_type": "markdown",
   "metadata": {
    "extensions": {
     "jupyter_dashboards": {
      "version": 1,
      "views": {
       "grid_default": {},
       "report_default": {
        "hidden": false
       }
      }
     }
    }
   },
   "source": [
    "\n",
    "|  |\n",
    "| ------------------------------------------------------- | \n",
    "| ![Tremplin des sciences](images/tremplinColorSmall.png) | \n",
    "\n",
    "Cahier d'exercices pour l'enseignement et l'apprentissage de programmation issu de la collection \"Climat et météo tremplin pour l'enseignement des sciences\" (PIA IFÉ ENS de Lyon - Météofrance ENM Toulouse). Le dispositif clef en main repose sur l'utilisation d'une RaspberryPi chargée avec le système d'exploitation Debian enrichi, fourni par le projet. Les sources et les exécutables sont accessibles dans [l'espace collaboratif de la forge github](https://github.com/g-vidal/CahierDeProgrammes); plus d'information sur les [blogs d'accompagnement](http://blog.climatetmeteo.fr/GerardVidal/) systèmes d'exploitation sur [la page des OS  de Raspberries Pi](http://mediaserv.climatetmeteo.fr/images/RaspBerry/DebianStretchPi3/).  Toutes les ressources issues du projet sont fournies sous licence [Creative Commons](https://creativecommons.org/licenses/by-nc/4.0/) ou sous les licences libres d'origine des outils utilisés. Les ressources  du projet peuvent être utilisées dans tout autre environnement compatible.![licence : Creative Commons](images/Licence.jpg) \n",
    "\n",
    "Auteur : G. Vidal\n",
    "\n",
    "------------------------------------------------------------"
   ]
  },
  {
   "cell_type": "markdown",
   "metadata": {},
   "source": [
    "# Une approche du changement climatique à Lyon\n",
    "\n",
    "Ce cahier d'exercices propose plusieurs voies d'exploration d'un jeu de données issues des simulations climatiques de Météofrance. Le lot utilisé  est issu d'une modélisation RCP 2.6. Le travail a été effectué avec la températuremaximale mais il est directement transposable à toutes les variables du modèle. Cette première partie traite de la méhode pour qu'un enseignant puisse extraire les données dont il a besoin d'un fichier commandé sur le site [DRIAS](http://www.drias-climat.fr/). Ce cahier manipule des données multidimensionnelles et doit être réservé à des étudiants avancés si on souhaite l'utiliser en classe. Le dessin des figures a été désactivé dans le dépôt sur la forge pour ne pas alourdir inutilement le fichier transféré."
   ]
  },
  {
   "cell_type": "markdown",
   "metadata": {},
   "source": [
    "## Préparation de l'environnement et ouverture du fichier de données\n",
    "\n",
    "Importer d'abord le module `netcdf4` et `numpy`, attention les majuscules sont impératives pour le nom `netCDF4`. Ces deux modules permettent de traiter  les fichiers multidimensionnels au format netCDF utilisés dans le monde de la météorologie et de l'océanographie principalement."
   ]
  },
  {
   "cell_type": "code",
   "execution_count": 12,
   "metadata": {},
   "outputs": [],
   "source": [
    "import netCDF4 as nc\n",
    "import numpy as np\n",
    "from datetime import datetime\n",
    "from array import array\n",
    "import sys, datetime, os"
   ]
  },
  {
   "cell_type": "markdown",
   "metadata": {},
   "source": [
    "Importation des données de températures maximales depuis le fichier obtenu auprès du site [DRIAS](https://drias-prod.meteo.fr/okapi/accueil/okapiWebDrias/index.jsp) pour la région lyonnaise et intégration dans un fichier pour le traitement, puis affichage de la description du contenu, de la liste des variables.\n",
    "L'exemple choisi ici a été réalisé avec une grille de 10 x 10 noeuds centrés sur la ville de Lyon, pour obtenir un jeu de données se reporter au manuel numérique réalisé par E. Le Jan et CArole Larose dans le cadre du projet \"Climat et Météo Tremplin pour l'enseignement des sciences\". Les deux affichages proposés permettent de vérifier les propriétés  du fichier obtenu ainsi que les variables qui pourront être utilisées. Ces affichages sont facultatifs et peuvent être commentés sans conséquence pour la suite."
   ]
  },
  {
   "cell_type": "code",
   "execution_count": 13,
   "metadata": {},
   "outputs": [],
   "source": [
    "tMaxLyon = nc.Dataset('http://geoloc-tremplin.ens-lyon.fr/climato-data/Lyon-1/tsmaxLyon-26-45-85.nc')\n",
    "#print('Description des données issues du modèle : \\n',tMaxLyon,'\\n') \n",
    "#print('Variables disponibles :',tMaxLyon.variables.keys()) # get all variable names\n",
    "#print('Taille du tableau tasmax :',tMaxLyon.variables['tasmax'].shape ,'\\n') "
   ]
  },
  {
   "cell_type": "markdown",
   "metadata": {},
   "source": [
    "## Liste des dimensions et des variables du système de données\n",
    "\n",
    "À partir de la liste des variables obtenue ci-dessus on renomme les jeux de données de chacune des variables qui seront exploitées apour effectuer les calculs et contrôle de la taille des échantillons. Les affichages proposés permettent de contrôler que les paramètres présents sont effectivement ceux qui sont attendus."
   ]
  },
  {
   "cell_type": "code",
   "execution_count": 14,
   "metadata": {},
   "outputs": [
    {
     "name": "stdout",
     "output_type": "stream",
     "text": [
      "('i', <class 'netCDF4._netCDF4.Dimension'>: name = 'i', size = 10\n",
      ")\n",
      "('j', <class 'netCDF4._netCDF4.Dimension'>: name = 'j', size = 10\n",
      ")\n",
      "('maxStrlen64', <class 'netCDF4._netCDF4.Dimension'>: name = 'maxStrlen64', size = 64\n",
      ")\n",
      "('month', <class 'netCDF4._netCDF4.Dimension'>: name = 'month', size = 13\n",
      ")\n",
      "('year', <class 'netCDF4._netCDF4.Dimension'>: name = 'year', size = 95\n",
      ")\n",
      "Variables \t  Forme \t\t Taille \t type :  \n",
      "\n",
      "i \t\t ('i',) \t\t (10,) \t int32\n",
      "j \t\t ('j',) \t\t (10,) \t int32\n",
      "month \t\t ('month', 'maxStrlen64') \t\t (13, 64) \t |S1\n",
      "year \t\t ('year',) \t\t (95,) \t int32\n",
      "lat \t\t ('j', 'i') \t\t (10, 10) \t float32\n",
      "lon \t\t ('j', 'i') \t\t (10, 10) \t float32\n",
      "x \t\t ('i',) \t\t (10,) \t int32\n",
      "y \t\t ('j',) \t\t (10,) \t int32\n",
      "temp_26 \t\t ('year', 'month', 'j', 'i') \t\t (95, 13, 10, 10) \t float32\n",
      "temp_45 \t\t ('year', 'month', 'j', 'i') \t\t (95, 13, 10, 10) \t float32\n",
      "temp_85 \t\t ('year', 'month', 'j', 'i') \t\t (95, 13, 10, 10) \t float32\n"
     ]
    }
   ],
   "source": [
    "for dim in tMaxLyon.dimensions.items():\n",
    "    print(dim)\n",
    "print ('Variables \\t  Forme \\t\\t Taille \\t type :  \\n')\n",
    "for var in tMaxLyon.variables.keys() :\n",
    "    print (var, '\\t\\t', \n",
    "           tMaxLyon.variables[var].dimensions, '\\t\\t', \n",
    "           tMaxLyon.variables[var].shape, '\\t', \n",
    "           tMaxLyon.variables[var].dtype)\n"
   ]
  },
  {
   "cell_type": "markdown",
   "metadata": {},
   "source": [
    "## Création des tableaux de calcul"
   ]
  },
  {
   "cell_type": "code",
   "execution_count": 15,
   "metadata": {},
   "outputs": [],
   "source": [
    "lyon_tmax26 = tMaxLyon.variables['temp_26']  # variable temperature \n",
    "lyon_tmax45 = tMaxLyon.variables['temp_45']  # variable temperature \n",
    "lyon_tmax85 = tMaxLyon.variables['temp_85']  # variable temperature \n",
    "lyon_month = nc.chartostring(tMaxLyon.variables['month'][:])  # variable temps\n",
    "lyon_year = tMaxLyon.variables['year']  # variable temps\n",
    "\n",
    "#test = nc.chartostring(tMaxLyon.variables['month'][:])\n",
    "#print(test)\n",
    "#test[:] = nc.chartostring(tMaxLyon.variables['month'][:],encoding='utf-8')\n",
    "#print(test)\n",
    "\n",
    "lyon_lat,lyon_lon = tMaxLyon.variables['lat'][:,:], tMaxLyon.variables['lon']  # latitude longitude\n",
    "lyon_x,lyon_y = tMaxLyon.variables['x'], tMaxLyon.variables['y']  # coordonnées métriques\n",
    "lyon_gridi,lyon_gridj = tMaxLyon.variables['i'], tMaxLyon.variables['j'] # coordonnées grille Aladin\n",
    "\n",
    "lenmonths = lyon_month.shape[0]\n",
    "\n",
    "#print ('\\n Taille des tableaux de calcul : \\n', \n",
    "#       '\\ntmax26 : ', lyon_tmax26.shape, lyon_tmax26[44,7,5,5],tMaxLyon.variables['temp_26'][44,7,5,5],\n",
    "#       '\\ntmax45 : ', lyon_tmax45.shape, lyon_tmax45[44,7,5,5],tMaxLyon.variables['temp_45'][44,7,5,5],\n",
    "#       '\\ntmax85 : ', lyon_tmax85.shape, lyon_tmax85[44,7,5,5],tMaxLyon.variables['temp_85'][44,7,5,5],\n",
    "#       '\\n\\nyear : ', lyon_year.shape, lyon_year[:],\n",
    "#       '\\nmonth : ', lyon_month.shape, lyon_month[:],\n",
    "#       '\\n\\nLat : ', lyon_lat.shape,  lyon_lat[0,:],\n",
    "#       '\\nLon : ', lyon_lon.shape, lyon_lon[0,:],\n",
    "#       '\\n\\nX : ', lyon_x.shape, lyon_x[:],\n",
    "#       '\\nY : ', lyon_y.shape, lyon_y[:],\n",
    "#       '\\n\\ni : ', lyon_gridi.shape, lyon_gridi[:],\n",
    "#       '\\nj : ', lyon_gridj.shape, lyon_gridj[:])"
   ]
  },
  {
   "cell_type": "markdown",
   "metadata": {},
   "source": [
    "Définition et affectation des variables où sont copiées les données conservées et où seront stockés les résultats des calculs. (La syntaxe du fichier netCDF reste à  vérifier). Les années seront calculées pendant le calcul principal, les affichages permettent de vérifier la validité des données utilisées."
   ]
  },
  {
   "cell_type": "markdown",
   "metadata": {},
   "source": [
    "## Calcul principal des moyennes par mois pour chaque noeud et toutes les années\n"
   ]
  },
  {
   "cell_type": "markdown",
   "metadata": {},
   "source": [
    "Les affichages suivants permettent de vérifier  que les données obtenues correspondent au format attendu"
   ]
  },
  {
   "cell_type": "markdown",
   "metadata": {},
   "source": [
    "### Calculs pour une seule période de  `yearInterval` années\n",
    "\n",
    "Calcul de la moyenne de températures du mois de `calcMonth` sur `yearInterval` années à partir de l'année `yearBegin` sur les noeuds allant de `(startj,starti)` de taille `(intervalj,intervali)`"
   ]
  },
  {
   "cell_type": "code",
   "execution_count": 16,
   "metadata": {},
   "outputs": [],
   "source": [
    "# Années\n",
    "yearBegin = 2010\n",
    "yearInterval = 30\n",
    "calcMonth = 4\n",
    "#  Grille i j\n",
    "starti = 5\n",
    "intervali = 4\n",
    "startj = 2\n",
    "intervalj = 4\n",
    "# Variables de calcul\n",
    "startYear = yearBegin - 2006\n",
    "endYear = startYear + yearInterval\n",
    "endi = starti + intervali\n",
    "endj = startj + intervalj\n",
    "loc_i = 2\n",
    "loc_j = 3\n",
    "locLon = lyon_lon[loc_j,loc_i]\n",
    "locLat = lyon_lat[loc_j,loc_i]\n",
    "locMonth = lyon_month[calcMonth]\n",
    "\n",
    "                          \n",
    "if not  (startYear >= 0) and (endYear <= lenyears) :\n",
    "    print('starting year or finishing year out of bounds')\n",
    "    sys.exit('giving up on year bounds')\n",
    "#print(gridj[loc_j])\n",
    "#print(gridi[loc_i])\n",
    "#print(locLon)\n",
    "#print(locLat)\n",
    "#print(locMonth)\n",
    "#print(startYear,':',endYear,',',calcMonth,',',startj,':',endj,',',starti,':',endi)\n",
    "#print(temp.shape)\n",
    "#print(np.mean(temp[startYear:endYear,calcMonth,startj:endj,starti:endi]))"
   ]
  },
  {
   "cell_type": "markdown",
   "metadata": {},
   "source": [
    "#### Une valeur pour un mois donné\n",
    "Calcul de la moyenne de températures du mois de `calcMonth` sur `yearInterval` années à partir de l'année `yearBegin` sur les noeuds allant de `(startj,starti)` de taille `(intervalj,intervali)`"
   ]
  },
  {
   "cell_type": "code",
   "execution_count": 17,
   "metadata": {},
   "outputs": [
    {
     "name": "stdout",
     "output_type": "stream",
     "text": [
      "\n",
      "Paramètres :\n",
      "Année de départ :  2010 \tAnnée de fin :  2040 Mois calculé :  May \n",
      "Coordonnées de la sous-grille : [ 5 , 2 ] - [ 9 , 6 ]\n",
      "\n",
      " Modèles\n",
      "\tScenario 2.6\tScenario 4.5\tScenario 8.5\n",
      "\t 19.968794 \t 20.335613 \t 20.056074\n"
     ]
    }
   ],
   "source": [
    "moyAreaInterval_26 = np.mean(lyon_tmax26[startYear:endYear,calcMonth,startj:endj,starti:endi]) \n",
    "moyAreaInterval_45 = np.mean(lyon_tmax45[startYear:endYear,calcMonth,startj:endj,starti:endi]) \n",
    "moyAreaInterval_85 = np.mean(lyon_tmax85[startYear:endYear,calcMonth,startj:endj,starti:endi])\n",
    "print('\\nParamètres :\\nAnnée de départ : ', yearBegin, \n",
    "      '\\tAnnée de fin : ', yearBegin + yearInterval, \n",
    "      'Mois calculé : ', lyon_month[calcMonth],\n",
    "      '\\nCoordonnées de la sous-grille : [', starti,',', startj, '] - [', endi,',', endj,']')\n",
    "print('\\n Modèles\\n\\tScenario 2.6\\tScenario 4.5\\tScenario 8.5')\n",
    "print('\\t', moyAreaInterval_26, '\\t', moyAreaInterval_45, '\\t', moyAreaInterval_85)"
   ]
  },
  {
   "cell_type": "markdown",
   "metadata": {},
   "source": [
    "#### Enregistrement du fichier 13 valeurs (une par mois et année)\n",
    "Calcul de la moyenne de températures annuelle et de tous les mois sur `yearInterval` années à partir de l'année `yearBegin` sur les noeuds allant de `(startj,starti)` de taille `(intervalj,intervali)`.  Les douze moyennes mensuelles sont suivies de la moyenne annuelle."
   ]
  },
  {
   "cell_type": "code",
   "execution_count": 18,
   "metadata": {},
   "outputs": [],
   "source": [
    "slice = lenmonths - 1 # slice = lenmonths pour traiter en plus la moyenne annuelle \n",
    "moyAreaInterval = [None] * slice\n",
    "moyAreaInterval[:] = np.mean(lyon_tmax26[startYear:endYear,:,startj:endj,starti:endi],axis=(0,2,3)) \n",
    "#print(moyAreaInterval[0:slice])\n",
    "with open('moyMonth.txt', 'w') as file :\n",
    "    for p in range(slice) :\n",
    "        file.write(lyon_month[p])\n",
    "        file.write(';')\n",
    "        file.write(str(moyAreaInterval[p]))\n",
    "        file.write('\\n')"
   ]
  },
  {
   "cell_type": "markdown",
   "metadata": {},
   "source": [
    "#### préparation de la création de figures\n",
    "On importe les bibliothèques plotly"
   ]
  },
  {
   "cell_type": "code",
   "execution_count": 19,
   "metadata": {},
   "outputs": [
    {
     "data": {
      "text/html": [
       "<script type=\"text/javascript\">window.PlotlyConfig = {MathJaxConfig: 'local'};</script><script type=\"text/javascript\">if (window.MathJax) {MathJax.Hub.Config({SVG: {font: \"STIX-Web\"}});}</script><script>requirejs.config({paths: { 'plotly': ['https://cdn.plot.ly/plotly-latest.min']},});if(!window._Plotly) {require(['plotly'],function(plotly) {window._Plotly=plotly;});}</script>"
      ],
      "text/vnd.plotly.v1+html": [
       "<script type=\"text/javascript\">window.PlotlyConfig = {MathJaxConfig: 'local'};</script><script type=\"text/javascript\">if (window.MathJax) {MathJax.Hub.Config({SVG: {font: \"STIX-Web\"}});}</script><script>requirejs.config({paths: { 'plotly': ['https://cdn.plot.ly/plotly-latest.min']},});if(!window._Plotly) {require(['plotly'],function(plotly) {window._Plotly=plotly;});}</script>"
      ]
     },
     "metadata": {},
     "output_type": "display_data"
    }
   ],
   "source": [
    "import plotly.offline as py\n",
    "import plotly.graph_objs as go\n",
    "from plotly import tools\n",
    "\n",
    "py.init_notebook_mode(connected=True)"
   ]
  },
  {
   "cell_type": "markdown",
   "metadata": {},
   "source": [
    "#### Création d'une figure bidimensionnelle \n",
    "Valeurs moyennes de la température max sur toute la région lyonnaise  au mois de juillet de l'horizon 2040. (Décommenter la dernière ligne du bloc pour afficher la figure)"
   ]
  },
  {
   "cell_type": "code",
   "execution_count": 20,
   "metadata": {},
   "outputs": [
    {
     "data": {
      "application/vnd.plotly.v1+json": {
       "config": {
        "linkText": "Export to plot.ly",
        "plotlyServerURL": "https://plot.ly",
        "showLink": false
       },
       "data": [
        {
         "type": "heatmap",
         "uid": "fb7ca039-63d0-4b7c-8524-5662e95a535b",
         "z": [
          [
           24.781991958618164,
           23.98523712158203,
           24.486242294311523,
           24.47858238220215,
           27.065059661865234,
           27.332307815551758,
           26.649965286254883,
           26.122995376586914,
           25.844694137573242,
           25.713768005371094
          ],
          [
           24.335176467895508,
           23.382938385009766,
           25.561386108398438,
           24.776044845581055,
           26.08458709716797,
           26.992937088012695,
           27.038135528564453,
           26.20003890991211,
           25.388235092163086,
           24.913541793823242
          ],
          [
           24.27952766418457,
           22.336238861083984,
           23.580488204956055,
           25.969715118408203,
           26.77593231201172,
           26.865236282348633,
           27.21408462524414,
           26.278440475463867,
           25.54610252380371,
           25.80591583251953
          ],
          [
           23.851022720336914,
           23.558456420898438,
           23.01118278503418,
           24.8428955078125,
           26.46719741821289,
           27.03591537475586,
           26.58036231994629,
           26.65568733215332,
           26.53631019592285,
           26.476947784423828
          ],
          [
           23.947349548339844,
           24.19624137878418,
           23.348310470581055,
           25.010812759399414,
           26.895944595336914,
           26.828170776367188,
           26.545942306518555,
           26.51034164428711,
           26.20625114440918,
           25.64529037475586
          ],
          [
           23.351991653442383,
           23.312578201293945,
           25.010812759399414,
           24.994543075561523,
           26.431041717529297,
           26.771488189697266,
           26.796796798706055,
           26.906511306762695,
           26.402332305908203,
           25.795202255249023
          ],
          [
           21.705411911010742,
           23.45736312866211,
           24.461143493652344,
           25.099594116210938,
           26.400753021240234,
           26.28078842163086,
           25.99175453186035,
           26.480419158935547,
           26.013160705566406,
           25.977869033813477
          ],
          [
           22.21384048461914,
           23.339155197143555,
           24.010387420654297,
           24.8408260345459,
           26.34168243408203,
           25.48967170715332,
           25.468734741210938,
           25.397342681884766,
           25.21486473083496,
           25.33574867248535
          ],
          [
           23.132200241088867,
           23.19475746154785,
           23.165782928466797,
           25.230567932128906,
           26.172603607177734,
           25.496479034423828,
           25.48259925842285,
           25.403743743896484,
           24.925874710083008,
           25.30390739440918
          ],
          [
           21.978918075561523,
           22.51279067993164,
           23.836702346801758,
           25.5980224609375,
           26.109926223754883,
           25.87744140625,
           25.79439353942871,
           25.368120193481445,
           25.02130699157715,
           25.041828155517578
          ]
         ]
        }
       ],
       "layout": {
        "autosize": false,
        "height": 800,
        "title": {
         "text": "Température moyenne maximale du mois de juillet horizon 2040"
        },
        "width": 800,
        "xaxis": {
         "autorange": true,
         "range": [
          -0.5,
          9.5
         ],
         "showline": true,
         "showticklabels": true,
         "ticklen": 5,
         "title": {
          "text": "Aladin grid J"
         }
        },
        "yaxis": {
         "autorange": true,
         "range": [
          -0.5,
          9.5
         ],
         "showline": true,
         "showticklabels": true,
         "title": {
          "text": "Aladin grid I"
         }
        }
       }
      },
      "image/png": "[encoded data removed]",
      "text/html": [
       "<div id=\"5a96418f-4210-4e36-b0be-3f0fbbca0891\" style=\"height: 800px; width: 800px;\" class=\"plotly-graph-div\"></div><script type=\"text/javascript\">require([\"plotly\"], function(Plotly) { window.PLOTLYENV=window.PLOTLYENV || {};window.PLOTLYENV.BASE_URL=\"https://plot.ly\";Plotly.newPlot(\"5a96418f-4210-4e36-b0be-3f0fbbca0891\", [{\"z\": [[24.781991958618164, 23.98523712158203, 24.486242294311523, 24.47858238220215, 27.065059661865234, 27.332307815551758, 26.649965286254883, 26.122995376586914, 25.844694137573242, 25.713768005371094], [24.335176467895508, 23.382938385009766, 25.561386108398438, 24.776044845581055, 26.08458709716797, 26.992937088012695, 27.038135528564453, 26.20003890991211, 25.388235092163086, 24.913541793823242], [24.27952766418457, 22.336238861083984, 23.580488204956055, 25.969715118408203, 26.77593231201172, 26.865236282348633, 27.21408462524414, 26.278440475463867, 25.54610252380371, 25.80591583251953], [23.851022720336914, 23.558456420898438, 23.01118278503418, 24.8428955078125, 26.46719741821289, 27.03591537475586, 26.58036231994629, 26.65568733215332, 26.53631019592285, 26.476947784423828], [23.947349548339844, 24.19624137878418, 23.348310470581055, 25.010812759399414, 26.895944595336914, 26.828170776367188, 26.545942306518555, 26.51034164428711, 26.20625114440918, 25.64529037475586], [23.351991653442383, 23.312578201293945, 25.010812759399414, 24.994543075561523, 26.431041717529297, 26.771488189697266, 26.796796798706055, 26.906511306762695, 26.402332305908203, 25.795202255249023], [21.705411911010742, 23.45736312866211, 24.461143493652344, 25.099594116210938, 26.400753021240234, 26.28078842163086, 25.99175453186035, 26.480419158935547, 26.013160705566406, 25.977869033813477], [22.21384048461914, 23.339155197143555, 24.010387420654297, 24.8408260345459, 26.34168243408203, 25.48967170715332, 25.468734741210938, 25.397342681884766, 25.21486473083496, 25.33574867248535], [23.132200241088867, 23.19475746154785, 23.165782928466797, 25.230567932128906, 26.172603607177734, 25.496479034423828, 25.48259925842285, 25.403743743896484, 24.925874710083008, 25.30390739440918], [21.978918075561523, 22.51279067993164, 23.836702346801758, 25.5980224609375, 26.109926223754883, 25.87744140625, 25.79439353942871, 25.368120193481445, 25.02130699157715, 25.041828155517578]], \"type\": \"heatmap\", \"uid\": \"f1e65c91-c739-42fa-84d4-c209ac2290a1\"}], {\"autosize\": false, \"height\": 800, \"title\": {\"text\": \"Temp\\u00e9rature moyenne maximale du mois de juillet horizon 2040\"}, \"width\": 800, \"xaxis\": {\"showline\": true, \"showticklabels\": true, \"ticklen\": 5, \"title\": {\"text\": \"Aladin grid J\"}}, \"yaxis\": {\"showline\": true, \"showticklabels\": true, \"title\": {\"text\": \"Aladin grid I\"}}}, {\"showLink\": false, \"linkText\": \"Export to plot.ly\", \"plotlyServerURL\": \"https://plot.ly\"})});</script>"
      ],
      "text/vnd.plotly.v1+html": [
       "<div id=\"5a96418f-4210-4e36-b0be-3f0fbbca0891\" style=\"height: 800px; width: 800px;\" class=\"plotly-graph-div\"></div><script type=\"text/javascript\">require([\"plotly\"], function(Plotly) { window.PLOTLYENV=window.PLOTLYENV || {};window.PLOTLYENV.BASE_URL=\"https://plot.ly\";Plotly.newPlot(\"5a96418f-4210-4e36-b0be-3f0fbbca0891\", [{\"z\": [[24.781991958618164, 23.98523712158203, 24.486242294311523, 24.47858238220215, 27.065059661865234, 27.332307815551758, 26.649965286254883, 26.122995376586914, 25.844694137573242, 25.713768005371094], [24.335176467895508, 23.382938385009766, 25.561386108398438, 24.776044845581055, 26.08458709716797, 26.992937088012695, 27.038135528564453, 26.20003890991211, 25.388235092163086, 24.913541793823242], [24.27952766418457, 22.336238861083984, 23.580488204956055, 25.969715118408203, 26.77593231201172, 26.865236282348633, 27.21408462524414, 26.278440475463867, 25.54610252380371, 25.80591583251953], [23.851022720336914, 23.558456420898438, 23.01118278503418, 24.8428955078125, 26.46719741821289, 27.03591537475586, 26.58036231994629, 26.65568733215332, 26.53631019592285, 26.476947784423828], [23.947349548339844, 24.19624137878418, 23.348310470581055, 25.010812759399414, 26.895944595336914, 26.828170776367188, 26.545942306518555, 26.51034164428711, 26.20625114440918, 25.64529037475586], [23.351991653442383, 23.312578201293945, 25.010812759399414, 24.994543075561523, 26.431041717529297, 26.771488189697266, 26.796796798706055, 26.906511306762695, 26.402332305908203, 25.795202255249023], [21.705411911010742, 23.45736312866211, 24.461143493652344, 25.099594116210938, 26.400753021240234, 26.28078842163086, 25.99175453186035, 26.480419158935547, 26.013160705566406, 25.977869033813477], [22.21384048461914, 23.339155197143555, 24.010387420654297, 24.8408260345459, 26.34168243408203, 25.48967170715332, 25.468734741210938, 25.397342681884766, 25.21486473083496, 25.33574867248535], [23.132200241088867, 23.19475746154785, 23.165782928466797, 25.230567932128906, 26.172603607177734, 25.496479034423828, 25.48259925842285, 25.403743743896484, 24.925874710083008, 25.30390739440918], [21.978918075561523, 22.51279067993164, 23.836702346801758, 25.5980224609375, 26.109926223754883, 25.87744140625, 25.79439353942871, 25.368120193481445, 25.02130699157715, 25.041828155517578]], \"type\": \"heatmap\", \"uid\": \"f1e65c91-c739-42fa-84d4-c209ac2290a1\"}], {\"autosize\": false, \"height\": 800, \"title\": {\"text\": \"Temp\\u00e9rature moyenne maximale du mois de juillet horizon 2040\"}, \"width\": 800, \"xaxis\": {\"showline\": true, \"showticklabels\": true, \"ticklen\": 5, \"title\": {\"text\": \"Aladin grid J\"}}, \"yaxis\": {\"showline\": true, \"showticklabels\": true, \"title\": {\"text\": \"Aladin grid I\"}}}, {\"showLink\": false, \"linkText\": \"Export to plot.ly\", \"plotlyServerURL\": \"https://plot.ly\"})});</script>"
      ]
     },
     "metadata": {},
     "output_type": "display_data"
    }
   ],
   "source": [
    "trace0 = go.Heatmap(z=lyon_tmax26[0,6,:,:].tolist())\n",
    "data=[trace0]\n",
    "layout = dict (\n",
    "    title = \"Température moyenne maximale du mois de juillet horizon 2040\",\n",
    "    autosize=False,\n",
    "    width=800,\n",
    "    height=800,        \n",
    "    xaxis = dict(\n",
    "        title = 'Aladin grid J',\n",
    "        showline=True,\n",
    "        showticklabels=True,\n",
    "        ticklen=5\n",
    "    ),\n",
    "    yaxis = dict(\n",
    "        title = 'Aladin grid I',\n",
    "        showline=True,\n",
    "        showticklabels=True\n",
    "    ),         \n",
    ")\n",
    "fig = dict(data=data, layout=layout)\n",
    "py.iplot(fig, filename='basic-heatmap')"
   ]
  },
  {
   "cell_type": "markdown",
   "metadata": {},
   "source": [
    "#### Comparaison de 3 horizons pour le mois de juillet en région lyonnaise\n",
    "Ce bloc utilise les données mises en forme dans le bloc précédent pour afficher une comparaison entre  3 horizons. (Décommenter la dernière ligne du bloc pour afficher la figure)"
   ]
  },
  {
   "cell_type": "code",
   "execution_count": 22,
   "metadata": {},
   "outputs": [
    {
     "name": "stdout",
     "output_type": "stream",
     "text": [
      "This is the format of your plot grid:\n",
      "[ (1,1) x1,y1 ]  [ (1,2) x2,y2 ]  [ (1,3) x3,y3 ]\n",
      "\n"
     ]
    },
    {
     "data": {
      "application/vnd.plotly.v1+json": {
       "config": {
        "linkText": "Export to plot.ly",
        "plotlyServerURL": "https://plot.ly",
        "showLink": false
       },
       "data": [
        {
         "type": "heatmap",
         "uid": "9560de4d-e305-43ef-9c3b-7c178bc111f7",
         "xaxis": "x",
         "yaxis": "y",
         "z": [
          [
           24.781991958618164,
           23.98523712158203,
           24.486242294311523,
           24.47858238220215,
           27.065059661865234,
           27.332307815551758,
           26.649965286254883,
           26.122995376586914,
           25.844694137573242,
           25.713768005371094
          ],
          [
           24.335176467895508,
           23.382938385009766,
           25.561386108398438,
           24.776044845581055,
           26.08458709716797,
           26.992937088012695,
           27.038135528564453,
           26.20003890991211,
           25.388235092163086,
           24.913541793823242
          ],
          [
           24.27952766418457,
           22.336238861083984,
           23.580488204956055,
           25.969715118408203,
           26.77593231201172,
           26.865236282348633,
           27.21408462524414,
           26.278440475463867,
           25.54610252380371,
           25.80591583251953
          ],
          [
           23.851022720336914,
           23.558456420898438,
           23.01118278503418,
           24.8428955078125,
           26.46719741821289,
           27.03591537475586,
           26.58036231994629,
           26.65568733215332,
           26.53631019592285,
           26.476947784423828
          ],
          [
           23.947349548339844,
           24.19624137878418,
           23.348310470581055,
           25.010812759399414,
           26.895944595336914,
           26.828170776367188,
           26.545942306518555,
           26.51034164428711,
           26.20625114440918,
           25.64529037475586
          ],
          [
           23.351991653442383,
           23.312578201293945,
           25.010812759399414,
           24.994543075561523,
           26.431041717529297,
           26.771488189697266,
           26.796796798706055,
           26.906511306762695,
           26.402332305908203,
           25.795202255249023
          ],
          [
           21.705411911010742,
           23.45736312866211,
           24.461143493652344,
           25.099594116210938,
           26.400753021240234,
           26.28078842163086,
           25.99175453186035,
           26.480419158935547,
           26.013160705566406,
           25.977869033813477
          ],
          [
           22.21384048461914,
           23.339155197143555,
           24.010387420654297,
           24.8408260345459,
           26.34168243408203,
           25.48967170715332,
           25.468734741210938,
           25.397342681884766,
           25.21486473083496,
           25.33574867248535
          ],
          [
           23.132200241088867,
           23.19475746154785,
           23.165782928466797,
           25.230567932128906,
           26.172603607177734,
           25.496479034423828,
           25.48259925842285,
           25.403743743896484,
           24.925874710083008,
           25.30390739440918
          ],
          [
           21.978918075561523,
           22.51279067993164,
           23.836702346801758,
           25.5980224609375,
           26.109926223754883,
           25.87744140625,
           25.79439353942871,
           25.368120193481445,
           25.02130699157715,
           25.041828155517578
          ]
         ],
         "zauto": false,
         "zmax": 28,
         "zmin": 20
        },
        {
         "type": "heatmap",
         "uid": "79293c39-4044-4716-aac7-bff42e17a02d",
         "xaxis": "x2",
         "yaxis": "y2",
         "z": [
          [
           25.52564239501953,
           24.73052406311035,
           24.893070220947266,
           24.8852481842041,
           27.204599380493164,
           27.018362045288086,
           26.31653594970703,
           25.680545806884766,
           25.824281692504883,
           25.69666862487793
          ],
          [
           25.04378318786621,
           24.084806442260742,
           26.24105453491211,
           25.405620574951172,
           26.101850509643555,
           26.30216407775879,
           26.346290588378906,
           25.970598220825195,
           25.650545120239258,
           25.18616485595703
          ],
          [
           24.560775756835938,
           23.062210083007812,
           24.157207489013672,
           26.57445526123047,
           26.782270431518555,
           26.52649688720703,
           26.527917861938477,
           26.05434799194336,
           25.805908203125,
           26.059730529785156
          ],
          [
           24.794437408447266,
           24.506332397460938,
           23.92806053161621,
           25.7650089263916,
           26.58453941345215,
           26.606916427612305,
           26.146936416625977,
           26.285707473754883,
           27.073537826538086,
           27.007678985595703
          ],
          [
           25.245853424072266,
           25.470548629760742,
           24.42229652404785,
           26.08597755432129,
           27.032289505004883,
           27.306346893310547,
           27.02350425720215,
           26.64361000061035,
           27.192649841308594,
           26.641340255737305
          ],
          [
           24.639982223510742,
           24.604780197143555,
           26.08597755432129,
           26.0685977935791,
           26.536914825439453,
           27.250732421875,
           27.274736404418945,
           27.140705108642578,
           27.38637924194336,
           26.800134658813477
          ],
          [
           23.076908111572266,
           24.824506759643555,
           25.523115158081055,
           26.149436950683594,
           26.568662643432617,
           26.578584671020508,
           26.328693389892578,
           26.856483459472656,
           27.146995544433594,
           27.112241744995117
          ],
          [
           23.934551239013672,
           25.052003860473633,
           25.388347625732422,
           26.197946548461914,
           26.776212692260742,
           26.081317901611328,
           26.062253952026367,
           26.462276458740234,
           26.968591690063477,
           27.070552825927734
          ],
          [
           24.856477737426758,
           24.912996292114258,
           24.676979064941406,
           26.584861755371094,
           26.634401321411133,
           26.087757110595703,
           26.07500648498535,
           26.468538284301758,
           26.708436965942383,
           27.04576873779297
          ],
          [
           24.123188018798828,
           24.668094635009766,
           25.08295249938965,
           26.71172332763672,
           26.658626556396484,
           26.054553985595703,
           25.968950271606445,
           26.31079864501953,
           26.527366638183594,
           26.547182083129883
          ]
         ],
         "zauto": false,
         "zmax": 28,
         "zmin": 20
        },
        {
         "type": "heatmap",
         "uid": "9fe9eca4-e25e-425a-a13b-4e744a42167b",
         "xaxis": "x3",
         "yaxis": "y3",
         "z": [
          [
           25.297910690307617,
           24.485370635986328,
           24.630964279174805,
           24.62255859375,
           26.30674171447754,
           26.66478729248047,
           25.97292709350586,
           25.91478157043457,
           25.313493728637695,
           25.181604385375977
          ],
          [
           24.621896743774414,
           23.574321746826172,
           25.631977081298828,
           24.70244026184082,
           25.4201717376709,
           26.33486557006836,
           26.375534057617188,
           25.537700653076172,
           24.805809020996094,
           24.380390167236328
          ],
          [
           24.732807159423828,
           22.555124282836914,
           23.481800079345703,
           25.910337448120117,
           26.119709014892578,
           26.753889083862305,
           26.54734230041504,
           25.621353149414062,
           24.958351135253906,
           25.20682716369629
          ],
          [
           24.146997451782227,
           23.870933532714844,
           23.247936248779297,
           25.028827667236328,
           26.283971786499023,
           26.75785255432129,
           26.263010025024414,
           26.31574249267578,
           25.954357147216797,
           25.893278121948242
          ],
          [
           24.371889114379883,
           24.62490463256836,
           23.750343322753906,
           25.36093521118164,
           26.465801239013672,
           26.786680221557617,
           26.507400512695312,
           26.273212432861328,
           25.890602111816406,
           25.32342529296875
          ],
          [
           23.783594131469727,
           23.744050979614258,
           25.36093521118164,
           25.343238830566406,
           25.9122314453125,
           26.725818634033203,
           26.75225257873535,
           26.8267822265625,
           26.084306716918945,
           25.478023529052734
          ],
          [
           22.08087921142578,
           23.813066482543945,
           24.732332229614258,
           25.35736083984375,
           26.25822639465332,
           25.94251251220703,
           25.695533752441406,
           26.06207275390625,
           25.500839233398438,
           25.464784622192383
          ],
          [
           22.872539520263672,
           23.997215270996094,
           24.498218536376953,
           25.32314682006836,
           26.090314865112305,
           25.152868270874023,
           25.13247299194336,
           25.051891326904297,
           25.083984375,
           25.201072692871094
          ],
          [
           23.779966354370117,
           23.840547561645508,
           23.69404411315918,
           25.723018646240234,
           25.9706974029541,
           25.159076690673828,
           25.146240234375,
           25.058963775634766,
           24.78685760498047,
           25.170181274414062
          ],
          [
           22.99332618713379,
           23.528087615966797,
           24.227163314819336,
           25.969985961914062,
           25.94820213317871,
           25.496522903442383,
           25.408876419067383,
           25.018939971923828,
           24.75677490234375,
           24.77669334411621
          ]
         ],
         "zauto": false,
         "zmax": 28,
         "zmin": 20
        }
       ],
       "layout": {
        "annotations": [
         {
          "font": {
           "size": 16
          },
          "showarrow": false,
          "text": "horizon 2030",
          "x": 0.14444444444444446,
          "xanchor": "center",
          "xref": "paper",
          "y": 1,
          "yanchor": "bottom",
          "yref": "paper"
         },
         {
          "font": {
           "size": 16
          },
          "showarrow": false,
          "text": "horizon 2060",
          "x": 0.5,
          "xanchor": "center",
          "xref": "paper",
          "y": 1,
          "yanchor": "bottom",
          "yref": "paper"
         },
         {
          "font": {
           "size": 16
          },
          "showarrow": false,
          "text": "horizon 2090",
          "x": 0.8555555555555556,
          "xanchor": "center",
          "xref": "paper",
          "y": 1,
          "yanchor": "bottom",
          "yref": "paper"
         }
        ],
        "autosize": false,
        "height": 380,
        "title": {
         "text": "Température moyenne maximale du mois de juillet"
        },
        "width": 800,
        "xaxis": {
         "anchor": "y",
         "autorange": true,
         "domain": [
          0,
          0.2888888888888889
         ],
         "range": [
          -0.5,
          9.5
         ],
         "title": {
          "text": "Aladin grid J"
         }
        },
        "xaxis2": {
         "anchor": "y2",
         "autorange": true,
         "domain": [
          0.35555555555555557,
          0.6444444444444445
         ],
         "range": [
          -0.5,
          9.5
         ],
         "title": {
          "text": "Aladin grid J"
         }
        },
        "xaxis3": {
         "anchor": "y3",
         "autorange": true,
         "domain": [
          0.7111111111111111,
          1
         ],
         "range": [
          -0.5,
          9.5
         ],
         "title": {
          "text": "Aladin grid J"
         }
        },
        "yaxis": {
         "anchor": "x",
         "autorange": true,
         "domain": [
          0,
          1
         ],
         "range": [
          -0.5,
          9.5
         ],
         "title": {
          "text": "Aladin grid I"
         }
        },
        "yaxis2": {
         "anchor": "x2",
         "autorange": true,
         "domain": [
          0,
          1
         ],
         "range": [
          -0.5,
          9.5
         ]
        },
        "yaxis3": {
         "anchor": "x3",
         "autorange": true,
         "domain": [
          0,
          1
         ],
         "range": [
          -0.5,
          9.5
         ]
        }
       }
      },
      "image/png": "[encoded data removed]",
      "text/html": [
       "<div id=\"b4efd643-e406-490b-97d7-b2cb513f71f0\" style=\"height: 380px; width: 800px;\" class=\"plotly-graph-div\"></div><script type=\"text/javascript\">require([\"plotly\"], function(Plotly) { window.PLOTLYENV=window.PLOTLYENV || {};window.PLOTLYENV.BASE_URL=\"https://plot.ly\";Plotly.newPlot(\"b4efd643-e406-490b-97d7-b2cb513f71f0\", [{\"z\": [[24.781991958618164, 23.98523712158203, 24.486242294311523, 24.47858238220215, 27.065059661865234, 27.332307815551758, 26.649965286254883, 26.122995376586914, 25.844694137573242, 25.713768005371094], [24.335176467895508, 23.382938385009766, 25.561386108398438, 24.776044845581055, 26.08458709716797, 26.992937088012695, 27.038135528564453, 26.20003890991211, 25.388235092163086, 24.913541793823242], [24.27952766418457, 22.336238861083984, 23.580488204956055, 25.969715118408203, 26.77593231201172, 26.865236282348633, 27.21408462524414, 26.278440475463867, 25.54610252380371, 25.80591583251953], [23.851022720336914, 23.558456420898438, 23.01118278503418, 24.8428955078125, 26.46719741821289, 27.03591537475586, 26.58036231994629, 26.65568733215332, 26.53631019592285, 26.476947784423828], [23.947349548339844, 24.19624137878418, 23.348310470581055, 25.010812759399414, 26.895944595336914, 26.828170776367188, 26.545942306518555, 26.51034164428711, 26.20625114440918, 25.64529037475586], [23.351991653442383, 23.312578201293945, 25.010812759399414, 24.994543075561523, 26.431041717529297, 26.771488189697266, 26.796796798706055, 26.906511306762695, 26.402332305908203, 25.795202255249023], [21.705411911010742, 23.45736312866211, 24.461143493652344, 25.099594116210938, 26.400753021240234, 26.28078842163086, 25.99175453186035, 26.480419158935547, 26.013160705566406, 25.977869033813477], [22.21384048461914, 23.339155197143555, 24.010387420654297, 24.8408260345459, 26.34168243408203, 25.48967170715332, 25.468734741210938, 25.397342681884766, 25.21486473083496, 25.33574867248535], [23.132200241088867, 23.19475746154785, 23.165782928466797, 25.230567932128906, 26.172603607177734, 25.496479034423828, 25.48259925842285, 25.403743743896484, 24.925874710083008, 25.30390739440918], [21.978918075561523, 22.51279067993164, 23.836702346801758, 25.5980224609375, 26.109926223754883, 25.87744140625, 25.79439353942871, 25.368120193481445, 25.02130699157715, 25.041828155517578]], \"zauto\": false, \"zmax\": 28, \"zmin\": 20, \"type\": \"heatmap\", \"uid\": \"9560de4d-e305-43ef-9c3b-7c178bc111f7\", \"xaxis\": \"x\", \"yaxis\": \"y\"}, {\"z\": [[25.52564239501953, 24.73052406311035, 24.893070220947266, 24.8852481842041, 27.204599380493164, 27.018362045288086, 26.31653594970703, 25.680545806884766, 25.824281692504883, 25.69666862487793], [25.04378318786621, 24.084806442260742, 26.24105453491211, 25.405620574951172, 26.101850509643555, 26.30216407775879, 26.346290588378906, 25.970598220825195, 25.650545120239258, 25.18616485595703], [24.560775756835938, 23.062210083007812, 24.157207489013672, 26.57445526123047, 26.782270431518555, 26.52649688720703, 26.527917861938477, 26.05434799194336, 25.805908203125, 26.059730529785156], [24.794437408447266, 24.506332397460938, 23.92806053161621, 25.7650089263916, 26.58453941345215, 26.606916427612305, 26.146936416625977, 26.285707473754883, 27.073537826538086, 27.007678985595703], [25.245853424072266, 25.470548629760742, 24.42229652404785, 26.08597755432129, 27.032289505004883, 27.306346893310547, 27.02350425720215, 26.64361000061035, 27.192649841308594, 26.641340255737305], [24.639982223510742, 24.604780197143555, 26.08597755432129, 26.0685977935791, 26.536914825439453, 27.250732421875, 27.274736404418945, 27.140705108642578, 27.38637924194336, 26.800134658813477], [23.076908111572266, 24.824506759643555, 25.523115158081055, 26.149436950683594, 26.568662643432617, 26.578584671020508, 26.328693389892578, 26.856483459472656, 27.146995544433594, 27.112241744995117], [23.934551239013672, 25.052003860473633, 25.388347625732422, 26.197946548461914, 26.776212692260742, 26.081317901611328, 26.062253952026367, 26.462276458740234, 26.968591690063477, 27.070552825927734], [24.856477737426758, 24.912996292114258, 24.676979064941406, 26.584861755371094, 26.634401321411133, 26.087757110595703, 26.07500648498535, 26.468538284301758, 26.708436965942383, 27.04576873779297], [24.123188018798828, 24.668094635009766, 25.08295249938965, 26.71172332763672, 26.658626556396484, 26.054553985595703, 25.968950271606445, 26.31079864501953, 26.527366638183594, 26.547182083129883]], \"zauto\": false, \"zmax\": 28, \"zmin\": 20, \"type\": \"heatmap\", \"uid\": \"79293c39-4044-4716-aac7-bff42e17a02d\", \"xaxis\": \"x2\", \"yaxis\": \"y2\"}, {\"z\": [[25.297910690307617, 24.485370635986328, 24.630964279174805, 24.62255859375, 26.30674171447754, 26.66478729248047, 25.97292709350586, 25.91478157043457, 25.313493728637695, 25.181604385375977], [24.621896743774414, 23.574321746826172, 25.631977081298828, 24.70244026184082, 25.4201717376709, 26.33486557006836, 26.375534057617188, 25.537700653076172, 24.805809020996094, 24.380390167236328], [24.732807159423828, 22.555124282836914, 23.481800079345703, 25.910337448120117, 26.119709014892578, 26.753889083862305, 26.54734230041504, 25.621353149414062, 24.958351135253906, 25.20682716369629], [24.146997451782227, 23.870933532714844, 23.247936248779297, 25.028827667236328, 26.283971786499023, 26.75785255432129, 26.263010025024414, 26.31574249267578, 25.954357147216797, 25.893278121948242], [24.371889114379883, 24.62490463256836, 23.750343322753906, 25.36093521118164, 26.465801239013672, 26.786680221557617, 26.507400512695312, 26.273212432861328, 25.890602111816406, 25.32342529296875], [23.783594131469727, 23.744050979614258, 25.36093521118164, 25.343238830566406, 25.9122314453125, 26.725818634033203, 26.75225257873535, 26.8267822265625, 26.084306716918945, 25.478023529052734], [22.08087921142578, 23.813066482543945, 24.732332229614258, 25.35736083984375, 26.25822639465332, 25.94251251220703, 25.695533752441406, 26.06207275390625, 25.500839233398438, 25.464784622192383], [22.872539520263672, 23.997215270996094, 24.498218536376953, 25.32314682006836, 26.090314865112305, 25.152868270874023, 25.13247299194336, 25.051891326904297, 25.083984375, 25.201072692871094], [23.779966354370117, 23.840547561645508, 23.69404411315918, 25.723018646240234, 25.9706974029541, 25.159076690673828, 25.146240234375, 25.058963775634766, 24.78685760498047, 25.170181274414062], [22.99332618713379, 23.528087615966797, 24.227163314819336, 25.969985961914062, 25.94820213317871, 25.496522903442383, 25.408876419067383, 25.018939971923828, 24.75677490234375, 24.77669334411621]], \"zauto\": false, \"zmax\": 28, \"zmin\": 20, \"type\": \"heatmap\", \"uid\": \"9fe9eca4-e25e-425a-a13b-4e744a42167b\", \"xaxis\": \"x3\", \"yaxis\": \"y3\"}], {\"annotations\": [{\"font\": {\"size\": 16}, \"showarrow\": false, \"text\": \"horizon 2030\", \"x\": 0.14444444444444446, \"xanchor\": \"center\", \"xref\": \"paper\", \"y\": 1.0, \"yanchor\": \"bottom\", \"yref\": \"paper\"}, {\"font\": {\"size\": 16}, \"showarrow\": false, \"text\": \"horizon 2060\", \"x\": 0.5, \"xanchor\": \"center\", \"xref\": \"paper\", \"y\": 1.0, \"yanchor\": \"bottom\", \"yref\": \"paper\"}, {\"font\": {\"size\": 16}, \"showarrow\": false, \"text\": \"horizon 2090\", \"x\": 0.8555555555555556, \"xanchor\": \"center\", \"xref\": \"paper\", \"y\": 1.0, \"yanchor\": \"bottom\", \"yref\": \"paper\"}], \"xaxis\": {\"anchor\": \"y\", \"domain\": [0.0, 0.2888888888888889], \"title\": {\"text\": \"Aladin grid J\"}}, \"yaxis\": {\"anchor\": \"x\", \"domain\": [0.0, 1.0], \"title\": {\"text\": \"Aladin grid I\"}}, \"xaxis2\": {\"anchor\": \"y2\", \"domain\": [0.35555555555555557, 0.6444444444444445], \"title\": {\"text\": \"Aladin grid J\"}}, \"yaxis2\": {\"anchor\": \"x2\", \"domain\": [0.0, 1.0]}, \"xaxis3\": {\"anchor\": \"y3\", \"domain\": [0.7111111111111111, 1.0], \"title\": {\"text\": \"Aladin grid J\"}}, \"yaxis3\": {\"anchor\": \"x3\", \"domain\": [0.0, 1.0]}, \"title\": {\"text\": \"Temp\\u00e9rature moyenne maximale du mois de juillet\"}, \"autosize\": false, \"width\": 800, \"height\": 380}, {\"showLink\": false, \"linkText\": \"Export to plot.ly\", \"plotlyServerURL\": \"https://plot.ly\"})});</script>"
      ],
      "text/vnd.plotly.v1+html": [
       "<div id=\"b4efd643-e406-490b-97d7-b2cb513f71f0\" style=\"height: 380px; width: 800px;\" class=\"plotly-graph-div\"></div><script type=\"text/javascript\">require([\"plotly\"], function(Plotly) { window.PLOTLYENV=window.PLOTLYENV || {};window.PLOTLYENV.BASE_URL=\"https://plot.ly\";Plotly.newPlot(\"b4efd643-e406-490b-97d7-b2cb513f71f0\", [{\"z\": [[24.781991958618164, 23.98523712158203, 24.486242294311523, 24.47858238220215, 27.065059661865234, 27.332307815551758, 26.649965286254883, 26.122995376586914, 25.844694137573242, 25.713768005371094], [24.335176467895508, 23.382938385009766, 25.561386108398438, 24.776044845581055, 26.08458709716797, 26.992937088012695, 27.038135528564453, 26.20003890991211, 25.388235092163086, 24.913541793823242], [24.27952766418457, 22.336238861083984, 23.580488204956055, 25.969715118408203, 26.77593231201172, 26.865236282348633, 27.21408462524414, 26.278440475463867, 25.54610252380371, 25.80591583251953], [23.851022720336914, 23.558456420898438, 23.01118278503418, 24.8428955078125, 26.46719741821289, 27.03591537475586, 26.58036231994629, 26.65568733215332, 26.53631019592285, 26.476947784423828], [23.947349548339844, 24.19624137878418, 23.348310470581055, 25.010812759399414, 26.895944595336914, 26.828170776367188, 26.545942306518555, 26.51034164428711, 26.20625114440918, 25.64529037475586], [23.351991653442383, 23.312578201293945, 25.010812759399414, 24.994543075561523, 26.431041717529297, 26.771488189697266, 26.796796798706055, 26.906511306762695, 26.402332305908203, 25.795202255249023], [21.705411911010742, 23.45736312866211, 24.461143493652344, 25.099594116210938, 26.400753021240234, 26.28078842163086, 25.99175453186035, 26.480419158935547, 26.013160705566406, 25.977869033813477], [22.21384048461914, 23.339155197143555, 24.010387420654297, 24.8408260345459, 26.34168243408203, 25.48967170715332, 25.468734741210938, 25.397342681884766, 25.21486473083496, 25.33574867248535], [23.132200241088867, 23.19475746154785, 23.165782928466797, 25.230567932128906, 26.172603607177734, 25.496479034423828, 25.48259925842285, 25.403743743896484, 24.925874710083008, 25.30390739440918], [21.978918075561523, 22.51279067993164, 23.836702346801758, 25.5980224609375, 26.109926223754883, 25.87744140625, 25.79439353942871, 25.368120193481445, 25.02130699157715, 25.041828155517578]], \"zauto\": false, \"zmax\": 28, \"zmin\": 20, \"type\": \"heatmap\", \"uid\": \"9560de4d-e305-43ef-9c3b-7c178bc111f7\", \"xaxis\": \"x\", \"yaxis\": \"y\"}, {\"z\": [[25.52564239501953, 24.73052406311035, 24.893070220947266, 24.8852481842041, 27.204599380493164, 27.018362045288086, 26.31653594970703, 25.680545806884766, 25.824281692504883, 25.69666862487793], [25.04378318786621, 24.084806442260742, 26.24105453491211, 25.405620574951172, 26.101850509643555, 26.30216407775879, 26.346290588378906, 25.970598220825195, 25.650545120239258, 25.18616485595703], [24.560775756835938, 23.062210083007812, 24.157207489013672, 26.57445526123047, 26.782270431518555, 26.52649688720703, 26.527917861938477, 26.05434799194336, 25.805908203125, 26.059730529785156], [24.794437408447266, 24.506332397460938, 23.92806053161621, 25.7650089263916, 26.58453941345215, 26.606916427612305, 26.146936416625977, 26.285707473754883, 27.073537826538086, 27.007678985595703], [25.245853424072266, 25.470548629760742, 24.42229652404785, 26.08597755432129, 27.032289505004883, 27.306346893310547, 27.02350425720215, 26.64361000061035, 27.192649841308594, 26.641340255737305], [24.639982223510742, 24.604780197143555, 26.08597755432129, 26.0685977935791, 26.536914825439453, 27.250732421875, 27.274736404418945, 27.140705108642578, 27.38637924194336, 26.800134658813477], [23.076908111572266, 24.824506759643555, 25.523115158081055, 26.149436950683594, 26.568662643432617, 26.578584671020508, 26.328693389892578, 26.856483459472656, 27.146995544433594, 27.112241744995117], [23.934551239013672, 25.052003860473633, 25.388347625732422, 26.197946548461914, 26.776212692260742, 26.081317901611328, 26.062253952026367, 26.462276458740234, 26.968591690063477, 27.070552825927734], [24.856477737426758, 24.912996292114258, 24.676979064941406, 26.584861755371094, 26.634401321411133, 26.087757110595703, 26.07500648498535, 26.468538284301758, 26.708436965942383, 27.04576873779297], [24.123188018798828, 24.668094635009766, 25.08295249938965, 26.71172332763672, 26.658626556396484, 26.054553985595703, 25.968950271606445, 26.31079864501953, 26.527366638183594, 26.547182083129883]], \"zauto\": false, \"zmax\": 28, \"zmin\": 20, \"type\": \"heatmap\", \"uid\": \"79293c39-4044-4716-aac7-bff42e17a02d\", \"xaxis\": \"x2\", \"yaxis\": \"y2\"}, {\"z\": [[25.297910690307617, 24.485370635986328, 24.630964279174805, 24.62255859375, 26.30674171447754, 26.66478729248047, 25.97292709350586, 25.91478157043457, 25.313493728637695, 25.181604385375977], [24.621896743774414, 23.574321746826172, 25.631977081298828, 24.70244026184082, 25.4201717376709, 26.33486557006836, 26.375534057617188, 25.537700653076172, 24.805809020996094, 24.380390167236328], [24.732807159423828, 22.555124282836914, 23.481800079345703, 25.910337448120117, 26.119709014892578, 26.753889083862305, 26.54734230041504, 25.621353149414062, 24.958351135253906, 25.20682716369629], [24.146997451782227, 23.870933532714844, 23.247936248779297, 25.028827667236328, 26.283971786499023, 26.75785255432129, 26.263010025024414, 26.31574249267578, 25.954357147216797, 25.893278121948242], [24.371889114379883, 24.62490463256836, 23.750343322753906, 25.36093521118164, 26.465801239013672, 26.786680221557617, 26.507400512695312, 26.273212432861328, 25.890602111816406, 25.32342529296875], [23.783594131469727, 23.744050979614258, 25.36093521118164, 25.343238830566406, 25.9122314453125, 26.725818634033203, 26.75225257873535, 26.8267822265625, 26.084306716918945, 25.478023529052734], [22.08087921142578, 23.813066482543945, 24.732332229614258, 25.35736083984375, 26.25822639465332, 25.94251251220703, 25.695533752441406, 26.06207275390625, 25.500839233398438, 25.464784622192383], [22.872539520263672, 23.997215270996094, 24.498218536376953, 25.32314682006836, 26.090314865112305, 25.152868270874023, 25.13247299194336, 25.051891326904297, 25.083984375, 25.201072692871094], [23.779966354370117, 23.840547561645508, 23.69404411315918, 25.723018646240234, 25.9706974029541, 25.159076690673828, 25.146240234375, 25.058963775634766, 24.78685760498047, 25.170181274414062], [22.99332618713379, 23.528087615966797, 24.227163314819336, 25.969985961914062, 25.94820213317871, 25.496522903442383, 25.408876419067383, 25.018939971923828, 24.75677490234375, 24.77669334411621]], \"zauto\": false, \"zmax\": 28, \"zmin\": 20, \"type\": \"heatmap\", \"uid\": \"9fe9eca4-e25e-425a-a13b-4e744a42167b\", \"xaxis\": \"x3\", \"yaxis\": \"y3\"}], {\"annotations\": [{\"font\": {\"size\": 16}, \"showarrow\": false, \"text\": \"horizon 2030\", \"x\": 0.14444444444444446, \"xanchor\": \"center\", \"xref\": \"paper\", \"y\": 1.0, \"yanchor\": \"bottom\", \"yref\": \"paper\"}, {\"font\": {\"size\": 16}, \"showarrow\": false, \"text\": \"horizon 2060\", \"x\": 0.5, \"xanchor\": \"center\", \"xref\": \"paper\", \"y\": 1.0, \"yanchor\": \"bottom\", \"yref\": \"paper\"}, {\"font\": {\"size\": 16}, \"showarrow\": false, \"text\": \"horizon 2090\", \"x\": 0.8555555555555556, \"xanchor\": \"center\", \"xref\": \"paper\", \"y\": 1.0, \"yanchor\": \"bottom\", \"yref\": \"paper\"}], \"xaxis\": {\"anchor\": \"y\", \"domain\": [0.0, 0.2888888888888889], \"title\": {\"text\": \"Aladin grid J\"}}, \"yaxis\": {\"anchor\": \"x\", \"domain\": [0.0, 1.0], \"title\": {\"text\": \"Aladin grid I\"}}, \"xaxis2\": {\"anchor\": \"y2\", \"domain\": [0.35555555555555557, 0.6444444444444445], \"title\": {\"text\": \"Aladin grid J\"}}, \"yaxis2\": {\"anchor\": \"x2\", \"domain\": [0.0, 1.0]}, \"xaxis3\": {\"anchor\": \"y3\", \"domain\": [0.7111111111111111, 1.0], \"title\": {\"text\": \"Aladin grid J\"}}, \"yaxis3\": {\"anchor\": \"x3\", \"domain\": [0.0, 1.0]}, \"title\": {\"text\": \"Temp\\u00e9rature moyenne maximale du mois de juillet\"}, \"autosize\": false, \"width\": 800, \"height\": 380}, {\"showLink\": false, \"linkText\": \"Export to plot.ly\", \"plotlyServerURL\": \"https://plot.ly\"})});</script>"
      ]
     },
     "metadata": {},
     "output_type": "display_data"
    }
   ],
   "source": [
    "trace0 = go.Heatmap(z=lyon_tmax26[0,6,:,:].tolist(), zauto=False, zmin=20,zmax=28)\n",
    "trace1 = go.Heatmap(z=lyon_tmax26[49,6,:,:].tolist(), zauto=False, zmin=20,zmax=28)\n",
    "trace2 = go.Heatmap(z=lyon_tmax26[89,6,:,:].tolist(), zauto=False, zmin=20,zmax=28)\n",
    "\n",
    "fig = tools.make_subplots(rows=1, cols=3, subplot_titles=('horizon 2030','horizon 2060','horizon 2090'))\n",
    "\n",
    "fig.append_trace(trace0, 1, 1)\n",
    "fig.append_trace(trace1, 1, 2)\n",
    "fig.append_trace(trace2, 1, 3)\n",
    "\n",
    "fig['layout']['xaxis1'].update(title='Aladin grid J')\n",
    "fig['layout']['xaxis2'].update(title='Aladin grid J')\n",
    "fig['layout']['xaxis3'].update(title='Aladin grid J')\n",
    "fig['layout']['yaxis1'].update(title='Aladin grid I')\n",
    "fig['layout'].update(title='Température moyenne maximale du mois de juillet', \n",
    "                     autosize=False, width=800, height=380)  \n",
    "\n",
    "py.iplot(fig, filename='basic-heatmap')"
   ]
  },
  {
   "cell_type": "markdown",
   "metadata": {},
   "source": [
    "#### Calcul de la température moyenne maximale  des mois de l'année 2040\n",
    "On réutilise les paramètres de la tranche de 12 mois (slice) définis plus haut ainsi que les données moyénnées déjà calculées. (Décommenter la dernière ligne du bloc pour afficher la figure)"
   ]
  },
  {
   "cell_type": "code",
   "execution_count": 11,
   "metadata": {},
   "outputs": [],
   "source": [
    "trace0 = go.Scatter(\n",
    "    x = lyon_month[0:slice],\n",
    "    y = moyAreaInterval[0:slice],\n",
    "    name ='Avril 2040'\n",
    ")\n",
    "\n",
    "data = [trace0]\n",
    "\n",
    "layout = dict (\n",
    "           title = \"Température moyenne maximale des mois de l'année horizon 2040\",\n",
    "           xaxis = dict(\n",
    "                 title = 'Mois',\n",
    "                 showline=True,\n",
    "                 showticklabels=True,\n",
    "                 ticklen=5\n",
    "             ),\n",
    "             yaxis = dict(\n",
    "                 title = 'Temperature (degrees Celsius)',\n",
    "                 showline=True,\n",
    "                 showticklabels=True\n",
    "             ),         \n",
    ")\n",
    "\n",
    "\n",
    "fig = dict(data=data, layout=layout)\n",
    "\n",
    "py.iplot(fig, filename='basic-line')"
   ]
  },
  {
   "cell_type": "markdown",
   "metadata": {},
   "source": [
    "#### n X n valeurs pour n² noeuds  pour 12 mois et année\n",
    "Calcul de la moyenne de températures annuelle et de tous les mois sur `yearInterval` années à partir de l'année `yearBegin` sur chaque noeud allant de `(startj,starti)` de taille `(intervalj,intervali)`.  Les douze moyennes mensuelles sont suivies de la moyenne annuelle. (Décommenter la dernière ligne du bloc pour afficher la figure)"
   ]
  },
  {
   "cell_type": "code",
   "execution_count": 12,
   "metadata": {},
   "outputs": [],
   "source": [
    "moyAreaInterval = np.zeros((lenmonths,intervalj,intervali))\n",
    "moyAreaInterval[:] = np.mean(lyon_tmax26[startYear:endYear,:,startj:endj,starti:endi],axis=(0)) \n",
    "#print(moyAreaInterval.shape)\n",
    "#print(moyAreaInterval[:,0,0])\n",
    "nbnoeuds = intervalj *intervali\n",
    "data = [] * nbnoeuds\n",
    "trace = [] * nbnoeuds"
   ]
  },
  {
   "cell_type": "code",
   "execution_count": 13,
   "metadata": {},
   "outputs": [],
   "source": [
    "for p in range(intervalj) :\n",
    "    for q in range(intervali) :\n",
    "        order = p * intervalj + q\n",
    "        trace = go.Scatter(\n",
    "            x = lyon_month[0:12],\n",
    "            y = moyAreaInterval[:,p,q],\n",
    "            name ='Année 2040 noeud : (%s'%(str(p)+','+str(q)+')')\n",
    "        )\n",
    "        data.append(trace)\n",
    "\n",
    "layout = dict (\n",
    "           title = \"Température moyenne maximale des mois de l'année horizon 2040\",\n",
    "           xaxis = dict(\n",
    "                 title = 'Mois',\n",
    "                 showline=True,\n",
    "                 showticklabels=True,\n",
    "                 ticklen=5\n",
    "             ),\n",
    "             yaxis = dict(\n",
    "                 title = 'Temperature (degrees Celsius)',\n",
    "                 showline=True,\n",
    "                 showticklabels=True\n",
    "             ),         \n",
    ")\n",
    "\n",
    "\n",
    "fig = dict(data=data, layout=layout)\n",
    "\n",
    "py.iplot(fig, filename='basic-line')"
   ]
  },
  {
   "cell_type": "markdown",
   "metadata": {},
   "source": [
    "### Calculs pour UNE SÉRIE DE  PÉRIODES de  `yearInterval` années\n",
    "\n",
    "Calcul de la moyenne de températures des mois de `calcMonth` (il peut y en avoir un seul ou un choix), sur `yearInterval` années à partir de l'année `yearBegin` jusqu'à l'année `yearBegin + yearPeriod` sur les noeuds à partir de `(startj,starti)` de taille `(intervalj,intervali)`. La valeur touvée est affectée à la dernière année de la plage de calcul."
   ]
  },
  {
   "cell_type": "code",
   "execution_count": 14,
   "metadata": {},
   "outputs": [],
   "source": [
    "# ASéquence d'années pendant lesquelles les calculs sont effectués\n",
    "yearBegin = 2010\n",
    "yearInterval = 30\n",
    "yearPeriod = 40\n",
    "calcMonth = [4,5,6,7,8,9]\n",
    "lencalcMonths = len(calcMonth)\n",
    "#  Grille i j\n",
    "starti = 5\n",
    "intervali = 4\n",
    "startj = 2\n",
    "intervalj = 4\n",
    "# Variables de calcul\n",
    "startYear = yearBegin - 2006\n",
    "endYear = startYear + yearInterval\n",
    "#print(yearPeriodInterval)\n",
    "endi = starti + intervali\n",
    "endj = startj + intervalj\n",
    "loc_i = 2\n",
    "loc_j = 3\n",
    "locLon = lyon_lon[loc_j,loc_i]\n",
    "locLat = lyon_lat[loc_j,loc_i]\n",
    "\n",
    "                          \n",
    "if not  (startYear >= 0) and (endYear <= lenyears) :\n",
    "    print('starting year or finishing year out of bounds')\n",
    "    sys.exit('giving up on year bounds')\n",
    "#print(gridj[loc_j])\n",
    "#print(gridi[loc_i])\n",
    "#print(locLon)\n",
    "#print(locLat)\n",
    "#print(locMonth)\n",
    "#print(startYear,':',endYear,',',calcMonth,',',startj,':',endj,',',starti,':',endi)\n",
    "#print(temp.shape)\n",
    "#print(np.mean(temp[startYear:endYear,calcMonth,startj:endj,starti:endi]))"
   ]
  },
  {
   "cell_type": "markdown",
   "metadata": {},
   "source": [
    "### Calcul pour n mois sur p périodes de q années pour la zone\n",
    "\n",
    "Calcul de la moyenne des températures mensuelles sur `yearInterval` ans pendant une période de `yearPeriod` années successives pour une sélection de `calcMonth`  mois."
   ]
  },
  {
   "cell_type": "code",
   "execution_count": 15,
   "metadata": {},
   "outputs": [],
   "source": [
    "moyAreaInterval = np.zeros((lencalcMonths,yearPeriod))\n",
    "for p in range(yearPeriod) :\n",
    "    a = startYear + p\n",
    "    b = endYear + p    \n",
    "    moyAreaInterval[:,p] = np.mean(lyon_tmax26[a:b,calcMonth,startj:endj,starti:endi],axis=(0,2,3)) \n",
    "#print(moyAreaInterval)\n",
    "firstPlotYear = startYear + yearInterval\n",
    "lastPlotYear = firstPlotYear + yearPeriod\n",
    "data = [] * lencalcMonths\n",
    "trace = [] * lencalcMonths"
   ]
  },
  {
   "cell_type": "markdown",
   "metadata": {},
   "source": [
    "Le diagramme ci-dessous  représente l'évolution sur `yearPeriod` années de la température dans la région Lyonnaise.(Décommenter la dernière ligne du bloc pour afficher la figure)"
   ]
  },
  {
   "cell_type": "code",
   "execution_count": 16,
   "metadata": {},
   "outputs": [],
   "source": [
    "for q in range(lencalcMonths) :\n",
    "    trace = go.Scatter(\n",
    "        x = lyon_year[firstPlotYear:lastPlotYear],\n",
    "        y = moyAreaInterval[q,:],\n",
    "        name ='Moyenne du mois %s'%lyon_month[calcMonth[q]]\n",
    "    )\n",
    "    data.append(trace)\n",
    "\n",
    "layout = dict (\n",
    "           title = \"Température moyenne maximale des mois de l'année moyennées sur 30 ans\",\n",
    "           xaxis = dict(\n",
    "                 title = 'Année',\n",
    "                 showline=True,\n",
    "                 showticklabels=True,\n",
    "                 ticklen=5\n",
    "             ),\n",
    "             yaxis = dict(\n",
    "                 title = 'Temperature (degrees Celsius)',\n",
    "                 showline=True,\n",
    "                 showticklabels=True\n",
    "             ),         \n",
    ")\n",
    "\n",
    "\n",
    "fig = dict(data=data, layout=layout)\n",
    "\n",
    "#py.iplot(fig, filename='basic-line')"
   ]
  },
  {
   "cell_type": "markdown",
   "metadata": {},
   "source": [
    "### Contrôle du contenu du fichier sauvegardé \n",
    "Ce bloc permet d'imprimer le contenu du jeu de données qui vient d'être sauvegardé afin de vérifier qu'il contient les données attendues. le suivant ferme le fichier écrit."
   ]
  },
  {
   "cell_type": "code",
   "execution_count": 17,
   "metadata": {},
   "outputs": [],
   "source": [
    "#for dim in extractLyonTempYearMonth.dimensions.items():\n",
    "#    print(dim[1])\n",
    "#for var in extractLyonTempYearMonth.variables.keys() :\n",
    "#    print (var, '\\t\\t', extractLyonTempYearMonth.variables[var].dimensions, '\\t\\t', \n",
    "#           extractLyonTempYearMonth.variables[var].shape, '\\t', extractLyonTempYearMonth.variables[var].dtype)"
   ]
  },
  {
   "cell_type": "code",
   "execution_count": null,
   "metadata": {},
   "outputs": [],
   "source": []
  }
 ],
 "metadata": {
  "kernelspec": {
   "display_name": "Python 3",
   "language": "python",
   "name": "python3"
  },
  "language_info": {
   "codemirror_mode": {
    "name": "ipython",
    "version": 3
   },
   "file_extension": ".py",
   "mimetype": "text/x-python",
   "name": "python",
   "nbconvert_exporter": "python",
   "pygments_lexer": "ipython3",
   "version": "3.7.3"
  }
 },
 "nbformat": 4,
 "nbformat_minor": 2
}
