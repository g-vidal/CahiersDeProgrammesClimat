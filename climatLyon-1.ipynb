{
 "cells": [
  {
   "cell_type": "markdown",
   "metadata": {
    "extensions": {
     "jupyter_dashboards": {
      "version": 1,
      "views": {
       "grid_default": {},
       "report_default": {
        "hidden": false
       }
      }
     }
    }
   },
   "source": [
    "\n",
    "|  |\n",
    "| ------------------------------------------------------- | \n",
    "| ![Tremplin des sciences](images/tremplinColorSmall.png) | \n",
    "\n",
    "Cahier d'exercices pour l'enseignement et l'apprentissage de programmation issu de la collection \"Climat et météo tremplin pour l'enseignement des sciences\" (PIA IFÉ ENS de Lyon - Météofrance ENM Toulouse). Le dispositif clef en main repose sur l'utilisation d'une RaspberryPi chargée avec le système d'exploitation Debian enrichi, fourni par le projet. Les sources et les exécutables sont accessibles dans [l'espace collaboratif de la forge github](https://github.com/g-vidal/CahierDeProgrammes); plus d'information sur les [blogs d'accompagnement](http://blog.climatetmeteo.fr/GerardVidal/) systèmes d'exploitation sur [la page des OS  de Raspberries Pi](http://mediaserv.climatetmeteo.fr/images/RaspBerry/DebianStretchPi3/).  Toutes les ressources issues du projet sont fournies sous licence [Creative Commons](https://creativecommons.org/licenses/by-nc/4.0/) ou sous les licences libres d'origine des outils utilisés. Les ressources  du projet peuvent être utilisées dans tout autre environnement compatible.![licence : Creative Commons](images/Licence.jpg) \n",
    "\n",
    "Auteur : G. Vidal\n",
    "\n",
    "------------------------------------------------------------"
   ]
  },
  {
   "cell_type": "markdown",
   "metadata": {},
   "source": [
    "# Une approche du changement climatique à Lyon\n",
    "\n",
    "Ce cahier d'exercices propose plusieurs voies d'exploration d'un jeu de données issues des simulations climatiques de Météofrance. Le lot utilisé  est issu d'une modélisation RCP 2.6. Le travail a été effectué avec la températuremaximale mais il est directement transposable à toutes les variables du modèle. Cette première partie traite de la méhode pour qu'un enseignant puisse extraire les données dont il a besoin d'un fichier commandé sur le site [DRIAS](http://www.drias-climat.fr/). Ce cahier manipule des données multidimensionnelles et doit être réservé à des étudiants avancés si on souhaite l'utiliser en classe. Le dessin des figures a été désactivé dans le dépôt sur la forge pour ne pas alourdir inutilement le fichier transféré."
   ]
  },
  {
   "cell_type": "markdown",
   "metadata": {},
   "source": [
    "## Préparation de l'environnement et ouverture du fichier de données\n",
    "\n",
    "Importer d'abord le module `netcdf4` et `numpy`, attention les majuscules sont impératives pour le nom `netCDF4`. Ces deux modules permettent de traiter  les fichiers multidimensionnels au format netCDF utilisés dans le monde de la météorologie et de l'océanographie principalement."
   ]
  },
  {
   "cell_type": "code",
   "execution_count": 1,
   "metadata": {},
   "outputs": [],
   "source": [
    "import netCDF4 as nc\n",
    "import numpy as np\n",
    "from datetime import datetime\n",
    "from array import array\n",
    "import sys, datetime, os"
   ]
  },
  {
   "cell_type": "markdown",
   "metadata": {},
   "source": [
    "Importation des données de températures maximales depuis le fichier obtenu auprès du site [DRIAS](https://drias-prod.meteo.fr/okapi/accueil/okapiWebDrias/index.jsp) pour la région lyonnaise et intégration dans un fichier pour le traitement, puis affichage de la description du contenu, de la liste des variables.\n",
    "L'exemple choisi ici a été réalisé avec une grille de 10 x 10 noeuds centrés sur la ville de Lyon, pour obtenir un jeu de données se reporter au manuel numérique réalisé par E. Le Jan et CArole Larose dans le cadre du projet \"Climat et Météo Tremplin pour l'enseignement des sciences\". Les deux affichages proposés permettent de vérifier les propriétés  du fichier obtenu ainsi que les variables qui pourront être utilisées. Ces affichages sont facultatifs et peuvent être commentés sans conséquence pour la suite."
   ]
  },
  {
   "cell_type": "code",
   "execution_count": 2,
   "metadata": {},
   "outputs": [
    {
     "name": "stdout",
     "output_type": "stream",
     "text": [
      "Variables disponibles : odict_keys(['i', 'j', 'lat', 'lon', 'tasmax', 'time', 'x', 'y']) \n",
      "\n"
     ]
    }
   ],
   "source": [
    "tMaxLyon = nc.Dataset('/home/vidal/TremplinDesSciences/2019/ClimatLyon/tasmax_metro_CNRM_Aladin_rcp2.6_QT_RCP2.6_20060101-21001231.nc')\n",
    "#print('Description des données issues du modèle : \\n',tMaxLyon,'\\n') \n",
    "print('Variables disponibles :',tMaxLyon.variables.keys(),'\\n') # get all variable names"
   ]
  },
  {
   "cell_type": "markdown",
   "metadata": {},
   "source": [
    "## Liste des dimensions et des variables du système de données\n",
    "\n",
    "À partir de la liste des variables obtenue ci-dessus on renomme les jeux de données de chacune des variables qui seront exploitées apour effectuer les calculs et contrôle de la taille des échantillons. Les affichages proposés permettent de contrôler que les paramètres présents sont effectivement ceux qui sont attendus."
   ]
  },
  {
   "cell_type": "code",
   "execution_count": 3,
   "metadata": {},
   "outputs": [
    {
     "name": "stdout",
     "output_type": "stream",
     "text": [
      "<class 'netCDF4._netCDF4.Dimension'>: name = 'i', size = 10\n",
      "\n",
      "<class 'netCDF4._netCDF4.Dimension'>: name = 'j', size = 10\n",
      "\n",
      "<class 'netCDF4._netCDF4.Dimension'> (unlimited): name = 'time', size = 34698\n",
      "\n"
     ]
    }
   ],
   "source": [
    "for dim in tMaxLyon.dimensions.items():\n",
    "    print(dim[1])\n",
    "lyon_temp = tMaxLyon.variables['tasmax']  # variable temperature \n",
    "lyon_date = tMaxLyon.variables['time']  # variable temps\n",
    "lyon_lat,lyon_lon = tMaxLyon.variables['lat'], tMaxLyon.variables['lon']  # latitude longitude\n",
    "lyon_x,lyon_y = tMaxLyon.variables['x'], tMaxLyon.variables['y']  # coordonnées métriques\n",
    "lyon_gridi,lyon_gridj = tMaxLyon.variables['i'], tMaxLyon.variables['j'] # coordonnées grille Aladin\n",
    "#print ('Variables \\t  Forme \\t\\t Taille \\t type :  \\n')\n",
    "#for var in tMaxLyon.variables.keys() :\n",
    "#    print (var, '\\t\\t', tMaxLyon.variables[var].dimensions, '\\t\\t', \n",
    "#           tMaxLyon.variables[var].shape, '\\t', tMaxLyon.variables[var].dtype)\n",
    "#print ('\\n Unités : \\n', lyon_temp.units, '\\t', \n",
    "#      lyon_date.units, '\\t',\n",
    "#      lyon_lat.units, '\\t', \n",
    "#      lyon_lon.units, '\\t',\n",
    "#      lyon_x.units, '\\t', \n",
    "#      lyon_y.units, '\\n')\n",
    "#print(lyon_gridi[:])"
   ]
  },
  {
   "cell_type": "markdown",
   "metadata": {},
   "source": [
    "## Construction du jeu de données de sortie des moyennes en fonction de : année mois latitude longitude\n",
    "\n",
    "Création du fichier de sortie au format netCDF où seront stockées les valeurs moyennes calculées pour chaque noeud"
   ]
  },
  {
   "cell_type": "code",
   "execution_count": 4,
   "metadata": {},
   "outputs": [],
   "source": [
    "try: os.remove('tsmaxLyon-1.nc')  # par sécurité efface le fichier portant ce nom ! attention aux pertes possibles\n",
    "except OSError : pass\n",
    "extractLyonTempYearMonth = nc.Dataset('tsmaxLyon-1.nc',mode='w',format='NETCDF4') "
   ]
  },
  {
   "cell_type": "markdown",
   "metadata": {},
   "source": [
    "Définition et affectation des variables où sont copiées les données conservées et où seront stockés les résultats des calculs. (La syntaxe du fichier netCDF reste à  vérifier). Les années seront calculées pendant le calcul principal, les affichages permettent de vérifier la validité des données utilisées."
   ]
  },
  {
   "cell_type": "code",
   "execution_count": 5,
   "metadata": {},
   "outputs": [
    {
     "name": "stdout",
     "output_type": "stream",
     "text": [
      "DateTime de départ  de l'étude :  2006 \n",
      "DateTime de fin  de l'étude :  2100 \n",
      "Durée de l'étude :  95 ans\n"
     ]
    }
   ],
   "source": [
    "data = []\n",
    "years = []\n",
    "months = ['Jan', 'Feb', 'Mar', 'Apr', 'May', 'Jun', 'Jul',\n",
    "            'Aug', 'Sep', 'Oct', 'Nov', 'Dec', 'total']\n",
    "lenMonthA =[31,28,31,30,31,30,31,31,30,31,30,31]\n",
    "lenMonthB =[31,29,31,30,31,30,31,31,30,31,30,31]\n",
    "#startDate = date[0] + offset# 0 premier janvier; 90 -> 1er avril ; 212 1er aout\n",
    "offset = 0\n",
    "firstyear = int(nc.num2date(lyon_date[offset],lyon_date.units).strftime(\"%Y\"))\n",
    "lastyear = int(nc.num2date(lyon_date[-1],lyon_date.units).strftime(\"%Y\"))\n",
    "lenmonths = len(months)\n",
    "lenyears = lastyear - firstyear + 1\n",
    "lengridi = lyon_gridi.shape[0]\n",
    "lengridj = lyon_gridj.shape[0]\n",
    "lentime = len(lenMonthA) * lenyears\n",
    "print (\"DateTime de départ  de l'étude : \", firstyear,\n",
    "      \"\\nDateTime de fin  de l'étude : \", lastyear,\n",
    "      \"\\nDurée de l'étude : \", lenyears, 'ans')\n",
    "extractLyonTempYearMonth.createDimension('i', lengridi)     # latitude axis\n",
    "extractLyonTempYearMonth.createDimension('j', lengridj)    # longitude axis\n",
    "extractLyonTempYearMonth.createDimension('month', lenmonths)    # month axis\n",
    "extractLyonTempYearMonth.createDimension('year', lenyears) # year axis\n",
    "# Define two variables with the same names as dimensions,\n",
    "# a conventional way to define \"coordinate variables\".\n",
    "i = extractLyonTempYearMonth.createVariable('i', np.int, ('i',))\n",
    "i.long_name = 'cell index along first dimension'\n",
    "i[:] = lyon_gridi[:]\n",
    "j = extractLyonTempYearMonth.createVariable('j', np.int, ('j',))\n",
    "j.long_name = 'cell index along second dimension'\n",
    "j[:] = lyon_gridj[:]\n",
    "lat = extractLyonTempYearMonth.createVariable('lat', np.float32, ('j','i'))\n",
    "lat.units = 'degrees_north'\n",
    "lat.long_name = 'latitude'\n",
    "lat.standard_name = 'latitude'\n",
    "lat._CoordinateAxisType = 'Lat'\n",
    "lat[:,:] = lyon_lat[:,:]\n",
    "lon = extractLyonTempYearMonth.createVariable('lon', np.float32, ('j','i',))\n",
    "lon.units = 'degrees_east'\n",
    "lon.long_name = 'longitude'\n",
    "lon.standard_name = 'longitude'\n",
    "lon._CoordinateAxisType = 'Lon'\n",
    "lon[:,:] = lyon_lon[:,:]\n",
    "month = extractLyonTempYearMonth.createVariable('month', np.uint, ('month',))\n",
    "month.units = 'number'\n",
    "month.long_name = 'month'\n",
    "month.standard_name = 'month'\n",
    "month[:] = np.arange(0,13)\n",
    "year = extractLyonTempYearMonth.createVariable('year', np.uint, ('year',))\n",
    "year.units = 'date'\n",
    "year.long_name = 'year'\n",
    "year.standard_name = 'year'\n",
    "# Define a 3D variable to hold the data\n",
    "# fill_value is compulsory to make it readable by QGIS\n",
    "temp = extractLyonTempYearMonth.createVariable('temp',np.float64,('year','month','j','i'),fill_value=1.e+20)\n",
    "temp.units = 'C' # degrees Celsius\n",
    "temp.standard_name = 'air_temperature' # this is a CF standard name\n",
    "temp.long_name = 'Daily Maximum Near-Surface Air Temperature'\n",
    "temp.cell_methods = 'time: maximum'\n",
    "temp.coordinates = 'lon lat'\n",
    "extractLyonTempYearMonth.title = 'Extrait TSMax par moyenne mensuelle'\n",
    "extractLyonTempYearMonth.institution = 'ENS de Lyon'\n",
    "extractLyonTempYearMonth.institute_id = 'IFE Institut Francais de l Education'\n",
    "extractLyonTempYearMonth.project_id = 'Climat et meteo tremplin pour l enseignement des sciences'\n",
    "extractLyonTempYearMonth.model_id = 'CNRM-ALADIN52'\n",
    "extractLyonTempYearMonth.product = 'output'\n",
    "extractLyonTempYearMonth.contact = 'gerard.vidal@ens-lyon.fr'\n",
    "extractLyonTempYearMonth.creation_date = str(datetime.datetime.now())\n",
    "extractLyonTempYearMonth.driving_experiment_name = 'DRIAS2014'\n",
    "extractLyonTempYearMonth.experiment = 'RCP2.6'\n",
    "extractLyonTempYearMonth.model = 'ALADIN-Climat'\n",
    "extractLyonTempYearMonth.comment = 'Extraction of averages in Lyon region from 2006 to 2100'\n",
    "#print(gridi[:],gridj[:])\n",
    "#print(gridi.shape,gridj.shape)\n",
    "#print(lat[2,:])"
   ]
  },
  {
   "cell_type": "markdown",
   "metadata": {},
   "source": [
    "## Calcul principal des moyennes par mois pour chaque noeud et toutes les années\n"
   ]
  },
  {
   "cell_type": "code",
   "execution_count": 6,
   "metadata": {},
   "outputs": [],
   "source": [
    "iteri = offset\n",
    "iterj = 0\n",
    "iteriFirst = iteri\n",
    "while iteri  < lyon_temp.shape[0] :      \n",
    "    for iterj in  range(lenyears) :\n",
    "        year[iterj] = (nc.num2date(lyon_date[iteri],lyon_date.units).strftime(\"%Y\"))\n",
    "#    print(nc.num2date(my_date[iteri],my_date.units), iteri, iterj)  # vérification du point de départ\n",
    "        if (iterj % 4 == 2) :\n",
    "            for p in range(len(lenMonthB)) :\n",
    "                iteriLast = iteri+lenMonthB[p]\n",
    "                # moyenne du mois\n",
    "                temp[iterj,p,:,:] = np.mean(lyon_temp[iteri:iteriLast,:,:] - 273,axis=0) \n",
    "                iteri = iteriLast\n",
    "        else :\n",
    "            for p in range(len(lenMonthA)) :\n",
    "                iteriLast = iteri+lenMonthA[p]\n",
    "                # moyenne du mois\n",
    "                temp[iterj,p,:,:] = np.mean(lyon_temp[iteri:iteriLast,:,:] - 273,axis=0) \n",
    "                iteri = iteriLast\n",
    "        # moyenne de l'année\n",
    "        temp[iterj,len(lenMonthA),:,:] = np.mean(lyon_temp[iteriFirst:iteriLast,:,:] - 273,axis=0) \n",
    "        iteriFirst = iteriLast+1\n",
    "#print(iteri)\n",
    "#print('fin du traitement : ', nc.num2date(lyon_date[iteri-2],lyon_date.units)) \n",
    "# vérification de la fin d'année   \n",
    "#years = year[:].tolist()\n",
    "#print ('years : \\n', years)\n",
    "#extractLyonTempYearMonth.close() # Ne pas oublier de fermer le fichier netCDF"
   ]
  },
  {
   "cell_type": "markdown",
   "metadata": {},
   "source": [
    "Les affichages suivants permettent de vérifier  que les données obtenues correspondent au format attendu"
   ]
  },
  {
   "cell_type": "code",
   "execution_count": 7,
   "metadata": {},
   "outputs": [],
   "source": [
    "#print('température moyenne année 2015 noeud 5 5 : \\n', temp[9,:,5,5])\n",
    "#print(\"température moyenne mois d'avril sur les 95 années noeud 8 4 : \\n\", temp[:,3,8,4])\n",
    "#print(\"température moyenne année 2050 mois d'aout tous les  noeuds : \\n\", temp[45,7,:,:])"
   ]
  },
  {
   "cell_type": "markdown",
   "metadata": {},
   "source": [
    "### Calculs pour une seule période de  `yearInterval` années\n",
    "\n",
    "Calcul de la moyenne de températures du mois de `calcMonth` sur `yearInterval` années à partir de l'année `yearBegin` sur les noeuds allant de `(startj,starti)` de taille `(intervalj,intervali)`"
   ]
  },
  {
   "cell_type": "code",
   "execution_count": 8,
   "metadata": {},
   "outputs": [],
   "source": [
    "# Années\n",
    "yearBegin = 2010\n",
    "yearInterval = 30\n",
    "calcMonth = 4\n",
    "#  Grille i j\n",
    "starti = 5\n",
    "intervali = 4\n",
    "startj = 2\n",
    "intervalj = 4\n",
    "# Variables de calcul\n",
    "startYear = yearBegin - 2006\n",
    "endYear = startYear + yearInterval\n",
    "endi = starti + intervali\n",
    "endj = startj + intervalj\n",
    "loc_i = 2\n",
    "loc_j = 3\n",
    "locLon = lon[loc_j,loc_i]\n",
    "locLat = lat[loc_j,loc_i]\n",
    "locMonth = months[calcMonth]\n",
    "\n",
    "                          \n",
    "if not  (startYear >= 0) and (endYear <= lenyears) :\n",
    "    print('starting year or finishing year out of bounds')\n",
    "    sys.exit('giving up on year bounds')\n",
    "#print(gridj[loc_j])\n",
    "#print(gridi[loc_i])\n",
    "#print(locLon)\n",
    "#print(locLat)\n",
    "#print(locMonth)\n",
    "#print(startYear,':',endYear,',',calcMonth,',',startj,':',endj,',',starti,':',endi)\n",
    "#print(temp.shape)\n",
    "#print(np.mean(temp[startYear:endYear,calcMonth,startj:endj,starti:endi]))"
   ]
  },
  {
   "cell_type": "markdown",
   "metadata": {},
   "source": [
    "#### Une valeur pour un mois donné\n",
    "Calcul de la moyenne de températures du mois de `calcMonth` sur `yearInterval` années à partir de l'année `yearBegin` sur les noeuds allant de `(startj,starti)` de taille `(intervalj,intervali)`"
   ]
  },
  {
   "cell_type": "code",
   "execution_count": 9,
   "metadata": {},
   "outputs": [
    {
     "name": "stdout",
     "output_type": "stream",
     "text": [
      "19.8438470184803\n"
     ]
    }
   ],
   "source": [
    "moyAreaInterval = np.mean(temp[startYear:endYear,calcMonth,startj:endj,starti:endi]) \n",
    "print(moyAreaInterval)"
   ]
  },
  {
   "cell_type": "markdown",
   "metadata": {},
   "source": [
    "#### Enregistrement du fichier 13 valeurs (une par mois et année)\n",
    "Calcul de la moyenne de températures annuelle et de tous les mois sur `yearInterval` années à partir de l'année `yearBegin` sur les noeuds allant de `(startj,starti)` de taille `(intervalj,intervali)`.  Les douze moyennes mensuelles sont suivies de la moyenne annuelle."
   ]
  },
  {
   "cell_type": "code",
   "execution_count": 10,
   "metadata": {},
   "outputs": [],
   "source": [
    "slice = lenmonths -1 # slice = lenmonths pour traiter en plus la moyenne annuelle \n",
    "moyAreaInterval = [None] * slice\n",
    "moyAreaInterval[:] = np.mean(temp[startYear:endYear,:,startj:endj,starti:endi],axis=(0,2,3)) \n",
    "#print(moyAreaInterval[0:slice])\n",
    "with open('moyMonth.txt', 'w') as file :\n",
    "    for p in range(slice) :\n",
    "        file.write(months[p])\n",
    "        file.write(';')\n",
    "        file.write(str(moyAreaInterval[p]))\n",
    "        file.write('\\n')"
   ]
  },
  {
   "cell_type": "markdown",
   "metadata": {},
   "source": [
    "#### préparation de la création de figures\n",
    "On importe les bibliothèques plotly"
   ]
  },
  {
   "cell_type": "code",
   "execution_count": 11,
   "metadata": {},
   "outputs": [
    {
     "data": {
      "text/html": [
       "<script type=\"text/javascript\">window.PlotlyConfig = {MathJaxConfig: 'local'};</script><script type=\"text/javascript\">if (window.MathJax) {MathJax.Hub.Config({SVG: {font: \"STIX-Web\"}});}</script><script>requirejs.config({paths: { 'plotly': ['https://cdn.plot.ly/plotly-latest.min']},});if(!window._Plotly) {require(['plotly'],function(plotly) {window._Plotly=plotly;});}</script>"
      ],
      "text/vnd.plotly.v1+html": [
       "<script type=\"text/javascript\">window.PlotlyConfig = {MathJaxConfig: 'local'};</script><script type=\"text/javascript\">if (window.MathJax) {MathJax.Hub.Config({SVG: {font: \"STIX-Web\"}});}</script><script>requirejs.config({paths: { 'plotly': ['https://cdn.plot.ly/plotly-latest.min']},});if(!window._Plotly) {require(['plotly'],function(plotly) {window._Plotly=plotly;});}</script>"
      ]
     },
     "metadata": {},
     "output_type": "display_data"
    }
   ],
   "source": [
    "import plotly.offline as py\n",
    "import plotly.graph_objs as go\n",
    "from plotly import tools\n",
    "\n",
    "py.init_notebook_mode(connected=True)"
   ]
  },
  {
   "cell_type": "markdown",
   "metadata": {},
   "source": [
    "#### Création d'une figure bidimensionnelle \n",
    "Valeurs moyennes de la température max sur toute la région lyonnaise  au mois de juillet de l'horizon 2040. (Décommenter la dernière ligne du bloc pour afficher la figure)"
   ]
  },
  {
   "cell_type": "code",
   "execution_count": 12,
   "metadata": {},
   "outputs": [],
   "source": [
    "trace0 = go.Heatmap(z=temp[0,6,:,:].tolist())\n",
    "data=[trace0]\n",
    "layout = dict (\n",
    "    title = \"Température moyenne maximale du mois de juillet horizon 2040\",\n",
    "    autosize=False,\n",
    "    width=800,\n",
    "    height=800,        \n",
    "    xaxis = dict(\n",
    "        title = 'Aladin grid J',\n",
    "        showline=True,\n",
    "        showticklabels=True,\n",
    "        ticklen=5\n",
    "    ),\n",
    "    yaxis = dict(\n",
    "        title = 'Aladin grid I',\n",
    "        showline=True,\n",
    "        showticklabels=True\n",
    "    ),         \n",
    ")\n",
    "fig = dict(data=data, layout=layout)\n",
    "#py.iplot(fig, filename='basic-heatmap')"
   ]
  },
  {
   "cell_type": "markdown",
   "metadata": {},
   "source": [
    "#### Comparaison de 3 horizons pour le mois de juillet en région lyonnaise\n",
    "Ce bloc utilise les données mises en forme dans le bloc précédent pour afficher une comparaison entre  3 horizons. (Décommenter la dernière ligne du bloc pour afficher la figure)"
   ]
  },
  {
   "cell_type": "code",
   "execution_count": 13,
   "metadata": {},
   "outputs": [
    {
     "name": "stdout",
     "output_type": "stream",
     "text": [
      "This is the format of your plot grid:\n",
      "[ (1,1) x1,y1 ]  [ (1,2) x2,y2 ]  [ (1,3) x3,y3 ]\n",
      "\n"
     ]
    },
    {
     "data": {
      "text/plain": [
       "Layout({\n",
       "    'annotations': [{'font': {'size': 16},\n",
       "                     'showarrow': False,\n",
       "                     'text': 'horizon 2030',\n",
       "                     'x': 0.14444444444444446,\n",
       "                     'xanchor': 'center',\n",
       "                     'xref': 'paper',\n",
       "                     'y': 1.0,\n",
       "                     'yanchor': 'bottom',\n",
       "                     'yref': 'paper'},\n",
       "                    {'font': {'size': 16},\n",
       "                     'showarrow': False,\n",
       "                     'text': 'horizon 2060',\n",
       "                     'x': 0.5,\n",
       "                     'xanchor': 'center',\n",
       "                     'xref': 'paper',\n",
       "                     'y': 1.0,\n",
       "                     'yanchor': 'bottom',\n",
       "                     'yref': 'paper'},\n",
       "                    {'font': {'size': 16},\n",
       "                     'showarrow': False,\n",
       "                     'text': 'horizon 2090',\n",
       "                     'x': 0.8555555555555556,\n",
       "                     'xanchor': 'center',\n",
       "                     'xref': 'paper',\n",
       "                     'y': 1.0,\n",
       "                     'yanchor': 'bottom',\n",
       "                     'yref': 'paper'}],\n",
       "    'autosize': False,\n",
       "    'height': 380,\n",
       "    'title': {'text': 'Température moyenne maximale du mois de juillet'},\n",
       "    'width': 800,\n",
       "    'xaxis': {'anchor': 'y', 'domain': [0.0, 0.2888888888888889], 'title': {'text': 'Aladin grid J'}},\n",
       "    'xaxis2': {'anchor': 'y2', 'domain': [0.35555555555555557, 0.6444444444444445], 'title': {'text': 'Aladin grid J'}},\n",
       "    'xaxis3': {'anchor': 'y3', 'domain': [0.7111111111111111, 1.0], 'title': {'text': 'Aladin grid J'}},\n",
       "    'yaxis': {'anchor': 'x', 'domain': [0.0, 1.0], 'title': {'text': 'Aladin grid I'}},\n",
       "    'yaxis2': {'anchor': 'x2', 'domain': [0.0, 1.0]},\n",
       "    'yaxis3': {'anchor': 'x3', 'domain': [0.0, 1.0]}\n",
       "})"
      ]
     },
     "execution_count": 13,
     "metadata": {},
     "output_type": "execute_result"
    }
   ],
   "source": [
    "trace0 = go.Heatmap(z=temp[0,6,:,:].tolist(), zauto=False, zmin=20,zmax=28)\n",
    "trace1 = go.Heatmap(z=temp[49,6,:,:].tolist(), zauto=False, zmin=20,zmax=28)\n",
    "trace2 = go.Heatmap(z=temp[89,6,:,:].tolist(), zauto=False, zmin=20,zmax=28)\n",
    "\n",
    "fig = tools.make_subplots(rows=1, cols=3, subplot_titles=('horizon 2030','horizon 2060','horizon 2090'))\n",
    "\n",
    "fig.append_trace(trace0, 1, 1)\n",
    "fig.append_trace(trace1, 1, 2)\n",
    "fig.append_trace(trace2, 1, 3)\n",
    "\n",
    "fig['layout']['xaxis1'].update(title='Aladin grid J')\n",
    "fig['layout']['xaxis2'].update(title='Aladin grid J')\n",
    "fig['layout']['xaxis3'].update(title='Aladin grid J')\n",
    "\n",
    "fig['layout']['yaxis1'].update(title='Aladin grid I')\n",
    "\n",
    "fig['layout'].update(title='Température moyenne maximale du mois de juillet', autosize=False, width=800, height=380)  \n",
    "\n",
    "#py.iplot(fig, filename='basic-heatmap')"
   ]
  },
  {
   "cell_type": "markdown",
   "metadata": {},
   "source": [
    "#### Calcul de la température moyenne maximale  des mois de l'année 2040\n",
    "On réutilise les paramètres de la tranche de 12 mois (slice) définis plus haut ainsi que les données moyénnées déjà calculées. (Décommenter la dernière ligne du bloc pour afficher la figure)"
   ]
  },
  {
   "cell_type": "code",
   "execution_count": 14,
   "metadata": {},
   "outputs": [],
   "source": [
    "trace0 = go.Scatter(\n",
    "    x = months[0:slice],\n",
    "    y = moyAreaInterval[0:slice],\n",
    "    name ='Avril 2040'\n",
    ")\n",
    "\n",
    "data = [trace0]\n",
    "\n",
    "layout = dict (\n",
    "           title = \"Température moyenne maximale des mois de l'année horizon 2040\",\n",
    "           xaxis = dict(\n",
    "                 title = 'Mois',\n",
    "                 showline=True,\n",
    "                 showticklabels=True,\n",
    "                 ticklen=5\n",
    "             ),\n",
    "             yaxis = dict(\n",
    "                 title = 'Temperature (degrees Celsius)',\n",
    "                 showline=True,\n",
    "                 showticklabels=True\n",
    "             ),         \n",
    ")\n",
    "\n",
    "\n",
    "fig = dict(data=data, layout=layout)\n",
    "\n",
    "#py.iplot(fig, filename='basic-line')"
   ]
  },
  {
   "cell_type": "markdown",
   "metadata": {},
   "source": [
    "#### n X n valeurs pour n² noeuds  pour 12 mois et année\n",
    "Calcul de la moyenne de températures annuelle et de tous les mois sur `yearInterval` années à partir de l'année `yearBegin` sur chaque noeud allant de `(startj,starti)` de taille `(intervalj,intervali)`.  Les douze moyennes mensuelles sont suivies de la moyenne annuelle. (Décommenter la dernière ligne du bloc pour afficher la figure)"
   ]
  },
  {
   "cell_type": "code",
   "execution_count": 15,
   "metadata": {},
   "outputs": [
    {
     "name": "stdout",
     "output_type": "stream",
     "text": [
      "(13, 4, 4)\n"
     ]
    }
   ],
   "source": [
    "moyAreaInterval = np.zeros((lenmonths,intervalj,intervali))\n",
    "moyAreaInterval[:] = np.mean(temp[startYear:endYear,:,startj:endj,starti:endi],axis=(0)) \n",
    "print(moyAreaInterval.shape)\n",
    "#print(moyAreaInterval[:,0,0])\n",
    "nbnoeuds = intervalj *intervali\n",
    "data = [] * nbnoeuds\n",
    "trace = [] * nbnoeuds"
   ]
  },
  {
   "cell_type": "code",
   "execution_count": 16,
   "metadata": {},
   "outputs": [],
   "source": [
    "for p in range(intervalj) :\n",
    "    for q in range(intervali) :\n",
    "        order = p * intervalj + q\n",
    "        trace = go.Scatter(\n",
    "            x = months[0:12],\n",
    "            y = moyAreaInterval[:,p,q],\n",
    "            name ='Année 2040 noeud : (%s'%(str(p)+','+str(q)+')')\n",
    "        )\n",
    "        data.append(trace)\n",
    "\n",
    "layout = dict (\n",
    "           title = \"Température moyenne maximale des mois de l'année horizon 2040\",\n",
    "           xaxis = dict(\n",
    "                 title = 'Mois',\n",
    "                 showline=True,\n",
    "                 showticklabels=True,\n",
    "                 ticklen=5\n",
    "             ),\n",
    "             yaxis = dict(\n",
    "                 title = 'Temperature (degrees Celsius)',\n",
    "                 showline=True,\n",
    "                 showticklabels=True\n",
    "             ),         \n",
    ")\n",
    "\n",
    "\n",
    "fig = dict(data=data, layout=layout)\n",
    "\n",
    "#py.iplot(fig, filename='basic-line')"
   ]
  },
  {
   "cell_type": "markdown",
   "metadata": {},
   "source": [
    "### Calculs pour UNE SÉRIE DE  PÉRIODES de  `yearInterval` années\n",
    "\n",
    "Calcul de la moyenne de températures des mois de `calcMonth` (il peut y en avoir un seul ou un choix), sur `yearInterval` années à partir de l'année `yearBegin` jusqu'à l'année `yearBegin + yearPeriod` sur les noeuds à partir de `(startj,starti)` de taille `(intervalj,intervali)`. La valeur touvée est affectée à la dernière année de la plage de calcul."
   ]
  },
  {
   "cell_type": "code",
   "execution_count": 17,
   "metadata": {},
   "outputs": [],
   "source": [
    "# ASéquence d'années pendant lesquelles les calculs sont effectués\n",
    "yearBegin = 2010\n",
    "yearInterval = 30\n",
    "yearPeriod = 40\n",
    "calcMonth = [4,5,6,7,8,9]\n",
    "lencalcMonths = len(calcMonth)\n",
    "#  Grille i j\n",
    "starti = 5\n",
    "intervali = 4\n",
    "startj = 2\n",
    "intervalj = 4\n",
    "# Variables de calcul\n",
    "startYear = yearBegin - 2006\n",
    "endYear = startYear + yearInterval\n",
    "#print(yearPeriodInterval)\n",
    "endi = starti + intervali\n",
    "endj = startj + intervalj\n",
    "loc_i = 2\n",
    "loc_j = 3\n",
    "locLon = lon[loc_j,loc_i]\n",
    "locLat = lat[loc_j,loc_i]\n",
    "\n",
    "                          \n",
    "if not  (startYear >= 0) and (endYear <= lenyears) :\n",
    "    print('starting year or finishing year out of bounds')\n",
    "    sys.exit('giving up on year bounds')\n",
    "#print(gridj[loc_j])\n",
    "#print(gridi[loc_i])\n",
    "#print(locLon)\n",
    "#print(locLat)\n",
    "#print(locMonth)\n",
    "#print(startYear,':',endYear,',',calcMonth,',',startj,':',endj,',',starti,':',endi)\n",
    "#print(temp.shape)\n",
    "#print(np.mean(temp[startYear:endYear,calcMonth,startj:endj,starti:endi]))"
   ]
  },
  {
   "cell_type": "markdown",
   "metadata": {},
   "source": [
    "### Calcul pour n mois sur p périodes de q années pour la zone\n",
    "\n",
    "Calcul de la moyenne des températures mensuelles sur `yearInterval` ans pendant une période de `yearPeriod` années successives pour une sélection de `calcMonth`  mois."
   ]
  },
  {
   "cell_type": "code",
   "execution_count": 18,
   "metadata": {},
   "outputs": [],
   "source": [
    "moyAreaInterval = np.zeros((lencalcMonths,yearPeriod))\n",
    "for p in range(yearPeriod) :\n",
    "    a = startYear + p\n",
    "    b = endYear + p    \n",
    "    moyAreaInterval[:,p] = np.mean(temp[a:b,calcMonth,startj:endj,starti:endi],axis=(0,2,3)) \n",
    "#print(moyAreaInterval)\n",
    "firstPlotYear = startYear + yearInterval\n",
    "lastPlotYear = firstPlotYear + yearPeriod\n",
    "data = [] * lencalcMonths\n",
    "trace = [] * lencalcMonths"
   ]
  },
  {
   "cell_type": "markdown",
   "metadata": {},
   "source": [
    "Le diagramme ci-dessous  représente l'évolution sur `yearPeriod` années de la température dans la région Lyonnaise.(Décommenter la dernière ligne du bloc pour afficher la figure)"
   ]
  },
  {
   "cell_type": "code",
   "execution_count": 19,
   "metadata": {},
   "outputs": [],
   "source": [
    "for q in range(lencalcMonths) :\n",
    "    trace = go.Scatter(\n",
    "        x = year[firstPlotYear:lastPlotYear],\n",
    "        y = moyAreaInterval[q,:],\n",
    "        name ='Moyenne du mois %s'%months[calcMonth[q]]\n",
    "    )\n",
    "    data.append(trace)\n",
    "\n",
    "layout = dict (\n",
    "           title = \"Température moyenne maximale des mois de l'année moyennées sur 30 ans\",\n",
    "           xaxis = dict(\n",
    "                 title = 'Année',\n",
    "                 showline=True,\n",
    "                 showticklabels=True,\n",
    "                 ticklen=5\n",
    "             ),\n",
    "             yaxis = dict(\n",
    "                 title = 'Temperature (degrees Celsius)',\n",
    "                 showline=True,\n",
    "                 showticklabels=True\n",
    "             ),         \n",
    ")\n",
    "\n",
    "\n",
    "fig = dict(data=data, layout=layout)\n",
    "\n",
    "#py.iplot(fig, filename='basic-line')"
   ]
  },
  {
   "cell_type": "markdown",
   "metadata": {},
   "source": [
    "### Contrôle du contenu du fichier sauvegardé \n",
    "Ce bloc permet d'imprimer le contenu du jeu de données qui vient d'être sauvegardé afin de vérifier qu'il contient les données attendues. le suivant ferme le fichier écrit."
   ]
  },
  {
   "cell_type": "code",
   "execution_count": 20,
   "metadata": {},
   "outputs": [],
   "source": [
    "#for dim in extractLyonTempYearMonth.dimensions.items():\n",
    "#    print(dim[1])\n",
    "#for var in extractLyonTempYearMonth.variables.keys() :\n",
    "#    print (var, '\\t\\t', extractLyonTempYearMonth.variables[var].dimensions, '\\t\\t', \n",
    "#           extractLyonTempYearMonth.variables[var].shape, '\\t', extractLyonTempYearMonth.variables[var].dtype)"
   ]
  },
  {
   "cell_type": "code",
   "execution_count": 21,
   "metadata": {},
   "outputs": [],
   "source": [
    "extractLyonTempYearMonth.close()"
   ]
  },
  {
   "cell_type": "code",
   "execution_count": null,
   "metadata": {},
   "outputs": [],
   "source": []
  }
 ],
 "metadata": {
  "kernelspec": {
   "display_name": "Python 3",
   "language": "python",
   "name": "python3"
  },
  "language_info": {
   "codemirror_mode": {
    "name": "ipython",
    "version": 3
   },
   "file_extension": ".py",
   "mimetype": "text/x-python",
   "name": "python",
   "nbconvert_exporter": "python",
   "pygments_lexer": "ipython3",
   "version": "3.7.3rc1"
  }
 },
 "nbformat": 4,
 "nbformat_minor": 2
}
