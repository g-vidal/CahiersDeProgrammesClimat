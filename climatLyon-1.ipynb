{
 "cells": [
  {
   "cell_type": "markdown",
   "metadata": {},
   "source": [
    "# Une approche du changement climatique à Lyon"
   ]
  },
  {
   "cell_type": "markdown",
   "metadata": {},
   "source": [
    "## Préparation de l'environnement et ouverture du fichier de données\n",
    "\n",
    "Importer d'abord le module `netcdf4` et `numpy`, attention les majuscules sont impératives pour le nom `netCDF4`. ces deux modules permettent de traiter  les fichiers multidimensionnels au format netCDF utilisés dans le monde de la météorologie et de l'océanographie principalement."
   ]
  },
  {
   "cell_type": "code",
   "execution_count": 180,
   "metadata": {},
   "outputs": [],
   "source": [
    "import netCDF4 as nc\n",
    "import numpy as np\n",
    "from datetime import datetime\n",
    "from array import array\n",
    "import sys"
   ]
  },
  {
   "cell_type": "markdown",
   "metadata": {},
   "source": [
    "Importation des données de températures maximales depuis le fichier obtenu auprès du site [DRIAS](https://drias-prod.meteo.fr/okapi/accueil/okapiWebDrias/index.jsp) pour la région lyonnaise et intégration dans un fichier pour le traitement, puis affichage de la description du contenu, de la liste des variables.\n",
    "L'exemple choisi ici a été réalisé avec une grille de 10 x 10 noeuds centrés sur la ville de Lyon, pour obtenir un jeu de données se reporter au manuel numérique réalisé par E. Le Jan et CArole Larose dans le cadre du projet \"Climat et Météo Tremplin pour l'enseignement des sciences\". Les deux affichages proposés permettent de vérifier les propriétés  du fichier obtenu ainsi que les variables qui pourront être utilisées. Ces affichages sont facultatifs et peuvent être commentés sans conséquence pour la suite."
   ]
  },
  {
   "cell_type": "code",
   "execution_count": 181,
   "metadata": {},
   "outputs": [
    {
     "name": "stdout",
     "output_type": "stream",
     "text": [
      "Variables disponibles : odict_keys(['i', 'j', 'lat', 'lon', 'tasmax', 'time', 'x', 'y']) \n",
      "\n"
     ]
    }
   ],
   "source": [
    "tMaxLyon = nc.Dataset('/home/vidal/TremplinDesSciences/2019/ClimatLyon/tasmax_metro_CNRM_Aladin_rcp2.6_QT_RCP2.6_20060101-21001231.nc')\n",
    "#print('Description des données issues du modèle : \\n',tMaxLyon,'\\n') \n",
    "print('Variables disponibles :',tMaxLyon.variables.keys(),'\\n') # get all variable names"
   ]
  },
  {
   "cell_type": "markdown",
   "metadata": {},
   "source": [
    "## Liste des dimensions du système de données\n",
    "\n",
    "À partir de la liste des variables obtenue ci-dessus on renomme les jeux de données de chacune des variables qui seront exploitées apour effectuer les calculs et contrôle de la taille des échantillons. Les affichages proposés permettent de contrôler que les paramètres présents sont effectivement ceux qui sont attendus."
   ]
  },
  {
   "cell_type": "code",
   "execution_count": 184,
   "metadata": {},
   "outputs": [
    {
     "name": "stdout",
     "output_type": "stream",
     "text": [
      "Variables \t  Forme \t\t Taille \t type :  \n",
      "\n",
      "i \t\t ('i',) \t\t (10,) \t float64\n",
      "j \t\t ('j',) \t\t (10,) \t float64\n",
      "lat \t\t ('j', 'i') \t\t (10, 10) \t float32\n",
      "lon \t\t ('j', 'i') \t\t (10, 10) \t float32\n",
      "tasmax \t\t ('time', 'j', 'i') \t\t (34698, 10, 10) \t float32\n",
      "time \t\t ('time',) \t\t (34698,) \t float64\n",
      "x \t\t ('i',) \t\t (10,) \t int32\n",
      "y \t\t ('j',) \t\t (10,) \t int32\n"
     ]
    }
   ],
   "source": [
    "#for dim in tMaxLyon.dimensions.items():\n",
    "#    print(dim[1])\n",
    "lyon_temp = tMaxLyon.variables['tasmax']  # variable temperature \n",
    "lyon_date = tMaxLyon.variables['time']  # variable temps\n",
    "lyon_lat,lyon_lon = tMaxLyon.variables['lat'], tMaxLyon.variables['lon']  # latitude longitude\n",
    "lyon_x,lyon_y = tMaxLyon.variables['x'], tMaxLyon.variables['y']  # coordonnées métriques\n",
    "lyon_gridi,lyon_gridj = tMaxLyon.variables['i'], tMaxLyon.variables['j'] # coordonnées grille Aladin\n",
    "print ('Variables \\t  Forme \\t\\t Taille \\t type :  \\n')\n",
    "for var in tMaxLyon.variables.keys() :\n",
    "    print (var, '\\t\\t', tMaxLyon.variables[var].dimensions, '\\t\\t', \n",
    "           tMaxLyon.variables[var].shape, '\\t', tMaxLyon.variables[var].dtype)\n",
    "#print ('\\n Unités : \\n', lyon_temp.units, '\\t', \n",
    "#      lyon_date.units, '\\t',\n",
    "#      lyon_lat.units, '\\t', \n",
    "#      lyon_lon.units, '\\t',\n",
    "#      lyon_x.units, '\\t', \n",
    "#      lyon_y.units, '\\n')\n",
    "#print(lyon_gridi[:])"
   ]
  },
  {
   "cell_type": "markdown",
   "metadata": {},
   "source": [
    "## Construction du jeu de données de sortie des moyennes en fonction de : année mois latitude longitude\n",
    "\n",
    "Création du fichier de sortie au format netCDF où seront stockées les valeurs moyennes calculées pour chaque noeud"
   ]
  },
  {
   "cell_type": "code",
   "execution_count": 185,
   "metadata": {},
   "outputs": [],
   "source": [
    "try: extractLyonYearMonth.close()  # par sécurité vérification qu'un fichier portant ce nom n'est pas déjà ouvert\n",
    "except: pass\n",
    "extractLyonTempYearMonth = nc.Dataset('tsmaxLyon-1.nc',mode='w',format='NETCDF4') "
   ]
  },
  {
   "cell_type": "markdown",
   "metadata": {},
   "source": [
    "Définition et affectation des variables où sont copiées les données conservées et où seront stockés les résultats des calculs. (La syntaxe du fichier netCDF reste à  vérifier). Les années seront calculées pendant le calcul principal, les affichages permettent de vérifier la validité des données utilisées."
   ]
  },
  {
   "cell_type": "code",
   "execution_count": 186,
   "metadata": {},
   "outputs": [
    {
     "name": "stdout",
     "output_type": "stream",
     "text": [
      "DateTime de départ  de l'étude :  2006 \n",
      "DateTime de fin  de l'étude :  2100 \n",
      "Durée de l'étude :  95 ans\n"
     ]
    }
   ],
   "source": [
    "data = []\n",
    "years = []\n",
    "months = ['Jan', 'Feb', 'Mar', 'Apr', 'May', 'Jun', 'Jul',\n",
    "            'Aug', 'Sep', 'Oct', 'Nov', 'Dec', 'total']\n",
    "lenMonthA =[31,28,31,30,31,30,31,31,30,31,30,31]\n",
    "lenMonthB =[31,29,31,30,31,30,31,31,30,31,30,31]\n",
    "#startDate = date[0] + offset# 0 premier janvier; 90 -> 1er avril ; 212 1er aout\n",
    "offset = 0\n",
    "firstyear = int(nc.num2date(lyon_date[offset],lyon_date.units).strftime(\"%Y\"))\n",
    "lastyear = int(nc.num2date(lyon_date[-1],lyon_date.units).strftime(\"%Y\"))\n",
    "lenmonths = len(months)\n",
    "lenyears = lastyear - firstyear + 1\n",
    "lengridi = lyon_gridi.shape[0]\n",
    "lengridj = lyon_gridj.shape[0]\n",
    "print (\"DateTime de départ  de l'étude : \", firstyear,\n",
    "      \"\\nDateTime de fin  de l'étude : \", lastyear,\n",
    "      \"\\nDurée de l'étude : \", lenyears, 'ans')\n",
    "extractLyonTempYearMonth.createDimension('i', lengridi)     # latitude axis\n",
    "gridi = lyon_gridi\n",
    "extractLyonTempYearMonth.createDimension('j', lengridj)    # longitude axis\n",
    "gridj = lyon_gridj\n",
    "extractLyonTempYearMonth.createDimension('month', lenmonths)    # month axis\n",
    "month = months\n",
    "extractLyonTempYearMonth.createDimension('year', lenyears) # year axis\n",
    "\n",
    "# Define two variables with the same names as dimensions,\n",
    "# a conventional way to define \"coordinate variables\".\n",
    "lat = extractLyonTempYearMonth.createVariable('lat', np.float32, ('j','i'))\n",
    "lat.units = 'degrees_north'\n",
    "lat.long_name = 'latitude'\n",
    "lat = lyon_lat\n",
    "lon = extractLyonTempYearMonth.createVariable('lon', np.float32, ('j','i',))\n",
    "lon.units = 'degrees_east'\n",
    "lon.long_name = 'longitude'\n",
    "lon = lyon_lon\n",
    "month = extractLyonTempYearMonth.createVariable('month', np.uint8, ('month',))\n",
    "month.units = 'number'\n",
    "month.long_name = 'month'\n",
    "year = extractLyonTempYearMonth.createVariable('year', np.uint, ('year',))\n",
    "year.units = 'date'\n",
    "year.long_name = 'year'\n",
    "# Define a 3D variable to hold the data\n",
    "temp = extractLyonTempYearMonth.createVariable('temp',np.float64,('year','month','j','i')) # note: unlimited dimension is leftmost\n",
    "temp.units = '°C' # degrees Kelvin\n",
    "temp.standard_name = 'air_temperature' # this is a CF standard name\n",
    "extractLyonTempYearMonth.title='Extrait TSMax par moyenne mensuelle'\n",
    "#print(gridi[:],gridj[:])\n",
    "#print(gridi.shape,gridj.shape)\n",
    "#print(lat[2,:])"
   ]
  },
  {
   "cell_type": "markdown",
   "metadata": {},
   "source": [
    "## Calcul principal des moyennes par mois pour chaque noeud et toutes les années\n"
   ]
  },
  {
   "cell_type": "code",
   "execution_count": 187,
   "metadata": {},
   "outputs": [],
   "source": [
    "iteri = offset\n",
    "iterj = 0\n",
    "iteriFirst = iteri\n",
    "while iteri  < lyon_temp.shape[0] :      \n",
    "    for iterj in  range(lenyears) :\n",
    "        year[iterj] = (nc.num2date(lyon_date[iteri],lyon_date.units).strftime(\"%Y\"))\n",
    "#    print(nc.num2date(my_date[iteri],my_date.units), iteri, iterj)  # vérification du point de départ\n",
    "        if (iterj % 4 == 2) :\n",
    "            for i in range(len(lenMonthB)) :\n",
    "                iteriLast = iteri+lenMonthB[i]\n",
    "                temp[iterj,i,:,:] = np.mean(lyon_temp[iteri:iteriLast,:,:] - 273,axis=0) # moyenne du mois\n",
    "                iteri = iteriLast\n",
    "        else :\n",
    "            for i in range(len(lenMonthA)) :\n",
    "                iteriLast = iteri+lenMonthA[i]\n",
    "                temp[iterj,i,:,:] = np.mean(lyon_temp[iteri:iteriLast,:,:] - 273,axis=0) # moyenne du mois\n",
    "                iteri = iteriLast\n",
    "        temp[iterj,len(lenMonthA),:,:] = np.mean(lyon_temp[iteriFirst:iteriLast,:,:] - 273,axis=0) # moyenne de l'année\n",
    "        iteriFirst = iteriLast+1\n",
    "#print(iteri)\n",
    "#print('fin du traitement : ', nc.num2date(lyon_date[iteri-2],lyon_date.units)) # vérification de la fin d'année\n",
    "    \n",
    "#years = year[:].tolist()\n",
    "#print ('years : \\n', years)\n"
   ]
  },
  {
   "cell_type": "markdown",
   "metadata": {},
   "source": [
    "Les affichages suivants permettent de vérifier  que les données obtenues correspondent au format attendu"
   ]
  },
  {
   "cell_type": "code",
   "execution_count": 188,
   "metadata": {},
   "outputs": [],
   "source": [
    "#print('température moyenne année 2015 noeud 5 5 : \\n', temp[9,:,5,5])\n",
    "#print(\"température moyenne mois d'avril sur les 95 années noeud 8 4 : \\n\", temp[:,3,8,4])\n",
    "#print(\"température moyenne année 2050 mois d'aout tous les  noeuds : \\n\", temp[45,7,:,:])"
   ]
  },
  {
   "cell_type": "markdown",
   "metadata": {},
   "source": [
    "### Calculs pour UNE SEULE PÉriode de  `yearInterval` années\n",
    "\n",
    "Calcul de la moyenne de températures du mois de `calcMonth` sur `yearInterval` années à partir de l'année `yearBegin` sur les noeuds allant de `(startj,starti)` de taille `(intervalj,intervali)`"
   ]
  },
  {
   "cell_type": "code",
   "execution_count": 189,
   "metadata": {},
   "outputs": [],
   "source": [
    "# Années\n",
    "yearBegin = 2010\n",
    "yearInterval = 30\n",
    "calcMonth = 4\n",
    "#  Grille i j\n",
    "starti = 5\n",
    "intervali = 4\n",
    "startj = 2\n",
    "intervalj = 4\n",
    "# Variables de calcul\n",
    "startYear = yearBegin - 2006\n",
    "endYear = startYear + yearInterval\n",
    "endi = starti + intervali\n",
    "endj = startj + intervalj\n",
    "loc_i = 2\n",
    "loc_j = 3\n",
    "locLon = lon[loc_j,loc_i]\n",
    "locLat = lat[loc_j,loc_i]\n",
    "locMonth = months[calcMonth]\n",
    "\n",
    "                          \n",
    "if not  (startYear >= 0) and (endYear <= lenyears) :\n",
    "    print('starting year or finishing year out of bounds')\n",
    "    sys.exit('giving up on year bounds')\n",
    "#print(gridj[loc_j])\n",
    "#print(gridi[loc_i])\n",
    "#print(locLon)\n",
    "#print(locLat)\n",
    "#print(locMonth)\n",
    "#print(startYear,':',endYear,',',calcMonth,',',startj,':',endj,',',starti,':',endi)\n",
    "#print(temp.shape)\n",
    "#print(np.mean(temp[startYear:endYear,calcMonth,startj:endj,starti:endi]))\n",
    "\n",
    "    "
   ]
  },
  {
   "cell_type": "markdown",
   "metadata": {},
   "source": [
    "#### Une valeur pour un mois donné\n",
    "Calcul de la moyenne de températures du mois de `calcMonth` sur `yearInterval` années à partir de l'année `yearBegin` sur les noeuds allant de `(startj,starti)` de taille `(intervalj,intervali)`"
   ]
  },
  {
   "cell_type": "code",
   "execution_count": 190,
   "metadata": {},
   "outputs": [
    {
     "name": "stdout",
     "output_type": "stream",
     "text": [
      "19.8438470184803\n"
     ]
    }
   ],
   "source": [
    "moyAreaInterval = np.mean(temp[startYear:endYear,calcMonth,startj:endj,starti:endi]) \n",
    "print(moyAreaInterval)"
   ]
  },
  {
   "cell_type": "markdown",
   "metadata": {},
   "source": [
    "#### 13 valeurs (une par mois et année)\n",
    "Calcul de la moyenne de températures annuelle et de tous les mois sur `yearInterval` années à partir de l'année `yearBegin` sur les noeuds allant de `(startj,starti)` de taille `(intervalj,intervali)`.  Les douze moyennes mensuelles sont suivies de la moyenne annuelle."
   ]
  },
  {
   "cell_type": "code",
   "execution_count": 191,
   "metadata": {},
   "outputs": [
    {
     "name": "stdout",
     "output_type": "stream",
     "text": [
      "[5.388181164224322, 7.991834558794896, 11.503244266907375, 15.604295363028845, 19.8438470184803, 22.459869209925333, 25.49642684459686, 27.22473424275716, 23.019419968128204, 16.802036740382512, 10.66239970823129, 7.089559948692719, 16.161257968346277]\n"
     ]
    }
   ],
   "source": [
    "moyAreaInterval = [None] * lenmonths\n",
    "moyAreaInterval[:] = np.mean(temp[startYear:endYear,:,startj:endj,starti:endi],axis=(0,2,3)) \n",
    "print(moyAreaInterval)\n",
    "with open('moyMonth.txt', 'w') as file :\n",
    "    for p in range(lenmonths) :\n",
    "        file.write(months[p])\n",
    "        file.write(';')\n",
    "        file.write(str(moyAreaInterval[p]))\n",
    "        file.write('\\n')"
   ]
  },
  {
   "cell_type": "code",
   "execution_count": 194,
   "metadata": {},
   "outputs": [
    {
     "data": {
      "text/html": [
       "        <script type=\"text/javascript\">\n",
       "        window.PlotlyConfig = {MathJaxConfig: 'local'};\n",
       "        if (window.MathJax) {MathJax.Hub.Config({SVG: {font: \"STIX-Web\"}});}\n",
       "        if (typeof require !== 'undefined') {\n",
       "        require.undef(\"plotly\");\n",
       "        requirejs.config({\n",
       "            paths: {\n",
       "                'plotly': ['https://cdn.plot.ly/plotly-latest.min']\n",
       "            }\n",
       "        });\n",
       "        require(['plotly'], function(Plotly) {\n",
       "            window._Plotly = Plotly;\n",
       "        });\n",
       "        }\n",
       "        </script>\n",
       "        "
      ]
     },
     "metadata": {},
     "output_type": "display_data"
    }
   ],
   "source": [
    "import plotly \n",
    "import plotly.graph_objs as go\n",
    "\n",
    "plotly.offline.init_notebook_mode(connected=True)"
   ]
  },
  {
   "cell_type": "code",
   "execution_count": 196,
   "metadata": {},
   "outputs": [
    {
     "data": {
      "application/vnd.plotly.v1+json": {
       "config": {
        "linkText": "Export to plot.ly",
        "plotlyServerURL": "https://plot.ly",
        "responsive": true,
        "showLink": false
       },
       "data": [
        {
         "name": "Avril 2040",
         "type": "scatter",
         "uid": "0cd39fcc-b095-4da4-a12b-d51e75982062",
         "x": [
          "Jan",
          "Feb",
          "Mar",
          "Apr",
          "May",
          "Jun",
          "Jul",
          "Aug",
          "Sep",
          "Oct",
          "Nov",
          "Dec",
          "total"
         ],
         "y": [
          5.388181164224322,
          7.991834558794896,
          11.503244266907375,
          15.604295363028845,
          19.8438470184803,
          22.459869209925333,
          25.49642684459686,
          27.22473424275716,
          23.019419968128204,
          16.802036740382512,
          10.66239970823129,
          7.089559948692719,
          16.161257968346277
         ]
        }
       ],
       "layout": {
        "autosize": true,
        "title": {
         "text": "Température moyenne maximale des mois de l'année horizon 2040"
        },
        "xaxis": {
         "autorange": true,
         "range": [
          -0.7200512491992314,
          12.720051249199232
         ],
         "showline": true,
         "showticklabels": true,
         "ticklen": 5,
         "title": {
          "text": "Mois"
         },
         "type": "category"
        },
        "yaxis": {
         "autorange": true,
         "range": [
          3.586135521821126,
          29.02677988516036
         ],
         "showline": true,
         "showticklabels": true,
         "title": {
          "text": "Temperature (degrees Celsius)"
         },
         "type": "linear"
        }
       }
      },
      "image/png": "[encoded data removed]",
      "text/html": [
       "<div>\n",
       "        \n",
       "        \n",
       "            <div id=\"91ca4a16-da45-4ef3-b228-45fdafd13b13\" class=\"plotly-graph-div\" style=\"height:525px; width:100%;\"></div>\n",
       "            <script type=\"text/javascript\">\n",
       "                require([\"plotly\"], function(Plotly) {\n",
       "                    window.PLOTLYENV=window.PLOTLYENV || {};\n",
       "                    window.PLOTLYENV.BASE_URL='https://plot.ly';\n",
       "                    \n",
       "                if (document.getElementById(\"91ca4a16-da45-4ef3-b228-45fdafd13b13\")) {\n",
       "                    Plotly.newPlot(\n",
       "                        '91ca4a16-da45-4ef3-b228-45fdafd13b13',\n",
       "                        [{\"name\": \"Avril 2040\", \"type\": \"scatter\", \"uid\": \"4dfbb2bd-e7d6-4bf0-9bce-7e08bbe1f5ab\", \"x\": [\"Jan\", \"Feb\", \"Mar\", \"Apr\", \"May\", \"Jun\", \"Jul\", \"Aug\", \"Sep\", \"Oct\", \"Nov\", \"Dec\", \"total\"], \"y\": [5.388181164224322, 7.991834558794896, 11.503244266907375, 15.604295363028845, 19.8438470184803, 22.459869209925333, 25.49642684459686, 27.22473424275716, 23.019419968128204, 16.802036740382512, 10.66239970823129, 7.089559948692719, 16.161257968346277]}],\n",
       "                        {\"title\": {\"text\": \"Temp\\u00e9rature moyenne maximale des mois de l'ann\\u00e9e horizon 2040\"}, \"xaxis\": {\"showline\": true, \"showticklabels\": true, \"ticklen\": 5, \"title\": {\"text\": \"Mois\"}}, \"yaxis\": {\"showline\": true, \"showticklabels\": true, \"title\": {\"text\": \"Temperature (degrees Celsius)\"}}},\n",
       "                        {\"showLink\": false, \"linkText\": \"Export to plot.ly\", \"plotlyServerURL\": \"https://plot.ly\", \"responsive\": true}\n",
       "                    ).then(function(){\n",
       "                            \n",
       "var gd = document.getElementById('91ca4a16-da45-4ef3-b228-45fdafd13b13');\n",
       "var x = new MutationObserver(function (mutations, observer) {{\n",
       "        var display = window.getComputedStyle(gd).display;\n",
       "        if (!display || display === 'none') {{\n",
       "            console.log([gd, 'removed!']);\n",
       "            Plotly.purge(gd);\n",
       "            observer.disconnect();\n",
       "        }}\n",
       "}});\n",
       "\n",
       "// Listen for the removal of the full notebook cells\n",
       "var notebookContainer = gd.closest('#notebook-container');\n",
       "if (notebookContainer) {{\n",
       "    x.observe(notebookContainer, {childList: true});\n",
       "}}\n",
       "\n",
       "// Listen for the clearing of the current output cell\n",
       "var outputEl = gd.closest('.output');\n",
       "if (outputEl) {{\n",
       "    x.observe(outputEl, {childList: true});\n",
       "}}\n",
       "\n",
       "                        })\n",
       "                };\n",
       "                });\n",
       "            </script>\n",
       "        </div>"
      ]
     },
     "metadata": {},
     "output_type": "display_data"
    }
   ],
   "source": [
    "trace0 = go.Scatter(\n",
    "    x = months[:],\n",
    "    y = moyAreaInterval[:],\n",
    "    name ='Avril 2040'\n",
    ")\n",
    "\n",
    "data = [trace0]\n",
    "\n",
    "layout = dict (\n",
    "           title = \"Température moyenne maximale des mois de l'année horizon 2040\",\n",
    "           xaxis = dict(\n",
    "                 title = 'Mois',\n",
    "                 showline=True,\n",
    "                 showticklabels=True,\n",
    "                 ticklen=5\n",
    "             ),\n",
    "             yaxis = dict(\n",
    "                 title = 'Temperature (degrees Celsius)',\n",
    "                 showline=True,\n",
    "                 showticklabels=True\n",
    "             ),         \n",
    ")\n",
    "\n",
    "\n",
    "fig = dict(data=data, layout=layout)\n",
    "\n",
    "plotly.offline.iplot(fig, filename='basic-line')"
   ]
  },
  {
   "cell_type": "markdown",
   "metadata": {},
   "source": [
    "#### n X n valeurs pour n² noeuds  pour 12 mois et année\n",
    "Calcul de la moyenne de températures annuelle et de tous les mois sur `yearInterval` années à partir de l'année `yearBegin` sur chaque noeud allant de `(startj,starti)` de taille `(intervalj,intervali)`.  Les douze moyennes mensuelles sont suivies de la moyenne annuelle."
   ]
  },
  {
   "cell_type": "code",
   "execution_count": 197,
   "metadata": {},
   "outputs": [
    {
     "name": "stdout",
     "output_type": "stream",
     "text": [
      "(13, 4, 4)\n"
     ]
    }
   ],
   "source": [
    "moyAreaInterval = np.zeros((lenmonths,intervalj,intervali))\n",
    "moyAreaInterval[:] = np.mean(temp[startYear:endYear,:,startj:endj,starti:endi],axis=(0)) \n",
    "print(moyAreaInterval.shape)\n",
    "#print(moyAreaInterval[:,0,0])\n",
    "nbnoeuds = intervalj *intervali\n",
    "data = [] * nbnoeuds\n",
    "trace = [] * nbnoeuds"
   ]
  },
  {
   "cell_type": "code",
   "execution_count": 198,
   "metadata": {},
   "outputs": [
    {
     "data": {
      "application/vnd.plotly.v1+json": {
       "config": {
        "linkText": "Export to plot.ly",
        "plotlyServerURL": "https://plot.ly",
        "responsive": true,
        "showLink": false
       },
       "data": [
        {
         "name": "Année 2040 noeud : (0,0)",
         "type": "scatter",
         "uid": "588a724a-6daf-407d-b0ad-c92e43d985bc",
         "x": [
          "Jan",
          "Feb",
          "Mar",
          "Apr",
          "May",
          "Jun",
          "Jul",
          "Aug",
          "Sep",
          "Oct",
          "Nov",
          "Dec"
         ],
         "y": [
          5.409324691692988,
          7.905837877591451,
          11.595725027720134,
          15.764538129170736,
          20.101641591389974,
          22.501964886983234,
          25.61218287150065,
          27.268286514282227,
          23.124756622314454,
          16.87292391459147,
          10.757358900705974,
          7.0710704267025,
          16.237645785013836
         ]
        },
        {
         "name": "Année 2040 noeud : (0,1)",
         "type": "scatter",
         "uid": "74442f43-2be7-426c-9861-4d3581b9f742",
         "x": [
          "Jan",
          "Feb",
          "Mar",
          "Apr",
          "May",
          "Jun",
          "Jul",
          "Aug",
          "Sep",
          "Oct",
          "Nov",
          "Dec"
         ],
         "y": [
          5.457577723264694,
          7.949062514305115,
          11.64582347869873,
          15.80906613667806,
          20.13907750447591,
          22.551398595174152,
          25.657691319783527,
          27.311003176371255,
          23.164657020568846,
          16.91985664367676,
          10.81014838218689,
          7.115455029408137,
          16.283072916666665
         ]
        },
        {
         "name": "Année 2040 noeud : (0,2)",
         "type": "scatter",
         "uid": "195aebac-7d5c-4e84-bd63-0ea0aefc34f6",
         "x": [
          "Jan",
          "Feb",
          "Mar",
          "Apr",
          "May",
          "Jun",
          "Jul",
          "Aug",
          "Sep",
          "Oct",
          "Nov",
          "Dec"
         ],
         "y": [
          4.994075318674247,
          7.444957947731018,
          11.101769717534383,
          15.260393810272216,
          19.5054638226827,
          22.04951566060384,
          25.056815020243327,
          26.88343334197998,
          22.703017489115396,
          16.5263729095459,
          10.37778507868449,
          6.767279076576233,
          15.794401073455811
         ]
        },
        {
         "name": "Année 2040 noeud : (0,3)",
         "type": "scatter",
         "uid": "3b934c83-7371-4959-8ae4-c98c53597958",
         "x": [
          "Jan",
          "Feb",
          "Mar",
          "Apr",
          "May",
          "Jun",
          "Jul",
          "Aug",
          "Sep",
          "Oct",
          "Nov",
          "Dec"
         ],
         "y": [
          4.537992817163468,
          7.0639134248097735,
          10.33148382504781,
          14.499162101745606,
          18.859349918365478,
          21.382673072814942,
          24.387481625874837,
          26.2693084081014,
          22.12442175547282,
          15.96253563563029,
          9.78277881940206,
          6.3096531450748445,
          15.195765654246012
         ]
        },
        {
         "name": "Année 2040 noeud : (1,0)",
         "type": "scatter",
         "uid": "b17f8905-529e-4005-a0d0-80aa446919ff",
         "x": [
          "Jan",
          "Feb",
          "Mar",
          "Apr",
          "May",
          "Jun",
          "Jul",
          "Aug",
          "Sep",
          "Oct",
          "Nov",
          "Dec"
         ],
         "y": [
          5.645138474305471,
          8.266503167152404,
          11.8692858060201,
          15.988263448079428,
          20.299286333719888,
          22.84364833831787,
          25.874340057373047,
          27.45318660736084,
          23.369045639038085,
          17.155684502919517,
          11.054088560740153,
          7.291542871793111,
          16.497031529744465
         ]
        },
        {
         "name": "Année 2040 noeud : (1,1)",
         "type": "scatter",
         "uid": "ddd6740c-172a-49f8-99ae-6d74ab1456b9",
         "x": [
          "Jan",
          "Feb",
          "Mar",
          "Apr",
          "May",
          "Jun",
          "Jul",
          "Aug",
          "Sep",
          "Oct",
          "Nov",
          "Dec"
         ],
         "y": [
          5.661620624860128,
          8.131012964248658,
          11.855423863728841,
          15.997215684254964,
          20.30687224070231,
          22.761034138997395,
          25.848623593648274,
          27.487220509847006,
          23.331442896525065,
          17.11347678502401,
          11.033597294489542,
          7.300425104300181,
          16.47446937561035
         ]
        },
        {
         "name": "Année 2040 noeud : (1,2)",
         "type": "scatter",
         "uid": "cfb74486-f008-425d-851f-2c47544bf6b8",
         "x": [
          "Jan",
          "Feb",
          "Mar",
          "Apr",
          "May",
          "Jun",
          "Jul",
          "Aug",
          "Sep",
          "Oct",
          "Nov",
          "Dec"
         ],
         "y": [
          5.055650283892949,
          7.510838278134664,
          11.195268122355143,
          15.347943782806396,
          19.588723150889077,
          22.137384605407714,
          25.137016169230144,
          26.95987580617269,
          22.764726638793945,
          16.593116919199627,
          10.448427979151408,
          6.83058610757192,
          15.869347508748373
         ]
        },
        {
         "name": "Année 2040 noeud : (1,3)",
         "type": "scatter",
         "uid": "c8fc9276-c97f-45f8-b68f-74270ea40377",
         "x": [
          "Jan",
          "Feb",
          "Mar",
          "Apr",
          "May",
          "Jun",
          "Jul",
          "Aug",
          "Sep",
          "Oct",
          "Nov",
          "Dec"
         ],
         "y": [
          4.659209155291319,
          7.189892796675364,
          10.523552099863688,
          14.6798659324646,
          19.025352160135906,
          21.56235472361247,
          24.55216865539551,
          26.42460969289144,
          22.258873240152994,
          16.093259398142497,
          9.922055721282959,
          6.4283620317776995,
          15.346634610493977
         ]
        },
        {
         "name": "Année 2040 noeud : (2,0)",
         "type": "scatter",
         "uid": "a19eddec-2a0b-47e0-942f-60e116e2a38b",
         "x": [
          "Jan",
          "Feb",
          "Mar",
          "Apr",
          "May",
          "Jun",
          "Jul",
          "Aug",
          "Sep",
          "Oct",
          "Nov",
          "Dec"
         ],
         "y": [
          5.788875142733256,
          8.565651098887125,
          11.831976668039959,
          15.85779062906901,
          20.190982246398924,
          22.768777338663735,
          25.885336367289224,
          27.572875658671062,
          23.369173304239908,
          16.978605206807455,
          10.886510721842448,
          7.513117055098216,
          16.503736686706542
         ]
        },
        {
         "name": "Année 2040 noeud : (2,1)",
         "type": "scatter",
         "uid": "710ecc3e-9779-4884-907b-a5bea82aa4a5",
         "x": [
          "Jan",
          "Feb",
          "Mar",
          "Apr",
          "May",
          "Jun",
          "Jul",
          "Aug",
          "Sep",
          "Oct",
          "Nov",
          "Dec"
         ],
         "y": [
          5.268800483147303,
          8.036694097518922,
          11.347288703918457,
          15.433685493469238,
          19.803279972076417,
          22.258717918395995,
          25.38291613260905,
          27.075012143452962,
          22.91679712931315,
          16.50233538945516,
          10.387027009328206,
          7.003426057100296,
          16.021311664581297
         ]
        },
        {
         "name": "Année 2040 noeud : (2,2)",
         "type": "scatter",
         "uid": "f3c799ab-6ca5-4338-b079-74352e40b145",
         "x": [
          "Jan",
          "Feb",
          "Mar",
          "Apr",
          "May",
          "Jun",
          "Jul",
          "Aug",
          "Sep",
          "Oct",
          "Nov",
          "Dec"
         ],
         "y": [
          5.335326284170151,
          7.833805640538533,
          11.52361348470052,
          15.666098276774088,
          19.91968193054199,
          22.390622266133626,
          25.518155097961426,
          27.261800448099773,
          23.003091684977214,
          16.811707782745362,
          10.701140197118123,
          7.0483395258585615,
          16.15647029876709
         ]
        },
        {
         "name": "Année 2040 noeud : (2,3)",
         "type": "scatter",
         "uid": "6d12b186-eb63-4ab1-a9df-0d84c7e0917e",
         "x": [
          "Jan",
          "Feb",
          "Mar",
          "Apr",
          "May",
          "Jun",
          "Jul",
          "Aug",
          "Sep",
          "Oct",
          "Nov",
          "Dec"
         ],
         "y": [
          5.659006611506144,
          8.2571320215861,
          11.863211631774902,
          15.91879580815633,
          20.11946220397949,
          22.841694386800132,
          25.719189071655272,
          27.49824727376302,
          23.18210194905599,
          17.162555726369224,
          11.038648700714111,
          7.373153650760651,
          16.4566370010376
         ]
        },
        {
         "name": "Année 2040 noeud : (3,0)",
         "type": "scatter",
         "uid": "8710da5a-3a84-435f-a481-90a2440dfcae",
         "x": [
          "Jan",
          "Feb",
          "Mar",
          "Apr",
          "May",
          "Jun",
          "Jul",
          "Aug",
          "Sep",
          "Oct",
          "Nov",
          "Dec"
         ],
         "y": [
          5.9570382555325825,
          8.749064612388612,
          12.12180716196696,
          16.095496463775635,
          20.02102108001709,
          23.129182306925454,
          26.158708635965983,
          27.77587350209554,
          23.52773049672445,
          17.242735068003338,
          11.038741461435954,
          7.603913879394531,
          16.687580235799153
         ]
        },
        {
         "name": "Année 2040 noeud : (3,1)",
         "type": "scatter",
         "uid": "c13f8d68-060b-4376-aa5f-1f90ee386a13",
         "x": [
          "Jan",
          "Feb",
          "Mar",
          "Apr",
          "May",
          "Jun",
          "Jul",
          "Aug",
          "Sep",
          "Oct",
          "Nov",
          "Dec"
         ],
         "y": [
          5.67545839548111,
          8.488662672042846,
          11.792020161946615,
          15.791645208994547,
          19.74843994776408,
          22.79973462422689,
          25.855935859680176,
          27.495303599039712,
          23.255152702331543,
          16.94324347178141,
          10.72292464574178,
          7.338152174154917,
          16.39453051884969
         ]
        },
        {
         "name": "Année 2040 noeud : (3,2)",
         "type": "scatter",
         "uid": "e4b33b87-7156-4e30-9f13-6536fa93bdcf",
         "x": [
          "Jan",
          "Feb",
          "Mar",
          "Apr",
          "May",
          "Jun",
          "Jul",
          "Aug",
          "Sep",
          "Oct",
          "Nov",
          "Dec"
         ],
         "y": [
          5.412009092171987,
          8.097554739316305,
          11.506876627604166,
          15.5812362353007,
          19.74155502319336,
          22.35196024576823,
          25.469011624654133,
          27.289854367574055,
          22.942551358540854,
          16.649639320373534,
          10.515659554799397,
          7.12628976504008,
          16.12736136118571
         ]
        },
        {
         "name": "Année 2040 noeud : (3,3)",
         "type": "scatter",
         "uid": "e27a38dd-7a8b-44c7-89f1-3724e986feb2",
         "x": [
          "Jan",
          "Feb",
          "Mar",
          "Apr",
          "May",
          "Jun",
          "Jul",
          "Aug",
          "Sep",
          "Oct",
          "Nov",
          "Dec"
         ],
         "y": [
          5.69379527370135,
          8.378769087791444,
          11.946781889597576,
          15.97752866744995,
          20.131363169352213,
          23.027244249979656,
          25.82725741068522,
          27.56985683441162,
          23.273179562886558,
          17.304539171854653,
          11.121502304077149,
          7.312193278471629,
          16.53413127263387
         ]
        }
       ],
       "layout": {
        "autosize": true,
        "title": {
         "text": "Température moyenne maximale des mois de l'année horizon 2040"
        },
        "xaxis": {
         "autorange": true,
         "range": [
          -0.6674035863424219,
          11.667403586342422
         ],
         "showline": true,
         "showticklabels": true,
         "ticklen": 5,
         "title": {
          "text": "Mois"
         },
         "type": "category"
        },
        "yaxis": {
         "autorange": true,
         "range": [
          2.620303634426355,
          29.693562684832653
         ],
         "showline": true,
         "showticklabels": true,
         "title": {
          "text": "Temperature (degrees Celsius)"
         },
         "type": "linear"
        }
       }
      },
      "image/png": "[encoded data removed]",
      "text/html": [
       "<div>\n",
       "        \n",
       "        \n",
       "            <div id=\"2b34ba6c-3300-4a87-8d4f-7d3ed60a41e4\" class=\"plotly-graph-div\" style=\"height:525px; width:100%;\"></div>\n",
       "            <script type=\"text/javascript\">\n",
       "                require([\"plotly\"], function(Plotly) {\n",
       "                    window.PLOTLYENV=window.PLOTLYENV || {};\n",
       "                    window.PLOTLYENV.BASE_URL='https://plot.ly';\n",
       "                    \n",
       "                if (document.getElementById(\"2b34ba6c-3300-4a87-8d4f-7d3ed60a41e4\")) {\n",
       "                    Plotly.newPlot(\n",
       "                        '2b34ba6c-3300-4a87-8d4f-7d3ed60a41e4',\n",
       "                        [{\"name\": \"Ann\\u00e9e 2040 noeud : (0,0)\", \"type\": \"scatter\", \"uid\": \"56c3df4d-c7b2-474e-97dd-ee04490fcbd7\", \"x\": [\"Jan\", \"Feb\", \"Mar\", \"Apr\", \"May\", \"Jun\", \"Jul\", \"Aug\", \"Sep\", \"Oct\", \"Nov\", \"Dec\"], \"y\": [5.409324691692988, 7.905837877591451, 11.595725027720134, 15.764538129170736, 20.101641591389974, 22.501964886983234, 25.61218287150065, 27.268286514282227, 23.124756622314454, 16.87292391459147, 10.757358900705974, 7.0710704267025, 16.237645785013836]}, {\"name\": \"Ann\\u00e9e 2040 noeud : (0,1)\", \"type\": \"scatter\", \"uid\": \"d39a628b-49e4-4641-bd18-cf1c5c7d45a7\", \"x\": [\"Jan\", \"Feb\", \"Mar\", \"Apr\", \"May\", \"Jun\", \"Jul\", \"Aug\", \"Sep\", \"Oct\", \"Nov\", \"Dec\"], \"y\": [5.457577723264694, 7.949062514305115, 11.64582347869873, 15.80906613667806, 20.13907750447591, 22.551398595174152, 25.657691319783527, 27.311003176371255, 23.164657020568846, 16.91985664367676, 10.81014838218689, 7.115455029408137, 16.283072916666665]}, {\"name\": \"Ann\\u00e9e 2040 noeud : (0,2)\", \"type\": \"scatter\", \"uid\": \"a6af8030-b351-415d-9330-5cde09752080\", \"x\": [\"Jan\", \"Feb\", \"Mar\", \"Apr\", \"May\", \"Jun\", \"Jul\", \"Aug\", \"Sep\", \"Oct\", \"Nov\", \"Dec\"], \"y\": [4.994075318674247, 7.444957947731018, 11.101769717534383, 15.260393810272216, 19.5054638226827, 22.04951566060384, 25.056815020243327, 26.88343334197998, 22.703017489115396, 16.5263729095459, 10.37778507868449, 6.767279076576233, 15.794401073455811]}, {\"name\": \"Ann\\u00e9e 2040 noeud : (0,3)\", \"type\": \"scatter\", \"uid\": \"90b6c46c-23a8-4da8-8239-f7d922e57cd6\", \"x\": [\"Jan\", \"Feb\", \"Mar\", \"Apr\", \"May\", \"Jun\", \"Jul\", \"Aug\", \"Sep\", \"Oct\", \"Nov\", \"Dec\"], \"y\": [4.537992817163468, 7.0639134248097735, 10.33148382504781, 14.499162101745606, 18.859349918365478, 21.382673072814942, 24.387481625874837, 26.2693084081014, 22.12442175547282, 15.96253563563029, 9.78277881940206, 6.3096531450748445, 15.195765654246012]}, {\"name\": \"Ann\\u00e9e 2040 noeud : (1,0)\", \"type\": \"scatter\", \"uid\": \"c7a445f2-4f65-4ab0-9454-9e2599011e0b\", \"x\": [\"Jan\", \"Feb\", \"Mar\", \"Apr\", \"May\", \"Jun\", \"Jul\", \"Aug\", \"Sep\", \"Oct\", \"Nov\", \"Dec\"], \"y\": [5.645138474305471, 8.266503167152404, 11.8692858060201, 15.988263448079428, 20.299286333719888, 22.84364833831787, 25.874340057373047, 27.45318660736084, 23.369045639038085, 17.155684502919517, 11.054088560740153, 7.291542871793111, 16.497031529744465]}, {\"name\": \"Ann\\u00e9e 2040 noeud : (1,1)\", \"type\": \"scatter\", \"uid\": \"b910d82a-7851-4fb6-9f7f-6838a4e263ca\", \"x\": [\"Jan\", \"Feb\", \"Mar\", \"Apr\", \"May\", \"Jun\", \"Jul\", \"Aug\", \"Sep\", \"Oct\", \"Nov\", \"Dec\"], \"y\": [5.661620624860128, 8.131012964248658, 11.855423863728841, 15.997215684254964, 20.30687224070231, 22.761034138997395, 25.848623593648274, 27.487220509847006, 23.331442896525065, 17.11347678502401, 11.033597294489542, 7.300425104300181, 16.47446937561035]}, {\"name\": \"Ann\\u00e9e 2040 noeud : (1,2)\", \"type\": \"scatter\", \"uid\": \"da04147a-9e4a-40f1-8538-7ba805ec2178\", \"x\": [\"Jan\", \"Feb\", \"Mar\", \"Apr\", \"May\", \"Jun\", \"Jul\", \"Aug\", \"Sep\", \"Oct\", \"Nov\", \"Dec\"], \"y\": [5.055650283892949, 7.510838278134664, 11.195268122355143, 15.347943782806396, 19.588723150889077, 22.137384605407714, 25.137016169230144, 26.95987580617269, 22.764726638793945, 16.593116919199627, 10.448427979151408, 6.83058610757192, 15.869347508748373]}, {\"name\": \"Ann\\u00e9e 2040 noeud : (1,3)\", \"type\": \"scatter\", \"uid\": \"33990da0-d372-4011-bd0e-6d289e7c336f\", \"x\": [\"Jan\", \"Feb\", \"Mar\", \"Apr\", \"May\", \"Jun\", \"Jul\", \"Aug\", \"Sep\", \"Oct\", \"Nov\", \"Dec\"], \"y\": [4.659209155291319, 7.189892796675364, 10.523552099863688, 14.6798659324646, 19.025352160135906, 21.56235472361247, 24.55216865539551, 26.42460969289144, 22.258873240152994, 16.093259398142497, 9.922055721282959, 6.4283620317776995, 15.346634610493977]}, {\"name\": \"Ann\\u00e9e 2040 noeud : (2,0)\", \"type\": \"scatter\", \"uid\": \"7ac6041a-116c-4cec-8d92-2aeb662ce755\", \"x\": [\"Jan\", \"Feb\", \"Mar\", \"Apr\", \"May\", \"Jun\", \"Jul\", \"Aug\", \"Sep\", \"Oct\", \"Nov\", \"Dec\"], \"y\": [5.788875142733256, 8.565651098887125, 11.831976668039959, 15.85779062906901, 20.190982246398924, 22.768777338663735, 25.885336367289224, 27.572875658671062, 23.369173304239908, 16.978605206807455, 10.886510721842448, 7.513117055098216, 16.503736686706542]}, {\"name\": \"Ann\\u00e9e 2040 noeud : (2,1)\", \"type\": \"scatter\", \"uid\": \"e1c9d717-d0ea-42e8-afc8-d4194f9047c8\", \"x\": [\"Jan\", \"Feb\", \"Mar\", \"Apr\", \"May\", \"Jun\", \"Jul\", \"Aug\", \"Sep\", \"Oct\", \"Nov\", \"Dec\"], \"y\": [5.268800483147303, 8.036694097518922, 11.347288703918457, 15.433685493469238, 19.803279972076417, 22.258717918395995, 25.38291613260905, 27.075012143452962, 22.91679712931315, 16.50233538945516, 10.387027009328206, 7.003426057100296, 16.021311664581297]}, {\"name\": \"Ann\\u00e9e 2040 noeud : (2,2)\", \"type\": \"scatter\", \"uid\": \"197d3247-09e3-405d-ae7a-4464cc6caae1\", \"x\": [\"Jan\", \"Feb\", \"Mar\", \"Apr\", \"May\", \"Jun\", \"Jul\", \"Aug\", \"Sep\", \"Oct\", \"Nov\", \"Dec\"], \"y\": [5.335326284170151, 7.833805640538533, 11.52361348470052, 15.666098276774088, 19.91968193054199, 22.390622266133626, 25.518155097961426, 27.261800448099773, 23.003091684977214, 16.811707782745362, 10.701140197118123, 7.0483395258585615, 16.15647029876709]}, {\"name\": \"Ann\\u00e9e 2040 noeud : (2,3)\", \"type\": \"scatter\", \"uid\": \"2a0025b1-9965-4797-8bc9-5d5e2dd11821\", \"x\": [\"Jan\", \"Feb\", \"Mar\", \"Apr\", \"May\", \"Jun\", \"Jul\", \"Aug\", \"Sep\", \"Oct\", \"Nov\", \"Dec\"], \"y\": [5.659006611506144, 8.2571320215861, 11.863211631774902, 15.91879580815633, 20.11946220397949, 22.841694386800132, 25.719189071655272, 27.49824727376302, 23.18210194905599, 17.162555726369224, 11.038648700714111, 7.373153650760651, 16.4566370010376]}, {\"name\": \"Ann\\u00e9e 2040 noeud : (3,0)\", \"type\": \"scatter\", \"uid\": \"fe58b77a-cc49-492f-aa16-c6d2885180aa\", \"x\": [\"Jan\", \"Feb\", \"Mar\", \"Apr\", \"May\", \"Jun\", \"Jul\", \"Aug\", \"Sep\", \"Oct\", \"Nov\", \"Dec\"], \"y\": [5.9570382555325825, 8.749064612388612, 12.12180716196696, 16.095496463775635, 20.02102108001709, 23.129182306925454, 26.158708635965983, 27.77587350209554, 23.52773049672445, 17.242735068003338, 11.038741461435954, 7.603913879394531, 16.687580235799153]}, {\"name\": \"Ann\\u00e9e 2040 noeud : (3,1)\", \"type\": \"scatter\", \"uid\": \"54bd79f0-fc04-46d3-8520-13f6c2be8aad\", \"x\": [\"Jan\", \"Feb\", \"Mar\", \"Apr\", \"May\", \"Jun\", \"Jul\", \"Aug\", \"Sep\", \"Oct\", \"Nov\", \"Dec\"], \"y\": [5.67545839548111, 8.488662672042846, 11.792020161946615, 15.791645208994547, 19.74843994776408, 22.79973462422689, 25.855935859680176, 27.495303599039712, 23.255152702331543, 16.94324347178141, 10.72292464574178, 7.338152174154917, 16.39453051884969]}, {\"name\": \"Ann\\u00e9e 2040 noeud : (3,2)\", \"type\": \"scatter\", \"uid\": \"71e5efa5-1f68-4837-a0a2-e0143851ab55\", \"x\": [\"Jan\", \"Feb\", \"Mar\", \"Apr\", \"May\", \"Jun\", \"Jul\", \"Aug\", \"Sep\", \"Oct\", \"Nov\", \"Dec\"], \"y\": [5.412009092171987, 8.097554739316305, 11.506876627604166, 15.5812362353007, 19.74155502319336, 22.35196024576823, 25.469011624654133, 27.289854367574055, 22.942551358540854, 16.649639320373534, 10.515659554799397, 7.12628976504008, 16.12736136118571]}, {\"name\": \"Ann\\u00e9e 2040 noeud : (3,3)\", \"type\": \"scatter\", \"uid\": \"c59baf88-eb20-4a94-bc75-c8306821bafa\", \"x\": [\"Jan\", \"Feb\", \"Mar\", \"Apr\", \"May\", \"Jun\", \"Jul\", \"Aug\", \"Sep\", \"Oct\", \"Nov\", \"Dec\"], \"y\": [5.69379527370135, 8.378769087791444, 11.946781889597576, 15.97752866744995, 20.131363169352213, 23.027244249979656, 25.82725741068522, 27.56985683441162, 23.273179562886558, 17.304539171854653, 11.121502304077149, 7.312193278471629, 16.53413127263387]}],\n",
       "                        {\"title\": {\"text\": \"Temp\\u00e9rature moyenne maximale des mois de l'ann\\u00e9e horizon 2040\"}, \"xaxis\": {\"showline\": true, \"showticklabels\": true, \"ticklen\": 5, \"title\": {\"text\": \"Mois\"}}, \"yaxis\": {\"showline\": true, \"showticklabels\": true, \"title\": {\"text\": \"Temperature (degrees Celsius)\"}}},\n",
       "                        {\"showLink\": false, \"linkText\": \"Export to plot.ly\", \"plotlyServerURL\": \"https://plot.ly\", \"responsive\": true}\n",
       "                    ).then(function(){\n",
       "                            \n",
       "var gd = document.getElementById('2b34ba6c-3300-4a87-8d4f-7d3ed60a41e4');\n",
       "var x = new MutationObserver(function (mutations, observer) {{\n",
       "        var display = window.getComputedStyle(gd).display;\n",
       "        if (!display || display === 'none') {{\n",
       "            console.log([gd, 'removed!']);\n",
       "            Plotly.purge(gd);\n",
       "            observer.disconnect();\n",
       "        }}\n",
       "}});\n",
       "\n",
       "// Listen for the removal of the full notebook cells\n",
       "var notebookContainer = gd.closest('#notebook-container');\n",
       "if (notebookContainer) {{\n",
       "    x.observe(notebookContainer, {childList: true});\n",
       "}}\n",
       "\n",
       "// Listen for the clearing of the current output cell\n",
       "var outputEl = gd.closest('.output');\n",
       "if (outputEl) {{\n",
       "    x.observe(outputEl, {childList: true});\n",
       "}}\n",
       "\n",
       "                        })\n",
       "                };\n",
       "                });\n",
       "            </script>\n",
       "        </div>"
      ]
     },
     "metadata": {},
     "output_type": "display_data"
    }
   ],
   "source": [
    "for p in range(intervalj) :\n",
    "    for q in range(intervali) :\n",
    "        order = p * intervalj + q\n",
    "        trace = go.Scatter(\n",
    "            x = months[0:12],\n",
    "            y = moyAreaInterval[:,p,q],\n",
    "            name ='Année 2040 noeud : (%s'%(str(p)+','+str(q)+')')\n",
    "        )\n",
    "        data.append(trace)\n",
    "\n",
    "layout = dict (\n",
    "           title = \"Température moyenne maximale des mois de l'année horizon 2040\",\n",
    "           xaxis = dict(\n",
    "                 title = 'Mois',\n",
    "                 showline=True,\n",
    "                 showticklabels=True,\n",
    "                 ticklen=5\n",
    "             ),\n",
    "             yaxis = dict(\n",
    "                 title = 'Temperature (degrees Celsius)',\n",
    "                 showline=True,\n",
    "                 showticklabels=True\n",
    "             ),         \n",
    ")\n",
    "\n",
    "\n",
    "fig = dict(data=data, layout=layout)\n",
    "\n",
    "plotly.offline.iplot(fig, filename='basic-line')\n"
   ]
  },
  {
   "cell_type": "markdown",
   "metadata": {},
   "source": [
    "### Calculs pour UNE SÉRIE DE  PÉRIODES de  `yearInterval` années\n",
    "\n",
    "Calcul de la moyenne de températures des mois de `calcMonth` (il peut y en avoir un seul ou un choix), sur `yearInterval` années à partir de l'année `yearBegin` jusqu'à l'année `yearBegin + yearPeriod` sur les noeuds à partir de `(startj,starti)` de taille `(intervalj,intervali)`. La valeur touvée est affectée à la dernière année de la plage de calcul."
   ]
  },
  {
   "cell_type": "code",
   "execution_count": 199,
   "metadata": {},
   "outputs": [],
   "source": [
    "# ASéquence d'années pendant lesquelles les calculs sont effectués\n",
    "yearBegin = 2010\n",
    "yearInterval = 30\n",
    "yearPeriod = 40\n",
    "calcMonth = [4,5,6,7,8,9]\n",
    "lencalcMonths = len(calcMonth)\n",
    "#  Grille i j\n",
    "starti = 5\n",
    "intervali = 4\n",
    "startj = 2\n",
    "intervalj = 4\n",
    "# Variables de calcul\n",
    "startYear = yearBegin - 2006\n",
    "endYear = startYear + yearInterval\n",
    "#print(yearPeriodInterval)\n",
    "endi = starti + intervali\n",
    "endj = startj + intervalj\n",
    "loc_i = 2\n",
    "loc_j = 3\n",
    "locLon = lon[loc_j,loc_i]\n",
    "locLat = lat[loc_j,loc_i]\n",
    "\n",
    "                          \n",
    "if not  (startYear >= 0) and (endYear <= lenyears) :\n",
    "    print('starting year or finishing year out of bounds')\n",
    "    sys.exit('giving up on year bounds')\n",
    "#print(gridj[loc_j])\n",
    "#print(gridi[loc_i])\n",
    "#print(locLon)\n",
    "#print(locLat)\n",
    "#print(locMonth)\n",
    "#print(startYear,':',endYear,',',calcMonth,',',startj,':',endj,',',starti,':',endi)\n",
    "#print(temp.shape)\n",
    "#print(np.mean(temp[startYear:endYear,calcMonth,startj:endj,starti:endi]))\n",
    "\n",
    "    "
   ]
  },
  {
   "cell_type": "markdown",
   "metadata": {},
   "source": [
    "### Calcul pour n mois sur p périodes de q années pour la zone\n",
    "\n",
    "Calcul de la moyenne des températures mensuelles sur `yearInterval` ans pendant une période de `yearPeriod` années successives pour une sélection de `calcMonth`  mois."
   ]
  },
  {
   "cell_type": "code",
   "execution_count": 200,
   "metadata": {},
   "outputs": [],
   "source": [
    "moyAreaInterval = np.zeros((lencalcMonths,yearPeriod))\n",
    "for p in range(yearPeriod) :\n",
    "    a = startYear + p\n",
    "    b = endYear + p    \n",
    "    moyAreaInterval[:,p] = np.mean(temp[a:b,calcMonth,startj:endj,starti:endi],axis=(0,2,3)) \n",
    "#print(moyAreaInterval)\n",
    "firstPlotYear = startYear + yearInterval\n",
    "lastPlotYear = firstPlotYear + yearPeriod\n",
    "data = [] * lencalcMonths\n",
    "trace = [] * lencalcMonths"
   ]
  },
  {
   "cell_type": "markdown",
   "metadata": {},
   "source": [
    "Le diagramme ci-dessous  représente l'évolution sur `yearPeriod` années de la température dans la région Lyonnaise."
   ]
  },
  {
   "cell_type": "code",
   "execution_count": 201,
   "metadata": {},
   "outputs": [
    {
     "data": {
      "application/vnd.plotly.v1+json": {
       "config": {
        "linkText": "Export to plot.ly",
        "plotlyServerURL": "https://plot.ly",
        "responsive": true,
        "showLink": false
       },
       "data": [
        {
         "name": "Moyenne du mois May",
         "type": "scatter",
         "uid": "e53cba9f-1650-4e84-ba48-3171f109e644",
         "x": [
          2040,
          2041,
          2042,
          2043,
          2044,
          2045,
          2046,
          2047,
          2048,
          2049,
          2050,
          2051,
          2052,
          2053,
          2054,
          2055,
          2056,
          2057,
          2058,
          2059,
          2060,
          2061,
          2062,
          2063,
          2064,
          2065,
          2066,
          2067,
          2068,
          2069,
          2070,
          2071,
          2072,
          2073,
          2074,
          2075,
          2076,
          2077,
          2078,
          2079
         ],
         "y": [
          19.8438470184803,
          19.69021445711454,
          19.716084549824398,
          19.758238989114762,
          19.92029496630033,
          19.891588614384332,
          19.974656114975613,
          20.113236127297082,
          20.192899610598882,
          20.333269109328587,
          20.46131666501363,
          20.39295268456141,
          20.362901802857717,
          20.336642173926034,
          20.345943335692088,
          20.302388656139374,
          20.28863296111425,
          20.32190891901652,
          20.345237799485524,
          20.53137135108312,
          20.45045325756073,
          20.548949070771535,
          20.64876735607783,
          20.73745798667272,
          20.62256430387497,
          20.677757740020752,
          20.57765521208445,
          20.486217216650644,
          20.42811470826467,
          20.40806075731913,
          20.40174836317698,
          20.544423445065817,
          20.56214346885681,
          20.522033790747326,
          20.510649728775025,
          20.52642405430476,
          20.435752117633818,
          20.36430746714274,
          20.419443968931834,
          20.351478668053947
         ]
        },
        {
         "name": "Moyenne du mois Jun",
         "type": "scatter",
         "uid": "780e6b0b-fcf6-40bf-b357-ceeade186548",
         "x": [
          2040,
          2041,
          2042,
          2043,
          2044,
          2045,
          2046,
          2047,
          2048,
          2049,
          2050,
          2051,
          2052,
          2053,
          2054,
          2055,
          2056,
          2057,
          2058,
          2059,
          2060,
          2061,
          2062,
          2063,
          2064,
          2065,
          2066,
          2067,
          2068,
          2069,
          2070,
          2071,
          2072,
          2073,
          2074,
          2075,
          2076,
          2077,
          2078,
          2079
         ],
         "y": [
          22.459869209925333,
          22.463148136933643,
          22.501205917199453,
          22.57564838329951,
          22.562104459603628,
          22.53969089984894,
          22.66941999991735,
          22.783104689915977,
          22.80511139233907,
          22.96630974213282,
          23.004433651765186,
          22.965246081352234,
          22.93485509554545,
          22.912145054340364,
          22.917769634723662,
          22.8059894323349,
          22.973093442122142,
          22.812681798140208,
          22.795760532220203,
          22.863035651048026,
          22.943533353010814,
          23.072058633963266,
          23.071503221988678,
          23.03134307463964,
          23.008507867654163,
          23.113804829120635,
          23.221215160687766,
          23.2594811240832,
          23.124299387137096,
          23.319657719135286,
          23.51721560160319,
          23.613818987210593,
          23.452965025107066,
          23.394205462932586,
          23.435820106665293,
          23.486954116821288,
          23.37148593266805,
          23.330885835488637,
          23.404173803329467,
          23.265554424126943
         ]
        },
        {
         "name": "Moyenne du mois Jul",
         "type": "scatter",
         "uid": "278e7653-264f-4625-ad4b-ef1a0a7e762a",
         "x": [
          2040,
          2041,
          2042,
          2043,
          2044,
          2045,
          2046,
          2047,
          2048,
          2049,
          2050,
          2051,
          2052,
          2053,
          2054,
          2055,
          2056,
          2057,
          2058,
          2059,
          2060,
          2061,
          2062,
          2063,
          2064,
          2065,
          2066,
          2067,
          2068,
          2069,
          2070,
          2071,
          2072,
          2073,
          2074,
          2075,
          2076,
          2077,
          2078,
          2079
         ],
         "y": [
          25.49642684459686,
          25.552209043502806,
          25.682979094982148,
          25.71270088752111,
          25.69186729590098,
          25.58556026617686,
          25.861418279012046,
          25.77431837717692,
          25.962877702713012,
          26.16074655056,
          26.16350373427073,
          26.150100433826445,
          26.392154359817503,
          26.390467313925424,
          26.41457619667053,
          26.622987739245097,
          26.731206556161244,
          26.542622383435567,
          26.534943147500357,
          26.635092333952585,
          26.709820894400277,
          27.02814854780833,
          27.17266607284546,
          27.235293594996133,
          27.280905032157897,
          27.422315855820973,
          27.304837997754415,
          27.451167090733847,
          27.432875180244444,
          27.579315038522086,
          27.71667895714442,
          27.72280269463857,
          27.604614881674447,
          27.808489549160004,
          27.857074868679046,
          27.839947565396628,
          27.735019743442535,
          27.86488229036331,
          27.911791503429413,
          27.75189522902171
         ]
        },
        {
         "name": "Moyenne du mois Aug",
         "type": "scatter",
         "uid": "62d7e51b-2963-4fed-89e3-e33e7c2ffd01",
         "x": [
          2040,
          2041,
          2042,
          2043,
          2044,
          2045,
          2046,
          2047,
          2048,
          2049,
          2050,
          2051,
          2052,
          2053,
          2054,
          2055,
          2056,
          2057,
          2058,
          2059,
          2060,
          2061,
          2062,
          2063,
          2064,
          2065,
          2066,
          2067,
          2068,
          2069,
          2070,
          2071,
          2072,
          2073,
          2074,
          2075,
          2076,
          2077,
          2078,
          2079
         ],
         "y": [
          27.22473424275716,
          27.221107244491577,
          27.20476766824722,
          27.451917016506194,
          27.54127141634623,
          27.387570802370707,
          27.619983486334483,
          27.654164707660676,
          27.873837272326153,
          28.058332471052804,
          27.9844313065211,
          27.99660677909851,
          28.07045452197393,
          28.02792200644811,
          28.00607574780782,
          28.143708542982736,
          28.243612285455068,
          28.13289543390274,
          28.142218486467996,
          28.22221734523773,
          28.236903210481007,
          28.464855007330577,
          28.594825387001038,
          28.42074443499247,
          28.38925089041392,
          28.59001581668854,
          28.57474967241287,
          28.503303909301756,
          28.397640375296273,
          28.554468460877736,
          28.432793339093525,
          28.496773338317873,
          28.644515705108642,
          28.559322237968445,
          28.620226327578226,
          28.640247706572215,
          28.486467452843986,
          28.534940008322398,
          28.451058105627695,
          28.416472748915353
         ]
        },
        {
         "name": "Moyenne du mois Sep",
         "type": "scatter",
         "uid": "9cf284ed-60d0-4d8f-8466-e316037b2d81",
         "x": [
          2040,
          2041,
          2042,
          2043,
          2044,
          2045,
          2046,
          2047,
          2048,
          2049,
          2050,
          2051,
          2052,
          2053,
          2054,
          2055,
          2056,
          2057,
          2058,
          2059,
          2060,
          2061,
          2062,
          2063,
          2064,
          2065,
          2066,
          2067,
          2068,
          2069,
          2070,
          2071,
          2072,
          2073,
          2074,
          2075,
          2076,
          2077,
          2078,
          2079
         ],
         "y": [
          23.019419968128204,
          23.134350816408794,
          23.052366848786672,
          23.28502691189448,
          23.199296069145202,
          23.171081825097403,
          23.288196976979574,
          23.2559650739034,
          23.27309539715449,
          23.593326358000436,
          23.41044902006785,
          23.46369616985321,
          23.44459430774053,
          23.558469665050506,
          23.62611852089564,
          23.7000217517217,
          23.778200737635295,
          23.787232053279876,
          23.922141806284586,
          24.0296475927035,
          23.916210806369783,
          23.919122151533763,
          23.95158125956853,
          23.871119085947672,
          23.92363206545512,
          23.89102437098821,
          23.850608015060423,
          23.897292319933573,
          23.811142146587372,
          24.036774269739787,
          24.051661944389345,
          23.945268698533376,
          23.98928595383962,
          24.049105083942415,
          24.284898936748505,
          24.35115225315094,
          24.291797681649527,
          24.43589926958084,
          24.229668712615968,
          24.21271678606669
         ]
        },
        {
         "name": "Moyenne du mois Oct",
         "type": "scatter",
         "uid": "fee3c7be-6b43-4a7b-9d9d-b654e2b4244b",
         "x": [
          2040,
          2041,
          2042,
          2043,
          2044,
          2045,
          2046,
          2047,
          2048,
          2049,
          2050,
          2051,
          2052,
          2053,
          2054,
          2055,
          2056,
          2057,
          2058,
          2059,
          2060,
          2061,
          2062,
          2063,
          2064,
          2065,
          2066,
          2067,
          2068,
          2069,
          2070,
          2071,
          2072,
          2073,
          2074,
          2075,
          2076,
          2077,
          2078,
          2079
         ],
         "y": [
          16.802036740382512,
          16.87390243212382,
          16.830016644795737,
          16.98066184918086,
          17.078112788995107,
          16.991810278097788,
          17.07101450562477,
          17.19031339685122,
          17.306528546412785,
          17.382643328110376,
          17.499196100234986,
          17.458425907293954,
          17.55975223382314,
          17.505882350603738,
          17.595460987091066,
          17.516245726744334,
          17.459261711438497,
          17.50158160130183,
          17.584951744476953,
          17.56874635418256,
          17.519500583410263,
          17.633335850636165,
          17.696842656532922,
          17.678432363271714,
          17.642672723531724,
          17.55721157590548,
          17.628053766489028,
          17.62563985188802,
          17.70092167655627,
          17.586431521177293,
          17.576341621081035,
          17.5848753730456,
          17.586689829826355,
          17.587832963466646,
          17.637835160891214,
          17.622768382231396,
          17.55662660598755,
          17.518914218743642,
          17.395668057600655,
          17.260177654027938
         ]
        }
       ],
       "layout": {
        "autosize": true,
        "title": {
         "text": "Température moyenne maximale des mois de l'année moyennées sur 30 ans"
        },
        "xaxis": {
         "autorange": true,
         "range": [
          2040,
          2079
         ],
         "showline": true,
         "showticklabels": true,
         "ticklen": 5,
         "title": {
          "text": "Mois"
         },
         "type": "linear"
        },
        "yaxis": {
         "autorange": true,
         "range": [
          16.144121242342173,
          29.302431203148984
         ],
         "showline": true,
         "showticklabels": true,
         "title": {
          "text": "Temperature (degrees Celsius)"
         },
         "type": "linear"
        }
       }
      },
      "image/png": "[encoded data removed]",
      "text/html": [
       "<div>\n",
       "        \n",
       "        \n",
       "            <div id=\"6f3ecd68-7227-40f5-8ace-07760bc69011\" class=\"plotly-graph-div\" style=\"height:525px; width:100%;\"></div>\n",
       "            <script type=\"text/javascript\">\n",
       "                require([\"plotly\"], function(Plotly) {\n",
       "                    window.PLOTLYENV=window.PLOTLYENV || {};\n",
       "                    window.PLOTLYENV.BASE_URL='https://plot.ly';\n",
       "                    \n",
       "                if (document.getElementById(\"6f3ecd68-7227-40f5-8ace-07760bc69011\")) {\n",
       "                    Plotly.newPlot(\n",
       "                        '6f3ecd68-7227-40f5-8ace-07760bc69011',\n",
       "                        [{\"name\": \"Moyenne du mois May\", \"type\": \"scatter\", \"uid\": \"6cbd4d37-8cd8-439a-8503-dc54b153e7b7\", \"x\": [2040, 2041, 2042, 2043, 2044, 2045, 2046, 2047, 2048, 2049, 2050, 2051, 2052, 2053, 2054, 2055, 2056, 2057, 2058, 2059, 2060, 2061, 2062, 2063, 2064, 2065, 2066, 2067, 2068, 2069, 2070, 2071, 2072, 2073, 2074, 2075, 2076, 2077, 2078, 2079], \"y\": [19.8438470184803, 19.69021445711454, 19.716084549824398, 19.758238989114762, 19.92029496630033, 19.891588614384332, 19.974656114975613, 20.113236127297082, 20.192899610598882, 20.333269109328587, 20.46131666501363, 20.39295268456141, 20.362901802857717, 20.336642173926034, 20.345943335692088, 20.302388656139374, 20.28863296111425, 20.32190891901652, 20.345237799485524, 20.53137135108312, 20.45045325756073, 20.548949070771535, 20.64876735607783, 20.73745798667272, 20.62256430387497, 20.677757740020752, 20.57765521208445, 20.486217216650644, 20.42811470826467, 20.40806075731913, 20.40174836317698, 20.544423445065817, 20.56214346885681, 20.522033790747326, 20.510649728775025, 20.52642405430476, 20.435752117633818, 20.36430746714274, 20.419443968931834, 20.351478668053947]}, {\"name\": \"Moyenne du mois Jun\", \"type\": \"scatter\", \"uid\": \"75d63def-197f-49ef-9b32-3b1d27898215\", \"x\": [2040, 2041, 2042, 2043, 2044, 2045, 2046, 2047, 2048, 2049, 2050, 2051, 2052, 2053, 2054, 2055, 2056, 2057, 2058, 2059, 2060, 2061, 2062, 2063, 2064, 2065, 2066, 2067, 2068, 2069, 2070, 2071, 2072, 2073, 2074, 2075, 2076, 2077, 2078, 2079], \"y\": [22.459869209925333, 22.463148136933643, 22.501205917199453, 22.57564838329951, 22.562104459603628, 22.53969089984894, 22.66941999991735, 22.783104689915977, 22.80511139233907, 22.96630974213282, 23.004433651765186, 22.965246081352234, 22.93485509554545, 22.912145054340364, 22.917769634723662, 22.8059894323349, 22.973093442122142, 22.812681798140208, 22.795760532220203, 22.863035651048026, 22.943533353010814, 23.072058633963266, 23.071503221988678, 23.03134307463964, 23.008507867654163, 23.113804829120635, 23.221215160687766, 23.2594811240832, 23.124299387137096, 23.319657719135286, 23.51721560160319, 23.613818987210593, 23.452965025107066, 23.394205462932586, 23.435820106665293, 23.486954116821288, 23.37148593266805, 23.330885835488637, 23.404173803329467, 23.265554424126943]}, {\"name\": \"Moyenne du mois Jul\", \"type\": \"scatter\", \"uid\": \"4c1596fe-4591-49f3-98d5-4140d3f389bd\", \"x\": [2040, 2041, 2042, 2043, 2044, 2045, 2046, 2047, 2048, 2049, 2050, 2051, 2052, 2053, 2054, 2055, 2056, 2057, 2058, 2059, 2060, 2061, 2062, 2063, 2064, 2065, 2066, 2067, 2068, 2069, 2070, 2071, 2072, 2073, 2074, 2075, 2076, 2077, 2078, 2079], \"y\": [25.49642684459686, 25.552209043502806, 25.682979094982148, 25.71270088752111, 25.69186729590098, 25.58556026617686, 25.861418279012046, 25.77431837717692, 25.962877702713012, 26.16074655056, 26.16350373427073, 26.150100433826445, 26.392154359817503, 26.390467313925424, 26.41457619667053, 26.622987739245097, 26.731206556161244, 26.542622383435567, 26.534943147500357, 26.635092333952585, 26.709820894400277, 27.02814854780833, 27.17266607284546, 27.235293594996133, 27.280905032157897, 27.422315855820973, 27.304837997754415, 27.451167090733847, 27.432875180244444, 27.579315038522086, 27.71667895714442, 27.72280269463857, 27.604614881674447, 27.808489549160004, 27.857074868679046, 27.839947565396628, 27.735019743442535, 27.86488229036331, 27.911791503429413, 27.75189522902171]}, {\"name\": \"Moyenne du mois Aug\", \"type\": \"scatter\", \"uid\": \"dd3cb8b1-3065-4892-9db9-a655f7560e91\", \"x\": [2040, 2041, 2042, 2043, 2044, 2045, 2046, 2047, 2048, 2049, 2050, 2051, 2052, 2053, 2054, 2055, 2056, 2057, 2058, 2059, 2060, 2061, 2062, 2063, 2064, 2065, 2066, 2067, 2068, 2069, 2070, 2071, 2072, 2073, 2074, 2075, 2076, 2077, 2078, 2079], \"y\": [27.22473424275716, 27.221107244491577, 27.20476766824722, 27.451917016506194, 27.54127141634623, 27.387570802370707, 27.619983486334483, 27.654164707660676, 27.873837272326153, 28.058332471052804, 27.9844313065211, 27.99660677909851, 28.07045452197393, 28.02792200644811, 28.00607574780782, 28.143708542982736, 28.243612285455068, 28.13289543390274, 28.142218486467996, 28.22221734523773, 28.236903210481007, 28.464855007330577, 28.594825387001038, 28.42074443499247, 28.38925089041392, 28.59001581668854, 28.57474967241287, 28.503303909301756, 28.397640375296273, 28.554468460877736, 28.432793339093525, 28.496773338317873, 28.644515705108642, 28.559322237968445, 28.620226327578226, 28.640247706572215, 28.486467452843986, 28.534940008322398, 28.451058105627695, 28.416472748915353]}, {\"name\": \"Moyenne du mois Sep\", \"type\": \"scatter\", \"uid\": \"87993196-21be-4954-a361-7abe88d15bc9\", \"x\": [2040, 2041, 2042, 2043, 2044, 2045, 2046, 2047, 2048, 2049, 2050, 2051, 2052, 2053, 2054, 2055, 2056, 2057, 2058, 2059, 2060, 2061, 2062, 2063, 2064, 2065, 2066, 2067, 2068, 2069, 2070, 2071, 2072, 2073, 2074, 2075, 2076, 2077, 2078, 2079], \"y\": [23.019419968128204, 23.134350816408794, 23.052366848786672, 23.28502691189448, 23.199296069145202, 23.171081825097403, 23.288196976979574, 23.2559650739034, 23.27309539715449, 23.593326358000436, 23.41044902006785, 23.46369616985321, 23.44459430774053, 23.558469665050506, 23.62611852089564, 23.7000217517217, 23.778200737635295, 23.787232053279876, 23.922141806284586, 24.0296475927035, 23.916210806369783, 23.919122151533763, 23.95158125956853, 23.871119085947672, 23.92363206545512, 23.89102437098821, 23.850608015060423, 23.897292319933573, 23.811142146587372, 24.036774269739787, 24.051661944389345, 23.945268698533376, 23.98928595383962, 24.049105083942415, 24.284898936748505, 24.35115225315094, 24.291797681649527, 24.43589926958084, 24.229668712615968, 24.21271678606669]}, {\"name\": \"Moyenne du mois Oct\", \"type\": \"scatter\", \"uid\": \"d91e2021-12f6-4251-be1b-9905590aeb77\", \"x\": [2040, 2041, 2042, 2043, 2044, 2045, 2046, 2047, 2048, 2049, 2050, 2051, 2052, 2053, 2054, 2055, 2056, 2057, 2058, 2059, 2060, 2061, 2062, 2063, 2064, 2065, 2066, 2067, 2068, 2069, 2070, 2071, 2072, 2073, 2074, 2075, 2076, 2077, 2078, 2079], \"y\": [16.802036740382512, 16.87390243212382, 16.830016644795737, 16.98066184918086, 17.078112788995107, 16.991810278097788, 17.07101450562477, 17.19031339685122, 17.306528546412785, 17.382643328110376, 17.499196100234986, 17.458425907293954, 17.55975223382314, 17.505882350603738, 17.595460987091066, 17.516245726744334, 17.459261711438497, 17.50158160130183, 17.584951744476953, 17.56874635418256, 17.519500583410263, 17.633335850636165, 17.696842656532922, 17.678432363271714, 17.642672723531724, 17.55721157590548, 17.628053766489028, 17.62563985188802, 17.70092167655627, 17.586431521177293, 17.576341621081035, 17.5848753730456, 17.586689829826355, 17.587832963466646, 17.637835160891214, 17.622768382231396, 17.55662660598755, 17.518914218743642, 17.395668057600655, 17.260177654027938]}],\n",
       "                        {\"title\": {\"text\": \"Temp\\u00e9rature moyenne maximale des mois de l'ann\\u00e9e moyenn\\u00e9es sur 30 ans\"}, \"xaxis\": {\"showline\": true, \"showticklabels\": true, \"ticklen\": 5, \"title\": {\"text\": \"Mois\"}}, \"yaxis\": {\"showline\": true, \"showticklabels\": true, \"title\": {\"text\": \"Temperature (degrees Celsius)\"}}},\n",
       "                        {\"showLink\": false, \"linkText\": \"Export to plot.ly\", \"plotlyServerURL\": \"https://plot.ly\", \"responsive\": true}\n",
       "                    ).then(function(){\n",
       "                            \n",
       "var gd = document.getElementById('6f3ecd68-7227-40f5-8ace-07760bc69011');\n",
       "var x = new MutationObserver(function (mutations, observer) {{\n",
       "        var display = window.getComputedStyle(gd).display;\n",
       "        if (!display || display === 'none') {{\n",
       "            console.log([gd, 'removed!']);\n",
       "            Plotly.purge(gd);\n",
       "            observer.disconnect();\n",
       "        }}\n",
       "}});\n",
       "\n",
       "// Listen for the removal of the full notebook cells\n",
       "var notebookContainer = gd.closest('#notebook-container');\n",
       "if (notebookContainer) {{\n",
       "    x.observe(notebookContainer, {childList: true});\n",
       "}}\n",
       "\n",
       "// Listen for the clearing of the current output cell\n",
       "var outputEl = gd.closest('.output');\n",
       "if (outputEl) {{\n",
       "    x.observe(outputEl, {childList: true});\n",
       "}}\n",
       "\n",
       "                        })\n",
       "                };\n",
       "                });\n",
       "            </script>\n",
       "        </div>"
      ]
     },
     "metadata": {},
     "output_type": "display_data"
    }
   ],
   "source": [
    "for q in range(lencalcMonths) :\n",
    "    trace = go.Scatter(\n",
    "        x = year[firstPlotYear:lastPlotYear],\n",
    "        y = moyAreaInterval[q,:],\n",
    "        name ='Moyenne du mois %s'%months[calcMonth[q]]\n",
    "    )\n",
    "    data.append(trace)\n",
    "\n",
    "layout = dict (\n",
    "           title = \"Température moyenne maximale des mois de l'année moyennées sur 30 ans\",\n",
    "           xaxis = dict(\n",
    "                 title = 'Mois',\n",
    "                 showline=True,\n",
    "                 showticklabels=True,\n",
    "                 ticklen=5\n",
    "             ),\n",
    "             yaxis = dict(\n",
    "                 title = 'Temperature (degrees Celsius)',\n",
    "                 showline=True,\n",
    "                 showticklabels=True\n",
    "             ),         \n",
    ")\n",
    "\n",
    "\n",
    "fig = dict(data=data, layout=layout)\n",
    "\n",
    "plotly.offline.iplot(fig, filename='basic-line')\n"
   ]
  },
  {
   "cell_type": "code",
   "execution_count": null,
   "metadata": {},
   "outputs": [],
   "source": []
  }
 ],
 "metadata": {
  "kernelspec": {
   "display_name": "Python 3",
   "language": "python",
   "name": "python3"
  },
  "language_info": {
   "codemirror_mode": {
    "name": "ipython",
    "version": 3
   },
   "file_extension": ".py",
   "mimetype": "text/x-python",
   "name": "python",
   "nbconvert_exporter": "python",
   "pygments_lexer": "ipython3",
   "version": "3.7.3rc1"
  }
 },
 "nbformat": 4,
 "nbformat_minor": 2
}
